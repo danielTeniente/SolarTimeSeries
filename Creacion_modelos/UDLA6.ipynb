{
  "nbformat": 4,
  "nbformat_minor": 0,
  "metadata": {
    "colab": {
      "name": "UDLA6.ipynb",
      "provenance": [],
      "collapsed_sections": []
    },
    "kernelspec": {
      "name": "python3",
      "display_name": "Python 3"
    },
    "language_info": {
      "name": "python"
    }
  },
  "cells": [
    {
      "cell_type": "markdown",
      "source": [
        "# Modelo Autorregresivo de medias móviles (ARMA)"
      ],
      "metadata": {
        "id": "7FfYPArtefC8"
      }
    },
    {
      "cell_type": "markdown",
      "source": [
        "Repositorio de referencia\n",
        "https://github.com/ecabestadistica/curso-series-temporales/"
      ],
      "metadata": {
        "id": "QjU70ZW0hSlC"
      }
    },
    {
      "cell_type": "markdown",
      "source": [
        "El modelo ARMA se usa como modelo de comparación en el artículo: Hourly global solar irradiation forecasting for New Zealand"
      ],
      "metadata": {
        "id": "VsyQ_E0ATyoC"
      }
    },
    {
      "cell_type": "markdown",
      "source": [
        "Se considera el valor de la variable y del residuo del periodo anterior."
      ],
      "metadata": {
        "id": "0ex2eKgJp0jv"
      }
    },
    {
      "cell_type": "markdown",
      "source": [
        "$x_{t}=c+ϕ_{1} x_{t-1}+θ _{1} ϵ _{t-1}+ϵ_{t}$\n",
        "\n",
        "Donde $ϵ _{t-1}$ es el residuo del período anterior."
      ],
      "metadata": {
        "id": "ZWOxjL-1enw6"
      }
    },
    {
      "cell_type": "markdown",
      "source": [
        "$|θ_{1}|<1$\n",
        "\n",
        "$| ϕ_{1} | < 1$"
      ],
      "metadata": {
        "id": "VDTZVb-dexUj"
      }
    },
    {
      "cell_type": "code",
      "execution_count": null,
      "metadata": {
        "id": "fbX57I9mecsO"
      },
      "outputs": [],
      "source": [
        "import pandas as pd\n",
        "import numpy as np\n",
        "import matplotlib.pyplot as plt\n",
        "import statsmodels.graphics.tsaplots as sgt\n",
        "import statsmodels.tsa.stattools as sts\n",
        "from statsmodels.tsa.arima_model import ARMA\n",
        "from scipy.stats.distributions import chi2 \n",
        "from math import sqrt\n",
        "import seaborn as sns\n",
        "sns.set()"
      ]
    },
    {
      "cell_type": "code",
      "source": [
        "#df2015 = pd.read_csv('./drive/MyDrive/DatosInvestigacion/NoNull2015.csv', index_col=0, parse_dates=True)\n",
        "df2015 = pd.read_csv('./drive/MyDrive/DatosInvestigacion/DayData2015.csv', index_col=0, parse_dates=True)"
      ],
      "metadata": {
        "id": "tmALOdPNfE6I"
      },
      "execution_count": null,
      "outputs": []
    },
    {
      "cell_type": "code",
      "source": [
        "df = pd.DataFrame()\n",
        "df['RSG'] = df2015['SRGLOAVG1H']"
      ],
      "metadata": {
        "id": "VllwRbe_fsMK"
      },
      "execution_count": null,
      "outputs": []
    },
    {
      "cell_type": "code",
      "source": [
        "df"
      ],
      "metadata": {
        "colab": {
          "base_uri": "https://localhost:8080/",
          "height": 455
        },
        "id": "JyvIXDmi83hv",
        "outputId": "2032670f-2e79-4f96-cd73-e1d29ba227e1"
      },
      "execution_count": null,
      "outputs": [
        {
          "output_type": "execute_result",
          "data": {
            "text/html": [
              "<div>\n",
              "<style scoped>\n",
              "    .dataframe tbody tr th:only-of-type {\n",
              "        vertical-align: middle;\n",
              "    }\n",
              "\n",
              "    .dataframe tbody tr th {\n",
              "        vertical-align: top;\n",
              "    }\n",
              "\n",
              "    .dataframe thead th {\n",
              "        text-align: right;\n",
              "    }\n",
              "</style>\n",
              "<table border=\"1\" class=\"dataframe\">\n",
              "  <thead>\n",
              "    <tr style=\"text-align: right;\">\n",
              "      <th></th>\n",
              "      <th>RSG</th>\n",
              "    </tr>\n",
              "    <tr>\n",
              "      <th>Local_Time</th>\n",
              "      <th></th>\n",
              "    </tr>\n",
              "  </thead>\n",
              "  <tbody>\n",
              "    <tr>\n",
              "      <th>2015-01-01 07:00:00</th>\n",
              "      <td>15.0</td>\n",
              "    </tr>\n",
              "    <tr>\n",
              "      <th>2015-01-01 08:00:00</th>\n",
              "      <td>107.0</td>\n",
              "    </tr>\n",
              "    <tr>\n",
              "      <th>2015-01-01 09:00:00</th>\n",
              "      <td>394.0</td>\n",
              "    </tr>\n",
              "    <tr>\n",
              "      <th>2015-01-01 10:00:00</th>\n",
              "      <td>728.0</td>\n",
              "    </tr>\n",
              "    <tr>\n",
              "      <th>2015-01-01 11:00:00</th>\n",
              "      <td>428.0</td>\n",
              "    </tr>\n",
              "    <tr>\n",
              "      <th>...</th>\n",
              "      <td>...</td>\n",
              "    </tr>\n",
              "    <tr>\n",
              "      <th>2015-12-31 14:00:00</th>\n",
              "      <td>472.0</td>\n",
              "    </tr>\n",
              "    <tr>\n",
              "      <th>2015-12-31 15:00:00</th>\n",
              "      <td>396.0</td>\n",
              "    </tr>\n",
              "    <tr>\n",
              "      <th>2015-12-31 16:00:00</th>\n",
              "      <td>419.0</td>\n",
              "    </tr>\n",
              "    <tr>\n",
              "      <th>2015-12-31 17:00:00</th>\n",
              "      <td>208.0</td>\n",
              "    </tr>\n",
              "    <tr>\n",
              "      <th>2015-12-31 18:00:00</th>\n",
              "      <td>180.0</td>\n",
              "    </tr>\n",
              "  </tbody>\n",
              "</table>\n",
              "<p>4380 rows × 1 columns</p>\n",
              "</div>"
            ],
            "text/plain": [
              "                       RSG\n",
              "Local_Time                \n",
              "2015-01-01 07:00:00   15.0\n",
              "2015-01-01 08:00:00  107.0\n",
              "2015-01-01 09:00:00  394.0\n",
              "2015-01-01 10:00:00  728.0\n",
              "2015-01-01 11:00:00  428.0\n",
              "...                    ...\n",
              "2015-12-31 14:00:00  472.0\n",
              "2015-12-31 15:00:00  396.0\n",
              "2015-12-31 16:00:00  419.0\n",
              "2015-12-31 17:00:00  208.0\n",
              "2015-12-31 18:00:00  180.0\n",
              "\n",
              "[4380 rows x 1 columns]"
            ]
          },
          "metadata": {},
          "execution_count": 42
        }
      ]
    },
    {
      "cell_type": "markdown",
      "source": [
        "## LLR Test"
      ],
      "metadata": {
        "id": "mHWdYACtlplx"
      }
    },
    {
      "cell_type": "code",
      "source": [
        "def LLR_test(mod_1, mod_2, DF = 1):\n",
        "    L1 = mod_1.llf\n",
        "    L2 = mod_2.llf\n",
        "    # estadístico\n",
        "    LR = (2*(L2-L1))    \n",
        "    p = chi2.sf(LR, DF).round(3)\n",
        "    return p"
      ],
      "metadata": {
        "id": "sUD7Hxv_lX3h"
      },
      "execution_count": null,
      "outputs": []
    },
    {
      "cell_type": "code",
      "source": [
        "# Ignore harmless warnings\n",
        "import warnings\n",
        "warnings.filterwarnings(\"ignore\")"
      ],
      "metadata": {
        "id": "G5L5UCZclrZl"
      },
      "execution_count": null,
      "outputs": []
    },
    {
      "cell_type": "markdown",
      "source": [
        "## ARMA(1,1)"
      ],
      "metadata": {
        "id": "KLTKSQET-wDX"
      }
    },
    {
      "cell_type": "code",
      "source": [
        "model_arma11 = ARMA(df['RSG'], order=(1,1))\n",
        "results_arma11 = model_arma11.fit()\n",
        "results_arma11.summary()"
      ],
      "metadata": {
        "colab": {
          "base_uri": "https://localhost:8080/",
          "height": 338
        },
        "id": "iDGz7Xje-veP",
        "outputId": "3c988348-3dcb-453a-dba4-b2e01fbcd6aa"
      },
      "execution_count": null,
      "outputs": [
        {
          "output_type": "execute_result",
          "data": {
            "text/html": [
              "<table class=\"simpletable\">\n",
              "<caption>ARMA Model Results</caption>\n",
              "<tr>\n",
              "  <th>Dep. Variable:</th>        <td>RSG</td>       <th>  No. Observations:  </th>    <td>4380</td>   \n",
              "</tr>\n",
              "<tr>\n",
              "  <th>Model:</th>            <td>ARMA(1, 1)</td>    <th>  Log Likelihood     </th> <td>-28582.178</td>\n",
              "</tr>\n",
              "<tr>\n",
              "  <th>Method:</th>             <td>css-mle</td>     <th>  S.D. of innovations</th>   <td>165.102</td> \n",
              "</tr>\n",
              "<tr>\n",
              "  <th>Date:</th>          <td>Mon, 13 Dec 2021</td> <th>  AIC                </th>  <td>57172.356</td>\n",
              "</tr>\n",
              "<tr>\n",
              "  <th>Time:</th>              <td>18:55:59</td>     <th>  BIC                </th>  <td>57197.896</td>\n",
              "</tr>\n",
              "<tr>\n",
              "  <th>Sample:</th>                <td>0</td>        <th>  HQIC               </th>  <td>57181.368</td>\n",
              "</tr>\n",
              "<tr>\n",
              "  <th></th>                       <td> </td>        <th>                     </th>      <td> </td>    \n",
              "</tr>\n",
              "</table>\n",
              "<table class=\"simpletable\">\n",
              "<tr>\n",
              "      <td></td>         <th>coef</th>     <th>std err</th>      <th>z</th>      <th>P>|z|</th>  <th>[0.025</th>    <th>0.975]</th>  \n",
              "</tr>\n",
              "<tr>\n",
              "  <th>const</th>     <td>  344.0496</td> <td>    8.765</td> <td>   39.252</td> <td> 0.000</td> <td>  326.870</td> <td>  361.229</td>\n",
              "</tr>\n",
              "<tr>\n",
              "  <th>ar.L1.RSG</th> <td>    0.6324</td> <td>    0.014</td> <td>   44.217</td> <td> 0.000</td> <td>    0.604</td> <td>    0.660</td>\n",
              "</tr>\n",
              "<tr>\n",
              "  <th>ma.L1.RSG</th> <td>    0.2922</td> <td>    0.016</td> <td>   18.004</td> <td> 0.000</td> <td>    0.260</td> <td>    0.324</td>\n",
              "</tr>\n",
              "</table>\n",
              "<table class=\"simpletable\">\n",
              "<caption>Roots</caption>\n",
              "<tr>\n",
              "    <td></td>   <th>            Real</th>  <th>         Imaginary</th> <th>         Modulus</th>  <th>        Frequency</th>\n",
              "</tr>\n",
              "<tr>\n",
              "  <th>AR.1</th> <td>           1.5813</td> <td>          +0.0000j</td> <td>           1.5813</td> <td>           0.0000</td>\n",
              "</tr>\n",
              "<tr>\n",
              "  <th>MA.1</th> <td>          -3.4226</td> <td>          +0.0000j</td> <td>           3.4226</td> <td>           0.5000</td>\n",
              "</tr>\n",
              "</table>"
            ],
            "text/plain": [
              "<class 'statsmodels.iolib.summary.Summary'>\n",
              "\"\"\"\n",
              "                              ARMA Model Results                              \n",
              "==============================================================================\n",
              "Dep. Variable:                    RSG   No. Observations:                 4380\n",
              "Model:                     ARMA(1, 1)   Log Likelihood              -28582.178\n",
              "Method:                       css-mle   S.D. of innovations            165.102\n",
              "Date:                Mon, 13 Dec 2021   AIC                          57172.356\n",
              "Time:                        18:55:59   BIC                          57197.896\n",
              "Sample:                             0   HQIC                         57181.368\n",
              "                                                                              \n",
              "==============================================================================\n",
              "                 coef    std err          z      P>|z|      [0.025      0.975]\n",
              "------------------------------------------------------------------------------\n",
              "const        344.0496      8.765     39.252      0.000     326.870     361.229\n",
              "ar.L1.RSG      0.6324      0.014     44.217      0.000       0.604       0.660\n",
              "ma.L1.RSG      0.2922      0.016     18.004      0.000       0.260       0.324\n",
              "                                    Roots                                    \n",
              "=============================================================================\n",
              "                  Real          Imaginary           Modulus         Frequency\n",
              "-----------------------------------------------------------------------------\n",
              "AR.1            1.5813           +0.0000j            1.5813            0.0000\n",
              "MA.1           -3.4226           +0.0000j            3.4226            0.5000\n",
              "-----------------------------------------------------------------------------\n",
              "\"\"\""
            ]
          },
          "metadata": {},
          "execution_count": 45
        }
      ]
    },
    {
      "cell_type": "markdown",
      "source": [
        "Los p-valores son 0, así que los coeficientes son significativas."
      ],
      "metadata": {
        "id": "dsboNfOF_ZTG"
      }
    },
    {
      "cell_type": "code",
      "source": [
        "model_ar = ARMA(df['RSG'], order=(1,0))\n",
        "results_ar = model_ar.fit()\n",
        "model_ma = ARMA(df['RSG'], order=(0,1))\n",
        "results_ma = model_ma.fit()\n"
      ],
      "metadata": {
        "id": "LJ2xQ8dy-5X5"
      },
      "execution_count": null,
      "outputs": []
    },
    {
      "cell_type": "markdown",
      "source": [
        "El modelo más complejo obtiene resultados significativamente mejores."
      ],
      "metadata": {
        "id": "aI62bm4nAot9"
      }
    },
    {
      "cell_type": "code",
      "source": [
        "print(\"\\nARMA vs AR \", LLR_test(results_ar, results_arma))\n",
        "print(\"\\nARMA vs MA \", LLR_test(results_ma, results_arma))"
      ],
      "metadata": {
        "colab": {
          "base_uri": "https://localhost:8080/"
        },
        "id": "PQJxBz_sAcYW",
        "outputId": "96765503-665d-4c04-c290-b17514f8fa9f"
      },
      "execution_count": null,
      "outputs": [
        {
          "output_type": "stream",
          "name": "stdout",
          "text": [
            "\n",
            "ARMA vs AR  0.0\n",
            "\n",
            "ARMA vs MA  0.0\n"
          ]
        }
      ]
    },
    {
      "cell_type": "markdown",
      "source": [
        "## ARMA(p,q)"
      ],
      "metadata": {
        "id": "eo3pKgNpA-Gu"
      }
    },
    {
      "cell_type": "code",
      "source": [
        "model_arma23 = ARMA(df['RSG'], order=(2,3)) #articulo"
      ],
      "metadata": {
        "id": "HL-aOw7gA_XW"
      },
      "execution_count": null,
      "outputs": []
    },
    {
      "cell_type": "code",
      "source": [
        "results_arma23 = model_arma23.fit()\n",
        "results_arma23.summary()"
      ],
      "metadata": {
        "colab": {
          "base_uri": "https://localhost:8080/",
          "height": 466
        },
        "id": "pwgV4UOtBfV1",
        "outputId": "ae8b43a9-bbac-45aa-e3d6-916903f37f1d"
      },
      "execution_count": null,
      "outputs": [
        {
          "output_type": "execute_result",
          "data": {
            "text/html": [
              "<table class=\"simpletable\">\n",
              "<caption>ARMA Model Results</caption>\n",
              "<tr>\n",
              "  <th>Dep. Variable:</th>        <td>RSG</td>       <th>  No. Observations:  </th>    <td>4380</td>   \n",
              "</tr>\n",
              "<tr>\n",
              "  <th>Model:</th>            <td>ARMA(2, 3)</td>    <th>  Log Likelihood     </th> <td>-27988.265</td>\n",
              "</tr>\n",
              "<tr>\n",
              "  <th>Method:</th>             <td>css-mle</td>     <th>  S.D. of innovations</th>   <td>144.119</td> \n",
              "</tr>\n",
              "<tr>\n",
              "  <th>Date:</th>          <td>Mon, 13 Dec 2021</td> <th>  AIC                </th>  <td>55990.529</td>\n",
              "</tr>\n",
              "<tr>\n",
              "  <th>Time:</th>              <td>18:56:08</td>     <th>  BIC                </th>  <td>56035.223</td>\n",
              "</tr>\n",
              "<tr>\n",
              "  <th>Sample:</th>                <td>0</td>        <th>  HQIC               </th>  <td>56006.299</td>\n",
              "</tr>\n",
              "<tr>\n",
              "  <th></th>                       <td> </td>        <th>                     </th>      <td> </td>    \n",
              "</tr>\n",
              "</table>\n",
              "<table class=\"simpletable\">\n",
              "<tr>\n",
              "      <td></td>         <th>coef</th>     <th>std err</th>      <th>z</th>      <th>P>|z|</th>  <th>[0.025</th>    <th>0.975]</th>  \n",
              "</tr>\n",
              "<tr>\n",
              "  <th>const</th>     <td>  344.2764</td> <td>    3.608</td> <td>   95.429</td> <td> 0.000</td> <td>  337.206</td> <td>  351.347</td>\n",
              "</tr>\n",
              "<tr>\n",
              "  <th>ar.L1.RSG</th> <td>    1.7256</td> <td>    0.002</td> <td>  841.070</td> <td> 0.000</td> <td>    1.722</td> <td>    1.730</td>\n",
              "</tr>\n",
              "<tr>\n",
              "  <th>ar.L2.RSG</th> <td>   -0.9931</td> <td>    0.002</td> <td> -485.100</td> <td> 0.000</td> <td>   -0.997</td> <td>   -0.989</td>\n",
              "</tr>\n",
              "<tr>\n",
              "  <th>ma.L1.RSG</th> <td>   -1.1112</td> <td>    0.013</td> <td>  -85.009</td> <td> 0.000</td> <td>   -1.137</td> <td>   -1.086</td>\n",
              "</tr>\n",
              "<tr>\n",
              "  <th>ma.L2.RSG</th> <td>    0.0836</td> <td>    0.019</td> <td>    4.414</td> <td> 0.000</td> <td>    0.046</td> <td>    0.121</td>\n",
              "</tr>\n",
              "<tr>\n",
              "  <th>ma.L3.RSG</th> <td>    0.4707</td> <td>    0.012</td> <td>   37.758</td> <td> 0.000</td> <td>    0.446</td> <td>    0.495</td>\n",
              "</tr>\n",
              "</table>\n",
              "<table class=\"simpletable\">\n",
              "<caption>Roots</caption>\n",
              "<tr>\n",
              "    <td></td>   <th>            Real</th>  <th>         Imaginary</th> <th>         Modulus</th>  <th>        Frequency</th>\n",
              "</tr>\n",
              "<tr>\n",
              "  <th>AR.1</th> <td>           0.8688</td> <td>          -0.5021j</td> <td>           1.0035</td> <td>          -0.0834</td>\n",
              "</tr>\n",
              "<tr>\n",
              "  <th>AR.2</th> <td>           0.8688</td> <td>          +0.5021j</td> <td>           1.0035</td> <td>           0.0834</td>\n",
              "</tr>\n",
              "<tr>\n",
              "  <th>MA.1</th> <td>           0.8855</td> <td>          -0.5533j</td> <td>           1.0441</td> <td>          -0.0889</td>\n",
              "</tr>\n",
              "<tr>\n",
              "  <th>MA.2</th> <td>           0.8855</td> <td>          +0.5533j</td> <td>           1.0441</td> <td>           0.0889</td>\n",
              "</tr>\n",
              "<tr>\n",
              "  <th>MA.3</th> <td>          -1.9485</td> <td>          -0.0000j</td> <td>           1.9485</td> <td>          -0.5000</td>\n",
              "</tr>\n",
              "</table>"
            ],
            "text/plain": [
              "<class 'statsmodels.iolib.summary.Summary'>\n",
              "\"\"\"\n",
              "                              ARMA Model Results                              \n",
              "==============================================================================\n",
              "Dep. Variable:                    RSG   No. Observations:                 4380\n",
              "Model:                     ARMA(2, 3)   Log Likelihood              -27988.265\n",
              "Method:                       css-mle   S.D. of innovations            144.119\n",
              "Date:                Mon, 13 Dec 2021   AIC                          55990.529\n",
              "Time:                        18:56:08   BIC                          56035.223\n",
              "Sample:                             0   HQIC                         56006.299\n",
              "                                                                              \n",
              "==============================================================================\n",
              "                 coef    std err          z      P>|z|      [0.025      0.975]\n",
              "------------------------------------------------------------------------------\n",
              "const        344.2764      3.608     95.429      0.000     337.206     351.347\n",
              "ar.L1.RSG      1.7256      0.002    841.070      0.000       1.722       1.730\n",
              "ar.L2.RSG     -0.9931      0.002   -485.100      0.000      -0.997      -0.989\n",
              "ma.L1.RSG     -1.1112      0.013    -85.009      0.000      -1.137      -1.086\n",
              "ma.L2.RSG      0.0836      0.019      4.414      0.000       0.046       0.121\n",
              "ma.L3.RSG      0.4707      0.012     37.758      0.000       0.446       0.495\n",
              "                                    Roots                                    \n",
              "=============================================================================\n",
              "                  Real          Imaginary           Modulus         Frequency\n",
              "-----------------------------------------------------------------------------\n",
              "AR.1            0.8688           -0.5021j            1.0035           -0.0834\n",
              "AR.2            0.8688           +0.5021j            1.0035            0.0834\n",
              "MA.1            0.8855           -0.5533j            1.0441           -0.0889\n",
              "MA.2            0.8855           +0.5533j            1.0441            0.0889\n",
              "MA.3           -1.9485           -0.0000j            1.9485           -0.5000\n",
              "-----------------------------------------------------------------------------\n",
              "\"\"\""
            ]
          },
          "metadata": {},
          "execution_count": 47
        }
      ]
    },
    {
      "cell_type": "markdown",
      "source": [
        "El resultado es significativamente diferente"
      ],
      "metadata": {
        "id": "zQ1zFAPUDamt"
      }
    },
    {
      "cell_type": "code",
      "source": [
        "print(\"\\nARMA(2,3) vs ARMA(1,1) \", LLR_test(results_arma11, results_arma23,3))"
      ],
      "metadata": {
        "colab": {
          "base_uri": "https://localhost:8080/"
        },
        "id": "YW33Q62qBjHF",
        "outputId": "f76bca4d-4f91-4361-daad-7b29d76911e3"
      },
      "execution_count": null,
      "outputs": [
        {
          "output_type": "stream",
          "name": "stdout",
          "text": [
            "\n",
            "ARMA(2,3) vs ARMA(1,1)  0.0\n"
          ]
        }
      ]
    },
    {
      "cell_type": "markdown",
      "source": [
        "Correlación:\n",
        "* Max temperature (Tmax) 0.462\n",
        "* Min temperature (Tmin) 0.404\n",
        "* Relative humidity (RH) 0.505\n",
        "* Rain amount (Ra) 0.055\n",
        "* Solar zenith angle (SZA) 0.066\n",
        "* Azimuth (Az) 0.183\n",
        "* Pressure (P) 0.020\n",
        "* Wind speed (Ws) 0.002\n",
        "* Wind direction (Wd) 0.005"
      ],
      "metadata": {
        "id": "ctuJDJKuijTb"
      }
    },
    {
      "cell_type": "markdown",
      "source": [
        "Misma arquitectura - dos modelos: Difusa, Global"
      ],
      "metadata": {
        "id": "DBGVTGqbjmta"
      }
    },
    {
      "cell_type": "markdown",
      "source": [
        "* Curva mensual\n",
        "* Diagramas de cajas a nivel mensual\n",
        "* Diagrama de cajas a nivel horario"
      ],
      "metadata": {
        "id": "VV4ZWRQnjxj5"
      }
    },
    {
      "cell_type": "markdown",
      "source": [
        "Mapa de correlaciones: seaborn clustermap"
      ],
      "metadata": {
        "id": "csytD2dKlphZ"
      }
    },
    {
      "cell_type": "code",
      "source": [
        ""
      ],
      "metadata": {
        "id": "rufdfkwuC5sk"
      },
      "execution_count": null,
      "outputs": []
    }
  ]
}