{
  "cells": [
    {
      "cell_type": "markdown",
      "metadata": {
        "id": "cxVTmRzgzTr6"
      },
      "source": [
        "# LSTM con datos de viento en Cuenca"
      ]
    },
    {
      "cell_type": "markdown",
      "source": [
        "Se importan las librerías."
      ],
      "metadata": {
        "id": "ZmNCJjlnnU3u"
      }
    },
    {
      "cell_type": "code",
      "execution_count": 1,
      "metadata": {
        "id": "w5YCYC_SyzBa"
      },
      "outputs": [],
      "source": [
        "import pandas as pd\n",
        "import matplotlib.pyplot as plt\n",
        "import numpy as np\n",
        "from sklearn.metrics import mean_squared_error\n",
        "from sklearn.metrics import mean_absolute_error"
      ]
    },
    {
      "cell_type": "markdown",
      "source": [
        "Se importan los datos."
      ],
      "metadata": {
        "id": "LzOCLyKGnZlF"
      }
    },
    {
      "cell_type": "code",
      "execution_count": null,
      "metadata": {
        "id": "3cr5wGiXzXcZ"
      },
      "outputs": [],
      "source": [
        "df = pd.read_csv('./drive/MyDrive/DatosInvestigacion/final_train_2015.csv', index_col=0, parse_dates=True)\n",
        "df = df.asfreq('h')"
      ]
    },
    {
      "cell_type": "code",
      "execution_count": null,
      "metadata": {
        "id": "CfbdR1vJzaRE"
      },
      "outputs": [],
      "source": [
        "df = df[['SRGLOAVG1H','TAMAX1H','TAMIN1H','WS1HX','WS1HA','RHMIN1H','RHMAX1H']]"
      ]
    },
    {
      "cell_type": "code",
      "execution_count": null,
      "metadata": {
        "id": "_9rR2O67zgTc"
      },
      "outputs": [],
      "source": [
        "df_test = pd.read_csv('./drive/MyDrive/DatosInvestigacion/final_test_2015.csv', index_col=0, parse_dates=True)\n",
        "df_test = df_test.asfreq('h')"
      ]
    },
    {
      "cell_type": "code",
      "execution_count": null,
      "metadata": {
        "id": "XcpAetxfzifo"
      },
      "outputs": [],
      "source": [
        "df_test = df_test[['SRGLOAVG1H','TAMAX1H','TAMIN1H','WS1HX','WS1HA','RHMIN1H','RHMAX1H']]"
      ]
    },
    {
      "cell_type": "code",
      "execution_count": null,
      "metadata": {
        "id": "9OYWqURrzj1Y"
      },
      "outputs": [],
      "source": [
        "velocidad_viento = df['WS1HA'].values"
      ]
    },
    {
      "cell_type": "code",
      "execution_count": null,
      "metadata": {
        "colab": {
          "base_uri": "https://localhost:8080/"
        },
        "id": "h993QH2c1iT1",
        "outputId": "d31687ca-19c1-4978-cce2-1df198c85bee"
      },
      "outputs": [
        {
          "name": "stderr",
          "output_type": "stream",
          "text": [
            "/usr/local/lib/python3.7/dist-packages/statsmodels/tools/_testing.py:19: FutureWarning: pandas.util.testing is deprecated. Use the functions in the public API at pandas.testing instead.\n",
            "  import pandas.util.testing as tm\n"
          ]
        }
      ],
      "source": [
        "import statsmodels.graphics.tsaplots as sgt"
      ]
    },
    {
      "cell_type": "markdown",
      "source": [
        "## Análisis de autocorrelación."
      ],
      "metadata": {
        "id": "yGDPDAMondKp"
      }
    },
    {
      "cell_type": "code",
      "execution_count": null,
      "metadata": {
        "colab": {
          "base_uri": "https://localhost:8080/",
          "height": 286
        },
        "id": "WoF4-OCJ1iyX",
        "outputId": "e5606742-4b89-4a4b-f3fe-39135c0dc056"
      },
      "outputs": [
        {
          "data": {
            "image/png": "[encoded data removed]",
            "text/plain": [
              "<Figure size 432x288 with 1 Axes>"
            ]
          },
          "metadata": {},
          "output_type": "display_data"
        }
      ],
      "source": [
        "sgt.plot_acf(velocidad_viento, lags = 48, zero = False)\n",
        "plt.title(\"ACF Velocidad del viento Promedio\", size = 20)\n",
        "plt.show()"
      ]
    },
    {
      "cell_type": "code",
      "execution_count": null,
      "metadata": {
        "colab": {
          "base_uri": "https://localhost:8080/",
          "height": 283
        },
        "id": "ocx_0xAA1sD1",
        "outputId": "569051b3-9cb2-40e9-f40a-9935c1e4cb81"
      },
      "outputs": [
        {
          "data": {
            "image/png": "[encoded data removed]",
            "text/plain": [
              "<Figure size 432x288 with 1 Axes>"
            ]
          },
          "metadata": {},
          "output_type": "display_data"
        }
      ],
      "source": [
        "sgt.plot_pacf(velocidad_viento, lags = 48, zero = False, method = ('ols'))\n",
        "plt.title(\"PACF Velocidad del viento Promedio\", size = 15)\n",
        "plt.show()"
      ]
    },
    {
      "cell_type": "code",
      "execution_count": null,
      "metadata": {
        "id": "JRFKLRFszoP_"
      },
      "outputs": [],
      "source": [
        "velocidad_viento = np.reshape(velocidad_viento,(-1,1))"
      ]
    },
    {
      "cell_type": "code",
      "execution_count": null,
      "metadata": {
        "id": "CY1LoKhjz7EM"
      },
      "outputs": [],
      "source": [
        "velocidad_viento_test = df_test['WS1HA'].values\n",
        "velocidad_viento_test = np.reshape(velocidad_viento_test,(-1,1))"
      ]
    },
    {
      "cell_type": "markdown",
      "metadata": {
        "id": "p4-9IxuBTKpY"
      },
      "source": [
        "## Modelo AR"
      ]
    },
    {
      "cell_type": "markdown",
      "source": [
        "Se creará un modelo AR que servirá de referencia."
      ],
      "metadata": {
        "id": "sdsAtjrEnnES"
      }
    },
    {
      "cell_type": "code",
      "execution_count": null,
      "metadata": {
        "id": "FFp6Nv4kTLh0"
      },
      "outputs": [],
      "source": [
        "# Ignore harmless warnings\n",
        "import warnings\n",
        "warnings.filterwarnings(\"ignore\")"
      ]
    },
    {
      "cell_type": "markdown",
      "source": [
        "Se importa la librería para realizar una búsqueda del mejor modelo AR."
      ],
      "metadata": {
        "id": "6j_NnYqCnqe_"
      }
    },
    {
      "cell_type": "code",
      "execution_count": null,
      "metadata": {
        "id": "fpXEx_yOTTfp"
      },
      "outputs": [],
      "source": [
        "from statsmodels.tsa.ar_model import AR"
      ]
    },
    {
      "cell_type": "code",
      "execution_count": null,
      "metadata": {
        "colab": {
          "base_uri": "https://localhost:8080/"
        },
        "id": "MrIYZXadTMgA",
        "outputId": "e8cb9634-aaf8-449f-dda8-ab8ece6fe08f"
      },
      "outputs": [
        {
          "name": "stdout",
          "output_type": "stream",
          "text": [
            "Lag: 28\n",
            "Coefficients:\n",
            "const        0.207770\n",
            "L1.WS1HA     0.760548\n",
            "L2.WS1HA    -0.016077\n",
            "L3.WS1HA     0.000998\n",
            "L4.WS1HA     0.013141\n",
            "L5.WS1HA     0.009231\n",
            "L6.WS1HA     0.002767\n",
            "L7.WS1HA     0.014599\n",
            "L8.WS1HA    -0.009329\n",
            "L9.WS1HA    -0.007011\n",
            "L10.WS1HA   -0.015566\n",
            "L11.WS1HA   -0.004139\n",
            "L12.WS1HA   -0.011600\n",
            "L13.WS1HA    0.001925\n",
            "L14.WS1HA   -0.018531\n",
            "L15.WS1HA    0.016056\n",
            "L16.WS1HA   -0.002663\n",
            "L17.WS1HA   -0.000195\n",
            "L18.WS1HA    0.019879\n",
            "L19.WS1HA    0.010009\n",
            "L20.WS1HA   -0.004381\n",
            "L21.WS1HA    0.046295\n",
            "L22.WS1HA    0.051081\n",
            "L23.WS1HA    0.077785\n",
            "L24.WS1HA    0.049039\n",
            "L25.WS1HA    0.019718\n",
            "L26.WS1HA   -0.015886\n",
            "L27.WS1HA   -0.027731\n",
            "L28.WS1HA   -0.038589\n",
            "dtype: float64\n"
          ]
        }
      ],
      "source": [
        "model = AR(df['WS1HA'])\n",
        "ARfit = model.fit(maxlag=48,ic='bic') \n",
        "print(f'Lag: {ARfit.k_ar}')\n",
        "print(f'Coefficients:\\n{ARfit.params}')"
      ]
    },
    {
      "cell_type": "markdown",
      "source": [
        "El mejor modelo considera 28 retrasos."
      ],
      "metadata": {
        "id": "wl7BUtxlnvOz"
      }
    },
    {
      "cell_type": "code",
      "execution_count": null,
      "metadata": {
        "id": "g2T_OwsmUHRy"
      },
      "outputs": [],
      "source": [
        "coef = ARfit.params"
      ]
    },
    {
      "cell_type": "code",
      "execution_count": null,
      "metadata": {
        "colab": {
          "base_uri": "https://localhost:8080/"
        },
        "id": "MFNPSNd6UHqA",
        "outputId": "5a9ee8ad-feae-47d6-d1c0-7467e0377455"
      },
      "outputs": [
        {
          "data": {
            "text/plain": [
              "const        0.207770\n",
              "L1.WS1HA     0.760548\n",
              "L2.WS1HA    -0.016077\n",
              "L3.WS1HA     0.000998\n",
              "L4.WS1HA     0.013141\n",
              "L5.WS1HA     0.009231\n",
              "L6.WS1HA     0.002767\n",
              "L7.WS1HA     0.014599\n",
              "L8.WS1HA    -0.009329\n",
              "L9.WS1HA    -0.007011\n",
              "L10.WS1HA   -0.015566\n",
              "L11.WS1HA   -0.004139\n",
              "L12.WS1HA   -0.011600\n",
              "L13.WS1HA    0.001925\n",
              "L14.WS1HA   -0.018531\n",
              "L15.WS1HA    0.016056\n",
              "L16.WS1HA   -0.002663\n",
              "L17.WS1HA   -0.000195\n",
              "L18.WS1HA    0.019879\n",
              "L19.WS1HA    0.010009\n",
              "L20.WS1HA   -0.004381\n",
              "L21.WS1HA    0.046295\n",
              "L22.WS1HA    0.051081\n",
              "L23.WS1HA    0.077785\n",
              "L24.WS1HA    0.049039\n",
              "L25.WS1HA    0.019718\n",
              "L26.WS1HA   -0.015886\n",
              "L27.WS1HA   -0.027731\n",
              "L28.WS1HA   -0.038589\n",
              "dtype: float64"
            ]
          },
          "execution_count": 16,
          "metadata": {},
          "output_type": "execute_result"
        }
      ],
      "source": [
        "coef"
      ]
    },
    {
      "cell_type": "markdown",
      "source": [
        "Se define una función para calcular las predicciones del modelo AR."
      ],
      "metadata": {
        "id": "Ep1tWi7zn0OJ"
      }
    },
    {
      "cell_type": "code",
      "execution_count": null,
      "metadata": {
        "id": "mO_68WknUWwe"
      },
      "outputs": [],
      "source": [
        "def get_pred(coef,data):\n",
        "  prediction = coef['const'] # constante\n",
        "  # los datos se reciben en forma cronológica\n",
        "  j = 1\n",
        "  for i in range(len(data)-1,-1,-1):\n",
        "    prediction += coef[j] * data[i]\n",
        "    j+=1\n",
        "  return prediction"
      ]
    },
    {
      "cell_type": "code",
      "execution_count": null,
      "metadata": {
        "colab": {
          "base_uri": "https://localhost:8080/"
        },
        "id": "HPWNijpHUhYW",
        "outputId": "1e396040-42a4-48e4-fd50-72e40cc56f7f"
      },
      "outputs": [
        {
          "data": {
            "text/plain": [
              "2016-08-07 20:00:00    3.405379\n",
              "2016-08-07 21:00:00    3.197024\n",
              "2016-08-07 22:00:00    3.091419\n",
              "Freq: H, dtype: float64"
            ]
          },
          "execution_count": 18,
          "metadata": {},
          "output_type": "execute_result"
        }
      ],
      "source": [
        "ARfit.predict(start=len(df),end=len(df)+2)"
      ]
    },
    {
      "cell_type": "code",
      "execution_count": null,
      "metadata": {
        "colab": {
          "base_uri": "https://localhost:8080/"
        },
        "id": "A8vsQqDoUa87",
        "outputId": "d078c35f-2b6e-4df1-a764-d26306a6618a"
      },
      "outputs": [
        {
          "data": {
            "text/plain": [
              "3.4053785296675216"
            ]
          },
          "execution_count": 19,
          "metadata": {},
          "output_type": "execute_result"
        }
      ],
      "source": [
        "get_pred(coef,df['WS1HA'][-28:].values)"
      ]
    },
    {
      "cell_type": "code",
      "execution_count": null,
      "metadata": {
        "colab": {
          "base_uri": "https://localhost:8080/"
        },
        "id": "QiycXyBaWuAM",
        "outputId": "e579cc00-6efb-4a3b-ffe6-5c21530dc223"
      },
      "outputs": [
        {
          "data": {
            "text/plain": [
              "3.2"
            ]
          },
          "execution_count": 20,
          "metadata": {},
          "output_type": "execute_result"
        }
      ],
      "source": [
        "df_test['WS1HA'][0]"
      ]
    },
    {
      "cell_type": "markdown",
      "source": [
        "Se generan predicciones para todo el conjunto de pruebas."
      ],
      "metadata": {
        "id": "fRIGh86kn821"
      }
    },
    {
      "cell_type": "code",
      "execution_count": null,
      "metadata": {
        "id": "4TleKY0EW0-0"
      },
      "outputs": [],
      "source": [
        "test_pred = []\n",
        "retrasos = 28\n",
        "for i in range(retrasos,len(df_test)):\n",
        "  past_data = df_test.iloc[i-retrasos:i]['WS1HA'].values\n",
        "  test_pred.append(get_pred(coef,past_data))"
      ]
    },
    {
      "cell_type": "code",
      "execution_count": null,
      "metadata": {
        "id": "PFRdZCQ_XCPD"
      },
      "outputs": [],
      "source": [
        "test_pred = np.ndarray.flatten(np.array(test_pred))"
      ]
    },
    {
      "cell_type": "code",
      "execution_count": null,
      "metadata": {
        "colab": {
          "base_uri": "https://localhost:8080/"
        },
        "id": "qGxfqfCqXEVB",
        "outputId": "9a68680a-22c6-49c3-b396-b6a22bbb0676"
      },
      "outputs": [
        {
          "data": {
            "text/plain": [
              "array([3.09186717, 2.66249916, 2.86111717, 3.16321214, 2.94420981])"
            ]
          },
          "execution_count": 20,
          "metadata": {},
          "output_type": "execute_result"
        }
      ],
      "source": [
        "test_pred[:5]"
      ]
    },
    {
      "cell_type": "code",
      "execution_count": null,
      "metadata": {
        "colab": {
          "base_uri": "https://localhost:8080/"
        },
        "id": "FGLt0CjDXK9b",
        "outputId": "c869ad4d-08e7-439f-f9d0-ddbb48b86b3a"
      },
      "outputs": [
        {
          "data": {
            "text/plain": [
              "(3481,)"
            ]
          },
          "execution_count": 21,
          "metadata": {},
          "output_type": "execute_result"
        }
      ],
      "source": [
        "test_pred.shape"
      ]
    },
    {
      "cell_type": "code",
      "execution_count": null,
      "metadata": {
        "colab": {
          "base_uri": "https://localhost:8080/"
        },
        "id": "r7xR9bHnXMhM",
        "outputId": "8ff71267-d191-4e10-c664-c1250444a5fe"
      },
      "outputs": [
        {
          "data": {
            "text/plain": [
              "(3509, 7)"
            ]
          },
          "execution_count": 22,
          "metadata": {},
          "output_type": "execute_result"
        }
      ],
      "source": [
        "df_test.shape"
      ]
    },
    {
      "cell_type": "code",
      "execution_count": null,
      "metadata": {
        "colab": {
          "base_uri": "https://localhost:8080/"
        },
        "id": "Jcu5DzEeXOvV",
        "outputId": "f9d5b0fb-f4c7-4216-e27b-27277fbaf224"
      },
      "outputs": [
        {
          "data": {
            "text/plain": [
              "3481"
            ]
          },
          "execution_count": 23,
          "metadata": {},
          "output_type": "execute_result"
        }
      ],
      "source": [
        "real_data = df_test.iloc[retrasos:]['WS1HA'].values\n",
        "real_data = np.ndarray.flatten(np.array(real_data))\n",
        "len(real_data)"
      ]
    },
    {
      "cell_type": "markdown",
      "source": [
        "El RMSE es de 0.87 $\\frac{m}{s}$"
      ],
      "metadata": {
        "id": "eMB2OEEyoAz8"
      }
    },
    {
      "cell_type": "code",
      "execution_count": null,
      "metadata": {
        "colab": {
          "base_uri": "https://localhost:8080/"
        },
        "id": "IbPRp2gtXdNU",
        "outputId": "4d7a6332-103f-484c-ed07-771706557137"
      },
      "outputs": [
        {
          "data": {
            "text/plain": [
              "0.8723885720775963"
            ]
          },
          "execution_count": 26,
          "metadata": {},
          "output_type": "execute_result"
        }
      ],
      "source": [
        "errorAR = mean_squared_error(real_data,test_pred)\n",
        "np.sqrt(errorAR)"
      ]
    },
    {
      "cell_type": "code",
      "execution_count": null,
      "metadata": {
        "colab": {
          "base_uri": "https://localhost:8080/"
        },
        "id": "DYDKOdJMXlkE",
        "outputId": "450d7572-feba-4ad8-cba1-d337f6916d85"
      },
      "outputs": [
        {
          "data": {
            "text/plain": [
              "0.6239465102088289"
            ]
          },
          "execution_count": 25,
          "metadata": {},
          "output_type": "execute_result"
        }
      ],
      "source": [
        "mean_absolute_error(real_data,test_pred)"
      ]
    },
    {
      "cell_type": "markdown",
      "metadata": {
        "id": "rNLre_ns0TTf"
      },
      "source": [
        "## Buscando los mejores parámetros"
      ]
    },
    {
      "cell_type": "markdown",
      "metadata": {
        "id": "M5eoafQERQe1"
      },
      "source": [
        "Ahora, se construirá un modelo LSTM con optimización de hiperparámetros."
      ]
    },
    {
      "cell_type": "code",
      "execution_count": null,
      "metadata": {
        "id": "FvNFuh_u0B1s"
      },
      "outputs": [],
      "source": [
        "from sklearn.preprocessing import MinMaxScaler"
      ]
    },
    {
      "cell_type": "markdown",
      "source": [
        "Se normalizan los datos."
      ],
      "metadata": {
        "id": "3wGMOPFwobCk"
      }
    },
    {
      "cell_type": "code",
      "execution_count": null,
      "metadata": {
        "id": "kJff6NNC0Dz0"
      },
      "outputs": [],
      "source": [
        "scaler = MinMaxScaler()\n",
        "scaler.fit(velocidad_viento)\n",
        "scaled_train = scaler.transform(velocidad_viento)\n",
        "scaled_test = scaler.transform(velocidad_viento_test)"
      ]
    },
    {
      "cell_type": "code",
      "execution_count": null,
      "metadata": {
        "colab": {
          "base_uri": "https://localhost:8080/"
        },
        "id": "aBQdkct80JlU",
        "outputId": "5aed33eb-c689-4292-ebb9-8a507ea52c3b"
      },
      "outputs": [
        {
          "data": {
            "text/plain": [
              "array([0.11111111])"
            ]
          },
          "execution_count": 14,
          "metadata": {},
          "output_type": "execute_result"
        }
      ],
      "source": [
        "scaled_train[0]"
      ]
    },
    {
      "cell_type": "markdown",
      "source": [
        "Se importa la librería para generar batches de entrenamiento."
      ],
      "metadata": {
        "id": "TJJsf2zXodBg"
      }
    },
    {
      "cell_type": "code",
      "execution_count": null,
      "metadata": {
        "id": "hWMXxvxE0MVf"
      },
      "outputs": [],
      "source": [
        "from keras.preprocessing.sequence import TimeseriesGenerator"
      ]
    },
    {
      "cell_type": "code",
      "execution_count": 2,
      "metadata": {
        "id": "fJiaM_MrqrTo"
      },
      "outputs": [],
      "source": [
        "import json"
      ]
    },
    {
      "cell_type": "code",
      "execution_count": 3,
      "metadata": {
        "id": "UVSXrgKxqvyx"
      },
      "outputs": [],
      "source": [
        "resultados_anteriores = []"
      ]
    },
    {
      "cell_type": "markdown",
      "source": [
        "Se importan resultados anteriores en caso de que existan, esto se debe a las limitaciones de tiempo de Colab."
      ],
      "metadata": {
        "id": "plBtzDvpogX2"
      }
    },
    {
      "cell_type": "code",
      "execution_count": 4,
      "metadata": {
        "id": "V5-VE_G1qrtE"
      },
      "outputs": [],
      "source": [
        "with open(\"./drive/MyDrive/DatosInvestigacion/resultados_LSTM_univariado_viento.txt\",'r') as fp:\n",
        "    for line in fp:\n",
        "      resultados_anteriores.append(json.loads(line))"
      ]
    },
    {
      "cell_type": "code",
      "execution_count": 5,
      "metadata": {
        "id": "XccpnVwAq0RZ"
      },
      "outputs": [],
      "source": [
        "df_resultados_anteriores = pd.DataFrame(resultados_anteriores)"
      ]
    },
    {
      "cell_type": "markdown",
      "source": [
        "Se importan las librerías para generar el modelo LSTM."
      ],
      "metadata": {
        "id": "GSVtIagzomTA"
      }
    },
    {
      "cell_type": "code",
      "execution_count": null,
      "metadata": {
        "id": "FQxkM6UM0aR0"
      },
      "outputs": [],
      "source": [
        "from tensorflow import keras\n",
        "from keras.models import Sequential\n",
        "from keras.layers import Dense\n",
        "from keras.layers import LSTM"
      ]
    },
    {
      "cell_type": "code",
      "execution_count": null,
      "metadata": {
        "id": "8KDOMWxf0iLy"
      },
      "outputs": [],
      "source": [
        "n_input = 10 # horas hacia atrás\n",
        "n_features = 0 # variables exógenas"
      ]
    },
    {
      "cell_type": "markdown",
      "source": [
        "Se define una función para generar modelos con distinto número de capas y neuronas."
      ],
      "metadata": {
        "id": "yH3jkRSGoqSo"
      }
    },
    {
      "cell_type": "code",
      "execution_count": null,
      "metadata": {
        "id": "ppVl4VNt0P5I"
      },
      "outputs": [],
      "source": [
        "def create_Model(n_input, LSTM_neurons = 100, layers=3,n_features=0):\n",
        "  # define model\n",
        "  model = Sequential()\n",
        "  if(layers>1):\n",
        "    model.add(LSTM(LSTM_neurons, activation='relu', input_shape=(n_input, n_features+1),return_sequences=True))\n",
        "    for i in range(layers-2):\n",
        "        model.add(LSTM(LSTM_neurons, activation='relu',return_sequences=True))\n",
        "    model.add(LSTM(LSTM_neurons, activation='relu'))\n",
        "  else:\n",
        "    model.add(LSTM(LSTM_neurons, activation='relu', input_shape=(n_input, n_features+1)))\n",
        "  model.add(Dense(1))\n",
        "  model.compile(optimizer='adam', loss='mse')\n",
        "  return model"
      ]
    },
    {
      "cell_type": "code",
      "execution_count": null,
      "metadata": {
        "colab": {
          "base_uri": "https://localhost:8080/"
        },
        "id": "3m8EFOt70lxg",
        "outputId": "75eca4b8-bf39-4c81-e8b0-5f56828abbc5"
      },
      "outputs": [
        {
          "name": "stdout",
          "output_type": "stream",
          "text": [
            "Model: \"sequential\"\n",
            "_________________________________________________________________\n",
            " Layer (type)                Output Shape              Param #   \n",
            "=================================================================\n",
            " lstm (LSTM)                 (None, 100)               40800     \n",
            "                                                                 \n",
            " dense (Dense)               (None, 1)                 101       \n",
            "                                                                 \n",
            "=================================================================\n",
            "Total params: 40,901\n",
            "Trainable params: 40,901\n",
            "Non-trainable params: 0\n",
            "_________________________________________________________________\n"
          ]
        }
      ],
      "source": [
        "model = create_Model(10,100,1)\n",
        "model.summary()"
      ]
    },
    {
      "cell_type": "code",
      "execution_count": null,
      "metadata": {
        "id": "AqjmDyxsBy3r"
      },
      "outputs": [],
      "source": [
        "generator = TimeseriesGenerator(scaled_train, scaled_train, length=n_input, batch_size=1)  "
      ]
    },
    {
      "cell_type": "code",
      "execution_count": null,
      "metadata": {
        "id": "PpvpbHQiCAoB"
      },
      "outputs": [],
      "source": [
        "batch_size = 150"
      ]
    },
    {
      "cell_type": "code",
      "execution_count": null,
      "metadata": {
        "colab": {
          "base_uri": "https://localhost:8080/"
        },
        "id": "l8CAbfKEB3Fa",
        "outputId": "bb7ee277-b433-464b-e709-fd1df81ca1a6"
      },
      "outputs": [
        {
          "name": "stdout",
          "output_type": "stream",
          "text": [
            "Epoch 1/7\n",
            "14025/14025 [==============================] - 89s 6ms/step - loss: 0.0103\n",
            "Epoch 2/7\n",
            "14025/14025 [==============================] - 97s 7ms/step - loss: 0.0091\n",
            "Epoch 3/7\n",
            "14025/14025 [==============================] - 92s 7ms/step - loss: 0.0090\n",
            "Epoch 4/7\n",
            "14025/14025 [==============================] - 89s 6ms/step - loss: 0.0088\n",
            "Epoch 5/7\n",
            "14025/14025 [==============================] - 88s 6ms/step - loss: 0.0088\n",
            "Epoch 6/7\n",
            "14025/14025 [==============================] - 118s 8ms/step - loss: 0.0087\n",
            "Epoch 7/7\n",
            "14025/14025 [==============================] - 89s 6ms/step - loss: 0.0086\n"
          ]
        },
        {
          "data": {
            "text/plain": [
              "<keras.callbacks.History at 0x7f47ddfac650>"
            ]
          },
          "execution_count": 26,
          "metadata": {},
          "output_type": "execute_result"
        }
      ],
      "source": [
        "model.fit(generator,epochs=7,verbose=True,batch_size=batch_size)\n"
      ]
    },
    {
      "cell_type": "markdown",
      "source": [
        "Se realiza un ejemplo de predicción y evaluación."
      ],
      "metadata": {
        "id": "9-3fU_kdo0CQ"
      }
    },
    {
      "cell_type": "code",
      "execution_count": null,
      "metadata": {
        "id": "B0ICmvRuQTk5"
      },
      "outputs": [],
      "source": [
        "predictions = []\n",
        "for j in range(n_input,len(df_test)):\n",
        "  model_input = scaled_test[j-n_input:j]\n",
        "  model_input = model_input.reshape((1, n_input, n_features+1))\n",
        "  predictions.append(model.predict(model_input)[0])\n",
        "predictions = np.ndarray.flatten(np.array(predictions))  \n",
        "true_predictions = scaler.inverse_transform(np.reshape(predictions,(-1,1)))\n",
        "true_values = np.ndarray.flatten(df_test.iloc[n_input:]['WS1HA'].values)\n",
        "errorMSE = mean_squared_error(true_values,true_predictions)\n",
        "errorMAE = mean_absolute_error(true_values,true_predictions)"
      ]
    },
    {
      "cell_type": "code",
      "execution_count": null,
      "metadata": {
        "colab": {
          "base_uri": "https://localhost:8080/"
        },
        "id": "i1QGU8EXQeXQ",
        "outputId": "00c9875a-9fcc-4352-db99-673b22ca08c5"
      },
      "outputs": [
        {
          "data": {
            "text/plain": [
              "0.6902290663146128"
            ]
          },
          "execution_count": 29,
          "metadata": {},
          "output_type": "execute_result"
        }
      ],
      "source": [
        "errorMAE"
      ]
    },
    {
      "cell_type": "code",
      "execution_count": 6,
      "metadata": {
        "id": "1QsCwQYn0uUj"
      },
      "outputs": [],
      "source": [
        "resultados=[]\n",
        "combinaciones_anteriores = []"
      ]
    },
    {
      "cell_type": "code",
      "execution_count": 7,
      "metadata": {
        "id": "0ov8L3z3epGS"
      },
      "outputs": [],
      "source": [
        "df_resultados = df_resultados_anteriores"
      ]
    },
    {
      "cell_type": "code",
      "execution_count": 8,
      "metadata": {
        "id": "wVOyoEAi0ylH"
      },
      "outputs": [],
      "source": [
        "for i in range(len(df_resultados)):\n",
        "  combinaciones_anteriores.append((int(df_resultados.iloc[i]['Retrasos']),\n",
        "                                   int(df_resultados.iloc[i]['Neuronas LSTM']),\n",
        "                                   int(df_resultados.iloc[i]['Batch size']),\n",
        "                                   int(df_resultados.iloc[i]['LSTM Layers'])))"
      ]
    },
    {
      "cell_type": "code",
      "execution_count": null,
      "metadata": {
        "colab": {
          "base_uri": "https://localhost:8080/"
        },
        "id": "58Xo4B7uf3PY",
        "outputId": "724a1b3a-a97a-465f-a4f2-2fd25036db63"
      },
      "outputs": [
        {
          "output_type": "execute_result",
          "data": {
            "text/plain": [
              "108"
            ]
          },
          "metadata": {},
          "execution_count": 39
        }
      ],
      "source": [
        "len(combinaciones_anteriores)"
      ]
    },
    {
      "cell_type": "code",
      "execution_count": null,
      "metadata": {
        "colab": {
          "base_uri": "https://localhost:8080/"
        },
        "id": "gTG9dXaf8S6Q",
        "outputId": "270cfba8-ed4b-4e2b-f958-a239a21a756b"
      },
      "outputs": [
        {
          "data": {
            "text/plain": [
              "(32, 100, 100, 1)"
            ]
          },
          "execution_count": 26,
          "metadata": {},
          "output_type": "execute_result"
        }
      ],
      "source": [
        "combinaciones_anteriores[-1]"
      ]
    },
    {
      "cell_type": "code",
      "execution_count": null,
      "metadata": {
        "colab": {
          "base_uri": "https://localhost:8080/",
          "height": 80
        },
        "id": "-uNE4-5cUuho",
        "outputId": "67c9b976-891f-4e41-ce6c-3ea316f0b3e6"
      },
      "outputs": [
        {
          "data": {
            "text/html": [
              "\n",
              "  <div id=\"df-46cb8fff-eed4-48c3-a062-0b7399539436\">\n",
              "    <div class=\"colab-df-container\">\n",
              "      <div>\n",
              "<style scoped>\n",
              "    .dataframe tbody tr th:only-of-type {\n",
              "        vertical-align: middle;\n",
              "    }\n",
              "\n",
              "    .dataframe tbody tr th {\n",
              "        vertical-align: top;\n",
              "    }\n",
              "\n",
              "    .dataframe thead th {\n",
              "        text-align: right;\n",
              "    }\n",
              "</style>\n",
              "<table border=\"1\" class=\"dataframe\">\n",
              "  <thead>\n",
              "    <tr style=\"text-align: right;\">\n",
              "      <th></th>\n",
              "      <th>Retrasos</th>\n",
              "      <th>Neuronas LSTM</th>\n",
              "      <th>Batch size</th>\n",
              "      <th>LSTM Layers</th>\n",
              "      <th>MSE</th>\n",
              "      <th>MAE</th>\n",
              "      <th>RMSE</th>\n",
              "    </tr>\n",
              "  </thead>\n",
              "  <tbody>\n",
              "    <tr>\n",
              "      <th>45</th>\n",
              "      <td>24</td>\n",
              "      <td>100</td>\n",
              "      <td>50</td>\n",
              "      <td>1</td>\n",
              "      <td>0.727501</td>\n",
              "      <td>0.613977</td>\n",
              "      <td>0.852937</td>\n",
              "    </tr>\n",
              "  </tbody>\n",
              "</table>\n",
              "</div>\n",
              "      <button class=\"colab-df-convert\" onclick=\"convertToInteractive('df-46cb8fff-eed4-48c3-a062-0b7399539436')\"\n",
              "              title=\"Convert this dataframe to an interactive table.\"\n",
              "              style=\"display:none;\">\n",
              "        \n",
              "  <svg xmlns=\"http://www.w3.org/2000/svg\" height=\"24px\"viewBox=\"0 0 24 24\"\n",
              "       width=\"24px\">\n",
              "    <path d=\"M0 0h24v24H0V0z\" fill=\"none\"/>\n",
              "    <path d=\"M18.56 5.44l.94 2.06.94-2.06 2.06-.94-2.06-.94-.94-2.06-.94 2.06-2.06.94zm-11 1L8.5 8.5l.94-2.06 2.06-.94-2.06-.94L8.5 2.5l-.94 2.06-2.06.94zm10 10l.94 2.06.94-2.06 2.06-.94-2.06-.94-.94-2.06-.94 2.06-2.06.94z\"/><path d=\"M17.41 7.96l-1.37-1.37c-.4-.4-.92-.59-1.43-.59-.52 0-1.04.2-1.43.59L10.3 9.45l-7.72 7.72c-.78.78-.78 2.05 0 2.83L4 21.41c.39.39.9.59 1.41.59.51 0 1.02-.2 1.41-.59l7.78-7.78 2.81-2.81c.8-.78.8-2.07 0-2.86zM5.41 20L4 18.59l7.72-7.72 1.47 1.35L5.41 20z\"/>\n",
              "  </svg>\n",
              "      </button>\n",
              "      \n",
              "  <style>\n",
              "    .colab-df-container {\n",
              "      display:flex;\n",
              "      flex-wrap:wrap;\n",
              "      gap: 12px;\n",
              "    }\n",
              "\n",
              "    .colab-df-convert {\n",
              "      background-color: #E8F0FE;\n",
              "      border: none;\n",
              "      border-radius: 50%;\n",
              "      cursor: pointer;\n",
              "      display: none;\n",
              "      fill: #1967D2;\n",
              "      height: 32px;\n",
              "      padding: 0 0 0 0;\n",
              "      width: 32px;\n",
              "    }\n",
              "\n",
              "    .colab-df-convert:hover {\n",
              "      background-color: #E2EBFA;\n",
              "      box-shadow: 0px 1px 2px rgba(60, 64, 67, 0.3), 0px 1px 3px 1px rgba(60, 64, 67, 0.15);\n",
              "      fill: #174EA6;\n",
              "    }\n",
              "\n",
              "    [theme=dark] .colab-df-convert {\n",
              "      background-color: #3B4455;\n",
              "      fill: #D2E3FC;\n",
              "    }\n",
              "\n",
              "    [theme=dark] .colab-df-convert:hover {\n",
              "      background-color: #434B5C;\n",
              "      box-shadow: 0px 1px 3px 1px rgba(0, 0, 0, 0.15);\n",
              "      filter: drop-shadow(0px 1px 2px rgba(0, 0, 0, 0.3));\n",
              "      fill: #FFFFFF;\n",
              "    }\n",
              "  </style>\n",
              "\n",
              "      <script>\n",
              "        const buttonEl =\n",
              "          document.querySelector('#df-46cb8fff-eed4-48c3-a062-0b7399539436 button.colab-df-convert');\n",
              "        buttonEl.style.display =\n",
              "          google.colab.kernel.accessAllowed ? 'block' : 'none';\n",
              "\n",
              "        async function convertToInteractive(key) {\n",
              "          const element = document.querySelector('#df-46cb8fff-eed4-48c3-a062-0b7399539436');\n",
              "          const dataTable =\n",
              "            await google.colab.kernel.invokeFunction('convertToInteractive',\n",
              "                                                     [key], {});\n",
              "          if (!dataTable) return;\n",
              "\n",
              "          const docLinkHtml = 'Like what you see? Visit the ' +\n",
              "            '<a target=\"_blank\" href=https://colab.research.google.com/notebooks/data_table.ipynb>data table notebook</a>'\n",
              "            + ' to learn more about interactive tables.';\n",
              "          element.innerHTML = '';\n",
              "          dataTable['output_type'] = 'display_data';\n",
              "          await google.colab.output.renderOutput(dataTable, element);\n",
              "          const docLink = document.createElement('div');\n",
              "          docLink.innerHTML = docLinkHtml;\n",
              "          element.appendChild(docLink);\n",
              "        }\n",
              "      </script>\n",
              "    </div>\n",
              "  </div>\n",
              "  "
            ],
            "text/plain": [
              "    Retrasos  Neuronas LSTM  Batch size  LSTM Layers       MSE       MAE  \\\n",
              "45        24            100          50            1  0.727501  0.613977   \n",
              "\n",
              "        RMSE  \n",
              "45  0.852937  "
            ]
          },
          "execution_count": 27,
          "metadata": {},
          "output_type": "execute_result"
        }
      ],
      "source": [
        "df_resultados[df_resultados['RMSE']==df_resultados['RMSE'].min()]"
      ]
    },
    {
      "cell_type": "markdown",
      "source": [
        "Se utiliza el mínimo RSME como referencia para elegir el mejor modelo."
      ],
      "metadata": {
        "id": "I8vAKe-To3hz"
      }
    },
    {
      "cell_type": "code",
      "execution_count": null,
      "metadata": {
        "id": "Kgr9uCqLcO8I"
      },
      "outputs": [],
      "source": [
        "min_RMSE = 0.8529369387939835"
      ]
    },
    {
      "cell_type": "markdown",
      "source": [
        "Se realiza la búsqueda de los mejores parámetros."
      ],
      "metadata": {
        "id": "kcdSUZOqo7tP"
      }
    },
    {
      "cell_type": "code",
      "execution_count": null,
      "metadata": {
        "colab": {
          "base_uri": "https://localhost:8080/"
        },
        "id": "4RwZr0x700HM",
        "outputId": "77bf7832-6a1e-4984-8c4b-42ea7e56f005"
      },
      "outputs": [
        {
          "output_type": "stream",
          "name": "stdout",
          "text": [
            "{'Retrasos': 32, 'Neuronas LSTM': 100, 'Batch size': 100, 'LSTM Layers': 2}\n",
            "RMSE 0.8695346463004078\n",
            "MAE 0.620494382281841\n",
            "Min RMSE 0.8529369387939835\n",
            "{'Retrasos': 32, 'Neuronas LSTM': 100, 'Batch size': 100, 'LSTM Layers': 3}\n",
            "RMSE 0.882662476768732\n",
            "MAE 0.6454028996870647\n",
            "Min RMSE 0.8529369387939835\n",
            "{'Retrasos': 32, 'Neuronas LSTM': 100, 'Batch size': 150, 'LSTM Layers': 1}\n",
            "RMSE 0.8998044409414245\n",
            "MAE 0.6345944216475425\n",
            "Min RMSE 0.8529369387939835\n",
            "{'Retrasos': 32, 'Neuronas LSTM': 100, 'Batch size': 150, 'LSTM Layers': 2}\n",
            "RMSE 0.8750889577876831\n",
            "MAE 0.6272583895650855\n",
            "Min RMSE 0.8529369387939835\n",
            "{'Retrasos': 32, 'Neuronas LSTM': 100, 'Batch size': 150, 'LSTM Layers': 3}\n",
            "RMSE 0.9137148209177316\n",
            "MAE 0.6704527491497382\n",
            "Min RMSE 0.8529369387939835\n"
          ]
        }
      ],
      "source": [
        "for retrasos in range(20,33,4): #hasta dos días y medio hacia el pasado\n",
        "  for num_neuronas in range(50,101,25): \n",
        "    for batch_size in range(50,151,50):\n",
        "      for num_layers in range(1,4): \n",
        "        if((retrasos,num_neuronas,batch_size,num_layers) in combinaciones_anteriores):\n",
        "          continue\n",
        "        print({\n",
        "            'Retrasos':retrasos,\n",
        "            'Neuronas LSTM':num_neuronas,\n",
        "            'Batch size':batch_size,\n",
        "            'LSTM Layers': num_layers,\n",
        "        })\n",
        "        n_input = retrasos # horas hacia atrás\n",
        "        n_features = 0 # variables exógenas\n",
        "        generator = TimeseriesGenerator(scaled_train, scaled_train, length=n_input, batch_size=1)  \n",
        "        model = create_Model(n_input,LSTM_neurons=num_neuronas,layers=num_layers)\n",
        "        model.fit(generator,epochs=7,verbose=False,batch_size=batch_size)\n",
        "        predictions = []\n",
        "        for j in range(n_input,len(df_test)):\n",
        "          model_input = scaled_test[j-n_input:j]\n",
        "          model_input = model_input.reshape((1, n_input, n_features+1))\n",
        "          predictions.append(model.predict(model_input)[0])\n",
        "        predictions = np.ndarray.flatten(np.array(predictions))  \n",
        "        true_predictions = scaler.inverse_transform(np.reshape(predictions,(-1,1)))\n",
        "        true_values = np.ndarray.flatten(df_test.iloc[n_input:]['WS1HA'].values)\n",
        "        errorMSE = mean_squared_error(true_values,true_predictions)\n",
        "        errorMAE = mean_absolute_error(true_values,true_predictions)\n",
        "        errorRMSE = np.sqrt(errorMSE)\n",
        "        print('RMSE',errorRMSE)\n",
        "        print('MAE',errorMAE)\n",
        "        print('Min RMSE',min_RMSE)\n",
        "        if(errorRMSE<min_RMSE):\n",
        "          print('BEST')\n",
        "          model.save('./drive/MyDrive/DatosInvestigacion/LSTM_univariado_Viento.h5')\n",
        "          min_RMSE = errorRMSE\n",
        "\n",
        "        resultado = {\n",
        "            'Retrasos':retrasos,\n",
        "            'Neuronas LSTM':num_neuronas,\n",
        "            'Batch size':batch_size,\n",
        "            'LSTM Layers': num_layers,\n",
        "            'MSE':errorMSE,\n",
        "            'MAE':errorMAE,\n",
        "            'RMSE':errorRMSE\n",
        "        }\n",
        "        with open(\"./drive/MyDrive/DatosInvestigacion/resultados_LSTM_univariado_viento.txt\",\"a\") as file:\n",
        "          resultado = json.dumps(resultado)\n",
        "          file.write(resultado)\n",
        "          file.write('\\n')"
      ]
    },
    {
      "cell_type": "markdown",
      "source": [
        "Se guardan los resultados como csv."
      ],
      "metadata": {
        "id": "Zxq-mhPRpPdC"
      }
    },
    {
      "cell_type": "code",
      "execution_count": 10,
      "metadata": {
        "id": "JsqnXMLS24mp"
      },
      "outputs": [],
      "source": [
        "df_resultados.to_csv('./drive/MyDrive/DatosInvestigacion/lstm_viento_resultados.csv',index=False)"
      ]
    },
    {
      "cell_type": "code",
      "execution_count": 11,
      "metadata": {
        "id": "FxNoXEMq2_L0"
      },
      "outputs": [],
      "source": [
        "df_resultados = pd.read_csv('./drive/MyDrive/DatosInvestigacion/lstm_viento_resultados.csv')"
      ]
    },
    {
      "cell_type": "code",
      "execution_count": 12,
      "metadata": {
        "colab": {
          "base_uri": "https://localhost:8080/",
          "height": 206
        },
        "id": "B7qAuKvoWFmV",
        "outputId": "f6bbb261-a464-46d7-b13b-bd4d5867727d"
      },
      "outputs": [
        {
          "output_type": "execute_result",
          "data": {
            "text/plain": [
              "   Retrasos  Neuronas LSTM  Batch size  LSTM Layers       MSE       MAE  \\\n",
              "0        24             50          50            1  0.743698  0.621528   \n",
              "1        24             50          50            2  0.753384  0.621339   \n",
              "2        24             50          50            3  0.778511  0.636489   \n",
              "3        24             50         100            1  0.886013  0.724489   \n",
              "4        24             50         100            2  0.807436  0.641749   \n",
              "\n",
              "       RMSE  \n",
              "0  0.862379  \n",
              "1  0.867977  \n",
              "2  0.882333  \n",
              "3  0.941283  \n",
              "4  0.898575  "
            ],
            "text/html": [
              "\n",
              "  <div id=\"df-a03d966b-815f-4245-afa7-46132d50b565\">\n",
              "    <div class=\"colab-df-container\">\n",
              "      <div>\n",
              "<style scoped>\n",
              "    .dataframe tbody tr th:only-of-type {\n",
              "        vertical-align: middle;\n",
              "    }\n",
              "\n",
              "    .dataframe tbody tr th {\n",
              "        vertical-align: top;\n",
              "    }\n",
              "\n",
              "    .dataframe thead th {\n",
              "        text-align: right;\n",
              "    }\n",
              "</style>\n",
              "<table border=\"1\" class=\"dataframe\">\n",
              "  <thead>\n",
              "    <tr style=\"text-align: right;\">\n",
              "      <th></th>\n",
              "      <th>Retrasos</th>\n",
              "      <th>Neuronas LSTM</th>\n",
              "      <th>Batch size</th>\n",
              "      <th>LSTM Layers</th>\n",
              "      <th>MSE</th>\n",
              "      <th>MAE</th>\n",
              "      <th>RMSE</th>\n",
              "    </tr>\n",
              "  </thead>\n",
              "  <tbody>\n",
              "    <tr>\n",
              "      <th>0</th>\n",
              "      <td>24</td>\n",
              "      <td>50</td>\n",
              "      <td>50</td>\n",
              "      <td>1</td>\n",
              "      <td>0.743698</td>\n",
              "      <td>0.621528</td>\n",
              "      <td>0.862379</td>\n",
              "    </tr>\n",
              "    <tr>\n",
              "      <th>1</th>\n",
              "      <td>24</td>\n",
              "      <td>50</td>\n",
              "      <td>50</td>\n",
              "      <td>2</td>\n",
              "      <td>0.753384</td>\n",
              "      <td>0.621339</td>\n",
              "      <td>0.867977</td>\n",
              "    </tr>\n",
              "    <tr>\n",
              "      <th>2</th>\n",
              "      <td>24</td>\n",
              "      <td>50</td>\n",
              "      <td>50</td>\n",
              "      <td>3</td>\n",
              "      <td>0.778511</td>\n",
              "      <td>0.636489</td>\n",
              "      <td>0.882333</td>\n",
              "    </tr>\n",
              "    <tr>\n",
              "      <th>3</th>\n",
              "      <td>24</td>\n",
              "      <td>50</td>\n",
              "      <td>100</td>\n",
              "      <td>1</td>\n",
              "      <td>0.886013</td>\n",
              "      <td>0.724489</td>\n",
              "      <td>0.941283</td>\n",
              "    </tr>\n",
              "    <tr>\n",
              "      <th>4</th>\n",
              "      <td>24</td>\n",
              "      <td>50</td>\n",
              "      <td>100</td>\n",
              "      <td>2</td>\n",
              "      <td>0.807436</td>\n",
              "      <td>0.641749</td>\n",
              "      <td>0.898575</td>\n",
              "    </tr>\n",
              "  </tbody>\n",
              "</table>\n",
              "</div>\n",
              "      <button class=\"colab-df-convert\" onclick=\"convertToInteractive('df-a03d966b-815f-4245-afa7-46132d50b565')\"\n",
              "              title=\"Convert this dataframe to an interactive table.\"\n",
              "              style=\"display:none;\">\n",
              "        \n",
              "  <svg xmlns=\"http://www.w3.org/2000/svg\" height=\"24px\"viewBox=\"0 0 24 24\"\n",
              "       width=\"24px\">\n",
              "    <path d=\"M0 0h24v24H0V0z\" fill=\"none\"/>\n",
              "    <path d=\"M18.56 5.44l.94 2.06.94-2.06 2.06-.94-2.06-.94-.94-2.06-.94 2.06-2.06.94zm-11 1L8.5 8.5l.94-2.06 2.06-.94-2.06-.94L8.5 2.5l-.94 2.06-2.06.94zm10 10l.94 2.06.94-2.06 2.06-.94-2.06-.94-.94-2.06-.94 2.06-2.06.94z\"/><path d=\"M17.41 7.96l-1.37-1.37c-.4-.4-.92-.59-1.43-.59-.52 0-1.04.2-1.43.59L10.3 9.45l-7.72 7.72c-.78.78-.78 2.05 0 2.83L4 21.41c.39.39.9.59 1.41.59.51 0 1.02-.2 1.41-.59l7.78-7.78 2.81-2.81c.8-.78.8-2.07 0-2.86zM5.41 20L4 18.59l7.72-7.72 1.47 1.35L5.41 20z\"/>\n",
              "  </svg>\n",
              "      </button>\n",
              "      \n",
              "  <style>\n",
              "    .colab-df-container {\n",
              "      display:flex;\n",
              "      flex-wrap:wrap;\n",
              "      gap: 12px;\n",
              "    }\n",
              "\n",
              "    .colab-df-convert {\n",
              "      background-color: #E8F0FE;\n",
              "      border: none;\n",
              "      border-radius: 50%;\n",
              "      cursor: pointer;\n",
              "      display: none;\n",
              "      fill: #1967D2;\n",
              "      height: 32px;\n",
              "      padding: 0 0 0 0;\n",
              "      width: 32px;\n",
              "    }\n",
              "\n",
              "    .colab-df-convert:hover {\n",
              "      background-color: #E2EBFA;\n",
              "      box-shadow: 0px 1px 2px rgba(60, 64, 67, 0.3), 0px 1px 3px 1px rgba(60, 64, 67, 0.15);\n",
              "      fill: #174EA6;\n",
              "    }\n",
              "\n",
              "    [theme=dark] .colab-df-convert {\n",
              "      background-color: #3B4455;\n",
              "      fill: #D2E3FC;\n",
              "    }\n",
              "\n",
              "    [theme=dark] .colab-df-convert:hover {\n",
              "      background-color: #434B5C;\n",
              "      box-shadow: 0px 1px 3px 1px rgba(0, 0, 0, 0.15);\n",
              "      filter: drop-shadow(0px 1px 2px rgba(0, 0, 0, 0.3));\n",
              "      fill: #FFFFFF;\n",
              "    }\n",
              "  </style>\n",
              "\n",
              "      <script>\n",
              "        const buttonEl =\n",
              "          document.querySelector('#df-a03d966b-815f-4245-afa7-46132d50b565 button.colab-df-convert');\n",
              "        buttonEl.style.display =\n",
              "          google.colab.kernel.accessAllowed ? 'block' : 'none';\n",
              "\n",
              "        async function convertToInteractive(key) {\n",
              "          const element = document.querySelector('#df-a03d966b-815f-4245-afa7-46132d50b565');\n",
              "          const dataTable =\n",
              "            await google.colab.kernel.invokeFunction('convertToInteractive',\n",
              "                                                     [key], {});\n",
              "          if (!dataTable) return;\n",
              "\n",
              "          const docLinkHtml = 'Like what you see? Visit the ' +\n",
              "            '<a target=\"_blank\" href=https://colab.research.google.com/notebooks/data_table.ipynb>data table notebook</a>'\n",
              "            + ' to learn more about interactive tables.';\n",
              "          element.innerHTML = '';\n",
              "          dataTable['output_type'] = 'display_data';\n",
              "          await google.colab.output.renderOutput(dataTable, element);\n",
              "          const docLink = document.createElement('div');\n",
              "          docLink.innerHTML = docLinkHtml;\n",
              "          element.appendChild(docLink);\n",
              "        }\n",
              "      </script>\n",
              "    </div>\n",
              "  </div>\n",
              "  "
            ]
          },
          "metadata": {},
          "execution_count": 12
        }
      ],
      "source": [
        "df_resultados.head()"
      ]
    },
    {
      "cell_type": "markdown",
      "metadata": {
        "id": "TBxwPFaUcItK"
      },
      "source": [
        "Comparar con otros modelos"
      ]
    },
    {
      "cell_type": "code",
      "execution_count": 13,
      "metadata": {
        "colab": {
          "base_uri": "https://localhost:8080/",
          "height": 80
        },
        "id": "rj3XBDgyWPZx",
        "outputId": "36c8d1f5-1819-40ea-dedd-549acc921fb5"
      },
      "outputs": [
        {
          "output_type": "execute_result",
          "data": {
            "text/plain": [
              "    Retrasos  Neuronas LSTM  Batch size  LSTM Layers       MSE       MAE  \\\n",
              "45        24            100          50            1  0.727501  0.613977   \n",
              "\n",
              "        RMSE  \n",
              "45  0.852937  "
            ],
            "text/html": [
              "\n",
              "  <div id=\"df-df69f549-85be-48ec-b6be-7ac85f721ae0\">\n",
              "    <div class=\"colab-df-container\">\n",
              "      <div>\n",
              "<style scoped>\n",
              "    .dataframe tbody tr th:only-of-type {\n",
              "        vertical-align: middle;\n",
              "    }\n",
              "\n",
              "    .dataframe tbody tr th {\n",
              "        vertical-align: top;\n",
              "    }\n",
              "\n",
              "    .dataframe thead th {\n",
              "        text-align: right;\n",
              "    }\n",
              "</style>\n",
              "<table border=\"1\" class=\"dataframe\">\n",
              "  <thead>\n",
              "    <tr style=\"text-align: right;\">\n",
              "      <th></th>\n",
              "      <th>Retrasos</th>\n",
              "      <th>Neuronas LSTM</th>\n",
              "      <th>Batch size</th>\n",
              "      <th>LSTM Layers</th>\n",
              "      <th>MSE</th>\n",
              "      <th>MAE</th>\n",
              "      <th>RMSE</th>\n",
              "    </tr>\n",
              "  </thead>\n",
              "  <tbody>\n",
              "    <tr>\n",
              "      <th>45</th>\n",
              "      <td>24</td>\n",
              "      <td>100</td>\n",
              "      <td>50</td>\n",
              "      <td>1</td>\n",
              "      <td>0.727501</td>\n",
              "      <td>0.613977</td>\n",
              "      <td>0.852937</td>\n",
              "    </tr>\n",
              "  </tbody>\n",
              "</table>\n",
              "</div>\n",
              "      <button class=\"colab-df-convert\" onclick=\"convertToInteractive('df-df69f549-85be-48ec-b6be-7ac85f721ae0')\"\n",
              "              title=\"Convert this dataframe to an interactive table.\"\n",
              "              style=\"display:none;\">\n",
              "        \n",
              "  <svg xmlns=\"http://www.w3.org/2000/svg\" height=\"24px\"viewBox=\"0 0 24 24\"\n",
              "       width=\"24px\">\n",
              "    <path d=\"M0 0h24v24H0V0z\" fill=\"none\"/>\n",
              "    <path d=\"M18.56 5.44l.94 2.06.94-2.06 2.06-.94-2.06-.94-.94-2.06-.94 2.06-2.06.94zm-11 1L8.5 8.5l.94-2.06 2.06-.94-2.06-.94L8.5 2.5l-.94 2.06-2.06.94zm10 10l.94 2.06.94-2.06 2.06-.94-2.06-.94-.94-2.06-.94 2.06-2.06.94z\"/><path d=\"M17.41 7.96l-1.37-1.37c-.4-.4-.92-.59-1.43-.59-.52 0-1.04.2-1.43.59L10.3 9.45l-7.72 7.72c-.78.78-.78 2.05 0 2.83L4 21.41c.39.39.9.59 1.41.59.51 0 1.02-.2 1.41-.59l7.78-7.78 2.81-2.81c.8-.78.8-2.07 0-2.86zM5.41 20L4 18.59l7.72-7.72 1.47 1.35L5.41 20z\"/>\n",
              "  </svg>\n",
              "      </button>\n",
              "      \n",
              "  <style>\n",
              "    .colab-df-container {\n",
              "      display:flex;\n",
              "      flex-wrap:wrap;\n",
              "      gap: 12px;\n",
              "    }\n",
              "\n",
              "    .colab-df-convert {\n",
              "      background-color: #E8F0FE;\n",
              "      border: none;\n",
              "      border-radius: 50%;\n",
              "      cursor: pointer;\n",
              "      display: none;\n",
              "      fill: #1967D2;\n",
              "      height: 32px;\n",
              "      padding: 0 0 0 0;\n",
              "      width: 32px;\n",
              "    }\n",
              "\n",
              "    .colab-df-convert:hover {\n",
              "      background-color: #E2EBFA;\n",
              "      box-shadow: 0px 1px 2px rgba(60, 64, 67, 0.3), 0px 1px 3px 1px rgba(60, 64, 67, 0.15);\n",
              "      fill: #174EA6;\n",
              "    }\n",
              "\n",
              "    [theme=dark] .colab-df-convert {\n",
              "      background-color: #3B4455;\n",
              "      fill: #D2E3FC;\n",
              "    }\n",
              "\n",
              "    [theme=dark] .colab-df-convert:hover {\n",
              "      background-color: #434B5C;\n",
              "      box-shadow: 0px 1px 3px 1px rgba(0, 0, 0, 0.15);\n",
              "      filter: drop-shadow(0px 1px 2px rgba(0, 0, 0, 0.3));\n",
              "      fill: #FFFFFF;\n",
              "    }\n",
              "  </style>\n",
              "\n",
              "      <script>\n",
              "        const buttonEl =\n",
              "          document.querySelector('#df-df69f549-85be-48ec-b6be-7ac85f721ae0 button.colab-df-convert');\n",
              "        buttonEl.style.display =\n",
              "          google.colab.kernel.accessAllowed ? 'block' : 'none';\n",
              "\n",
              "        async function convertToInteractive(key) {\n",
              "          const element = document.querySelector('#df-df69f549-85be-48ec-b6be-7ac85f721ae0');\n",
              "          const dataTable =\n",
              "            await google.colab.kernel.invokeFunction('convertToInteractive',\n",
              "                                                     [key], {});\n",
              "          if (!dataTable) return;\n",
              "\n",
              "          const docLinkHtml = 'Like what you see? Visit the ' +\n",
              "            '<a target=\"_blank\" href=https://colab.research.google.com/notebooks/data_table.ipynb>data table notebook</a>'\n",
              "            + ' to learn more about interactive tables.';\n",
              "          element.innerHTML = '';\n",
              "          dataTable['output_type'] = 'display_data';\n",
              "          await google.colab.output.renderOutput(dataTable, element);\n",
              "          const docLink = document.createElement('div');\n",
              "          docLink.innerHTML = docLinkHtml;\n",
              "          element.appendChild(docLink);\n",
              "        }\n",
              "      </script>\n",
              "    </div>\n",
              "  </div>\n",
              "  "
            ]
          },
          "metadata": {},
          "execution_count": 13
        }
      ],
      "source": [
        "df_resultados[df_resultados['MAE'] == df_resultados['MAE'].min()]"
      ]
    },
    {
      "cell_type": "code",
      "execution_count": 14,
      "metadata": {
        "colab": {
          "base_uri": "https://localhost:8080/",
          "height": 80
        },
        "id": "E05MWb0AWW2Q",
        "outputId": "1687bd99-2cb7-4bd4-a345-8a78de4d5b6d"
      },
      "outputs": [
        {
          "output_type": "execute_result",
          "data": {
            "text/plain": [
              "    Retrasos  Neuronas LSTM  Batch size  LSTM Layers       MSE       MAE  \\\n",
              "45        24            100          50            1  0.727501  0.613977   \n",
              "\n",
              "        RMSE  \n",
              "45  0.852937  "
            ],
            "text/html": [
              "\n",
              "  <div id=\"df-7229164c-49bf-4cd0-bcda-ba8cf6955839\">\n",
              "    <div class=\"colab-df-container\">\n",
              "      <div>\n",
              "<style scoped>\n",
              "    .dataframe tbody tr th:only-of-type {\n",
              "        vertical-align: middle;\n",
              "    }\n",
              "\n",
              "    .dataframe tbody tr th {\n",
              "        vertical-align: top;\n",
              "    }\n",
              "\n",
              "    .dataframe thead th {\n",
              "        text-align: right;\n",
              "    }\n",
              "</style>\n",
              "<table border=\"1\" class=\"dataframe\">\n",
              "  <thead>\n",
              "    <tr style=\"text-align: right;\">\n",
              "      <th></th>\n",
              "      <th>Retrasos</th>\n",
              "      <th>Neuronas LSTM</th>\n",
              "      <th>Batch size</th>\n",
              "      <th>LSTM Layers</th>\n",
              "      <th>MSE</th>\n",
              "      <th>MAE</th>\n",
              "      <th>RMSE</th>\n",
              "    </tr>\n",
              "  </thead>\n",
              "  <tbody>\n",
              "    <tr>\n",
              "      <th>45</th>\n",
              "      <td>24</td>\n",
              "      <td>100</td>\n",
              "      <td>50</td>\n",
              "      <td>1</td>\n",
              "      <td>0.727501</td>\n",
              "      <td>0.613977</td>\n",
              "      <td>0.852937</td>\n",
              "    </tr>\n",
              "  </tbody>\n",
              "</table>\n",
              "</div>\n",
              "      <button class=\"colab-df-convert\" onclick=\"convertToInteractive('df-7229164c-49bf-4cd0-bcda-ba8cf6955839')\"\n",
              "              title=\"Convert this dataframe to an interactive table.\"\n",
              "              style=\"display:none;\">\n",
              "        \n",
              "  <svg xmlns=\"http://www.w3.org/2000/svg\" height=\"24px\"viewBox=\"0 0 24 24\"\n",
              "       width=\"24px\">\n",
              "    <path d=\"M0 0h24v24H0V0z\" fill=\"none\"/>\n",
              "    <path d=\"M18.56 5.44l.94 2.06.94-2.06 2.06-.94-2.06-.94-.94-2.06-.94 2.06-2.06.94zm-11 1L8.5 8.5l.94-2.06 2.06-.94-2.06-.94L8.5 2.5l-.94 2.06-2.06.94zm10 10l.94 2.06.94-2.06 2.06-.94-2.06-.94-.94-2.06-.94 2.06-2.06.94z\"/><path d=\"M17.41 7.96l-1.37-1.37c-.4-.4-.92-.59-1.43-.59-.52 0-1.04.2-1.43.59L10.3 9.45l-7.72 7.72c-.78.78-.78 2.05 0 2.83L4 21.41c.39.39.9.59 1.41.59.51 0 1.02-.2 1.41-.59l7.78-7.78 2.81-2.81c.8-.78.8-2.07 0-2.86zM5.41 20L4 18.59l7.72-7.72 1.47 1.35L5.41 20z\"/>\n",
              "  </svg>\n",
              "      </button>\n",
              "      \n",
              "  <style>\n",
              "    .colab-df-container {\n",
              "      display:flex;\n",
              "      flex-wrap:wrap;\n",
              "      gap: 12px;\n",
              "    }\n",
              "\n",
              "    .colab-df-convert {\n",
              "      background-color: #E8F0FE;\n",
              "      border: none;\n",
              "      border-radius: 50%;\n",
              "      cursor: pointer;\n",
              "      display: none;\n",
              "      fill: #1967D2;\n",
              "      height: 32px;\n",
              "      padding: 0 0 0 0;\n",
              "      width: 32px;\n",
              "    }\n",
              "\n",
              "    .colab-df-convert:hover {\n",
              "      background-color: #E2EBFA;\n",
              "      box-shadow: 0px 1px 2px rgba(60, 64, 67, 0.3), 0px 1px 3px 1px rgba(60, 64, 67, 0.15);\n",
              "      fill: #174EA6;\n",
              "    }\n",
              "\n",
              "    [theme=dark] .colab-df-convert {\n",
              "      background-color: #3B4455;\n",
              "      fill: #D2E3FC;\n",
              "    }\n",
              "\n",
              "    [theme=dark] .colab-df-convert:hover {\n",
              "      background-color: #434B5C;\n",
              "      box-shadow: 0px 1px 3px 1px rgba(0, 0, 0, 0.15);\n",
              "      filter: drop-shadow(0px 1px 2px rgba(0, 0, 0, 0.3));\n",
              "      fill: #FFFFFF;\n",
              "    }\n",
              "  </style>\n",
              "\n",
              "      <script>\n",
              "        const buttonEl =\n",
              "          document.querySelector('#df-7229164c-49bf-4cd0-bcda-ba8cf6955839 button.colab-df-convert');\n",
              "        buttonEl.style.display =\n",
              "          google.colab.kernel.accessAllowed ? 'block' : 'none';\n",
              "\n",
              "        async function convertToInteractive(key) {\n",
              "          const element = document.querySelector('#df-7229164c-49bf-4cd0-bcda-ba8cf6955839');\n",
              "          const dataTable =\n",
              "            await google.colab.kernel.invokeFunction('convertToInteractive',\n",
              "                                                     [key], {});\n",
              "          if (!dataTable) return;\n",
              "\n",
              "          const docLinkHtml = 'Like what you see? Visit the ' +\n",
              "            '<a target=\"_blank\" href=https://colab.research.google.com/notebooks/data_table.ipynb>data table notebook</a>'\n",
              "            + ' to learn more about interactive tables.';\n",
              "          element.innerHTML = '';\n",
              "          dataTable['output_type'] = 'display_data';\n",
              "          await google.colab.output.renderOutput(dataTable, element);\n",
              "          const docLink = document.createElement('div');\n",
              "          docLink.innerHTML = docLinkHtml;\n",
              "          element.appendChild(docLink);\n",
              "        }\n",
              "      </script>\n",
              "    </div>\n",
              "  </div>\n",
              "  "
            ]
          },
          "metadata": {},
          "execution_count": 14
        }
      ],
      "source": [
        "df_resultados[df_resultados['RMSE'] == df_resultados['RMSE'].min()]"
      ]
    },
    {
      "cell_type": "markdown",
      "metadata": {
        "id": "SJ36pGb8UV6B"
      },
      "source": [
        "## Gráficas de los resultados"
      ]
    },
    {
      "cell_type": "code",
      "execution_count": 15,
      "metadata": {
        "id": "bqyWTVU68AbI"
      },
      "outputs": [],
      "source": [
        "import seaborn as sns"
      ]
    },
    {
      "cell_type": "markdown",
      "source": [
        "### Número de retrasos"
      ],
      "metadata": {
        "id": "B4jeOjadpt_x"
      }
    },
    {
      "cell_type": "markdown",
      "source": [
        "El mejor número de retrasos es 24."
      ],
      "metadata": {
        "id": "NSt-rVXipww3"
      }
    },
    {
      "cell_type": "code",
      "execution_count": 16,
      "metadata": {
        "colab": {
          "base_uri": "https://localhost:8080/",
          "height": 356
        },
        "id": "dE6TwPkCUa9T",
        "outputId": "5202eb3e-7f45-415a-be3e-77301bcdefeb"
      },
      "outputs": [
        {
          "output_type": "execute_result",
          "data": {
            "text/plain": [
              "<matplotlib.axes._subplots.AxesSubplot at 0x7f62bb0aae10>"
            ]
          },
          "metadata": {},
          "execution_count": 16
        },
        {
          "output_type": "display_data",
          "data": {
            "text/plain": [
              "<Figure size 720x360 with 1 Axes>"
            ],
            "image/png": "[encoded data removed]"
          },
          "metadata": {}
        }
      ],
      "source": [
        "sns.set(rc={\"figure.figsize\":(10, 5)})\n",
        "sns.lineplot(data=df_resultados, x='Retrasos', y='RMSE',hue='LSTM Layers',palette='tab10',ci=0, estimator=np.min)"
      ]
    },
    {
      "cell_type": "markdown",
      "metadata": {
        "id": "Z2WcQV1hUh9C"
      },
      "source": [
        "### Número de neuronas"
      ]
    },
    {
      "cell_type": "markdown",
      "source": [
        "El mejor número de neuronas es 100."
      ],
      "metadata": {
        "id": "dIcbQW89p0lC"
      }
    },
    {
      "cell_type": "code",
      "execution_count": null,
      "metadata": {
        "colab": {
          "base_uri": "https://localhost:8080/",
          "height": 358
        },
        "id": "gXHu4RPVUjkn",
        "outputId": "a1b7bc5b-869f-4889-a5bb-380ba6d30e76"
      },
      "outputs": [
        {
          "output_type": "execute_result",
          "data": {
            "text/plain": [
              "<matplotlib.axes._subplots.AxesSubplot at 0x7eff08d8ba90>"
            ]
          },
          "metadata": {},
          "execution_count": 46
        },
        {
          "output_type": "display_data",
          "data": {
            "text/plain": [
              "<Figure size 720x360 with 1 Axes>"
            ],
            "image/png": "[encoded data removed]"
          },
          "metadata": {}
        }
      ],
      "source": [
        "sns.set(rc={\"figure.figsize\":(10, 5)})\n",
        "sns.lineplot(data=df_resultados, x='Neuronas LSTM', y='RMSE',hue='LSTM Layers',palette='tab10', ci=0, estimator=np.min)"
      ]
    },
    {
      "cell_type": "markdown",
      "metadata": {
        "id": "Sus0BAsGUoLR"
      },
      "source": [
        "### Batch size"
      ]
    },
    {
      "cell_type": "markdown",
      "source": [
        "El mejor batch size es 50."
      ],
      "metadata": {
        "id": "Qouq4OCGp6t_"
      }
    },
    {
      "cell_type": "code",
      "execution_count": null,
      "metadata": {
        "colab": {
          "base_uri": "https://localhost:8080/",
          "height": 356
        },
        "id": "nW1Kr1R0UpL1",
        "outputId": "f85f1cde-4b18-4a7f-c75f-61a25e4c7638"
      },
      "outputs": [
        {
          "output_type": "execute_result",
          "data": {
            "text/plain": [
              "<matplotlib.axes._subplots.AxesSubplot at 0x7eff09193150>"
            ]
          },
          "metadata": {},
          "execution_count": 48
        },
        {
          "output_type": "display_data",
          "data": {
            "text/plain": [
              "<Figure size 720x360 with 1 Axes>"
            ],
            "image/png": "[encoded data removed]"
          },
          "metadata": {}
        }
      ],
      "source": [
        "  sns.set(rc={\"figure.figsize\":(10, 5)})\n",
        "  sns.lineplot(data=df_resultados, x='Batch size', y='RMSE',hue='LSTM Layers',palette='tab10', ci=0, estimator=np.min)"
      ]
    },
    {
      "cell_type": "markdown",
      "metadata": {
        "id": "OlSzypInUwdq"
      },
      "source": [
        "### Conclusiones"
      ]
    },
    {
      "cell_type": "markdown",
      "metadata": {
        "id": "9UFVyNZIUx27"
      },
      "source": [
        "* 1 capa LSTM es mejor\n",
        "* El mejor batch size es de 50\n",
        "* El mejor número de retrasos es 24 (un día entero)\n",
        "* El mejor número de neuronas es 100"
      ]
    }
  ],
  "metadata": {
    "colab": {
      "collapsed_sections": [],
      "name": "Udla12.ipynb",
      "provenance": []
    },
    "kernelspec": {
      "display_name": "Python 3",
      "name": "python3"
    },
    "language_info": {
      "name": "python"
    }
  },
  "nbformat": 4,
  "nbformat_minor": 0
}