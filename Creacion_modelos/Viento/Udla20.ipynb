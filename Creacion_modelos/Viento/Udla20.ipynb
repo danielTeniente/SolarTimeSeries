{
 "cells": [
  {
   "cell_type": "markdown",
   "id": "7b4d7388-8bd3-45d6-8814-a6f4018b033a",
   "metadata": {},
   "source": [
    "# Visualizando Predicciones de Viento"
   ]
  },
  {
   "cell_type": "markdown",
   "id": "ba69b72a-77dd-4901-a6d0-19f030b8ef76",
   "metadata": {},
   "source": [
    "Se importan las librerías"
   ]
  },
  {
   "cell_type": "code",
   "execution_count": 54,
   "id": "fa5e7e30-b16a-4ef3-9079-975e568da5c7",
   "metadata": {},
   "outputs": [],
   "source": [
    "import pandas as pd\n",
    "import matplotlib.pyplot as plt\n",
    "import numpy as np\n",
    "from sklearn.metrics import mean_squared_error\n",
    "from sklearn.metrics import mean_absolute_error\n",
    "from tensorflow import keras\n",
    "from sklearn.preprocessing import MinMaxScaler\n",
    "from keras.models import Sequential\n",
    "from keras.layers import Dense\n",
    "from keras.preprocessing.sequence import TimeseriesGenerator\n",
    "from keras.layers import LSTM"
   ]
  },
  {
   "cell_type": "markdown",
   "id": "bb830a00-a6f5-40c9-b7c1-a9d24f8175f6",
   "metadata": {},
   "source": [
    "Se importan los datos"
   ]
  },
  {
   "cell_type": "code",
   "execution_count": 55,
   "id": "3782e89d-dbdc-40d6-b9fb-181654dffaac",
   "metadata": {},
   "outputs": [],
   "source": [
    "df = pd.read_csv('final_train_2015.csv', index_col=0, parse_dates=True)\n",
    "df = df.asfreq('h')\n",
    "df = df[['WS1HA','SRGLOAVG1H','RHMAX1H','WD1HA']]"
   ]
  },
  {
   "cell_type": "code",
   "execution_count": 56,
   "id": "80e5dc3d-db3a-443c-8da4-a4c61e1878f7",
   "metadata": {},
   "outputs": [],
   "source": [
    "df_test = pd.read_csv('final_test_2015.csv', index_col=0, parse_dates=True)\n",
    "df_test = df_test.asfreq('h')\n",
    "df_test = df_test[['WS1HA','SRGLOAVG1H','RHMAX1H','WD1HA']]"
   ]
  },
  {
   "cell_type": "code",
   "execution_count": 57,
   "id": "892f7fad-a7ad-41fc-abd4-5b025abdf698",
   "metadata": {},
   "outputs": [],
   "source": [
    "scaler = MinMaxScaler()"
   ]
  },
  {
   "cell_type": "markdown",
   "id": "d8cbf6eb-36a9-4782-8383-2af11ec12bd7",
   "metadata": {},
   "source": [
    "Se normalizan los datos"
   ]
  },
  {
   "cell_type": "code",
   "execution_count": 58,
   "id": "b5ad8ea5-41cb-4fa9-8fdb-66302e318238",
   "metadata": {},
   "outputs": [
    {
     "data": {
      "text/plain": [
       "MinMaxScaler()"
      ]
     },
     "execution_count": 58,
     "metadata": {},
     "output_type": "execute_result"
    }
   ],
   "source": [
    "scaler.fit(df)"
   ]
  },
  {
   "cell_type": "code",
   "execution_count": 59,
   "id": "ea8130b4-0ce1-43a2-9a27-ff5a1d4b7e3d",
   "metadata": {},
   "outputs": [],
   "source": [
    "scaled_train = scaler.transform(df)\n",
    "scaled_test = scaler.transform(df_test)"
   ]
  },
  {
   "cell_type": "markdown",
   "id": "dd6324ae-fbcb-4e5a-8487-9b14cd83d7d3",
   "metadata": {},
   "source": [
    "Se importan los mejores modelos."
   ]
  },
  {
   "cell_type": "code",
   "execution_count": 60,
   "id": "e944bffb-100d-4f6c-a254-da6d44625c39",
   "metadata": {},
   "outputs": [],
   "source": [
    "best_univariado = keras.models.load_model('../../Best_models/cuenca/LSTM_univariado_Viento.h5')\n",
    "best_multivariado = keras.models.load_model('../../Best_models/cuenca/LSTM_multivariado_viento.h5')"
   ]
  },
  {
   "cell_type": "markdown",
   "id": "87077ff2-2a9c-4299-9fd5-eb471fb60108",
   "metadata": {},
   "source": [
    "Se establecen los coeficientes del modelo de referencia AR."
   ]
  },
  {
   "cell_type": "code",
   "execution_count": 61,
   "id": "bf851fb8-6f06-483c-8a32-289ad4a4288c",
   "metadata": {},
   "outputs": [],
   "source": [
    "coef = [0.207770,\n",
    "    0.760548, -0.016077, 0.000998, 0.013141,\n",
    "    0.009231, 0.002767, 0.014599, -0.009329,\n",
    "    -0.007011, -0.015566, -0.004139, -0.011600,\n",
    "    0.001925, -0.018531, 0.016056, -0.002663,\n",
    "    -0.000195, 0.019879, 0.010009, -0.004381,\n",
    "    0.046295, 0.051081, 0.077785, 0.049039,\n",
    "    0.019718, -0.015886, -0.027731, -0.038589]"
   ]
  },
  {
   "cell_type": "code",
   "execution_count": 62,
   "id": "0ddbabfb-33e1-47eb-8f37-f7ba868343d7",
   "metadata": {},
   "outputs": [
    {
     "data": {
      "text/plain": [
       "29"
      ]
     },
     "execution_count": 62,
     "metadata": {},
     "output_type": "execute_result"
    }
   ],
   "source": [
    "len(coef)"
   ]
  },
  {
   "cell_type": "markdown",
   "id": "8b7406ea-e6f2-4b4e-955c-ac40a1d3abb4",
   "metadata": {},
   "source": [
    "Se crea una función para aplicar la ecuación AR."
   ]
  },
  {
   "cell_type": "code",
   "execution_count": 63,
   "id": "4af1d768-09fa-4f5f-ac07-5b878ba37534",
   "metadata": {},
   "outputs": [],
   "source": [
    "def get_pred(coef,data):\n",
    "    prediction = coef[0] # constante\n",
    "    # los datos se reciben en forma cronológica\n",
    "    j = 1\n",
    "    for i in range(len(data)-1,-1,-1):\n",
    "        prediction += coef[j] * data[i]\n",
    "        j+=1\n",
    "    return prediction"
   ]
  },
  {
   "cell_type": "markdown",
   "id": "52c1910d-0abd-4ae4-8388-6cb07e674dcb",
   "metadata": {},
   "source": [
    "## Predicciones"
   ]
  },
  {
   "cell_type": "markdown",
   "id": "d51623dd-3f64-4ac6-b857-6a32b977bc67",
   "metadata": {},
   "source": [
    "**Modelo AR:** El modelo trabaja con 28 retrasos."
   ]
  },
  {
   "cell_type": "code",
   "execution_count": 64,
   "id": "70f09261-f297-416e-93ff-c34a9bdbcf71",
   "metadata": {},
   "outputs": [],
   "source": [
    "retrasos = 28"
   ]
  },
  {
   "cell_type": "code",
   "execution_count": 65,
   "id": "b6e3a508-f991-465c-823c-2ff9cba6f256",
   "metadata": {},
   "outputs": [],
   "source": [
    "viento = df_test['WS1HA']"
   ]
  },
  {
   "cell_type": "code",
   "execution_count": 66,
   "id": "75c8d6b1-c5ab-446b-9a66-c086967cfc26",
   "metadata": {},
   "outputs": [],
   "source": [
    "predicciones_AR = []\n",
    "for i in range(retrasos,len(df_test)):\n",
    "    past_data = viento.iloc[i-retrasos:i].values\n",
    "    predicciones_AR.append(get_pred(coef,past_data))"
   ]
  },
  {
   "cell_type": "code",
   "execution_count": 67,
   "id": "e3de6f29-71a4-4f1c-8ab1-bf8311f514e2",
   "metadata": {},
   "outputs": [],
   "source": [
    "predicciones_AR = np.ndarray.flatten(np.array(predicciones_AR))"
   ]
  },
  {
   "cell_type": "code",
   "execution_count": 68,
   "id": "ab2969ab-36ad-4bc8-b6d5-7650a3c2acdc",
   "metadata": {},
   "outputs": [
    {
     "data": {
      "text/plain": [
       "3481"
      ]
     },
     "execution_count": 68,
     "metadata": {},
     "output_type": "execute_result"
    }
   ],
   "source": [
    "len(predicciones_AR)"
   ]
  },
  {
   "cell_type": "code",
   "execution_count": 69,
   "id": "c000d20a-7236-4267-8104-80a96a3a52b8",
   "metadata": {},
   "outputs": [],
   "source": [
    "real_data = df_test.iloc[retrasos:]['WS1HA'].values"
   ]
  },
  {
   "cell_type": "code",
   "execution_count": 70,
   "id": "06d7af17-fa2f-45f9-9c09-555f9cbd1471",
   "metadata": {},
   "outputs": [
    {
     "data": {
      "text/plain": [
       "3481"
      ]
     },
     "execution_count": 70,
     "metadata": {},
     "output_type": "execute_result"
    }
   ],
   "source": [
    "len(real_data)"
   ]
  },
  {
   "cell_type": "code",
   "execution_count": 71,
   "id": "d1f518b9-850d-44d2-8816-f086b48a360c",
   "metadata": {},
   "outputs": [],
   "source": [
    "df_predicciones = {\n",
    "    'Real Data':real_data,\n",
    "    'AR':predicciones_AR\n",
    "}"
   ]
  },
  {
   "cell_type": "code",
   "execution_count": 72,
   "id": "3a095cd3-0990-4d7d-97de-5cc23ad675d0",
   "metadata": {},
   "outputs": [],
   "source": [
    "df_predicciones = pd.DataFrame(df_predicciones)"
   ]
  },
  {
   "cell_type": "code",
   "execution_count": 73,
   "id": "507983e4-a95b-4643-a280-ef1f850c6bae",
   "metadata": {},
   "outputs": [
    {
     "data": {
      "text/html": [
       "<div>\n",
       "<style scoped>\n",
       "    .dataframe tbody tr th:only-of-type {\n",
       "        vertical-align: middle;\n",
       "    }\n",
       "\n",
       "    .dataframe tbody tr th {\n",
       "        vertical-align: top;\n",
       "    }\n",
       "\n",
       "    .dataframe thead th {\n",
       "        text-align: right;\n",
       "    }\n",
       "</style>\n",
       "<table border=\"1\" class=\"dataframe\">\n",
       "  <thead>\n",
       "    <tr style=\"text-align: right;\">\n",
       "      <th></th>\n",
       "      <th>Real Data</th>\n",
       "      <th>AR</th>\n",
       "    </tr>\n",
       "  </thead>\n",
       "  <tbody>\n",
       "    <tr>\n",
       "      <th>0</th>\n",
       "      <td>2.7</td>\n",
       "      <td>3.091876</td>\n",
       "    </tr>\n",
       "    <tr>\n",
       "      <th>1</th>\n",
       "      <td>3.0</td>\n",
       "      <td>2.662508</td>\n",
       "    </tr>\n",
       "    <tr>\n",
       "      <th>2</th>\n",
       "      <td>3.5</td>\n",
       "      <td>2.861125</td>\n",
       "    </tr>\n",
       "    <tr>\n",
       "      <th>3</th>\n",
       "      <td>3.2</td>\n",
       "      <td>3.163219</td>\n",
       "    </tr>\n",
       "    <tr>\n",
       "      <th>4</th>\n",
       "      <td>2.9</td>\n",
       "      <td>2.944217</td>\n",
       "    </tr>\n",
       "  </tbody>\n",
       "</table>\n",
       "</div>"
      ],
      "text/plain": [
       "   Real Data        AR\n",
       "0        2.7  3.091876\n",
       "1        3.0  2.662508\n",
       "2        3.5  2.861125\n",
       "3        3.2  3.163219\n",
       "4        2.9  2.944217"
      ]
     },
     "execution_count": 73,
     "metadata": {},
     "output_type": "execute_result"
    }
   ],
   "source": [
    "df_predicciones.head()"
   ]
  },
  {
   "cell_type": "code",
   "execution_count": 74,
   "id": "438d9f50-b9d9-40aa-b75a-a7176b7a3cc5",
   "metadata": {},
   "outputs": [],
   "source": [
    "df_predicciones = df_predicciones.set_index(df_test.iloc[retrasos:].index)"
   ]
  },
  {
   "cell_type": "code",
   "execution_count": 75,
   "id": "f3c6a53d-5504-4a10-854f-b2dd8cfd54d2",
   "metadata": {},
   "outputs": [
    {
     "data": {
      "text/html": [
       "<div>\n",
       "<style scoped>\n",
       "    .dataframe tbody tr th:only-of-type {\n",
       "        vertical-align: middle;\n",
       "    }\n",
       "\n",
       "    .dataframe tbody tr th {\n",
       "        vertical-align: top;\n",
       "    }\n",
       "\n",
       "    .dataframe thead th {\n",
       "        text-align: right;\n",
       "    }\n",
       "</style>\n",
       "<table border=\"1\" class=\"dataframe\">\n",
       "  <thead>\n",
       "    <tr style=\"text-align: right;\">\n",
       "      <th></th>\n",
       "      <th>Real Data</th>\n",
       "      <th>AR</th>\n",
       "    </tr>\n",
       "    <tr>\n",
       "      <th>Local_Time</th>\n",
       "      <th></th>\n",
       "      <th></th>\n",
       "    </tr>\n",
       "  </thead>\n",
       "  <tbody>\n",
       "    <tr>\n",
       "      <th>2016-08-09 00:00:00</th>\n",
       "      <td>2.7</td>\n",
       "      <td>3.091876</td>\n",
       "    </tr>\n",
       "    <tr>\n",
       "      <th>2016-08-09 01:00:00</th>\n",
       "      <td>3.0</td>\n",
       "      <td>2.662508</td>\n",
       "    </tr>\n",
       "    <tr>\n",
       "      <th>2016-08-09 02:00:00</th>\n",
       "      <td>3.5</td>\n",
       "      <td>2.861125</td>\n",
       "    </tr>\n",
       "    <tr>\n",
       "      <th>2016-08-09 03:00:00</th>\n",
       "      <td>3.2</td>\n",
       "      <td>3.163219</td>\n",
       "    </tr>\n",
       "    <tr>\n",
       "      <th>2016-08-09 04:00:00</th>\n",
       "      <td>2.9</td>\n",
       "      <td>2.944217</td>\n",
       "    </tr>\n",
       "  </tbody>\n",
       "</table>\n",
       "</div>"
      ],
      "text/plain": [
       "                     Real Data        AR\n",
       "Local_Time                              \n",
       "2016-08-09 00:00:00        2.7  3.091876\n",
       "2016-08-09 01:00:00        3.0  2.662508\n",
       "2016-08-09 02:00:00        3.5  2.861125\n",
       "2016-08-09 03:00:00        3.2  3.163219\n",
       "2016-08-09 04:00:00        2.9  2.944217"
      ]
     },
     "execution_count": 75,
     "metadata": {},
     "output_type": "execute_result"
    }
   ],
   "source": [
    "df_predicciones.head()"
   ]
  },
  {
   "cell_type": "markdown",
   "id": "f2985ede-e00b-4718-887c-0c482dbcc986",
   "metadata": {},
   "source": [
    "**Modelo LSTM univariado:** El modelo trabaja con 24 retrasos."
   ]
  },
  {
   "cell_type": "code",
   "execution_count": 76,
   "id": "06e1584e-6ca3-4e74-9b3f-f1259ae85ea1",
   "metadata": {},
   "outputs": [],
   "source": [
    "n_input = 24\n",
    "n_features = 0"
   ]
  },
  {
   "cell_type": "code",
   "execution_count": 77,
   "id": "66fef3b5-453f-43a0-aa4e-1ed3bb80d7a0",
   "metadata": {},
   "outputs": [
    {
     "data": {
      "text/plain": [
       "array([[0.35555556, 0.        , 0.75714286, 0.12256267],\n",
       "       [0.33333333, 0.        , 0.72857143, 0.13649025],\n",
       "       [0.34444444, 0.        , 0.75714286, 0.14206128]])"
      ]
     },
     "execution_count": 77,
     "metadata": {},
     "output_type": "execute_result"
    }
   ],
   "source": [
    "scaled_test[:3]"
   ]
  },
  {
   "cell_type": "code",
   "execution_count": 78,
   "id": "913bf813-ada5-4826-9a60-5889ade639b3",
   "metadata": {},
   "outputs": [],
   "source": [
    "viento = scaled_test[:,0]"
   ]
  },
  {
   "cell_type": "markdown",
   "id": "17920037-4e86-4a0f-8101-1e8e23b09845",
   "metadata": {},
   "source": [
    "Se obtienen sólo los datos de viento"
   ]
  },
  {
   "cell_type": "code",
   "execution_count": 79,
   "id": "adb124a3-b8c2-441b-8159-8910ded3ec64",
   "metadata": {},
   "outputs": [
    {
     "data": {
      "text/plain": [
       "array([0.35555556, 0.33333333, 0.34444444, ..., 0.14444444, 0.02222222,\n",
       "       0.04444444])"
      ]
     },
     "execution_count": 79,
     "metadata": {},
     "output_type": "execute_result"
    }
   ],
   "source": [
    "viento"
   ]
  },
  {
   "cell_type": "markdown",
   "id": "21622df4-e178-49dc-910f-e52294ce2d86",
   "metadata": {},
   "source": [
    "Se producen las predicciones usando el modelo univariado."
   ]
  },
  {
   "cell_type": "code",
   "execution_count": 80,
   "id": "623a5965-f88a-444c-9dfd-a06a073af8a3",
   "metadata": {},
   "outputs": [],
   "source": [
    "predictions = []\n",
    "for j in range(n_input,len(viento)):\n",
    "    model_input = viento[j-n_input:j]\n",
    "    model_input = model_input.reshape((1, n_input, n_features+1))\n",
    "    predictions.append(best_univariado.predict(model_input)[0])\n",
    "predictions = np.ndarray.flatten(np.array(predictions)) "
   ]
  },
  {
   "cell_type": "code",
   "execution_count": 81,
   "id": "97e7a56a-c8da-4a64-ab57-97d172fc587d",
   "metadata": {},
   "outputs": [
    {
     "data": {
      "text/plain": [
       "3485"
      ]
     },
     "execution_count": 81,
     "metadata": {},
     "output_type": "execute_result"
    }
   ],
   "source": [
    "len(predictions)"
   ]
  },
  {
   "cell_type": "markdown",
   "id": "c293458f-e87f-4407-a05c-b2d849562aec",
   "metadata": {},
   "source": [
    "Se transforman los datos normalizados para tener los valores reales."
   ]
  },
  {
   "cell_type": "code",
   "execution_count": 82,
   "id": "23830bd6-d60a-4da8-952d-93f5b6083810",
   "metadata": {},
   "outputs": [],
   "source": [
    "test_predictions =  np.zeros(shape=(len(predictions), 4))\n",
    "test_predictions[:,0] = predictions\n",
    "true_predictions = scaler.inverse_transform(test_predictions)\n",
    "viento_predictions = true_predictions[:,0]"
   ]
  },
  {
   "cell_type": "code",
   "execution_count": 83,
   "id": "febe6133-18e9-4172-9a6d-4ee0edf1be16",
   "metadata": {},
   "outputs": [
    {
     "data": {
      "text/plain": [
       "1.767444983124733"
      ]
     },
     "execution_count": 83,
     "metadata": {},
     "output_type": "execute_result"
    }
   ],
   "source": [
    "viento_predictions[0]"
   ]
  },
  {
   "cell_type": "markdown",
   "id": "b4af8942-7824-40d0-9c39-6ef9a189eb17",
   "metadata": {},
   "source": [
    "Se quitan los primeros cuatro valores para que la longitud coincida con los resultados de AR."
   ]
  },
  {
   "cell_type": "code",
   "execution_count": 84,
   "id": "63d862f1-b076-444d-ba2e-9ffa6e8ffc23",
   "metadata": {},
   "outputs": [
    {
     "data": {
      "text/plain": [
       "3481"
      ]
     },
     "execution_count": 84,
     "metadata": {},
     "output_type": "execute_result"
    }
   ],
   "source": [
    "len(viento_predictions[4:])"
   ]
  },
  {
   "cell_type": "code",
   "execution_count": 85,
   "id": "7a5b3e14-c20e-4b46-88d4-658472437125",
   "metadata": {},
   "outputs": [],
   "source": [
    "df_predicciones['LSTM univariado']=viento_predictions[4:]"
   ]
  },
  {
   "cell_type": "code",
   "execution_count": 86,
   "id": "4affbc67-bfc5-45e3-988e-ba15583b6bb1",
   "metadata": {},
   "outputs": [
    {
     "data": {
      "text/html": [
       "<div>\n",
       "<style scoped>\n",
       "    .dataframe tbody tr th:only-of-type {\n",
       "        vertical-align: middle;\n",
       "    }\n",
       "\n",
       "    .dataframe tbody tr th {\n",
       "        vertical-align: top;\n",
       "    }\n",
       "\n",
       "    .dataframe thead th {\n",
       "        text-align: right;\n",
       "    }\n",
       "</style>\n",
       "<table border=\"1\" class=\"dataframe\">\n",
       "  <thead>\n",
       "    <tr style=\"text-align: right;\">\n",
       "      <th></th>\n",
       "      <th>Real Data</th>\n",
       "      <th>AR</th>\n",
       "      <th>LSTM univariado</th>\n",
       "    </tr>\n",
       "    <tr>\n",
       "      <th>Local_Time</th>\n",
       "      <th></th>\n",
       "      <th></th>\n",
       "      <th></th>\n",
       "    </tr>\n",
       "  </thead>\n",
       "  <tbody>\n",
       "    <tr>\n",
       "      <th>2016-08-09 00:00:00</th>\n",
       "      <td>2.7</td>\n",
       "      <td>3.091876</td>\n",
       "      <td>3.202639</td>\n",
       "    </tr>\n",
       "    <tr>\n",
       "      <th>2016-08-09 01:00:00</th>\n",
       "      <td>3.0</td>\n",
       "      <td>2.662508</td>\n",
       "      <td>2.718846</td>\n",
       "    </tr>\n",
       "    <tr>\n",
       "      <th>2016-08-09 02:00:00</th>\n",
       "      <td>3.5</td>\n",
       "      <td>2.861125</td>\n",
       "      <td>3.071737</td>\n",
       "    </tr>\n",
       "    <tr>\n",
       "      <th>2016-08-09 03:00:00</th>\n",
       "      <td>3.2</td>\n",
       "      <td>3.163219</td>\n",
       "      <td>3.549186</td>\n",
       "    </tr>\n",
       "    <tr>\n",
       "      <th>2016-08-09 04:00:00</th>\n",
       "      <td>2.9</td>\n",
       "      <td>2.944217</td>\n",
       "      <td>3.222625</td>\n",
       "    </tr>\n",
       "  </tbody>\n",
       "</table>\n",
       "</div>"
      ],
      "text/plain": [
       "                     Real Data        AR  LSTM univariado\n",
       "Local_Time                                               \n",
       "2016-08-09 00:00:00        2.7  3.091876         3.202639\n",
       "2016-08-09 01:00:00        3.0  2.662508         2.718846\n",
       "2016-08-09 02:00:00        3.5  2.861125         3.071737\n",
       "2016-08-09 03:00:00        3.2  3.163219         3.549186\n",
       "2016-08-09 04:00:00        2.9  2.944217         3.222625"
      ]
     },
     "execution_count": 86,
     "metadata": {},
     "output_type": "execute_result"
    }
   ],
   "source": [
    "df_predicciones.head()"
   ]
  },
  {
   "cell_type": "markdown",
   "id": "e9360eb5-25d7-4bd9-aebc-a3511e7ed017",
   "metadata": {},
   "source": [
    "**Modelo LSTM multivariado:** El modelo trabaja con 24 retrasos."
   ]
  },
  {
   "cell_type": "code",
   "execution_count": 87,
   "id": "e0a9bcc4-8dd5-4380-ba59-bf80a114d0fb",
   "metadata": {},
   "outputs": [],
   "source": [
    "n_input = 24\n",
    "n_features = 3"
   ]
  },
  {
   "cell_type": "code",
   "execution_count": 88,
   "id": "2a65f43a-87ed-4cfe-bbba-f05447ab3972",
   "metadata": {},
   "outputs": [],
   "source": [
    "predictions = []\n",
    "for j in range(n_input,len(df_test)):\n",
    "    model_input = scaled_test[j-n_input:j]\n",
    "    model_input = model_input.reshape((1, n_input, n_features+1))\n",
    "    predictions.append(best_multivariado.predict(model_input)[0])"
   ]
  },
  {
   "cell_type": "code",
   "execution_count": 89,
   "id": "fa51e496-bc82-4f15-bfc3-7482416595f4",
   "metadata": {},
   "outputs": [
    {
     "data": {
      "text/plain": [
       "3485"
      ]
     },
     "execution_count": 89,
     "metadata": {},
     "output_type": "execute_result"
    }
   ],
   "source": [
    "len(predictions)"
   ]
  },
  {
   "cell_type": "markdown",
   "id": "b106e26a-f235-4b44-b030-0551f75af299",
   "metadata": {},
   "source": [
    "Se quitan los 4 primeros datos para que coincida con la longitud actual del DataFrame."
   ]
  },
  {
   "cell_type": "code",
   "execution_count": 90,
   "id": "35e7627f-6628-47d4-b619-20095e4668e8",
   "metadata": {},
   "outputs": [],
   "source": [
    "multi_predictions = predictions[4:]"
   ]
  },
  {
   "cell_type": "code",
   "execution_count": 91,
   "id": "0e7ee668-4441-422e-991d-e0f27a645464",
   "metadata": {},
   "outputs": [
    {
     "data": {
      "text/plain": [
       "3481"
      ]
     },
     "execution_count": 91,
     "metadata": {},
     "output_type": "execute_result"
    }
   ],
   "source": [
    "len(multi_predictions)"
   ]
  },
  {
   "cell_type": "code",
   "execution_count": 92,
   "id": "4b77c382-6ea1-4a69-ae24-17fce6bba1ad",
   "metadata": {},
   "outputs": [],
   "source": [
    "predictions = np.ndarray.flatten(np.array(multi_predictions)) "
   ]
  },
  {
   "cell_type": "code",
   "execution_count": 93,
   "id": "b936ad55-6aad-499e-9e5c-8d31d65523de",
   "metadata": {},
   "outputs": [],
   "source": [
    "test_predictions =  np.zeros(shape=(len(predictions), 4))\n",
    "test_predictions[:,0] = predictions\n",
    "true_predictions = scaler.inverse_transform(test_predictions)\n",
    "viento_predictions = true_predictions[:,0]"
   ]
  },
  {
   "cell_type": "code",
   "execution_count": 94,
   "id": "7034e935-a63d-4b39-b304-719fc2b8e961",
   "metadata": {},
   "outputs": [],
   "source": [
    "df_predicciones['LSTM multivariado'] = viento_predictions"
   ]
  },
  {
   "cell_type": "code",
   "execution_count": 96,
   "id": "54ecf7eb-f491-4b4a-a38b-4c7edfe5e026",
   "metadata": {},
   "outputs": [],
   "source": [
    "df_predicciones.to_csv('predicciones_modelos_viento.csv')"
   ]
  },
  {
   "cell_type": "markdown",
   "id": "0452ac8d-b514-4da0-9353-887e003079cc",
   "metadata": {},
   "source": [
    "## Visualización de los datos con suavizado"
   ]
  },
  {
   "cell_type": "markdown",
   "id": "2284ee7d-729e-4ce7-bc8e-2bb0312ad278",
   "metadata": {},
   "source": [
    "Se importan las librerías para visualización."
   ]
  },
  {
   "cell_type": "code",
   "execution_count": 97,
   "id": "5d1875dc-6ab5-40e2-8919-f00ce3ed4b71",
   "metadata": {},
   "outputs": [],
   "source": [
    "import ipywidgets as widgets\n",
    "import plotly.express as px\n",
    "import plotly.graph_objects as go"
   ]
  },
  {
   "cell_type": "code",
   "execution_count": 98,
   "id": "21f7b152-d64a-46ec-adc5-d20f76a25d90",
   "metadata": {},
   "outputs": [],
   "source": [
    "df_predicciones = pd.read_csv('predicciones_modelos_viento.csv',index_col=0, parse_dates=True)"
   ]
  },
  {
   "cell_type": "code",
   "execution_count": 99,
   "id": "2b52ee62-d887-4201-a06e-4e7f968f099e",
   "metadata": {},
   "outputs": [
    {
     "data": {
      "text/html": [
       "<div>\n",
       "<style scoped>\n",
       "    .dataframe tbody tr th:only-of-type {\n",
       "        vertical-align: middle;\n",
       "    }\n",
       "\n",
       "    .dataframe tbody tr th {\n",
       "        vertical-align: top;\n",
       "    }\n",
       "\n",
       "    .dataframe thead th {\n",
       "        text-align: right;\n",
       "    }\n",
       "</style>\n",
       "<table border=\"1\" class=\"dataframe\">\n",
       "  <thead>\n",
       "    <tr style=\"text-align: right;\">\n",
       "      <th></th>\n",
       "      <th>Real Data</th>\n",
       "      <th>AR</th>\n",
       "      <th>LSTM univariado</th>\n",
       "      <th>LSTM multivariado</th>\n",
       "    </tr>\n",
       "    <tr>\n",
       "      <th>Local_Time</th>\n",
       "      <th></th>\n",
       "      <th></th>\n",
       "      <th></th>\n",
       "      <th></th>\n",
       "    </tr>\n",
       "  </thead>\n",
       "  <tbody>\n",
       "    <tr>\n",
       "      <th>2016-08-09 00:00:00</th>\n",
       "      <td>2.7</td>\n",
       "      <td>3.091876</td>\n",
       "      <td>3.202639</td>\n",
       "      <td>3.106787</td>\n",
       "    </tr>\n",
       "    <tr>\n",
       "      <th>2016-08-09 01:00:00</th>\n",
       "      <td>3.0</td>\n",
       "      <td>2.662508</td>\n",
       "      <td>2.718846</td>\n",
       "      <td>2.706135</td>\n",
       "    </tr>\n",
       "    <tr>\n",
       "      <th>2016-08-09 02:00:00</th>\n",
       "      <td>3.5</td>\n",
       "      <td>2.861125</td>\n",
       "      <td>3.071737</td>\n",
       "      <td>2.980914</td>\n",
       "    </tr>\n",
       "    <tr>\n",
       "      <th>2016-08-09 03:00:00</th>\n",
       "      <td>3.2</td>\n",
       "      <td>3.163219</td>\n",
       "      <td>3.549186</td>\n",
       "      <td>3.468579</td>\n",
       "    </tr>\n",
       "    <tr>\n",
       "      <th>2016-08-09 04:00:00</th>\n",
       "      <td>2.9</td>\n",
       "      <td>2.944217</td>\n",
       "      <td>3.222625</td>\n",
       "      <td>3.092310</td>\n",
       "    </tr>\n",
       "  </tbody>\n",
       "</table>\n",
       "</div>"
      ],
      "text/plain": [
       "                     Real Data        AR  LSTM univariado  LSTM multivariado\n",
       "Local_Time                                                                  \n",
       "2016-08-09 00:00:00        2.7  3.091876         3.202639           3.106787\n",
       "2016-08-09 01:00:00        3.0  2.662508         2.718846           2.706135\n",
       "2016-08-09 02:00:00        3.5  2.861125         3.071737           2.980914\n",
       "2016-08-09 03:00:00        3.2  3.163219         3.549186           3.468579\n",
       "2016-08-09 04:00:00        2.9  2.944217         3.222625           3.092310"
      ]
     },
     "execution_count": 99,
     "metadata": {},
     "output_type": "execute_result"
    }
   ],
   "source": [
    "df_predicciones.head()"
   ]
  },
  {
   "cell_type": "code",
   "execution_count": 100,
   "id": "1601e4cf-d0b6-40fb-821b-a686a1cd4b90",
   "metadata": {},
   "outputs": [
    {
     "data": {
      "application/vnd.jupyter.widget-view+json": {
       "model_id": "c5ff77c1cfb248a0b43f461b2c89fdac",
       "version_major": 2,
       "version_minor": 0
      },
      "text/plain": [
       "VBox(children=(SelectionSlider(description='Número de días para suavizar', layout=Layout(width='70%'), options…"
      ]
     },
     "metadata": {},
     "output_type": "display_data"
    },
    {
     "data": {
      "application/vnd.jupyter.widget-view+json": {
       "model_id": "fea42e3471c144da9da11063324c9f21",
       "version_major": 2,
       "version_minor": 0
      },
      "text/plain": [
       "Output()"
      ]
     },
     "metadata": {},
     "output_type": "display_data"
    }
   ],
   "source": [
    "def grafico_linea_tiempo(suavizado):\n",
    "    plt.figure(figsize=(15,15))\n",
    "    ventana = int(suavizado)*24\n",
    "    df_plot = df_predicciones\n",
    "    if(suavizado!=0):\n",
    "        df_plot = df_plot.rolling(window=ventana).mean()\n",
    "        df_plot = df_plot[ventana:]\n",
    "    print('RMSE suavizado')\n",
    "    print('AR:',np.sqrt(mean_squared_error(df_plot['Real Data'].values,df_plot['AR'])))\n",
    "    print('LSTM univariado:',np.sqrt(mean_squared_error(df_plot['Real Data'].values,df_plot['LSTM univariado'])))\n",
    "    print('LSTM multivariado:',np.sqrt(mean_squared_error(df_plot['Real Data'].values,df_plot['LSTM multivariado'])))\n",
    "    fig = px.line(df_plot, x=df_plot.index, y=df_plot.columns, title='Predicciones')\n",
    "    fig.update_xaxes(rangeslider_visible=True,\n",
    "            rangeselector=dict(\n",
    "            buttons=list([\n",
    "              dict(count=1, label=\"1d\", step=\"day\", stepmode=\"backward\"),\n",
    "              dict(count=7, label=\"1w\", step=\"day\", stepmode=\"backward\"),\n",
    "              dict(count=14, label=\"2w\", step=\"day\", stepmode=\"todate\"),\n",
    "              dict(count=1, label=\"1m\", step=\"month\", stepmode=\"backward\"),\n",
    "              dict(step=\"all\")\n",
    "            ]))\n",
    "    )\n",
    "    fig.update_layout(    autosize=False,\n",
    "    width=1000,\n",
    "    height=500)\n",
    "    fig.show()    \n",
    "    \n",
    "suavizado = widgets.SelectionSlider(options=[0, 1, 7, 14, 30], value=0,\n",
    "    description='Número de días para suavizar',\n",
    "    layout=widgets.Layout(width='70%'))\n",
    "suavizado.style = {'description_width': '300px'}\n",
    "\n",
    "ui = widgets.VBox(children=[suavizado])\n",
    "out = widgets.interactive_output(grafico_linea_tiempo, {'suavizado':suavizado})\n",
    "display(ui,out)"
   ]
  },
  {
   "cell_type": "markdown",
   "id": "dbd86428-2706-4bab-af9b-ae94fdb51d1b",
   "metadata": {},
   "source": [
    "Al suavizar la curva, el modelo univariado obtiene un error más pequeño que el multivariado."
   ]
  }
 ],
 "metadata": {
  "kernelspec": {
   "display_name": "Python 3 (ipykernel)",
   "language": "python",
   "name": "python3"
  },
  "language_info": {
   "codemirror_mode": {
    "name": "ipython",
    "version": 3
   },
   "file_extension": ".py",
   "mimetype": "text/x-python",
   "name": "python",
   "nbconvert_exporter": "python",
   "pygments_lexer": "ipython3",
   "version": "3.9.1"
  }
 },
 "nbformat": 4,
 "nbformat_minor": 5
}
