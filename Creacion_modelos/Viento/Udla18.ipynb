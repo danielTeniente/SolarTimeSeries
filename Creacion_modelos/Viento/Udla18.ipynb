{
  "nbformat": 4,
  "nbformat_minor": 0,
  "metadata": {
    "colab": {
      "name": "Udla18.ipynb",
      "provenance": [],
      "collapsed_sections": []
    },
    "kernelspec": {
      "name": "python3",
      "display_name": "Python 3"
    },
    "language_info": {
      "name": "python"
    }
  },
  "cells": [
    {
      "cell_type": "markdown",
      "source": [
        "# Feature selection para predicción del viento"
      ],
      "metadata": {
        "id": "LCzl4UOB2EeN"
      }
    },
    {
      "cell_type": "markdown",
      "source": [
        "Se importan las librerías."
      ],
      "metadata": {
        "id": "1g1JrqQd-cNH"
      }
    },
    {
      "cell_type": "code",
      "execution_count": 1,
      "metadata": {
        "id": "KuwI3Y5H19Xb"
      },
      "outputs": [],
      "source": [
        "import numpy as np\n",
        "import matplotlib.pyplot as plt\n",
        "import pandas as pd\n",
        "from sklearn.metrics import mean_squared_error\n",
        "from sklearn.preprocessing import MinMaxScaler\n",
        "from tensorflow.keras.models import Sequential\n",
        "from tensorflow.keras.layers import Dense,LSTM,Activation\n",
        "from tensorflow import keras\n",
        "import tensorflow as tf"
      ]
    },
    {
      "cell_type": "markdown",
      "source": [
        "Se importan los datos de entrenamiento y prueba."
      ],
      "metadata": {
        "id": "q0R1_Cyw-eNB"
      }
    },
    {
      "cell_type": "code",
      "source": [
        "df = pd.read_csv('./drive/MyDrive/DatosInvestigacion/final_train_2015.csv', index_col=0, parse_dates=True)\n",
        "df = df.asfreq('h')\n",
        "df = df[['SRGLOAVG1H','TAMAX1H','TAMIN1H','RHMAX1H','RHMIN1H','PRSUM1H','PAAVG1H','PAMAX1H','PAMIN1H','WS1HA','WS1HX','WD1HA']]\n",
        "df_test = pd.read_csv('./drive/MyDrive/DatosInvestigacion/final_test_2015.csv', index_col=0, parse_dates=True)\n",
        "df_test = df_test.asfreq('h')\n",
        "df_test = df_test[['SRGLOAVG1H','TAMAX1H','TAMIN1H','RHMAX1H','RHMIN1H','PRSUM1H','PAAVG1H','PAMAX1H','PAMIN1H','WS1HA','WS1HX','WD1HA']]"
      ],
      "metadata": {
        "id": "nBtlQEww97nl"
      },
      "execution_count": 39,
      "outputs": []
    },
    {
      "cell_type": "markdown",
      "source": [
        "Se establece el conjunto sobre el que se hará Feature Selection. Son las variables que no involucran la velocidad del viento."
      ],
      "metadata": {
        "id": "Carh3hM5-hlf"
      }
    },
    {
      "cell_type": "code",
      "source": [
        "x_train = df.drop(columns=['WS1HA','WS1HX'])"
      ],
      "metadata": {
        "id": "y2B7lZZv-Bag"
      },
      "execution_count": 40,
      "outputs": []
    },
    {
      "cell_type": "code",
      "source": [
        "x_train.head()"
      ],
      "metadata": {
        "colab": {
          "base_uri": "https://localhost:8080/",
          "height": 237
        },
        "id": "jIyeK-zV_Z4D",
        "outputId": "97a974ab-a2b5-429a-e4a5-64dc09c03a85"
      },
      "execution_count": 41,
      "outputs": [
        {
          "output_type": "execute_result",
          "data": {
            "text/plain": [
              "                     SRGLOAVG1H  TAMAX1H  TAMIN1H  RHMAX1H  RHMIN1H  PRSUM1H  \\\n",
              "Local_Time                                                                     \n",
              "2015-01-01 01:00:00         0.0      9.7      8.1     99.0     94.0      0.0   \n",
              "2015-01-01 02:00:00         0.0      9.8      9.1     97.0     94.0      0.0   \n",
              "2015-01-01 03:00:00         0.0     10.1      9.7     95.0     93.0      0.0   \n",
              "2015-01-01 04:00:00         0.0     10.3      9.7     96.0     93.0      0.0   \n",
              "2015-01-01 05:00:00         0.0     10.0      9.0     98.0     94.0      0.0   \n",
              "\n",
              "                     PAAVG1H  PAMAX1H  PAMIN1H  WD1HA  \n",
              "Local_Time                                             \n",
              "2015-01-01 01:00:00    743.2    743.6    742.8     65  \n",
              "2015-01-01 02:00:00    742.6    742.8    742.4     43  \n",
              "2015-01-01 03:00:00    742.1    742.4    741.9     47  \n",
              "2015-01-01 04:00:00    741.8    741.9    741.7     44  \n",
              "2015-01-01 05:00:00    741.8    741.9    741.7     50  "
            ],
            "text/html": [
              "\n",
              "  <div id=\"df-51022ad1-1f08-4e4d-afcd-b26503c2024f\">\n",
              "    <div class=\"colab-df-container\">\n",
              "      <div>\n",
              "<style scoped>\n",
              "    .dataframe tbody tr th:only-of-type {\n",
              "        vertical-align: middle;\n",
              "    }\n",
              "\n",
              "    .dataframe tbody tr th {\n",
              "        vertical-align: top;\n",
              "    }\n",
              "\n",
              "    .dataframe thead th {\n",
              "        text-align: right;\n",
              "    }\n",
              "</style>\n",
              "<table border=\"1\" class=\"dataframe\">\n",
              "  <thead>\n",
              "    <tr style=\"text-align: right;\">\n",
              "      <th></th>\n",
              "      <th>SRGLOAVG1H</th>\n",
              "      <th>TAMAX1H</th>\n",
              "      <th>TAMIN1H</th>\n",
              "      <th>RHMAX1H</th>\n",
              "      <th>RHMIN1H</th>\n",
              "      <th>PRSUM1H</th>\n",
              "      <th>PAAVG1H</th>\n",
              "      <th>PAMAX1H</th>\n",
              "      <th>PAMIN1H</th>\n",
              "      <th>WD1HA</th>\n",
              "    </tr>\n",
              "    <tr>\n",
              "      <th>Local_Time</th>\n",
              "      <th></th>\n",
              "      <th></th>\n",
              "      <th></th>\n",
              "      <th></th>\n",
              "      <th></th>\n",
              "      <th></th>\n",
              "      <th></th>\n",
              "      <th></th>\n",
              "      <th></th>\n",
              "      <th></th>\n",
              "    </tr>\n",
              "  </thead>\n",
              "  <tbody>\n",
              "    <tr>\n",
              "      <th>2015-01-01 01:00:00</th>\n",
              "      <td>0.0</td>\n",
              "      <td>9.7</td>\n",
              "      <td>8.1</td>\n",
              "      <td>99.0</td>\n",
              "      <td>94.0</td>\n",
              "      <td>0.0</td>\n",
              "      <td>743.2</td>\n",
              "      <td>743.6</td>\n",
              "      <td>742.8</td>\n",
              "      <td>65</td>\n",
              "    </tr>\n",
              "    <tr>\n",
              "      <th>2015-01-01 02:00:00</th>\n",
              "      <td>0.0</td>\n",
              "      <td>9.8</td>\n",
              "      <td>9.1</td>\n",
              "      <td>97.0</td>\n",
              "      <td>94.0</td>\n",
              "      <td>0.0</td>\n",
              "      <td>742.6</td>\n",
              "      <td>742.8</td>\n",
              "      <td>742.4</td>\n",
              "      <td>43</td>\n",
              "    </tr>\n",
              "    <tr>\n",
              "      <th>2015-01-01 03:00:00</th>\n",
              "      <td>0.0</td>\n",
              "      <td>10.1</td>\n",
              "      <td>9.7</td>\n",
              "      <td>95.0</td>\n",
              "      <td>93.0</td>\n",
              "      <td>0.0</td>\n",
              "      <td>742.1</td>\n",
              "      <td>742.4</td>\n",
              "      <td>741.9</td>\n",
              "      <td>47</td>\n",
              "    </tr>\n",
              "    <tr>\n",
              "      <th>2015-01-01 04:00:00</th>\n",
              "      <td>0.0</td>\n",
              "      <td>10.3</td>\n",
              "      <td>9.7</td>\n",
              "      <td>96.0</td>\n",
              "      <td>93.0</td>\n",
              "      <td>0.0</td>\n",
              "      <td>741.8</td>\n",
              "      <td>741.9</td>\n",
              "      <td>741.7</td>\n",
              "      <td>44</td>\n",
              "    </tr>\n",
              "    <tr>\n",
              "      <th>2015-01-01 05:00:00</th>\n",
              "      <td>0.0</td>\n",
              "      <td>10.0</td>\n",
              "      <td>9.0</td>\n",
              "      <td>98.0</td>\n",
              "      <td>94.0</td>\n",
              "      <td>0.0</td>\n",
              "      <td>741.8</td>\n",
              "      <td>741.9</td>\n",
              "      <td>741.7</td>\n",
              "      <td>50</td>\n",
              "    </tr>\n",
              "  </tbody>\n",
              "</table>\n",
              "</div>\n",
              "      <button class=\"colab-df-convert\" onclick=\"convertToInteractive('df-51022ad1-1f08-4e4d-afcd-b26503c2024f')\"\n",
              "              title=\"Convert this dataframe to an interactive table.\"\n",
              "              style=\"display:none;\">\n",
              "        \n",
              "  <svg xmlns=\"http://www.w3.org/2000/svg\" height=\"24px\"viewBox=\"0 0 24 24\"\n",
              "       width=\"24px\">\n",
              "    <path d=\"M0 0h24v24H0V0z\" fill=\"none\"/>\n",
              "    <path d=\"M18.56 5.44l.94 2.06.94-2.06 2.06-.94-2.06-.94-.94-2.06-.94 2.06-2.06.94zm-11 1L8.5 8.5l.94-2.06 2.06-.94-2.06-.94L8.5 2.5l-.94 2.06-2.06.94zm10 10l.94 2.06.94-2.06 2.06-.94-2.06-.94-.94-2.06-.94 2.06-2.06.94z\"/><path d=\"M17.41 7.96l-1.37-1.37c-.4-.4-.92-.59-1.43-.59-.52 0-1.04.2-1.43.59L10.3 9.45l-7.72 7.72c-.78.78-.78 2.05 0 2.83L4 21.41c.39.39.9.59 1.41.59.51 0 1.02-.2 1.41-.59l7.78-7.78 2.81-2.81c.8-.78.8-2.07 0-2.86zM5.41 20L4 18.59l7.72-7.72 1.47 1.35L5.41 20z\"/>\n",
              "  </svg>\n",
              "      </button>\n",
              "      \n",
              "  <style>\n",
              "    .colab-df-container {\n",
              "      display:flex;\n",
              "      flex-wrap:wrap;\n",
              "      gap: 12px;\n",
              "    }\n",
              "\n",
              "    .colab-df-convert {\n",
              "      background-color: #E8F0FE;\n",
              "      border: none;\n",
              "      border-radius: 50%;\n",
              "      cursor: pointer;\n",
              "      display: none;\n",
              "      fill: #1967D2;\n",
              "      height: 32px;\n",
              "      padding: 0 0 0 0;\n",
              "      width: 32px;\n",
              "    }\n",
              "\n",
              "    .colab-df-convert:hover {\n",
              "      background-color: #E2EBFA;\n",
              "      box-shadow: 0px 1px 2px rgba(60, 64, 67, 0.3), 0px 1px 3px 1px rgba(60, 64, 67, 0.15);\n",
              "      fill: #174EA6;\n",
              "    }\n",
              "\n",
              "    [theme=dark] .colab-df-convert {\n",
              "      background-color: #3B4455;\n",
              "      fill: #D2E3FC;\n",
              "    }\n",
              "\n",
              "    [theme=dark] .colab-df-convert:hover {\n",
              "      background-color: #434B5C;\n",
              "      box-shadow: 0px 1px 3px 1px rgba(0, 0, 0, 0.15);\n",
              "      filter: drop-shadow(0px 1px 2px rgba(0, 0, 0, 0.3));\n",
              "      fill: #FFFFFF;\n",
              "    }\n",
              "  </style>\n",
              "\n",
              "      <script>\n",
              "        const buttonEl =\n",
              "          document.querySelector('#df-51022ad1-1f08-4e4d-afcd-b26503c2024f button.colab-df-convert');\n",
              "        buttonEl.style.display =\n",
              "          google.colab.kernel.accessAllowed ? 'block' : 'none';\n",
              "\n",
              "        async function convertToInteractive(key) {\n",
              "          const element = document.querySelector('#df-51022ad1-1f08-4e4d-afcd-b26503c2024f');\n",
              "          const dataTable =\n",
              "            await google.colab.kernel.invokeFunction('convertToInteractive',\n",
              "                                                     [key], {});\n",
              "          if (!dataTable) return;\n",
              "\n",
              "          const docLinkHtml = 'Like what you see? Visit the ' +\n",
              "            '<a target=\"_blank\" href=https://colab.research.google.com/notebooks/data_table.ipynb>data table notebook</a>'\n",
              "            + ' to learn more about interactive tables.';\n",
              "          element.innerHTML = '';\n",
              "          dataTable['output_type'] = 'display_data';\n",
              "          await google.colab.output.renderOutput(dataTable, element);\n",
              "          const docLink = document.createElement('div');\n",
              "          docLink.innerHTML = docLinkHtml;\n",
              "          element.appendChild(docLink);\n",
              "        }\n",
              "      </script>\n",
              "    </div>\n",
              "  </div>\n",
              "  "
            ]
          },
          "metadata": {},
          "execution_count": 41
        }
      ]
    },
    {
      "cell_type": "markdown",
      "source": [
        "Se establece la velocidad del viento promedio como la variable que se quiere predecir."
      ],
      "metadata": {
        "id": "9RquDeNt-pAN"
      }
    },
    {
      "cell_type": "code",
      "source": [
        "y_train = df['WS1HA'].values"
      ],
      "metadata": {
        "id": "HtKZ_QcU-HWf"
      },
      "execution_count": 42,
      "outputs": []
    },
    {
      "cell_type": "code",
      "source": [
        "y_train[:5]"
      ],
      "metadata": {
        "colab": {
          "base_uri": "https://localhost:8080/"
        },
        "id": "qCrt7CR8_dx7",
        "outputId": "da8d0dd3-9cf5-44cc-bc62-6823f9e5f2cd"
      },
      "execution_count": 43,
      "outputs": [
        {
          "output_type": "execute_result",
          "data": {
            "text/plain": [
              "array([1. , 1.8, 1.9, 1.5, 1.4])"
            ]
          },
          "metadata": {},
          "execution_count": 43
        }
      ]
    },
    {
      "cell_type": "markdown",
      "source": [
        "## Random Forest"
      ],
      "metadata": {
        "id": "ZpX5k7YJ-t1D"
      }
    },
    {
      "cell_type": "markdown",
      "source": [
        "Se importan las librerías para Random Forest."
      ],
      "metadata": {
        "id": "Bihuak3V-vpy"
      }
    },
    {
      "cell_type": "code",
      "source": [
        "import pandas as pd\n",
        "from sklearn.ensemble import RandomForestRegressor\n",
        "from sklearn.feature_selection import SelectFromModel\n",
        "from sklearn.model_selection import RandomizedSearchCV"
      ],
      "metadata": {
        "id": "oc7w99v8-Uxw"
      },
      "execution_count": 44,
      "outputs": []
    },
    {
      "cell_type": "markdown",
      "source": [
        "Se crea un objeto Random Forest para regresión."
      ],
      "metadata": {
        "id": "XcUrwSLs-1gF"
      }
    },
    {
      "cell_type": "code",
      "source": [
        "rf = RandomForestRegressor()"
      ],
      "metadata": {
        "id": "GRPdCA2s-4Pz"
      },
      "execution_count": 45,
      "outputs": []
    },
    {
      "cell_type": "markdown",
      "source": [
        "Se establecen los parámetros para una pequeña búsqueda de optimización."
      ],
      "metadata": {
        "id": "-2QHlKiX-_FT"
      }
    },
    {
      "cell_type": "code",
      "source": [
        "# Number of trees in random forest\n",
        "n_estimators = [100,200,300]\n",
        "# Number of features to consider at every split\n",
        "max_features = ['auto', 'sqrt']\n",
        "# Maximum number of levels in tree\n",
        "max_depth = [20,50,70,100]\n",
        "# Minimum number of samples required to split a node\n",
        "min_samples_split = [2, 5, 10]\n",
        "# Minimum number of samples required at each leaf node\n",
        "min_samples_leaf = [1, 2, 4]\n",
        "# Method of selecting samples for training each tree\n",
        "bootstrap = [True, False]\n",
        "# Create the random grid\n",
        "random_grid = {'n_estimators': n_estimators,\n",
        "               'max_features': max_features,\n",
        "               'max_depth': max_depth,\n",
        "               'min_samples_split': min_samples_split,\n",
        "               'min_samples_leaf': min_samples_leaf,\n",
        "               'bootstrap': bootstrap}"
      ],
      "metadata": {
        "id": "lagQD6Sg-4jw"
      },
      "execution_count": 46,
      "outputs": []
    },
    {
      "cell_type": "markdown",
      "source": [
        "Se optimizan los hiperparámetros para Random Forest."
      ],
      "metadata": {
        "id": "Ug4umQAV_DAq"
      }
    },
    {
      "cell_type": "code",
      "source": [
        "# Random search of parameters, using 3 fold cross validation, \n",
        "# search across 100 different combinations, and use all available cores\n",
        "rf_random = RandomizedSearchCV(estimator = rf, param_distributions = random_grid, n_iter = 10, cv = 3, verbose=2, random_state=42, n_jobs = -1)\n",
        "# Fit the random search model\n",
        "rf_random.fit(x_train, y_train)"
      ],
      "metadata": {
        "colab": {
          "base_uri": "https://localhost:8080/"
        },
        "id": "8rwfs62l-8Vn",
        "outputId": "2e69bb48-c202-4627-86f5-c704a5943686"
      },
      "execution_count": 47,
      "outputs": [
        {
          "output_type": "stream",
          "name": "stdout",
          "text": [
            "Fitting 3 folds for each of 10 candidates, totalling 30 fits\n"
          ]
        },
        {
          "output_type": "execute_result",
          "data": {
            "text/plain": [
              "RandomizedSearchCV(cv=3, estimator=RandomForestRegressor(), n_jobs=-1,\n",
              "                   param_distributions={'bootstrap': [True, False],\n",
              "                                        'max_depth': [20, 50, 70, 100],\n",
              "                                        'max_features': ['auto', 'sqrt'],\n",
              "                                        'min_samples_leaf': [1, 2, 4],\n",
              "                                        'min_samples_split': [2, 5, 10],\n",
              "                                        'n_estimators': [100, 200, 300]},\n",
              "                   random_state=42, verbose=2)"
            ]
          },
          "metadata": {},
          "execution_count": 47
        }
      ]
    },
    {
      "cell_type": "markdown",
      "source": [
        "Se obtiene el mejor modelo."
      ],
      "metadata": {
        "id": "oMTsNQBV_LdW"
      }
    },
    {
      "cell_type": "code",
      "source": [
        "rf_random.best_params_"
      ],
      "metadata": {
        "colab": {
          "base_uri": "https://localhost:8080/"
        },
        "id": "lJuOxuTQ_G2D",
        "outputId": "7668b318-45f1-4352-ae13-87045dd624a9"
      },
      "execution_count": 48,
      "outputs": [
        {
          "output_type": "execute_result",
          "data": {
            "text/plain": [
              "{'bootstrap': True,\n",
              " 'max_depth': 50,\n",
              " 'max_features': 'auto',\n",
              " 'min_samples_leaf': 4,\n",
              " 'min_samples_split': 5,\n",
              " 'n_estimators': 100}"
            ]
          },
          "metadata": {},
          "execution_count": 48
        }
      ]
    },
    {
      "cell_type": "code",
      "source": [
        "best_random = rf_random.best_estimator_"
      ],
      "metadata": {
        "id": "bZF9xd19_M2u"
      },
      "execution_count": 49,
      "outputs": []
    },
    {
      "cell_type": "markdown",
      "source": [
        "Se obtiene el nombre de las variables"
      ],
      "metadata": {
        "id": "HzkIvjL6_SBR"
      }
    },
    {
      "cell_type": "code",
      "source": [
        "features = x_train.columns"
      ],
      "metadata": {
        "id": "UdWNpvLM_Ro7"
      },
      "execution_count": 50,
      "outputs": []
    },
    {
      "cell_type": "markdown",
      "source": [
        "Se grafica la importancia que le da el modelo de Random Forest a las variables. La importancia se basa en el error cuadrado medio, las barras representan qué tanto crece el error cuando la variable no es considerada."
      ],
      "metadata": {
        "id": "NXn7x4UL_m8e"
      }
    },
    {
      "cell_type": "code",
      "source": [
        "f_i = list(zip(features,best_random.feature_importances_))\n",
        "f_i.sort(key = lambda x : x[1])\n",
        "plt.barh([x[0] for x in f_i],[x[1] for x in f_i])\n",
        "\n",
        "plt.show()"
      ],
      "metadata": {
        "colab": {
          "base_uri": "https://localhost:8080/",
          "height": 265
        },
        "id": "fc0nQzV9_nnK",
        "outputId": "bfec0492-3aa4-450a-aa16-ef71344670cd"
      },
      "execution_count": 51,
      "outputs": [
        {
          "output_type": "display_data",
          "data": {
            "text/plain": [
              "<Figure size 432x288 with 1 Axes>"
            ],
            "image/png": "[encoded data removed]"
          },
          "metadata": {
            "needs_background": "light"
          }
        }
      ]
    },
    {
      "cell_type": "markdown",
      "source": [
        "Se utilizarán las tres variables más importantes que son: Radiación solar global, dirección del viento y humedad relativa máxima."
      ],
      "metadata": {
        "id": "swo-iu8qAts9"
      }
    }
  ]
}