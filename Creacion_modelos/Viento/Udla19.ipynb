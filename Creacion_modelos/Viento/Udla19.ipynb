{
  "cells": [
    {
      "cell_type": "markdown",
      "metadata": {
        "id": "bSxOgmvfBW4U"
      },
      "source": [
        "# LSTM multivariado con viento."
      ]
    },
    {
      "cell_type": "markdown",
      "metadata": {
        "id": "5lLiOpm7Ca1o"
      },
      "source": [
        "Se importan las librerías."
      ]
    },
    {
      "cell_type": "code",
      "execution_count": 2,
      "metadata": {
        "id": "8cLimigGBTmj"
      },
      "outputs": [],
      "source": [
        "import numpy as np\n",
        "import matplotlib.pyplot as plt\n",
        "import pandas as pd\n",
        "from sklearn.metrics import mean_squared_error\n",
        "from sklearn.metrics import mean_absolute_error\n",
        "from sklearn.preprocessing import MinMaxScaler\n",
        "from tensorflow.keras.models import Sequential\n",
        "from tensorflow.keras.layers import Dense,LSTM,Activation\n",
        "from tensorflow import keras\n",
        "import tensorflow as tf"
      ]
    },
    {
      "cell_type": "markdown",
      "metadata": {
        "id": "_VXp39ehCipf"
      },
      "source": [
        "Se importan los datos."
      ]
    },
    {
      "cell_type": "code",
      "execution_count": null,
      "metadata": {
        "id": "SZ3C46-QCen4"
      },
      "outputs": [],
      "source": [
        "df = pd.read_csv('./drive/MyDrive/DatosInvestigacion/final_train_2015.csv', index_col=0, parse_dates=True)\n",
        "df = df.asfreq('h')"
      ]
    },
    {
      "cell_type": "code",
      "execution_count": null,
      "metadata": {
        "id": "8dkSUh48CkJo"
      },
      "outputs": [],
      "source": [
        "df = df[['WS1HA','SRGLOAVG1H','RHMAX1H','WD1HA']]"
      ]
    },
    {
      "cell_type": "code",
      "execution_count": null,
      "metadata": {
        "colab": {
          "base_uri": "https://localhost:8080/",
          "height": 237
        },
        "id": "B2fWFMe9FH7y",
        "outputId": "ad56966d-4764-443f-a74c-c54a3b83535c"
      },
      "outputs": [
        {
          "output_type": "execute_result",
          "data": {
            "text/plain": [
              "                     WS1HA  SRGLOAVG1H  RHMAX1H  WD1HA\n",
              "Local_Time                                            \n",
              "2015-01-01 01:00:00    1.0         0.0     99.0     65\n",
              "2015-01-01 02:00:00    1.8         0.0     97.0     43\n",
              "2015-01-01 03:00:00    1.9         0.0     95.0     47\n",
              "2015-01-01 04:00:00    1.5         0.0     96.0     44\n",
              "2015-01-01 05:00:00    1.4         0.0     98.0     50"
            ],
            "text/html": [
              "\n",
              "  <div id=\"df-8b9a9726-bef8-4330-a0a1-7cad8cca7d55\">\n",
              "    <div class=\"colab-df-container\">\n",
              "      <div>\n",
              "<style scoped>\n",
              "    .dataframe tbody tr th:only-of-type {\n",
              "        vertical-align: middle;\n",
              "    }\n",
              "\n",
              "    .dataframe tbody tr th {\n",
              "        vertical-align: top;\n",
              "    }\n",
              "\n",
              "    .dataframe thead th {\n",
              "        text-align: right;\n",
              "    }\n",
              "</style>\n",
              "<table border=\"1\" class=\"dataframe\">\n",
              "  <thead>\n",
              "    <tr style=\"text-align: right;\">\n",
              "      <th></th>\n",
              "      <th>WS1HA</th>\n",
              "      <th>SRGLOAVG1H</th>\n",
              "      <th>RHMAX1H</th>\n",
              "      <th>WD1HA</th>\n",
              "    </tr>\n",
              "    <tr>\n",
              "      <th>Local_Time</th>\n",
              "      <th></th>\n",
              "      <th></th>\n",
              "      <th></th>\n",
              "      <th></th>\n",
              "    </tr>\n",
              "  </thead>\n",
              "  <tbody>\n",
              "    <tr>\n",
              "      <th>2015-01-01 01:00:00</th>\n",
              "      <td>1.0</td>\n",
              "      <td>0.0</td>\n",
              "      <td>99.0</td>\n",
              "      <td>65</td>\n",
              "    </tr>\n",
              "    <tr>\n",
              "      <th>2015-01-01 02:00:00</th>\n",
              "      <td>1.8</td>\n",
              "      <td>0.0</td>\n",
              "      <td>97.0</td>\n",
              "      <td>43</td>\n",
              "    </tr>\n",
              "    <tr>\n",
              "      <th>2015-01-01 03:00:00</th>\n",
              "      <td>1.9</td>\n",
              "      <td>0.0</td>\n",
              "      <td>95.0</td>\n",
              "      <td>47</td>\n",
              "    </tr>\n",
              "    <tr>\n",
              "      <th>2015-01-01 04:00:00</th>\n",
              "      <td>1.5</td>\n",
              "      <td>0.0</td>\n",
              "      <td>96.0</td>\n",
              "      <td>44</td>\n",
              "    </tr>\n",
              "    <tr>\n",
              "      <th>2015-01-01 05:00:00</th>\n",
              "      <td>1.4</td>\n",
              "      <td>0.0</td>\n",
              "      <td>98.0</td>\n",
              "      <td>50</td>\n",
              "    </tr>\n",
              "  </tbody>\n",
              "</table>\n",
              "</div>\n",
              "      <button class=\"colab-df-convert\" onclick=\"convertToInteractive('df-8b9a9726-bef8-4330-a0a1-7cad8cca7d55')\"\n",
              "              title=\"Convert this dataframe to an interactive table.\"\n",
              "              style=\"display:none;\">\n",
              "        \n",
              "  <svg xmlns=\"http://www.w3.org/2000/svg\" height=\"24px\"viewBox=\"0 0 24 24\"\n",
              "       width=\"24px\">\n",
              "    <path d=\"M0 0h24v24H0V0z\" fill=\"none\"/>\n",
              "    <path d=\"M18.56 5.44l.94 2.06.94-2.06 2.06-.94-2.06-.94-.94-2.06-.94 2.06-2.06.94zm-11 1L8.5 8.5l.94-2.06 2.06-.94-2.06-.94L8.5 2.5l-.94 2.06-2.06.94zm10 10l.94 2.06.94-2.06 2.06-.94-2.06-.94-.94-2.06-.94 2.06-2.06.94z\"/><path d=\"M17.41 7.96l-1.37-1.37c-.4-.4-.92-.59-1.43-.59-.52 0-1.04.2-1.43.59L10.3 9.45l-7.72 7.72c-.78.78-.78 2.05 0 2.83L4 21.41c.39.39.9.59 1.41.59.51 0 1.02-.2 1.41-.59l7.78-7.78 2.81-2.81c.8-.78.8-2.07 0-2.86zM5.41 20L4 18.59l7.72-7.72 1.47 1.35L5.41 20z\"/>\n",
              "  </svg>\n",
              "      </button>\n",
              "      \n",
              "  <style>\n",
              "    .colab-df-container {\n",
              "      display:flex;\n",
              "      flex-wrap:wrap;\n",
              "      gap: 12px;\n",
              "    }\n",
              "\n",
              "    .colab-df-convert {\n",
              "      background-color: #E8F0FE;\n",
              "      border: none;\n",
              "      border-radius: 50%;\n",
              "      cursor: pointer;\n",
              "      display: none;\n",
              "      fill: #1967D2;\n",
              "      height: 32px;\n",
              "      padding: 0 0 0 0;\n",
              "      width: 32px;\n",
              "    }\n",
              "\n",
              "    .colab-df-convert:hover {\n",
              "      background-color: #E2EBFA;\n",
              "      box-shadow: 0px 1px 2px rgba(60, 64, 67, 0.3), 0px 1px 3px 1px rgba(60, 64, 67, 0.15);\n",
              "      fill: #174EA6;\n",
              "    }\n",
              "\n",
              "    [theme=dark] .colab-df-convert {\n",
              "      background-color: #3B4455;\n",
              "      fill: #D2E3FC;\n",
              "    }\n",
              "\n",
              "    [theme=dark] .colab-df-convert:hover {\n",
              "      background-color: #434B5C;\n",
              "      box-shadow: 0px 1px 3px 1px rgba(0, 0, 0, 0.15);\n",
              "      filter: drop-shadow(0px 1px 2px rgba(0, 0, 0, 0.3));\n",
              "      fill: #FFFFFF;\n",
              "    }\n",
              "  </style>\n",
              "\n",
              "      <script>\n",
              "        const buttonEl =\n",
              "          document.querySelector('#df-8b9a9726-bef8-4330-a0a1-7cad8cca7d55 button.colab-df-convert');\n",
              "        buttonEl.style.display =\n",
              "          google.colab.kernel.accessAllowed ? 'block' : 'none';\n",
              "\n",
              "        async function convertToInteractive(key) {\n",
              "          const element = document.querySelector('#df-8b9a9726-bef8-4330-a0a1-7cad8cca7d55');\n",
              "          const dataTable =\n",
              "            await google.colab.kernel.invokeFunction('convertToInteractive',\n",
              "                                                     [key], {});\n",
              "          if (!dataTable) return;\n",
              "\n",
              "          const docLinkHtml = 'Like what you see? Visit the ' +\n",
              "            '<a target=\"_blank\" href=https://colab.research.google.com/notebooks/data_table.ipynb>data table notebook</a>'\n",
              "            + ' to learn more about interactive tables.';\n",
              "          element.innerHTML = '';\n",
              "          dataTable['output_type'] = 'display_data';\n",
              "          await google.colab.output.renderOutput(dataTable, element);\n",
              "          const docLink = document.createElement('div');\n",
              "          docLink.innerHTML = docLinkHtml;\n",
              "          element.appendChild(docLink);\n",
              "        }\n",
              "      </script>\n",
              "    </div>\n",
              "  </div>\n",
              "  "
            ]
          },
          "metadata": {},
          "execution_count": 4
        }
      ],
      "source": [
        "df.head()"
      ]
    },
    {
      "cell_type": "markdown",
      "metadata": {
        "id": "RtGFLNrMDAq5"
      },
      "source": [
        "Se importan los datos de prueba."
      ]
    },
    {
      "cell_type": "code",
      "execution_count": null,
      "metadata": {
        "id": "s85L2z4VDFNm"
      },
      "outputs": [],
      "source": [
        "df_test = pd.read_csv('./drive/MyDrive/DatosInvestigacion/final_test_2015.csv', index_col=0, parse_dates=True)\n",
        "df_test = df_test.asfreq('h')"
      ]
    },
    {
      "cell_type": "code",
      "execution_count": null,
      "metadata": {
        "id": "C2c5x9QmDGUA"
      },
      "outputs": [],
      "source": [
        "df_test = df_test[['WS1HA','SRGLOAVG1H','RHMAX1H','WD1HA']]"
      ]
    },
    {
      "cell_type": "code",
      "execution_count": null,
      "metadata": {
        "colab": {
          "base_uri": "https://localhost:8080/",
          "height": 237
        },
        "id": "dtbCw1vSFJjc",
        "outputId": "a248e758-3561-4138-f1d9-acd9d05f9031"
      },
      "outputs": [
        {
          "output_type": "execute_result",
          "data": {
            "text/plain": [
              "                     WS1HA  SRGLOAVG1H  RHMAX1H  WD1HA\n",
              "Local_Time                                            \n",
              "2016-08-07 20:00:00    3.2         0.0     83.0     45\n",
              "2016-08-07 21:00:00    3.0         0.0     81.0     50\n",
              "2016-08-07 22:00:00    3.1         0.0     83.0     52\n",
              "2016-08-07 23:00:00    4.2         0.0     85.0     45\n",
              "2016-08-08 00:00:00    4.0         0.0     86.0     49"
            ],
            "text/html": [
              "\n",
              "  <div id=\"df-0c50d0a7-56e6-4706-8b64-bde65e1e2073\">\n",
              "    <div class=\"colab-df-container\">\n",
              "      <div>\n",
              "<style scoped>\n",
              "    .dataframe tbody tr th:only-of-type {\n",
              "        vertical-align: middle;\n",
              "    }\n",
              "\n",
              "    .dataframe tbody tr th {\n",
              "        vertical-align: top;\n",
              "    }\n",
              "\n",
              "    .dataframe thead th {\n",
              "        text-align: right;\n",
              "    }\n",
              "</style>\n",
              "<table border=\"1\" class=\"dataframe\">\n",
              "  <thead>\n",
              "    <tr style=\"text-align: right;\">\n",
              "      <th></th>\n",
              "      <th>WS1HA</th>\n",
              "      <th>SRGLOAVG1H</th>\n",
              "      <th>RHMAX1H</th>\n",
              "      <th>WD1HA</th>\n",
              "    </tr>\n",
              "    <tr>\n",
              "      <th>Local_Time</th>\n",
              "      <th></th>\n",
              "      <th></th>\n",
              "      <th></th>\n",
              "      <th></th>\n",
              "    </tr>\n",
              "  </thead>\n",
              "  <tbody>\n",
              "    <tr>\n",
              "      <th>2016-08-07 20:00:00</th>\n",
              "      <td>3.2</td>\n",
              "      <td>0.0</td>\n",
              "      <td>83.0</td>\n",
              "      <td>45</td>\n",
              "    </tr>\n",
              "    <tr>\n",
              "      <th>2016-08-07 21:00:00</th>\n",
              "      <td>3.0</td>\n",
              "      <td>0.0</td>\n",
              "      <td>81.0</td>\n",
              "      <td>50</td>\n",
              "    </tr>\n",
              "    <tr>\n",
              "      <th>2016-08-07 22:00:00</th>\n",
              "      <td>3.1</td>\n",
              "      <td>0.0</td>\n",
              "      <td>83.0</td>\n",
              "      <td>52</td>\n",
              "    </tr>\n",
              "    <tr>\n",
              "      <th>2016-08-07 23:00:00</th>\n",
              "      <td>4.2</td>\n",
              "      <td>0.0</td>\n",
              "      <td>85.0</td>\n",
              "      <td>45</td>\n",
              "    </tr>\n",
              "    <tr>\n",
              "      <th>2016-08-08 00:00:00</th>\n",
              "      <td>4.0</td>\n",
              "      <td>0.0</td>\n",
              "      <td>86.0</td>\n",
              "      <td>49</td>\n",
              "    </tr>\n",
              "  </tbody>\n",
              "</table>\n",
              "</div>\n",
              "      <button class=\"colab-df-convert\" onclick=\"convertToInteractive('df-0c50d0a7-56e6-4706-8b64-bde65e1e2073')\"\n",
              "              title=\"Convert this dataframe to an interactive table.\"\n",
              "              style=\"display:none;\">\n",
              "        \n",
              "  <svg xmlns=\"http://www.w3.org/2000/svg\" height=\"24px\"viewBox=\"0 0 24 24\"\n",
              "       width=\"24px\">\n",
              "    <path d=\"M0 0h24v24H0V0z\" fill=\"none\"/>\n",
              "    <path d=\"M18.56 5.44l.94 2.06.94-2.06 2.06-.94-2.06-.94-.94-2.06-.94 2.06-2.06.94zm-11 1L8.5 8.5l.94-2.06 2.06-.94-2.06-.94L8.5 2.5l-.94 2.06-2.06.94zm10 10l.94 2.06.94-2.06 2.06-.94-2.06-.94-.94-2.06-.94 2.06-2.06.94z\"/><path d=\"M17.41 7.96l-1.37-1.37c-.4-.4-.92-.59-1.43-.59-.52 0-1.04.2-1.43.59L10.3 9.45l-7.72 7.72c-.78.78-.78 2.05 0 2.83L4 21.41c.39.39.9.59 1.41.59.51 0 1.02-.2 1.41-.59l7.78-7.78 2.81-2.81c.8-.78.8-2.07 0-2.86zM5.41 20L4 18.59l7.72-7.72 1.47 1.35L5.41 20z\"/>\n",
              "  </svg>\n",
              "      </button>\n",
              "      \n",
              "  <style>\n",
              "    .colab-df-container {\n",
              "      display:flex;\n",
              "      flex-wrap:wrap;\n",
              "      gap: 12px;\n",
              "    }\n",
              "\n",
              "    .colab-df-convert {\n",
              "      background-color: #E8F0FE;\n",
              "      border: none;\n",
              "      border-radius: 50%;\n",
              "      cursor: pointer;\n",
              "      display: none;\n",
              "      fill: #1967D2;\n",
              "      height: 32px;\n",
              "      padding: 0 0 0 0;\n",
              "      width: 32px;\n",
              "    }\n",
              "\n",
              "    .colab-df-convert:hover {\n",
              "      background-color: #E2EBFA;\n",
              "      box-shadow: 0px 1px 2px rgba(60, 64, 67, 0.3), 0px 1px 3px 1px rgba(60, 64, 67, 0.15);\n",
              "      fill: #174EA6;\n",
              "    }\n",
              "\n",
              "    [theme=dark] .colab-df-convert {\n",
              "      background-color: #3B4455;\n",
              "      fill: #D2E3FC;\n",
              "    }\n",
              "\n",
              "    [theme=dark] .colab-df-convert:hover {\n",
              "      background-color: #434B5C;\n",
              "      box-shadow: 0px 1px 3px 1px rgba(0, 0, 0, 0.15);\n",
              "      filter: drop-shadow(0px 1px 2px rgba(0, 0, 0, 0.3));\n",
              "      fill: #FFFFFF;\n",
              "    }\n",
              "  </style>\n",
              "\n",
              "      <script>\n",
              "        const buttonEl =\n",
              "          document.querySelector('#df-0c50d0a7-56e6-4706-8b64-bde65e1e2073 button.colab-df-convert');\n",
              "        buttonEl.style.display =\n",
              "          google.colab.kernel.accessAllowed ? 'block' : 'none';\n",
              "\n",
              "        async function convertToInteractive(key) {\n",
              "          const element = document.querySelector('#df-0c50d0a7-56e6-4706-8b64-bde65e1e2073');\n",
              "          const dataTable =\n",
              "            await google.colab.kernel.invokeFunction('convertToInteractive',\n",
              "                                                     [key], {});\n",
              "          if (!dataTable) return;\n",
              "\n",
              "          const docLinkHtml = 'Like what you see? Visit the ' +\n",
              "            '<a target=\"_blank\" href=https://colab.research.google.com/notebooks/data_table.ipynb>data table notebook</a>'\n",
              "            + ' to learn more about interactive tables.';\n",
              "          element.innerHTML = '';\n",
              "          dataTable['output_type'] = 'display_data';\n",
              "          await google.colab.output.renderOutput(dataTable, element);\n",
              "          const docLink = document.createElement('div');\n",
              "          docLink.innerHTML = docLinkHtml;\n",
              "          element.appendChild(docLink);\n",
              "        }\n",
              "      </script>\n",
              "    </div>\n",
              "  </div>\n",
              "  "
            ]
          },
          "metadata": {},
          "execution_count": 7
        }
      ],
      "source": [
        "df_test.head()"
      ]
    },
    {
      "cell_type": "markdown",
      "metadata": {
        "id": "MPdqQ7kCE_JL"
      },
      "source": [
        "## Creación del modelo"
      ]
    },
    {
      "cell_type": "markdown",
      "metadata": {
        "id": "ly6hPE67FBgf"
      },
      "source": [
        "Se normalizan los datos."
      ]
    },
    {
      "cell_type": "code",
      "execution_count": null,
      "metadata": {
        "id": "PNbBfrfsE8XS"
      },
      "outputs": [],
      "source": [
        "scaler = MinMaxScaler()"
      ]
    },
    {
      "cell_type": "code",
      "execution_count": null,
      "metadata": {
        "colab": {
          "base_uri": "https://localhost:8080/"
        },
        "id": "yJqnkw8GFCyp",
        "outputId": "9aa42cee-31f7-4a4c-d39f-b204f7429156"
      },
      "outputs": [
        {
          "output_type": "execute_result",
          "data": {
            "text/plain": [
              "MinMaxScaler()"
            ]
          },
          "metadata": {},
          "execution_count": 9
        }
      ],
      "source": [
        "scaler.fit(df)"
      ]
    },
    {
      "cell_type": "code",
      "execution_count": null,
      "metadata": {
        "id": "oY0aUnmtFFCj"
      },
      "outputs": [],
      "source": [
        "scaled_train = scaler.transform(df)\n",
        "scaled_test = scaler.transform(df_test)"
      ]
    },
    {
      "cell_type": "code",
      "execution_count": null,
      "metadata": {
        "id": "H3PqbBNEFMXi"
      },
      "outputs": [],
      "source": [
        "from keras.preprocessing.sequence import TimeseriesGenerator"
      ]
    },
    {
      "cell_type": "markdown",
      "metadata": {
        "id": "Zam37ju2Gd-H"
      },
      "source": [
        "Se crea una función para generar modelos de varias capas y número de neuronas."
      ]
    },
    {
      "cell_type": "code",
      "execution_count": null,
      "metadata": {
        "id": "g_IowHCTFOe5"
      },
      "outputs": [],
      "source": [
        "def create_Model(n_input, LSTM_neurons = 100, layers=3,n_features=0):\n",
        "  # define model\n",
        "  model = Sequential()\n",
        "  if(layers>1):\n",
        "    model.add(LSTM(LSTM_neurons, activation='relu', input_shape=(n_input, n_features+1),return_sequences=True))\n",
        "    for i in range(layers-2):\n",
        "        model.add(LSTM(LSTM_neurons, activation='relu',return_sequences=True))\n",
        "    model.add(LSTM(LSTM_neurons, activation='relu'))\n",
        "  else:\n",
        "    model.add(LSTM(LSTM_neurons, activation='relu', input_shape=(n_input, n_features+1)))\n",
        "  model.add(Dense(1))\n",
        "  model.compile(optimizer='adam', loss='mse')\n",
        "  return model"
      ]
    },
    {
      "cell_type": "markdown",
      "metadata": {
        "id": "kTlVPAwvGlV3"
      },
      "source": [
        "Esta lista sirve para almacenar los resultados que ya han sido obtenidos, esto se debe a que Colab interrumpe las ejecuciones después de cierto tiempo, así que hay que tomar en cuenta las combinaciones que ya se han probado."
      ]
    },
    {
      "cell_type": "code",
      "execution_count": 8,
      "metadata": {
        "id": "UtNgrZP3Ge4_"
      },
      "outputs": [],
      "source": [
        "combinaciones_anteriores = []"
      ]
    },
    {
      "cell_type": "code",
      "execution_count": 3,
      "metadata": {
        "id": "UezUCfnYHOz2"
      },
      "outputs": [],
      "source": [
        "import json"
      ]
    },
    {
      "cell_type": "code",
      "execution_count": 4,
      "metadata": {
        "id": "IcpVIkfrgRa9"
      },
      "outputs": [],
      "source": [
        "resultados_anteriores = []"
      ]
    },
    {
      "cell_type": "code",
      "execution_count": 5,
      "metadata": {
        "id": "Doe13Y7pgDTy"
      },
      "outputs": [],
      "source": [
        "with open(\"./drive/MyDrive/DatosInvestigacion/resultados_LSTM_multivariado_viento.txt\",'r') as fp:\n",
        "    for line in fp:\n",
        "      resultados_anteriores.append(json.loads(line))"
      ]
    },
    {
      "cell_type": "code",
      "execution_count": 6,
      "metadata": {
        "id": "T7QVPzwhgSjN"
      },
      "outputs": [],
      "source": [
        "df_resultados = pd.DataFrame(resultados_anteriores)"
      ]
    },
    {
      "cell_type": "code",
      "execution_count": 9,
      "metadata": {
        "id": "KQFGeg6ngUcl"
      },
      "outputs": [],
      "source": [
        "for i in range(len(df_resultados)):\n",
        "  combinaciones_anteriores.append((int(df_resultados.iloc[i]['Retrasos']),\n",
        "                                   int(df_resultados.iloc[i]['Neuronas LSTM']),\n",
        "                                   int(df_resultados.iloc[i]['Batch size']),\n",
        "                                   int(df_resultados.iloc[i]['LSTM Layers'])))"
      ]
    },
    {
      "cell_type": "code",
      "execution_count": null,
      "metadata": {
        "colab": {
          "base_uri": "https://localhost:8080/"
        },
        "id": "mhGt_8d1gcVS",
        "outputId": "f8c697f9-7be2-48be-c830-a19774427516"
      },
      "outputs": [
        {
          "output_type": "execute_result",
          "data": {
            "text/plain": [
              "144"
            ]
          },
          "metadata": {},
          "execution_count": 19
        }
      ],
      "source": [
        "len(combinaciones_anteriores)"
      ]
    },
    {
      "cell_type": "code",
      "execution_count": null,
      "metadata": {
        "colab": {
          "base_uri": "https://localhost:8080/"
        },
        "id": "FEgvFAMfgdok",
        "outputId": "625f62e3-18a4-496f-cb3e-f3ae49bf646c"
      },
      "outputs": [
        {
          "output_type": "execute_result",
          "data": {
            "text/plain": [
              "(28, 125, 200, 3)"
            ]
          },
          "metadata": {},
          "execution_count": 20
        }
      ],
      "source": [
        "combinaciones_anteriores[-1]"
      ]
    },
    {
      "cell_type": "code",
      "execution_count": null,
      "metadata": {
        "colab": {
          "base_uri": "https://localhost:8080/",
          "height": 80
        },
        "id": "CJ-iOKZygfMM",
        "outputId": "e2dada1a-2b64-4fb3-df40-c664d18ab275"
      },
      "outputs": [
        {
          "output_type": "execute_result",
          "data": {
            "text/plain": [
              "    Retrasos  Neuronas LSTM  Batch size  LSTM Layers       MSE       MAE  \\\n",
              "79        24            100         150            2  0.509394  0.529666   \n",
              "\n",
              "        RMSE  \n",
              "79  0.713718  "
            ],
            "text/html": [
              "\n",
              "  <div id=\"df-bf541dbe-ee75-40cf-964a-db05fbe56776\">\n",
              "    <div class=\"colab-df-container\">\n",
              "      <div>\n",
              "<style scoped>\n",
              "    .dataframe tbody tr th:only-of-type {\n",
              "        vertical-align: middle;\n",
              "    }\n",
              "\n",
              "    .dataframe tbody tr th {\n",
              "        vertical-align: top;\n",
              "    }\n",
              "\n",
              "    .dataframe thead th {\n",
              "        text-align: right;\n",
              "    }\n",
              "</style>\n",
              "<table border=\"1\" class=\"dataframe\">\n",
              "  <thead>\n",
              "    <tr style=\"text-align: right;\">\n",
              "      <th></th>\n",
              "      <th>Retrasos</th>\n",
              "      <th>Neuronas LSTM</th>\n",
              "      <th>Batch size</th>\n",
              "      <th>LSTM Layers</th>\n",
              "      <th>MSE</th>\n",
              "      <th>MAE</th>\n",
              "      <th>RMSE</th>\n",
              "    </tr>\n",
              "  </thead>\n",
              "  <tbody>\n",
              "    <tr>\n",
              "      <th>79</th>\n",
              "      <td>24</td>\n",
              "      <td>100</td>\n",
              "      <td>150</td>\n",
              "      <td>2</td>\n",
              "      <td>0.509394</td>\n",
              "      <td>0.529666</td>\n",
              "      <td>0.713718</td>\n",
              "    </tr>\n",
              "  </tbody>\n",
              "</table>\n",
              "</div>\n",
              "      <button class=\"colab-df-convert\" onclick=\"convertToInteractive('df-bf541dbe-ee75-40cf-964a-db05fbe56776')\"\n",
              "              title=\"Convert this dataframe to an interactive table.\"\n",
              "              style=\"display:none;\">\n",
              "        \n",
              "  <svg xmlns=\"http://www.w3.org/2000/svg\" height=\"24px\"viewBox=\"0 0 24 24\"\n",
              "       width=\"24px\">\n",
              "    <path d=\"M0 0h24v24H0V0z\" fill=\"none\"/>\n",
              "    <path d=\"M18.56 5.44l.94 2.06.94-2.06 2.06-.94-2.06-.94-.94-2.06-.94 2.06-2.06.94zm-11 1L8.5 8.5l.94-2.06 2.06-.94-2.06-.94L8.5 2.5l-.94 2.06-2.06.94zm10 10l.94 2.06.94-2.06 2.06-.94-2.06-.94-.94-2.06-.94 2.06-2.06.94z\"/><path d=\"M17.41 7.96l-1.37-1.37c-.4-.4-.92-.59-1.43-.59-.52 0-1.04.2-1.43.59L10.3 9.45l-7.72 7.72c-.78.78-.78 2.05 0 2.83L4 21.41c.39.39.9.59 1.41.59.51 0 1.02-.2 1.41-.59l7.78-7.78 2.81-2.81c.8-.78.8-2.07 0-2.86zM5.41 20L4 18.59l7.72-7.72 1.47 1.35L5.41 20z\"/>\n",
              "  </svg>\n",
              "      </button>\n",
              "      \n",
              "  <style>\n",
              "    .colab-df-container {\n",
              "      display:flex;\n",
              "      flex-wrap:wrap;\n",
              "      gap: 12px;\n",
              "    }\n",
              "\n",
              "    .colab-df-convert {\n",
              "      background-color: #E8F0FE;\n",
              "      border: none;\n",
              "      border-radius: 50%;\n",
              "      cursor: pointer;\n",
              "      display: none;\n",
              "      fill: #1967D2;\n",
              "      height: 32px;\n",
              "      padding: 0 0 0 0;\n",
              "      width: 32px;\n",
              "    }\n",
              "\n",
              "    .colab-df-convert:hover {\n",
              "      background-color: #E2EBFA;\n",
              "      box-shadow: 0px 1px 2px rgba(60, 64, 67, 0.3), 0px 1px 3px 1px rgba(60, 64, 67, 0.15);\n",
              "      fill: #174EA6;\n",
              "    }\n",
              "\n",
              "    [theme=dark] .colab-df-convert {\n",
              "      background-color: #3B4455;\n",
              "      fill: #D2E3FC;\n",
              "    }\n",
              "\n",
              "    [theme=dark] .colab-df-convert:hover {\n",
              "      background-color: #434B5C;\n",
              "      box-shadow: 0px 1px 3px 1px rgba(0, 0, 0, 0.15);\n",
              "      filter: drop-shadow(0px 1px 2px rgba(0, 0, 0, 0.3));\n",
              "      fill: #FFFFFF;\n",
              "    }\n",
              "  </style>\n",
              "\n",
              "      <script>\n",
              "        const buttonEl =\n",
              "          document.querySelector('#df-bf541dbe-ee75-40cf-964a-db05fbe56776 button.colab-df-convert');\n",
              "        buttonEl.style.display =\n",
              "          google.colab.kernel.accessAllowed ? 'block' : 'none';\n",
              "\n",
              "        async function convertToInteractive(key) {\n",
              "          const element = document.querySelector('#df-bf541dbe-ee75-40cf-964a-db05fbe56776');\n",
              "          const dataTable =\n",
              "            await google.colab.kernel.invokeFunction('convertToInteractive',\n",
              "                                                     [key], {});\n",
              "          if (!dataTable) return;\n",
              "\n",
              "          const docLinkHtml = 'Like what you see? Visit the ' +\n",
              "            '<a target=\"_blank\" href=https://colab.research.google.com/notebooks/data_table.ipynb>data table notebook</a>'\n",
              "            + ' to learn more about interactive tables.';\n",
              "          element.innerHTML = '';\n",
              "          dataTable['output_type'] = 'display_data';\n",
              "          await google.colab.output.renderOutput(dataTable, element);\n",
              "          const docLink = document.createElement('div');\n",
              "          docLink.innerHTML = docLinkHtml;\n",
              "          element.appendChild(docLink);\n",
              "        }\n",
              "      </script>\n",
              "    </div>\n",
              "  </div>\n",
              "  "
            ]
          },
          "metadata": {},
          "execution_count": 21
        }
      ],
      "source": [
        "df_resultados[df_resultados['RMSE']==df_resultados['RMSE'].min()]"
      ]
    },
    {
      "cell_type": "markdown",
      "metadata": {
        "id": "swUHl1TZGn8v"
      },
      "source": [
        "Se utiliza el RMSE mínimo como referencia para elegir al mejor modelo."
      ]
    },
    {
      "cell_type": "code",
      "execution_count": null,
      "metadata": {
        "id": "3hModnRLGjlP"
      },
      "outputs": [],
      "source": [
        "min_RMSE = 0.713718"
      ]
    },
    {
      "cell_type": "markdown",
      "metadata": {
        "id": "Kr_1STMAGttG"
      },
      "source": [
        "Se pruebas las posibles combinaciones en busca de la mejor."
      ]
    },
    {
      "cell_type": "code",
      "execution_count": null,
      "metadata": {
        "id": "T_MxN82HGqkX"
      },
      "outputs": [],
      "source": [
        "for retrasos in range(20,29,4): #un poco más de un día hacia el pasado\n",
        "  for num_neuronas in range(50,126,25): \n",
        "    for batch_size in range(50,201,50):\n",
        "      for num_layers in range(1,4): \n",
        "        if((retrasos,num_neuronas,batch_size,num_layers) in combinaciones_anteriores):\n",
        "          continue\n",
        "        print({\n",
        "            'Retrasos':retrasos,\n",
        "            'Neuronas LSTM':num_neuronas,\n",
        "            'Batch size':batch_size,\n",
        "            'LSTM Layers': num_layers\n",
        "        })\n",
        "        n_input = retrasos # horas hacia atrás\n",
        "        n_output = 1\n",
        "        n_features = 3 # variables exógenas\n",
        "        generator = TimeseriesGenerator(scaled_train, scaled_train[:,0], length=n_input, batch_size=n_output)\n",
        "        model = create_Model(n_input,LSTM_neurons=num_neuronas,layers=num_layers,n_features=n_features)\n",
        "        model.fit(generator,epochs=7,verbose=False,batch_size=batch_size)\n",
        "        predictions = []\n",
        "        for j in range(n_input,len(df_test)):\n",
        "          model_input = scaled_test[j-n_input:j]\n",
        "          model_input = model_input.reshape((1, n_input, n_features+1))\n",
        "          predictions.append(model.predict(model_input)[0])\n",
        "\n",
        "        predictions = np.ndarray.flatten(np.array(predictions))  \n",
        "        test_predictions =  np.zeros(shape=(len(predictions), n_output+n_features))\n",
        "        test_predictions[:,0] = predictions\n",
        "        true_predictions = scaler.inverse_transform(test_predictions)\n",
        "        rsg_predictions = true_predictions[:,0]\n",
        "        true_values = np.ndarray.flatten(df_test.iloc[n_input:]['WS1HA'].values)\n",
        "\n",
        "        errorMSE = mean_squared_error(true_values,rsg_predictions)\n",
        "        errorMAE = mean_absolute_error(true_values,rsg_predictions)\n",
        "        errorRMSE = np.sqrt(errorMSE)\n",
        "        if(errorRMSE<min_RMSE):\n",
        "          print('BEST')\n",
        "          model.save('./drive/MyDrive/DatosInvestigacion/LSTM_multivariado_viento.h5')\n",
        "          min_RMSE = errorRMSE\n",
        "\n",
        "        print('RMSE:',errorRMSE)\n",
        "        print('MAE',errorMAE)\n",
        "        print('min RMSE',min_RMSE)\n",
        "        resultado = {\n",
        "            'Retrasos':retrasos,\n",
        "            'Neuronas LSTM':num_neuronas,\n",
        "            'Batch size':batch_size,\n",
        "            'LSTM Layers': num_layers,\n",
        "            'MSE':errorMSE,\n",
        "            'MAE':errorMAE,\n",
        "            'RMSE':errorRMSE\n",
        "        }\n",
        "        with open(\"./drive/MyDrive/DatosInvestigacion/resultados_LSTM_multivariado_viento.txt\",\"a\") as file:\n",
        "          resultado = json.dumps(resultado)\n",
        "          file.write(resultado)\n",
        "          file.write('\\n')"
      ]
    },
    {
      "cell_type": "markdown",
      "source": [
        "## Restultados"
      ],
      "metadata": {
        "id": "Vg6_lRMXFayt"
      }
    },
    {
      "cell_type": "code",
      "execution_count": 1,
      "metadata": {
        "id": "fnnBEkYagoEE"
      },
      "outputs": [],
      "source": [
        "import seaborn as sns  "
      ]
    },
    {
      "cell_type": "markdown",
      "source": [
        "### Retrasos"
      ],
      "metadata": {
        "id": "VizxhfkeFqux"
      }
    },
    {
      "cell_type": "markdown",
      "source": [
        "El mejor número de retrasos es 24, con dos capas LSTM."
      ],
      "metadata": {
        "id": "h9A6g7TnF48g"
      }
    },
    {
      "cell_type": "code",
      "source": [
        "sns.set(rc={\"figure.figsize\":(10, 5)})\n",
        "sns.lineplot(data=df_resultados, x='Retrasos', y='RMSE',hue='LSTM Layers',palette='tab10',ci=0, estimator=np.min)"
      ],
      "metadata": {
        "colab": {
          "base_uri": "https://localhost:8080/",
          "height": 356
        },
        "id": "AVl_d6SZF1PQ",
        "outputId": "0bbe8ea0-8dee-4fa7-a87c-9e4ccf17f86c"
      },
      "execution_count": 10,
      "outputs": [
        {
          "output_type": "execute_result",
          "data": {
            "text/plain": [
              "<matplotlib.axes._subplots.AxesSubplot at 0x7f43fb9dc310>"
            ]
          },
          "metadata": {},
          "execution_count": 10
        },
        {
          "output_type": "display_data",
          "data": {
            "text/plain": [
              "<Figure size 720x360 with 1 Axes>"
            ],
            "image/png": "[encoded data removed]"
          },
          "metadata": {}
        }
      ]
    },
    {
      "cell_type": "markdown",
      "source": [
        "### Número de neuronas"
      ],
      "metadata": {
        "id": "aebA1MQiF9u4"
      }
    },
    {
      "cell_type": "markdown",
      "source": [
        "El mejor número de neuronas es 100."
      ],
      "metadata": {
        "id": "Ji4AJRdJGDtd"
      }
    },
    {
      "cell_type": "code",
      "source": [
        "sns.set(rc={\"figure.figsize\":(10, 5)})\n",
        "sns.lineplot(data=df_resultados, x='Neuronas LSTM', y='RMSE',hue='LSTM Layers',palette='tab10', ci=0, estimator=np.min)"
      ],
      "metadata": {
        "colab": {
          "base_uri": "https://localhost:8080/",
          "height": 356
        },
        "id": "YyrAkrMnFnPQ",
        "outputId": "cf8ada5f-c0e1-4af5-e8a1-59003dfb1361"
      },
      "execution_count": 11,
      "outputs": [
        {
          "output_type": "execute_result",
          "data": {
            "text/plain": [
              "<matplotlib.axes._subplots.AxesSubplot at 0x7f43fb769250>"
            ]
          },
          "metadata": {},
          "execution_count": 11
        },
        {
          "output_type": "display_data",
          "data": {
            "text/plain": [
              "<Figure size 720x360 with 1 Axes>"
            ],
            "image/png": "[encoded data removed]"
          },
          "metadata": {}
        }
      ]
    },
    {
      "cell_type": "markdown",
      "source": [
        "### Batch Size"
      ],
      "metadata": {
        "id": "xnDXQgveGHho"
      }
    },
    {
      "cell_type": "markdown",
      "source": [
        "El mejor batch size se de 150."
      ],
      "metadata": {
        "id": "4kgjLLi6GNSW"
      }
    },
    {
      "cell_type": "code",
      "source": [
        "sns.set(rc={\"figure.figsize\":(10, 5)})\n",
        "sns.lineplot(data=df_resultados, x='Batch size', y='RMSE',hue='LSTM Layers',palette='tab10', ci=0, estimator=np.min)"
      ],
      "metadata": {
        "id": "HDEt6eMK4SEj",
        "colab": {
          "base_uri": "https://localhost:8080/",
          "height": 356
        },
        "outputId": "33b64012-2885-4485-b955-9d2d171fa58f"
      },
      "execution_count": 12,
      "outputs": [
        {
          "output_type": "execute_result",
          "data": {
            "text/plain": [
              "<matplotlib.axes._subplots.AxesSubplot at 0x7f43fb220f90>"
            ]
          },
          "metadata": {},
          "execution_count": 12
        },
        {
          "output_type": "display_data",
          "data": {
            "text/plain": [
              "<Figure size 720x360 with 1 Axes>"
            ],
            "image/png": "[encoded data removed]"
          },
          "metadata": {}
        }
      ]
    },
    {
      "cell_type": "markdown",
      "source": [
        "## Conclusiones"
      ],
      "metadata": {
        "id": "qzQ4qwwqGWAx"
      }
    },
    {
      "cell_type": "markdown",
      "source": [
        "* 2 capas LSTM son mejor\n",
        "* El mejor batch size es 150\n",
        "* El mejor número de neuronas es 100\n",
        "* El mejor número de retrasos es 24 (un día hacia atrás)"
      ],
      "metadata": {
        "id": "4f2vUW4mGYZN"
      }
    }
  ],
  "metadata": {
    "colab": {
      "collapsed_sections": [],
      "name": "Udla19.ipynb",
      "provenance": []
    },
    "kernelspec": {
      "display_name": "Python 3",
      "name": "python3"
    },
    "language_info": {
      "name": "python"
    }
  },
  "nbformat": 4,
  "nbformat_minor": 0
}