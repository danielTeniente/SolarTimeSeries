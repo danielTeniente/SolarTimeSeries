{
  "cells": [
    {
      "cell_type": "markdown",
      "metadata": {
        "id": "SgLMR0gPz8F9"
      },
      "source": [
        "# LSTM multivariado"
      ]
    },
    {
      "cell_type": "code",
      "execution_count": null,
      "metadata": {
        "id": "FLh3QiRFz7Pi"
      },
      "outputs": [],
      "source": [
        "import numpy as np\n",
        "import matplotlib.pyplot as plt\n",
        "import pandas as pd\n",
        "from sklearn.metrics import mean_squared_error\n",
        "from sklearn.metrics import mean_absolute_error\n",
        "from sklearn.preprocessing import MinMaxScaler\n",
        "from tensorflow.keras.models import Sequential\n",
        "from tensorflow.keras.layers import Dense,LSTM,Activation\n",
        "from tensorflow import keras\n",
        "import tensorflow as tf"
      ]
    },
    {
      "cell_type": "code",
      "execution_count": null,
      "metadata": {
        "id": "3i0SWTwG5WK2"
      },
      "outputs": [],
      "source": [
        "df = pd.read_csv('./drive/MyDrive/DatosInvestigacion/final_train_2015.csv', index_col=0, parse_dates=True)\n",
        "df = df.asfreq('h')"
      ]
    },
    {
      "cell_type": "code",
      "execution_count": null,
      "metadata": {
        "colab": {
          "base_uri": "https://localhost:8080/",
          "height": 238
        },
        "id": "_THff7q3VBTI",
        "outputId": "a0427e14-0994-4fe9-c763-cf013005100f"
      },
      "outputs": [
        {
          "output_type": "execute_result",
          "data": {
            "text/html": [
              "\n",
              "  <div id=\"df-1cb30731-65e1-4199-abcb-4e1aa78f4f2a\">\n",
              "    <div class=\"colab-df-container\">\n",
              "      <div>\n",
              "<style scoped>\n",
              "    .dataframe tbody tr th:only-of-type {\n",
              "        vertical-align: middle;\n",
              "    }\n",
              "\n",
              "    .dataframe tbody tr th {\n",
              "        vertical-align: top;\n",
              "    }\n",
              "\n",
              "    .dataframe thead th {\n",
              "        text-align: right;\n",
              "    }\n",
              "</style>\n",
              "<table border=\"1\" class=\"dataframe\">\n",
              "  <thead>\n",
              "    <tr style=\"text-align: right;\">\n",
              "      <th></th>\n",
              "      <th>SRGLOAVG1H</th>\n",
              "      <th>TAMAX1H</th>\n",
              "      <th>TAMIN1H</th>\n",
              "      <th>RHMAX1H</th>\n",
              "      <th>RHMIN1H</th>\n",
              "      <th>PRSUM1H</th>\n",
              "      <th>PAAVG1H</th>\n",
              "      <th>PAMAX1H</th>\n",
              "      <th>PAMIN1H</th>\n",
              "      <th>WS1HA</th>\n",
              "      <th>WS1HX</th>\n",
              "      <th>WD1HA</th>\n",
              "    </tr>\n",
              "    <tr>\n",
              "      <th>Local_Time</th>\n",
              "      <th></th>\n",
              "      <th></th>\n",
              "      <th></th>\n",
              "      <th></th>\n",
              "      <th></th>\n",
              "      <th></th>\n",
              "      <th></th>\n",
              "      <th></th>\n",
              "      <th></th>\n",
              "      <th></th>\n",
              "      <th></th>\n",
              "      <th></th>\n",
              "    </tr>\n",
              "  </thead>\n",
              "  <tbody>\n",
              "    <tr>\n",
              "      <th>2015-01-01 08:00:00</th>\n",
              "      <td>107.0</td>\n",
              "      <td>12.2</td>\n",
              "      <td>9.5</td>\n",
              "      <td>96.0</td>\n",
              "      <td>89.0</td>\n",
              "      <td>0.0</td>\n",
              "      <td>743.5</td>\n",
              "      <td>743.7</td>\n",
              "      <td>743.1</td>\n",
              "      <td>2.5</td>\n",
              "      <td>4.6</td>\n",
              "      <td>42</td>\n",
              "    </tr>\n",
              "    <tr>\n",
              "      <th>2015-01-01 09:00:00</th>\n",
              "      <td>394.0</td>\n",
              "      <td>15.1</td>\n",
              "      <td>12.2</td>\n",
              "      <td>89.0</td>\n",
              "      <td>76.0</td>\n",
              "      <td>0.0</td>\n",
              "      <td>743.8</td>\n",
              "      <td>743.9</td>\n",
              "      <td>743.7</td>\n",
              "      <td>3.3</td>\n",
              "      <td>5.8</td>\n",
              "      <td>59</td>\n",
              "    </tr>\n",
              "    <tr>\n",
              "      <th>2015-01-01 10:00:00</th>\n",
              "      <td>728.0</td>\n",
              "      <td>18.1</td>\n",
              "      <td>15.1</td>\n",
              "      <td>79.0</td>\n",
              "      <td>57.0</td>\n",
              "      <td>0.0</td>\n",
              "      <td>743.7</td>\n",
              "      <td>743.9</td>\n",
              "      <td>743.4</td>\n",
              "      <td>4.4</td>\n",
              "      <td>8.4</td>\n",
              "      <td>40</td>\n",
              "    </tr>\n",
              "    <tr>\n",
              "      <th>2015-01-01 11:00:00</th>\n",
              "      <td>428.0</td>\n",
              "      <td>18.4</td>\n",
              "      <td>16.7</td>\n",
              "      <td>66.0</td>\n",
              "      <td>58.0</td>\n",
              "      <td>0.0</td>\n",
              "      <td>743.2</td>\n",
              "      <td>743.4</td>\n",
              "      <td>742.8</td>\n",
              "      <td>4.0</td>\n",
              "      <td>8.1</td>\n",
              "      <td>35</td>\n",
              "    </tr>\n",
              "    <tr>\n",
              "      <th>2015-01-01 12:00:00</th>\n",
              "      <td>403.0</td>\n",
              "      <td>18.5</td>\n",
              "      <td>17.2</td>\n",
              "      <td>65.0</td>\n",
              "      <td>55.0</td>\n",
              "      <td>0.0</td>\n",
              "      <td>742.6</td>\n",
              "      <td>742.9</td>\n",
              "      <td>742.3</td>\n",
              "      <td>3.5</td>\n",
              "      <td>7.6</td>\n",
              "      <td>34</td>\n",
              "    </tr>\n",
              "  </tbody>\n",
              "</table>\n",
              "</div>\n",
              "      <button class=\"colab-df-convert\" onclick=\"convertToInteractive('df-1cb30731-65e1-4199-abcb-4e1aa78f4f2a')\"\n",
              "              title=\"Convert this dataframe to an interactive table.\"\n",
              "              style=\"display:none;\">\n",
              "        \n",
              "  <svg xmlns=\"http://www.w3.org/2000/svg\" height=\"24px\"viewBox=\"0 0 24 24\"\n",
              "       width=\"24px\">\n",
              "    <path d=\"M0 0h24v24H0V0z\" fill=\"none\"/>\n",
              "    <path d=\"M18.56 5.44l.94 2.06.94-2.06 2.06-.94-2.06-.94-.94-2.06-.94 2.06-2.06.94zm-11 1L8.5 8.5l.94-2.06 2.06-.94-2.06-.94L8.5 2.5l-.94 2.06-2.06.94zm10 10l.94 2.06.94-2.06 2.06-.94-2.06-.94-.94-2.06-.94 2.06-2.06.94z\"/><path d=\"M17.41 7.96l-1.37-1.37c-.4-.4-.92-.59-1.43-.59-.52 0-1.04.2-1.43.59L10.3 9.45l-7.72 7.72c-.78.78-.78 2.05 0 2.83L4 21.41c.39.39.9.59 1.41.59.51 0 1.02-.2 1.41-.59l7.78-7.78 2.81-2.81c.8-.78.8-2.07 0-2.86zM5.41 20L4 18.59l7.72-7.72 1.47 1.35L5.41 20z\"/>\n",
              "  </svg>\n",
              "      </button>\n",
              "      \n",
              "  <style>\n",
              "    .colab-df-container {\n",
              "      display:flex;\n",
              "      flex-wrap:wrap;\n",
              "      gap: 12px;\n",
              "    }\n",
              "\n",
              "    .colab-df-convert {\n",
              "      background-color: #E8F0FE;\n",
              "      border: none;\n",
              "      border-radius: 50%;\n",
              "      cursor: pointer;\n",
              "      display: none;\n",
              "      fill: #1967D2;\n",
              "      height: 32px;\n",
              "      padding: 0 0 0 0;\n",
              "      width: 32px;\n",
              "    }\n",
              "\n",
              "    .colab-df-convert:hover {\n",
              "      background-color: #E2EBFA;\n",
              "      box-shadow: 0px 1px 2px rgba(60, 64, 67, 0.3), 0px 1px 3px 1px rgba(60, 64, 67, 0.15);\n",
              "      fill: #174EA6;\n",
              "    }\n",
              "\n",
              "    [theme=dark] .colab-df-convert {\n",
              "      background-color: #3B4455;\n",
              "      fill: #D2E3FC;\n",
              "    }\n",
              "\n",
              "    [theme=dark] .colab-df-convert:hover {\n",
              "      background-color: #434B5C;\n",
              "      box-shadow: 0px 1px 3px 1px rgba(0, 0, 0, 0.15);\n",
              "      filter: drop-shadow(0px 1px 2px rgba(0, 0, 0, 0.3));\n",
              "      fill: #FFFFFF;\n",
              "    }\n",
              "  </style>\n",
              "\n",
              "      <script>\n",
              "        const buttonEl =\n",
              "          document.querySelector('#df-1cb30731-65e1-4199-abcb-4e1aa78f4f2a button.colab-df-convert');\n",
              "        buttonEl.style.display =\n",
              "          google.colab.kernel.accessAllowed ? 'block' : 'none';\n",
              "\n",
              "        async function convertToInteractive(key) {\n",
              "          const element = document.querySelector('#df-1cb30731-65e1-4199-abcb-4e1aa78f4f2a');\n",
              "          const dataTable =\n",
              "            await google.colab.kernel.invokeFunction('convertToInteractive',\n",
              "                                                     [key], {});\n",
              "          if (!dataTable) return;\n",
              "\n",
              "          const docLinkHtml = 'Like what you see? Visit the ' +\n",
              "            '<a target=\"_blank\" href=https://colab.research.google.com/notebooks/data_table.ipynb>data table notebook</a>'\n",
              "            + ' to learn more about interactive tables.';\n",
              "          element.innerHTML = '';\n",
              "          dataTable['output_type'] = 'display_data';\n",
              "          await google.colab.output.renderOutput(dataTable, element);\n",
              "          const docLink = document.createElement('div');\n",
              "          docLink.innerHTML = docLinkHtml;\n",
              "          element.appendChild(docLink);\n",
              "        }\n",
              "      </script>\n",
              "    </div>\n",
              "  </div>\n",
              "  "
            ],
            "text/plain": [
              "                     SRGLOAVG1H  TAMAX1H  TAMIN1H  ...  WS1HA  WS1HX  WD1HA\n",
              "Local_Time                                         ...                     \n",
              "2015-01-01 08:00:00       107.0     12.2      9.5  ...    2.5    4.6     42\n",
              "2015-01-01 09:00:00       394.0     15.1     12.2  ...    3.3    5.8     59\n",
              "2015-01-01 10:00:00       728.0     18.1     15.1  ...    4.4    8.4     40\n",
              "2015-01-01 11:00:00       428.0     18.4     16.7  ...    4.0    8.1     35\n",
              "2015-01-01 12:00:00       403.0     18.5     17.2  ...    3.5    7.6     34\n",
              "\n",
              "[5 rows x 12 columns]"
            ]
          },
          "metadata": {},
          "execution_count": 3
        }
      ],
      "source": [
        "df = df.between_time('08:00:00','17:00:00')\n",
        "df.head()"
      ]
    },
    {
      "cell_type": "code",
      "execution_count": null,
      "metadata": {
        "id": "BGwzaZk0VDJf"
      },
      "outputs": [],
      "source": [
        "df = df[['SRGLOAVG1H','TAMAX1H', 'TAMIN1H', 'RHMIN1H','RHMAX1H']]"
      ]
    },
    {
      "cell_type": "code",
      "execution_count": null,
      "metadata": {
        "colab": {
          "base_uri": "https://localhost:8080/",
          "height": 238
        },
        "id": "HwvHnDzieGnB",
        "outputId": "6321335b-7b57-4f7c-e2b8-83339350c712"
      },
      "outputs": [
        {
          "output_type": "execute_result",
          "data": {
            "text/html": [
              "\n",
              "  <div id=\"df-9751efb0-ee9d-45b9-8236-ce11c9755b28\">\n",
              "    <div class=\"colab-df-container\">\n",
              "      <div>\n",
              "<style scoped>\n",
              "    .dataframe tbody tr th:only-of-type {\n",
              "        vertical-align: middle;\n",
              "    }\n",
              "\n",
              "    .dataframe tbody tr th {\n",
              "        vertical-align: top;\n",
              "    }\n",
              "\n",
              "    .dataframe thead th {\n",
              "        text-align: right;\n",
              "    }\n",
              "</style>\n",
              "<table border=\"1\" class=\"dataframe\">\n",
              "  <thead>\n",
              "    <tr style=\"text-align: right;\">\n",
              "      <th></th>\n",
              "      <th>SRGLOAVG1H</th>\n",
              "      <th>TAMAX1H</th>\n",
              "      <th>TAMIN1H</th>\n",
              "      <th>RHMIN1H</th>\n",
              "      <th>RHMAX1H</th>\n",
              "    </tr>\n",
              "    <tr>\n",
              "      <th>Local_Time</th>\n",
              "      <th></th>\n",
              "      <th></th>\n",
              "      <th></th>\n",
              "      <th></th>\n",
              "      <th></th>\n",
              "    </tr>\n",
              "  </thead>\n",
              "  <tbody>\n",
              "    <tr>\n",
              "      <th>2015-01-01 08:00:00</th>\n",
              "      <td>107.0</td>\n",
              "      <td>12.2</td>\n",
              "      <td>9.5</td>\n",
              "      <td>89.0</td>\n",
              "      <td>96.0</td>\n",
              "    </tr>\n",
              "    <tr>\n",
              "      <th>2015-01-01 09:00:00</th>\n",
              "      <td>394.0</td>\n",
              "      <td>15.1</td>\n",
              "      <td>12.2</td>\n",
              "      <td>76.0</td>\n",
              "      <td>89.0</td>\n",
              "    </tr>\n",
              "    <tr>\n",
              "      <th>2015-01-01 10:00:00</th>\n",
              "      <td>728.0</td>\n",
              "      <td>18.1</td>\n",
              "      <td>15.1</td>\n",
              "      <td>57.0</td>\n",
              "      <td>79.0</td>\n",
              "    </tr>\n",
              "    <tr>\n",
              "      <th>2015-01-01 11:00:00</th>\n",
              "      <td>428.0</td>\n",
              "      <td>18.4</td>\n",
              "      <td>16.7</td>\n",
              "      <td>58.0</td>\n",
              "      <td>66.0</td>\n",
              "    </tr>\n",
              "    <tr>\n",
              "      <th>2015-01-01 12:00:00</th>\n",
              "      <td>403.0</td>\n",
              "      <td>18.5</td>\n",
              "      <td>17.2</td>\n",
              "      <td>55.0</td>\n",
              "      <td>65.0</td>\n",
              "    </tr>\n",
              "  </tbody>\n",
              "</table>\n",
              "</div>\n",
              "      <button class=\"colab-df-convert\" onclick=\"convertToInteractive('df-9751efb0-ee9d-45b9-8236-ce11c9755b28')\"\n",
              "              title=\"Convert this dataframe to an interactive table.\"\n",
              "              style=\"display:none;\">\n",
              "        \n",
              "  <svg xmlns=\"http://www.w3.org/2000/svg\" height=\"24px\"viewBox=\"0 0 24 24\"\n",
              "       width=\"24px\">\n",
              "    <path d=\"M0 0h24v24H0V0z\" fill=\"none\"/>\n",
              "    <path d=\"M18.56 5.44l.94 2.06.94-2.06 2.06-.94-2.06-.94-.94-2.06-.94 2.06-2.06.94zm-11 1L8.5 8.5l.94-2.06 2.06-.94-2.06-.94L8.5 2.5l-.94 2.06-2.06.94zm10 10l.94 2.06.94-2.06 2.06-.94-2.06-.94-.94-2.06-.94 2.06-2.06.94z\"/><path d=\"M17.41 7.96l-1.37-1.37c-.4-.4-.92-.59-1.43-.59-.52 0-1.04.2-1.43.59L10.3 9.45l-7.72 7.72c-.78.78-.78 2.05 0 2.83L4 21.41c.39.39.9.59 1.41.59.51 0 1.02-.2 1.41-.59l7.78-7.78 2.81-2.81c.8-.78.8-2.07 0-2.86zM5.41 20L4 18.59l7.72-7.72 1.47 1.35L5.41 20z\"/>\n",
              "  </svg>\n",
              "      </button>\n",
              "      \n",
              "  <style>\n",
              "    .colab-df-container {\n",
              "      display:flex;\n",
              "      flex-wrap:wrap;\n",
              "      gap: 12px;\n",
              "    }\n",
              "\n",
              "    .colab-df-convert {\n",
              "      background-color: #E8F0FE;\n",
              "      border: none;\n",
              "      border-radius: 50%;\n",
              "      cursor: pointer;\n",
              "      display: none;\n",
              "      fill: #1967D2;\n",
              "      height: 32px;\n",
              "      padding: 0 0 0 0;\n",
              "      width: 32px;\n",
              "    }\n",
              "\n",
              "    .colab-df-convert:hover {\n",
              "      background-color: #E2EBFA;\n",
              "      box-shadow: 0px 1px 2px rgba(60, 64, 67, 0.3), 0px 1px 3px 1px rgba(60, 64, 67, 0.15);\n",
              "      fill: #174EA6;\n",
              "    }\n",
              "\n",
              "    [theme=dark] .colab-df-convert {\n",
              "      background-color: #3B4455;\n",
              "      fill: #D2E3FC;\n",
              "    }\n",
              "\n",
              "    [theme=dark] .colab-df-convert:hover {\n",
              "      background-color: #434B5C;\n",
              "      box-shadow: 0px 1px 3px 1px rgba(0, 0, 0, 0.15);\n",
              "      filter: drop-shadow(0px 1px 2px rgba(0, 0, 0, 0.3));\n",
              "      fill: #FFFFFF;\n",
              "    }\n",
              "  </style>\n",
              "\n",
              "      <script>\n",
              "        const buttonEl =\n",
              "          document.querySelector('#df-9751efb0-ee9d-45b9-8236-ce11c9755b28 button.colab-df-convert');\n",
              "        buttonEl.style.display =\n",
              "          google.colab.kernel.accessAllowed ? 'block' : 'none';\n",
              "\n",
              "        async function convertToInteractive(key) {\n",
              "          const element = document.querySelector('#df-9751efb0-ee9d-45b9-8236-ce11c9755b28');\n",
              "          const dataTable =\n",
              "            await google.colab.kernel.invokeFunction('convertToInteractive',\n",
              "                                                     [key], {});\n",
              "          if (!dataTable) return;\n",
              "\n",
              "          const docLinkHtml = 'Like what you see? Visit the ' +\n",
              "            '<a target=\"_blank\" href=https://colab.research.google.com/notebooks/data_table.ipynb>data table notebook</a>'\n",
              "            + ' to learn more about interactive tables.';\n",
              "          element.innerHTML = '';\n",
              "          dataTable['output_type'] = 'display_data';\n",
              "          await google.colab.output.renderOutput(dataTable, element);\n",
              "          const docLink = document.createElement('div');\n",
              "          docLink.innerHTML = docLinkHtml;\n",
              "          element.appendChild(docLink);\n",
              "        }\n",
              "      </script>\n",
              "    </div>\n",
              "  </div>\n",
              "  "
            ],
            "text/plain": [
              "                     SRGLOAVG1H  TAMAX1H  TAMIN1H  RHMIN1H  RHMAX1H\n",
              "Local_Time                                                         \n",
              "2015-01-01 08:00:00       107.0     12.2      9.5     89.0     96.0\n",
              "2015-01-01 09:00:00       394.0     15.1     12.2     76.0     89.0\n",
              "2015-01-01 10:00:00       728.0     18.1     15.1     57.0     79.0\n",
              "2015-01-01 11:00:00       428.0     18.4     16.7     58.0     66.0\n",
              "2015-01-01 12:00:00       403.0     18.5     17.2     55.0     65.0"
            ]
          },
          "metadata": {},
          "execution_count": 5
        }
      ],
      "source": [
        "df.head()"
      ]
    },
    {
      "cell_type": "code",
      "execution_count": null,
      "metadata": {
        "id": "Qttpyem73zbd"
      },
      "outputs": [],
      "source": [
        "corr_matrix = df.corr()"
      ]
    },
    {
      "cell_type": "code",
      "execution_count": null,
      "metadata": {
        "colab": {
          "base_uri": "https://localhost:8080/"
        },
        "id": "q6vhwOYv32S1",
        "outputId": "d2a07fb3-728a-4a0d-b554-7ca99ee5156f"
      },
      "outputs": [
        {
          "output_type": "execute_result",
          "data": {
            "text/plain": [
              "SRGLOAVG1H    1.000000\n",
              "TAMAX1H       0.646968\n",
              "TAMIN1H       0.538800\n",
              "RHMAX1H      -0.445617\n",
              "RHMIN1H      -0.583511\n",
              "Name: SRGLOAVG1H, dtype: float64"
            ]
          },
          "metadata": {},
          "execution_count": 7
        }
      ],
      "source": [
        "corr_matrix['SRGLOAVG1H'].sort_values(ascending=False)"
      ]
    },
    {
      "cell_type": "code",
      "execution_count": null,
      "metadata": {
        "id": "xTzWfxL9VQzH"
      },
      "outputs": [],
      "source": [
        "df_test = pd.read_csv('./drive/MyDrive/DatosInvestigacion/final_test_2015.csv', index_col=0, parse_dates=True)\n",
        "df_test = df_test.asfreq('h')"
      ]
    },
    {
      "cell_type": "code",
      "execution_count": null,
      "metadata": {
        "id": "cGY_VaYfVV8r"
      },
      "outputs": [],
      "source": [
        "df_test = df_test[['SRGLOAVG1H','TAMAX1H', 'TAMIN1H', 'RHMIN1H','RHMAX1H']]"
      ]
    },
    {
      "cell_type": "code",
      "execution_count": null,
      "metadata": {
        "id": "9JE_HR0kVXxD"
      },
      "outputs": [],
      "source": [
        "df_test = df_test.between_time('08:00:00','17:00:00')"
      ]
    },
    {
      "cell_type": "code",
      "execution_count": null,
      "metadata": {
        "colab": {
          "base_uri": "https://localhost:8080/",
          "height": 238
        },
        "id": "Ad1v1As5Veib",
        "outputId": "e0b82d9f-8bca-4637-8b48-351158780f43"
      },
      "outputs": [
        {
          "output_type": "execute_result",
          "data": {
            "text/html": [
              "\n",
              "  <div id=\"df-baa60a41-4ac8-4674-9401-46d7f5c906d7\">\n",
              "    <div class=\"colab-df-container\">\n",
              "      <div>\n",
              "<style scoped>\n",
              "    .dataframe tbody tr th:only-of-type {\n",
              "        vertical-align: middle;\n",
              "    }\n",
              "\n",
              "    .dataframe tbody tr th {\n",
              "        vertical-align: top;\n",
              "    }\n",
              "\n",
              "    .dataframe thead th {\n",
              "        text-align: right;\n",
              "    }\n",
              "</style>\n",
              "<table border=\"1\" class=\"dataframe\">\n",
              "  <thead>\n",
              "    <tr style=\"text-align: right;\">\n",
              "      <th></th>\n",
              "      <th>SRGLOAVG1H</th>\n",
              "      <th>TAMAX1H</th>\n",
              "      <th>TAMIN1H</th>\n",
              "      <th>RHMIN1H</th>\n",
              "      <th>RHMAX1H</th>\n",
              "    </tr>\n",
              "    <tr>\n",
              "      <th>Local_Time</th>\n",
              "      <th></th>\n",
              "      <th></th>\n",
              "      <th></th>\n",
              "      <th></th>\n",
              "      <th></th>\n",
              "    </tr>\n",
              "  </thead>\n",
              "  <tbody>\n",
              "    <tr>\n",
              "      <th>2016-08-08 08:00:00</th>\n",
              "      <td>136.0</td>\n",
              "      <td>12.2</td>\n",
              "      <td>10.8</td>\n",
              "      <td>89.0</td>\n",
              "      <td>95.0</td>\n",
              "    </tr>\n",
              "    <tr>\n",
              "      <th>2016-08-08 09:00:00</th>\n",
              "      <td>337.0</td>\n",
              "      <td>15.2</td>\n",
              "      <td>12.3</td>\n",
              "      <td>73.0</td>\n",
              "      <td>90.0</td>\n",
              "    </tr>\n",
              "    <tr>\n",
              "      <th>2016-08-08 10:00:00</th>\n",
              "      <td>303.0</td>\n",
              "      <td>15.1</td>\n",
              "      <td>13.6</td>\n",
              "      <td>70.0</td>\n",
              "      <td>81.0</td>\n",
              "    </tr>\n",
              "    <tr>\n",
              "      <th>2016-08-08 11:00:00</th>\n",
              "      <td>549.0</td>\n",
              "      <td>16.5</td>\n",
              "      <td>13.3</td>\n",
              "      <td>71.0</td>\n",
              "      <td>88.0</td>\n",
              "    </tr>\n",
              "    <tr>\n",
              "      <th>2016-08-08 12:00:00</th>\n",
              "      <td>577.0</td>\n",
              "      <td>17.6</td>\n",
              "      <td>15.8</td>\n",
              "      <td>65.0</td>\n",
              "      <td>77.0</td>\n",
              "    </tr>\n",
              "  </tbody>\n",
              "</table>\n",
              "</div>\n",
              "      <button class=\"colab-df-convert\" onclick=\"convertToInteractive('df-baa60a41-4ac8-4674-9401-46d7f5c906d7')\"\n",
              "              title=\"Convert this dataframe to an interactive table.\"\n",
              "              style=\"display:none;\">\n",
              "        \n",
              "  <svg xmlns=\"http://www.w3.org/2000/svg\" height=\"24px\"viewBox=\"0 0 24 24\"\n",
              "       width=\"24px\">\n",
              "    <path d=\"M0 0h24v24H0V0z\" fill=\"none\"/>\n",
              "    <path d=\"M18.56 5.44l.94 2.06.94-2.06 2.06-.94-2.06-.94-.94-2.06-.94 2.06-2.06.94zm-11 1L8.5 8.5l.94-2.06 2.06-.94-2.06-.94L8.5 2.5l-.94 2.06-2.06.94zm10 10l.94 2.06.94-2.06 2.06-.94-2.06-.94-.94-2.06-.94 2.06-2.06.94z\"/><path d=\"M17.41 7.96l-1.37-1.37c-.4-.4-.92-.59-1.43-.59-.52 0-1.04.2-1.43.59L10.3 9.45l-7.72 7.72c-.78.78-.78 2.05 0 2.83L4 21.41c.39.39.9.59 1.41.59.51 0 1.02-.2 1.41-.59l7.78-7.78 2.81-2.81c.8-.78.8-2.07 0-2.86zM5.41 20L4 18.59l7.72-7.72 1.47 1.35L5.41 20z\"/>\n",
              "  </svg>\n",
              "      </button>\n",
              "      \n",
              "  <style>\n",
              "    .colab-df-container {\n",
              "      display:flex;\n",
              "      flex-wrap:wrap;\n",
              "      gap: 12px;\n",
              "    }\n",
              "\n",
              "    .colab-df-convert {\n",
              "      background-color: #E8F0FE;\n",
              "      border: none;\n",
              "      border-radius: 50%;\n",
              "      cursor: pointer;\n",
              "      display: none;\n",
              "      fill: #1967D2;\n",
              "      height: 32px;\n",
              "      padding: 0 0 0 0;\n",
              "      width: 32px;\n",
              "    }\n",
              "\n",
              "    .colab-df-convert:hover {\n",
              "      background-color: #E2EBFA;\n",
              "      box-shadow: 0px 1px 2px rgba(60, 64, 67, 0.3), 0px 1px 3px 1px rgba(60, 64, 67, 0.15);\n",
              "      fill: #174EA6;\n",
              "    }\n",
              "\n",
              "    [theme=dark] .colab-df-convert {\n",
              "      background-color: #3B4455;\n",
              "      fill: #D2E3FC;\n",
              "    }\n",
              "\n",
              "    [theme=dark] .colab-df-convert:hover {\n",
              "      background-color: #434B5C;\n",
              "      box-shadow: 0px 1px 3px 1px rgba(0, 0, 0, 0.15);\n",
              "      filter: drop-shadow(0px 1px 2px rgba(0, 0, 0, 0.3));\n",
              "      fill: #FFFFFF;\n",
              "    }\n",
              "  </style>\n",
              "\n",
              "      <script>\n",
              "        const buttonEl =\n",
              "          document.querySelector('#df-baa60a41-4ac8-4674-9401-46d7f5c906d7 button.colab-df-convert');\n",
              "        buttonEl.style.display =\n",
              "          google.colab.kernel.accessAllowed ? 'block' : 'none';\n",
              "\n",
              "        async function convertToInteractive(key) {\n",
              "          const element = document.querySelector('#df-baa60a41-4ac8-4674-9401-46d7f5c906d7');\n",
              "          const dataTable =\n",
              "            await google.colab.kernel.invokeFunction('convertToInteractive',\n",
              "                                                     [key], {});\n",
              "          if (!dataTable) return;\n",
              "\n",
              "          const docLinkHtml = 'Like what you see? Visit the ' +\n",
              "            '<a target=\"_blank\" href=https://colab.research.google.com/notebooks/data_table.ipynb>data table notebook</a>'\n",
              "            + ' to learn more about interactive tables.';\n",
              "          element.innerHTML = '';\n",
              "          dataTable['output_type'] = 'display_data';\n",
              "          await google.colab.output.renderOutput(dataTable, element);\n",
              "          const docLink = document.createElement('div');\n",
              "          docLink.innerHTML = docLinkHtml;\n",
              "          element.appendChild(docLink);\n",
              "        }\n",
              "      </script>\n",
              "    </div>\n",
              "  </div>\n",
              "  "
            ],
            "text/plain": [
              "                     SRGLOAVG1H  TAMAX1H  TAMIN1H  RHMIN1H  RHMAX1H\n",
              "Local_Time                                                         \n",
              "2016-08-08 08:00:00       136.0     12.2     10.8     89.0     95.0\n",
              "2016-08-08 09:00:00       337.0     15.2     12.3     73.0     90.0\n",
              "2016-08-08 10:00:00       303.0     15.1     13.6     70.0     81.0\n",
              "2016-08-08 11:00:00       549.0     16.5     13.3     71.0     88.0\n",
              "2016-08-08 12:00:00       577.0     17.6     15.8     65.0     77.0"
            ]
          },
          "metadata": {},
          "execution_count": 11
        }
      ],
      "source": [
        "df_test.head()"
      ]
    },
    {
      "cell_type": "markdown",
      "metadata": {
        "id": "OZM6JlxtVlTU"
      },
      "source": [
        "## Variables exógenas como entrada"
      ]
    },
    {
      "cell_type": "code",
      "execution_count": null,
      "metadata": {
        "id": "2cUNRcf_Vfvs"
      },
      "outputs": [],
      "source": [
        "scaler = MinMaxScaler()"
      ]
    },
    {
      "cell_type": "code",
      "execution_count": null,
      "metadata": {
        "colab": {
          "base_uri": "https://localhost:8080/"
        },
        "id": "hGOKGIpWV36j",
        "outputId": "4d230350-a833-40b4-d112-a45543cd4984"
      },
      "outputs": [
        {
          "output_type": "execute_result",
          "data": {
            "text/plain": [
              "MinMaxScaler()"
            ]
          },
          "metadata": {},
          "execution_count": 13
        }
      ],
      "source": [
        "scaler.fit(df)"
      ]
    },
    {
      "cell_type": "code",
      "execution_count": null,
      "metadata": {
        "id": "AitemFDvV6xX"
      },
      "outputs": [],
      "source": [
        "scaled_train = scaler.transform(df)\n",
        "scaled_test = scaler.transform(df_test)"
      ]
    },
    {
      "cell_type": "code",
      "execution_count": null,
      "metadata": {
        "id": "Kua86tlkWBE_"
      },
      "outputs": [],
      "source": [
        "from keras.preprocessing.sequence import TimeseriesGenerator"
      ]
    },
    {
      "cell_type": "code",
      "execution_count": null,
      "metadata": {
        "id": "BzwMc-6vWGhq"
      },
      "outputs": [],
      "source": [
        "n_input = 22 # horas hacia atrás\n",
        "n_output = 1 # horas predichas\n",
        "n_features = 3 # variables de entrada\n",
        "generator = TimeseriesGenerator(scaled_train[:,1:], scaled_train[:,0], length=n_input, batch_size=n_output)"
      ]
    },
    {
      "cell_type": "code",
      "execution_count": null,
      "metadata": {
        "id": "fA1wWo_IW_uO"
      },
      "outputs": [],
      "source": [
        "X,y = generator[0]"
      ]
    },
    {
      "cell_type": "code",
      "execution_count": null,
      "metadata": {
        "colab": {
          "base_uri": "https://localhost:8080/"
        },
        "id": "A3uK4oPvFDtN",
        "outputId": "2305c33c-10b3-491a-9c52-037a8aae4f6c"
      },
      "outputs": [
        {
          "output_type": "execute_result",
          "data": {
            "text/plain": [
              "array([[[0.38974359, 0.41809291, 0.86419753, 0.94285714],\n",
              "        [0.53846154, 0.55012225, 0.7037037 , 0.84285714],\n",
              "        [0.69230769, 0.69193154, 0.4691358 , 0.7       ],\n",
              "        [0.70769231, 0.77017115, 0.48148148, 0.51428571],\n",
              "        [0.71282051, 0.79462103, 0.44444444, 0.5       ],\n",
              "        [0.79487179, 0.84352078, 0.34567901, 0.44285714],\n",
              "        [0.77435897, 0.85330073, 0.37037037, 0.38571429],\n",
              "        [0.82564103, 0.85819071, 0.35802469, 0.4       ],\n",
              "        [0.82051282, 0.71149144, 0.38271605, 0.81428571],\n",
              "        [0.55897436, 0.63814181, 0.82716049, 0.92857143],\n",
              "        [0.43589744, 0.49144254, 0.75308642, 0.85714286],\n",
              "        [0.47179487, 0.59413203, 0.64197531, 0.74285714],\n",
              "        [0.54358974, 0.62836186, 0.55555556, 0.61428571],\n",
              "        [0.61538462, 0.68704156, 0.41975309, 0.51428571],\n",
              "        [0.69230769, 0.75550122, 0.38271605, 0.38571429],\n",
              "        [0.67179487, 0.74572127, 0.41975309, 0.44285714],\n",
              "        [0.63076923, 0.74572127, 0.4691358 , 0.47142857],\n",
              "        [0.62564103, 0.72127139, 0.49382716, 0.48571429],\n",
              "        [0.64615385, 0.73105134, 0.48148148, 0.48571429],\n",
              "        [0.68205128, 0.75550122, 0.44444444, 0.45714286],\n",
              "        [0.46153846, 0.53056235, 0.67901235, 0.78571429],\n",
              "        [0.51794872, 0.57457213, 0.59259259, 0.67142857]]])"
            ]
          },
          "metadata": {},
          "execution_count": 18
        }
      ],
      "source": [
        "X"
      ]
    },
    {
      "cell_type": "code",
      "execution_count": null,
      "metadata": {
        "colab": {
          "base_uri": "https://localhost:8080/"
        },
        "id": "KLnsRNsyFFE-",
        "outputId": "46b642e7-e2d9-4dcb-c6cd-9afea21eab62"
      },
      "outputs": [
        {
          "output_type": "execute_result",
          "data": {
            "text/plain": [
              "array([0.24357912])"
            ]
          },
          "metadata": {},
          "execution_count": 19
        }
      ],
      "source": [
        "y"
      ]
    },
    {
      "cell_type": "code",
      "execution_count": null,
      "metadata": {
        "colab": {
          "base_uri": "https://localhost:8080/"
        },
        "id": "4a5YXCB7ewev",
        "outputId": "a2833b47-3f5e-43b9-d883-50aa18ea4194"
      },
      "outputs": [
        {
          "output_type": "execute_result",
          "data": {
            "text/plain": [
              "(1, 22, 4)"
            ]
          },
          "metadata": {},
          "execution_count": 20
        }
      ],
      "source": [
        "X.shape"
      ]
    },
    {
      "cell_type": "code",
      "execution_count": null,
      "metadata": {
        "id": "sDPNVLKmf6ad"
      },
      "outputs": [],
      "source": [
        "X_train = []"
      ]
    },
    {
      "cell_type": "code",
      "execution_count": null,
      "metadata": {
        "id": "XGv_PSUfX6KG"
      },
      "outputs": [],
      "source": [
        "y_train = []"
      ]
    },
    {
      "cell_type": "code",
      "execution_count": null,
      "metadata": {
        "colab": {
          "base_uri": "https://localhost:8080/"
        },
        "id": "B8yiobP6gJm2",
        "outputId": "b52c168e-47ef-4258-c1b7-8a53f642d9c1"
      },
      "outputs": [
        {
          "data": {
            "text/plain": [
              "array([0.31837074, 0.48212801, 0.24438903, 0.10141313, 0.06899418,\n",
              "       0.08645054])"
            ]
          },
          "execution_count": 79,
          "metadata": {},
          "output_type": "execute_result"
        }
      ],
      "source": [
        "generator[0][1]"
      ]
    },
    {
      "cell_type": "code",
      "execution_count": null,
      "metadata": {
        "id": "7J9UMlSUf0re"
      },
      "outputs": [],
      "source": [
        "for batch in generator:\n",
        "  if(len(batch[1])==6):\n",
        "    X_train.append(batch[0][0])\n",
        "    y_train.append(batch[1])\n"
      ]
    },
    {
      "cell_type": "markdown",
      "metadata": {
        "id": "p3ZbhdFzghRe"
      },
      "source": [
        "Se encuentran los datos de las variables seis horas antes y la radiación solar de las seis horas siguientes."
      ]
    },
    {
      "cell_type": "code",
      "execution_count": null,
      "metadata": {
        "id": "7bsqksgxgfVE"
      },
      "outputs": [],
      "source": [
        "X_train = np.array(X_train)"
      ]
    },
    {
      "cell_type": "code",
      "execution_count": null,
      "metadata": {
        "colab": {
          "base_uri": "https://localhost:8080/"
        },
        "id": "8nQ2G5rKYtSh",
        "outputId": "dfb388ba-8fb7-4672-80d1-190d63f3f7c0"
      },
      "outputs": [
        {
          "data": {
            "text/plain": [
              "(485, 6, 3)"
            ]
          },
          "execution_count": 82,
          "metadata": {},
          "output_type": "execute_result"
        }
      ],
      "source": [
        "X_train.shape"
      ]
    },
    {
      "cell_type": "code",
      "execution_count": null,
      "metadata": {
        "id": "Aj32ufUEYEDm"
      },
      "outputs": [],
      "source": [
        "y_train = np.array(y_train)"
      ]
    },
    {
      "cell_type": "code",
      "execution_count": null,
      "metadata": {
        "colab": {
          "base_uri": "https://localhost:8080/"
        },
        "id": "v99OJI61Y1M9",
        "outputId": "31f727ee-c82d-4dbb-c8b1-40a52efd021f"
      },
      "outputs": [
        {
          "data": {
            "text/plain": [
              "(485, 6)"
            ]
          },
          "execution_count": 84,
          "metadata": {},
          "output_type": "execute_result"
        }
      ],
      "source": [
        "y_train.shape"
      ]
    },
    {
      "cell_type": "markdown",
      "metadata": {
        "id": "PU04ljvHYrti"
      },
      "source": [
        "## Creación del modelo"
      ]
    },
    {
      "cell_type": "code",
      "execution_count": null,
      "metadata": {
        "id": "hTX7asghXIOq"
      },
      "outputs": [],
      "source": [
        "# define model\n",
        "model = Sequential()\n",
        "model.add(LSTM(75, activation='relu', input_shape=(n_input, n_features)))\n",
        "model.add(Dense(n_output))\n",
        "model.compile(optimizer='adam', loss='mse')"
      ]
    },
    {
      "cell_type": "code",
      "execution_count": null,
      "metadata": {
        "colab": {
          "base_uri": "https://localhost:8080/"
        },
        "id": "gr9vP93qY8Tt",
        "outputId": "b9374aeb-8093-4e5f-d4d2-b6b2b4188c7e"
      },
      "outputs": [
        {
          "name": "stdout",
          "output_type": "stream",
          "text": [
            "Model: \"sequential\"\n",
            "_________________________________________________________________\n",
            " Layer (type)                Output Shape              Param #   \n",
            "=================================================================\n",
            " lstm (LSTM)                 (None, 75)                23700     \n",
            "                                                                 \n",
            " dense (Dense)               (None, 1)                 76        \n",
            "                                                                 \n",
            "=================================================================\n",
            "Total params: 23,776\n",
            "Trainable params: 23,776\n",
            "Non-trainable params: 0\n",
            "_________________________________________________________________\n"
          ]
        }
      ],
      "source": [
        "model.summary()"
      ]
    },
    {
      "cell_type": "code",
      "execution_count": null,
      "metadata": {
        "colab": {
          "base_uri": "https://localhost:8080/"
        },
        "id": "jSOhX82PW_WJ",
        "outputId": "95dffe45-2dfd-4b71-bc66-3fa8a18e5093"
      },
      "outputs": [
        {
          "name": "stdout",
          "output_type": "stream",
          "text": [
            "Epoch 1/7\n",
            "5828/5828 [==============================] - 55s 9ms/step - loss: 0.0284\n",
            "Epoch 2/7\n",
            "5828/5828 [==============================] - 53s 9ms/step - loss: 0.0213\n",
            "Epoch 3/7\n",
            "5828/5828 [==============================] - 51s 9ms/step - loss: 0.0200\n",
            "Epoch 4/7\n",
            "5828/5828 [==============================] - 50s 9ms/step - loss: 0.0191\n",
            "Epoch 5/7\n",
            "5828/5828 [==============================] - 49s 8ms/step - loss: 0.0186\n",
            "Epoch 6/7\n",
            "5828/5828 [==============================] - 49s 8ms/step - loss: 0.0184\n",
            "Epoch 7/7\n",
            "5828/5828 [==============================] - 49s 8ms/step - loss: 0.0182\n"
          ]
        },
        {
          "data": {
            "text/plain": [
              "<keras.callbacks.History at 0x7f40b2f6ebd0>"
            ]
          },
          "execution_count": 39,
          "metadata": {},
          "output_type": "execute_result"
        }
      ],
      "source": [
        "# fit model\n",
        "model.fit(generator,epochs=7,verbose=True,batch_size=100)"
      ]
    },
    {
      "cell_type": "code",
      "execution_count": null,
      "metadata": {
        "colab": {
          "base_uri": "https://localhost:8080/"
        },
        "id": "4KOJfhrVk2RX",
        "outputId": "76637f40-afa2-4625-8b20-2410c90ad250"
      },
      "outputs": [
        {
          "name": "stdout",
          "output_type": "stream",
          "text": [
            "5828/5828 [==============================] - 48s 8ms/step - loss: 0.0179\n"
          ]
        },
        {
          "data": {
            "text/plain": [
              "<keras.callbacks.History at 0x7f40a9f8bb50>"
            ]
          },
          "execution_count": 77,
          "metadata": {},
          "output_type": "execute_result"
        }
      ],
      "source": [
        "model.fit(generator,epochs=1,verbose=True,batch_size=100)"
      ]
    },
    {
      "cell_type": "code",
      "execution_count": null,
      "metadata": {
        "colab": {
          "base_uri": "https://localhost:8080/",
          "height": 282
        },
        "id": "il-AzC3tXD0W",
        "outputId": "3a7e8805-af17-4cc8-8245-d3d02b767e63"
      },
      "outputs": [
        {
          "data": {
            "text/plain": [
              "[<matplotlib.lines.Line2D at 0x7f40aedcddd0>]"
            ]
          },
          "execution_count": 40,
          "metadata": {},
          "output_type": "execute_result"
        },
        {
          "data": {
            "image/png": "[encoded data removed]",
            "text/plain": [
              "<Figure size 432x288 with 1 Axes>"
            ]
          },
          "metadata": {},
          "output_type": "display_data"
        }
      ],
      "source": [
        "loss_per_epoch = model.history.history['loss']\n",
        "plt.plot(range(len(loss_per_epoch)),loss_per_epoch)"
      ]
    },
    {
      "cell_type": "code",
      "execution_count": null,
      "metadata": {
        "colab": {
          "base_uri": "https://localhost:8080/",
          "height": 166
        },
        "id": "lEe_YutwXH32",
        "outputId": "9800ab17-aadc-460a-c647-6def19a9efe8"
      },
      "outputs": [
        {
          "ename": "IndexError",
          "evalue": "ignored",
          "output_type": "error",
          "traceback": [
            "\u001b[0;31m---------------------------------------------------------------------------\u001b[0m",
            "\u001b[0;31mIndexError\u001b[0m                                Traceback (most recent call last)",
            "\u001b[0;32m<ipython-input-41-3963c2e2eb2a>\u001b[0m in \u001b[0;36m<module>\u001b[0;34m()\u001b[0m\n\u001b[0;32m----> 1\u001b[0;31m \u001b[0mX_train\u001b[0m\u001b[0;34m[\u001b[0m\u001b[0;36m0\u001b[0m\u001b[0;34m]\u001b[0m\u001b[0;34m.\u001b[0m\u001b[0mshape\u001b[0m\u001b[0;34m\u001b[0m\u001b[0;34m\u001b[0m\u001b[0m\n\u001b[0m",
            "\u001b[0;31mIndexError\u001b[0m: list index out of range"
          ]
        }
      ],
      "source": [
        "X_train[0].shape"
      ]
    },
    {
      "cell_type": "markdown",
      "metadata": {
        "id": "I0THV7FHZ_Xy"
      },
      "source": [
        "Datos de las últimas seis horas de entrenamiento"
      ]
    },
    {
      "cell_type": "code",
      "execution_count": null,
      "metadata": {
        "id": "bgyIyfQdZtPt"
      },
      "outputs": [],
      "source": [
        "eval = scaled_train[-n_input:,1:].reshape(1,n_input,3)"
      ]
    },
    {
      "cell_type": "code",
      "execution_count": null,
      "metadata": {
        "id": "lwOBzWKyZ1Yw"
      },
      "outputs": [],
      "source": [
        "predictions = model.predict(eval)[0]"
      ]
    },
    {
      "cell_type": "code",
      "execution_count": null,
      "metadata": {
        "colab": {
          "base_uri": "https://localhost:8080/"
        },
        "id": "dVckod3MbDe0",
        "outputId": "bf4ea8eb-3342-4866-cffd-624d04ac0770"
      },
      "outputs": [
        {
          "data": {
            "text/plain": [
              "array([0.06453495], dtype=float32)"
            ]
          },
          "execution_count": 44,
          "metadata": {},
          "output_type": "execute_result"
        }
      ],
      "source": [
        "predictions"
      ]
    },
    {
      "cell_type": "code",
      "execution_count": null,
      "metadata": {
        "colab": {
          "base_uri": "https://localhost:8080/"
        },
        "id": "skKV4JzmaOlQ",
        "outputId": "def5bb1a-93bb-4140-df26-9fba0c30d5cc"
      },
      "outputs": [
        {
          "data": {
            "text/plain": [
              "0.10439105219552608"
            ]
          },
          "execution_count": 45,
          "metadata": {},
          "output_type": "execute_result"
        }
      ],
      "source": [
        "scaled_test[0][0]"
      ]
    },
    {
      "cell_type": "code",
      "execution_count": null,
      "metadata": {
        "id": "OgquBsd8bncR"
      },
      "outputs": [],
      "source": [
        "# create empty table \n",
        "test_predictions =  np.zeros(shape=(len(predictions), 1+n_features) )"
      ]
    },
    {
      "cell_type": "code",
      "execution_count": null,
      "metadata": {
        "colab": {
          "base_uri": "https://localhost:8080/"
        },
        "id": "-XvXI_WDb2gA",
        "outputId": "d735cada-f628-41d5-9cfb-5458a08816e8"
      },
      "outputs": [
        {
          "data": {
            "text/plain": [
              "(1, 4)"
            ]
          },
          "execution_count": 47,
          "metadata": {},
          "output_type": "execute_result"
        }
      ],
      "source": [
        "test_predictions.shape"
      ]
    },
    {
      "cell_type": "code",
      "execution_count": null,
      "metadata": {
        "id": "J9cphDz0b1xk"
      },
      "outputs": [],
      "source": [
        "test_predictions[:,0] = predictions"
      ]
    },
    {
      "cell_type": "code",
      "execution_count": null,
      "metadata": {
        "colab": {
          "base_uri": "https://localhost:8080/"
        },
        "id": "GnLUU90xb70w",
        "outputId": "f683e46b-3ada-4e68-c2e0-64762af27fe8"
      },
      "outputs": [
        {
          "data": {
            "text/plain": [
              "array([0.06453495, 0.        , 0.        , 0.        ])"
            ]
          },
          "execution_count": 49,
          "metadata": {},
          "output_type": "execute_result"
        }
      ],
      "source": [
        "test_predictions[0]"
      ]
    },
    {
      "cell_type": "code",
      "execution_count": null,
      "metadata": {
        "id": "fuh39TU4atl1"
      },
      "outputs": [],
      "source": [
        "true_predictions = scaler.inverse_transform(test_predictions)"
      ]
    },
    {
      "cell_type": "code",
      "execution_count": null,
      "metadata": {
        "colab": {
          "base_uri": "https://localhost:8080/"
        },
        "id": "9OM8IlkqbGzw",
        "outputId": "42112c9f-4e7b-4273-938f-d33810364fe3"
      },
      "outputs": [
        {
          "data": {
            "text/plain": [
              "array([87.89369036])"
            ]
          },
          "execution_count": 51,
          "metadata": {},
          "output_type": "execute_result"
        }
      ],
      "source": [
        "true_predictions[:,0]"
      ]
    },
    {
      "cell_type": "code",
      "execution_count": null,
      "metadata": {
        "colab": {
          "base_uri": "https://localhost:8080/"
        },
        "id": "KvlfuH8lcCrc",
        "outputId": "304fd6be-8b70-4c03-dde4-347b9f062879"
      },
      "outputs": [
        {
          "data": {
            "text/plain": [
              "136.0"
            ]
          },
          "execution_count": 52,
          "metadata": {},
          "output_type": "execute_result"
        }
      ],
      "source": [
        "df_test['SRGLOAVG1H'][0]"
      ]
    },
    {
      "cell_type": "markdown",
      "metadata": {
        "id": "kz_EKdT7hjmp"
      },
      "source": [
        "### Evaluar el modelo"
      ]
    },
    {
      "cell_type": "code",
      "execution_count": null,
      "metadata": {
        "colab": {
          "base_uri": "https://localhost:8080/"
        },
        "id": "T7Engl2WiS6E",
        "outputId": "5c690c3c-bd37-4a7a-e83b-8a5d18c6ceaa"
      },
      "outputs": [
        {
          "data": {
            "text/plain": [
              "array([0.10439105, 0.38974359, 0.48166259, 0.86419753])"
            ]
          },
          "execution_count": 59,
          "metadata": {},
          "output_type": "execute_result"
        }
      ],
      "source": [
        "scaled_test[0]"
      ]
    },
    {
      "cell_type": "code",
      "execution_count": null,
      "metadata": {
        "colab": {
          "base_uri": "https://localhost:8080/"
        },
        "id": "_mQPSfr0iK1A",
        "outputId": "dbef43f8-d65a-474d-d455-295ff7ff1370"
      },
      "outputs": [
        {
          "data": {
            "text/plain": [
              "array([[[0.38974359, 0.48166259, 0.86419753],\n",
              "        [0.54358974, 0.55501222, 0.66666667],\n",
              "        [0.53846154, 0.61858191, 0.62962963],\n",
              "        [0.61025641, 0.60391198, 0.64197531],\n",
              "        [0.66666667, 0.72616137, 0.56790123],\n",
              "        [0.61538462, 0.69193154, 0.56790123],\n",
              "        [0.61538462, 0.68215159, 0.58024691],\n",
              "        [0.7025641 , 0.73594132, 0.4691358 ],\n",
              "        [0.68205128, 0.69193154, 0.49382716],\n",
              "        [0.55384615, 0.65770171, 0.60493827],\n",
              "        [0.38461538, 0.40342298, 0.80246914],\n",
              "        [0.49230769, 0.54523227, 0.7037037 ],\n",
              "        [0.54358974, 0.64792176, 0.59259259],\n",
              "        [0.6       , 0.67726161, 0.56790123],\n",
              "        [0.62051282, 0.72127139, 0.48148148],\n",
              "        [0.63589744, 0.73105134, 0.4691358 ],\n",
              "        [0.73333333, 0.74572127, 0.41975309],\n",
              "        [0.75384615, 0.78484108, 0.40740741],\n",
              "        [0.65128205, 0.75061125, 0.51851852],\n",
              "        [0.65128205, 0.70171149, 0.54320988],\n",
              "        [0.38974359, 0.47188264, 0.79012346],\n",
              "        [0.54358974, 0.55012225, 0.61728395]]])"
            ]
          },
          "execution_count": 57,
          "metadata": {},
          "output_type": "execute_result"
        }
      ],
      "source": [
        "scaled_test[0:n_input,1:].reshape(1,n_input,3)"
      ]
    },
    {
      "cell_type": "code",
      "execution_count": null,
      "metadata": {
        "id": "CprUd1yAh5iE"
      },
      "outputs": [],
      "source": [
        "predictions = []"
      ]
    },
    {
      "cell_type": "code",
      "execution_count": null,
      "metadata": {
        "id": "N4a6J3fihk53"
      },
      "outputs": [],
      "source": [
        "for j in range(n_input,len(df_test)):\n",
        "  model_input = scaled_test[j-n_input:j,1:]\n",
        "  model_input = model_input.reshape((1, n_input, n_features))\n",
        "  predictions.append(model.predict(model_input)[0])"
      ]
    },
    {
      "cell_type": "code",
      "execution_count": null,
      "metadata": {
        "id": "DCIcGSfGjq3W"
      },
      "outputs": [],
      "source": [
        "predictions = np.ndarray.flatten(np.array(predictions))  \n",
        "test_predictions =  np.zeros(shape=(len(predictions), 1+n_features))\n",
        "test_predictions[:,0] = predictions"
      ]
    },
    {
      "cell_type": "code",
      "execution_count": null,
      "metadata": {
        "colab": {
          "base_uri": "https://localhost:8080/"
        },
        "id": "W77y9fSaj2AT",
        "outputId": "fba07852-be88-4476-a63d-086d64d91bee"
      },
      "outputs": [
        {
          "data": {
            "text/plain": [
              "array([[0.40457928, 0.        , 0.        , 0.        ],\n",
              "       [0.40092912, 0.        , 0.        , 0.        ],\n",
              "       [0.47423574, 0.        , 0.        , 0.        ],\n",
              "       [0.47680867, 0.        , 0.        , 0.        ],\n",
              "       [0.43164098, 0.        , 0.        , 0.        ]])"
            ]
          },
          "execution_count": 83,
          "metadata": {},
          "output_type": "execute_result"
        }
      ],
      "source": [
        "test_predictions[:5]"
      ]
    },
    {
      "cell_type": "code",
      "execution_count": null,
      "metadata": {
        "id": "I-s91q9WjdXJ"
      },
      "outputs": [],
      "source": [
        "true_predictions = scaler.inverse_transform(test_predictions)\n",
        "true_values = np.ndarray.flatten(df_test.iloc[n_input:]['SRGLOAVG1H'].values)"
      ]
    },
    {
      "cell_type": "code",
      "execution_count": null,
      "metadata": {
        "colab": {
          "base_uri": "https://localhost:8080/"
        },
        "id": "L1vXm4DPj6wX",
        "outputId": "3b415634-8718-47b9-9d9c-4049c765bebc"
      },
      "outputs": [
        {
          "data": {
            "text/plain": [
              "array([[498.32719314,   4.6       ,   0.95      ,  19.        ],\n",
              "       [493.92145166,   4.6       ,   0.95      ,  19.        ],\n",
              "       [582.40254214,   4.6       ,   0.95      ,  19.        ],\n",
              "       ...,\n",
              "       [433.32352236,   4.6       ,   0.95      ,  19.        ],\n",
              "       [159.85190135,   4.6       ,   0.95      ,  19.        ],\n",
              "       [ 61.60402186,   4.6       ,   0.95      ,  19.        ]])"
            ]
          },
          "execution_count": 85,
          "metadata": {},
          "output_type": "execute_result"
        }
      ],
      "source": [
        "true_predictions"
      ]
    },
    {
      "cell_type": "code",
      "execution_count": null,
      "metadata": {
        "id": "j7ZIqcrCkG_R"
      },
      "outputs": [],
      "source": [
        "rsg_predictions = true_predictions[:,0]"
      ]
    },
    {
      "cell_type": "code",
      "execution_count": null,
      "metadata": {
        "id": "hUkoDP3-j5eI"
      },
      "outputs": [],
      "source": [
        "errorMSE = mean_squared_error(true_values,rsg_predictions)\n",
        "errorMAE = mean_absolute_error(true_values,rsg_predictions)"
      ]
    },
    {
      "cell_type": "code",
      "execution_count": null,
      "metadata": {
        "id": "2w65Rhw1kfup"
      },
      "outputs": [],
      "source": [
        "errorRMSE = np.sqrt(errorMSE)"
      ]
    },
    {
      "cell_type": "code",
      "execution_count": null,
      "metadata": {
        "colab": {
          "base_uri": "https://localhost:8080/"
        },
        "id": "OGB4xswxknO5",
        "outputId": "dfe67fc4-b7dd-4e01-af51-4170519efe42"
      },
      "outputs": [
        {
          "data": {
            "text/plain": [
              "193.05997430680222"
            ]
          },
          "execution_count": 89,
          "metadata": {},
          "output_type": "execute_result"
        }
      ],
      "source": [
        "errorRMSE"
      ]
    },
    {
      "cell_type": "code",
      "execution_count": null,
      "metadata": {
        "colab": {
          "base_uri": "https://localhost:8080/"
        },
        "id": "ZbHUwnQ0kowM",
        "outputId": "18f8a796-76eb-45be-ce77-c47818d5b55e"
      },
      "outputs": [
        {
          "data": {
            "text/plain": [
              "150.9648603735147"
            ]
          },
          "execution_count": 90,
          "metadata": {},
          "output_type": "execute_result"
        }
      ],
      "source": [
        "errorMAE"
      ]
    },
    {
      "cell_type": "markdown",
      "metadata": {
        "id": "RMMVlfFKIJK7"
      },
      "source": [
        "## Variables exógenas y radiación solar como entrada"
      ]
    },
    {
      "cell_type": "code",
      "execution_count": null,
      "metadata": {
        "id": "4fOIWCIqcKB4"
      },
      "outputs": [],
      "source": [
        "n_input = 22 # horas hacia atrás, features\n",
        "n_output = 1 # horas predichas\n",
        "n_features = 3 # variables de entrada\n",
        "generator = TimeseriesGenerator(scaled_train, scaled_train[:,0], length=n_input, batch_size=n_output)"
      ]
    },
    {
      "cell_type": "code",
      "execution_count": null,
      "metadata": {
        "id": "zWDHx6G8IdgC"
      },
      "outputs": [],
      "source": [
        "X_train = []\n",
        "y_train = []"
      ]
    },
    {
      "cell_type": "code",
      "execution_count": null,
      "metadata": {
        "id": "Se2_qSA1Ipwz"
      },
      "outputs": [],
      "source": [
        "for batch in generator:\n",
        "  if(len(batch[1])==n_output):\n",
        "    X_train.append(batch[0][0])\n",
        "    y_train.append(batch[1])"
      ]
    },
    {
      "cell_type": "code",
      "execution_count": null,
      "metadata": {
        "colab": {
          "base_uri": "https://localhost:8080/"
        },
        "id": "VxZnZ-pRI3qU",
        "outputId": "fed963c4-ce96-467a-d33d-00a0501101c2"
      },
      "outputs": [
        {
          "data": {
            "text/plain": [
              "array([0.07730673, 0.40860215, 0.26966292, 0.94285714])"
            ]
          },
          "execution_count": 117,
          "metadata": {},
          "output_type": "execute_result"
        }
      ],
      "source": [
        "scaled_train[0]"
      ]
    },
    {
      "cell_type": "code",
      "execution_count": null,
      "metadata": {
        "colab": {
          "base_uri": "https://localhost:8080/"
        },
        "id": "_i8lZ3B_IwZf",
        "outputId": "fa009525-8561-4915-9b0b-95dd19836f59"
      },
      "outputs": [
        {
          "data": {
            "text/plain": [
              "array([[0.07730673, 0.40860215, 0.26966292, 0.94285714],\n",
              "       [0.31587697, 0.56451613, 0.35955056, 0.84285714],\n",
              "       [0.59351621, 0.72580645, 0.48314607, 0.7       ],\n",
              "       [0.34413965, 0.74193548, 0.43820225, 0.51428571],\n",
              "       [0.32335827, 0.74731183, 0.38202247, 0.5       ],\n",
              "       [0.57772236, 0.83333333, 0.30337079, 0.44285714]])"
            ]
          },
          "execution_count": 116,
          "metadata": {},
          "output_type": "execute_result"
        }
      ],
      "source": [
        "X_train[0]"
      ]
    },
    {
      "cell_type": "code",
      "execution_count": null,
      "metadata": {
        "colab": {
          "base_uri": "https://localhost:8080/"
        },
        "id": "ZesAXMSdIytD",
        "outputId": "6466669d-2542-4ce9-b8f6-82d44f452c77"
      },
      "outputs": [
        {
          "data": {
            "text/plain": [
              "array([0.31837074, 0.48212801, 0.24438903, 0.10141313, 0.06899418,\n",
              "       0.08645054])"
            ]
          },
          "execution_count": 121,
          "metadata": {},
          "output_type": "execute_result"
        }
      ],
      "source": [
        "scaled_train[6:12,0]"
      ]
    },
    {
      "cell_type": "code",
      "execution_count": null,
      "metadata": {
        "colab": {
          "base_uri": "https://localhost:8080/"
        },
        "id": "bQEPnABQI7iz",
        "outputId": "bb28e5c1-5d13-4818-b816-a535ba7b97e6"
      },
      "outputs": [
        {
          "data": {
            "text/plain": [
              "array([0.31837074, 0.48212801, 0.24438903, 0.10141313, 0.06899418,\n",
              "       0.08645054])"
            ]
          },
          "execution_count": 119,
          "metadata": {},
          "output_type": "execute_result"
        }
      ],
      "source": [
        "y_train[0]"
      ]
    },
    {
      "cell_type": "code",
      "execution_count": null,
      "metadata": {
        "id": "mWovlorZJYPs"
      },
      "outputs": [],
      "source": [
        "X_train = np.array(X_train)\n",
        "y_train = np.array(y_train)"
      ]
    },
    {
      "cell_type": "code",
      "execution_count": null,
      "metadata": {
        "id": "j8kQdQp0I8rO"
      },
      "outputs": [],
      "source": [
        "# define model\n",
        "model = Sequential()\n",
        "model.add(LSTM(75, activation='relu', input_shape=(n_input, n_features+1)))\n",
        "model.add(Dense(n_output))\n",
        "model.compile(optimizer='adam', loss='mse')"
      ]
    },
    {
      "cell_type": "code",
      "execution_count": null,
      "metadata": {
        "colab": {
          "base_uri": "https://localhost:8080/"
        },
        "id": "tESr4t2-JLJb",
        "outputId": "e4a0570c-8343-43a4-e60c-59e498862dc9"
      },
      "outputs": [
        {
          "name": "stdout",
          "output_type": "stream",
          "text": [
            "Model: \"sequential_1\"\n",
            "_________________________________________________________________\n",
            " Layer (type)                Output Shape              Param #   \n",
            "=================================================================\n",
            " lstm_1 (LSTM)               (None, 75)                24000     \n",
            "                                                                 \n",
            " dense_1 (Dense)             (None, 1)                 76        \n",
            "                                                                 \n",
            "=================================================================\n",
            "Total params: 24,076\n",
            "Trainable params: 24,076\n",
            "Non-trainable params: 0\n",
            "_________________________________________________________________\n"
          ]
        }
      ],
      "source": [
        "model.summary()"
      ]
    },
    {
      "cell_type": "code",
      "execution_count": null,
      "metadata": {
        "colab": {
          "base_uri": "https://localhost:8080/"
        },
        "id": "MSHOCKpeJHgk",
        "outputId": "fe339485-c804-4943-b075-1bf18cb47e9e"
      },
      "outputs": [
        {
          "name": "stdout",
          "output_type": "stream",
          "text": [
            "Epoch 1/7\n",
            "5828/5828 [==============================] - 49s 8ms/step - loss: 0.0197\n",
            "Epoch 2/7\n",
            "5828/5828 [==============================] - 48s 8ms/step - loss: 0.0161\n",
            "Epoch 3/7\n",
            "5828/5828 [==============================] - 48s 8ms/step - loss: 0.0155\n",
            "Epoch 4/7\n",
            "5828/5828 [==============================] - 47s 8ms/step - loss: 0.0152\n",
            "Epoch 5/7\n",
            "5828/5828 [==============================] - 48s 8ms/step - loss: 0.0149\n",
            "Epoch 6/7\n",
            "5828/5828 [==============================] - 48s 8ms/step - loss: 0.0148\n",
            "Epoch 7/7\n",
            "5828/5828 [==============================] - 48s 8ms/step - loss: 0.0147\n"
          ]
        },
        {
          "data": {
            "text/plain": [
              "<keras.callbacks.History at 0x7f40aacce710>"
            ]
          },
          "execution_count": 94,
          "metadata": {},
          "output_type": "execute_result"
        }
      ],
      "source": [
        "model.fit(generator,epochs=7,verbose=True,batch_size=100)\n",
        "#model.fit(X_train,y_train,epochs=12)"
      ]
    },
    {
      "cell_type": "code",
      "execution_count": null,
      "metadata": {
        "colab": {
          "base_uri": "https://localhost:8080/",
          "height": 282
        },
        "id": "xxt2XunbJNaQ",
        "outputId": "b245fcf0-7d31-4c68-c42c-f4b56afdfdab"
      },
      "outputs": [
        {
          "data": {
            "text/plain": [
              "[<matplotlib.lines.Line2D at 0x7f40aa114fd0>]"
            ]
          },
          "execution_count": 95,
          "metadata": {},
          "output_type": "execute_result"
        },
        {
          "data": {
            "image/png": "[encoded data removed]",
            "text/plain": [
              "<Figure size 432x288 with 1 Axes>"
            ]
          },
          "metadata": {},
          "output_type": "display_data"
        }
      ],
      "source": [
        "loss_per_epoch = model.history.history['loss']\n",
        "plt.plot(range(len(loss_per_epoch)),loss_per_epoch)"
      ]
    },
    {
      "cell_type": "code",
      "execution_count": null,
      "metadata": {
        "id": "m_N2h0ZqJ2Qz"
      },
      "outputs": [],
      "source": [
        "eval = scaled_train[-n_input:,:].reshape(1,n_input,4)"
      ]
    },
    {
      "cell_type": "code",
      "execution_count": null,
      "metadata": {
        "colab": {
          "base_uri": "https://localhost:8080/"
        },
        "id": "8rrl-_OQKC2V",
        "outputId": "b348d16e-4556-4a5f-a8b9-2880e04eec97"
      },
      "outputs": [
        {
          "data": {
            "text/plain": [
              "array([[[0.35625518, 0.72307692, 0.77506112, 0.40740741],\n",
              "        [0.1963546 , 0.68205128, 0.74572127, 0.41975309],\n",
              "        [0.16901408, 0.39487179, 0.43276284, 0.71604938],\n",
              "        [0.22700911, 0.51282051, 0.53056235, 0.60493827],\n",
              "        [0.5956918 , 0.65641026, 0.66748166, 0.4691358 ],\n",
              "        [0.76304888, 0.73333333, 0.78484108, 0.41975309],\n",
              "        [0.81524441, 0.82051282, 0.82885086, 0.40740741],\n",
              "        [0.45153273, 0.80512821, 0.85819071, 0.34567901],\n",
              "        [0.37862469, 0.80512821, 0.87775061, 0.32098765],\n",
              "        [0.51449876, 0.80512821, 0.86797066, 0.28395062],\n",
              "        [0.35211268, 0.80512821, 0.87775061, 0.28395062],\n",
              "        [0.14001657, 0.74358974, 0.79462103, 0.34567901],\n",
              "        [0.06130903, 0.41538462, 0.53545232, 0.81481481],\n",
              "        [0.11019056, 0.46666667, 0.56968215, 0.7654321 ],\n",
              "        [0.21789561, 0.56923077, 0.62347188, 0.67901235],\n",
              "        [0.46478873, 0.63589744, 0.68704156, 0.64197531],\n",
              "        [0.49047225, 0.67692308, 0.72616137, 0.5308642 ],\n",
              "        [0.29826015, 0.68717949, 0.64792176, 0.54320988],\n",
              "        [0.29328915, 0.66153846, 0.63814181, 0.65432099],\n",
              "        [0.26594863, 0.68717949, 0.70171149, 0.55555556],\n",
              "        [0.26843413, 0.6974359 , 0.77017115, 0.50617284],\n",
              "        [0.10107705, 0.65128205, 0.73594132, 0.5308642 ]]])"
            ]
          },
          "execution_count": 97,
          "metadata": {},
          "output_type": "execute_result"
        }
      ],
      "source": [
        "eval"
      ]
    },
    {
      "cell_type": "code",
      "execution_count": null,
      "metadata": {
        "colab": {
          "base_uri": "https://localhost:8080/"
        },
        "id": "PArAY-M5KEK3",
        "outputId": "4de0d32c-5d08-4e5a-8c95-238c75b689a2"
      },
      "outputs": [
        {
          "data": {
            "text/plain": [
              "array([0.07663663], dtype=float32)"
            ]
          },
          "execution_count": 98,
          "metadata": {},
          "output_type": "execute_result"
        }
      ],
      "source": [
        "predictions = model.predict(eval)[0]\n",
        "predictions"
      ]
    },
    {
      "cell_type": "code",
      "execution_count": null,
      "metadata": {
        "id": "g3jXNBwrKL0n"
      },
      "outputs": [],
      "source": [
        "test_predictions =  np.zeros(shape=(len(predictions), 1+n_features) )"
      ]
    },
    {
      "cell_type": "code",
      "execution_count": null,
      "metadata": {
        "id": "_2B1KYDPKPrj"
      },
      "outputs": [],
      "source": [
        "test_predictions[:,0] = predictions"
      ]
    },
    {
      "cell_type": "code",
      "execution_count": null,
      "metadata": {
        "id": "DA0ABwgMKXFn"
      },
      "outputs": [],
      "source": [
        "true_predictions = scaler.inverse_transform(test_predictions)"
      ]
    },
    {
      "cell_type": "code",
      "execution_count": null,
      "metadata": {
        "colab": {
          "base_uri": "https://localhost:8080/"
        },
        "id": "BTrkloEHKa_f",
        "outputId": "694aff08-ccbb-42ba-a176-3bb8fcae0d4a"
      },
      "outputs": [
        {
          "data": {
            "text/plain": [
              "array([102.50040917])"
            ]
          },
          "execution_count": 102,
          "metadata": {},
          "output_type": "execute_result"
        }
      ],
      "source": [
        "true_predictions[:,0]"
      ]
    },
    {
      "cell_type": "code",
      "execution_count": null,
      "metadata": {
        "colab": {
          "base_uri": "https://localhost:8080/"
        },
        "id": "XGOyN_AXKb9f",
        "outputId": "f76f0242-49f3-4e34-d32d-84214da76465"
      },
      "outputs": [
        {
          "data": {
            "text/plain": [
              "Local_Time\n",
              "2016-08-08 08:00:00    136.0\n",
              "2016-08-08 09:00:00    337.0\n",
              "2016-08-08 10:00:00    303.0\n",
              "2016-08-08 11:00:00    549.0\n",
              "2016-08-08 12:00:00    577.0\n",
              "2016-08-08 13:00:00    334.0\n",
              "Name: SRGLOAVG1H, dtype: float64"
            ]
          },
          "execution_count": 103,
          "metadata": {},
          "output_type": "execute_result"
        }
      ],
      "source": [
        "df_test['SRGLOAVG1H'][:6]"
      ]
    },
    {
      "cell_type": "code",
      "execution_count": null,
      "metadata": {
        "id": "iwH5H4NvqCNM"
      },
      "outputs": [],
      "source": [
        "predictions=[]"
      ]
    },
    {
      "cell_type": "code",
      "execution_count": null,
      "metadata": {
        "id": "-Z4DKXyOqBpA"
      },
      "outputs": [],
      "source": [
        "for j in range(n_input,len(df_test)):\n",
        "  model_input = scaled_test[j-n_input:j]\n",
        "  model_input = model_input.reshape((1, n_input, n_features+1))\n",
        "  predictions.append(model.predict(model_input)[0])"
      ]
    },
    {
      "cell_type": "code",
      "execution_count": null,
      "metadata": {
        "id": "9qja_c79qOP6"
      },
      "outputs": [],
      "source": [
        "predictions = np.ndarray.flatten(np.array(predictions))  \n",
        "test_predictions =  np.zeros(shape=(len(predictions), 1+n_features))\n",
        "test_predictions[:,0] = predictions"
      ]
    },
    {
      "cell_type": "code",
      "execution_count": null,
      "metadata": {
        "id": "FX2pxsNiqYiT"
      },
      "outputs": [],
      "source": [
        "true_predictions = scaler.inverse_transform(test_predictions)\n",
        "true_values = np.ndarray.flatten(df_test.iloc[n_input:]['SRGLOAVG1H'].values)"
      ]
    },
    {
      "cell_type": "code",
      "execution_count": null,
      "metadata": {
        "id": "H6ZBvkIlqeBk"
      },
      "outputs": [],
      "source": [
        "rsg_predictions = true_predictions[:,0]\n"
      ]
    },
    {
      "cell_type": "code",
      "execution_count": null,
      "metadata": {
        "id": "i7_jwVODqh4c"
      },
      "outputs": [],
      "source": [
        "errorMSE = mean_squared_error(true_values,rsg_predictions)\n",
        "errorMAE = mean_absolute_error(true_values,rsg_predictions)"
      ]
    },
    {
      "cell_type": "code",
      "execution_count": null,
      "metadata": {
        "colab": {
          "base_uri": "https://localhost:8080/"
        },
        "id": "1w2lVL3oqlmT",
        "outputId": "6690cee1-5107-4766-a593-41c6214995cb"
      },
      "outputs": [
        {
          "data": {
            "text/plain": [
              "132.43248900529696"
            ]
          },
          "execution_count": 110,
          "metadata": {},
          "output_type": "execute_result"
        }
      ],
      "source": [
        "errorMAE"
      ]
    },
    {
      "cell_type": "markdown",
      "metadata": {
        "id": "HnKBrbBFaBnz"
      },
      "source": [
        "## Probando con distintos grupos de variables"
      ]
    },
    {
      "cell_type": "code",
      "execution_count": null,
      "metadata": {
        "id": "TMoe6AY2aHQb"
      },
      "outputs": [],
      "source": [
        "variables = [1,3,4]"
      ]
    },
    {
      "cell_type": "code",
      "execution_count": null,
      "metadata": {
        "colab": {
          "base_uri": "https://localhost:8080/"
        },
        "id": "hB5KWmYXaKib",
        "outputId": "fe9b9e15-a85e-4507-95b0-5118843f5f2d"
      },
      "outputs": [
        {
          "data": {
            "text/plain": [
              "Index(['SRGLOAVG1H'], dtype='object')"
            ]
          },
          "execution_count": 76,
          "metadata": {},
          "output_type": "execute_result"
        }
      ],
      "source": [
        "df.columns[0:1]"
      ]
    },
    {
      "cell_type": "code",
      "execution_count": null,
      "metadata": {
        "colab": {
          "base_uri": "https://localhost:8080/"
        },
        "id": "y735kkooqpai",
        "outputId": "8ed90757-7b7e-427b-b941-403f7013aecb"
      },
      "outputs": [
        {
          "name": "stdout",
          "output_type": "stream",
          "text": [
            "Variables 4\n",
            "MAE 119.75558007328728\n",
            "MSE 23903.09160235717\n"
          ]
        }
      ],
      "source": [
        "for num_variables in variables:\n",
        "  n_input = 22 # horas hacia atrás, features\n",
        "  n_output = 1 # horas predichas\n",
        "  n_features = num_variables # variables de entrada\n",
        "  print('Variables',n_features)\n",
        "  generator = TimeseriesGenerator(scaled_train[:,:1+num_variables], scaled_train[:,0], length=n_input, batch_size=n_output)\n",
        "  # define model\n",
        "  model = Sequential()\n",
        "  model.add(LSTM(75, activation='relu', input_shape=(n_input, n_features+1)))\n",
        "  model.add(Dense(n_output))\n",
        "  model.compile(optimizer='adam', loss='mse')\n",
        "  model.fit(generator,epochs=7,verbose=False,batch_size=100)\n",
        "  predictions = []\n",
        "  for j in range(n_input,len(df_test)):\n",
        "    model_input = scaled_test[j-n_input:j,:1+num_variables]\n",
        "    model_input = model_input.reshape((1, n_input, n_features+1))\n",
        "    predictions.append(model.predict(model_input)[0])\n",
        "  predictions = np.ndarray.flatten(np.array(predictions))  \n",
        "  test_predictions =  np.zeros(shape=(len(predictions), 5))\n",
        "  test_predictions[:,0] = predictions\n",
        "  true_predictions = scaler.inverse_transform(test_predictions)\n",
        "  true_values = np.ndarray.flatten(df_test.iloc[n_input:]['SRGLOAVG1H'].values)\n",
        "  rsg_predictions = true_predictions[:,0]\n",
        "  errorMSE = mean_squared_error(true_values,rsg_predictions)\n",
        "  errorMAE = mean_absolute_error(true_values,rsg_predictions)\n",
        "  print('MAE',errorMAE)\n",
        "  print('MSE',errorMSE)"
      ]
    },
    {
      "cell_type": "code",
      "execution_count": null,
      "metadata": {
        "colab": {
          "base_uri": "https://localhost:8080/"
        },
        "id": "7oPuVdtfkM9V",
        "outputId": "cc078edc-8861-4a5c-f956-9df0aee03b4e"
      },
      "outputs": [
        {
          "data": {
            "text/plain": [
              "154.60624697067442"
            ]
          },
          "execution_count": 79,
          "metadata": {},
          "output_type": "execute_result"
        }
      ],
      "source": [
        "np.sqrt(errorMSE)"
      ]
    },
    {
      "cell_type": "markdown",
      "metadata": {
        "id": "jArCfQ4Eih7U"
      },
      "source": [
        "Usar 4 variables obtuvo el error más pequeño hasta ahora, se utilizarán 4 para la optimización de hiperparámetros."
      ]
    },
    {
      "cell_type": "code",
      "execution_count": null,
      "metadata": {
        "id": "JdKs5apKio8b"
      },
      "outputs": [],
      "source": [
        "model.save('./drive/MyDrive/DatosInvestigacion/model_LSTM_multi.h5')"
      ]
    },
    {
      "cell_type": "markdown",
      "metadata": {
        "id": "5UiPj6fAwtdW"
      },
      "source": [
        "## Grid search"
      ]
    },
    {
      "cell_type": "code",
      "execution_count": null,
      "metadata": {
        "id": "m3hx8bz4xQap"
      },
      "outputs": [],
      "source": [
        "def create_Model(n_input, LSTM_neurons = 100, layers=3,n_features=0):\n",
        "  # define model\n",
        "  model = Sequential()\n",
        "  if(layers>1):\n",
        "    model.add(LSTM(LSTM_neurons, activation='relu', input_shape=(n_input, n_features+1),return_sequences=True))\n",
        "    for i in range(layers-2):\n",
        "        model.add(LSTM(LSTM_neurons, activation='relu',return_sequences=True))\n",
        "    model.add(LSTM(LSTM_neurons, activation='relu'))\n",
        "  else:\n",
        "    model.add(LSTM(LSTM_neurons, activation='relu', input_shape=(n_input, n_features+1)))\n",
        "  model.add(Dense(1))\n",
        "  model.compile(optimizer='adam', loss='mse')\n",
        "  return model"
      ]
    },
    {
      "cell_type": "code",
      "execution_count": null,
      "metadata": {
        "id": "J_CIQiSBxe0g"
      },
      "outputs": [],
      "source": [
        "model = create_Model(22)"
      ]
    },
    {
      "cell_type": "code",
      "execution_count": null,
      "metadata": {
        "colab": {
          "base_uri": "https://localhost:8080/"
        },
        "id": "N7hj5dugxjl1",
        "outputId": "1a2823b0-06af-4105-9c7d-37acc48aa0a9"
      },
      "outputs": [
        {
          "name": "stdout",
          "output_type": "stream",
          "text": [
            "Model: \"sequential\"\n",
            "_________________________________________________________________\n",
            " Layer (type)                Output Shape              Param #   \n",
            "=================================================================\n",
            " lstm (LSTM)                 (None, 22, 100)           40800     \n",
            "                                                                 \n",
            " lstm_1 (LSTM)               (None, 22, 100)           80400     \n",
            "                                                                 \n",
            " lstm_2 (LSTM)               (None, 100)               80400     \n",
            "                                                                 \n",
            " dense (Dense)               (None, 1)                 101       \n",
            "                                                                 \n",
            "=================================================================\n",
            "Total params: 201,701\n",
            "Trainable params: 201,701\n",
            "Non-trainable params: 0\n",
            "_________________________________________________________________\n"
          ]
        }
      ],
      "source": [
        "model.summary()"
      ]
    },
    {
      "cell_type": "code",
      "execution_count": null,
      "metadata": {
        "id": "DXfLb7VgwvZl"
      },
      "outputs": [],
      "source": [
        "resultados=[]"
      ]
    },
    {
      "cell_type": "code",
      "execution_count": null,
      "metadata": {
        "id": "X0WGBquZZ7ea"
      },
      "outputs": [],
      "source": [
        "resultados_anteriores = []"
      ]
    },
    {
      "cell_type": "code",
      "execution_count": null,
      "metadata": {
        "id": "iY9baURkZtFZ"
      },
      "outputs": [],
      "source": [
        "import json"
      ]
    },
    {
      "cell_type": "code",
      "execution_count": null,
      "metadata": {
        "id": "Fx9slFlCZtYr"
      },
      "outputs": [],
      "source": [
        "with open(\"/content/resultados.txt\",'r') as fp:\n",
        "    for line in fp:\n",
        "      resultados_anteriores.append(json.loads(line))"
      ]
    },
    {
      "cell_type": "code",
      "execution_count": null,
      "metadata": {
        "id": "XIzF4L-PZu2U"
      },
      "outputs": [],
      "source": [
        "df_resultados_anteriores = pd.DataFrame(resultados_anteriores)"
      ]
    },
    {
      "cell_type": "code",
      "execution_count": null,
      "metadata": {
        "id": "zClySRHNw9kS"
      },
      "outputs": [],
      "source": [
        "combinaciones_anteriores = []"
      ]
    },
    {
      "cell_type": "code",
      "execution_count": null,
      "metadata": {
        "id": "d-pjiHzr4YOw"
      },
      "outputs": [],
      "source": [
        "df_resultados = pd.read_csv('./drive/MyDrive/DatosInvestigacion/lstm_multivariado_resultados.csv')"
      ]
    },
    {
      "cell_type": "code",
      "execution_count": null,
      "metadata": {
        "id": "HF1vmqQyaJYJ"
      },
      "outputs": [],
      "source": [
        "df_resultados = pd.concat([df_resultados,df_resultados_anteriores],ignore_index=True)"
      ]
    },
    {
      "cell_type": "code",
      "execution_count": null,
      "metadata": {
        "colab": {
          "base_uri": "https://localhost:8080/",
          "height": 423
        },
        "id": "Qpx5rlGeaS8w",
        "outputId": "7e025399-05d3-448d-ccbb-d2552d33ba19"
      },
      "outputs": [
        {
          "data": {
            "text/html": [
              "\n",
              "  <div id=\"df-2643c3cb-b0b2-4a7b-8192-28e3acd51fb8\">\n",
              "    <div class=\"colab-df-container\">\n",
              "      <div>\n",
              "<style scoped>\n",
              "    .dataframe tbody tr th:only-of-type {\n",
              "        vertical-align: middle;\n",
              "    }\n",
              "\n",
              "    .dataframe tbody tr th {\n",
              "        vertical-align: top;\n",
              "    }\n",
              "\n",
              "    .dataframe thead th {\n",
              "        text-align: right;\n",
              "    }\n",
              "</style>\n",
              "<table border=\"1\" class=\"dataframe\">\n",
              "  <thead>\n",
              "    <tr style=\"text-align: right;\">\n",
              "      <th></th>\n",
              "      <th>Retrasos</th>\n",
              "      <th>Neuronas LSTM</th>\n",
              "      <th>LSTM Layers</th>\n",
              "      <th>Batch size</th>\n",
              "      <th>MSE</th>\n",
              "      <th>MAE</th>\n",
              "    </tr>\n",
              "  </thead>\n",
              "  <tbody>\n",
              "    <tr>\n",
              "      <th>0</th>\n",
              "      <td>18</td>\n",
              "      <td>50</td>\n",
              "      <td>1</td>\n",
              "      <td>50</td>\n",
              "      <td>24646.745624</td>\n",
              "      <td>121.936820</td>\n",
              "    </tr>\n",
              "    <tr>\n",
              "      <th>1</th>\n",
              "      <td>18</td>\n",
              "      <td>50</td>\n",
              "      <td>2</td>\n",
              "      <td>50</td>\n",
              "      <td>28719.220335</td>\n",
              "      <td>130.283618</td>\n",
              "    </tr>\n",
              "    <tr>\n",
              "      <th>2</th>\n",
              "      <td>18</td>\n",
              "      <td>50</td>\n",
              "      <td>3</td>\n",
              "      <td>50</td>\n",
              "      <td>25159.944969</td>\n",
              "      <td>122.537291</td>\n",
              "    </tr>\n",
              "    <tr>\n",
              "      <th>3</th>\n",
              "      <td>18</td>\n",
              "      <td>50</td>\n",
              "      <td>1</td>\n",
              "      <td>100</td>\n",
              "      <td>25169.437996</td>\n",
              "      <td>122.810510</td>\n",
              "    </tr>\n",
              "    <tr>\n",
              "      <th>4</th>\n",
              "      <td>18</td>\n",
              "      <td>50</td>\n",
              "      <td>2</td>\n",
              "      <td>100</td>\n",
              "      <td>26289.117672</td>\n",
              "      <td>124.375672</td>\n",
              "    </tr>\n",
              "    <tr>\n",
              "      <th>...</th>\n",
              "      <td>...</td>\n",
              "      <td>...</td>\n",
              "      <td>...</td>\n",
              "      <td>...</td>\n",
              "      <td>...</td>\n",
              "      <td>...</td>\n",
              "    </tr>\n",
              "    <tr>\n",
              "      <th>75</th>\n",
              "      <td>22</td>\n",
              "      <td>100</td>\n",
              "      <td>1</td>\n",
              "      <td>100</td>\n",
              "      <td>24644.768356</td>\n",
              "      <td>121.234664</td>\n",
              "    </tr>\n",
              "    <tr>\n",
              "      <th>76</th>\n",
              "      <td>22</td>\n",
              "      <td>100</td>\n",
              "      <td>2</td>\n",
              "      <td>100</td>\n",
              "      <td>24759.182784</td>\n",
              "      <td>120.936534</td>\n",
              "    </tr>\n",
              "    <tr>\n",
              "      <th>77</th>\n",
              "      <td>22</td>\n",
              "      <td>100</td>\n",
              "      <td>3</td>\n",
              "      <td>100</td>\n",
              "      <td>27819.868066</td>\n",
              "      <td>128.813238</td>\n",
              "    </tr>\n",
              "    <tr>\n",
              "      <th>78</th>\n",
              "      <td>22</td>\n",
              "      <td>100</td>\n",
              "      <td>1</td>\n",
              "      <td>150</td>\n",
              "      <td>26112.238742</td>\n",
              "      <td>124.546668</td>\n",
              "    </tr>\n",
              "    <tr>\n",
              "      <th>79</th>\n",
              "      <td>22</td>\n",
              "      <td>100</td>\n",
              "      <td>2</td>\n",
              "      <td>150</td>\n",
              "      <td>26237.907297</td>\n",
              "      <td>125.618784</td>\n",
              "    </tr>\n",
              "  </tbody>\n",
              "</table>\n",
              "<p>80 rows × 6 columns</p>\n",
              "</div>\n",
              "      <button class=\"colab-df-convert\" onclick=\"convertToInteractive('df-2643c3cb-b0b2-4a7b-8192-28e3acd51fb8')\"\n",
              "              title=\"Convert this dataframe to an interactive table.\"\n",
              "              style=\"display:none;\">\n",
              "        \n",
              "  <svg xmlns=\"http://www.w3.org/2000/svg\" height=\"24px\"viewBox=\"0 0 24 24\"\n",
              "       width=\"24px\">\n",
              "    <path d=\"M0 0h24v24H0V0z\" fill=\"none\"/>\n",
              "    <path d=\"M18.56 5.44l.94 2.06.94-2.06 2.06-.94-2.06-.94-.94-2.06-.94 2.06-2.06.94zm-11 1L8.5 8.5l.94-2.06 2.06-.94-2.06-.94L8.5 2.5l-.94 2.06-2.06.94zm10 10l.94 2.06.94-2.06 2.06-.94-2.06-.94-.94-2.06-.94 2.06-2.06.94z\"/><path d=\"M17.41 7.96l-1.37-1.37c-.4-.4-.92-.59-1.43-.59-.52 0-1.04.2-1.43.59L10.3 9.45l-7.72 7.72c-.78.78-.78 2.05 0 2.83L4 21.41c.39.39.9.59 1.41.59.51 0 1.02-.2 1.41-.59l7.78-7.78 2.81-2.81c.8-.78.8-2.07 0-2.86zM5.41 20L4 18.59l7.72-7.72 1.47 1.35L5.41 20z\"/>\n",
              "  </svg>\n",
              "      </button>\n",
              "      \n",
              "  <style>\n",
              "    .colab-df-container {\n",
              "      display:flex;\n",
              "      flex-wrap:wrap;\n",
              "      gap: 12px;\n",
              "    }\n",
              "\n",
              "    .colab-df-convert {\n",
              "      background-color: #E8F0FE;\n",
              "      border: none;\n",
              "      border-radius: 50%;\n",
              "      cursor: pointer;\n",
              "      display: none;\n",
              "      fill: #1967D2;\n",
              "      height: 32px;\n",
              "      padding: 0 0 0 0;\n",
              "      width: 32px;\n",
              "    }\n",
              "\n",
              "    .colab-df-convert:hover {\n",
              "      background-color: #E2EBFA;\n",
              "      box-shadow: 0px 1px 2px rgba(60, 64, 67, 0.3), 0px 1px 3px 1px rgba(60, 64, 67, 0.15);\n",
              "      fill: #174EA6;\n",
              "    }\n",
              "\n",
              "    [theme=dark] .colab-df-convert {\n",
              "      background-color: #3B4455;\n",
              "      fill: #D2E3FC;\n",
              "    }\n",
              "\n",
              "    [theme=dark] .colab-df-convert:hover {\n",
              "      background-color: #434B5C;\n",
              "      box-shadow: 0px 1px 3px 1px rgba(0, 0, 0, 0.15);\n",
              "      filter: drop-shadow(0px 1px 2px rgba(0, 0, 0, 0.3));\n",
              "      fill: #FFFFFF;\n",
              "    }\n",
              "  </style>\n",
              "\n",
              "      <script>\n",
              "        const buttonEl =\n",
              "          document.querySelector('#df-2643c3cb-b0b2-4a7b-8192-28e3acd51fb8 button.colab-df-convert');\n",
              "        buttonEl.style.display =\n",
              "          google.colab.kernel.accessAllowed ? 'block' : 'none';\n",
              "\n",
              "        async function convertToInteractive(key) {\n",
              "          const element = document.querySelector('#df-2643c3cb-b0b2-4a7b-8192-28e3acd51fb8');\n",
              "          const dataTable =\n",
              "            await google.colab.kernel.invokeFunction('convertToInteractive',\n",
              "                                                     [key], {});\n",
              "          if (!dataTable) return;\n",
              "\n",
              "          const docLinkHtml = 'Like what you see? Visit the ' +\n",
              "            '<a target=\"_blank\" href=https://colab.research.google.com/notebooks/data_table.ipynb>data table notebook</a>'\n",
              "            + ' to learn more about interactive tables.';\n",
              "          element.innerHTML = '';\n",
              "          dataTable['output_type'] = 'display_data';\n",
              "          await google.colab.output.renderOutput(dataTable, element);\n",
              "          const docLink = document.createElement('div');\n",
              "          docLink.innerHTML = docLinkHtml;\n",
              "          element.appendChild(docLink);\n",
              "        }\n",
              "      </script>\n",
              "    </div>\n",
              "  </div>\n",
              "  "
            ],
            "text/plain": [
              "    Retrasos  Neuronas LSTM  LSTM Layers  Batch size           MSE         MAE\n",
              "0         18             50            1          50  24646.745624  121.936820\n",
              "1         18             50            2          50  28719.220335  130.283618\n",
              "2         18             50            3          50  25159.944969  122.537291\n",
              "3         18             50            1         100  25169.437996  122.810510\n",
              "4         18             50            2         100  26289.117672  124.375672\n",
              "..       ...            ...          ...         ...           ...         ...\n",
              "75        22            100            1         100  24644.768356  121.234664\n",
              "76        22            100            2         100  24759.182784  120.936534\n",
              "77        22            100            3         100  27819.868066  128.813238\n",
              "78        22            100            1         150  26112.238742  124.546668\n",
              "79        22            100            2         150  26237.907297  125.618784\n",
              "\n",
              "[80 rows x 6 columns]"
            ]
          },
          "execution_count": 21,
          "metadata": {},
          "output_type": "execute_result"
        }
      ],
      "source": [
        "df_resultados"
      ]
    },
    {
      "cell_type": "code",
      "execution_count": null,
      "metadata": {
        "id": "1xbHMfK44RG3"
      },
      "outputs": [],
      "source": [
        "for i in range(len(df_resultados)):\n",
        "  combinaciones_anteriores.append((int(df_resultados.iloc[i]['Retrasos']),\n",
        "                                   int(df_resultados.iloc[i]['Neuronas LSTM']),\n",
        "                                   int(df_resultados.iloc[i]['Batch size']),\n",
        "                                   int(df_resultados.iloc[i]['LSTM Layers'])))"
      ]
    },
    {
      "cell_type": "code",
      "execution_count": null,
      "metadata": {
        "colab": {
          "base_uri": "https://localhost:8080/"
        },
        "id": "FSU1knSkqOKW",
        "outputId": "ddab28db-ce0d-4aac-af8d-d628ee60448e"
      },
      "outputs": [
        {
          "data": {
            "text/plain": [
              "(22, 100, 150, 2)"
            ]
          },
          "execution_count": 25,
          "metadata": {},
          "output_type": "execute_result"
        }
      ],
      "source": [
        "combinaciones_anteriores[-1]"
      ]
    },
    {
      "cell_type": "code",
      "execution_count": null,
      "metadata": {
        "colab": {
          "base_uri": "https://localhost:8080/"
        },
        "id": "qsOOwL2qw-L4",
        "outputId": "87b62350-8be4-402d-ba04-9a93432335fc"
      },
      "outputs": [
        {
          "output_type": "stream",
          "name": "stdout",
          "text": [
            "{'Retrasos': 22, 'Neuronas LSTM': 100, 'Batch size': 150, 'LSTM Layers': 3, 'MSE': 27448.48566061968, 'MAE': 127.66419265624938}\n",
            "{'Retrasos': 24, 'Neuronas LSTM': 50, 'Batch size': 50, 'LSTM Layers': 1, 'MSE': 29406.767794088868, 'MAE': 134.189209672708}\n",
            "{'Retrasos': 24, 'Neuronas LSTM': 50, 'Batch size': 50, 'LSTM Layers': 2, 'MSE': 28433.327269733076, 'MAE': 128.90860443068848}\n",
            "{'Retrasos': 24, 'Neuronas LSTM': 50, 'Batch size': 50, 'LSTM Layers': 3, 'MSE': 27089.035656050346, 'MAE': 126.98263806828965}\n",
            "{'Retrasos': 24, 'Neuronas LSTM': 50, 'Batch size': 100, 'LSTM Layers': 1, 'MSE': 26105.0271453611, 'MAE': 126.91963496885695}\n",
            "{'Retrasos': 24, 'Neuronas LSTM': 50, 'Batch size': 100, 'LSTM Layers': 2, 'MSE': 24762.416154718077, 'MAE': 121.01317618526829}\n",
            "{'Retrasos': 24, 'Neuronas LSTM': 50, 'Batch size': 100, 'LSTM Layers': 3, 'MSE': 24697.2968346162, 'MAE': 121.06416238928448}\n",
            "{'Retrasos': 24, 'Neuronas LSTM': 50, 'Batch size': 150, 'LSTM Layers': 1, 'MSE': 28665.541117045923, 'MAE': 129.79152476336694}\n",
            "{'Retrasos': 24, 'Neuronas LSTM': 50, 'Batch size': 150, 'LSTM Layers': 2, 'MSE': 29615.846950486408, 'MAE': 132.39158966759618}\n",
            "{'Retrasos': 24, 'Neuronas LSTM': 50, 'Batch size': 150, 'LSTM Layers': 3, 'MSE': 24747.37491531682, 'MAE': 122.21176771728794}\n",
            "{'Retrasos': 24, 'Neuronas LSTM': 75, 'Batch size': 50, 'LSTM Layers': 1, 'MSE': 26924.075391550494, 'MAE': 125.39947805174401}\n",
            "{'Retrasos': 24, 'Neuronas LSTM': 75, 'Batch size': 50, 'LSTM Layers': 2, 'MSE': 27111.361547788267, 'MAE': 127.7190218612313}\n",
            "{'Retrasos': 24, 'Neuronas LSTM': 75, 'Batch size': 50, 'LSTM Layers': 3, 'MSE': 25262.239479573665, 'MAE': 122.53642984183406}\n",
            "{'Retrasos': 24, 'Neuronas LSTM': 75, 'Batch size': 100, 'LSTM Layers': 1, 'MSE': 26256.759006127715, 'MAE': 123.569673000246}\n",
            "{'Retrasos': 24, 'Neuronas LSTM': 75, 'Batch size': 100, 'LSTM Layers': 2, 'MSE': 24528.999392449416, 'MAE': 120.23277082265689}\n",
            "{'Retrasos': 24, 'Neuronas LSTM': 75, 'Batch size': 100, 'LSTM Layers': 3, 'MSE': 27241.080230024018, 'MAE': 127.38365850407205}\n",
            "{'Retrasos': 24, 'Neuronas LSTM': 75, 'Batch size': 150, 'LSTM Layers': 1, 'MSE': 25611.632598960514, 'MAE': 122.71012876250244}\n",
            "{'Retrasos': 24, 'Neuronas LSTM': 75, 'Batch size': 150, 'LSTM Layers': 2, 'MSE': 24775.119248677187, 'MAE': 122.22525380020001}\n",
            "{'Retrasos': 24, 'Neuronas LSTM': 75, 'Batch size': 150, 'LSTM Layers': 3, 'MSE': 28090.727701819706, 'MAE': 130.0650909455353}\n",
            "{'Retrasos': 24, 'Neuronas LSTM': 100, 'Batch size': 50, 'LSTM Layers': 1, 'MSE': 23986.62158257116, 'MAE': 119.34883736041803}\n",
            "{'Retrasos': 24, 'Neuronas LSTM': 100, 'Batch size': 50, 'LSTM Layers': 2, 'MSE': 24958.655046733475, 'MAE': 121.0110640255916}\n",
            "{'Retrasos': 24, 'Neuronas LSTM': 100, 'Batch size': 50, 'LSTM Layers': 3, 'MSE': 27354.82325027142, 'MAE': 127.34502998035411}\n",
            "{'Retrasos': 24, 'Neuronas LSTM': 100, 'Batch size': 100, 'LSTM Layers': 1, 'MSE': 24375.725434299973, 'MAE': 119.43132758858643}\n",
            "{'Retrasos': 24, 'Neuronas LSTM': 100, 'Batch size': 100, 'LSTM Layers': 2, 'MSE': 24081.06802585809, 'MAE': 119.44903454431501}\n",
            "{'Retrasos': 24, 'Neuronas LSTM': 100, 'Batch size': 100, 'LSTM Layers': 3, 'MSE': 25669.856754299846, 'MAE': 124.0856450068191}\n",
            "{'Retrasos': 24, 'Neuronas LSTM': 100, 'Batch size': 150, 'LSTM Layers': 1, 'MSE': 27161.019932164952, 'MAE': 128.98737748392693}\n",
            "{'Retrasos': 24, 'Neuronas LSTM': 100, 'Batch size': 150, 'LSTM Layers': 2, 'MSE': 24840.064499408396, 'MAE': 120.29546294413755}\n",
            "{'Retrasos': 24, 'Neuronas LSTM': 100, 'Batch size': 150, 'LSTM Layers': 3, 'MSE': 27410.274080385476, 'MAE': 128.42660441224186}\n"
          ]
        }
      ],
      "source": [
        "for retrasos in range(18,26,2): #hasta dos días y medio hacia el pasado\n",
        "  for num_neuronas in range(50,101,25): \n",
        "    for batch_size in range(50,151,50):\n",
        "      for num_layers in range(1,4): \n",
        "        if((retrasos,num_neuronas,batch_size,num_layers) in combinaciones_anteriores):\n",
        "          continue\n",
        "        n_input = retrasos # horas hacia atrás\n",
        "        n_output = 1\n",
        "        n_features = 4 # variables exógenas\n",
        "        generator = TimeseriesGenerator(scaled_train, scaled_train[:,0], length=n_input, batch_size=n_output)\n",
        "        model = create_Model(n_input,LSTM_neurons=num_neuronas,layers=num_layers,n_features=n_features)\n",
        "        model.fit(generator,epochs=7,verbose=False,batch_size=batch_size)\n",
        "        predictions = []\n",
        "        for j in range(n_input,len(df_test)):\n",
        "          model_input = scaled_test[j-n_input:j]\n",
        "          model_input = model_input.reshape((1, n_input, n_features+1))\n",
        "          predictions.append(model.predict(model_input)[0])\n",
        "\n",
        "        predictions = np.ndarray.flatten(np.array(predictions))  \n",
        "        test_predictions =  np.zeros(shape=(len(predictions), 5))\n",
        "        test_predictions[:,0] = predictions\n",
        "        true_predictions = scaler.inverse_transform(test_predictions)\n",
        "        rsg_predictions = true_predictions[:,0]\n",
        "        true_values = np.ndarray.flatten(df_test.iloc[n_input:]['SRGLOAVG1H'].values)\n",
        "\n",
        "        errorMSE = mean_squared_error(true_values,rsg_predictions)\n",
        "        errorMAE = mean_absolute_error(true_values,rsg_predictions)\n",
        "\n",
        "        print({\n",
        "            'Retrasos':retrasos,\n",
        "            'Neuronas LSTM':num_neuronas,\n",
        "            'Batch size':batch_size,\n",
        "            'LSTM Layers': num_layers,\n",
        "            'MSE':errorMSE,\n",
        "            'MAE':errorMAE\n",
        "        })\n",
        "        resultados.append({\n",
        "            'Retrasos':retrasos,\n",
        "            'Neuronas LSTM':num_neuronas,\n",
        "            'LSTM Layers': num_layers,\n",
        "            'Batch size':batch_size,\n",
        "            'MSE':errorMSE,\n",
        "            'MAE':errorMAE\n",
        "        })"
      ]
    },
    {
      "cell_type": "code",
      "execution_count": null,
      "metadata": {
        "colab": {
          "base_uri": "https://localhost:8080/"
        },
        "id": "baMVXT2MzJFZ",
        "outputId": "244779bc-049f-4323-ca8e-775d77d15fc4"
      },
      "outputs": [
        {
          "output_type": "execute_result",
          "data": {
            "text/plain": [
              "{'Batch size': 150,\n",
              " 'LSTM Layers': 3,\n",
              " 'MAE': 127.66419265624938,\n",
              " 'MSE': 27448.48566061968,\n",
              " 'Neuronas LSTM': 100,\n",
              " 'Retrasos': 22}"
            ]
          },
          "metadata": {},
          "execution_count": 27
        }
      ],
      "source": [
        "resultados[0]"
      ]
    },
    {
      "cell_type": "code",
      "execution_count": null,
      "metadata": {
        "id": "df-JvAH7328G"
      },
      "outputs": [],
      "source": [
        "df_resultados_actuales = pd.DataFrame(resultados)"
      ]
    },
    {
      "cell_type": "code",
      "execution_count": null,
      "metadata": {
        "colab": {
          "base_uri": "https://localhost:8080/",
          "height": 927
        },
        "id": "8V-RKNhH4mPm",
        "outputId": "401ab5a5-c553-4bb1-97f6-cb5ae8afa84e"
      },
      "outputs": [
        {
          "output_type": "execute_result",
          "data": {
            "text/html": [
              "\n",
              "  <div id=\"df-7553baab-3e1f-4964-87b8-c64f47987da8\">\n",
              "    <div class=\"colab-df-container\">\n",
              "      <div>\n",
              "<style scoped>\n",
              "    .dataframe tbody tr th:only-of-type {\n",
              "        vertical-align: middle;\n",
              "    }\n",
              "\n",
              "    .dataframe tbody tr th {\n",
              "        vertical-align: top;\n",
              "    }\n",
              "\n",
              "    .dataframe thead th {\n",
              "        text-align: right;\n",
              "    }\n",
              "</style>\n",
              "<table border=\"1\" class=\"dataframe\">\n",
              "  <thead>\n",
              "    <tr style=\"text-align: right;\">\n",
              "      <th></th>\n",
              "      <th>Retrasos</th>\n",
              "      <th>Neuronas LSTM</th>\n",
              "      <th>LSTM Layers</th>\n",
              "      <th>Batch size</th>\n",
              "      <th>MSE</th>\n",
              "      <th>MAE</th>\n",
              "    </tr>\n",
              "  </thead>\n",
              "  <tbody>\n",
              "    <tr>\n",
              "      <th>0</th>\n",
              "      <td>22</td>\n",
              "      <td>100</td>\n",
              "      <td>3</td>\n",
              "      <td>150</td>\n",
              "      <td>27448.485661</td>\n",
              "      <td>127.664193</td>\n",
              "    </tr>\n",
              "    <tr>\n",
              "      <th>1</th>\n",
              "      <td>24</td>\n",
              "      <td>50</td>\n",
              "      <td>1</td>\n",
              "      <td>50</td>\n",
              "      <td>29406.767794</td>\n",
              "      <td>134.189210</td>\n",
              "    </tr>\n",
              "    <tr>\n",
              "      <th>2</th>\n",
              "      <td>24</td>\n",
              "      <td>50</td>\n",
              "      <td>2</td>\n",
              "      <td>50</td>\n",
              "      <td>28433.327270</td>\n",
              "      <td>128.908604</td>\n",
              "    </tr>\n",
              "    <tr>\n",
              "      <th>3</th>\n",
              "      <td>24</td>\n",
              "      <td>50</td>\n",
              "      <td>3</td>\n",
              "      <td>50</td>\n",
              "      <td>27089.035656</td>\n",
              "      <td>126.982638</td>\n",
              "    </tr>\n",
              "    <tr>\n",
              "      <th>4</th>\n",
              "      <td>24</td>\n",
              "      <td>50</td>\n",
              "      <td>1</td>\n",
              "      <td>100</td>\n",
              "      <td>26105.027145</td>\n",
              "      <td>126.919635</td>\n",
              "    </tr>\n",
              "    <tr>\n",
              "      <th>5</th>\n",
              "      <td>24</td>\n",
              "      <td>50</td>\n",
              "      <td>2</td>\n",
              "      <td>100</td>\n",
              "      <td>24762.416155</td>\n",
              "      <td>121.013176</td>\n",
              "    </tr>\n",
              "    <tr>\n",
              "      <th>6</th>\n",
              "      <td>24</td>\n",
              "      <td>50</td>\n",
              "      <td>3</td>\n",
              "      <td>100</td>\n",
              "      <td>24697.296835</td>\n",
              "      <td>121.064162</td>\n",
              "    </tr>\n",
              "    <tr>\n",
              "      <th>7</th>\n",
              "      <td>24</td>\n",
              "      <td>50</td>\n",
              "      <td>1</td>\n",
              "      <td>150</td>\n",
              "      <td>28665.541117</td>\n",
              "      <td>129.791525</td>\n",
              "    </tr>\n",
              "    <tr>\n",
              "      <th>8</th>\n",
              "      <td>24</td>\n",
              "      <td>50</td>\n",
              "      <td>2</td>\n",
              "      <td>150</td>\n",
              "      <td>29615.846950</td>\n",
              "      <td>132.391590</td>\n",
              "    </tr>\n",
              "    <tr>\n",
              "      <th>9</th>\n",
              "      <td>24</td>\n",
              "      <td>50</td>\n",
              "      <td>3</td>\n",
              "      <td>150</td>\n",
              "      <td>24747.374915</td>\n",
              "      <td>122.211768</td>\n",
              "    </tr>\n",
              "    <tr>\n",
              "      <th>10</th>\n",
              "      <td>24</td>\n",
              "      <td>75</td>\n",
              "      <td>1</td>\n",
              "      <td>50</td>\n",
              "      <td>26924.075392</td>\n",
              "      <td>125.399478</td>\n",
              "    </tr>\n",
              "    <tr>\n",
              "      <th>11</th>\n",
              "      <td>24</td>\n",
              "      <td>75</td>\n",
              "      <td>2</td>\n",
              "      <td>50</td>\n",
              "      <td>27111.361548</td>\n",
              "      <td>127.719022</td>\n",
              "    </tr>\n",
              "    <tr>\n",
              "      <th>12</th>\n",
              "      <td>24</td>\n",
              "      <td>75</td>\n",
              "      <td>3</td>\n",
              "      <td>50</td>\n",
              "      <td>25262.239480</td>\n",
              "      <td>122.536430</td>\n",
              "    </tr>\n",
              "    <tr>\n",
              "      <th>13</th>\n",
              "      <td>24</td>\n",
              "      <td>75</td>\n",
              "      <td>1</td>\n",
              "      <td>100</td>\n",
              "      <td>26256.759006</td>\n",
              "      <td>123.569673</td>\n",
              "    </tr>\n",
              "    <tr>\n",
              "      <th>14</th>\n",
              "      <td>24</td>\n",
              "      <td>75</td>\n",
              "      <td>2</td>\n",
              "      <td>100</td>\n",
              "      <td>24528.999392</td>\n",
              "      <td>120.232771</td>\n",
              "    </tr>\n",
              "    <tr>\n",
              "      <th>15</th>\n",
              "      <td>24</td>\n",
              "      <td>75</td>\n",
              "      <td>3</td>\n",
              "      <td>100</td>\n",
              "      <td>27241.080230</td>\n",
              "      <td>127.383659</td>\n",
              "    </tr>\n",
              "    <tr>\n",
              "      <th>16</th>\n",
              "      <td>24</td>\n",
              "      <td>75</td>\n",
              "      <td>1</td>\n",
              "      <td>150</td>\n",
              "      <td>25611.632599</td>\n",
              "      <td>122.710129</td>\n",
              "    </tr>\n",
              "    <tr>\n",
              "      <th>17</th>\n",
              "      <td>24</td>\n",
              "      <td>75</td>\n",
              "      <td>2</td>\n",
              "      <td>150</td>\n",
              "      <td>24775.119249</td>\n",
              "      <td>122.225254</td>\n",
              "    </tr>\n",
              "    <tr>\n",
              "      <th>18</th>\n",
              "      <td>24</td>\n",
              "      <td>75</td>\n",
              "      <td>3</td>\n",
              "      <td>150</td>\n",
              "      <td>28090.727702</td>\n",
              "      <td>130.065091</td>\n",
              "    </tr>\n",
              "    <tr>\n",
              "      <th>19</th>\n",
              "      <td>24</td>\n",
              "      <td>100</td>\n",
              "      <td>1</td>\n",
              "      <td>50</td>\n",
              "      <td>23986.621583</td>\n",
              "      <td>119.348837</td>\n",
              "    </tr>\n",
              "    <tr>\n",
              "      <th>20</th>\n",
              "      <td>24</td>\n",
              "      <td>100</td>\n",
              "      <td>2</td>\n",
              "      <td>50</td>\n",
              "      <td>24958.655047</td>\n",
              "      <td>121.011064</td>\n",
              "    </tr>\n",
              "    <tr>\n",
              "      <th>21</th>\n",
              "      <td>24</td>\n",
              "      <td>100</td>\n",
              "      <td>3</td>\n",
              "      <td>50</td>\n",
              "      <td>27354.823250</td>\n",
              "      <td>127.345030</td>\n",
              "    </tr>\n",
              "    <tr>\n",
              "      <th>22</th>\n",
              "      <td>24</td>\n",
              "      <td>100</td>\n",
              "      <td>1</td>\n",
              "      <td>100</td>\n",
              "      <td>24375.725434</td>\n",
              "      <td>119.431328</td>\n",
              "    </tr>\n",
              "    <tr>\n",
              "      <th>23</th>\n",
              "      <td>24</td>\n",
              "      <td>100</td>\n",
              "      <td>2</td>\n",
              "      <td>100</td>\n",
              "      <td>24081.068026</td>\n",
              "      <td>119.449035</td>\n",
              "    </tr>\n",
              "    <tr>\n",
              "      <th>24</th>\n",
              "      <td>24</td>\n",
              "      <td>100</td>\n",
              "      <td>3</td>\n",
              "      <td>100</td>\n",
              "      <td>25669.856754</td>\n",
              "      <td>124.085645</td>\n",
              "    </tr>\n",
              "    <tr>\n",
              "      <th>25</th>\n",
              "      <td>24</td>\n",
              "      <td>100</td>\n",
              "      <td>1</td>\n",
              "      <td>150</td>\n",
              "      <td>27161.019932</td>\n",
              "      <td>128.987377</td>\n",
              "    </tr>\n",
              "    <tr>\n",
              "      <th>26</th>\n",
              "      <td>24</td>\n",
              "      <td>100</td>\n",
              "      <td>2</td>\n",
              "      <td>150</td>\n",
              "      <td>24840.064499</td>\n",
              "      <td>120.295463</td>\n",
              "    </tr>\n",
              "    <tr>\n",
              "      <th>27</th>\n",
              "      <td>24</td>\n",
              "      <td>100</td>\n",
              "      <td>3</td>\n",
              "      <td>150</td>\n",
              "      <td>27410.274080</td>\n",
              "      <td>128.426604</td>\n",
              "    </tr>\n",
              "  </tbody>\n",
              "</table>\n",
              "</div>\n",
              "      <button class=\"colab-df-convert\" onclick=\"convertToInteractive('df-7553baab-3e1f-4964-87b8-c64f47987da8')\"\n",
              "              title=\"Convert this dataframe to an interactive table.\"\n",
              "              style=\"display:none;\">\n",
              "        \n",
              "  <svg xmlns=\"http://www.w3.org/2000/svg\" height=\"24px\"viewBox=\"0 0 24 24\"\n",
              "       width=\"24px\">\n",
              "    <path d=\"M0 0h24v24H0V0z\" fill=\"none\"/>\n",
              "    <path d=\"M18.56 5.44l.94 2.06.94-2.06 2.06-.94-2.06-.94-.94-2.06-.94 2.06-2.06.94zm-11 1L8.5 8.5l.94-2.06 2.06-.94-2.06-.94L8.5 2.5l-.94 2.06-2.06.94zm10 10l.94 2.06.94-2.06 2.06-.94-2.06-.94-.94-2.06-.94 2.06-2.06.94z\"/><path d=\"M17.41 7.96l-1.37-1.37c-.4-.4-.92-.59-1.43-.59-.52 0-1.04.2-1.43.59L10.3 9.45l-7.72 7.72c-.78.78-.78 2.05 0 2.83L4 21.41c.39.39.9.59 1.41.59.51 0 1.02-.2 1.41-.59l7.78-7.78 2.81-2.81c.8-.78.8-2.07 0-2.86zM5.41 20L4 18.59l7.72-7.72 1.47 1.35L5.41 20z\"/>\n",
              "  </svg>\n",
              "      </button>\n",
              "      \n",
              "  <style>\n",
              "    .colab-df-container {\n",
              "      display:flex;\n",
              "      flex-wrap:wrap;\n",
              "      gap: 12px;\n",
              "    }\n",
              "\n",
              "    .colab-df-convert {\n",
              "      background-color: #E8F0FE;\n",
              "      border: none;\n",
              "      border-radius: 50%;\n",
              "      cursor: pointer;\n",
              "      display: none;\n",
              "      fill: #1967D2;\n",
              "      height: 32px;\n",
              "      padding: 0 0 0 0;\n",
              "      width: 32px;\n",
              "    }\n",
              "\n",
              "    .colab-df-convert:hover {\n",
              "      background-color: #E2EBFA;\n",
              "      box-shadow: 0px 1px 2px rgba(60, 64, 67, 0.3), 0px 1px 3px 1px rgba(60, 64, 67, 0.15);\n",
              "      fill: #174EA6;\n",
              "    }\n",
              "\n",
              "    [theme=dark] .colab-df-convert {\n",
              "      background-color: #3B4455;\n",
              "      fill: #D2E3FC;\n",
              "    }\n",
              "\n",
              "    [theme=dark] .colab-df-convert:hover {\n",
              "      background-color: #434B5C;\n",
              "      box-shadow: 0px 1px 3px 1px rgba(0, 0, 0, 0.15);\n",
              "      filter: drop-shadow(0px 1px 2px rgba(0, 0, 0, 0.3));\n",
              "      fill: #FFFFFF;\n",
              "    }\n",
              "  </style>\n",
              "\n",
              "      <script>\n",
              "        const buttonEl =\n",
              "          document.querySelector('#df-7553baab-3e1f-4964-87b8-c64f47987da8 button.colab-df-convert');\n",
              "        buttonEl.style.display =\n",
              "          google.colab.kernel.accessAllowed ? 'block' : 'none';\n",
              "\n",
              "        async function convertToInteractive(key) {\n",
              "          const element = document.querySelector('#df-7553baab-3e1f-4964-87b8-c64f47987da8');\n",
              "          const dataTable =\n",
              "            await google.colab.kernel.invokeFunction('convertToInteractive',\n",
              "                                                     [key], {});\n",
              "          if (!dataTable) return;\n",
              "\n",
              "          const docLinkHtml = 'Like what you see? Visit the ' +\n",
              "            '<a target=\"_blank\" href=https://colab.research.google.com/notebooks/data_table.ipynb>data table notebook</a>'\n",
              "            + ' to learn more about interactive tables.';\n",
              "          element.innerHTML = '';\n",
              "          dataTable['output_type'] = 'display_data';\n",
              "          await google.colab.output.renderOutput(dataTable, element);\n",
              "          const docLink = document.createElement('div');\n",
              "          docLink.innerHTML = docLinkHtml;\n",
              "          element.appendChild(docLink);\n",
              "        }\n",
              "      </script>\n",
              "    </div>\n",
              "  </div>\n",
              "  "
            ],
            "text/plain": [
              "    Retrasos  Neuronas LSTM  LSTM Layers  Batch size           MSE         MAE\n",
              "0         22            100            3         150  27448.485661  127.664193\n",
              "1         24             50            1          50  29406.767794  134.189210\n",
              "2         24             50            2          50  28433.327270  128.908604\n",
              "3         24             50            3          50  27089.035656  126.982638\n",
              "4         24             50            1         100  26105.027145  126.919635\n",
              "5         24             50            2         100  24762.416155  121.013176\n",
              "6         24             50            3         100  24697.296835  121.064162\n",
              "7         24             50            1         150  28665.541117  129.791525\n",
              "8         24             50            2         150  29615.846950  132.391590\n",
              "9         24             50            3         150  24747.374915  122.211768\n",
              "10        24             75            1          50  26924.075392  125.399478\n",
              "11        24             75            2          50  27111.361548  127.719022\n",
              "12        24             75            3          50  25262.239480  122.536430\n",
              "13        24             75            1         100  26256.759006  123.569673\n",
              "14        24             75            2         100  24528.999392  120.232771\n",
              "15        24             75            3         100  27241.080230  127.383659\n",
              "16        24             75            1         150  25611.632599  122.710129\n",
              "17        24             75            2         150  24775.119249  122.225254\n",
              "18        24             75            3         150  28090.727702  130.065091\n",
              "19        24            100            1          50  23986.621583  119.348837\n",
              "20        24            100            2          50  24958.655047  121.011064\n",
              "21        24            100            3          50  27354.823250  127.345030\n",
              "22        24            100            1         100  24375.725434  119.431328\n",
              "23        24            100            2         100  24081.068026  119.449035\n",
              "24        24            100            3         100  25669.856754  124.085645\n",
              "25        24            100            1         150  27161.019932  128.987377\n",
              "26        24            100            2         150  24840.064499  120.295463\n",
              "27        24            100            3         150  27410.274080  128.426604"
            ]
          },
          "metadata": {},
          "execution_count": 29
        }
      ],
      "source": [
        "df_resultados_actuales"
      ]
    },
    {
      "cell_type": "code",
      "execution_count": null,
      "metadata": {
        "id": "KNXPN-K24eGh"
      },
      "outputs": [],
      "source": [
        "df_resultados = pd.concat([df_resultados,df_resultados_actuales],ignore_index=True)"
      ]
    },
    {
      "cell_type": "code",
      "execution_count": null,
      "metadata": {
        "colab": {
          "base_uri": "https://localhost:8080/",
          "height": 423
        },
        "id": "OUvNmnTdgFAj",
        "outputId": "1574b05c-e549-4f3e-f91d-3a7f37b0e9d8"
      },
      "outputs": [
        {
          "output_type": "execute_result",
          "data": {
            "text/html": [
              "\n",
              "  <div id=\"df-4d254c4d-730b-4d55-bff5-59578b57557d\">\n",
              "    <div class=\"colab-df-container\">\n",
              "      <div>\n",
              "<style scoped>\n",
              "    .dataframe tbody tr th:only-of-type {\n",
              "        vertical-align: middle;\n",
              "    }\n",
              "\n",
              "    .dataframe tbody tr th {\n",
              "        vertical-align: top;\n",
              "    }\n",
              "\n",
              "    .dataframe thead th {\n",
              "        text-align: right;\n",
              "    }\n",
              "</style>\n",
              "<table border=\"1\" class=\"dataframe\">\n",
              "  <thead>\n",
              "    <tr style=\"text-align: right;\">\n",
              "      <th></th>\n",
              "      <th>Retrasos</th>\n",
              "      <th>Neuronas LSTM</th>\n",
              "      <th>LSTM Layers</th>\n",
              "      <th>Batch size</th>\n",
              "      <th>MSE</th>\n",
              "      <th>MAE</th>\n",
              "    </tr>\n",
              "  </thead>\n",
              "  <tbody>\n",
              "    <tr>\n",
              "      <th>0</th>\n",
              "      <td>18</td>\n",
              "      <td>50</td>\n",
              "      <td>1</td>\n",
              "      <td>50</td>\n",
              "      <td>24646.745624</td>\n",
              "      <td>121.936820</td>\n",
              "    </tr>\n",
              "    <tr>\n",
              "      <th>1</th>\n",
              "      <td>18</td>\n",
              "      <td>50</td>\n",
              "      <td>2</td>\n",
              "      <td>50</td>\n",
              "      <td>28719.220335</td>\n",
              "      <td>130.283618</td>\n",
              "    </tr>\n",
              "    <tr>\n",
              "      <th>2</th>\n",
              "      <td>18</td>\n",
              "      <td>50</td>\n",
              "      <td>3</td>\n",
              "      <td>50</td>\n",
              "      <td>25159.944969</td>\n",
              "      <td>122.537291</td>\n",
              "    </tr>\n",
              "    <tr>\n",
              "      <th>3</th>\n",
              "      <td>18</td>\n",
              "      <td>50</td>\n",
              "      <td>1</td>\n",
              "      <td>100</td>\n",
              "      <td>25169.437996</td>\n",
              "      <td>122.810510</td>\n",
              "    </tr>\n",
              "    <tr>\n",
              "      <th>4</th>\n",
              "      <td>18</td>\n",
              "      <td>50</td>\n",
              "      <td>2</td>\n",
              "      <td>100</td>\n",
              "      <td>26289.117672</td>\n",
              "      <td>124.375672</td>\n",
              "    </tr>\n",
              "    <tr>\n",
              "      <th>...</th>\n",
              "      <td>...</td>\n",
              "      <td>...</td>\n",
              "      <td>...</td>\n",
              "      <td>...</td>\n",
              "      <td>...</td>\n",
              "      <td>...</td>\n",
              "    </tr>\n",
              "    <tr>\n",
              "      <th>103</th>\n",
              "      <td>24</td>\n",
              "      <td>100</td>\n",
              "      <td>2</td>\n",
              "      <td>100</td>\n",
              "      <td>24081.068026</td>\n",
              "      <td>119.449035</td>\n",
              "    </tr>\n",
              "    <tr>\n",
              "      <th>104</th>\n",
              "      <td>24</td>\n",
              "      <td>100</td>\n",
              "      <td>3</td>\n",
              "      <td>100</td>\n",
              "      <td>25669.856754</td>\n",
              "      <td>124.085645</td>\n",
              "    </tr>\n",
              "    <tr>\n",
              "      <th>105</th>\n",
              "      <td>24</td>\n",
              "      <td>100</td>\n",
              "      <td>1</td>\n",
              "      <td>150</td>\n",
              "      <td>27161.019932</td>\n",
              "      <td>128.987377</td>\n",
              "    </tr>\n",
              "    <tr>\n",
              "      <th>106</th>\n",
              "      <td>24</td>\n",
              "      <td>100</td>\n",
              "      <td>2</td>\n",
              "      <td>150</td>\n",
              "      <td>24840.064499</td>\n",
              "      <td>120.295463</td>\n",
              "    </tr>\n",
              "    <tr>\n",
              "      <th>107</th>\n",
              "      <td>24</td>\n",
              "      <td>100</td>\n",
              "      <td>3</td>\n",
              "      <td>150</td>\n",
              "      <td>27410.274080</td>\n",
              "      <td>128.426604</td>\n",
              "    </tr>\n",
              "  </tbody>\n",
              "</table>\n",
              "<p>108 rows × 6 columns</p>\n",
              "</div>\n",
              "      <button class=\"colab-df-convert\" onclick=\"convertToInteractive('df-4d254c4d-730b-4d55-bff5-59578b57557d')\"\n",
              "              title=\"Convert this dataframe to an interactive table.\"\n",
              "              style=\"display:none;\">\n",
              "        \n",
              "  <svg xmlns=\"http://www.w3.org/2000/svg\" height=\"24px\"viewBox=\"0 0 24 24\"\n",
              "       width=\"24px\">\n",
              "    <path d=\"M0 0h24v24H0V0z\" fill=\"none\"/>\n",
              "    <path d=\"M18.56 5.44l.94 2.06.94-2.06 2.06-.94-2.06-.94-.94-2.06-.94 2.06-2.06.94zm-11 1L8.5 8.5l.94-2.06 2.06-.94-2.06-.94L8.5 2.5l-.94 2.06-2.06.94zm10 10l.94 2.06.94-2.06 2.06-.94-2.06-.94-.94-2.06-.94 2.06-2.06.94z\"/><path d=\"M17.41 7.96l-1.37-1.37c-.4-.4-.92-.59-1.43-.59-.52 0-1.04.2-1.43.59L10.3 9.45l-7.72 7.72c-.78.78-.78 2.05 0 2.83L4 21.41c.39.39.9.59 1.41.59.51 0 1.02-.2 1.41-.59l7.78-7.78 2.81-2.81c.8-.78.8-2.07 0-2.86zM5.41 20L4 18.59l7.72-7.72 1.47 1.35L5.41 20z\"/>\n",
              "  </svg>\n",
              "      </button>\n",
              "      \n",
              "  <style>\n",
              "    .colab-df-container {\n",
              "      display:flex;\n",
              "      flex-wrap:wrap;\n",
              "      gap: 12px;\n",
              "    }\n",
              "\n",
              "    .colab-df-convert {\n",
              "      background-color: #E8F0FE;\n",
              "      border: none;\n",
              "      border-radius: 50%;\n",
              "      cursor: pointer;\n",
              "      display: none;\n",
              "      fill: #1967D2;\n",
              "      height: 32px;\n",
              "      padding: 0 0 0 0;\n",
              "      width: 32px;\n",
              "    }\n",
              "\n",
              "    .colab-df-convert:hover {\n",
              "      background-color: #E2EBFA;\n",
              "      box-shadow: 0px 1px 2px rgba(60, 64, 67, 0.3), 0px 1px 3px 1px rgba(60, 64, 67, 0.15);\n",
              "      fill: #174EA6;\n",
              "    }\n",
              "\n",
              "    [theme=dark] .colab-df-convert {\n",
              "      background-color: #3B4455;\n",
              "      fill: #D2E3FC;\n",
              "    }\n",
              "\n",
              "    [theme=dark] .colab-df-convert:hover {\n",
              "      background-color: #434B5C;\n",
              "      box-shadow: 0px 1px 3px 1px rgba(0, 0, 0, 0.15);\n",
              "      filter: drop-shadow(0px 1px 2px rgba(0, 0, 0, 0.3));\n",
              "      fill: #FFFFFF;\n",
              "    }\n",
              "  </style>\n",
              "\n",
              "      <script>\n",
              "        const buttonEl =\n",
              "          document.querySelector('#df-4d254c4d-730b-4d55-bff5-59578b57557d button.colab-df-convert');\n",
              "        buttonEl.style.display =\n",
              "          google.colab.kernel.accessAllowed ? 'block' : 'none';\n",
              "\n",
              "        async function convertToInteractive(key) {\n",
              "          const element = document.querySelector('#df-4d254c4d-730b-4d55-bff5-59578b57557d');\n",
              "          const dataTable =\n",
              "            await google.colab.kernel.invokeFunction('convertToInteractive',\n",
              "                                                     [key], {});\n",
              "          if (!dataTable) return;\n",
              "\n",
              "          const docLinkHtml = 'Like what you see? Visit the ' +\n",
              "            '<a target=\"_blank\" href=https://colab.research.google.com/notebooks/data_table.ipynb>data table notebook</a>'\n",
              "            + ' to learn more about interactive tables.';\n",
              "          element.innerHTML = '';\n",
              "          dataTable['output_type'] = 'display_data';\n",
              "          await google.colab.output.renderOutput(dataTable, element);\n",
              "          const docLink = document.createElement('div');\n",
              "          docLink.innerHTML = docLinkHtml;\n",
              "          element.appendChild(docLink);\n",
              "        }\n",
              "      </script>\n",
              "    </div>\n",
              "  </div>\n",
              "  "
            ],
            "text/plain": [
              "     Retrasos  Neuronas LSTM  LSTM Layers  Batch size           MSE         MAE\n",
              "0          18             50            1          50  24646.745624  121.936820\n",
              "1          18             50            2          50  28719.220335  130.283618\n",
              "2          18             50            3          50  25159.944969  122.537291\n",
              "3          18             50            1         100  25169.437996  122.810510\n",
              "4          18             50            2         100  26289.117672  124.375672\n",
              "..        ...            ...          ...         ...           ...         ...\n",
              "103        24            100            2         100  24081.068026  119.449035\n",
              "104        24            100            3         100  25669.856754  124.085645\n",
              "105        24            100            1         150  27161.019932  128.987377\n",
              "106        24            100            2         150  24840.064499  120.295463\n",
              "107        24            100            3         150  27410.274080  128.426604\n",
              "\n",
              "[108 rows x 6 columns]"
            ]
          },
          "metadata": {},
          "execution_count": 31
        }
      ],
      "source": [
        "df_resultados"
      ]
    },
    {
      "cell_type": "code",
      "execution_count": null,
      "metadata": {
        "colab": {
          "base_uri": "https://localhost:8080/",
          "height": 81
        },
        "id": "mfPZxrhMr8ij",
        "outputId": "cf15a450-9290-4a2a-b143-773d115192e3"
      },
      "outputs": [
        {
          "output_type": "execute_result",
          "data": {
            "text/html": [
              "\n",
              "  <div id=\"df-c2ae9ae7-b248-4c52-a4ea-940057c6becf\">\n",
              "    <div class=\"colab-df-container\">\n",
              "      <div>\n",
              "<style scoped>\n",
              "    .dataframe tbody tr th:only-of-type {\n",
              "        vertical-align: middle;\n",
              "    }\n",
              "\n",
              "    .dataframe tbody tr th {\n",
              "        vertical-align: top;\n",
              "    }\n",
              "\n",
              "    .dataframe thead th {\n",
              "        text-align: right;\n",
              "    }\n",
              "</style>\n",
              "<table border=\"1\" class=\"dataframe\">\n",
              "  <thead>\n",
              "    <tr style=\"text-align: right;\">\n",
              "      <th></th>\n",
              "      <th>Retrasos</th>\n",
              "      <th>Neuronas LSTM</th>\n",
              "      <th>LSTM Layers</th>\n",
              "      <th>Batch size</th>\n",
              "      <th>MSE</th>\n",
              "      <th>MAE</th>\n",
              "    </tr>\n",
              "  </thead>\n",
              "  <tbody>\n",
              "    <tr>\n",
              "      <th>39</th>\n",
              "      <td>20</td>\n",
              "      <td>75</td>\n",
              "      <td>1</td>\n",
              "      <td>100</td>\n",
              "      <td>24078.177209</td>\n",
              "      <td>118.81519</td>\n",
              "    </tr>\n",
              "  </tbody>\n",
              "</table>\n",
              "</div>\n",
              "      <button class=\"colab-df-convert\" onclick=\"convertToInteractive('df-c2ae9ae7-b248-4c52-a4ea-940057c6becf')\"\n",
              "              title=\"Convert this dataframe to an interactive table.\"\n",
              "              style=\"display:none;\">\n",
              "        \n",
              "  <svg xmlns=\"http://www.w3.org/2000/svg\" height=\"24px\"viewBox=\"0 0 24 24\"\n",
              "       width=\"24px\">\n",
              "    <path d=\"M0 0h24v24H0V0z\" fill=\"none\"/>\n",
              "    <path d=\"M18.56 5.44l.94 2.06.94-2.06 2.06-.94-2.06-.94-.94-2.06-.94 2.06-2.06.94zm-11 1L8.5 8.5l.94-2.06 2.06-.94-2.06-.94L8.5 2.5l-.94 2.06-2.06.94zm10 10l.94 2.06.94-2.06 2.06-.94-2.06-.94-.94-2.06-.94 2.06-2.06.94z\"/><path d=\"M17.41 7.96l-1.37-1.37c-.4-.4-.92-.59-1.43-.59-.52 0-1.04.2-1.43.59L10.3 9.45l-7.72 7.72c-.78.78-.78 2.05 0 2.83L4 21.41c.39.39.9.59 1.41.59.51 0 1.02-.2 1.41-.59l7.78-7.78 2.81-2.81c.8-.78.8-2.07 0-2.86zM5.41 20L4 18.59l7.72-7.72 1.47 1.35L5.41 20z\"/>\n",
              "  </svg>\n",
              "      </button>\n",
              "      \n",
              "  <style>\n",
              "    .colab-df-container {\n",
              "      display:flex;\n",
              "      flex-wrap:wrap;\n",
              "      gap: 12px;\n",
              "    }\n",
              "\n",
              "    .colab-df-convert {\n",
              "      background-color: #E8F0FE;\n",
              "      border: none;\n",
              "      border-radius: 50%;\n",
              "      cursor: pointer;\n",
              "      display: none;\n",
              "      fill: #1967D2;\n",
              "      height: 32px;\n",
              "      padding: 0 0 0 0;\n",
              "      width: 32px;\n",
              "    }\n",
              "\n",
              "    .colab-df-convert:hover {\n",
              "      background-color: #E2EBFA;\n",
              "      box-shadow: 0px 1px 2px rgba(60, 64, 67, 0.3), 0px 1px 3px 1px rgba(60, 64, 67, 0.15);\n",
              "      fill: #174EA6;\n",
              "    }\n",
              "\n",
              "    [theme=dark] .colab-df-convert {\n",
              "      background-color: #3B4455;\n",
              "      fill: #D2E3FC;\n",
              "    }\n",
              "\n",
              "    [theme=dark] .colab-df-convert:hover {\n",
              "      background-color: #434B5C;\n",
              "      box-shadow: 0px 1px 3px 1px rgba(0, 0, 0, 0.15);\n",
              "      filter: drop-shadow(0px 1px 2px rgba(0, 0, 0, 0.3));\n",
              "      fill: #FFFFFF;\n",
              "    }\n",
              "  </style>\n",
              "\n",
              "      <script>\n",
              "        const buttonEl =\n",
              "          document.querySelector('#df-c2ae9ae7-b248-4c52-a4ea-940057c6becf button.colab-df-convert');\n",
              "        buttonEl.style.display =\n",
              "          google.colab.kernel.accessAllowed ? 'block' : 'none';\n",
              "\n",
              "        async function convertToInteractive(key) {\n",
              "          const element = document.querySelector('#df-c2ae9ae7-b248-4c52-a4ea-940057c6becf');\n",
              "          const dataTable =\n",
              "            await google.colab.kernel.invokeFunction('convertToInteractive',\n",
              "                                                     [key], {});\n",
              "          if (!dataTable) return;\n",
              "\n",
              "          const docLinkHtml = 'Like what you see? Visit the ' +\n",
              "            '<a target=\"_blank\" href=https://colab.research.google.com/notebooks/data_table.ipynb>data table notebook</a>'\n",
              "            + ' to learn more about interactive tables.';\n",
              "          element.innerHTML = '';\n",
              "          dataTable['output_type'] = 'display_data';\n",
              "          await google.colab.output.renderOutput(dataTable, element);\n",
              "          const docLink = document.createElement('div');\n",
              "          docLink.innerHTML = docLinkHtml;\n",
              "          element.appendChild(docLink);\n",
              "        }\n",
              "      </script>\n",
              "    </div>\n",
              "  </div>\n",
              "  "
            ],
            "text/plain": [
              "    Retrasos  Neuronas LSTM  LSTM Layers  Batch size           MSE        MAE\n",
              "39        20             75            1         100  24078.177209  118.81519"
            ]
          },
          "metadata": {},
          "execution_count": 32
        }
      ],
      "source": [
        "df_resultados[df_resultados['MAE'] == df_resultados['MAE'].min()]"
      ]
    },
    {
      "cell_type": "code",
      "source": [
        "df_resultados[df_resultados['MSE'] == df_resultados['MSE'].min()]"
      ],
      "metadata": {
        "colab": {
          "base_uri": "https://localhost:8080/",
          "height": 81
        },
        "id": "rwkHKATbbWH3",
        "outputId": "676f49e6-cf1d-4899-990c-a1fff02f1234"
      },
      "execution_count": null,
      "outputs": [
        {
          "output_type": "execute_result",
          "data": {
            "text/html": [
              "\n",
              "  <div id=\"df-99b37781-7067-41e6-bea8-cae2e72df6fc\">\n",
              "    <div class=\"colab-df-container\">\n",
              "      <div>\n",
              "<style scoped>\n",
              "    .dataframe tbody tr th:only-of-type {\n",
              "        vertical-align: middle;\n",
              "    }\n",
              "\n",
              "    .dataframe tbody tr th {\n",
              "        vertical-align: top;\n",
              "    }\n",
              "\n",
              "    .dataframe thead th {\n",
              "        text-align: right;\n",
              "    }\n",
              "</style>\n",
              "<table border=\"1\" class=\"dataframe\">\n",
              "  <thead>\n",
              "    <tr style=\"text-align: right;\">\n",
              "      <th></th>\n",
              "      <th>Retrasos</th>\n",
              "      <th>Neuronas LSTM</th>\n",
              "      <th>LSTM Layers</th>\n",
              "      <th>Batch size</th>\n",
              "      <th>MSE</th>\n",
              "      <th>MAE</th>\n",
              "    </tr>\n",
              "  </thead>\n",
              "  <tbody>\n",
              "    <tr>\n",
              "      <th>99</th>\n",
              "      <td>24</td>\n",
              "      <td>100</td>\n",
              "      <td>1</td>\n",
              "      <td>50</td>\n",
              "      <td>23986.621583</td>\n",
              "      <td>119.348837</td>\n",
              "    </tr>\n",
              "  </tbody>\n",
              "</table>\n",
              "</div>\n",
              "      <button class=\"colab-df-convert\" onclick=\"convertToInteractive('df-99b37781-7067-41e6-bea8-cae2e72df6fc')\"\n",
              "              title=\"Convert this dataframe to an interactive table.\"\n",
              "              style=\"display:none;\">\n",
              "        \n",
              "  <svg xmlns=\"http://www.w3.org/2000/svg\" height=\"24px\"viewBox=\"0 0 24 24\"\n",
              "       width=\"24px\">\n",
              "    <path d=\"M0 0h24v24H0V0z\" fill=\"none\"/>\n",
              "    <path d=\"M18.56 5.44l.94 2.06.94-2.06 2.06-.94-2.06-.94-.94-2.06-.94 2.06-2.06.94zm-11 1L8.5 8.5l.94-2.06 2.06-.94-2.06-.94L8.5 2.5l-.94 2.06-2.06.94zm10 10l.94 2.06.94-2.06 2.06-.94-2.06-.94-.94-2.06-.94 2.06-2.06.94z\"/><path d=\"M17.41 7.96l-1.37-1.37c-.4-.4-.92-.59-1.43-.59-.52 0-1.04.2-1.43.59L10.3 9.45l-7.72 7.72c-.78.78-.78 2.05 0 2.83L4 21.41c.39.39.9.59 1.41.59.51 0 1.02-.2 1.41-.59l7.78-7.78 2.81-2.81c.8-.78.8-2.07 0-2.86zM5.41 20L4 18.59l7.72-7.72 1.47 1.35L5.41 20z\"/>\n",
              "  </svg>\n",
              "      </button>\n",
              "      \n",
              "  <style>\n",
              "    .colab-df-container {\n",
              "      display:flex;\n",
              "      flex-wrap:wrap;\n",
              "      gap: 12px;\n",
              "    }\n",
              "\n",
              "    .colab-df-convert {\n",
              "      background-color: #E8F0FE;\n",
              "      border: none;\n",
              "      border-radius: 50%;\n",
              "      cursor: pointer;\n",
              "      display: none;\n",
              "      fill: #1967D2;\n",
              "      height: 32px;\n",
              "      padding: 0 0 0 0;\n",
              "      width: 32px;\n",
              "    }\n",
              "\n",
              "    .colab-df-convert:hover {\n",
              "      background-color: #E2EBFA;\n",
              "      box-shadow: 0px 1px 2px rgba(60, 64, 67, 0.3), 0px 1px 3px 1px rgba(60, 64, 67, 0.15);\n",
              "      fill: #174EA6;\n",
              "    }\n",
              "\n",
              "    [theme=dark] .colab-df-convert {\n",
              "      background-color: #3B4455;\n",
              "      fill: #D2E3FC;\n",
              "    }\n",
              "\n",
              "    [theme=dark] .colab-df-convert:hover {\n",
              "      background-color: #434B5C;\n",
              "      box-shadow: 0px 1px 3px 1px rgba(0, 0, 0, 0.15);\n",
              "      filter: drop-shadow(0px 1px 2px rgba(0, 0, 0, 0.3));\n",
              "      fill: #FFFFFF;\n",
              "    }\n",
              "  </style>\n",
              "\n",
              "      <script>\n",
              "        const buttonEl =\n",
              "          document.querySelector('#df-99b37781-7067-41e6-bea8-cae2e72df6fc button.colab-df-convert');\n",
              "        buttonEl.style.display =\n",
              "          google.colab.kernel.accessAllowed ? 'block' : 'none';\n",
              "\n",
              "        async function convertToInteractive(key) {\n",
              "          const element = document.querySelector('#df-99b37781-7067-41e6-bea8-cae2e72df6fc');\n",
              "          const dataTable =\n",
              "            await google.colab.kernel.invokeFunction('convertToInteractive',\n",
              "                                                     [key], {});\n",
              "          if (!dataTable) return;\n",
              "\n",
              "          const docLinkHtml = 'Like what you see? Visit the ' +\n",
              "            '<a target=\"_blank\" href=https://colab.research.google.com/notebooks/data_table.ipynb>data table notebook</a>'\n",
              "            + ' to learn more about interactive tables.';\n",
              "          element.innerHTML = '';\n",
              "          dataTable['output_type'] = 'display_data';\n",
              "          await google.colab.output.renderOutput(dataTable, element);\n",
              "          const docLink = document.createElement('div');\n",
              "          docLink.innerHTML = docLinkHtml;\n",
              "          element.appendChild(docLink);\n",
              "        }\n",
              "      </script>\n",
              "    </div>\n",
              "  </div>\n",
              "  "
            ],
            "text/plain": [
              "    Retrasos  Neuronas LSTM  LSTM Layers  Batch size           MSE         MAE\n",
              "99        24            100            1          50  23986.621583  119.348837"
            ]
          },
          "metadata": {},
          "execution_count": 34
        }
      ]
    },
    {
      "cell_type": "code",
      "execution_count": null,
      "metadata": {
        "id": "s9YbwWlb4BX5"
      },
      "outputs": [],
      "source": [
        "df_resultados.to_csv('./drive/MyDrive/DatosInvestigacion/lstm_multivariado_resultados.csv',index=False)"
      ]
    },
    {
      "cell_type": "code",
      "execution_count": null,
      "metadata": {
        "id": "wXEj9mZ7Cn8f"
      },
      "outputs": [],
      "source": [
        "import seaborn as sns"
      ]
    },
    {
      "cell_type": "code",
      "source": [
        "sns.set(rc={\"figure.figsize\":(10, 5)})\n",
        "sns.lineplot(data=df_resultados, x='Retrasos', y='MAE',hue='LSTM Layers',palette='tab10',err_style=\"bars\", ci=0, estimator=np.min)"
      ],
      "metadata": {
        "colab": {
          "base_uri": "https://localhost:8080/",
          "height": 356
        },
        "id": "Get8coSqbqTq",
        "outputId": "d4e2eec0-5f9e-4e96-d4e5-d16683652685"
      },
      "execution_count": null,
      "outputs": [
        {
          "output_type": "execute_result",
          "data": {
            "text/plain": [
              "<matplotlib.axes._subplots.AxesSubplot at 0x7fcb448a4cd0>"
            ]
          },
          "metadata": {},
          "execution_count": 36
        },
        {
          "output_type": "display_data",
          "data": {
            "image/png": "[encoded data removed]",
            "text/plain": [
              "<Figure size 720x360 with 1 Axes>"
            ]
          },
          "metadata": {}
        }
      ]
    },
    {
      "cell_type": "code",
      "source": [
        "sns.set(rc={\"figure.figsize\":(10, 5)})\n",
        "sns.lineplot(data=df_resultados, x='Retrasos', y='MSE',hue='LSTM Layers',palette='tab10',ci=0, estimator=np.min)"
      ],
      "metadata": {
        "colab": {
          "base_uri": "https://localhost:8080/",
          "height": 356
        },
        "id": "j_YImGsubuLC",
        "outputId": "16148008-ebc1-4d6a-b93b-9150d66d8ca8"
      },
      "execution_count": null,
      "outputs": [
        {
          "output_type": "execute_result",
          "data": {
            "text/plain": [
              "<matplotlib.axes._subplots.AxesSubplot at 0x7fcb46056b50>"
            ]
          },
          "metadata": {},
          "execution_count": 40
        },
        {
          "output_type": "display_data",
          "data": {
            "image/png": "[encoded data removed]",
            "text/plain": [
              "<Figure size 720x360 with 1 Axes>"
            ]
          },
          "metadata": {}
        }
      ]
    },
    {
      "cell_type": "markdown",
      "source": [
        "## Número de neruonas"
      ],
      "metadata": {
        "id": "ql9E-2r5cK9H"
      }
    },
    {
      "cell_type": "code",
      "source": [
        "sns.set(rc={\"figure.figsize\":(10, 5)})\n",
        "sns.lineplot(data=df_resultados, x='Neuronas LSTM', y='MAE',hue='LSTM Layers',palette='tab10', ci=0, estimator=np.min)"
      ],
      "metadata": {
        "colab": {
          "base_uri": "https://localhost:8080/",
          "height": 356
        },
        "id": "CfHKgYHzb0qK",
        "outputId": "1705df12-8724-4f62-c98e-35cf3d8274e3"
      },
      "execution_count": null,
      "outputs": [
        {
          "output_type": "execute_result",
          "data": {
            "text/plain": [
              "<matplotlib.axes._subplots.AxesSubplot at 0x7fcb464ebd90>"
            ]
          },
          "metadata": {},
          "execution_count": 39
        },
        {
          "output_type": "display_data",
          "data": {
            "image/png": "[encoded data removed]",
            "text/plain": [
              "<Figure size 720x360 with 1 Axes>"
            ]
          },
          "metadata": {}
        }
      ]
    },
    {
      "cell_type": "code",
      "source": [
        "sns.set(rc={\"figure.figsize\":(10, 5)})\n",
        "sns.lineplot(data=df_resultados, x='Neuronas LSTM', y='MSE',hue='LSTM Layers',palette='tab10', ci=0, estimator=np.min)"
      ],
      "metadata": {
        "colab": {
          "base_uri": "https://localhost:8080/",
          "height": 360
        },
        "id": "A599wpwAcNUt",
        "outputId": "ae079686-941a-4f96-8a75-29456eb9b5e0"
      },
      "execution_count": null,
      "outputs": [
        {
          "output_type": "execute_result",
          "data": {
            "text/plain": [
              "<matplotlib.axes._subplots.AxesSubplot at 0x7fcb46772050>"
            ]
          },
          "metadata": {},
          "execution_count": 41
        },
        {
          "output_type": "display_data",
          "data": {
            "image/png": "[encoded data removed]",
            "text/plain": [
              "<Figure size 720x360 with 1 Axes>"
            ]
          },
          "metadata": {}
        }
      ]
    },
    {
      "cell_type": "markdown",
      "source": [
        "### Batch size"
      ],
      "metadata": {
        "id": "QYTujf5uc00e"
      }
    },
    {
      "cell_type": "code",
      "source": [
        "sns.set(rc={\"figure.figsize\":(10, 5)})\n",
        "sns.lineplot(data=df_resultados, x='Batch size', y='MAE',hue='LSTM Layers',palette='tab10', ci=0, estimator=np.min)"
      ],
      "metadata": {
        "colab": {
          "base_uri": "https://localhost:8080/",
          "height": 356
        },
        "id": "ddioplerc8et",
        "outputId": "f6331ea9-fa57-4664-93fd-a33a468cd23d"
      },
      "execution_count": null,
      "outputs": [
        {
          "output_type": "execute_result",
          "data": {
            "text/plain": [
              "<matplotlib.axes._subplots.AxesSubplot at 0x7fcb439a7b90>"
            ]
          },
          "metadata": {},
          "execution_count": 43
        },
        {
          "output_type": "display_data",
          "data": {
            "image/png": "[encoded data removed]",
            "text/plain": [
              "<Figure size 720x360 with 1 Axes>"
            ]
          },
          "metadata": {}
        }
      ]
    },
    {
      "cell_type": "code",
      "source": [
        "sns.set(rc={\"figure.figsize\":(10, 5)})\n",
        "sns.lineplot(data=df_resultados, x='Batch size', y='MSE',hue='LSTM Layers',palette='tab10', ci=0, estimator=np.min)"
      ],
      "metadata": {
        "colab": {
          "base_uri": "https://localhost:8080/",
          "height": 356
        },
        "id": "Wx96En8jceK1",
        "outputId": "8fa54270-4962-4f59-fc09-5e6feeeffc6d"
      },
      "execution_count": null,
      "outputs": [
        {
          "output_type": "execute_result",
          "data": {
            "text/plain": [
              "<matplotlib.axes._subplots.AxesSubplot at 0x7fcb4602a950>"
            ]
          },
          "metadata": {},
          "execution_count": 42
        },
        {
          "output_type": "display_data",
          "data": {
            "image/png": "[encoded data removed]",
            "text/plain": [
              "<Figure size 720x360 with 1 Axes>"
            ]
          },
          "metadata": {}
        }
      ]
    },
    {
      "cell_type": "markdown",
      "source": [
        "## Conclusiones"
      ],
      "metadata": {
        "id": "dSKrwKdDeTar"
      }
    },
    {
      "cell_type": "markdown",
      "source": [
        "* Una capa LSTM obtiene mejores resultados\n",
        "* El mejor batch size se encuentra en 100\n",
        "* El mejor número de neuronas LSTM se encuentra entre 75 y 100, se elegirán 75 para tener un modelo menos complejo."
      ],
      "metadata": {
        "id": "_ntMY0N2eU-8"
      }
    },
    {
      "cell_type": "markdown",
      "source": [
        "## Probando el mejor modelo"
      ],
      "metadata": {
        "id": "fA6cR8bZes8L"
      }
    },
    {
      "cell_type": "code",
      "source": [
        "n_input = 20\n",
        "num_layers = 1\n",
        "batch_size = 100\n",
        "num_neuronas = 100\n",
        "n_output=1\n",
        "n_features=4"
      ],
      "metadata": {
        "id": "tpiRjkvWe7eV"
      },
      "execution_count": null,
      "outputs": []
    },
    {
      "cell_type": "code",
      "source": [
        "model = create_Model(n_input,LSTM_neurons=num_neuronas,layers=num_layers,n_features=n_features)"
      ],
      "metadata": {
        "id": "ScVo-Ud4c7ax"
      },
      "execution_count": null,
      "outputs": []
    },
    {
      "cell_type": "code",
      "source": [
        "generator = TimeseriesGenerator(scaled_train, scaled_train[:,0], length=n_input, batch_size=n_output)\n",
        "model.fit(generator,epochs=7,verbose=True,batch_size=batch_size)\n",
        "predictions = []\n",
        "for j in range(n_input,len(df_test)):\n",
        "  model_input = scaled_test[j-n_input:j]\n",
        "  model_input = model_input.reshape((1, n_input, n_features+1))\n",
        "  predictions.append(model.predict(model_input)[0])\n",
        "\n",
        "predictions = np.ndarray.flatten(np.array(predictions))  \n",
        "test_predictions =  np.zeros(shape=(len(predictions), 5))\n",
        "test_predictions[:,0] = predictions\n",
        "true_predictions = scaler.inverse_transform(test_predictions)\n",
        "rsg_predictions = true_predictions[:,0]\n",
        "true_values = np.ndarray.flatten(df_test.iloc[n_input:]['SRGLOAVG1H'].values)\n",
        "\n",
        "errorMSE = mean_squared_error(true_values,rsg_predictions)\n",
        "errorMAE = mean_absolute_error(true_values,rsg_predictions)"
      ],
      "metadata": {
        "colab": {
          "base_uri": "https://localhost:8080/"
        },
        "id": "QBmyEG-zfCV7",
        "outputId": "0d77dadc-9924-42c8-ee17-bd5307c9d468"
      },
      "execution_count": null,
      "outputs": [
        {
          "output_type": "stream",
          "name": "stdout",
          "text": [
            "Epoch 1/7\n",
            "5830/5830 [==============================] - 53s 8ms/step - loss: 0.0204\n",
            "Epoch 2/7\n",
            "5830/5830 [==============================] - 48s 8ms/step - loss: 0.0159\n",
            "Epoch 3/7\n",
            "5830/5830 [==============================] - 48s 8ms/step - loss: 0.0154\n",
            "Epoch 4/7\n",
            "5830/5830 [==============================] - 47s 8ms/step - loss: 0.0152\n",
            "Epoch 5/7\n",
            "5830/5830 [==============================] - 48s 8ms/step - loss: 0.0149\n",
            "Epoch 6/7\n",
            "5830/5830 [==============================] - 47s 8ms/step - loss: 0.0148\n",
            "Epoch 7/7\n",
            "5830/5830 [==============================] - 48s 8ms/step - loss: 0.0146\n"
          ]
        }
      ]
    },
    {
      "cell_type": "code",
      "source": [
        "errorMSE"
      ],
      "metadata": {
        "colab": {
          "base_uri": "https://localhost:8080/"
        },
        "id": "5g32DCOUfSsi",
        "outputId": "6c39f0f7-bda2-42b6-fc7d-3e3faf5c8501"
      },
      "execution_count": null,
      "outputs": [
        {
          "output_type": "execute_result",
          "data": {
            "text/plain": [
              "25220.772406707383"
            ]
          },
          "metadata": {},
          "execution_count": 38
        }
      ]
    },
    {
      "cell_type": "code",
      "source": [
        "errorMAE"
      ],
      "metadata": {
        "colab": {
          "base_uri": "https://localhost:8080/"
        },
        "id": "mcIw-qQzfSOz",
        "outputId": "e1888e05-4e0e-41da-825d-7c73b2bcfabe"
      },
      "execution_count": null,
      "outputs": [
        {
          "output_type": "execute_result",
          "data": {
            "text/plain": [
              "121.51117912750277"
            ]
          },
          "metadata": {},
          "execution_count": 39
        }
      ]
    },
    {
      "cell_type": "code",
      "source": [
        "model.save('./drive/MyDrive/DatosInvestigacion/RSG_multivariado_best_model.h5')"
      ],
      "metadata": {
        "id": "jxap9ohwfUtD"
      },
      "execution_count": null,
      "outputs": []
    },
    {
      "cell_type": "code",
      "source": [
        ""
      ],
      "metadata": {
        "id": "ImyOciIpfc1i"
      },
      "execution_count": null,
      "outputs": []
    }
  ],
  "metadata": {
    "colab": {
      "collapsed_sections": [],
      "name": "Udla11.ipynb",
      "provenance": []
    },
    "kernelspec": {
      "display_name": "Python 3",
      "name": "python3"
    },
    "language_info": {
      "name": "python"
    }
  },
  "nbformat": 4,
  "nbformat_minor": 0
}