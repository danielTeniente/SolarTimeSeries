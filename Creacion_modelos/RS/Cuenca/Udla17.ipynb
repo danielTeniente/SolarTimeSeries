{
 "cells": [
  {
   "cell_type": "markdown",
   "metadata": {
    "id": "LCzl4UOB2EeN"
   },
   "source": [
    "# Visualizando Predicciones de Cuenca"
   ]
  },
  {
   "cell_type": "markdown",
   "metadata": {},
   "source": [
    "Se importan las librerías"
   ]
  },
  {
   "cell_type": "code",
   "execution_count": 1,
   "metadata": {},
   "outputs": [],
   "source": [
    "import pandas as pd\n",
    "import matplotlib.pyplot as plt\n",
    "import numpy as np\n",
    "from sklearn.metrics import mean_squared_error\n",
    "from sklearn.metrics import mean_absolute_error\n",
    "from tensorflow import keras\n",
    "from keras.models import Sequential\n",
    "from keras.layers import Dense\n",
    "from keras.preprocessing.sequence import TimeseriesGenerator\n",
    "from keras.layers import LSTM"
   ]
  },
  {
   "cell_type": "markdown",
   "metadata": {
    "id": "KuwI3Y5H19Xb"
   },
   "source": [
    "Se importan los datos"
   ]
  },
  {
   "cell_type": "code",
   "execution_count": 48,
   "metadata": {},
   "outputs": [],
   "source": [
    "df = pd.read_csv('./final_train_2015.csv', index_col=0, parse_dates=True)\n",
    "df = df.asfreq('h')\n",
    "df = df.between_time('08:00:00','17:00:00')\n",
    "df = df[['SRGLOAVG1H','TAMAX1H','TAMIN1H','RHMIN1H','RHMAX1H']]"
   ]
  },
  {
   "cell_type": "code",
   "execution_count": 49,
   "metadata": {},
   "outputs": [],
   "source": [
    "df_test = pd.read_csv('./final_test_2015.csv', index_col=0, parse_dates=True)\n",
    "df_test = df_test.asfreq('h')\n",
    "df_test = df_test[['SRGLOAVG1H','TAMAX1H','TAMIN1H','RHMIN1H','RHMAX1H']]\n",
    "df_test = df_test.between_time('08:00:00','17:00:00')"
   ]
  },
  {
   "cell_type": "code",
   "execution_count": 50,
   "metadata": {},
   "outputs": [],
   "source": [
    "from sklearn.preprocessing import MinMaxScaler"
   ]
  },
  {
   "cell_type": "markdown",
   "metadata": {},
   "source": [
    "Se normalizan los datos,"
   ]
  },
  {
   "cell_type": "code",
   "execution_count": 51,
   "metadata": {},
   "outputs": [],
   "source": [
    "scaler = MinMaxScaler()\n",
    "scaler.fit(df)\n",
    "scaled_train = scaler.transform(df)\n",
    "scaled_test = scaler.transform(df_test)"
   ]
  },
  {
   "cell_type": "markdown",
   "metadata": {},
   "source": [
    "Se importan los mejores modelos"
   ]
  },
  {
   "cell_type": "code",
   "execution_count": 6,
   "metadata": {},
   "outputs": [],
   "source": [
    "best_univariado = keras.models.load_model('../../../Best_models/cuenca/LSTM_univariado_RS.h5')"
   ]
  },
  {
   "cell_type": "code",
   "execution_count": 7,
   "metadata": {},
   "outputs": [],
   "source": [
    "best_multivariado = keras.models.load_model('../../../Best_models/cuenca/LSTM_multivariado_RS.h5')"
   ]
  },
  {
   "cell_type": "markdown",
   "metadata": {},
   "source": [
    "Se establecen los coeficientes del modelo de referencia AR."
   ]
  },
  {
   "cell_type": "code",
   "execution_count": 8,
   "metadata": {},
   "outputs": [],
   "source": [
    "coef = [88.465247,\n",
    "                0.635393,-0.103026,0.043116,-0.032294,\n",
    "                -0.004597,-0.002247,-0.010747,0.021191,\n",
    "                0.111859,0.140868,0.000666,-0.033811,\n",
    "                -0.006970,-0.041583,-0.016905,-0.012530,\n",
    "                0.000388,0.007379,0.072742,0.063291,0.011766,\n",
    "                -0.066640]"
   ]
  },
  {
   "cell_type": "markdown",
   "metadata": {},
   "source": [
    "Se crea una función para aplicar la ecuación AR."
   ]
  },
  {
   "cell_type": "code",
   "execution_count": 9,
   "metadata": {},
   "outputs": [],
   "source": [
    "def get_pred(coef,data):\n",
    "    prediction = coef[0] # constante\n",
    "    # los datos se reciben en forma cronológica\n",
    "    j = 1\n",
    "    for i in range(len(data)-1,-1,-1):\n",
    "        prediction += coef[j] * data[i]\n",
    "        j+=1\n",
    "    return prediction"
   ]
  },
  {
   "cell_type": "markdown",
   "metadata": {},
   "source": [
    "## Predicciones"
   ]
  },
  {
   "cell_type": "markdown",
   "metadata": {},
   "source": [
    "**Modelo AR:** El modelo trabaja con 22 retrasos."
   ]
  },
  {
   "cell_type": "code",
   "execution_count": 17,
   "metadata": {},
   "outputs": [],
   "source": [
    "retrasos = 22"
   ]
  },
  {
   "cell_type": "code",
   "execution_count": 22,
   "metadata": {},
   "outputs": [],
   "source": [
    "RS = df_test['SRGLOAVG1H']"
   ]
  },
  {
   "cell_type": "code",
   "execution_count": 26,
   "metadata": {},
   "outputs": [],
   "source": [
    "predicciones_AR = []\n",
    "for i in range(retrasos,len(df_test)):\n",
    "    past_data = RS.iloc[i-retrasos:i].values\n",
    "    predicciones_AR.append(get_pred(coef,past_data))"
   ]
  },
  {
   "cell_type": "code",
   "execution_count": 28,
   "metadata": {},
   "outputs": [],
   "source": [
    "predicciones_AR = np.ndarray.flatten(np.array(predicciones_AR))"
   ]
  },
  {
   "cell_type": "code",
   "execution_count": 29,
   "metadata": {},
   "outputs": [
    {
     "data": {
      "text/plain": [
       "1438"
      ]
     },
     "execution_count": 29,
     "metadata": {},
     "output_type": "execute_result"
    }
   ],
   "source": [
    "len(predicciones_AR)"
   ]
  },
  {
   "cell_type": "code",
   "execution_count": 30,
   "metadata": {},
   "outputs": [],
   "source": [
    "real_data = df_test.iloc[retrasos:]['SRGLOAVG1H'].values"
   ]
  },
  {
   "cell_type": "code",
   "execution_count": 31,
   "metadata": {},
   "outputs": [
    {
     "data": {
      "text/plain": [
       "1438"
      ]
     },
     "execution_count": 31,
     "metadata": {},
     "output_type": "execute_result"
    }
   ],
   "source": [
    "len(real_data)"
   ]
  },
  {
   "cell_type": "code",
   "execution_count": 32,
   "metadata": {},
   "outputs": [],
   "source": [
    "df_predicciones = {\n",
    "    'Real Data':real_data,\n",
    "    'AR':predicciones_AR\n",
    "}"
   ]
  },
  {
   "cell_type": "code",
   "execution_count": 33,
   "metadata": {},
   "outputs": [],
   "source": [
    "df_predicciones = pd.DataFrame(df_predicciones)"
   ]
  },
  {
   "cell_type": "code",
   "execution_count": 36,
   "metadata": {},
   "outputs": [
    {
     "data": {
      "text/html": [
       "<div>\n",
       "<style scoped>\n",
       "    .dataframe tbody tr th:only-of-type {\n",
       "        vertical-align: middle;\n",
       "    }\n",
       "\n",
       "    .dataframe tbody tr th {\n",
       "        vertical-align: top;\n",
       "    }\n",
       "\n",
       "    .dataframe thead th {\n",
       "        text-align: right;\n",
       "    }\n",
       "</style>\n",
       "<table border=\"1\" class=\"dataframe\">\n",
       "  <thead>\n",
       "    <tr style=\"text-align: right;\">\n",
       "      <th></th>\n",
       "      <th>Real Data</th>\n",
       "      <th>AR</th>\n",
       "    </tr>\n",
       "  </thead>\n",
       "  <tbody>\n",
       "    <tr>\n",
       "      <th>0</th>\n",
       "      <td>376.0</td>\n",
       "      <td>522.985281</td>\n",
       "    </tr>\n",
       "    <tr>\n",
       "      <th>1</th>\n",
       "      <td>700.0</td>\n",
       "      <td>392.226992</td>\n",
       "    </tr>\n",
       "    <tr>\n",
       "      <th>2</th>\n",
       "      <td>665.0</td>\n",
       "      <td>644.237750</td>\n",
       "    </tr>\n",
       "    <tr>\n",
       "      <th>3</th>\n",
       "      <td>666.0</td>\n",
       "      <td>572.807753</td>\n",
       "    </tr>\n",
       "    <tr>\n",
       "      <th>4</th>\n",
       "      <td>687.0</td>\n",
       "      <td>607.491720</td>\n",
       "    </tr>\n",
       "  </tbody>\n",
       "</table>\n",
       "</div>"
      ],
      "text/plain": [
       "   Real Data          AR\n",
       "0      376.0  522.985281\n",
       "1      700.0  392.226992\n",
       "2      665.0  644.237750\n",
       "3      666.0  572.807753\n",
       "4      687.0  607.491720"
      ]
     },
     "execution_count": 36,
     "metadata": {},
     "output_type": "execute_result"
    }
   ],
   "source": [
    "df_predicciones.head()"
   ]
  },
  {
   "cell_type": "code",
   "execution_count": 39,
   "metadata": {},
   "outputs": [],
   "source": [
    "df_predicciones = df_predicciones.set_index(df_test.iloc[retrasos:].index)"
   ]
  },
  {
   "cell_type": "code",
   "execution_count": 42,
   "metadata": {},
   "outputs": [
    {
     "data": {
      "text/html": [
       "<div>\n",
       "<style scoped>\n",
       "    .dataframe tbody tr th:only-of-type {\n",
       "        vertical-align: middle;\n",
       "    }\n",
       "\n",
       "    .dataframe tbody tr th {\n",
       "        vertical-align: top;\n",
       "    }\n",
       "\n",
       "    .dataframe thead th {\n",
       "        text-align: right;\n",
       "    }\n",
       "</style>\n",
       "<table border=\"1\" class=\"dataframe\">\n",
       "  <thead>\n",
       "    <tr style=\"text-align: right;\">\n",
       "      <th></th>\n",
       "      <th>Real Data</th>\n",
       "      <th>AR</th>\n",
       "    </tr>\n",
       "    <tr>\n",
       "      <th>Local_Time</th>\n",
       "      <th></th>\n",
       "      <th></th>\n",
       "    </tr>\n",
       "  </thead>\n",
       "  <tbody>\n",
       "    <tr>\n",
       "      <th>2016-08-10 10:00:00</th>\n",
       "      <td>376.0</td>\n",
       "      <td>522.985281</td>\n",
       "    </tr>\n",
       "    <tr>\n",
       "      <th>2016-08-10 11:00:00</th>\n",
       "      <td>700.0</td>\n",
       "      <td>392.226992</td>\n",
       "    </tr>\n",
       "    <tr>\n",
       "      <th>2016-08-10 12:00:00</th>\n",
       "      <td>665.0</td>\n",
       "      <td>644.237750</td>\n",
       "    </tr>\n",
       "    <tr>\n",
       "      <th>2016-08-10 13:00:00</th>\n",
       "      <td>666.0</td>\n",
       "      <td>572.807753</td>\n",
       "    </tr>\n",
       "    <tr>\n",
       "      <th>2016-08-10 14:00:00</th>\n",
       "      <td>687.0</td>\n",
       "      <td>607.491720</td>\n",
       "    </tr>\n",
       "  </tbody>\n",
       "</table>\n",
       "</div>"
      ],
      "text/plain": [
       "                     Real Data          AR\n",
       "Local_Time                                \n",
       "2016-08-10 10:00:00      376.0  522.985281\n",
       "2016-08-10 11:00:00      700.0  392.226992\n",
       "2016-08-10 12:00:00      665.0  644.237750\n",
       "2016-08-10 13:00:00      666.0  572.807753\n",
       "2016-08-10 14:00:00      687.0  607.491720"
      ]
     },
     "execution_count": 42,
     "metadata": {},
     "output_type": "execute_result"
    }
   ],
   "source": [
    "df_predicciones.head()"
   ]
  },
  {
   "cell_type": "markdown",
   "metadata": {},
   "source": [
    "**Modelo LSTM univariado**: El modelo trabaja con 22 retrasos."
   ]
  },
  {
   "cell_type": "code",
   "execution_count": 77,
   "metadata": {},
   "outputs": [],
   "source": [
    "n_input = 22\n",
    "n_features = 0"
   ]
  },
  {
   "cell_type": "code",
   "execution_count": 75,
   "metadata": {},
   "outputs": [
    {
     "data": {
      "text/plain": [
       "array([[0.10439105, 0.38974359, 0.48166259, 0.86419753, 0.92857143],\n",
       "       [0.27091964, 0.54358974, 0.55501222, 0.66666667, 0.85714286],\n",
       "       [0.24275062, 0.53846154, 0.61858191, 0.62962963, 0.72857143]])"
      ]
     },
     "execution_count": 75,
     "metadata": {},
     "output_type": "execute_result"
    }
   ],
   "source": [
    "scaled_test[:3]"
   ]
  },
  {
   "cell_type": "code",
   "execution_count": 73,
   "metadata": {},
   "outputs": [],
   "source": [
    "RS = scaled_test[:,0]"
   ]
  },
  {
   "cell_type": "markdown",
   "metadata": {},
   "source": [
    "Se tienen sólo los datos de radiación solar"
   ]
  },
  {
   "cell_type": "code",
   "execution_count": 74,
   "metadata": {},
   "outputs": [
    {
     "data": {
      "text/plain": [
       "array([0.10439105, 0.27091964, 0.24275062, ..., 0.14581607, 0.15078708,\n",
       "       0.09362055])"
      ]
     },
     "execution_count": 74,
     "metadata": {},
     "output_type": "execute_result"
    }
   ],
   "source": [
    "RS"
   ]
  },
  {
   "cell_type": "code",
   "execution_count": 79,
   "metadata": {},
   "outputs": [],
   "source": [
    "predictions = []\n",
    "for j in range(n_input,len(RS)):\n",
    "    model_input = RS[j-n_input:j]\n",
    "    model_input = model_input.reshape((1, n_input, n_features+1))\n",
    "    predictions.append(best_univariado.predict(model_input)[0])\n",
    "predictions = np.ndarray.flatten(np.array(predictions)) "
   ]
  },
  {
   "cell_type": "code",
   "execution_count": 80,
   "metadata": {},
   "outputs": [
    {
     "data": {
      "text/plain": [
       "1438"
      ]
     },
     "execution_count": 80,
     "metadata": {},
     "output_type": "execute_result"
    }
   ],
   "source": [
    "len(predictions)"
   ]
  },
  {
   "cell_type": "code",
   "execution_count": 81,
   "metadata": {},
   "outputs": [],
   "source": [
    "test_predictions =  np.zeros(shape=(len(predictions), 5))\n",
    "test_predictions[:,0] = predictions\n",
    "true_predictions = scaler.inverse_transform(test_predictions)\n",
    "rsg_predictions = true_predictions[:,0]"
   ]
  },
  {
   "cell_type": "code",
   "execution_count": 82,
   "metadata": {},
   "outputs": [
    {
     "data": {
      "text/plain": [
       "array([617.07289559, 433.83766162, 715.0388537 , 590.57204348,\n",
       "       578.90335196])"
      ]
     },
     "execution_count": 82,
     "metadata": {},
     "output_type": "execute_result"
    }
   ],
   "source": [
    "rsg_predictions[:5]"
   ]
  },
  {
   "cell_type": "code",
   "execution_count": 83,
   "metadata": {},
   "outputs": [],
   "source": [
    "df_predicciones['LSTM univariado']=rsg_predictions"
   ]
  },
  {
   "cell_type": "code",
   "execution_count": 91,
   "metadata": {},
   "outputs": [
    {
     "data": {
      "text/html": [
       "<div>\n",
       "<style scoped>\n",
       "    .dataframe tbody tr th:only-of-type {\n",
       "        vertical-align: middle;\n",
       "    }\n",
       "\n",
       "    .dataframe tbody tr th {\n",
       "        vertical-align: top;\n",
       "    }\n",
       "\n",
       "    .dataframe thead th {\n",
       "        text-align: right;\n",
       "    }\n",
       "</style>\n",
       "<table border=\"1\" class=\"dataframe\">\n",
       "  <thead>\n",
       "    <tr style=\"text-align: right;\">\n",
       "      <th></th>\n",
       "      <th>Real Data</th>\n",
       "      <th>AR</th>\n",
       "      <th>LSTM univariado</th>\n",
       "    </tr>\n",
       "    <tr>\n",
       "      <th>Local_Time</th>\n",
       "      <th></th>\n",
       "      <th></th>\n",
       "      <th></th>\n",
       "    </tr>\n",
       "  </thead>\n",
       "  <tbody>\n",
       "    <tr>\n",
       "      <th>2016-08-10 10:00:00</th>\n",
       "      <td>376.0</td>\n",
       "      <td>522.985281</td>\n",
       "      <td>617.072896</td>\n",
       "    </tr>\n",
       "    <tr>\n",
       "      <th>2016-08-10 11:00:00</th>\n",
       "      <td>700.0</td>\n",
       "      <td>392.226992</td>\n",
       "      <td>433.837662</td>\n",
       "    </tr>\n",
       "    <tr>\n",
       "      <th>2016-08-10 12:00:00</th>\n",
       "      <td>665.0</td>\n",
       "      <td>644.237750</td>\n",
       "      <td>715.038854</td>\n",
       "    </tr>\n",
       "    <tr>\n",
       "      <th>2016-08-10 13:00:00</th>\n",
       "      <td>666.0</td>\n",
       "      <td>572.807753</td>\n",
       "      <td>590.572043</td>\n",
       "    </tr>\n",
       "    <tr>\n",
       "      <th>2016-08-10 14:00:00</th>\n",
       "      <td>687.0</td>\n",
       "      <td>607.491720</td>\n",
       "      <td>578.903352</td>\n",
       "    </tr>\n",
       "  </tbody>\n",
       "</table>\n",
       "</div>"
      ],
      "text/plain": [
       "                     Real Data          AR  LSTM univariado\n",
       "Local_Time                                                 \n",
       "2016-08-10 10:00:00      376.0  522.985281       617.072896\n",
       "2016-08-10 11:00:00      700.0  392.226992       433.837662\n",
       "2016-08-10 12:00:00      665.0  644.237750       715.038854\n",
       "2016-08-10 13:00:00      666.0  572.807753       590.572043\n",
       "2016-08-10 14:00:00      687.0  607.491720       578.903352"
      ]
     },
     "execution_count": 91,
     "metadata": {},
     "output_type": "execute_result"
    }
   ],
   "source": [
    "df_predicciones.head()"
   ]
  },
  {
   "cell_type": "markdown",
   "metadata": {},
   "source": [
    "**Modelo LSTM multivariado**: El modelo trabaja con 20 retrasos."
   ]
  },
  {
   "cell_type": "code",
   "execution_count": 92,
   "metadata": {},
   "outputs": [],
   "source": [
    "n_input = 20\n",
    "n_features = 4"
   ]
  },
  {
   "cell_type": "code",
   "execution_count": 94,
   "metadata": {},
   "outputs": [],
   "source": [
    "predictions = []\n",
    "for j in range(n_input,len(df_test)):\n",
    "    model_input = scaled_test[j-n_input:j]\n",
    "    model_input = model_input.reshape((1, n_input, n_features+1))\n",
    "    predictions.append(best_multivariado.predict(model_input)[0])"
   ]
  },
  {
   "cell_type": "code",
   "execution_count": 96,
   "metadata": {},
   "outputs": [
    {
     "data": {
      "text/plain": [
       "1440"
      ]
     },
     "execution_count": 96,
     "metadata": {},
     "output_type": "execute_result"
    }
   ],
   "source": [
    "len(predictions)"
   ]
  },
  {
   "cell_type": "markdown",
   "metadata": {},
   "source": [
    "Se quitan los dos primeros resultados para poder compararlo con las demás predicciones."
   ]
  },
  {
   "cell_type": "code",
   "execution_count": 97,
   "metadata": {},
   "outputs": [],
   "source": [
    "multi_predictions = predictions[2:]"
   ]
  },
  {
   "cell_type": "code",
   "execution_count": 100,
   "metadata": {},
   "outputs": [
    {
     "data": {
      "text/plain": [
       "1438"
      ]
     },
     "execution_count": 100,
     "metadata": {},
     "output_type": "execute_result"
    }
   ],
   "source": [
    "len(multi_predictions)"
   ]
  },
  {
   "cell_type": "code",
   "execution_count": 101,
   "metadata": {},
   "outputs": [],
   "source": [
    "predictions = np.ndarray.flatten(np.array(multi_predictions)) "
   ]
  },
  {
   "cell_type": "code",
   "execution_count": 102,
   "metadata": {},
   "outputs": [],
   "source": [
    "test_predictions =  np.zeros(shape=(len(predictions), 5))\n",
    "test_predictions[:,0] = predictions\n",
    "true_predictions = scaler.inverse_transform(test_predictions)\n",
    "rsg_predictions = true_predictions[:,0]"
   ]
  },
  {
   "cell_type": "code",
   "execution_count": 104,
   "metadata": {},
   "outputs": [
    {
     "data": {
      "text/plain": [
       "array([600.36640906, 441.9084934 , 699.22503352, 610.82962692,\n",
       "       581.63091958])"
      ]
     },
     "execution_count": 104,
     "metadata": {},
     "output_type": "execute_result"
    }
   ],
   "source": [
    "rsg_predictions[:5]"
   ]
  },
  {
   "cell_type": "code",
   "execution_count": 105,
   "metadata": {},
   "outputs": [],
   "source": [
    "df_predicciones['LSTM multivariado'] = rsg_predictions"
   ]
  },
  {
   "cell_type": "code",
   "execution_count": null,
   "metadata": {},
   "outputs": [],
   "source": [
    "df_predicciones.to_csv('predicciones_modelos.csv',index=False)"
   ]
  },
  {
   "cell_type": "markdown",
   "metadata": {},
   "source": [
    "## Visualización de los resultados con suavizado\n"
   ]
  },
  {
   "cell_type": "code",
   "execution_count": 31,
   "metadata": {},
   "outputs": [],
   "source": [
    "import ipywidgets as widgets\n",
    "import plotly.express as px\n",
    "import plotly.graph_objects as go"
   ]
  },
  {
   "cell_type": "code",
   "execution_count": 23,
   "metadata": {},
   "outputs": [],
   "source": [
    "df_predicciones = pd.read_csv('predicciones_modelos.csv',index_col=0, parse_dates=True)"
   ]
  },
  {
   "cell_type": "code",
   "execution_count": 45,
   "metadata": {},
   "outputs": [
    {
     "data": {
      "application/vnd.jupyter.widget-view+json": {
       "model_id": "56ec7d0397134785aca0e5edea57ce36",
       "version_major": 2,
       "version_minor": 0
      },
      "text/plain": [
       "VBox(children=(SelectionSlider(description='Número de días para suavizar', layout=Layout(width='70%'), options…"
      ]
     },
     "metadata": {},
     "output_type": "display_data"
    },
    {
     "data": {
      "application/vnd.jupyter.widget-view+json": {
       "model_id": "2a327d15cfb14fffb362ed0adb23979f",
       "version_major": 2,
       "version_minor": 0
      },
      "text/plain": [
       "Output()"
      ]
     },
     "metadata": {},
     "output_type": "display_data"
    }
   ],
   "source": [
    "def grafico_linea_tiempo(suavizado):\n",
    "    plt.figure(figsize=(15,15))\n",
    "    ventana = int(suavizado)*24\n",
    "    df_plot = df_predicciones\n",
    "    if(suavizado!=0):\n",
    "        df_plot = df_plot.rolling(window=ventana).mean()\n",
    "        df_plot = df_plot[ventana:]\n",
    "    print('RMSE suavizado')\n",
    "    print('AR:',np.sqrt(mean_squared_error(df_plot['Real Data'].values,df_plot['AR'])))\n",
    "    print('LSTM univariado:',np.sqrt(mean_squared_error(df_plot['Real Data'].values,df_plot['LSTM univariado'])))\n",
    "    print('LSTM multivariado:',np.sqrt(mean_squared_error(df_plot['Real Data'].values,df_plot['LSTM multivariado'])))\n",
    "    fig = px.line(df_plot, x=df_plot.index, y=df_plot.columns, title='Predicciones')\n",
    "    fig.update_xaxes(rangeslider_visible=True,\n",
    "            rangeselector=dict(\n",
    "            buttons=list([\n",
    "              dict(count=1, label=\"1d\", step=\"day\", stepmode=\"backward\"),\n",
    "              dict(count=7, label=\"1w\", step=\"day\", stepmode=\"backward\"),\n",
    "              dict(count=14, label=\"2w\", step=\"day\", stepmode=\"todate\"),\n",
    "              dict(count=1, label=\"1m\", step=\"month\", stepmode=\"backward\"),\n",
    "              dict(step=\"all\")\n",
    "            ]))\n",
    "    )\n",
    "    fig.update_layout(    autosize=False,\n",
    "    width=1000,\n",
    "    height=500)\n",
    "    fig.show()    \n",
    "    \n",
    "suavizado = widgets.SelectionSlider(options=[0, 1, 7, 14, 30], value=0,\n",
    "    description='Número de días para suavizar',\n",
    "    layout=widgets.Layout(width='70%'))\n",
    "suavizado.style = {'description_width': '300px'}\n",
    "variable.style = {'description_width': '300px'}\n",
    "\n",
    "ui = widgets.VBox(children=[suavizado])\n",
    "out = widgets.interactive_output(grafico_linea_tiempo, {'suavizado':suavizado})\n",
    "display(ui,out)"
   ]
  },
  {
   "cell_type": "markdown",
   "metadata": {},
   "source": [
    "En las curvas suavizadas, el modelo univariado LSTM tiene el error más pequeño."
   ]
  }
 ],
 "metadata": {
  "colab": {
   "collapsed_sections": [],
   "name": "Udla17.ipynb",
   "provenance": []
  },
  "kernelspec": {
   "display_name": "Python 3 (ipykernel)",
   "language": "python",
   "name": "python3"
  },
  "language_info": {
   "codemirror_mode": {
    "name": "ipython",
    "version": 3
   },
   "file_extension": ".py",
   "mimetype": "text/x-python",
   "name": "python",
   "nbconvert_exporter": "python",
   "pygments_lexer": "ipython3",
   "version": "3.9.1"
  }
 },
 "nbformat": 4,
 "nbformat_minor": 4
}
