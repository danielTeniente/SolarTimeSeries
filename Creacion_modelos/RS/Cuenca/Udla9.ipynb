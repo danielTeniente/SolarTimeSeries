{
  "cells": [
    {
      "cell_type": "markdown",
      "metadata": {
        "id": "y0Ph67-3nQO3"
      },
      "source": [
        "# LSTM con una variable"
      ]
    },
    {
      "cell_type": "markdown",
      "source": [
        "Se importan las librerías."
      ],
      "metadata": {
        "id": "JePTIe-JjFf8"
      }
    },
    {
      "cell_type": "code",
      "execution_count": null,
      "metadata": {
        "id": "bEzz6fnMnY2m"
      },
      "outputs": [],
      "source": [
        "import pandas as pd\n",
        "import matplotlib.pyplot as plt\n",
        "import numpy as np\n",
        "from sklearn.metrics import mean_squared_error\n",
        "from sklearn.metrics import mean_absolute_error"
      ]
    },
    {
      "cell_type": "markdown",
      "source": [
        "Se importan los datos de Cuenca."
      ],
      "metadata": {
        "id": "pykVarntjIYj"
      }
    },
    {
      "cell_type": "code",
      "execution_count": null,
      "metadata": {
        "id": "MprmZfxhmtZo"
      },
      "outputs": [],
      "source": [
        "df = pd.read_csv('./drive/MyDrive/DatosInvestigacion/final_train_2015.csv', index_col=0, parse_dates=True)\n",
        "df = df.asfreq('h')"
      ]
    },
    {
      "cell_type": "markdown",
      "source": [
        "Se obtienen los datos en el horario de interés."
      ],
      "metadata": {
        "id": "JCDLw6gbjKUS"
      }
    },
    {
      "cell_type": "code",
      "execution_count": null,
      "metadata": {
        "id": "apP2Y0oco-qI"
      },
      "outputs": [],
      "source": [
        "df = df.between_time('08:00:00','17:00:00')"
      ]
    },
    {
      "cell_type": "code",
      "execution_count": null,
      "metadata": {
        "colab": {
          "base_uri": "https://localhost:8080/",
          "height": 455
        },
        "id": "1_4OwKBKsLdl",
        "outputId": "4f45ce6c-425f-4faf-df2f-b9f89d1ee55f"
      },
      "outputs": [
        {
          "output_type": "execute_result",
          "data": {
            "text/plain": [
              "                     SRGLOAVG1H  TAMAX1H  TAMIN1H  RHMAX1H  RHMIN1H  PRSUM1H  \\\n",
              "Local_Time                                                                     \n",
              "2015-01-01 08:00:00       107.0     12.2      9.5     96.0     89.0      0.0   \n",
              "2015-01-01 09:00:00       394.0     15.1     12.2     89.0     76.0      0.0   \n",
              "2015-01-01 10:00:00       728.0     18.1     15.1     79.0     57.0      0.0   \n",
              "2015-01-01 11:00:00       428.0     18.4     16.7     66.0     58.0      0.0   \n",
              "2015-01-01 12:00:00       403.0     18.5     17.2     65.0     55.0      0.0   \n",
              "...                         ...      ...      ...      ...      ...      ...   \n",
              "2016-08-07 13:00:00       370.0     18.0     14.2     84.0     63.0      0.2   \n",
              "2016-08-07 14:00:00       364.0     17.5     14.0     87.0     72.0      0.0   \n",
              "2016-08-07 15:00:00       331.0     18.0     15.3     81.0     64.0      0.0   \n",
              "2016-08-07 16:00:00       334.0     18.2     16.7     69.0     60.0      0.0   \n",
              "2016-08-07 17:00:00       132.0     17.3     16.0     68.0     62.0      0.0   \n",
              "\n",
              "                     PAAVG1H  PAMAX1H  PAMIN1H  WS1HA  WS1HX  WD1HA  \n",
              "Local_Time                                                           \n",
              "2015-01-01 08:00:00    743.5    743.7    743.1    2.5    4.6     42  \n",
              "2015-01-01 09:00:00    743.8    743.9    743.7    3.3    5.8     59  \n",
              "2015-01-01 10:00:00    743.7    743.9    743.4    4.4    8.4     40  \n",
              "2015-01-01 11:00:00    743.2    743.4    742.8    4.0    8.1     35  \n",
              "2015-01-01 12:00:00    742.6    742.9    742.3    3.5    7.6     34  \n",
              "...                      ...      ...      ...    ...    ...    ...  \n",
              "2016-08-07 13:00:00    744.3    744.8    744.1    4.5   11.1     30  \n",
              "2016-08-07 14:00:00    743.9    744.2    743.5    4.3   12.1     28  \n",
              "2016-08-07 15:00:00    743.4    743.6    743.0    3.3   11.0     23  \n",
              "2016-08-07 16:00:00    742.6    743.0    742.2    4.5    9.5     30  \n",
              "2016-08-07 17:00:00    742.4    742.7    742.3    5.1   10.4     38  \n",
              "\n",
              "[5850 rows x 12 columns]"
            ],
            "text/html": [
              "\n",
              "  <div id=\"df-73c1b9c3-2ede-41b7-b235-778a96a799b3\">\n",
              "    <div class=\"colab-df-container\">\n",
              "      <div>\n",
              "<style scoped>\n",
              "    .dataframe tbody tr th:only-of-type {\n",
              "        vertical-align: middle;\n",
              "    }\n",
              "\n",
              "    .dataframe tbody tr th {\n",
              "        vertical-align: top;\n",
              "    }\n",
              "\n",
              "    .dataframe thead th {\n",
              "        text-align: right;\n",
              "    }\n",
              "</style>\n",
              "<table border=\"1\" class=\"dataframe\">\n",
              "  <thead>\n",
              "    <tr style=\"text-align: right;\">\n",
              "      <th></th>\n",
              "      <th>SRGLOAVG1H</th>\n",
              "      <th>TAMAX1H</th>\n",
              "      <th>TAMIN1H</th>\n",
              "      <th>RHMAX1H</th>\n",
              "      <th>RHMIN1H</th>\n",
              "      <th>PRSUM1H</th>\n",
              "      <th>PAAVG1H</th>\n",
              "      <th>PAMAX1H</th>\n",
              "      <th>PAMIN1H</th>\n",
              "      <th>WS1HA</th>\n",
              "      <th>WS1HX</th>\n",
              "      <th>WD1HA</th>\n",
              "    </tr>\n",
              "    <tr>\n",
              "      <th>Local_Time</th>\n",
              "      <th></th>\n",
              "      <th></th>\n",
              "      <th></th>\n",
              "      <th></th>\n",
              "      <th></th>\n",
              "      <th></th>\n",
              "      <th></th>\n",
              "      <th></th>\n",
              "      <th></th>\n",
              "      <th></th>\n",
              "      <th></th>\n",
              "      <th></th>\n",
              "    </tr>\n",
              "  </thead>\n",
              "  <tbody>\n",
              "    <tr>\n",
              "      <th>2015-01-01 08:00:00</th>\n",
              "      <td>107.0</td>\n",
              "      <td>12.2</td>\n",
              "      <td>9.5</td>\n",
              "      <td>96.0</td>\n",
              "      <td>89.0</td>\n",
              "      <td>0.0</td>\n",
              "      <td>743.5</td>\n",
              "      <td>743.7</td>\n",
              "      <td>743.1</td>\n",
              "      <td>2.5</td>\n",
              "      <td>4.6</td>\n",
              "      <td>42</td>\n",
              "    </tr>\n",
              "    <tr>\n",
              "      <th>2015-01-01 09:00:00</th>\n",
              "      <td>394.0</td>\n",
              "      <td>15.1</td>\n",
              "      <td>12.2</td>\n",
              "      <td>89.0</td>\n",
              "      <td>76.0</td>\n",
              "      <td>0.0</td>\n",
              "      <td>743.8</td>\n",
              "      <td>743.9</td>\n",
              "      <td>743.7</td>\n",
              "      <td>3.3</td>\n",
              "      <td>5.8</td>\n",
              "      <td>59</td>\n",
              "    </tr>\n",
              "    <tr>\n",
              "      <th>2015-01-01 10:00:00</th>\n",
              "      <td>728.0</td>\n",
              "      <td>18.1</td>\n",
              "      <td>15.1</td>\n",
              "      <td>79.0</td>\n",
              "      <td>57.0</td>\n",
              "      <td>0.0</td>\n",
              "      <td>743.7</td>\n",
              "      <td>743.9</td>\n",
              "      <td>743.4</td>\n",
              "      <td>4.4</td>\n",
              "      <td>8.4</td>\n",
              "      <td>40</td>\n",
              "    </tr>\n",
              "    <tr>\n",
              "      <th>2015-01-01 11:00:00</th>\n",
              "      <td>428.0</td>\n",
              "      <td>18.4</td>\n",
              "      <td>16.7</td>\n",
              "      <td>66.0</td>\n",
              "      <td>58.0</td>\n",
              "      <td>0.0</td>\n",
              "      <td>743.2</td>\n",
              "      <td>743.4</td>\n",
              "      <td>742.8</td>\n",
              "      <td>4.0</td>\n",
              "      <td>8.1</td>\n",
              "      <td>35</td>\n",
              "    </tr>\n",
              "    <tr>\n",
              "      <th>2015-01-01 12:00:00</th>\n",
              "      <td>403.0</td>\n",
              "      <td>18.5</td>\n",
              "      <td>17.2</td>\n",
              "      <td>65.0</td>\n",
              "      <td>55.0</td>\n",
              "      <td>0.0</td>\n",
              "      <td>742.6</td>\n",
              "      <td>742.9</td>\n",
              "      <td>742.3</td>\n",
              "      <td>3.5</td>\n",
              "      <td>7.6</td>\n",
              "      <td>34</td>\n",
              "    </tr>\n",
              "    <tr>\n",
              "      <th>...</th>\n",
              "      <td>...</td>\n",
              "      <td>...</td>\n",
              "      <td>...</td>\n",
              "      <td>...</td>\n",
              "      <td>...</td>\n",
              "      <td>...</td>\n",
              "      <td>...</td>\n",
              "      <td>...</td>\n",
              "      <td>...</td>\n",
              "      <td>...</td>\n",
              "      <td>...</td>\n",
              "      <td>...</td>\n",
              "    </tr>\n",
              "    <tr>\n",
              "      <th>2016-08-07 13:00:00</th>\n",
              "      <td>370.0</td>\n",
              "      <td>18.0</td>\n",
              "      <td>14.2</td>\n",
              "      <td>84.0</td>\n",
              "      <td>63.0</td>\n",
              "      <td>0.2</td>\n",
              "      <td>744.3</td>\n",
              "      <td>744.8</td>\n",
              "      <td>744.1</td>\n",
              "      <td>4.5</td>\n",
              "      <td>11.1</td>\n",
              "      <td>30</td>\n",
              "    </tr>\n",
              "    <tr>\n",
              "      <th>2016-08-07 14:00:00</th>\n",
              "      <td>364.0</td>\n",
              "      <td>17.5</td>\n",
              "      <td>14.0</td>\n",
              "      <td>87.0</td>\n",
              "      <td>72.0</td>\n",
              "      <td>0.0</td>\n",
              "      <td>743.9</td>\n",
              "      <td>744.2</td>\n",
              "      <td>743.5</td>\n",
              "      <td>4.3</td>\n",
              "      <td>12.1</td>\n",
              "      <td>28</td>\n",
              "    </tr>\n",
              "    <tr>\n",
              "      <th>2016-08-07 15:00:00</th>\n",
              "      <td>331.0</td>\n",
              "      <td>18.0</td>\n",
              "      <td>15.3</td>\n",
              "      <td>81.0</td>\n",
              "      <td>64.0</td>\n",
              "      <td>0.0</td>\n",
              "      <td>743.4</td>\n",
              "      <td>743.6</td>\n",
              "      <td>743.0</td>\n",
              "      <td>3.3</td>\n",
              "      <td>11.0</td>\n",
              "      <td>23</td>\n",
              "    </tr>\n",
              "    <tr>\n",
              "      <th>2016-08-07 16:00:00</th>\n",
              "      <td>334.0</td>\n",
              "      <td>18.2</td>\n",
              "      <td>16.7</td>\n",
              "      <td>69.0</td>\n",
              "      <td>60.0</td>\n",
              "      <td>0.0</td>\n",
              "      <td>742.6</td>\n",
              "      <td>743.0</td>\n",
              "      <td>742.2</td>\n",
              "      <td>4.5</td>\n",
              "      <td>9.5</td>\n",
              "      <td>30</td>\n",
              "    </tr>\n",
              "    <tr>\n",
              "      <th>2016-08-07 17:00:00</th>\n",
              "      <td>132.0</td>\n",
              "      <td>17.3</td>\n",
              "      <td>16.0</td>\n",
              "      <td>68.0</td>\n",
              "      <td>62.0</td>\n",
              "      <td>0.0</td>\n",
              "      <td>742.4</td>\n",
              "      <td>742.7</td>\n",
              "      <td>742.3</td>\n",
              "      <td>5.1</td>\n",
              "      <td>10.4</td>\n",
              "      <td>38</td>\n",
              "    </tr>\n",
              "  </tbody>\n",
              "</table>\n",
              "<p>5850 rows × 12 columns</p>\n",
              "</div>\n",
              "      <button class=\"colab-df-convert\" onclick=\"convertToInteractive('df-73c1b9c3-2ede-41b7-b235-778a96a799b3')\"\n",
              "              title=\"Convert this dataframe to an interactive table.\"\n",
              "              style=\"display:none;\">\n",
              "        \n",
              "  <svg xmlns=\"http://www.w3.org/2000/svg\" height=\"24px\"viewBox=\"0 0 24 24\"\n",
              "       width=\"24px\">\n",
              "    <path d=\"M0 0h24v24H0V0z\" fill=\"none\"/>\n",
              "    <path d=\"M18.56 5.44l.94 2.06.94-2.06 2.06-.94-2.06-.94-.94-2.06-.94 2.06-2.06.94zm-11 1L8.5 8.5l.94-2.06 2.06-.94-2.06-.94L8.5 2.5l-.94 2.06-2.06.94zm10 10l.94 2.06.94-2.06 2.06-.94-2.06-.94-.94-2.06-.94 2.06-2.06.94z\"/><path d=\"M17.41 7.96l-1.37-1.37c-.4-.4-.92-.59-1.43-.59-.52 0-1.04.2-1.43.59L10.3 9.45l-7.72 7.72c-.78.78-.78 2.05 0 2.83L4 21.41c.39.39.9.59 1.41.59.51 0 1.02-.2 1.41-.59l7.78-7.78 2.81-2.81c.8-.78.8-2.07 0-2.86zM5.41 20L4 18.59l7.72-7.72 1.47 1.35L5.41 20z\"/>\n",
              "  </svg>\n",
              "      </button>\n",
              "      \n",
              "  <style>\n",
              "    .colab-df-container {\n",
              "      display:flex;\n",
              "      flex-wrap:wrap;\n",
              "      gap: 12px;\n",
              "    }\n",
              "\n",
              "    .colab-df-convert {\n",
              "      background-color: #E8F0FE;\n",
              "      border: none;\n",
              "      border-radius: 50%;\n",
              "      cursor: pointer;\n",
              "      display: none;\n",
              "      fill: #1967D2;\n",
              "      height: 32px;\n",
              "      padding: 0 0 0 0;\n",
              "      width: 32px;\n",
              "    }\n",
              "\n",
              "    .colab-df-convert:hover {\n",
              "      background-color: #E2EBFA;\n",
              "      box-shadow: 0px 1px 2px rgba(60, 64, 67, 0.3), 0px 1px 3px 1px rgba(60, 64, 67, 0.15);\n",
              "      fill: #174EA6;\n",
              "    }\n",
              "\n",
              "    [theme=dark] .colab-df-convert {\n",
              "      background-color: #3B4455;\n",
              "      fill: #D2E3FC;\n",
              "    }\n",
              "\n",
              "    [theme=dark] .colab-df-convert:hover {\n",
              "      background-color: #434B5C;\n",
              "      box-shadow: 0px 1px 3px 1px rgba(0, 0, 0, 0.15);\n",
              "      filter: drop-shadow(0px 1px 2px rgba(0, 0, 0, 0.3));\n",
              "      fill: #FFFFFF;\n",
              "    }\n",
              "  </style>\n",
              "\n",
              "      <script>\n",
              "        const buttonEl =\n",
              "          document.querySelector('#df-73c1b9c3-2ede-41b7-b235-778a96a799b3 button.colab-df-convert');\n",
              "        buttonEl.style.display =\n",
              "          google.colab.kernel.accessAllowed ? 'block' : 'none';\n",
              "\n",
              "        async function convertToInteractive(key) {\n",
              "          const element = document.querySelector('#df-73c1b9c3-2ede-41b7-b235-778a96a799b3');\n",
              "          const dataTable =\n",
              "            await google.colab.kernel.invokeFunction('convertToInteractive',\n",
              "                                                     [key], {});\n",
              "          if (!dataTable) return;\n",
              "\n",
              "          const docLinkHtml = 'Like what you see? Visit the ' +\n",
              "            '<a target=\"_blank\" href=https://colab.research.google.com/notebooks/data_table.ipynb>data table notebook</a>'\n",
              "            + ' to learn more about interactive tables.';\n",
              "          element.innerHTML = '';\n",
              "          dataTable['output_type'] = 'display_data';\n",
              "          await google.colab.output.renderOutput(dataTable, element);\n",
              "          const docLink = document.createElement('div');\n",
              "          docLink.innerHTML = docLinkHtml;\n",
              "          element.appendChild(docLink);\n",
              "        }\n",
              "      </script>\n",
              "    </div>\n",
              "  </div>\n",
              "  "
            ]
          },
          "metadata": {},
          "execution_count": 30
        }
      ],
      "source": [
        "df"
      ]
    },
    {
      "cell_type": "markdown",
      "source": [
        "Se obtienen las variables de interés."
      ],
      "metadata": {
        "id": "I0kCbJAIjOsd"
      }
    },
    {
      "cell_type": "code",
      "execution_count": null,
      "metadata": {
        "id": "Rvd5l6YRsNkv"
      },
      "outputs": [],
      "source": [
        "df = df[['SRGLOAVG1H','TAMAX1H','TAMIN1H','WS1HX','WS1HA','RHMIN1H','RHMAX1H']]"
      ]
    },
    {
      "cell_type": "code",
      "execution_count": null,
      "metadata": {
        "colab": {
          "base_uri": "https://localhost:8080/",
          "height": 237
        },
        "id": "mkAyfD3o1zA1",
        "outputId": "cab8e992-d9dd-4b2f-c542-0a41b62c4857"
      },
      "outputs": [
        {
          "output_type": "execute_result",
          "data": {
            "text/plain": [
              "                     SRGLOAVG1H  TAMAX1H  TAMIN1H  WS1HX  WS1HA  RHMIN1H  \\\n",
              "Local_Time                                                                 \n",
              "2015-01-01 08:00:00       107.0     12.2      9.5    4.6    2.5     89.0   \n",
              "2015-01-01 09:00:00       394.0     15.1     12.2    5.8    3.3     76.0   \n",
              "2015-01-01 10:00:00       728.0     18.1     15.1    8.4    4.4     57.0   \n",
              "2015-01-01 11:00:00       428.0     18.4     16.7    8.1    4.0     58.0   \n",
              "2015-01-01 12:00:00       403.0     18.5     17.2    7.6    3.5     55.0   \n",
              "\n",
              "                     RHMAX1H  \n",
              "Local_Time                    \n",
              "2015-01-01 08:00:00     96.0  \n",
              "2015-01-01 09:00:00     89.0  \n",
              "2015-01-01 10:00:00     79.0  \n",
              "2015-01-01 11:00:00     66.0  \n",
              "2015-01-01 12:00:00     65.0  "
            ],
            "text/html": [
              "\n",
              "  <div id=\"df-31170c3d-0536-41c6-8cd1-300aeb80b1df\">\n",
              "    <div class=\"colab-df-container\">\n",
              "      <div>\n",
              "<style scoped>\n",
              "    .dataframe tbody tr th:only-of-type {\n",
              "        vertical-align: middle;\n",
              "    }\n",
              "\n",
              "    .dataframe tbody tr th {\n",
              "        vertical-align: top;\n",
              "    }\n",
              "\n",
              "    .dataframe thead th {\n",
              "        text-align: right;\n",
              "    }\n",
              "</style>\n",
              "<table border=\"1\" class=\"dataframe\">\n",
              "  <thead>\n",
              "    <tr style=\"text-align: right;\">\n",
              "      <th></th>\n",
              "      <th>SRGLOAVG1H</th>\n",
              "      <th>TAMAX1H</th>\n",
              "      <th>TAMIN1H</th>\n",
              "      <th>WS1HX</th>\n",
              "      <th>WS1HA</th>\n",
              "      <th>RHMIN1H</th>\n",
              "      <th>RHMAX1H</th>\n",
              "    </tr>\n",
              "    <tr>\n",
              "      <th>Local_Time</th>\n",
              "      <th></th>\n",
              "      <th></th>\n",
              "      <th></th>\n",
              "      <th></th>\n",
              "      <th></th>\n",
              "      <th></th>\n",
              "      <th></th>\n",
              "    </tr>\n",
              "  </thead>\n",
              "  <tbody>\n",
              "    <tr>\n",
              "      <th>2015-01-01 08:00:00</th>\n",
              "      <td>107.0</td>\n",
              "      <td>12.2</td>\n",
              "      <td>9.5</td>\n",
              "      <td>4.6</td>\n",
              "      <td>2.5</td>\n",
              "      <td>89.0</td>\n",
              "      <td>96.0</td>\n",
              "    </tr>\n",
              "    <tr>\n",
              "      <th>2015-01-01 09:00:00</th>\n",
              "      <td>394.0</td>\n",
              "      <td>15.1</td>\n",
              "      <td>12.2</td>\n",
              "      <td>5.8</td>\n",
              "      <td>3.3</td>\n",
              "      <td>76.0</td>\n",
              "      <td>89.0</td>\n",
              "    </tr>\n",
              "    <tr>\n",
              "      <th>2015-01-01 10:00:00</th>\n",
              "      <td>728.0</td>\n",
              "      <td>18.1</td>\n",
              "      <td>15.1</td>\n",
              "      <td>8.4</td>\n",
              "      <td>4.4</td>\n",
              "      <td>57.0</td>\n",
              "      <td>79.0</td>\n",
              "    </tr>\n",
              "    <tr>\n",
              "      <th>2015-01-01 11:00:00</th>\n",
              "      <td>428.0</td>\n",
              "      <td>18.4</td>\n",
              "      <td>16.7</td>\n",
              "      <td>8.1</td>\n",
              "      <td>4.0</td>\n",
              "      <td>58.0</td>\n",
              "      <td>66.0</td>\n",
              "    </tr>\n",
              "    <tr>\n",
              "      <th>2015-01-01 12:00:00</th>\n",
              "      <td>403.0</td>\n",
              "      <td>18.5</td>\n",
              "      <td>17.2</td>\n",
              "      <td>7.6</td>\n",
              "      <td>3.5</td>\n",
              "      <td>55.0</td>\n",
              "      <td>65.0</td>\n",
              "    </tr>\n",
              "  </tbody>\n",
              "</table>\n",
              "</div>\n",
              "      <button class=\"colab-df-convert\" onclick=\"convertToInteractive('df-31170c3d-0536-41c6-8cd1-300aeb80b1df')\"\n",
              "              title=\"Convert this dataframe to an interactive table.\"\n",
              "              style=\"display:none;\">\n",
              "        \n",
              "  <svg xmlns=\"http://www.w3.org/2000/svg\" height=\"24px\"viewBox=\"0 0 24 24\"\n",
              "       width=\"24px\">\n",
              "    <path d=\"M0 0h24v24H0V0z\" fill=\"none\"/>\n",
              "    <path d=\"M18.56 5.44l.94 2.06.94-2.06 2.06-.94-2.06-.94-.94-2.06-.94 2.06-2.06.94zm-11 1L8.5 8.5l.94-2.06 2.06-.94-2.06-.94L8.5 2.5l-.94 2.06-2.06.94zm10 10l.94 2.06.94-2.06 2.06-.94-2.06-.94-.94-2.06-.94 2.06-2.06.94z\"/><path d=\"M17.41 7.96l-1.37-1.37c-.4-.4-.92-.59-1.43-.59-.52 0-1.04.2-1.43.59L10.3 9.45l-7.72 7.72c-.78.78-.78 2.05 0 2.83L4 21.41c.39.39.9.59 1.41.59.51 0 1.02-.2 1.41-.59l7.78-7.78 2.81-2.81c.8-.78.8-2.07 0-2.86zM5.41 20L4 18.59l7.72-7.72 1.47 1.35L5.41 20z\"/>\n",
              "  </svg>\n",
              "      </button>\n",
              "      \n",
              "  <style>\n",
              "    .colab-df-container {\n",
              "      display:flex;\n",
              "      flex-wrap:wrap;\n",
              "      gap: 12px;\n",
              "    }\n",
              "\n",
              "    .colab-df-convert {\n",
              "      background-color: #E8F0FE;\n",
              "      border: none;\n",
              "      border-radius: 50%;\n",
              "      cursor: pointer;\n",
              "      display: none;\n",
              "      fill: #1967D2;\n",
              "      height: 32px;\n",
              "      padding: 0 0 0 0;\n",
              "      width: 32px;\n",
              "    }\n",
              "\n",
              "    .colab-df-convert:hover {\n",
              "      background-color: #E2EBFA;\n",
              "      box-shadow: 0px 1px 2px rgba(60, 64, 67, 0.3), 0px 1px 3px 1px rgba(60, 64, 67, 0.15);\n",
              "      fill: #174EA6;\n",
              "    }\n",
              "\n",
              "    [theme=dark] .colab-df-convert {\n",
              "      background-color: #3B4455;\n",
              "      fill: #D2E3FC;\n",
              "    }\n",
              "\n",
              "    [theme=dark] .colab-df-convert:hover {\n",
              "      background-color: #434B5C;\n",
              "      box-shadow: 0px 1px 3px 1px rgba(0, 0, 0, 0.15);\n",
              "      filter: drop-shadow(0px 1px 2px rgba(0, 0, 0, 0.3));\n",
              "      fill: #FFFFFF;\n",
              "    }\n",
              "  </style>\n",
              "\n",
              "      <script>\n",
              "        const buttonEl =\n",
              "          document.querySelector('#df-31170c3d-0536-41c6-8cd1-300aeb80b1df button.colab-df-convert');\n",
              "        buttonEl.style.display =\n",
              "          google.colab.kernel.accessAllowed ? 'block' : 'none';\n",
              "\n",
              "        async function convertToInteractive(key) {\n",
              "          const element = document.querySelector('#df-31170c3d-0536-41c6-8cd1-300aeb80b1df');\n",
              "          const dataTable =\n",
              "            await google.colab.kernel.invokeFunction('convertToInteractive',\n",
              "                                                     [key], {});\n",
              "          if (!dataTable) return;\n",
              "\n",
              "          const docLinkHtml = 'Like what you see? Visit the ' +\n",
              "            '<a target=\"_blank\" href=https://colab.research.google.com/notebooks/data_table.ipynb>data table notebook</a>'\n",
              "            + ' to learn more about interactive tables.';\n",
              "          element.innerHTML = '';\n",
              "          dataTable['output_type'] = 'display_data';\n",
              "          await google.colab.output.renderOutput(dataTable, element);\n",
              "          const docLink = document.createElement('div');\n",
              "          docLink.innerHTML = docLinkHtml;\n",
              "          element.appendChild(docLink);\n",
              "        }\n",
              "      </script>\n",
              "    </div>\n",
              "  </div>\n",
              "  "
            ]
          },
          "metadata": {},
          "execution_count": 32
        }
      ],
      "source": [
        "df.head()"
      ]
    },
    {
      "cell_type": "markdown",
      "source": [
        "Se importan los datos de testing."
      ],
      "metadata": {
        "id": "PitoM18UjR3G"
      }
    },
    {
      "cell_type": "code",
      "execution_count": null,
      "metadata": {
        "id": "44_UnrswnUHz"
      },
      "outputs": [],
      "source": [
        "df_test = pd.read_csv('./drive/MyDrive/DatosInvestigacion/final_test_2015.csv', index_col=0, parse_dates=True)\n",
        "df_test = df_test.asfreq('h')"
      ]
    },
    {
      "cell_type": "code",
      "execution_count": null,
      "metadata": {
        "id": "kvA1ic0Csx1V"
      },
      "outputs": [],
      "source": [
        "df_test = df_test[['SRGLOAVG1H','TAMAX1H','TAMIN1H','WS1HX','WS1HA','RHMIN1H','RHMAX1H']]\n",
        "df_test = df_test.between_time('08:00:00','17:00:00')"
      ]
    },
    {
      "cell_type": "code",
      "execution_count": null,
      "metadata": {
        "colab": {
          "base_uri": "https://localhost:8080/",
          "height": 237
        },
        "id": "b-3mS0N2x_wp",
        "outputId": "a071fec4-c103-41b8-b030-e40284b90380"
      },
      "outputs": [
        {
          "output_type": "execute_result",
          "data": {
            "text/plain": [
              "                     SRGLOAVG1H  TAMAX1H  TAMIN1H  WS1HX  WS1HA  RHMIN1H  \\\n",
              "Local_Time                                                                 \n",
              "2016-08-08 08:00:00       136.0     12.2     10.8    6.2    3.2     89.0   \n",
              "2016-08-08 09:00:00       337.0     15.2     12.3    7.8    3.4     73.0   \n",
              "2016-08-08 10:00:00       303.0     15.1     13.6   10.1    4.2     70.0   \n",
              "2016-08-08 11:00:00       549.0     16.5     13.3    9.6    4.8     71.0   \n",
              "2016-08-08 12:00:00       577.0     17.6     15.8   12.8    5.5     65.0   \n",
              "\n",
              "                     RHMAX1H  \n",
              "Local_Time                    \n",
              "2016-08-08 08:00:00     95.0  \n",
              "2016-08-08 09:00:00     90.0  \n",
              "2016-08-08 10:00:00     81.0  \n",
              "2016-08-08 11:00:00     88.0  \n",
              "2016-08-08 12:00:00     77.0  "
            ],
            "text/html": [
              "\n",
              "  <div id=\"df-9a070786-3b28-4508-894c-c9cb5fe29b19\">\n",
              "    <div class=\"colab-df-container\">\n",
              "      <div>\n",
              "<style scoped>\n",
              "    .dataframe tbody tr th:only-of-type {\n",
              "        vertical-align: middle;\n",
              "    }\n",
              "\n",
              "    .dataframe tbody tr th {\n",
              "        vertical-align: top;\n",
              "    }\n",
              "\n",
              "    .dataframe thead th {\n",
              "        text-align: right;\n",
              "    }\n",
              "</style>\n",
              "<table border=\"1\" class=\"dataframe\">\n",
              "  <thead>\n",
              "    <tr style=\"text-align: right;\">\n",
              "      <th></th>\n",
              "      <th>SRGLOAVG1H</th>\n",
              "      <th>TAMAX1H</th>\n",
              "      <th>TAMIN1H</th>\n",
              "      <th>WS1HX</th>\n",
              "      <th>WS1HA</th>\n",
              "      <th>RHMIN1H</th>\n",
              "      <th>RHMAX1H</th>\n",
              "    </tr>\n",
              "    <tr>\n",
              "      <th>Local_Time</th>\n",
              "      <th></th>\n",
              "      <th></th>\n",
              "      <th></th>\n",
              "      <th></th>\n",
              "      <th></th>\n",
              "      <th></th>\n",
              "      <th></th>\n",
              "    </tr>\n",
              "  </thead>\n",
              "  <tbody>\n",
              "    <tr>\n",
              "      <th>2016-08-08 08:00:00</th>\n",
              "      <td>136.0</td>\n",
              "      <td>12.2</td>\n",
              "      <td>10.8</td>\n",
              "      <td>6.2</td>\n",
              "      <td>3.2</td>\n",
              "      <td>89.0</td>\n",
              "      <td>95.0</td>\n",
              "    </tr>\n",
              "    <tr>\n",
              "      <th>2016-08-08 09:00:00</th>\n",
              "      <td>337.0</td>\n",
              "      <td>15.2</td>\n",
              "      <td>12.3</td>\n",
              "      <td>7.8</td>\n",
              "      <td>3.4</td>\n",
              "      <td>73.0</td>\n",
              "      <td>90.0</td>\n",
              "    </tr>\n",
              "    <tr>\n",
              "      <th>2016-08-08 10:00:00</th>\n",
              "      <td>303.0</td>\n",
              "      <td>15.1</td>\n",
              "      <td>13.6</td>\n",
              "      <td>10.1</td>\n",
              "      <td>4.2</td>\n",
              "      <td>70.0</td>\n",
              "      <td>81.0</td>\n",
              "    </tr>\n",
              "    <tr>\n",
              "      <th>2016-08-08 11:00:00</th>\n",
              "      <td>549.0</td>\n",
              "      <td>16.5</td>\n",
              "      <td>13.3</td>\n",
              "      <td>9.6</td>\n",
              "      <td>4.8</td>\n",
              "      <td>71.0</td>\n",
              "      <td>88.0</td>\n",
              "    </tr>\n",
              "    <tr>\n",
              "      <th>2016-08-08 12:00:00</th>\n",
              "      <td>577.0</td>\n",
              "      <td>17.6</td>\n",
              "      <td>15.8</td>\n",
              "      <td>12.8</td>\n",
              "      <td>5.5</td>\n",
              "      <td>65.0</td>\n",
              "      <td>77.0</td>\n",
              "    </tr>\n",
              "  </tbody>\n",
              "</table>\n",
              "</div>\n",
              "      <button class=\"colab-df-convert\" onclick=\"convertToInteractive('df-9a070786-3b28-4508-894c-c9cb5fe29b19')\"\n",
              "              title=\"Convert this dataframe to an interactive table.\"\n",
              "              style=\"display:none;\">\n",
              "        \n",
              "  <svg xmlns=\"http://www.w3.org/2000/svg\" height=\"24px\"viewBox=\"0 0 24 24\"\n",
              "       width=\"24px\">\n",
              "    <path d=\"M0 0h24v24H0V0z\" fill=\"none\"/>\n",
              "    <path d=\"M18.56 5.44l.94 2.06.94-2.06 2.06-.94-2.06-.94-.94-2.06-.94 2.06-2.06.94zm-11 1L8.5 8.5l.94-2.06 2.06-.94-2.06-.94L8.5 2.5l-.94 2.06-2.06.94zm10 10l.94 2.06.94-2.06 2.06-.94-2.06-.94-.94-2.06-.94 2.06-2.06.94z\"/><path d=\"M17.41 7.96l-1.37-1.37c-.4-.4-.92-.59-1.43-.59-.52 0-1.04.2-1.43.59L10.3 9.45l-7.72 7.72c-.78.78-.78 2.05 0 2.83L4 21.41c.39.39.9.59 1.41.59.51 0 1.02-.2 1.41-.59l7.78-7.78 2.81-2.81c.8-.78.8-2.07 0-2.86zM5.41 20L4 18.59l7.72-7.72 1.47 1.35L5.41 20z\"/>\n",
              "  </svg>\n",
              "      </button>\n",
              "      \n",
              "  <style>\n",
              "    .colab-df-container {\n",
              "      display:flex;\n",
              "      flex-wrap:wrap;\n",
              "      gap: 12px;\n",
              "    }\n",
              "\n",
              "    .colab-df-convert {\n",
              "      background-color: #E8F0FE;\n",
              "      border: none;\n",
              "      border-radius: 50%;\n",
              "      cursor: pointer;\n",
              "      display: none;\n",
              "      fill: #1967D2;\n",
              "      height: 32px;\n",
              "      padding: 0 0 0 0;\n",
              "      width: 32px;\n",
              "    }\n",
              "\n",
              "    .colab-df-convert:hover {\n",
              "      background-color: #E2EBFA;\n",
              "      box-shadow: 0px 1px 2px rgba(60, 64, 67, 0.3), 0px 1px 3px 1px rgba(60, 64, 67, 0.15);\n",
              "      fill: #174EA6;\n",
              "    }\n",
              "\n",
              "    [theme=dark] .colab-df-convert {\n",
              "      background-color: #3B4455;\n",
              "      fill: #D2E3FC;\n",
              "    }\n",
              "\n",
              "    [theme=dark] .colab-df-convert:hover {\n",
              "      background-color: #434B5C;\n",
              "      box-shadow: 0px 1px 3px 1px rgba(0, 0, 0, 0.15);\n",
              "      filter: drop-shadow(0px 1px 2px rgba(0, 0, 0, 0.3));\n",
              "      fill: #FFFFFF;\n",
              "    }\n",
              "  </style>\n",
              "\n",
              "      <script>\n",
              "        const buttonEl =\n",
              "          document.querySelector('#df-9a070786-3b28-4508-894c-c9cb5fe29b19 button.colab-df-convert');\n",
              "        buttonEl.style.display =\n",
              "          google.colab.kernel.accessAllowed ? 'block' : 'none';\n",
              "\n",
              "        async function convertToInteractive(key) {\n",
              "          const element = document.querySelector('#df-9a070786-3b28-4508-894c-c9cb5fe29b19');\n",
              "          const dataTable =\n",
              "            await google.colab.kernel.invokeFunction('convertToInteractive',\n",
              "                                                     [key], {});\n",
              "          if (!dataTable) return;\n",
              "\n",
              "          const docLinkHtml = 'Like what you see? Visit the ' +\n",
              "            '<a target=\"_blank\" href=https://colab.research.google.com/notebooks/data_table.ipynb>data table notebook</a>'\n",
              "            + ' to learn more about interactive tables.';\n",
              "          element.innerHTML = '';\n",
              "          dataTable['output_type'] = 'display_data';\n",
              "          await google.colab.output.renderOutput(dataTable, element);\n",
              "          const docLink = document.createElement('div');\n",
              "          docLink.innerHTML = docLinkHtml;\n",
              "          element.appendChild(docLink);\n",
              "        }\n",
              "      </script>\n",
              "    </div>\n",
              "  </div>\n",
              "  "
            ]
          },
          "metadata": {},
          "execution_count": 35
        }
      ],
      "source": [
        "df_test.head()"
      ]
    },
    {
      "cell_type": "markdown",
      "metadata": {
        "id": "EChV4_hj13lz"
      },
      "source": [
        "Se toma la serie de tiempo de la radiación solar global."
      ]
    },
    {
      "cell_type": "code",
      "execution_count": null,
      "metadata": {
        "id": "jgibMqgN1b_1"
      },
      "outputs": [],
      "source": [
        "RSG = df['SRGLOAVG1H'].values"
      ]
    },
    {
      "cell_type": "code",
      "execution_count": null,
      "metadata": {
        "id": "TGo-pRv_1smA"
      },
      "outputs": [],
      "source": [
        "RSG = np.reshape(RSG,(-1,1))"
      ]
    },
    {
      "cell_type": "code",
      "execution_count": null,
      "metadata": {
        "colab": {
          "base_uri": "https://localhost:8080/"
        },
        "id": "q9ZpQ_qUv_WA",
        "outputId": "497cd3ce-b123-49f4-a2dd-cecd169a4133"
      },
      "outputs": [
        {
          "output_type": "execute_result",
          "data": {
            "text/plain": [
              "array([[107.],\n",
              "       [394.],\n",
              "       [728.],\n",
              "       [428.],\n",
              "       [403.]])"
            ]
          },
          "metadata": {},
          "execution_count": 38
        }
      ],
      "source": [
        "RSG[:5]"
      ]
    },
    {
      "cell_type": "code",
      "execution_count": null,
      "metadata": {
        "id": "8l1KjtClvV3w"
      },
      "outputs": [],
      "source": [
        "RSG_test = df_test['SRGLOAVG1H'].values\n",
        "RSG_test = np.reshape(RSG_test,(-1,1))"
      ]
    },
    {
      "cell_type": "markdown",
      "source": [
        "Se normalizan los datos."
      ],
      "metadata": {
        "id": "vsQRwI4HjV1U"
      }
    },
    {
      "cell_type": "code",
      "execution_count": null,
      "metadata": {
        "id": "sneX2gj_roTL"
      },
      "outputs": [],
      "source": [
        "from sklearn.preprocessing import MinMaxScaler"
      ]
    },
    {
      "cell_type": "code",
      "execution_count": null,
      "metadata": {
        "id": "RUfDEFCor27x"
      },
      "outputs": [],
      "source": [
        "scaler = MinMaxScaler()"
      ]
    },
    {
      "cell_type": "code",
      "execution_count": null,
      "metadata": {
        "colab": {
          "base_uri": "https://localhost:8080/"
        },
        "id": "ll-DeCkor4iR",
        "outputId": "5e8ca17f-04b8-4471-ed5d-38291f740647"
      },
      "outputs": [
        {
          "output_type": "execute_result",
          "data": {
            "text/plain": [
              "MinMaxScaler()"
            ]
          },
          "metadata": {},
          "execution_count": 42
        }
      ],
      "source": [
        "scaler.fit(RSG)"
      ]
    },
    {
      "cell_type": "code",
      "execution_count": null,
      "metadata": {
        "id": "BFQ9y3_WsALR"
      },
      "outputs": [],
      "source": [
        "scaled_train = scaler.transform(RSG)\n",
        "scaled_test = scaler.transform(RSG_test)"
      ]
    },
    {
      "cell_type": "code",
      "execution_count": null,
      "metadata": {
        "colab": {
          "base_uri": "https://localhost:8080/"
        },
        "id": "JqIAwA2WsFyN",
        "outputId": "5dfbcb51-ba94-4afc-a97c-1fd11d2f6afa"
      },
      "outputs": [
        {
          "output_type": "execute_result",
          "data": {
            "text/plain": [
              "array([0.08036454])"
            ]
          },
          "metadata": {},
          "execution_count": 44
        }
      ],
      "source": [
        "scaled_train[0]"
      ]
    },
    {
      "cell_type": "markdown",
      "source": [
        "Se importa una librería para generar batches de entrenamiento."
      ],
      "metadata": {
        "id": "-PIyJujGjZWg"
      }
    },
    {
      "cell_type": "code",
      "execution_count": null,
      "metadata": {
        "id": "lb91maEPs5Co"
      },
      "outputs": [],
      "source": [
        "from keras.preprocessing.sequence import TimeseriesGenerator"
      ]
    },
    {
      "cell_type": "markdown",
      "metadata": {
        "id": "9J9naSSG2m1t"
      },
      "source": [
        "Se definen los batches para el entrenamiento."
      ]
    },
    {
      "cell_type": "code",
      "execution_count": null,
      "metadata": {
        "id": "8ISPAPxa2dzQ"
      },
      "outputs": [],
      "source": [
        "n_input = 20 # horas hacia atrás\n",
        "n_features = 0 # variables exógenas\n",
        "generator = TimeseriesGenerator(scaled_train, scaled_train, length=n_input, batch_size=1)"
      ]
    },
    {
      "cell_type": "code",
      "execution_count": null,
      "metadata": {
        "id": "6TKbRhvupoFc"
      },
      "outputs": [],
      "source": [
        "X,y = generator[0]"
      ]
    },
    {
      "cell_type": "code",
      "execution_count": null,
      "metadata": {
        "colab": {
          "base_uri": "https://localhost:8080/"
        },
        "id": "4TJAmlXFpxlE",
        "outputId": "6f628cc2-a06b-4977-ec5b-b91295ebb6c0"
      },
      "outputs": [
        {
          "output_type": "stream",
          "name": "stdout",
          "text": [
            "Datos: \n",
            "[0.08036454 0.31814416 0.5948633  0.34631317 0.32560066 0.57912179\n",
            " 0.32062966 0.48384424 0.24689312 0.10439105 0.07207954 0.08947804\n",
            " 0.17978459 0.32974316 0.55012428 0.37199669 0.30405965 0.24192212\n",
            " 0.24855012 0.23860812]\n",
            "Predicción: \n",
            " [[0.18061309]]\n"
          ]
        }
      ],
      "source": [
        "print(f'Datos: \\n{X.flatten()}')\n",
        "print(f'Predicción: \\n {y}')"
      ]
    },
    {
      "cell_type": "markdown",
      "metadata": {
        "id": "mORpHnYKp4Cp"
      },
      "source": [
        "## Creación del modelo"
      ]
    },
    {
      "cell_type": "markdown",
      "source": [
        "Se importan las librerías para manejo de redes neuronales"
      ],
      "metadata": {
        "id": "QOqFWxiOjg_z"
      }
    },
    {
      "cell_type": "code",
      "execution_count": null,
      "metadata": {
        "id": "RuWf_NwbpzPM"
      },
      "outputs": [],
      "source": [
        "from tensorflow import keras\n",
        "from keras.models import Sequential\n",
        "from keras.layers import Dense\n",
        "from keras.layers import LSTM"
      ]
    },
    {
      "cell_type": "markdown",
      "source": [
        "Se define el modelo."
      ],
      "metadata": {
        "id": "HROv5YVijjz-"
      }
    },
    {
      "cell_type": "code",
      "execution_count": null,
      "metadata": {
        "id": "bNvFyQL-p5u4"
      },
      "outputs": [],
      "source": [
        "# define model\n",
        "model = Sequential()\n",
        "model.add(LSTM(100, activation='relu', input_shape=(n_input, n_features+1)))\n",
        "model.add(Dense(1))\n",
        "model.compile(optimizer='adam', loss='mse')"
      ]
    },
    {
      "cell_type": "code",
      "execution_count": null,
      "metadata": {
        "colab": {
          "base_uri": "https://localhost:8080/"
        },
        "id": "zzx9CoFRp8wY",
        "outputId": "84a75a4e-dad6-4a31-aab7-7476b6fd552e"
      },
      "outputs": [
        {
          "output_type": "stream",
          "name": "stdout",
          "text": [
            "Model: \"sequential\"\n",
            "_________________________________________________________________\n",
            " Layer (type)                Output Shape              Param #   \n",
            "=================================================================\n",
            " lstm (LSTM)                 (None, 100)               40800     \n",
            "                                                                 \n",
            " dense (Dense)               (None, 1)                 101       \n",
            "                                                                 \n",
            "=================================================================\n",
            "Total params: 40,901\n",
            "Trainable params: 40,901\n",
            "Non-trainable params: 0\n",
            "_________________________________________________________________\n"
          ]
        }
      ],
      "source": [
        "model.summary()"
      ]
    },
    {
      "cell_type": "markdown",
      "metadata": {
        "id": "hteEtkvwowe3"
      },
      "source": [
        "Se puede observar que el error se estabiliza a partir de la séptima época"
      ]
    },
    {
      "cell_type": "code",
      "execution_count": null,
      "metadata": {
        "id": "wjuYD0JCp-Z4",
        "colab": {
          "base_uri": "https://localhost:8080/"
        },
        "outputId": "89b8fb2b-caaf-4b82-d729-ab514e8d0da8"
      },
      "outputs": [
        {
          "output_type": "stream",
          "name": "stdout",
          "text": [
            "Epoch 1/15\n",
            "5830/5830 [==============================] - 76s 12ms/step - loss: 0.0231\n",
            "Epoch 2/15\n",
            "5830/5830 [==============================] - 47s 8ms/step - loss: 0.0168\n",
            "Epoch 3/15\n",
            "5830/5830 [==============================] - 49s 8ms/step - loss: 0.0162\n",
            "Epoch 4/15\n",
            "5830/5830 [==============================] - 47s 8ms/step - loss: 0.0158\n",
            "Epoch 5/15\n",
            "5830/5830 [==============================] - 47s 8ms/step - loss: 0.0157\n",
            "Epoch 6/15\n",
            "5830/5830 [==============================] - 47s 8ms/step - loss: 0.0156\n",
            "Epoch 7/15\n",
            "5830/5830 [==============================] - 46s 8ms/step - loss: 0.0154\n",
            "Epoch 8/15\n",
            "5830/5830 [==============================] - 47s 8ms/step - loss: 0.0153\n",
            "Epoch 9/15\n",
            "5830/5830 [==============================] - 47s 8ms/step - loss: 0.0153\n",
            "Epoch 10/15\n",
            "5830/5830 [==============================] - 46s 8ms/step - loss: 0.0152\n",
            "Epoch 11/15\n",
            "5830/5830 [==============================] - 47s 8ms/step - loss: 0.0151\n",
            "Epoch 12/15\n",
            "5830/5830 [==============================] - 46s 8ms/step - loss: 0.0151\n",
            "Epoch 13/15\n",
            "5830/5830 [==============================] - 47s 8ms/step - loss: 0.0149\n",
            "Epoch 14/15\n",
            "5830/5830 [==============================] - 46s 8ms/step - loss: 0.0149\n",
            "Epoch 15/15\n",
            "5830/5830 [==============================] - 47s 8ms/step - loss: 0.0149\n"
          ]
        },
        {
          "output_type": "execute_result",
          "data": {
            "text/plain": [
              "<keras.callbacks.History at 0x7fb0ca0fd090>"
            ]
          },
          "metadata": {},
          "execution_count": 26
        }
      ],
      "source": [
        "# fit model\n",
        "model.fit(generator,epochs=15)"
      ]
    },
    {
      "cell_type": "markdown",
      "source": [
        "La reducción de error más importante se da en las primeras 5 épocas."
      ],
      "metadata": {
        "id": "f5xO6l7O8sv8"
      }
    },
    {
      "cell_type": "code",
      "execution_count": null,
      "metadata": {
        "colab": {
          "base_uri": "https://localhost:8080/",
          "height": 282
        },
        "id": "vOLB7VI8qC5d",
        "outputId": "a925bb7a-c42c-4897-84f8-14e3b12170ea"
      },
      "outputs": [
        {
          "output_type": "execute_result",
          "data": {
            "text/plain": [
              "[<matplotlib.lines.Line2D at 0x7fb0c735c8d0>]"
            ]
          },
          "metadata": {},
          "execution_count": 27
        },
        {
          "output_type": "display_data",
          "data": {
            "text/plain": [
              "<Figure size 432x288 with 1 Axes>"
            ],
            "image/png": "[encoded data removed]"
          },
          "metadata": {
            "needs_background": "light"
          }
        }
      ],
      "source": [
        "loss_per_epoch = model.history.history['loss']\n",
        "plt.plot(range(len(loss_per_epoch)),loss_per_epoch)"
      ]
    },
    {
      "cell_type": "code",
      "execution_count": null,
      "metadata": {
        "colab": {
          "base_uri": "https://localhost:8080/"
        },
        "id": "NXt5N7DuqNhs",
        "outputId": "38d8ba14-f9df-422d-f4b3-2206af2f7935"
      },
      "outputs": [
        {
          "data": {
            "text/plain": [
              "(1, 12, 1)"
            ]
          },
          "execution_count": 29,
          "metadata": {},
          "output_type": "execute_result"
        }
      ],
      "source": [
        "X.shape"
      ]
    },
    {
      "cell_type": "markdown",
      "source": [
        "Necesitaremos las últimas 12 horas del conjunto de entrenamiento para predecir la primera hora en el conjunto de prueba\n"
      ],
      "metadata": {
        "id": "1Zn6HMJ7jwqG"
      }
    },
    {
      "cell_type": "code",
      "execution_count": null,
      "metadata": {
        "id": "ClMdrm6Qr2IQ"
      },
      "outputs": [],
      "source": [
        "first_eval_batch = scaled_train[-12:]"
      ]
    },
    {
      "cell_type": "code",
      "execution_count": null,
      "metadata": {
        "colab": {
          "base_uri": "https://localhost:8080/"
        },
        "id": "E9g5zigVsKV8",
        "outputId": "ea6646bc-93d1-4446-c4a1-002cca88dfd6"
      },
      "outputs": [
        {
          "data": {
            "text/plain": [
              "array([[0.35211268],\n",
              "       [0.14001657],\n",
              "       [0.06130903],\n",
              "       [0.11019056],\n",
              "       [0.21789561],\n",
              "       [0.46478873],\n",
              "       [0.49047225],\n",
              "       [0.29826015],\n",
              "       [0.29328915],\n",
              "       [0.26594863],\n",
              "       [0.26843413],\n",
              "       [0.10107705]])"
            ]
          },
          "execution_count": 31,
          "metadata": {},
          "output_type": "execute_result"
        }
      ],
      "source": [
        "first_eval_batch"
      ]
    },
    {
      "cell_type": "code",
      "execution_count": null,
      "metadata": {
        "colab": {
          "base_uri": "https://localhost:8080/"
        },
        "id": "jvhkRx3QsLlD",
        "outputId": "1993ca3f-6e3f-45b4-b4af-0ffef3d19174"
      },
      "outputs": [
        {
          "data": {
            "text/plain": [
              "(12, 1)"
            ]
          },
          "execution_count": 32,
          "metadata": {},
          "output_type": "execute_result"
        }
      ],
      "source": [
        "first_eval_batch.shape"
      ]
    },
    {
      "cell_type": "code",
      "execution_count": null,
      "metadata": {
        "id": "C-_Vh1FEsWSz"
      },
      "outputs": [],
      "source": [
        "first_eval_batch = first_eval_batch.reshape((1, n_input, n_features+1))"
      ]
    },
    {
      "cell_type": "code",
      "execution_count": null,
      "metadata": {
        "colab": {
          "base_uri": "https://localhost:8080/"
        },
        "id": "2frqSbVrsayL",
        "outputId": "7d297e94-8d2d-4f91-d3b3-bcb87a683b40"
      },
      "outputs": [
        {
          "data": {
            "text/plain": [
              "(1, 12, 1)"
            ]
          },
          "execution_count": 34,
          "metadata": {},
          "output_type": "execute_result"
        }
      ],
      "source": [
        "first_eval_batch.shape"
      ]
    },
    {
      "cell_type": "markdown",
      "metadata": {
        "id": "hfvmoJIesn1Q"
      },
      "source": [
        "Valor predicho y valor real."
      ]
    },
    {
      "cell_type": "code",
      "execution_count": null,
      "metadata": {
        "colab": {
          "base_uri": "https://localhost:8080/"
        },
        "id": "HUrFeImvscrv",
        "outputId": "95af798a-9570-45b4-8c8a-c11fb9f2530d"
      },
      "outputs": [
        {
          "data": {
            "text/plain": [
              "array([0.09088302], dtype=float32)"
            ]
          },
          "execution_count": 35,
          "metadata": {},
          "output_type": "execute_result"
        }
      ],
      "source": [
        "model.predict(first_eval_batch)[0]"
      ]
    },
    {
      "cell_type": "code",
      "execution_count": null,
      "metadata": {
        "colab": {
          "base_uri": "https://localhost:8080/"
        },
        "id": "V-eArjSKsfLf",
        "outputId": "4bd5f198-199c-435f-b60a-c1c12d039178"
      },
      "outputs": [
        {
          "data": {
            "text/plain": [
              "array([0.10439105])"
            ]
          },
          "execution_count": 36,
          "metadata": {},
          "output_type": "execute_result"
        }
      ],
      "source": [
        "scaled_test[0]"
      ]
    },
    {
      "cell_type": "markdown",
      "metadata": {
        "id": "qeH1fk3fytkw"
      },
      "source": [
        "Se obtienen predicciones para una semana."
      ]
    },
    {
      "cell_type": "code",
      "execution_count": null,
      "metadata": {
        "id": "0Ah5rwvIsk3Y"
      },
      "outputs": [],
      "source": [
        "test_predictions = []\n",
        "\n",
        "first_eval_batch = scaled_train[-n_input:]\n",
        "current_batch = first_eval_batch.reshape((1, n_input, n_features+1))\n",
        "\n",
        "for i in range(12*7):\n",
        "    \n",
        "    # obtener la predicción ([0] es para obtener solo el número en lugar de [matriz])\n",
        "    current_pred = model.predict(current_batch)[0]\n",
        "    \n",
        "    # guardar la predicción\n",
        "    test_predictions.append(current_pred) \n",
        "    \n",
        "    # actualizar el lote para incluir ahora la predicción y soltar primer valor\n",
        "    current_batch = np.append(current_batch[:,1:,:],[[current_pred]],axis=1)"
      ]
    },
    {
      "cell_type": "code",
      "execution_count": null,
      "metadata": {
        "id": "vCvlATreuInI"
      },
      "outputs": [],
      "source": [
        "true_predictions = scaler.inverse_transform(test_predictions)"
      ]
    },
    {
      "cell_type": "code",
      "execution_count": null,
      "metadata": {
        "id": "aseWp8tezgb4"
      },
      "outputs": [],
      "source": [
        "df_plot = pd.DataFrame()"
      ]
    },
    {
      "cell_type": "code",
      "execution_count": null,
      "metadata": {
        "id": "eWL6uYlQy0sc"
      },
      "outputs": [],
      "source": [
        "df_plot['RSG'] =  df_test['SRGLOAVG1H'][:12*7]"
      ]
    },
    {
      "cell_type": "code",
      "execution_count": null,
      "metadata": {
        "id": "qpMlMFZDy6b0"
      },
      "outputs": [],
      "source": [
        "df_plot['predictions'] = true_predictions"
      ]
    },
    {
      "cell_type": "markdown",
      "source": [
        "Se grafican las predicciones de una semana."
      ],
      "metadata": {
        "id": "KPpR60Lvj36w"
      }
    },
    {
      "cell_type": "code",
      "execution_count": null,
      "metadata": {
        "colab": {
          "base_uri": "https://localhost:8080/",
          "height": 500
        },
        "id": "4Xp7DKX3zFSr",
        "outputId": "f81fc459-57ce-40df-984f-1bd2228830b0"
      },
      "outputs": [
        {
          "data": {
            "text/plain": [
              "<matplotlib.axes._subplots.AxesSubplot at 0x7fc16c0b6690>"
            ]
          },
          "execution_count": 42,
          "metadata": {},
          "output_type": "execute_result"
        },
        {
          "data": {
            "image/png": "[encoded data removed]",
            "text/plain": [
              "<Figure size 864x576 with 1 Axes>"
            ]
          },
          "metadata": {},
          "output_type": "display_data"
        }
      ],
      "source": [
        "df_plot.plot(figsize=(12,8))"
      ]
    },
    {
      "cell_type": "markdown",
      "metadata": {
        "id": "BJM95Y8tl9BJ"
      },
      "source": [
        "### Evaluación del modelo"
      ]
    },
    {
      "cell_type": "markdown",
      "source": [
        "Se obtienen valores predichos para todo el conjunto de pruebas."
      ],
      "metadata": {
        "id": "SGw1PKJekHLs"
      }
    },
    {
      "cell_type": "code",
      "execution_count": null,
      "metadata": {
        "id": "ZSPcvxJWoion"
      },
      "outputs": [],
      "source": [
        "predictions = []"
      ]
    },
    {
      "cell_type": "code",
      "execution_count": null,
      "metadata": {
        "id": "cydchUDglweN"
      },
      "outputs": [],
      "source": [
        "for i in range(12,len(df_test)):\n",
        "  model_input = scaled_test[i-12:i]\n",
        "  model_input = model_input.reshape((1, n_input, n_features+1))\n",
        "  predictions.append(model.predict(model_input)[0])"
      ]
    },
    {
      "cell_type": "code",
      "execution_count": null,
      "metadata": {
        "colab": {
          "base_uri": "https://localhost:8080/"
        },
        "id": "-X2sPc4bpvPx",
        "outputId": "bb6ab965-8574-4c2f-814f-333d084a38fe"
      },
      "outputs": [
        {
          "data": {
            "text/plain": [
              "[array([0.31834394], dtype=float32),\n",
              " array([0.37483808], dtype=float32),\n",
              " array([0.3302368], dtype=float32),\n",
              " array([0.34357017], dtype=float32),\n",
              " array([0.32537445], dtype=float32)]"
            ]
          },
          "execution_count": 45,
          "metadata": {},
          "output_type": "execute_result"
        }
      ],
      "source": [
        "predictions[:5]"
      ]
    },
    {
      "cell_type": "code",
      "execution_count": null,
      "metadata": {
        "id": "QJGvaV40qr4u"
      },
      "outputs": [],
      "source": [
        "predictions = np.ndarray.flatten(np.array(predictions))"
      ]
    },
    {
      "cell_type": "code",
      "execution_count": null,
      "metadata": {
        "colab": {
          "base_uri": "https://localhost:8080/"
        },
        "id": "oLjzI23SqBt_",
        "outputId": "c5f0644f-fb4a-45c8-d2bf-34c2012fcad5"
      },
      "outputs": [
        {
          "data": {
            "text/plain": [
              "1448"
            ]
          },
          "execution_count": 47,
          "metadata": {},
          "output_type": "execute_result"
        }
      ],
      "source": [
        "len(predictions)"
      ]
    },
    {
      "cell_type": "code",
      "execution_count": null,
      "metadata": {
        "colab": {
          "base_uri": "https://localhost:8080/"
        },
        "id": "V1Fbkn_BqHKn",
        "outputId": "715bcb45-ca97-462e-990a-59cb77df084c"
      },
      "outputs": [
        {
          "data": {
            "text/plain": [
              "1460"
            ]
          },
          "execution_count": 48,
          "metadata": {},
          "output_type": "execute_result"
        }
      ],
      "source": [
        "len(df_test)"
      ]
    },
    {
      "cell_type": "code",
      "execution_count": null,
      "metadata": {
        "id": "S_qUn8GTooEk"
      },
      "outputs": [],
      "source": [
        "predictions = predictions.reshape(-1,1)"
      ]
    },
    {
      "cell_type": "markdown",
      "source": [
        "Se obtienen los valores reales de la predicción a partir de los datos normalizados."
      ],
      "metadata": {
        "id": "bpAshUGBkMFk"
      }
    },
    {
      "cell_type": "code",
      "execution_count": null,
      "metadata": {
        "id": "YBSHxkiLqN1-"
      },
      "outputs": [],
      "source": [
        "true_predictions = scaler.inverse_transform(predictions)"
      ]
    },
    {
      "cell_type": "code",
      "execution_count": null,
      "metadata": {
        "colab": {
          "base_uri": "https://localhost:8080/"
        },
        "id": "fcJlZWrVqTXj",
        "outputId": "b08fbe3f-f4d5-4341-8920-78e9848ee88e"
      },
      "outputs": [
        {
          "data": {
            "text/plain": [
              "array([[394.24115],\n",
              "       [462.4296 ],\n",
              "       [408.59583],\n",
              "       [424.6892 ],\n",
              "       [402.727  ]], dtype=float32)"
            ]
          },
          "execution_count": 52,
          "metadata": {},
          "output_type": "execute_result"
        }
      ],
      "source": [
        "true_predictions[:5]"
      ]
    },
    {
      "cell_type": "code",
      "execution_count": null,
      "metadata": {
        "id": "NJCaF9sSqVjQ"
      },
      "outputs": [],
      "source": [
        "true_values = np.ndarray.flatten(df_test.iloc[12:]['SRGLOAVG1H'].values)"
      ]
    },
    {
      "cell_type": "code",
      "execution_count": null,
      "metadata": {
        "colab": {
          "base_uri": "https://localhost:8080/"
        },
        "id": "FQi4bQ9eqapf",
        "outputId": "1b2867dc-f01f-403e-f569-c750d7d55931"
      },
      "outputs": [
        {
          "data": {
            "text/plain": [
              "1448"
            ]
          },
          "execution_count": 54,
          "metadata": {},
          "output_type": "execute_result"
        }
      ],
      "source": [
        "len(true_values)"
      ]
    },
    {
      "cell_type": "markdown",
      "source": [
        "Se calcula el error MSE."
      ],
      "metadata": {
        "id": "BNKfJOXgkRqN"
      }
    },
    {
      "cell_type": "code",
      "execution_count": null,
      "metadata": {
        "colab": {
          "base_uri": "https://localhost:8080/"
        },
        "id": "UHkNm_fsq0Xu",
        "outputId": "c55b4453-5d99-4fa1-916e-b38f966d1f11"
      },
      "outputs": [
        {
          "data": {
            "text/plain": [
              "27025.09416820293"
            ]
          },
          "execution_count": 55,
          "metadata": {},
          "output_type": "execute_result"
        }
      ],
      "source": [
        "mean_squared_error(true_values,true_predictions)"
      ]
    },
    {
      "cell_type": "markdown",
      "metadata": {
        "id": "apIPVpqhrKTv"
      },
      "source": [
        "De esta manera, se puede comparar qué tan bien lo hace este modelo respecto a otras alternativas."
      ]
    },
    {
      "cell_type": "markdown",
      "metadata": {
        "id": "Gk1qJqeXjXag"
      },
      "source": [
        "## Búsqueda de los mejores parámetros para el modelo"
      ]
    },
    {
      "cell_type": "markdown",
      "source": [
        "Se deben optimizar los hiperparámetros para que un modelo de redes neuronales obtenga los mejores resultados."
      ],
      "metadata": {
        "id": "Ida7eh-Lke_n"
      }
    },
    {
      "cell_type": "markdown",
      "metadata": {
        "id": "z8Bk9LZYCyfk"
      },
      "source": [
        "Esta función permite crear un modelo que considere varias capas LSTM y distinto número de neuronas."
      ]
    },
    {
      "cell_type": "code",
      "execution_count": null,
      "metadata": {
        "id": "EC9pyXfmgMbl"
      },
      "outputs": [],
      "source": [
        "def create_Model(n_input, LSTM_neurons = 100, layers=3,n_features=0):\n",
        "  # define model\n",
        "  model = Sequential()\n",
        "  if(layers>1):\n",
        "    model.add(LSTM(LSTM_neurons, activation='relu', input_shape=(n_input, n_features+1),return_sequences=True))\n",
        "    for i in range(layers-2):\n",
        "        model.add(LSTM(LSTM_neurons, activation='relu',return_sequences=True))\n",
        "    model.add(LSTM(LSTM_neurons, activation='relu'))\n",
        "  else:\n",
        "    model.add(LSTM(LSTM_neurons, activation='relu', input_shape=(n_input, n_features+1)))\n",
        "  model.add(Dense(1))\n",
        "  model.compile(optimizer='adam', loss='mse')\n",
        "  return model"
      ]
    },
    {
      "cell_type": "code",
      "execution_count": null,
      "metadata": {
        "id": "NtVIbPT4GviH"
      },
      "outputs": [],
      "source": [
        "model = create_Model(10,100,4)"
      ]
    },
    {
      "cell_type": "code",
      "execution_count": null,
      "metadata": {
        "colab": {
          "base_uri": "https://localhost:8080/"
        },
        "id": "Eo8vwGcEG0aS",
        "outputId": "05a3ec28-41d3-4229-edca-b2b739214925"
      },
      "outputs": [
        {
          "name": "stdout",
          "output_type": "stream",
          "text": [
            "Model: \"sequential_1\"\n",
            "_________________________________________________________________\n",
            " Layer (type)                Output Shape              Param #   \n",
            "=================================================================\n",
            " lstm_1 (LSTM)               (None, 10, 100)           40800     \n",
            "                                                                 \n",
            " lstm_2 (LSTM)               (None, 10, 100)           80400     \n",
            "                                                                 \n",
            " lstm_3 (LSTM)               (None, 10, 100)           80400     \n",
            "                                                                 \n",
            " lstm_4 (LSTM)               (None, 100)               80400     \n",
            "                                                                 \n",
            " dense_1 (Dense)             (None, 1)                 101       \n",
            "                                                                 \n",
            "=================================================================\n",
            "Total params: 282,101\n",
            "Trainable params: 282,101\n",
            "Non-trainable params: 0\n",
            "_________________________________________________________________\n"
          ]
        }
      ],
      "source": [
        "model.summary()"
      ]
    },
    {
      "cell_type": "markdown",
      "source": [
        "### Grid search"
      ],
      "metadata": {
        "id": "3CFujO_ek1NE"
      }
    },
    {
      "cell_type": "markdown",
      "source": [
        "Para realizar esta búsqueda se deben probar todas las combinaciones de hiperparámetros."
      ],
      "metadata": {
        "id": "SIGXVChsk4lt"
      }
    },
    {
      "cell_type": "markdown",
      "source": [
        "Se crea una lista en caso de que ya se tengan resultados de combinaciones anteriores. Esto es necesario pues Google Colab tiene períodos de utilización de máximo 12 horas, antes de que el entorno se desconecte. La búsqueda completa puede tardar más de 36 horas."
      ],
      "metadata": {
        "id": "szjUxIrrk-BN"
      }
    },
    {
      "cell_type": "code",
      "execution_count": null,
      "metadata": {
        "id": "MKlwNhUerl48"
      },
      "outputs": [],
      "source": [
        "combinaciones_anteriores = []"
      ]
    },
    {
      "cell_type": "code",
      "execution_count": null,
      "metadata": {
        "id": "SnYFQ-PHhfsG"
      },
      "outputs": [],
      "source": [
        "resultados_anteriores = []"
      ]
    },
    {
      "cell_type": "code",
      "execution_count": null,
      "metadata": {
        "id": "a0sZHJ-1hjDc"
      },
      "outputs": [],
      "source": [
        "import json"
      ]
    },
    {
      "cell_type": "markdown",
      "source": [
        "Los resultados que se generaron antes de que el entorno se desconectara se recuperan en formato json."
      ],
      "metadata": {
        "id": "0f8CLIjWlPMc"
      }
    },
    {
      "cell_type": "code",
      "execution_count": null,
      "metadata": {
        "id": "ZhUelOkKhW6D"
      },
      "outputs": [],
      "source": [
        "with open(\"./drive/MyDrive/DatosInvestigacion/resultados_LSTM_univariado_RS.txt\",'r') as fp:\n",
        "    for line in fp:\n",
        "      resultados_anteriores.append(json.loads(line))"
      ]
    },
    {
      "cell_type": "markdown",
      "source": [
        "Se crea un DataFrame a partir de los resultados."
      ],
      "metadata": {
        "id": "YlUKPyrWlarN"
      }
    },
    {
      "cell_type": "code",
      "execution_count": null,
      "metadata": {
        "id": "JwPNGFtghlDi"
      },
      "outputs": [],
      "source": [
        "df_resultados_anteriores = pd.DataFrame(resultados_anteriores)"
      ]
    },
    {
      "cell_type": "code",
      "execution_count": null,
      "metadata": {
        "id": "c26Kwg4LhpF5"
      },
      "outputs": [],
      "source": [
        "df_resultados = df_resultados_anteriores"
      ]
    },
    {
      "cell_type": "markdown",
      "source": [
        "Se sabe el error más pequeño, se busca combinaciones que puedan reducirlo."
      ],
      "metadata": {
        "id": "pQM5Ynq0leGC"
      }
    },
    {
      "cell_type": "code",
      "source": [
        "df_resultados[df_resultados['RMSE']==df_resultados['RMSE'].min()]"
      ],
      "metadata": {
        "colab": {
          "base_uri": "https://localhost:8080/",
          "height": 80
        },
        "id": "jp-d1ADPSadQ",
        "outputId": "62b396b8-2859-47fb-e6e7-d96fcaaf51de"
      },
      "execution_count": null,
      "outputs": [
        {
          "output_type": "execute_result",
          "data": {
            "text/plain": [
              "    Retrasos  Neuronas LSTM  Batch size  LSTM Layers           MSE        MAE  \\\n",
              "99        22            100          50            1  26136.180967  125.98111   \n",
              "\n",
              "          RMSE  \n",
              "99  161.666883  "
            ],
            "text/html": [
              "\n",
              "  <div id=\"df-52a982f0-5d1b-45fd-8183-09402db8f93b\">\n",
              "    <div class=\"colab-df-container\">\n",
              "      <div>\n",
              "<style scoped>\n",
              "    .dataframe tbody tr th:only-of-type {\n",
              "        vertical-align: middle;\n",
              "    }\n",
              "\n",
              "    .dataframe tbody tr th {\n",
              "        vertical-align: top;\n",
              "    }\n",
              "\n",
              "    .dataframe thead th {\n",
              "        text-align: right;\n",
              "    }\n",
              "</style>\n",
              "<table border=\"1\" class=\"dataframe\">\n",
              "  <thead>\n",
              "    <tr style=\"text-align: right;\">\n",
              "      <th></th>\n",
              "      <th>Retrasos</th>\n",
              "      <th>Neuronas LSTM</th>\n",
              "      <th>Batch size</th>\n",
              "      <th>LSTM Layers</th>\n",
              "      <th>MSE</th>\n",
              "      <th>MAE</th>\n",
              "      <th>RMSE</th>\n",
              "    </tr>\n",
              "  </thead>\n",
              "  <tbody>\n",
              "    <tr>\n",
              "      <th>99</th>\n",
              "      <td>22</td>\n",
              "      <td>100</td>\n",
              "      <td>50</td>\n",
              "      <td>1</td>\n",
              "      <td>26136.180967</td>\n",
              "      <td>125.98111</td>\n",
              "      <td>161.666883</td>\n",
              "    </tr>\n",
              "  </tbody>\n",
              "</table>\n",
              "</div>\n",
              "      <button class=\"colab-df-convert\" onclick=\"convertToInteractive('df-52a982f0-5d1b-45fd-8183-09402db8f93b')\"\n",
              "              title=\"Convert this dataframe to an interactive table.\"\n",
              "              style=\"display:none;\">\n",
              "        \n",
              "  <svg xmlns=\"http://www.w3.org/2000/svg\" height=\"24px\"viewBox=\"0 0 24 24\"\n",
              "       width=\"24px\">\n",
              "    <path d=\"M0 0h24v24H0V0z\" fill=\"none\"/>\n",
              "    <path d=\"M18.56 5.44l.94 2.06.94-2.06 2.06-.94-2.06-.94-.94-2.06-.94 2.06-2.06.94zm-11 1L8.5 8.5l.94-2.06 2.06-.94-2.06-.94L8.5 2.5l-.94 2.06-2.06.94zm10 10l.94 2.06.94-2.06 2.06-.94-2.06-.94-.94-2.06-.94 2.06-2.06.94z\"/><path d=\"M17.41 7.96l-1.37-1.37c-.4-.4-.92-.59-1.43-.59-.52 0-1.04.2-1.43.59L10.3 9.45l-7.72 7.72c-.78.78-.78 2.05 0 2.83L4 21.41c.39.39.9.59 1.41.59.51 0 1.02-.2 1.41-.59l7.78-7.78 2.81-2.81c.8-.78.8-2.07 0-2.86zM5.41 20L4 18.59l7.72-7.72 1.47 1.35L5.41 20z\"/>\n",
              "  </svg>\n",
              "      </button>\n",
              "      \n",
              "  <style>\n",
              "    .colab-df-container {\n",
              "      display:flex;\n",
              "      flex-wrap:wrap;\n",
              "      gap: 12px;\n",
              "    }\n",
              "\n",
              "    .colab-df-convert {\n",
              "      background-color: #E8F0FE;\n",
              "      border: none;\n",
              "      border-radius: 50%;\n",
              "      cursor: pointer;\n",
              "      display: none;\n",
              "      fill: #1967D2;\n",
              "      height: 32px;\n",
              "      padding: 0 0 0 0;\n",
              "      width: 32px;\n",
              "    }\n",
              "\n",
              "    .colab-df-convert:hover {\n",
              "      background-color: #E2EBFA;\n",
              "      box-shadow: 0px 1px 2px rgba(60, 64, 67, 0.3), 0px 1px 3px 1px rgba(60, 64, 67, 0.15);\n",
              "      fill: #174EA6;\n",
              "    }\n",
              "\n",
              "    [theme=dark] .colab-df-convert {\n",
              "      background-color: #3B4455;\n",
              "      fill: #D2E3FC;\n",
              "    }\n",
              "\n",
              "    [theme=dark] .colab-df-convert:hover {\n",
              "      background-color: #434B5C;\n",
              "      box-shadow: 0px 1px 3px 1px rgba(0, 0, 0, 0.15);\n",
              "      filter: drop-shadow(0px 1px 2px rgba(0, 0, 0, 0.3));\n",
              "      fill: #FFFFFF;\n",
              "    }\n",
              "  </style>\n",
              "\n",
              "      <script>\n",
              "        const buttonEl =\n",
              "          document.querySelector('#df-52a982f0-5d1b-45fd-8183-09402db8f93b button.colab-df-convert');\n",
              "        buttonEl.style.display =\n",
              "          google.colab.kernel.accessAllowed ? 'block' : 'none';\n",
              "\n",
              "        async function convertToInteractive(key) {\n",
              "          const element = document.querySelector('#df-52a982f0-5d1b-45fd-8183-09402db8f93b');\n",
              "          const dataTable =\n",
              "            await google.colab.kernel.invokeFunction('convertToInteractive',\n",
              "                                                     [key], {});\n",
              "          if (!dataTable) return;\n",
              "\n",
              "          const docLinkHtml = 'Like what you see? Visit the ' +\n",
              "            '<a target=\"_blank\" href=https://colab.research.google.com/notebooks/data_table.ipynb>data table notebook</a>'\n",
              "            + ' to learn more about interactive tables.';\n",
              "          element.innerHTML = '';\n",
              "          dataTable['output_type'] = 'display_data';\n",
              "          await google.colab.output.renderOutput(dataTable, element);\n",
              "          const docLink = document.createElement('div');\n",
              "          docLink.innerHTML = docLinkHtml;\n",
              "          element.appendChild(docLink);\n",
              "        }\n",
              "      </script>\n",
              "    </div>\n",
              "  </div>\n",
              "  "
            ]
          },
          "metadata": {},
          "execution_count": 12
        }
      ]
    },
    {
      "cell_type": "code",
      "execution_count": null,
      "metadata": {
        "id": "Hwn1rGcEDPDd"
      },
      "outputs": [],
      "source": [
        "min_RMSE = 161.6668827155882"
      ]
    },
    {
      "cell_type": "markdown",
      "source": [
        "Se almacenan las combinaciones de hiperparámetros ya sabidas para no ejecutar la búsqueda sobre esas opciones otra vez."
      ],
      "metadata": {
        "id": "c-evY2yhlmuj"
      }
    },
    {
      "cell_type": "code",
      "execution_count": null,
      "metadata": {
        "id": "QfJaMH16rpQ4"
      },
      "outputs": [],
      "source": [
        "for i in range(len(df_resultados)):\n",
        "  combinaciones_anteriores.append((int(df_resultados.iloc[i]['Retrasos']),\n",
        "                                   int(df_resultados.iloc[i]['Neuronas LSTM']),\n",
        "                                   int(df_resultados.iloc[i]['Batch size']),\n",
        "                                   int(df_resultados.iloc[i]['LSTM Layers'])))"
      ]
    },
    {
      "cell_type": "markdown",
      "source": [
        "Se ejecuta la búsqueda a través de todas las combinaciones posibles. El código de creación y evaluación del modelo es el mismo que se ha presentado arriba."
      ],
      "metadata": {
        "id": "NTtDc6KqlwwU"
      }
    },
    {
      "cell_type": "code",
      "execution_count": null,
      "metadata": {
        "colab": {
          "base_uri": "https://localhost:8080/"
        },
        "id": "2UudqF6HgFKH",
        "outputId": "39c6eb9e-94e1-43d6-ccd2-b267098e5f6f"
      },
      "outputs": [
        {
          "output_type": "stream",
          "name": "stdout",
          "text": [
            "{'Retrasos': 22, 'Neuronas LSTM': 125, 'Batch size': 50, 'LSTM Layers': 3}\n",
            "RMSE: 169.86444922499618\n",
            "MAE 133.33967061898306\n",
            "Min RMSE 161.6668827155882\n",
            "{'Retrasos': 22, 'Neuronas LSTM': 125, 'Batch size': 100, 'LSTM Layers': 1}\n",
            "RMSE: 171.64717356767\n",
            "MAE 133.1459484739496\n",
            "Min RMSE 161.6668827155882\n",
            "{'Retrasos': 22, 'Neuronas LSTM': 125, 'Batch size': 100, 'LSTM Layers': 2}\n",
            "RMSE: 164.17929859746332\n",
            "MAE 128.9577191688421\n",
            "Min RMSE 161.6668827155882\n",
            "{'Retrasos': 22, 'Neuronas LSTM': 125, 'Batch size': 100, 'LSTM Layers': 3}\n",
            "RMSE: 169.71536677942592\n",
            "MAE 132.05090543723074\n",
            "Min RMSE 161.6668827155882\n",
            "{'Retrasos': 22, 'Neuronas LSTM': 125, 'Batch size': 150, 'LSTM Layers': 1}\n",
            "RMSE: 166.5748816904988\n",
            "MAE 128.05731858298577\n",
            "Min RMSE 161.6668827155882\n",
            "{'Retrasos': 22, 'Neuronas LSTM': 125, 'Batch size': 150, 'LSTM Layers': 2}\n",
            "RMSE: 165.5868741504839\n",
            "MAE 126.78680163132796\n",
            "Min RMSE 161.6668827155882\n",
            "{'Retrasos': 22, 'Neuronas LSTM': 125, 'Batch size': 150, 'LSTM Layers': 3}\n",
            "RMSE: 176.9525863158617\n",
            "MAE 141.10331090468193\n",
            "Min RMSE 161.6668827155882\n",
            "{'Retrasos': 24, 'Neuronas LSTM': 125, 'Batch size': 50, 'LSTM Layers': 1}\n",
            "RMSE: 169.24917362691\n",
            "MAE 131.67036054592612\n",
            "Min RMSE 161.6668827155882\n",
            "{'Retrasos': 24, 'Neuronas LSTM': 125, 'Batch size': 50, 'LSTM Layers': 2}\n",
            "RMSE: 165.89445605468302\n",
            "MAE 126.56952418059028\n",
            "Min RMSE 161.6668827155882\n",
            "{'Retrasos': 24, 'Neuronas LSTM': 125, 'Batch size': 50, 'LSTM Layers': 3}\n",
            "RMSE: 166.626948093145\n",
            "MAE 130.00323906582378\n",
            "Min RMSE 161.6668827155882\n",
            "{'Retrasos': 24, 'Neuronas LSTM': 125, 'Batch size': 100, 'LSTM Layers': 1}\n",
            "RMSE: 179.21790325013\n",
            "MAE 140.7966036163997\n",
            "Min RMSE 161.6668827155882\n",
            "{'Retrasos': 24, 'Neuronas LSTM': 125, 'Batch size': 100, 'LSTM Layers': 2}\n",
            "RMSE: 195.91590791789577\n",
            "MAE 152.9151744444058\n",
            "Min RMSE 161.6668827155882\n",
            "{'Retrasos': 24, 'Neuronas LSTM': 125, 'Batch size': 100, 'LSTM Layers': 3}\n",
            "RMSE: 168.15951503764185\n",
            "MAE 133.19660953426094\n",
            "Min RMSE 161.6668827155882\n",
            "{'Retrasos': 24, 'Neuronas LSTM': 125, 'Batch size': 150, 'LSTM Layers': 1}\n",
            "RMSE: 168.12791627651805\n",
            "MAE 131.47043190427476\n",
            "Min RMSE 161.6668827155882\n",
            "{'Retrasos': 24, 'Neuronas LSTM': 125, 'Batch size': 150, 'LSTM Layers': 2}\n",
            "RMSE: 164.54797351828486\n",
            "MAE 129.4602572512826\n",
            "Min RMSE 161.6668827155882\n",
            "{'Retrasos': 24, 'Neuronas LSTM': 125, 'Batch size': 150, 'LSTM Layers': 3}\n",
            "RMSE: 182.78625418317156\n",
            "MAE 144.2378896803577\n",
            "Min RMSE 161.6668827155882\n"
          ]
        }
      ],
      "source": [
        "for retrasos in range(16,26,2): #hasta dos días y medio hacia el pasado\n",
        "  for num_neuronas in range(50,126,25): \n",
        "    for batch_size in range(50,151,50):\n",
        "      for num_layers in range(1,4): \n",
        "        if((retrasos,num_neuronas,batch_size,num_layers) in combinaciones_anteriores):\n",
        "          continue\n",
        "        print({\n",
        "            'Retrasos':retrasos,\n",
        "            'Neuronas LSTM':num_neuronas,\n",
        "            'Batch size':batch_size,\n",
        "            'LSTM Layers': num_layers\n",
        "        })\n",
        "        n_input = retrasos # horas hacia atrás\n",
        "        n_features = 0 # variables exógenas\n",
        "        generator = TimeseriesGenerator(scaled_train, scaled_train, length=n_input, batch_size=1)  \n",
        "        model = create_Model(n_input,LSTM_neurons=num_neuronas,layers=num_layers)\n",
        "        model.fit(generator,epochs=7,verbose=False,batch_size=batch_size)\n",
        "        predictions = []\n",
        "        for j in range(n_input,len(df_test)):\n",
        "          model_input = scaled_test[j-n_input:j]\n",
        "          model_input = model_input.reshape((1, n_input, n_features+1))\n",
        "          predictions.append(model.predict(model_input)[0])\n",
        "        predictions = np.ndarray.flatten(np.array(predictions))  \n",
        "        true_predictions = scaler.inverse_transform(np.reshape(predictions,(-1,1)))\n",
        "        true_values = np.ndarray.flatten(df_test.iloc[n_input:]['SRGLOAVG1H'].values)\n",
        "        errorMSE = mean_squared_error(true_values,true_predictions)\n",
        "        errorMAE = mean_absolute_error(true_values,true_predictions)\n",
        "        errorMSE = errorMSE\n",
        "        errorRMSE = np.sqrt(errorMSE)\n",
        "        if(errorRMSE<min_RMSE):\n",
        "          print('BEST')\n",
        "          # se salva el modelo con los mejores resultados\n",
        "          model.save('./drive/MyDrive/DatosInvestigacion/LSTM_univariado_RS.h5')\n",
        "          min_RMSE = errorRMSE\n",
        "        print('RMSE:',errorRMSE)\n",
        "        print('MAE',errorMAE)\n",
        "        print('Min RMSE',min_RMSE)\n",
        "\n",
        "        resultado = {\n",
        "            'Retrasos':retrasos,\n",
        "            'Neuronas LSTM':num_neuronas,\n",
        "            'Batch size':batch_size,\n",
        "            'LSTM Layers': num_layers,\n",
        "            'MSE':errorMSE,\n",
        "            'MAE':errorMAE,\n",
        "            'RMSE':errorRMSE\n",
        "        }\n",
        "        # se salvan los resultados de la combinación actual\n",
        "        with open(\"./drive/MyDrive/DatosInvestigacion/resultados_LSTM_univariado_RS.txt\",\"a\") as file:\n",
        "          resultado = json.dumps(resultado)\n",
        "          file.write(resultado)\n",
        "          file.write('\\n')"
      ]
    },
    {
      "cell_type": "markdown",
      "source": [
        "Se puede ver el modelo con el error más pequeño después de toda la búsqueda."
      ],
      "metadata": {
        "id": "ZZTd2detmIzI"
      }
    },
    {
      "cell_type": "code",
      "execution_count": null,
      "metadata": {
        "colab": {
          "base_uri": "https://localhost:8080/",
          "height": 80
        },
        "id": "mb_3Trvu6Pju",
        "outputId": "7b20806b-0fc9-4380-a9d6-ac7c68b6646b"
      },
      "outputs": [
        {
          "output_type": "execute_result",
          "data": {
            "text/plain": [
              "    Retrasos  Neuronas LSTM  Batch size  LSTM Layers           MSE        MAE  \\\n",
              "99        22            100          50            1  26136.180967  125.98111   \n",
              "\n",
              "          RMSE  \n",
              "99  161.666883  "
            ],
            "text/html": [
              "\n",
              "  <div id=\"df-48dd5d31-8166-4098-a706-df1810a05418\">\n",
              "    <div class=\"colab-df-container\">\n",
              "      <div>\n",
              "<style scoped>\n",
              "    .dataframe tbody tr th:only-of-type {\n",
              "        vertical-align: middle;\n",
              "    }\n",
              "\n",
              "    .dataframe tbody tr th {\n",
              "        vertical-align: top;\n",
              "    }\n",
              "\n",
              "    .dataframe thead th {\n",
              "        text-align: right;\n",
              "    }\n",
              "</style>\n",
              "<table border=\"1\" class=\"dataframe\">\n",
              "  <thead>\n",
              "    <tr style=\"text-align: right;\">\n",
              "      <th></th>\n",
              "      <th>Retrasos</th>\n",
              "      <th>Neuronas LSTM</th>\n",
              "      <th>Batch size</th>\n",
              "      <th>LSTM Layers</th>\n",
              "      <th>MSE</th>\n",
              "      <th>MAE</th>\n",
              "      <th>RMSE</th>\n",
              "    </tr>\n",
              "  </thead>\n",
              "  <tbody>\n",
              "    <tr>\n",
              "      <th>99</th>\n",
              "      <td>22</td>\n",
              "      <td>100</td>\n",
              "      <td>50</td>\n",
              "      <td>1</td>\n",
              "      <td>26136.180967</td>\n",
              "      <td>125.98111</td>\n",
              "      <td>161.666883</td>\n",
              "    </tr>\n",
              "  </tbody>\n",
              "</table>\n",
              "</div>\n",
              "      <button class=\"colab-df-convert\" onclick=\"convertToInteractive('df-48dd5d31-8166-4098-a706-df1810a05418')\"\n",
              "              title=\"Convert this dataframe to an interactive table.\"\n",
              "              style=\"display:none;\">\n",
              "        \n",
              "  <svg xmlns=\"http://www.w3.org/2000/svg\" height=\"24px\"viewBox=\"0 0 24 24\"\n",
              "       width=\"24px\">\n",
              "    <path d=\"M0 0h24v24H0V0z\" fill=\"none\"/>\n",
              "    <path d=\"M18.56 5.44l.94 2.06.94-2.06 2.06-.94-2.06-.94-.94-2.06-.94 2.06-2.06.94zm-11 1L8.5 8.5l.94-2.06 2.06-.94-2.06-.94L8.5 2.5l-.94 2.06-2.06.94zm10 10l.94 2.06.94-2.06 2.06-.94-2.06-.94-.94-2.06-.94 2.06-2.06.94z\"/><path d=\"M17.41 7.96l-1.37-1.37c-.4-.4-.92-.59-1.43-.59-.52 0-1.04.2-1.43.59L10.3 9.45l-7.72 7.72c-.78.78-.78 2.05 0 2.83L4 21.41c.39.39.9.59 1.41.59.51 0 1.02-.2 1.41-.59l7.78-7.78 2.81-2.81c.8-.78.8-2.07 0-2.86zM5.41 20L4 18.59l7.72-7.72 1.47 1.35L5.41 20z\"/>\n",
              "  </svg>\n",
              "      </button>\n",
              "      \n",
              "  <style>\n",
              "    .colab-df-container {\n",
              "      display:flex;\n",
              "      flex-wrap:wrap;\n",
              "      gap: 12px;\n",
              "    }\n",
              "\n",
              "    .colab-df-convert {\n",
              "      background-color: #E8F0FE;\n",
              "      border: none;\n",
              "      border-radius: 50%;\n",
              "      cursor: pointer;\n",
              "      display: none;\n",
              "      fill: #1967D2;\n",
              "      height: 32px;\n",
              "      padding: 0 0 0 0;\n",
              "      width: 32px;\n",
              "    }\n",
              "\n",
              "    .colab-df-convert:hover {\n",
              "      background-color: #E2EBFA;\n",
              "      box-shadow: 0px 1px 2px rgba(60, 64, 67, 0.3), 0px 1px 3px 1px rgba(60, 64, 67, 0.15);\n",
              "      fill: #174EA6;\n",
              "    }\n",
              "\n",
              "    [theme=dark] .colab-df-convert {\n",
              "      background-color: #3B4455;\n",
              "      fill: #D2E3FC;\n",
              "    }\n",
              "\n",
              "    [theme=dark] .colab-df-convert:hover {\n",
              "      background-color: #434B5C;\n",
              "      box-shadow: 0px 1px 3px 1px rgba(0, 0, 0, 0.15);\n",
              "      filter: drop-shadow(0px 1px 2px rgba(0, 0, 0, 0.3));\n",
              "      fill: #FFFFFF;\n",
              "    }\n",
              "  </style>\n",
              "\n",
              "      <script>\n",
              "        const buttonEl =\n",
              "          document.querySelector('#df-48dd5d31-8166-4098-a706-df1810a05418 button.colab-df-convert');\n",
              "        buttonEl.style.display =\n",
              "          google.colab.kernel.accessAllowed ? 'block' : 'none';\n",
              "\n",
              "        async function convertToInteractive(key) {\n",
              "          const element = document.querySelector('#df-48dd5d31-8166-4098-a706-df1810a05418');\n",
              "          const dataTable =\n",
              "            await google.colab.kernel.invokeFunction('convertToInteractive',\n",
              "                                                     [key], {});\n",
              "          if (!dataTable) return;\n",
              "\n",
              "          const docLinkHtml = 'Like what you see? Visit the ' +\n",
              "            '<a target=\"_blank\" href=https://colab.research.google.com/notebooks/data_table.ipynb>data table notebook</a>'\n",
              "            + ' to learn more about interactive tables.';\n",
              "          element.innerHTML = '';\n",
              "          dataTable['output_type'] = 'display_data';\n",
              "          await google.colab.output.renderOutput(dataTable, element);\n",
              "          const docLink = document.createElement('div');\n",
              "          docLink.innerHTML = docLinkHtml;\n",
              "          element.appendChild(docLink);\n",
              "        }\n",
              "      </script>\n",
              "    </div>\n",
              "  </div>\n",
              "  "
            ]
          },
          "metadata": {},
          "execution_count": 13
        }
      ],
      "source": [
        "df_resultados[df_resultados['MSE'] == df_resultados['MSE'].min()]"
      ]
    },
    {
      "cell_type": "code",
      "execution_count": null,
      "metadata": {
        "colab": {
          "base_uri": "https://localhost:8080/",
          "height": 80
        },
        "id": "ohi_D9Gf6UcR",
        "outputId": "8586ddf8-3389-48d9-83d7-6b6bbe31d6c2"
      },
      "outputs": [
        {
          "output_type": "execute_result",
          "data": {
            "text/plain": [
              "    Retrasos  Neuronas LSTM  Batch size  LSTM Layers           MSE  \\\n",
              "76        20            100         100            2  26346.886807   \n",
              "\n",
              "           MAE        RMSE  \n",
              "76  124.699381  162.317241  "
            ],
            "text/html": [
              "\n",
              "  <div id=\"df-c9ef1fd2-3a2e-4f90-84a1-32293fe392f3\">\n",
              "    <div class=\"colab-df-container\">\n",
              "      <div>\n",
              "<style scoped>\n",
              "    .dataframe tbody tr th:only-of-type {\n",
              "        vertical-align: middle;\n",
              "    }\n",
              "\n",
              "    .dataframe tbody tr th {\n",
              "        vertical-align: top;\n",
              "    }\n",
              "\n",
              "    .dataframe thead th {\n",
              "        text-align: right;\n",
              "    }\n",
              "</style>\n",
              "<table border=\"1\" class=\"dataframe\">\n",
              "  <thead>\n",
              "    <tr style=\"text-align: right;\">\n",
              "      <th></th>\n",
              "      <th>Retrasos</th>\n",
              "      <th>Neuronas LSTM</th>\n",
              "      <th>Batch size</th>\n",
              "      <th>LSTM Layers</th>\n",
              "      <th>MSE</th>\n",
              "      <th>MAE</th>\n",
              "      <th>RMSE</th>\n",
              "    </tr>\n",
              "  </thead>\n",
              "  <tbody>\n",
              "    <tr>\n",
              "      <th>76</th>\n",
              "      <td>20</td>\n",
              "      <td>100</td>\n",
              "      <td>100</td>\n",
              "      <td>2</td>\n",
              "      <td>26346.886807</td>\n",
              "      <td>124.699381</td>\n",
              "      <td>162.317241</td>\n",
              "    </tr>\n",
              "  </tbody>\n",
              "</table>\n",
              "</div>\n",
              "      <button class=\"colab-df-convert\" onclick=\"convertToInteractive('df-c9ef1fd2-3a2e-4f90-84a1-32293fe392f3')\"\n",
              "              title=\"Convert this dataframe to an interactive table.\"\n",
              "              style=\"display:none;\">\n",
              "        \n",
              "  <svg xmlns=\"http://www.w3.org/2000/svg\" height=\"24px\"viewBox=\"0 0 24 24\"\n",
              "       width=\"24px\">\n",
              "    <path d=\"M0 0h24v24H0V0z\" fill=\"none\"/>\n",
              "    <path d=\"M18.56 5.44l.94 2.06.94-2.06 2.06-.94-2.06-.94-.94-2.06-.94 2.06-2.06.94zm-11 1L8.5 8.5l.94-2.06 2.06-.94-2.06-.94L8.5 2.5l-.94 2.06-2.06.94zm10 10l.94 2.06.94-2.06 2.06-.94-2.06-.94-.94-2.06-.94 2.06-2.06.94z\"/><path d=\"M17.41 7.96l-1.37-1.37c-.4-.4-.92-.59-1.43-.59-.52 0-1.04.2-1.43.59L10.3 9.45l-7.72 7.72c-.78.78-.78 2.05 0 2.83L4 21.41c.39.39.9.59 1.41.59.51 0 1.02-.2 1.41-.59l7.78-7.78 2.81-2.81c.8-.78.8-2.07 0-2.86zM5.41 20L4 18.59l7.72-7.72 1.47 1.35L5.41 20z\"/>\n",
              "  </svg>\n",
              "      </button>\n",
              "      \n",
              "  <style>\n",
              "    .colab-df-container {\n",
              "      display:flex;\n",
              "      flex-wrap:wrap;\n",
              "      gap: 12px;\n",
              "    }\n",
              "\n",
              "    .colab-df-convert {\n",
              "      background-color: #E8F0FE;\n",
              "      border: none;\n",
              "      border-radius: 50%;\n",
              "      cursor: pointer;\n",
              "      display: none;\n",
              "      fill: #1967D2;\n",
              "      height: 32px;\n",
              "      padding: 0 0 0 0;\n",
              "      width: 32px;\n",
              "    }\n",
              "\n",
              "    .colab-df-convert:hover {\n",
              "      background-color: #E2EBFA;\n",
              "      box-shadow: 0px 1px 2px rgba(60, 64, 67, 0.3), 0px 1px 3px 1px rgba(60, 64, 67, 0.15);\n",
              "      fill: #174EA6;\n",
              "    }\n",
              "\n",
              "    [theme=dark] .colab-df-convert {\n",
              "      background-color: #3B4455;\n",
              "      fill: #D2E3FC;\n",
              "    }\n",
              "\n",
              "    [theme=dark] .colab-df-convert:hover {\n",
              "      background-color: #434B5C;\n",
              "      box-shadow: 0px 1px 3px 1px rgba(0, 0, 0, 0.15);\n",
              "      filter: drop-shadow(0px 1px 2px rgba(0, 0, 0, 0.3));\n",
              "      fill: #FFFFFF;\n",
              "    }\n",
              "  </style>\n",
              "\n",
              "      <script>\n",
              "        const buttonEl =\n",
              "          document.querySelector('#df-c9ef1fd2-3a2e-4f90-84a1-32293fe392f3 button.colab-df-convert');\n",
              "        buttonEl.style.display =\n",
              "          google.colab.kernel.accessAllowed ? 'block' : 'none';\n",
              "\n",
              "        async function convertToInteractive(key) {\n",
              "          const element = document.querySelector('#df-c9ef1fd2-3a2e-4f90-84a1-32293fe392f3');\n",
              "          const dataTable =\n",
              "            await google.colab.kernel.invokeFunction('convertToInteractive',\n",
              "                                                     [key], {});\n",
              "          if (!dataTable) return;\n",
              "\n",
              "          const docLinkHtml = 'Like what you see? Visit the ' +\n",
              "            '<a target=\"_blank\" href=https://colab.research.google.com/notebooks/data_table.ipynb>data table notebook</a>'\n",
              "            + ' to learn more about interactive tables.';\n",
              "          element.innerHTML = '';\n",
              "          dataTable['output_type'] = 'display_data';\n",
              "          await google.colab.output.renderOutput(dataTable, element);\n",
              "          const docLink = document.createElement('div');\n",
              "          docLink.innerHTML = docLinkHtml;\n",
              "          element.appendChild(docLink);\n",
              "        }\n",
              "      </script>\n",
              "    </div>\n",
              "  </div>\n",
              "  "
            ]
          },
          "metadata": {},
          "execution_count": 14
        }
      ],
      "source": [
        "df_resultados[df_resultados['MAE'] == df_resultados['MAE'].min()]"
      ]
    },
    {
      "cell_type": "markdown",
      "source": [
        "Se guardan los resultados como csv."
      ],
      "metadata": {
        "id": "h1E122JYmhZ7"
      }
    },
    {
      "cell_type": "code",
      "source": [
        "df_resultados.to_csv('/content/drive/MyDrive/DatosInvestigacion/lstm_univariado_RS_resultados.csv')"
      ],
      "metadata": {
        "id": "o-wQPndLmi5C"
      },
      "execution_count": null,
      "outputs": []
    },
    {
      "cell_type": "markdown",
      "metadata": {
        "id": "7TS0cRSizyWz"
      },
      "source": [
        "## Gráfico de error"
      ]
    },
    {
      "cell_type": "code",
      "source": [
        "df_resultados = pd.read_csv('/content/drive/MyDrive/DatosInvestigacion/lstm_univariado_RS_resultados.csv')"
      ],
      "metadata": {
        "id": "cpYlRBCFm5nT"
      },
      "execution_count": null,
      "outputs": []
    },
    {
      "cell_type": "code",
      "execution_count": null,
      "metadata": {
        "id": "i_6UQVl2zYPT"
      },
      "outputs": [],
      "source": [
        "import seaborn as sns"
      ]
    },
    {
      "cell_type": "markdown",
      "metadata": {
        "id": "yljKhxi8z02z"
      },
      "source": [
        "### Retrasos"
      ]
    },
    {
      "cell_type": "markdown",
      "source": [
        "El mejor número de retrasos fue 22 con una capa LSTM"
      ],
      "metadata": {
        "id": "jM2XN1o3nSS6"
      }
    },
    {
      "cell_type": "code",
      "execution_count": null,
      "metadata": {
        "colab": {
          "base_uri": "https://localhost:8080/",
          "height": 356
        },
        "id": "J7PTZXmT8AjU",
        "outputId": "30a2f96e-cf75-4ff8-90bc-f8a5881cd10b"
      },
      "outputs": [
        {
          "output_type": "execute_result",
          "data": {
            "text/plain": [
              "<matplotlib.axes._subplots.AxesSubplot at 0x7f30c80b6dd0>"
            ]
          },
          "metadata": {},
          "execution_count": 18
        },
        {
          "output_type": "display_data",
          "data": {
            "text/plain": [
              "<Figure size 720x360 with 1 Axes>"
            ],
            "image/png": "[encoded data removed]"
          },
          "metadata": {}
        }
      ],
      "source": [
        "sns.set(rc={\"figure.figsize\":(10, 5)})\n",
        "sns.lineplot(data=df_resultados, x='Retrasos', y='RMSE',hue='LSTM Layers',palette='tab10',err_style=\"bars\", ci=0, estimator=np.min)"
      ]
    },
    {
      "cell_type": "markdown",
      "metadata": {
        "id": "p-SLx-Bf3eYK"
      },
      "source": [
        "### Número de neuronas"
      ]
    },
    {
      "cell_type": "markdown",
      "source": [
        "El mejor número de neuronas fue 100."
      ],
      "metadata": {
        "id": "O2Hb-czbzkn3"
      }
    },
    {
      "cell_type": "code",
      "execution_count": null,
      "metadata": {
        "colab": {
          "base_uri": "https://localhost:8080/",
          "height": 356
        },
        "id": "ui3WxJjB8EW7",
        "outputId": "69219e8b-8eed-4f22-a13a-e020fa1154cd"
      },
      "outputs": [
        {
          "output_type": "execute_result",
          "data": {
            "text/plain": [
              "<matplotlib.axes._subplots.AxesSubplot at 0x7f30c7f25c90>"
            ]
          },
          "metadata": {},
          "execution_count": 19
        },
        {
          "output_type": "display_data",
          "data": {
            "text/plain": [
              "<Figure size 720x360 with 1 Axes>"
            ],
            "image/png": "[encoded data removed]"
          },
          "metadata": {}
        }
      ],
      "source": [
        "sns.set(rc={\"figure.figsize\":(10, 5)})\n",
        "sns.lineplot(data=df_resultados, x='Neuronas LSTM', y='RMSE',hue='LSTM Layers',palette='tab10',ci=0, estimator=np.min)"
      ]
    },
    {
      "cell_type": "markdown",
      "metadata": {
        "id": "nt7XXUo25row"
      },
      "source": [
        "### Batch size"
      ]
    },
    {
      "cell_type": "markdown",
      "source": [
        "El mejor batch size fue de 50."
      ],
      "metadata": {
        "id": "OQ1vsoCDzo9c"
      }
    },
    {
      "cell_type": "code",
      "execution_count": null,
      "metadata": {
        "colab": {
          "base_uri": "https://localhost:8080/",
          "height": 356
        },
        "id": "UwVkJXkg8Ll6",
        "outputId": "66a4f30a-cbc2-43e6-8bb4-c3be39cd9ecc"
      },
      "outputs": [
        {
          "output_type": "execute_result",
          "data": {
            "text/plain": [
              "<matplotlib.axes._subplots.AxesSubplot at 0x7f30c7a52dd0>"
            ]
          },
          "metadata": {},
          "execution_count": 20
        },
        {
          "output_type": "display_data",
          "data": {
            "text/plain": [
              "<Figure size 720x360 with 1 Axes>"
            ],
            "image/png": "[encoded data removed]"
          },
          "metadata": {}
        }
      ],
      "source": [
        "sns.set(rc={\"figure.figsize\":(10, 5)})\n",
        "sns.lineplot(data=df_resultados, x='Batch size', y='RMSE',hue='LSTM Layers',palette='tab10',ci=0, estimator=np.min)"
      ]
    },
    {
      "cell_type": "markdown",
      "metadata": {
        "id": "eU-jmdV76opA"
      },
      "source": [
        "## Conclusiones"
      ]
    },
    {
      "cell_type": "markdown",
      "metadata": {
        "id": "vGj9tc5T6Hu6"
      },
      "source": [
        "* El modelo que tiene 3 capas LSTM funciona peor que los otros dos.\n",
        "* El mejor modelo debe tener 1 capa LSTM.\n",
        "* El mejor número de neuronas es 100.\n",
        "* El batch size óptimo se encuentra en 50.\n",
        "* El mejor número de retrasos es 22."
      ]
    }
  ],
  "metadata": {
    "colab": {
      "collapsed_sections": [],
      "name": "Udla9.ipynb",
      "provenance": []
    },
    "kernelspec": {
      "display_name": "Python 3",
      "name": "python3"
    },
    "language_info": {
      "name": "python"
    }
  },
  "nbformat": 4,
  "nbformat_minor": 0
}