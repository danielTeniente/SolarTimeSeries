{
  "nbformat": 4,
  "nbformat_minor": 0,
  "metadata": {
    "colab": {
      "name": "Udla13_5.ipynb",
      "provenance": [],
      "collapsed_sections": []
    },
    "kernelspec": {
      "name": "python3",
      "display_name": "Python 3"
    },
    "language_info": {
      "name": "python"
    }
  },
  "cells": [
    {
      "cell_type": "markdown",
      "source": [
        "# Modelo AR para mid term"
      ],
      "metadata": {
        "id": "TU3X-PnmKB5U"
      }
    },
    {
      "cell_type": "markdown",
      "source": [
        "Se importan librerías"
      ],
      "metadata": {
        "id": "1CAIrhpkYHQ4"
      }
    },
    {
      "cell_type": "code",
      "execution_count": 1,
      "metadata": {
        "id": "X8_RvF8YJ_pG",
        "colab": {
          "base_uri": "https://localhost:8080/"
        },
        "outputId": "a7fd3ae6-9d46-4850-92b8-fb207a3e1d15"
      },
      "outputs": [
        {
          "output_type": "stream",
          "name": "stderr",
          "text": [
            "/usr/local/lib/python3.7/dist-packages/statsmodels/tools/_testing.py:19: FutureWarning: pandas.util.testing is deprecated. Use the functions in the public API at pandas.testing instead.\n",
            "  import pandas.util.testing as tm\n"
          ]
        }
      ],
      "source": [
        "import pandas as pd\n",
        "import numpy as np\n",
        "import matplotlib.pyplot as plt\n",
        "from statsmodels.tsa.ar_model import AR"
      ]
    },
    {
      "cell_type": "code",
      "source": [
        "# Ignore harmless warnings\n",
        "import warnings\n",
        "warnings.filterwarnings(\"ignore\")"
      ],
      "metadata": {
        "id": "yqTE-8OjK5Mu"
      },
      "execution_count": 2,
      "outputs": []
    },
    {
      "cell_type": "markdown",
      "source": [
        "Se importan los datos"
      ],
      "metadata": {
        "id": "yrM6oTMvKhaP"
      }
    },
    {
      "cell_type": "code",
      "source": [
        "df = pd.read_csv('./drive/MyDrive/DatosInvestigacion/final_train_2015.csv', index_col=0, parse_dates=True)\n",
        "df = df.asfreq('h')\n",
        "df = df.between_time('08:00:00','17:00:00')\n",
        "df = df[['SRGLOAVG1H','TAMAX1H','TAMIN1H','RHMAX1H','RHMIN1H','PRSUM1H','PAAVG1H','PAMAX1H','PAMIN1H','WS1HA','WS1HX','WD1HA']]\n",
        "df_test = pd.read_csv('./drive/MyDrive/DatosInvestigacion/final_test_2015.csv', index_col=0, parse_dates=True)\n",
        "df_test = df_test.asfreq('h')\n",
        "df_test = df_test.between_time('08:00:00','17:00:00')\n",
        "df_test = df_test[['SRGLOAVG1H','TAMAX1H','TAMIN1H','RHMAX1H','RHMIN1H','PRSUM1H','PAAVG1H','PAMAX1H','PAMIN1H','WS1HA','WS1HX','WD1HA']]"
      ],
      "metadata": {
        "id": "mw6yoVl2KdTd"
      },
      "execution_count": null,
      "outputs": []
    },
    {
      "cell_type": "markdown",
      "source": [
        "## Promedios semanales"
      ],
      "metadata": {
        "id": "JCJoEyQNKsk9"
      }
    },
    {
      "cell_type": "markdown",
      "source": [
        "Se sacan promedios de 70 horas."
      ],
      "metadata": {
        "id": "z-vMDuKUYJu4"
      }
    },
    {
      "cell_type": "code",
      "source": [
        "dias = 7"
      ],
      "metadata": {
        "id": "C-0UvsYQKjEk"
      },
      "execution_count": null,
      "outputs": []
    },
    {
      "cell_type": "code",
      "source": [
        "df_semanal = df.rolling(window=10*dias).mean()\n",
        "df_semanal = df_semanal.iloc[10*dias:]\n",
        "df_rs = df_semanal['SRGLOAVG1H']\n",
        "promedios_train = [df_rs[i] for i in range(0,len(df_rs),10*dias)]\n",
        "len(promedios_train)"
      ],
      "metadata": {
        "colab": {
          "base_uri": "https://localhost:8080/"
        },
        "id": "ntfVKQcWKwSo",
        "outputId": "be1df111-0988-4fe8-f61e-7c4f10e92a8b"
      },
      "execution_count": null,
      "outputs": [
        {
          "output_type": "execute_result",
          "data": {
            "text/plain": [
              "83"
            ]
          },
          "metadata": {},
          "execution_count": 117
        }
      ]
    },
    {
      "cell_type": "code",
      "source": [
        "model = AR(promedios_train)\n",
        "ARfit = model.fit(maxlag=24,ic='bic') \n",
        "print(f'Lag: {ARfit.k_ar}')\n",
        "print(f'Coefficients:\\n{ARfit.params}')"
      ],
      "metadata": {
        "colab": {
          "base_uri": "https://localhost:8080/"
        },
        "id": "zjFkD69RK14P",
        "outputId": "e6b560d8-bd63-4f19-f902-ae737f35ec26"
      },
      "execution_count": null,
      "outputs": [
        {
          "output_type": "stream",
          "name": "stdout",
          "text": [
            "Lag: 1\n",
            "Coefficients:\n",
            "[3.25583290e+02 1.79832888e-01]\n"
          ]
        }
      ]
    },
    {
      "cell_type": "markdown",
      "source": [
        "### Testing"
      ],
      "metadata": {
        "id": "70rQfZtOLDYf"
      }
    },
    {
      "cell_type": "markdown",
      "source": [
        "Se importan las librerías para medir el error."
      ],
      "metadata": {
        "id": "0EUDCHzXYNMm"
      }
    },
    {
      "cell_type": "code",
      "source": [
        "from sklearn.metrics import mean_squared_error\n",
        "from sklearn.metrics import mean_absolute_error"
      ],
      "metadata": {
        "id": "UOLaTuXCK_Wz"
      },
      "execution_count": null,
      "outputs": []
    },
    {
      "cell_type": "code",
      "source": [
        "ARfit.params"
      ],
      "metadata": {
        "colab": {
          "base_uri": "https://localhost:8080/"
        },
        "id": "HuOkxXF0LEjX",
        "outputId": "287c0eab-33f8-414c-a1ab-82d61c9f18a6"
      },
      "execution_count": null,
      "outputs": [
        {
          "output_type": "execute_result",
          "data": {
            "text/plain": [
              "array([3.25583290e+02, 1.79832888e-01])"
            ]
          },
          "metadata": {},
          "execution_count": 120
        }
      ]
    },
    {
      "cell_type": "markdown",
      "source": [
        "Se define una función para aplicar el cálculo AR."
      ],
      "metadata": {
        "id": "maolBXufYQkL"
      }
    },
    {
      "cell_type": "code",
      "source": [
        "def get_pred(coef,data):\n",
        "  prediction = coef[0] # constante\n",
        "  # los datos se reciben en forma cronológica\n",
        "  j = 1\n",
        "  for i in range(len(data)-1,-1,-1):\n",
        "    prediction += coef[j] * data[i]\n",
        "    j+=1\n",
        "  return prediction"
      ],
      "metadata": {
        "id": "7_tNxveaLHiL"
      },
      "execution_count": null,
      "outputs": []
    },
    {
      "cell_type": "markdown",
      "source": [
        "Se definen los coeficientes."
      ],
      "metadata": {
        "id": "5sgyJccHYYpe"
      }
    },
    {
      "cell_type": "code",
      "source": [
        "coef = [3.25583290e+02, 1.79832888e-01]"
      ],
      "metadata": {
        "id": "70xJYI2sNI13"
      },
      "execution_count": null,
      "outputs": []
    },
    {
      "cell_type": "code",
      "source": [
        "get_pred(coef,[promedios_train[-1]])"
      ],
      "metadata": {
        "colab": {
          "base_uri": "https://localhost:8080/"
        },
        "id": "p9y7R0TpN3Ua",
        "outputId": "5fa4ec51-f093-4bf6-e77e-6960f0cd63cb"
      },
      "execution_count": null,
      "outputs": [
        {
          "output_type": "execute_result",
          "data": {
            "text/plain": [
              "375.5203139563428"
            ]
          },
          "metadata": {},
          "execution_count": 123
        }
      ]
    },
    {
      "cell_type": "markdown",
      "source": [
        "Se tienen 20 semanas de prueba."
      ],
      "metadata": {
        "id": "APuWtTAqYave"
      }
    },
    {
      "cell_type": "code",
      "source": [
        "df_semanal_test = df_test.rolling(window=10*dias).mean()\n",
        "df_semanal_test = df_semanal_test.iloc[10*dias:]\n",
        "df_rs_test = df_semanal_test['SRGLOAVG1H']\n",
        "promedios_semanales_test = [df_rs_test[i] for i in range(0,len(df_rs_test),10*dias)]\n",
        "len(promedios_semanales_test)"
      ],
      "metadata": {
        "colab": {
          "base_uri": "https://localhost:8080/"
        },
        "id": "_mFbkoMbLJ6L",
        "outputId": "636fe8d4-cd61-4f83-9577-d68b13522692"
      },
      "execution_count": null,
      "outputs": [
        {
          "output_type": "execute_result",
          "data": {
            "text/plain": [
              "20"
            ]
          },
          "metadata": {},
          "execution_count": 124
        }
      ]
    },
    {
      "cell_type": "code",
      "source": [
        "promedios_semanales_test[1]"
      ],
      "metadata": {
        "colab": {
          "base_uri": "https://localhost:8080/"
        },
        "id": "4wK0w-ydLOtf",
        "outputId": "a4c7da86-2646-4a55-f49f-19a993f562c8"
      },
      "execution_count": null,
      "outputs": [
        {
          "output_type": "execute_result",
          "data": {
            "text/plain": [
              "445.5857142857143"
            ]
          },
          "metadata": {},
          "execution_count": 125
        }
      ]
    },
    {
      "cell_type": "code",
      "source": [
        "test_pred = []\n",
        "retrasos = 1"
      ],
      "metadata": {
        "id": "ZKVlumVcM2xm"
      },
      "execution_count": null,
      "outputs": []
    },
    {
      "cell_type": "markdown",
      "source": [
        "Se obtienen las predicciones."
      ],
      "metadata": {
        "id": "_tv6tvamYghJ"
      }
    },
    {
      "cell_type": "code",
      "source": [
        "for i in range(retrasos,len(promedios_semanales_test)):\n",
        "  past_data = promedios_semanales_test[i-retrasos:i]\n",
        "  test_pred.append(get_pred(coef,past_data))"
      ],
      "metadata": {
        "id": "jLdoDbtGNAmi"
      },
      "execution_count": null,
      "outputs": []
    },
    {
      "cell_type": "code",
      "source": [
        "len(test_pred)"
      ],
      "metadata": {
        "colab": {
          "base_uri": "https://localhost:8080/"
        },
        "id": "Ns2yZBwaNQRi",
        "outputId": "bc75b1eb-3563-4465-a524-3ef36a9fced2"
      },
      "execution_count": null,
      "outputs": [
        {
          "output_type": "execute_result",
          "data": {
            "text/plain": [
              "19"
            ]
          },
          "metadata": {},
          "execution_count": 128
        }
      ]
    },
    {
      "cell_type": "code",
      "source": [
        "df_resultados = {\n",
        "    'real':promedios_semanales_test[1:],\n",
        "    'prediction':test_pred\n",
        "}"
      ],
      "metadata": {
        "id": "L-wRc0k8NSB9"
      },
      "execution_count": null,
      "outputs": []
    },
    {
      "cell_type": "code",
      "source": [
        "df_resultados = pd.DataFrame(df_resultados)"
      ],
      "metadata": {
        "id": "OD6di-LtNgpp"
      },
      "execution_count": null,
      "outputs": []
    },
    {
      "cell_type": "code",
      "source": [
        "df_resultados.plot()"
      ],
      "metadata": {
        "colab": {
          "base_uri": "https://localhost:8080/",
          "height": 282
        },
        "id": "BntGkrSANiHd",
        "outputId": "6d48a847-5d38-4f6b-e6c2-0f7077c73ee5"
      },
      "execution_count": null,
      "outputs": [
        {
          "output_type": "execute_result",
          "data": {
            "text/plain": [
              "<matplotlib.axes._subplots.AxesSubplot at 0x7f2530121c50>"
            ]
          },
          "metadata": {},
          "execution_count": 131
        },
        {
          "output_type": "display_data",
          "data": {
            "text/plain": [
              "<Figure size 432x288 with 1 Axes>"
            ],
            "image/png": "[encoded data removed]"
          },
          "metadata": {
            "needs_background": "light"
          }
        }
      ]
    },
    {
      "cell_type": "markdown",
      "source": [
        "**Error**"
      ],
      "metadata": {
        "id": "oOn0xAamYnaz"
      }
    },
    {
      "cell_type": "code",
      "source": [
        "MSE = mean_squared_error(promedios_semanales_test[1:],test_pred)\n",
        "np.sqrt(MSE)"
      ],
      "metadata": {
        "colab": {
          "base_uri": "https://localhost:8080/"
        },
        "id": "_zCT-9DmOWBl",
        "outputId": "0b86aefc-26c3-454d-bd4a-60a6c4525072"
      },
      "execution_count": null,
      "outputs": [
        {
          "output_type": "execute_result",
          "data": {
            "text/plain": [
              "125.7225756674231"
            ]
          },
          "metadata": {},
          "execution_count": 132
        }
      ]
    },
    {
      "cell_type": "code",
      "source": [
        "mean_absolute_error(promedios_semanales_test[1:],test_pred)"
      ],
      "metadata": {
        "colab": {
          "base_uri": "https://localhost:8080/"
        },
        "id": "W1-nnQFpB3VR",
        "outputId": "6b845499-02fd-4f95-80a1-80d14f27f767"
      },
      "execution_count": null,
      "outputs": [
        {
          "output_type": "execute_result",
          "data": {
            "text/plain": [
              "96.51011699160902"
            ]
          },
          "metadata": {},
          "execution_count": 133
        }
      ]
    },
    {
      "cell_type": "markdown",
      "source": [
        "## 5 días"
      ],
      "metadata": {
        "id": "o7QULRg8Ova-"
      }
    },
    {
      "cell_type": "code",
      "source": [
        "dias = 5"
      ],
      "metadata": {
        "id": "Uv0sbBjsObIl"
      },
      "execution_count": null,
      "outputs": []
    },
    {
      "cell_type": "code",
      "source": [
        "df_semanal = df.rolling(window=10*dias).mean()\n",
        "df_semanal = df_semanal.iloc[10*dias:]\n",
        "df_rs = df_semanal['SRGLOAVG1H']\n",
        "promedios_train = [df_rs[i] for i in range(0,len(df_rs),10*dias)]\n",
        "len(promedios_train)"
      ],
      "metadata": {
        "colab": {
          "base_uri": "https://localhost:8080/"
        },
        "id": "X5MaM-urO0SJ",
        "outputId": "77ec490a-25d5-480d-aa89-9a9b6085f4fd"
      },
      "execution_count": null,
      "outputs": [
        {
          "output_type": "execute_result",
          "data": {
            "text/plain": [
              "116"
            ]
          },
          "metadata": {},
          "execution_count": 135
        }
      ]
    },
    {
      "cell_type": "code",
      "source": [
        "model = AR(promedios_train)\n",
        "ARfit = model.fit(maxlag=24,ic='bic') \n",
        "print(f'Lag: {ARfit.k_ar}')\n",
        "print(f'Coefficients:\\n{ARfit.params}')"
      ],
      "metadata": {
        "colab": {
          "base_uri": "https://localhost:8080/"
        },
        "id": "h--dsnYZO3IZ",
        "outputId": "8a3f895a-a9a4-4feb-b9d4-df78c0714ee7"
      },
      "execution_count": null,
      "outputs": [
        {
          "output_type": "stream",
          "name": "stdout",
          "text": [
            "Lag: 1\n",
            "Coefficients:\n",
            "[3.05046244e+02 2.31945491e-01]\n"
          ]
        }
      ]
    },
    {
      "cell_type": "code",
      "source": [
        "coef = [3.05046244e+02, 2.31945491e-01]"
      ],
      "metadata": {
        "id": "uDhAUlM2PD0l"
      },
      "execution_count": null,
      "outputs": []
    },
    {
      "cell_type": "code",
      "source": [
        "df_semanal_test = df_test.rolling(window=10*dias).mean()\n",
        "df_semanal_test = df_semanal_test.iloc[10*dias:]\n",
        "df_rs_test = df_semanal_test['SRGLOAVG1H']\n",
        "promedios_semanales_test = [df_rs_test[i] for i in range(0,len(df_rs_test),10*dias)]\n",
        "len(promedios_semanales_test)"
      ],
      "metadata": {
        "colab": {
          "base_uri": "https://localhost:8080/"
        },
        "id": "IgObanFEqvXq",
        "outputId": "40697f74-1f78-4d2f-83c6-6251ab4428d8"
      },
      "execution_count": null,
      "outputs": [
        {
          "output_type": "execute_result",
          "data": {
            "text/plain": [
              "29"
            ]
          },
          "metadata": {},
          "execution_count": 138
        }
      ]
    },
    {
      "cell_type": "code",
      "source": [
        "test_pred = []\n",
        "retrasos = 1"
      ],
      "metadata": {
        "id": "NOqx4CjqPJrU"
      },
      "execution_count": null,
      "outputs": []
    },
    {
      "cell_type": "code",
      "source": [
        "for i in range(retrasos,len(promedios_semanales_test)):\n",
        "  past_data = promedios_semanales_test[i-retrasos:i]\n",
        "  test_pred.append(get_pred(coef,past_data))"
      ],
      "metadata": {
        "id": "aDeT_1FbPNRX"
      },
      "execution_count": null,
      "outputs": []
    },
    {
      "cell_type": "code",
      "source": [
        "df_resultados = {\n",
        "    'real':promedios_semanales_test[retrasos:],\n",
        "    'prediction':test_pred\n",
        "}"
      ],
      "metadata": {
        "id": "CNQkw6KWPOvg"
      },
      "execution_count": null,
      "outputs": []
    },
    {
      "cell_type": "code",
      "source": [
        "df_resultados = pd.DataFrame(df_resultados)"
      ],
      "metadata": {
        "id": "dNwOCu0BPROf"
      },
      "execution_count": null,
      "outputs": []
    },
    {
      "cell_type": "code",
      "source": [
        "df_resultados.shape"
      ],
      "metadata": {
        "colab": {
          "base_uri": "https://localhost:8080/"
        },
        "id": "JbVpvuh-q2iD",
        "outputId": "4f95c8e7-f795-4ea8-9273-b46789b5abdd"
      },
      "execution_count": null,
      "outputs": [
        {
          "output_type": "execute_result",
          "data": {
            "text/plain": [
              "(28, 2)"
            ]
          },
          "metadata": {},
          "execution_count": 143
        }
      ]
    },
    {
      "cell_type": "code",
      "source": [
        "df_resultados.plot()"
      ],
      "metadata": {
        "colab": {
          "base_uri": "https://localhost:8080/",
          "height": 282
        },
        "id": "KlcO5wBbPTrL",
        "outputId": "c12b30e2-5464-44e1-84e8-bc9c85159f64"
      },
      "execution_count": null,
      "outputs": [
        {
          "output_type": "execute_result",
          "data": {
            "text/plain": [
              "<matplotlib.axes._subplots.AxesSubplot at 0x7f2530374290>"
            ]
          },
          "metadata": {},
          "execution_count": 144
        },
        {
          "output_type": "display_data",
          "data": {
            "text/plain": [
              "<Figure size 432x288 with 1 Axes>"
            ],
            "image/png": "[encoded data removed]"
          },
          "metadata": {
            "needs_background": "light"
          }
        }
      ]
    },
    {
      "cell_type": "markdown",
      "source": [
        "**Error**"
      ],
      "metadata": {
        "id": "ZXqRipH4Yk4j"
      }
    },
    {
      "cell_type": "code",
      "source": [
        "MSE = mean_squared_error(promedios_semanales_test[1:],test_pred)\n",
        "np.sqrt(MSE)"
      ],
      "metadata": {
        "colab": {
          "base_uri": "https://localhost:8080/"
        },
        "id": "CWMGjS7psRWu",
        "outputId": "478dbcd4-0d00-4e91-dd0a-a72910061cb7"
      },
      "execution_count": null,
      "outputs": [
        {
          "output_type": "execute_result",
          "data": {
            "text/plain": [
              "115.56685397978492"
            ]
          },
          "metadata": {},
          "execution_count": 145
        }
      ]
    },
    {
      "cell_type": "code",
      "source": [
        "mean_absolute_error(promedios_semanales_test[1:],test_pred)"
      ],
      "metadata": {
        "colab": {
          "base_uri": "https://localhost:8080/"
        },
        "id": "OeX9HdfgCK8t",
        "outputId": "31454eaa-b61e-433d-f65f-2c3a4d630386"
      },
      "execution_count": null,
      "outputs": [
        {
          "output_type": "execute_result",
          "data": {
            "text/plain": [
              "87.2614909973207"
            ]
          },
          "metadata": {},
          "execution_count": 146
        }
      ]
    },
    {
      "cell_type": "markdown",
      "source": [
        "## 3 días"
      ],
      "metadata": {
        "id": "xkIQMlAMPY0G"
      }
    },
    {
      "cell_type": "code",
      "source": [
        "dias = 3"
      ],
      "metadata": {
        "id": "Szyy5ouwPU_n"
      },
      "execution_count": null,
      "outputs": []
    },
    {
      "cell_type": "code",
      "source": [
        "df_semanal = df.rolling(window=10*dias).mean()\n",
        "df_semanal = df_semanal.iloc[10*dias:]\n",
        "df_rs = df_semanal['SRGLOAVG1H']\n",
        "promedios_train = [df_rs[i] for i in range(0,len(df_rs),10*dias)]\n",
        "len(promedios_train)"
      ],
      "metadata": {
        "colab": {
          "base_uri": "https://localhost:8080/"
        },
        "id": "cBtd48ItPjNs",
        "outputId": "44a715b9-ce0e-4d55-e0c2-554f9914c644"
      },
      "execution_count": null,
      "outputs": [
        {
          "output_type": "execute_result",
          "data": {
            "text/plain": [
              "194"
            ]
          },
          "metadata": {},
          "execution_count": 148
        }
      ]
    },
    {
      "cell_type": "code",
      "source": [
        "model = AR(promedios_train)\n",
        "ARfit = model.fit(maxlag=24,ic='bic') \n",
        "print(f'Lag: {ARfit.k_ar}')\n",
        "print(f'Coefficients:\\n{ARfit.params}')"
      ],
      "metadata": {
        "colab": {
          "base_uri": "https://localhost:8080/"
        },
        "id": "nhpPSy0jPmDE",
        "outputId": "41db1d62-12da-4e44-c9f5-91e460eeffd5"
      },
      "execution_count": null,
      "outputs": [
        {
          "output_type": "stream",
          "name": "stdout",
          "text": [
            "Lag: 1\n",
            "Coefficients:\n",
            "[261.38586482   0.34118566]\n"
          ]
        }
      ]
    },
    {
      "cell_type": "code",
      "source": [
        "coef = [261.38586482,   0.34118566]"
      ],
      "metadata": {
        "id": "3AE7BXOyPnkT"
      },
      "execution_count": null,
      "outputs": []
    },
    {
      "cell_type": "code",
      "source": [
        "df_semanal_test = df_test.rolling(window=10*dias).mean()\n",
        "df_semanal_test = df_semanal_test.iloc[10*dias:]\n",
        "df_rs_test = df_semanal_test['SRGLOAVG1H']\n",
        "promedios_semanales_test = [df_rs_test[i] for i in range(0,len(df_rs_test),10*dias)]\n",
        "len(promedios_semanales_test)"
      ],
      "metadata": {
        "colab": {
          "base_uri": "https://localhost:8080/"
        },
        "id": "gMlAd8fJq9NX",
        "outputId": "7aa3be71-315a-41ed-9d37-01fc32fb76d8"
      },
      "execution_count": null,
      "outputs": [
        {
          "output_type": "execute_result",
          "data": {
            "text/plain": [
              "48"
            ]
          },
          "metadata": {},
          "execution_count": 151
        }
      ]
    },
    {
      "cell_type": "code",
      "source": [
        "test_pred = []\n",
        "retrasos = 1"
      ],
      "metadata": {
        "id": "h-SvzI26PsqH"
      },
      "execution_count": null,
      "outputs": []
    },
    {
      "cell_type": "code",
      "source": [
        "for i in range(retrasos,len(promedios_semanales_test)):\n",
        "  past_data = promedios_semanales_test[i-retrasos:i]\n",
        "  test_pred.append(get_pred(coef,past_data))"
      ],
      "metadata": {
        "id": "tGddp-k5PvwP"
      },
      "execution_count": null,
      "outputs": []
    },
    {
      "cell_type": "code",
      "source": [
        "df_resultados = {\n",
        "    'real':promedios_semanales_test[retrasos:],\n",
        "    'prediction':test_pred\n",
        "}"
      ],
      "metadata": {
        "id": "CX2W5vUMPv_M"
      },
      "execution_count": null,
      "outputs": []
    },
    {
      "cell_type": "code",
      "source": [
        "df_resultados = pd.DataFrame(df_resultados)\n",
        "df_resultados.shape"
      ],
      "metadata": {
        "colab": {
          "base_uri": "https://localhost:8080/"
        },
        "id": "t_bnpyfsrACD",
        "outputId": "a789a178-48bf-424c-e5ad-794b87983a61"
      },
      "execution_count": null,
      "outputs": [
        {
          "output_type": "execute_result",
          "data": {
            "text/plain": [
              "(47, 2)"
            ]
          },
          "metadata": {},
          "execution_count": 155
        }
      ]
    },
    {
      "cell_type": "code",
      "source": [
        "df_resultados.plot()"
      ],
      "metadata": {
        "colab": {
          "base_uri": "https://localhost:8080/",
          "height": 282
        },
        "id": "axEUW5xzPxLT",
        "outputId": "df8b60af-7f4d-4a6a-90a1-65c1d80826fb"
      },
      "execution_count": null,
      "outputs": [
        {
          "output_type": "execute_result",
          "data": {
            "text/plain": [
              "<matplotlib.axes._subplots.AxesSubplot at 0x7f25a0119190>"
            ]
          },
          "metadata": {},
          "execution_count": 156
        },
        {
          "output_type": "display_data",
          "data": {
            "text/plain": [
              "<Figure size 432x288 with 1 Axes>"
            ],
            "image/png": "[encoded data removed]"
          },
          "metadata": {
            "needs_background": "light"
          }
        }
      ]
    },
    {
      "cell_type": "code",
      "source": [
        "MSE = mean_squared_error(promedios_semanales_test[1:],test_pred)\n",
        "np.sqrt(MSE)"
      ],
      "metadata": {
        "colab": {
          "base_uri": "https://localhost:8080/"
        },
        "id": "tTuUFQQ6rBt0",
        "outputId": "ed137c37-a9f3-488a-c3da-a96af0e2e194"
      },
      "execution_count": null,
      "outputs": [
        {
          "output_type": "execute_result",
          "data": {
            "text/plain": [
              "125.62149058316703"
            ]
          },
          "metadata": {},
          "execution_count": 158
        }
      ]
    },
    {
      "cell_type": "code",
      "source": [
        "mean_absolute_error(promedios_semanales_test[1:],test_pred)"
      ],
      "metadata": {
        "colab": {
          "base_uri": "https://localhost:8080/"
        },
        "id": "XanuJo5uCQxG",
        "outputId": "ba3163fa-d7e6-401a-c244-6647bc62c50a"
      },
      "execution_count": null,
      "outputs": [
        {
          "output_type": "execute_result",
          "data": {
            "text/plain": [
              "103.80846428997167"
            ]
          },
          "metadata": {},
          "execution_count": 159
        }
      ]
    },
    {
      "cell_type": "markdown",
      "source": [
        "## Utilización del modelo LSTM univariado"
      ],
      "metadata": {
        "id": "ir6oaEjZxxFv"
      }
    },
    {
      "cell_type": "markdown",
      "source": [
        "### Promedio de 5 días "
      ],
      "metadata": {
        "id": "89oGaLlQxzwG"
      }
    },
    {
      "cell_type": "markdown",
      "source": [
        "El modelo que utilizaba promedios de 5 días obtuvo el error más pequeño"
      ],
      "metadata": {
        "id": "xEdK2pKTy-yk"
      }
    },
    {
      "cell_type": "markdown",
      "source": [
        "Se importan las librerías para el modelo LSTM."
      ],
      "metadata": {
        "id": "BQ-DR7f-Yueu"
      }
    },
    {
      "cell_type": "code",
      "source": [
        "from sklearn.preprocessing import MinMaxScaler\n",
        "from tensorflow import keras"
      ],
      "metadata": {
        "id": "n_hMcX7f0IVm"
      },
      "execution_count": null,
      "outputs": []
    },
    {
      "cell_type": "markdown",
      "source": [
        "Se importa el modelo univariado."
      ],
      "metadata": {
        "id": "39qWTmVKzEww"
      }
    },
    {
      "cell_type": "code",
      "source": [
        "best_univariado = keras.models.load_model('/content/drive/MyDrive/DatosInvestigacion/LSTM_univariado_RS.h5')"
      ],
      "metadata": {
        "id": "PhGNKFnksUT9"
      },
      "execution_count": null,
      "outputs": []
    },
    {
      "cell_type": "code",
      "source": [
        "df_test.head()"
      ],
      "metadata": {
        "colab": {
          "base_uri": "https://localhost:8080/",
          "height": 237
        },
        "id": "8w7lOuuK0Ek1",
        "outputId": "1cbf1163-4de2-413e-c021-cd7bafe8ba8c"
      },
      "execution_count": null,
      "outputs": [
        {
          "output_type": "execute_result",
          "data": {
            "text/plain": [
              "                     SRGLOAVG1H  TAMAX1H  TAMIN1H  RHMAX1H  RHMIN1H  PRSUM1H  \\\n",
              "Local_Time                                                                     \n",
              "2016-08-08 08:00:00       136.0     12.2     10.8     95.0     89.0      0.0   \n",
              "2016-08-08 09:00:00       337.0     15.2     12.3     90.0     73.0      0.0   \n",
              "2016-08-08 10:00:00       303.0     15.1     13.6     81.0     70.0      0.0   \n",
              "2016-08-08 11:00:00       549.0     16.5     13.3     88.0     71.0      0.0   \n",
              "2016-08-08 12:00:00       577.0     17.6     15.8     77.0     65.0      0.0   \n",
              "\n",
              "                     PAAVG1H  PAMAX1H  PAMIN1H  WS1HA  WS1HX  WD1HA  \n",
              "Local_Time                                                           \n",
              "2016-08-08 08:00:00    744.9    745.2    744.6    3.2    6.2     54  \n",
              "2016-08-08 09:00:00    745.2    745.3    745.1    3.4    7.8     53  \n",
              "2016-08-08 10:00:00    745.3    745.5    745.1    4.2   10.1     27  \n",
              "2016-08-08 11:00:00    745.4    745.6    745.1    4.8    9.6     35  \n",
              "2016-08-08 12:00:00    744.8    745.1    744.7    5.5   12.8     31  "
            ],
            "text/html": [
              "\n",
              "  <div id=\"df-e90f3920-cb01-4ace-b1dd-0f45c7036b85\">\n",
              "    <div class=\"colab-df-container\">\n",
              "      <div>\n",
              "<style scoped>\n",
              "    .dataframe tbody tr th:only-of-type {\n",
              "        vertical-align: middle;\n",
              "    }\n",
              "\n",
              "    .dataframe tbody tr th {\n",
              "        vertical-align: top;\n",
              "    }\n",
              "\n",
              "    .dataframe thead th {\n",
              "        text-align: right;\n",
              "    }\n",
              "</style>\n",
              "<table border=\"1\" class=\"dataframe\">\n",
              "  <thead>\n",
              "    <tr style=\"text-align: right;\">\n",
              "      <th></th>\n",
              "      <th>SRGLOAVG1H</th>\n",
              "      <th>TAMAX1H</th>\n",
              "      <th>TAMIN1H</th>\n",
              "      <th>RHMAX1H</th>\n",
              "      <th>RHMIN1H</th>\n",
              "      <th>PRSUM1H</th>\n",
              "      <th>PAAVG1H</th>\n",
              "      <th>PAMAX1H</th>\n",
              "      <th>PAMIN1H</th>\n",
              "      <th>WS1HA</th>\n",
              "      <th>WS1HX</th>\n",
              "      <th>WD1HA</th>\n",
              "    </tr>\n",
              "    <tr>\n",
              "      <th>Local_Time</th>\n",
              "      <th></th>\n",
              "      <th></th>\n",
              "      <th></th>\n",
              "      <th></th>\n",
              "      <th></th>\n",
              "      <th></th>\n",
              "      <th></th>\n",
              "      <th></th>\n",
              "      <th></th>\n",
              "      <th></th>\n",
              "      <th></th>\n",
              "      <th></th>\n",
              "    </tr>\n",
              "  </thead>\n",
              "  <tbody>\n",
              "    <tr>\n",
              "      <th>2016-08-08 08:00:00</th>\n",
              "      <td>136.0</td>\n",
              "      <td>12.2</td>\n",
              "      <td>10.8</td>\n",
              "      <td>95.0</td>\n",
              "      <td>89.0</td>\n",
              "      <td>0.0</td>\n",
              "      <td>744.9</td>\n",
              "      <td>745.2</td>\n",
              "      <td>744.6</td>\n",
              "      <td>3.2</td>\n",
              "      <td>6.2</td>\n",
              "      <td>54</td>\n",
              "    </tr>\n",
              "    <tr>\n",
              "      <th>2016-08-08 09:00:00</th>\n",
              "      <td>337.0</td>\n",
              "      <td>15.2</td>\n",
              "      <td>12.3</td>\n",
              "      <td>90.0</td>\n",
              "      <td>73.0</td>\n",
              "      <td>0.0</td>\n",
              "      <td>745.2</td>\n",
              "      <td>745.3</td>\n",
              "      <td>745.1</td>\n",
              "      <td>3.4</td>\n",
              "      <td>7.8</td>\n",
              "      <td>53</td>\n",
              "    </tr>\n",
              "    <tr>\n",
              "      <th>2016-08-08 10:00:00</th>\n",
              "      <td>303.0</td>\n",
              "      <td>15.1</td>\n",
              "      <td>13.6</td>\n",
              "      <td>81.0</td>\n",
              "      <td>70.0</td>\n",
              "      <td>0.0</td>\n",
              "      <td>745.3</td>\n",
              "      <td>745.5</td>\n",
              "      <td>745.1</td>\n",
              "      <td>4.2</td>\n",
              "      <td>10.1</td>\n",
              "      <td>27</td>\n",
              "    </tr>\n",
              "    <tr>\n",
              "      <th>2016-08-08 11:00:00</th>\n",
              "      <td>549.0</td>\n",
              "      <td>16.5</td>\n",
              "      <td>13.3</td>\n",
              "      <td>88.0</td>\n",
              "      <td>71.0</td>\n",
              "      <td>0.0</td>\n",
              "      <td>745.4</td>\n",
              "      <td>745.6</td>\n",
              "      <td>745.1</td>\n",
              "      <td>4.8</td>\n",
              "      <td>9.6</td>\n",
              "      <td>35</td>\n",
              "    </tr>\n",
              "    <tr>\n",
              "      <th>2016-08-08 12:00:00</th>\n",
              "      <td>577.0</td>\n",
              "      <td>17.6</td>\n",
              "      <td>15.8</td>\n",
              "      <td>77.0</td>\n",
              "      <td>65.0</td>\n",
              "      <td>0.0</td>\n",
              "      <td>744.8</td>\n",
              "      <td>745.1</td>\n",
              "      <td>744.7</td>\n",
              "      <td>5.5</td>\n",
              "      <td>12.8</td>\n",
              "      <td>31</td>\n",
              "    </tr>\n",
              "  </tbody>\n",
              "</table>\n",
              "</div>\n",
              "      <button class=\"colab-df-convert\" onclick=\"convertToInteractive('df-e90f3920-cb01-4ace-b1dd-0f45c7036b85')\"\n",
              "              title=\"Convert this dataframe to an interactive table.\"\n",
              "              style=\"display:none;\">\n",
              "        \n",
              "  <svg xmlns=\"http://www.w3.org/2000/svg\" height=\"24px\"viewBox=\"0 0 24 24\"\n",
              "       width=\"24px\">\n",
              "    <path d=\"M0 0h24v24H0V0z\" fill=\"none\"/>\n",
              "    <path d=\"M18.56 5.44l.94 2.06.94-2.06 2.06-.94-2.06-.94-.94-2.06-.94 2.06-2.06.94zm-11 1L8.5 8.5l.94-2.06 2.06-.94-2.06-.94L8.5 2.5l-.94 2.06-2.06.94zm10 10l.94 2.06.94-2.06 2.06-.94-2.06-.94-.94-2.06-.94 2.06-2.06.94z\"/><path d=\"M17.41 7.96l-1.37-1.37c-.4-.4-.92-.59-1.43-.59-.52 0-1.04.2-1.43.59L10.3 9.45l-7.72 7.72c-.78.78-.78 2.05 0 2.83L4 21.41c.39.39.9.59 1.41.59.51 0 1.02-.2 1.41-.59l7.78-7.78 2.81-2.81c.8-.78.8-2.07 0-2.86zM5.41 20L4 18.59l7.72-7.72 1.47 1.35L5.41 20z\"/>\n",
              "  </svg>\n",
              "      </button>\n",
              "      \n",
              "  <style>\n",
              "    .colab-df-container {\n",
              "      display:flex;\n",
              "      flex-wrap:wrap;\n",
              "      gap: 12px;\n",
              "    }\n",
              "\n",
              "    .colab-df-convert {\n",
              "      background-color: #E8F0FE;\n",
              "      border: none;\n",
              "      border-radius: 50%;\n",
              "      cursor: pointer;\n",
              "      display: none;\n",
              "      fill: #1967D2;\n",
              "      height: 32px;\n",
              "      padding: 0 0 0 0;\n",
              "      width: 32px;\n",
              "    }\n",
              "\n",
              "    .colab-df-convert:hover {\n",
              "      background-color: #E2EBFA;\n",
              "      box-shadow: 0px 1px 2px rgba(60, 64, 67, 0.3), 0px 1px 3px 1px rgba(60, 64, 67, 0.15);\n",
              "      fill: #174EA6;\n",
              "    }\n",
              "\n",
              "    [theme=dark] .colab-df-convert {\n",
              "      background-color: #3B4455;\n",
              "      fill: #D2E3FC;\n",
              "    }\n",
              "\n",
              "    [theme=dark] .colab-df-convert:hover {\n",
              "      background-color: #434B5C;\n",
              "      box-shadow: 0px 1px 3px 1px rgba(0, 0, 0, 0.15);\n",
              "      filter: drop-shadow(0px 1px 2px rgba(0, 0, 0, 0.3));\n",
              "      fill: #FFFFFF;\n",
              "    }\n",
              "  </style>\n",
              "\n",
              "      <script>\n",
              "        const buttonEl =\n",
              "          document.querySelector('#df-e90f3920-cb01-4ace-b1dd-0f45c7036b85 button.colab-df-convert');\n",
              "        buttonEl.style.display =\n",
              "          google.colab.kernel.accessAllowed ? 'block' : 'none';\n",
              "\n",
              "        async function convertToInteractive(key) {\n",
              "          const element = document.querySelector('#df-e90f3920-cb01-4ace-b1dd-0f45c7036b85');\n",
              "          const dataTable =\n",
              "            await google.colab.kernel.invokeFunction('convertToInteractive',\n",
              "                                                     [key], {});\n",
              "          if (!dataTable) return;\n",
              "\n",
              "          const docLinkHtml = 'Like what you see? Visit the ' +\n",
              "            '<a target=\"_blank\" href=https://colab.research.google.com/notebooks/data_table.ipynb>data table notebook</a>'\n",
              "            + ' to learn more about interactive tables.';\n",
              "          element.innerHTML = '';\n",
              "          dataTable['output_type'] = 'display_data';\n",
              "          await google.colab.output.renderOutput(dataTable, element);\n",
              "          const docLink = document.createElement('div');\n",
              "          docLink.innerHTML = docLinkHtml;\n",
              "          element.appendChild(docLink);\n",
              "        }\n",
              "      </script>\n",
              "    </div>\n",
              "  </div>\n",
              "  "
            ]
          },
          "metadata": {},
          "execution_count": 46
        }
      ]
    },
    {
      "cell_type": "code",
      "source": [
        "df_rs = df['SRGLOAVG1H'].values\n",
        "df_rs_test = df_test['SRGLOAVG1H'].values"
      ],
      "metadata": {
        "id": "3mSVkDzL0SfJ"
      },
      "execution_count": null,
      "outputs": []
    },
    {
      "cell_type": "code",
      "source": [
        "df_rs = df_rs.reshape(-1, 1)"
      ],
      "metadata": {
        "id": "wOjvMS3n0l9N"
      },
      "execution_count": null,
      "outputs": []
    },
    {
      "cell_type": "code",
      "source": [
        "df_rs_test = df_rs_test.reshape(-1, 1)"
      ],
      "metadata": {
        "id": "y4ek9nXS0unF"
      },
      "execution_count": null,
      "outputs": []
    },
    {
      "cell_type": "markdown",
      "source": [
        "Se normalizan los datos."
      ],
      "metadata": {
        "id": "QCmeQWDZZ_bD"
      }
    },
    {
      "cell_type": "code",
      "source": [
        "scaler = MinMaxScaler()\n",
        "scaler.fit(df_rs)\n",
        "scaled_train = scaler.transform(df_rs)\n",
        "scaled_test = scaler.transform(df_rs_test)"
      ],
      "metadata": {
        "id": "SER_2p7V0Yc-"
      },
      "execution_count": null,
      "outputs": []
    },
    {
      "cell_type": "markdown",
      "source": [
        "Se utiliza el modelo para predecir 50 horas."
      ],
      "metadata": {
        "id": "WULySfyn0zrm"
      }
    },
    {
      "cell_type": "code",
      "source": [
        "n_input = 22\n",
        "n_features = 0\n",
        "ventana = 50"
      ],
      "metadata": {
        "id": "4hwSGtp306mS"
      },
      "execution_count": null,
      "outputs": []
    },
    {
      "cell_type": "code",
      "source": [
        "predictions = []"
      ],
      "metadata": {
        "id": "T31tdJN81reB"
      },
      "execution_count": null,
      "outputs": []
    },
    {
      "cell_type": "code",
      "source": [
        "scaled_test[0]"
      ],
      "metadata": {
        "colab": {
          "base_uri": "https://localhost:8080/"
        },
        "id": "hkx5Hu472M_l",
        "outputId": "9690ae9b-7b19-4802-9c4c-bb6990f12f57"
      },
      "execution_count": null,
      "outputs": [
        {
          "output_type": "execute_result",
          "data": {
            "text/plain": [
              "array([0.10439105])"
            ]
          },
          "metadata": {},
          "execution_count": 59
        }
      ]
    },
    {
      "cell_type": "code",
      "source": [
        "scaled_test = scaled_test.flatten()"
      ],
      "metadata": {
        "id": "5i6XWWbz-xYl"
      },
      "execution_count": null,
      "outputs": []
    },
    {
      "cell_type": "code",
      "source": [
        "scaled_test[:22]"
      ],
      "metadata": {
        "colab": {
          "base_uri": "https://localhost:8080/"
        },
        "id": "16nzs3fV_CvK",
        "outputId": "4acb63e6-c3a4-4084-a95c-cd066d160cf6"
      },
      "execution_count": null,
      "outputs": [
        {
          "output_type": "execute_result",
          "data": {
            "text/plain": [
              "array([0.10439105, 0.27091964, 0.24275062, 0.44656172, 0.46975973,\n",
              "       0.26843413, 0.23115162, 0.4034797 , 0.12178956, 0.08450704,\n",
              "       0.07125104, 0.18724109, 0.29743165, 0.23529412, 0.29991715,\n",
              "       0.31483016, 0.58657829, 0.43247722, 0.17149959, 0.18806959,\n",
              "       0.08782104, 0.41259321])"
            ]
          },
          "metadata": {},
          "execution_count": 64
        }
      ]
    },
    {
      "cell_type": "code",
      "source": [
        "current_batch = scaled_test[:n_input]\n",
        "current_batch = current_batch.reshape((1, n_input, n_features+1))"
      ],
      "metadata": {
        "id": "t-C1Z9Rn1u2A"
      },
      "execution_count": null,
      "outputs": []
    },
    {
      "cell_type": "code",
      "source": [
        "current_batch.shape"
      ],
      "metadata": {
        "colab": {
          "base_uri": "https://localhost:8080/"
        },
        "id": "1MoJXMhs-pFo",
        "outputId": "1d7c1590-3c1a-49e9-c269-914cae0b85b4"
      },
      "execution_count": null,
      "outputs": [
        {
          "output_type": "execute_result",
          "data": {
            "text/plain": [
              "(1, 22, 1)"
            ]
          },
          "metadata": {},
          "execution_count": 70
        }
      ]
    },
    {
      "cell_type": "markdown",
      "source": [
        "Se utiliza la salida del modelo como entrada para la siguiente predicción."
      ],
      "metadata": {
        "id": "6k6ZecJaaH62"
      }
    },
    {
      "cell_type": "code",
      "source": [
        "for _ in range(ventana):\n",
        "    current_pred = best_univariado.predict(current_batch)[0]\n",
        "    # guardar la predicción\n",
        "    predictions.append(current_pred) \n",
        "    # actualizar el lote para incluir ahora la predicción y soltar primer valor\n",
        "    current_batch = np.append(current_batch[:,1:,:],[[current_pred]],axis=1)"
      ],
      "metadata": {
        "id": "dnASWFGP1VQ5"
      },
      "execution_count": null,
      "outputs": []
    },
    {
      "cell_type": "code",
      "source": [
        "len(predictions)"
      ],
      "metadata": {
        "colab": {
          "base_uri": "https://localhost:8080/"
        },
        "id": "AA0v3Ge419Be",
        "outputId": "a677d4f7-b2a2-45d8-ebb1-e9af446a8692"
      },
      "execution_count": null,
      "outputs": [
        {
          "output_type": "execute_result",
          "data": {
            "text/plain": [
              "50"
            ]
          },
          "metadata": {},
          "execution_count": 72
        }
      ]
    },
    {
      "cell_type": "code",
      "source": [
        "true_predictions = scaler.inverse_transform(predictions)"
      ],
      "metadata": {
        "id": "shrkE89q3cxr"
      },
      "execution_count": null,
      "outputs": []
    },
    {
      "cell_type": "code",
      "source": [
        "np.mean(true_predictions)"
      ],
      "metadata": {
        "colab": {
          "base_uri": "https://localhost:8080/"
        },
        "id": "3lvJ3FEd3ouB",
        "outputId": "6ed0f6cb-2656-4ce8-f8b2-36693661d63a"
      },
      "execution_count": null,
      "outputs": [
        {
          "output_type": "execute_result",
          "data": {
            "text/plain": [
              "458.5034304434061"
            ]
          },
          "metadata": {},
          "execution_count": 74
        }
      ]
    },
    {
      "cell_type": "markdown",
      "source": [
        "La media se acerca bastante al valor real."
      ],
      "metadata": {
        "id": "CnbQYtcf30hc"
      }
    },
    {
      "cell_type": "code",
      "source": [
        "df_rs_test[n_input:n_input+ventana].mean()"
      ],
      "metadata": {
        "colab": {
          "base_uri": "https://localhost:8080/"
        },
        "id": "kBI_a6Wc0exi",
        "outputId": "49d2375a-5920-472f-e7bf-a8ddb07cd560"
      },
      "execution_count": null,
      "outputs": [
        {
          "output_type": "execute_result",
          "data": {
            "text/plain": [
              "482.86"
            ]
          },
          "metadata": {},
          "execution_count": 75
        }
      ]
    },
    {
      "cell_type": "markdown",
      "source": [
        "Se obtienen los valores promedios del test."
      ],
      "metadata": {
        "id": "4HFYhAz75N2P"
      }
    },
    {
      "cell_type": "code",
      "source": [
        "promedios_test = []"
      ],
      "metadata": {
        "id": "PmW6enII5nR9"
      },
      "execution_count": null,
      "outputs": []
    },
    {
      "cell_type": "code",
      "source": [
        "indices_inicio = []"
      ],
      "metadata": {
        "id": "9DF0YAPH8TqF"
      },
      "execution_count": null,
      "outputs": []
    },
    {
      "cell_type": "code",
      "source": [
        "for i in range(n_input,len(df_rs_test),ventana):\n",
        "  indices_inicio.append(i)\n",
        "  promedios_test.append(df_rs_test[i:i+ventana].mean())"
      ],
      "metadata": {
        "id": "6ijBB-Wl5Uk-"
      },
      "execution_count": null,
      "outputs": []
    },
    {
      "cell_type": "code",
      "source": [
        "promedios_test[0]"
      ],
      "metadata": {
        "colab": {
          "base_uri": "https://localhost:8080/"
        },
        "id": "sCivKIVN5yGi",
        "outputId": "32b54eca-096b-4e8e-df17-67e47fb0bfcb"
      },
      "execution_count": null,
      "outputs": [
        {
          "output_type": "execute_result",
          "data": {
            "text/plain": [
              "464.18"
            ]
          },
          "metadata": {},
          "execution_count": 79
        }
      ]
    },
    {
      "cell_type": "code",
      "source": [
        "indices_inicio[0]"
      ],
      "metadata": {
        "colab": {
          "base_uri": "https://localhost:8080/"
        },
        "id": "qudYkG-38dwx",
        "outputId": "7cb4bf45-1446-441b-cf1f-b00791ac5e44"
      },
      "execution_count": null,
      "outputs": [
        {
          "output_type": "execute_result",
          "data": {
            "text/plain": [
              "22"
            ]
          },
          "metadata": {},
          "execution_count": 80
        }
      ]
    },
    {
      "cell_type": "code",
      "source": [
        "len(promedios_test)"
      ],
      "metadata": {
        "colab": {
          "base_uri": "https://localhost:8080/"
        },
        "id": "QpVhRDxI5wcj",
        "outputId": "01a38f80-8a12-4cd8-fecc-24388ff2868f"
      },
      "execution_count": null,
      "outputs": [
        {
          "output_type": "execute_result",
          "data": {
            "text/plain": [
              "29"
            ]
          },
          "metadata": {},
          "execution_count": 81
        }
      ]
    },
    {
      "cell_type": "markdown",
      "source": [
        "Se introduce la media obtenida con el modelo LSTM en el modelo AR."
      ],
      "metadata": {
        "id": "DqQTPxus339E"
      }
    },
    {
      "cell_type": "code",
      "source": [
        "# coeficientes del modelo de 50 horas\n",
        "coef = [3.05046244e+02, 2.31945491e-01]"
      ],
      "metadata": {
        "id": "Nm0PfmYX3wT8"
      },
      "execution_count": null,
      "outputs": []
    },
    {
      "cell_type": "markdown",
      "source": [
        "Datos del modelo LSTM."
      ],
      "metadata": {
        "id": "pEzSn_GFafBJ"
      }
    },
    {
      "cell_type": "code",
      "source": [
        "past_data = np.mean(true_predictions)"
      ],
      "metadata": {
        "id": "du5E1RNl43T4"
      },
      "execution_count": null,
      "outputs": []
    },
    {
      "cell_type": "markdown",
      "source": [
        "Se obtiene la predicción de la media de los 5 días siguientes."
      ],
      "metadata": {
        "id": "YAI25qm047rq"
      }
    },
    {
      "cell_type": "code",
      "source": [
        "get_pred(coef,[past_data])"
      ],
      "metadata": {
        "colab": {
          "base_uri": "https://localhost:8080/"
        },
        "id": "lu-1qi5o4pjb",
        "outputId": "33b1c2fa-103b-4ed5-8f1e-0e553deace39"
      },
      "execution_count": null,
      "outputs": [
        {
          "output_type": "execute_result",
          "data": {
            "text/plain": [
              "411.3940472993802"
            ]
          },
          "metadata": {},
          "execution_count": 84
        }
      ]
    },
    {
      "cell_type": "code",
      "source": [
        "# valor real\n",
        "promedios_test[1]"
      ],
      "metadata": {
        "colab": {
          "base_uri": "https://localhost:8080/"
        },
        "id": "OBQFi4Hp5Hjk",
        "outputId": "955c7686-8d64-4154-9ae3-63b7be6009df"
      },
      "execution_count": null,
      "outputs": [
        {
          "output_type": "execute_result",
          "data": {
            "text/plain": [
              "383.02"
            ]
          },
          "metadata": {},
          "execution_count": 85
        }
      ]
    },
    {
      "cell_type": "markdown",
      "source": [
        "A partir del promedio obtenido con LSTM se obtendrá el valor promedio de la semana siguiente usando el modelo AR para el resto del dataset."
      ],
      "metadata": {
        "id": "kVzCu5ug6DOd"
      }
    },
    {
      "cell_type": "code",
      "source": [
        "test_pred_AR = []\n",
        "test_pred_LSTM = []"
      ],
      "metadata": {
        "id": "2KcemjXH6UWu"
      },
      "execution_count": null,
      "outputs": []
    },
    {
      "cell_type": "code",
      "source": [
        "for i in range(len(promedios_test)-1):\n",
        "  current_batch = scaled_test[indices_inicio[i]-n_input:indices_inicio[i]]\n",
        "  current_batch = current_batch.reshape((1, n_input, n_features+1))\n",
        "  predictions = []\n",
        "  for _ in range(ventana):\n",
        "    current_pred = best_univariado.predict(current_batch)[0]\n",
        "    # guardar la predicción\n",
        "    predictions.append(current_pred) \n",
        "    # actualizar el lote para incluir ahora la predicción y soltar primer valor\n",
        "    current_batch = np.append(current_batch[:,1:,:],[[current_pred]],axis=1)\n",
        "  true_predictions = scaler.inverse_transform(predictions)\n",
        "  past_data = np.mean(true_predictions)\n",
        "  test_pred_LSTM.append(past_data)\n",
        "  test_pred_AR.append(get_pred(coef,[past_data]))"
      ],
      "metadata": {
        "id": "RwUcOc6f57gt"
      },
      "execution_count": null,
      "outputs": []
    },
    {
      "cell_type": "code",
      "source": [
        "len(test_pred_LSTM)"
      ],
      "metadata": {
        "colab": {
          "base_uri": "https://localhost:8080/"
        },
        "id": "lEXDJn-O6mE2",
        "outputId": "61f89ab3-60cc-4906-e307-71f18c128064"
      },
      "execution_count": null,
      "outputs": [
        {
          "output_type": "execute_result",
          "data": {
            "text/plain": [
              "28"
            ]
          },
          "metadata": {},
          "execution_count": 91
        }
      ]
    },
    {
      "cell_type": "code",
      "source": [
        "len(test_pred_AR)"
      ],
      "metadata": {
        "colab": {
          "base_uri": "https://localhost:8080/"
        },
        "id": "4YQGmFJJ8z70",
        "outputId": "d14534f7-3f0a-413a-9a92-7b8325af78dd"
      },
      "execution_count": null,
      "outputs": [
        {
          "output_type": "execute_result",
          "data": {
            "text/plain": [
              "28"
            ]
          },
          "metadata": {},
          "execution_count": 92
        }
      ]
    },
    {
      "cell_type": "code",
      "source": [
        "df_resultados = {\n",
        "    'real':promedios_test[2:],\n",
        "    'LSTM':test_pred_LSTM[1:],\n",
        "    'AR':test_pred_AR[:-1],\n",
        "}"
      ],
      "metadata": {
        "id": "xIAiqS9K6uLw"
      },
      "execution_count": null,
      "outputs": []
    },
    {
      "cell_type": "code",
      "source": [
        "df_resultados = pd.DataFrame(df_resultados)"
      ],
      "metadata": {
        "id": "vAjjW5V46_xZ"
      },
      "execution_count": null,
      "outputs": []
    },
    {
      "cell_type": "code",
      "source": [
        "df_resultados.plot()"
      ],
      "metadata": {
        "colab": {
          "base_uri": "https://localhost:8080/",
          "height": 282
        },
        "id": "a-RjIvx87FMR",
        "outputId": "dad7ae20-b459-4ee5-8e71-829c6434cf13"
      },
      "execution_count": null,
      "outputs": [
        {
          "output_type": "execute_result",
          "data": {
            "text/plain": [
              "<matplotlib.axes._subplots.AxesSubplot at 0x7f25303b9b50>"
            ]
          },
          "metadata": {},
          "execution_count": 95
        },
        {
          "output_type": "display_data",
          "data": {
            "text/plain": [
              "<Figure size 432x288 with 1 Axes>"
            ],
            "image/png": "[encoded data removed]"
          },
          "metadata": {
            "needs_background": "light"
          }
        }
      ]
    },
    {
      "cell_type": "markdown",
      "source": [
        "**Error**"
      ],
      "metadata": {
        "id": "71hpdS-Pau-h"
      }
    },
    {
      "cell_type": "code",
      "source": [
        "MSE = mean_squared_error(promedios_test[1:],test_pred_LSTM)\n",
        "np.sqrt(MSE)"
      ],
      "metadata": {
        "colab": {
          "base_uri": "https://localhost:8080/"
        },
        "id": "7WrmC8q_-O7j",
        "outputId": "45c319f7-f8f0-4c62-926c-cdb8759b9ce7"
      },
      "execution_count": null,
      "outputs": [
        {
          "output_type": "execute_result",
          "data": {
            "text/plain": [
              "121.54375622412535"
            ]
          },
          "metadata": {},
          "execution_count": 99
        }
      ]
    },
    {
      "cell_type": "code",
      "source": [
        "mean_absolute_error(promedios_test[1:],test_pred_LSTM)"
      ],
      "metadata": {
        "colab": {
          "base_uri": "https://localhost:8080/"
        },
        "id": "l6iAH2StBD0W",
        "outputId": "5ed87666-dbb4-4b49-a4de-cf731eff09d9"
      },
      "execution_count": null,
      "outputs": [
        {
          "output_type": "execute_result",
          "data": {
            "text/plain": [
              "93.24202441414663"
            ]
          },
          "metadata": {},
          "execution_count": 100
        }
      ]
    },
    {
      "cell_type": "code",
      "source": [
        "MSE = mean_squared_error(promedios_test[2:],test_pred_AR[:-1])\n",
        "np.sqrt(MSE)"
      ],
      "metadata": {
        "colab": {
          "base_uri": "https://localhost:8080/"
        },
        "id": "RN_-SkplBvyN",
        "outputId": "8560403a-84c9-4f44-f711-859aa710efd2"
      },
      "execution_count": null,
      "outputs": [
        {
          "output_type": "execute_result",
          "data": {
            "text/plain": [
              "136.17334226723125"
            ]
          },
          "metadata": {},
          "execution_count": 101
        }
      ]
    },
    {
      "cell_type": "code",
      "source": [
        "mean_absolute_error(promedios_test[2:],test_pred_AR[:-1])"
      ],
      "metadata": {
        "colab": {
          "base_uri": "https://localhost:8080/"
        },
        "id": "cw_o8TB0-Xi8",
        "outputId": "d0eee293-ebee-468b-d748-c0a348d65c60"
      },
      "execution_count": null,
      "outputs": [
        {
          "output_type": "execute_result",
          "data": {
            "text/plain": [
              "105.79865133303892"
            ]
          },
          "metadata": {},
          "execution_count": 102
        }
      ]
    }
  ]
}