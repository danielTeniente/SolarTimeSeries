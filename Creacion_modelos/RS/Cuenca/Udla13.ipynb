{
  "nbformat": 4,
  "nbformat_minor": 0,
  "metadata": {
    "colab": {
      "name": "Udla13.ipynb",
      "provenance": [],
      "collapsed_sections": []
    },
    "kernelspec": {
      "name": "python3",
      "display_name": "Python 3"
    },
    "language_info": {
      "name": "python"
    }
  },
  "cells": [
    {
      "cell_type": "markdown",
      "source": [
        "# ARMA para mid term"
      ],
      "metadata": {
        "id": "OBBL9_AfEV37"
      }
    },
    {
      "cell_type": "markdown",
      "source": [
        "Se importan las librerías."
      ],
      "metadata": {
        "id": "EokseudUP60u"
      }
    },
    {
      "cell_type": "code",
      "source": [
        "import numpy as np\n",
        "import matplotlib.pyplot as plt\n",
        "import pandas as pd\n",
        "from sklearn.metrics import mean_squared_error\n",
        "from sklearn.preprocessing import MinMaxScaler\n",
        "from sklearn.metrics import mean_absolute_error\n",
        "from tensorflow import keras\n",
        "import tensorflow as tf"
      ],
      "metadata": {
        "id": "4gBd5cLVmm-J"
      },
      "execution_count": 1,
      "outputs": []
    },
    {
      "cell_type": "markdown",
      "source": [
        "El modelo ARMA más simple considera el valor de la variable y el error del período anterior. "
      ],
      "metadata": {
        "id": "IxfNsOn04wEe"
      }
    },
    {
      "cell_type": "markdown",
      "source": [
        "$x_{t}=c+ϕ_{1} x_{t-1}+θ _{1} ϵ _{t-1}+ϵ_{t}$\n",
        "\n",
        "Donde $ϵ _{t-1}$ es el error del período anterior."
      ],
      "metadata": {
        "id": "rNUD1SVO5FjS"
      }
    },
    {
      "cell_type": "markdown",
      "source": [
        "Considerando las siguientes restricciones:\n",
        "\n",
        "$|θ_{1}|<1$\n",
        "\n",
        "$| ϕ_{1} | < 1$"
      ],
      "metadata": {
        "id": "RuJbkkx95Nkq"
      }
    },
    {
      "cell_type": "markdown",
      "source": [
        "El modelo ARMAX considera un vector para las variables exógenas."
      ],
      "metadata": {
        "id": "OTnSAJi95U-2"
      }
    },
    {
      "cell_type": "markdown",
      "source": [
        "$x_{t}=c+ϕ_{1} +βX+ x_{t-1}+θ _{1} ϵ _{t-1}+ϵ_{t}$\n",
        "\n",
        "Donde $X$ representa el valor de las variables exógenas."
      ],
      "metadata": {
        "id": "whWO15-j5pay"
      }
    },
    {
      "cell_type": "markdown",
      "source": [
        "## Implementación"
      ],
      "metadata": {
        "id": "mhVlT1Ve6r-Q"
      }
    },
    {
      "cell_type": "markdown",
      "source": [
        "Promedio semanal\n",
        "Entrenamiento\n",
        "En evaluación, alimentar el modelo con los datos predictivos LSTM. "
      ],
      "metadata": {
        "id": "qhPj97uMUVZb"
      }
    },
    {
      "cell_type": "markdown",
      "source": [
        "### ARMA"
      ],
      "metadata": {
        "id": "98mnqOXvmOp5"
      }
    },
    {
      "cell_type": "markdown",
      "source": [
        "Se importan los datos"
      ],
      "metadata": {
        "id": "2BzamFzATSic"
      }
    },
    {
      "cell_type": "code",
      "source": [
        "df = pd.read_csv('./drive/MyDrive/DatosInvestigacion/final_train_2015.csv', index_col=0, parse_dates=True)\n",
        "df = df.asfreq('h')\n",
        "df = df.between_time('08:00:00','17:00:00')\n",
        "df = df[['SRGLOAVG1H','TAMAX1H','TAMIN1H','RHMAX1H','RHMIN1H','PRSUM1H','PAAVG1H','PAMAX1H','PAMIN1H','WS1HA','WS1HX','WD1HA']]\n",
        "df_test = pd.read_csv('./drive/MyDrive/DatosInvestigacion/final_test_2015.csv', index_col=0, parse_dates=True)\n",
        "df_test = df_test.asfreq('h')\n",
        "df_test = df_test.between_time('08:00:00','17:00:00')\n",
        "df_test = df_test[['SRGLOAVG1H','TAMAX1H','TAMIN1H','RHMAX1H','RHMIN1H','PRSUM1H','PAAVG1H','PAMAX1H','PAMIN1H','WS1HA','WS1HX','WD1HA']]"
      ],
      "metadata": {
        "id": "HNMUwleL5o-J"
      },
      "execution_count": 2,
      "outputs": []
    },
    {
      "cell_type": "code",
      "source": [
        "len(df)"
      ],
      "metadata": {
        "colab": {
          "base_uri": "https://localhost:8080/"
        },
        "id": "-rYulh65mtHc",
        "outputId": "9ce0cf06-9638-4733-8842-93399bff95a3"
      },
      "execution_count": 3,
      "outputs": [
        {
          "output_type": "execute_result",
          "data": {
            "text/plain": [
              "5850"
            ]
          },
          "metadata": {},
          "execution_count": 3
        }
      ]
    },
    {
      "cell_type": "code",
      "source": [
        "df.head()"
      ],
      "metadata": {
        "colab": {
          "base_uri": "https://localhost:8080/",
          "height": 237
        },
        "id": "84zUeVwZmirW",
        "outputId": "904e99c9-2fd4-44f6-970d-dfcff034dd2c"
      },
      "execution_count": 4,
      "outputs": [
        {
          "output_type": "execute_result",
          "data": {
            "text/plain": [
              "                     SRGLOAVG1H  TAMAX1H  TAMIN1H  RHMAX1H  RHMIN1H  PRSUM1H  \\\n",
              "Local_Time                                                                     \n",
              "2015-01-01 08:00:00       107.0     12.2      9.5     96.0     89.0      0.0   \n",
              "2015-01-01 09:00:00       394.0     15.1     12.2     89.0     76.0      0.0   \n",
              "2015-01-01 10:00:00       728.0     18.1     15.1     79.0     57.0      0.0   \n",
              "2015-01-01 11:00:00       428.0     18.4     16.7     66.0     58.0      0.0   \n",
              "2015-01-01 12:00:00       403.0     18.5     17.2     65.0     55.0      0.0   \n",
              "\n",
              "                     PAAVG1H  PAMAX1H  PAMIN1H  WS1HA  WS1HX  WD1HA  \n",
              "Local_Time                                                           \n",
              "2015-01-01 08:00:00    743.5    743.7    743.1    2.5    4.6     42  \n",
              "2015-01-01 09:00:00    743.8    743.9    743.7    3.3    5.8     59  \n",
              "2015-01-01 10:00:00    743.7    743.9    743.4    4.4    8.4     40  \n",
              "2015-01-01 11:00:00    743.2    743.4    742.8    4.0    8.1     35  \n",
              "2015-01-01 12:00:00    742.6    742.9    742.3    3.5    7.6     34  "
            ],
            "text/html": [
              "\n",
              "  <div id=\"df-4e66794f-ff3e-4442-af70-b5b1d888a017\">\n",
              "    <div class=\"colab-df-container\">\n",
              "      <div>\n",
              "<style scoped>\n",
              "    .dataframe tbody tr th:only-of-type {\n",
              "        vertical-align: middle;\n",
              "    }\n",
              "\n",
              "    .dataframe tbody tr th {\n",
              "        vertical-align: top;\n",
              "    }\n",
              "\n",
              "    .dataframe thead th {\n",
              "        text-align: right;\n",
              "    }\n",
              "</style>\n",
              "<table border=\"1\" class=\"dataframe\">\n",
              "  <thead>\n",
              "    <tr style=\"text-align: right;\">\n",
              "      <th></th>\n",
              "      <th>SRGLOAVG1H</th>\n",
              "      <th>TAMAX1H</th>\n",
              "      <th>TAMIN1H</th>\n",
              "      <th>RHMAX1H</th>\n",
              "      <th>RHMIN1H</th>\n",
              "      <th>PRSUM1H</th>\n",
              "      <th>PAAVG1H</th>\n",
              "      <th>PAMAX1H</th>\n",
              "      <th>PAMIN1H</th>\n",
              "      <th>WS1HA</th>\n",
              "      <th>WS1HX</th>\n",
              "      <th>WD1HA</th>\n",
              "    </tr>\n",
              "    <tr>\n",
              "      <th>Local_Time</th>\n",
              "      <th></th>\n",
              "      <th></th>\n",
              "      <th></th>\n",
              "      <th></th>\n",
              "      <th></th>\n",
              "      <th></th>\n",
              "      <th></th>\n",
              "      <th></th>\n",
              "      <th></th>\n",
              "      <th></th>\n",
              "      <th></th>\n",
              "      <th></th>\n",
              "    </tr>\n",
              "  </thead>\n",
              "  <tbody>\n",
              "    <tr>\n",
              "      <th>2015-01-01 08:00:00</th>\n",
              "      <td>107.0</td>\n",
              "      <td>12.2</td>\n",
              "      <td>9.5</td>\n",
              "      <td>96.0</td>\n",
              "      <td>89.0</td>\n",
              "      <td>0.0</td>\n",
              "      <td>743.5</td>\n",
              "      <td>743.7</td>\n",
              "      <td>743.1</td>\n",
              "      <td>2.5</td>\n",
              "      <td>4.6</td>\n",
              "      <td>42</td>\n",
              "    </tr>\n",
              "    <tr>\n",
              "      <th>2015-01-01 09:00:00</th>\n",
              "      <td>394.0</td>\n",
              "      <td>15.1</td>\n",
              "      <td>12.2</td>\n",
              "      <td>89.0</td>\n",
              "      <td>76.0</td>\n",
              "      <td>0.0</td>\n",
              "      <td>743.8</td>\n",
              "      <td>743.9</td>\n",
              "      <td>743.7</td>\n",
              "      <td>3.3</td>\n",
              "      <td>5.8</td>\n",
              "      <td>59</td>\n",
              "    </tr>\n",
              "    <tr>\n",
              "      <th>2015-01-01 10:00:00</th>\n",
              "      <td>728.0</td>\n",
              "      <td>18.1</td>\n",
              "      <td>15.1</td>\n",
              "      <td>79.0</td>\n",
              "      <td>57.0</td>\n",
              "      <td>0.0</td>\n",
              "      <td>743.7</td>\n",
              "      <td>743.9</td>\n",
              "      <td>743.4</td>\n",
              "      <td>4.4</td>\n",
              "      <td>8.4</td>\n",
              "      <td>40</td>\n",
              "    </tr>\n",
              "    <tr>\n",
              "      <th>2015-01-01 11:00:00</th>\n",
              "      <td>428.0</td>\n",
              "      <td>18.4</td>\n",
              "      <td>16.7</td>\n",
              "      <td>66.0</td>\n",
              "      <td>58.0</td>\n",
              "      <td>0.0</td>\n",
              "      <td>743.2</td>\n",
              "      <td>743.4</td>\n",
              "      <td>742.8</td>\n",
              "      <td>4.0</td>\n",
              "      <td>8.1</td>\n",
              "      <td>35</td>\n",
              "    </tr>\n",
              "    <tr>\n",
              "      <th>2015-01-01 12:00:00</th>\n",
              "      <td>403.0</td>\n",
              "      <td>18.5</td>\n",
              "      <td>17.2</td>\n",
              "      <td>65.0</td>\n",
              "      <td>55.0</td>\n",
              "      <td>0.0</td>\n",
              "      <td>742.6</td>\n",
              "      <td>742.9</td>\n",
              "      <td>742.3</td>\n",
              "      <td>3.5</td>\n",
              "      <td>7.6</td>\n",
              "      <td>34</td>\n",
              "    </tr>\n",
              "  </tbody>\n",
              "</table>\n",
              "</div>\n",
              "      <button class=\"colab-df-convert\" onclick=\"convertToInteractive('df-4e66794f-ff3e-4442-af70-b5b1d888a017')\"\n",
              "              title=\"Convert this dataframe to an interactive table.\"\n",
              "              style=\"display:none;\">\n",
              "        \n",
              "  <svg xmlns=\"http://www.w3.org/2000/svg\" height=\"24px\"viewBox=\"0 0 24 24\"\n",
              "       width=\"24px\">\n",
              "    <path d=\"M0 0h24v24H0V0z\" fill=\"none\"/>\n",
              "    <path d=\"M18.56 5.44l.94 2.06.94-2.06 2.06-.94-2.06-.94-.94-2.06-.94 2.06-2.06.94zm-11 1L8.5 8.5l.94-2.06 2.06-.94-2.06-.94L8.5 2.5l-.94 2.06-2.06.94zm10 10l.94 2.06.94-2.06 2.06-.94-2.06-.94-.94-2.06-.94 2.06-2.06.94z\"/><path d=\"M17.41 7.96l-1.37-1.37c-.4-.4-.92-.59-1.43-.59-.52 0-1.04.2-1.43.59L10.3 9.45l-7.72 7.72c-.78.78-.78 2.05 0 2.83L4 21.41c.39.39.9.59 1.41.59.51 0 1.02-.2 1.41-.59l7.78-7.78 2.81-2.81c.8-.78.8-2.07 0-2.86zM5.41 20L4 18.59l7.72-7.72 1.47 1.35L5.41 20z\"/>\n",
              "  </svg>\n",
              "      </button>\n",
              "      \n",
              "  <style>\n",
              "    .colab-df-container {\n",
              "      display:flex;\n",
              "      flex-wrap:wrap;\n",
              "      gap: 12px;\n",
              "    }\n",
              "\n",
              "    .colab-df-convert {\n",
              "      background-color: #E8F0FE;\n",
              "      border: none;\n",
              "      border-radius: 50%;\n",
              "      cursor: pointer;\n",
              "      display: none;\n",
              "      fill: #1967D2;\n",
              "      height: 32px;\n",
              "      padding: 0 0 0 0;\n",
              "      width: 32px;\n",
              "    }\n",
              "\n",
              "    .colab-df-convert:hover {\n",
              "      background-color: #E2EBFA;\n",
              "      box-shadow: 0px 1px 2px rgba(60, 64, 67, 0.3), 0px 1px 3px 1px rgba(60, 64, 67, 0.15);\n",
              "      fill: #174EA6;\n",
              "    }\n",
              "\n",
              "    [theme=dark] .colab-df-convert {\n",
              "      background-color: #3B4455;\n",
              "      fill: #D2E3FC;\n",
              "    }\n",
              "\n",
              "    [theme=dark] .colab-df-convert:hover {\n",
              "      background-color: #434B5C;\n",
              "      box-shadow: 0px 1px 3px 1px rgba(0, 0, 0, 0.15);\n",
              "      filter: drop-shadow(0px 1px 2px rgba(0, 0, 0, 0.3));\n",
              "      fill: #FFFFFF;\n",
              "    }\n",
              "  </style>\n",
              "\n",
              "      <script>\n",
              "        const buttonEl =\n",
              "          document.querySelector('#df-4e66794f-ff3e-4442-af70-b5b1d888a017 button.colab-df-convert');\n",
              "        buttonEl.style.display =\n",
              "          google.colab.kernel.accessAllowed ? 'block' : 'none';\n",
              "\n",
              "        async function convertToInteractive(key) {\n",
              "          const element = document.querySelector('#df-4e66794f-ff3e-4442-af70-b5b1d888a017');\n",
              "          const dataTable =\n",
              "            await google.colab.kernel.invokeFunction('convertToInteractive',\n",
              "                                                     [key], {});\n",
              "          if (!dataTable) return;\n",
              "\n",
              "          const docLinkHtml = 'Like what you see? Visit the ' +\n",
              "            '<a target=\"_blank\" href=https://colab.research.google.com/notebooks/data_table.ipynb>data table notebook</a>'\n",
              "            + ' to learn more about interactive tables.';\n",
              "          element.innerHTML = '';\n",
              "          dataTable['output_type'] = 'display_data';\n",
              "          await google.colab.output.renderOutput(dataTable, element);\n",
              "          const docLink = document.createElement('div');\n",
              "          docLink.innerHTML = docLinkHtml;\n",
              "          element.appendChild(docLink);\n",
              "        }\n",
              "      </script>\n",
              "    </div>\n",
              "  </div>\n",
              "  "
            ]
          },
          "metadata": {},
          "execution_count": 4
        }
      ]
    },
    {
      "cell_type": "markdown",
      "source": [
        "Se instala la librería para el stepwise."
      ],
      "metadata": {
        "id": "sXOBB08vTU28"
      }
    },
    {
      "cell_type": "code",
      "source": [
        "!pip install pmdarima"
      ],
      "metadata": {
        "colab": {
          "base_uri": "https://localhost:8080/"
        },
        "id": "hpBiVBTbsXeZ",
        "outputId": "81f9a2ac-a6d4-43a6-b3c5-b9c3e61e51a1"
      },
      "execution_count": 5,
      "outputs": [
        {
          "output_type": "stream",
          "name": "stdout",
          "text": [
            "Collecting pmdarima\n",
            "  Downloading pmdarima-1.8.5-cp37-cp37m-manylinux_2_17_x86_64.manylinux2014_x86_64.manylinux_2_24_x86_64.whl (1.4 MB)\n",
            "\u001b[?25l\r\u001b[K     |▎                               | 10 kB 13.5 MB/s eta 0:00:01\r\u001b[K     |▌                               | 20 kB 16.6 MB/s eta 0:00:01\r\u001b[K     |▊                               | 30 kB 4.5 MB/s eta 0:00:01\r\u001b[K     |█                               | 40 kB 5.6 MB/s eta 0:00:01\r\u001b[K     |█▏                              | 51 kB 6.7 MB/s eta 0:00:01\r\u001b[K     |█▍                              | 61 kB 7.9 MB/s eta 0:00:01\r\u001b[K     |█▋                              | 71 kB 8.9 MB/s eta 0:00:01\r\u001b[K     |██                              | 81 kB 7.6 MB/s eta 0:00:01\r\u001b[K     |██▏                             | 92 kB 8.4 MB/s eta 0:00:01\r\u001b[K     |██▍                             | 102 kB 9.2 MB/s eta 0:00:01\r\u001b[K     |██▋                             | 112 kB 9.2 MB/s eta 0:00:01\r\u001b[K     |██▉                             | 122 kB 9.2 MB/s eta 0:00:01\r\u001b[K     |███                             | 133 kB 9.2 MB/s eta 0:00:01\r\u001b[K     |███▎                            | 143 kB 9.2 MB/s eta 0:00:01\r\u001b[K     |███▌                            | 153 kB 9.2 MB/s eta 0:00:01\r\u001b[K     |███▉                            | 163 kB 9.2 MB/s eta 0:00:01\r\u001b[K     |████                            | 174 kB 9.2 MB/s eta 0:00:01\r\u001b[K     |████▎                           | 184 kB 9.2 MB/s eta 0:00:01\r\u001b[K     |████▌                           | 194 kB 9.2 MB/s eta 0:00:01\r\u001b[K     |████▊                           | 204 kB 9.2 MB/s eta 0:00:01\r\u001b[K     |█████                           | 215 kB 9.2 MB/s eta 0:00:01\r\u001b[K     |█████▏                          | 225 kB 9.2 MB/s eta 0:00:01\r\u001b[K     |█████▍                          | 235 kB 9.2 MB/s eta 0:00:01\r\u001b[K     |█████▊                          | 245 kB 9.2 MB/s eta 0:00:01\r\u001b[K     |██████                          | 256 kB 9.2 MB/s eta 0:00:01\r\u001b[K     |██████▏                         | 266 kB 9.2 MB/s eta 0:00:01\r\u001b[K     |██████▍                         | 276 kB 9.2 MB/s eta 0:00:01\r\u001b[K     |██████▋                         | 286 kB 9.2 MB/s eta 0:00:01\r\u001b[K     |██████▉                         | 296 kB 9.2 MB/s eta 0:00:01\r\u001b[K     |███████                         | 307 kB 9.2 MB/s eta 0:00:01\r\u001b[K     |███████▎                        | 317 kB 9.2 MB/s eta 0:00:01\r\u001b[K     |███████▋                        | 327 kB 9.2 MB/s eta 0:00:01\r\u001b[K     |███████▉                        | 337 kB 9.2 MB/s eta 0:00:01\r\u001b[K     |████████                        | 348 kB 9.2 MB/s eta 0:00:01\r\u001b[K     |████████▎                       | 358 kB 9.2 MB/s eta 0:00:01\r\u001b[K     |████████▌                       | 368 kB 9.2 MB/s eta 0:00:01\r\u001b[K     |████████▊                       | 378 kB 9.2 MB/s eta 0:00:01\r\u001b[K     |█████████                       | 389 kB 9.2 MB/s eta 0:00:01\r\u001b[K     |█████████▎                      | 399 kB 9.2 MB/s eta 0:00:01\r\u001b[K     |█████████▌                      | 409 kB 9.2 MB/s eta 0:00:01\r\u001b[K     |█████████▊                      | 419 kB 9.2 MB/s eta 0:00:01\r\u001b[K     |██████████                      | 430 kB 9.2 MB/s eta 0:00:01\r\u001b[K     |██████████▏                     | 440 kB 9.2 MB/s eta 0:00:01\r\u001b[K     |██████████▍                     | 450 kB 9.2 MB/s eta 0:00:01\r\u001b[K     |██████████▋                     | 460 kB 9.2 MB/s eta 0:00:01\r\u001b[K     |██████████▉                     | 471 kB 9.2 MB/s eta 0:00:01\r\u001b[K     |███████████▏                    | 481 kB 9.2 MB/s eta 0:00:01\r\u001b[K     |███████████▍                    | 491 kB 9.2 MB/s eta 0:00:01\r\u001b[K     |███████████▋                    | 501 kB 9.2 MB/s eta 0:00:01\r\u001b[K     |███████████▉                    | 512 kB 9.2 MB/s eta 0:00:01\r\u001b[K     |████████████                    | 522 kB 9.2 MB/s eta 0:00:01\r\u001b[K     |████████████▎                   | 532 kB 9.2 MB/s eta 0:00:01\r\u001b[K     |████████████▌                   | 542 kB 9.2 MB/s eta 0:00:01\r\u001b[K     |████████████▊                   | 552 kB 9.2 MB/s eta 0:00:01\r\u001b[K     |█████████████                   | 563 kB 9.2 MB/s eta 0:00:01\r\u001b[K     |█████████████▎                  | 573 kB 9.2 MB/s eta 0:00:01\r\u001b[K     |█████████████▌                  | 583 kB 9.2 MB/s eta 0:00:01\r\u001b[K     |█████████████▊                  | 593 kB 9.2 MB/s eta 0:00:01\r\u001b[K     |██████████████                  | 604 kB 9.2 MB/s eta 0:00:01\r\u001b[K     |██████████████▏                 | 614 kB 9.2 MB/s eta 0:00:01\r\u001b[K     |██████████████▍                 | 624 kB 9.2 MB/s eta 0:00:01\r\u001b[K     |██████████████▋                 | 634 kB 9.2 MB/s eta 0:00:01\r\u001b[K     |███████████████                 | 645 kB 9.2 MB/s eta 0:00:01\r\u001b[K     |███████████████▏                | 655 kB 9.2 MB/s eta 0:00:01\r\u001b[K     |███████████████▍                | 665 kB 9.2 MB/s eta 0:00:01\r\u001b[K     |███████████████▋                | 675 kB 9.2 MB/s eta 0:00:01\r\u001b[K     |███████████████▉                | 686 kB 9.2 MB/s eta 0:00:01\r\u001b[K     |████████████████                | 696 kB 9.2 MB/s eta 0:00:01\r\u001b[K     |████████████████▎               | 706 kB 9.2 MB/s eta 0:00:01\r\u001b[K     |████████████████▋               | 716 kB 9.2 MB/s eta 0:00:01\r\u001b[K     |████████████████▉               | 727 kB 9.2 MB/s eta 0:00:01\r\u001b[K     |█████████████████               | 737 kB 9.2 MB/s eta 0:00:01\r\u001b[K     |█████████████████▎              | 747 kB 9.2 MB/s eta 0:00:01\r\u001b[K     |█████████████████▌              | 757 kB 9.2 MB/s eta 0:00:01\r\u001b[K     |█████████████████▊              | 768 kB 9.2 MB/s eta 0:00:01\r\u001b[K     |██████████████████              | 778 kB 9.2 MB/s eta 0:00:01\r\u001b[K     |██████████████████▏             | 788 kB 9.2 MB/s eta 0:00:01\r\u001b[K     |██████████████████▌             | 798 kB 9.2 MB/s eta 0:00:01\r\u001b[K     |██████████████████▊             | 808 kB 9.2 MB/s eta 0:00:01\r\u001b[K     |███████████████████             | 819 kB 9.2 MB/s eta 0:00:01\r\u001b[K     |███████████████████▏            | 829 kB 9.2 MB/s eta 0:00:01\r\u001b[K     |███████████████████▍            | 839 kB 9.2 MB/s eta 0:00:01\r\u001b[K     |███████████████████▋            | 849 kB 9.2 MB/s eta 0:00:01\r\u001b[K     |███████████████████▉            | 860 kB 9.2 MB/s eta 0:00:01\r\u001b[K     |████████████████████            | 870 kB 9.2 MB/s eta 0:00:01\r\u001b[K     |████████████████████▍           | 880 kB 9.2 MB/s eta 0:00:01\r\u001b[K     |████████████████████▋           | 890 kB 9.2 MB/s eta 0:00:01\r\u001b[K     |████████████████████▉           | 901 kB 9.2 MB/s eta 0:00:01\r\u001b[K     |█████████████████████           | 911 kB 9.2 MB/s eta 0:00:01\r\u001b[K     |█████████████████████▎          | 921 kB 9.2 MB/s eta 0:00:01\r\u001b[K     |█████████████████████▌          | 931 kB 9.2 MB/s eta 0:00:01\r\u001b[K     |█████████████████████▊          | 942 kB 9.2 MB/s eta 0:00:01\r\u001b[K     |██████████████████████          | 952 kB 9.2 MB/s eta 0:00:01\r\u001b[K     |██████████████████████▎         | 962 kB 9.2 MB/s eta 0:00:01\r\u001b[K     |██████████████████████▌         | 972 kB 9.2 MB/s eta 0:00:01\r\u001b[K     |██████████████████████▊         | 983 kB 9.2 MB/s eta 0:00:01\r\u001b[K     |███████████████████████         | 993 kB 9.2 MB/s eta 0:00:01\r\u001b[K     |███████████████████████▏        | 1.0 MB 9.2 MB/s eta 0:00:01\r\u001b[K     |███████████████████████▍        | 1.0 MB 9.2 MB/s eta 0:00:01\r\u001b[K     |███████████████████████▋        | 1.0 MB 9.2 MB/s eta 0:00:01\r\u001b[K     |████████████████████████        | 1.0 MB 9.2 MB/s eta 0:00:01\r\u001b[K     |████████████████████████▏       | 1.0 MB 9.2 MB/s eta 0:00:01\r\u001b[K     |████████████████████████▍       | 1.1 MB 9.2 MB/s eta 0:00:01\r\u001b[K     |████████████████████████▋       | 1.1 MB 9.2 MB/s eta 0:00:01\r\u001b[K     |████████████████████████▉       | 1.1 MB 9.2 MB/s eta 0:00:01\r\u001b[K     |█████████████████████████       | 1.1 MB 9.2 MB/s eta 0:00:01\r\u001b[K     |█████████████████████████▎      | 1.1 MB 9.2 MB/s eta 0:00:01\r\u001b[K     |█████████████████████████▌      | 1.1 MB 9.2 MB/s eta 0:00:01\r\u001b[K     |█████████████████████████▉      | 1.1 MB 9.2 MB/s eta 0:00:01\r\u001b[K     |██████████████████████████      | 1.1 MB 9.2 MB/s eta 0:00:01\r\u001b[K     |██████████████████████████▎     | 1.1 MB 9.2 MB/s eta 0:00:01\r\u001b[K     |██████████████████████████▌     | 1.1 MB 9.2 MB/s eta 0:00:01\r\u001b[K     |██████████████████████████▊     | 1.2 MB 9.2 MB/s eta 0:00:01\r\u001b[K     |███████████████████████████     | 1.2 MB 9.2 MB/s eta 0:00:01\r\u001b[K     |███████████████████████████▏    | 1.2 MB 9.2 MB/s eta 0:00:01\r\u001b[K     |███████████████████████████▍    | 1.2 MB 9.2 MB/s eta 0:00:01\r\u001b[K     |███████████████████████████▊    | 1.2 MB 9.2 MB/s eta 0:00:01\r\u001b[K     |████████████████████████████    | 1.2 MB 9.2 MB/s eta 0:00:01\r\u001b[K     |████████████████████████████▏   | 1.2 MB 9.2 MB/s eta 0:00:01\r\u001b[K     |████████████████████████████▍   | 1.2 MB 9.2 MB/s eta 0:00:01\r\u001b[K     |████████████████████████████▋   | 1.2 MB 9.2 MB/s eta 0:00:01\r\u001b[K     |████████████████████████████▉   | 1.2 MB 9.2 MB/s eta 0:00:01\r\u001b[K     |█████████████████████████████   | 1.3 MB 9.2 MB/s eta 0:00:01\r\u001b[K     |█████████████████████████████▎  | 1.3 MB 9.2 MB/s eta 0:00:01\r\u001b[K     |█████████████████████████████▋  | 1.3 MB 9.2 MB/s eta 0:00:01\r\u001b[K     |█████████████████████████████▉  | 1.3 MB 9.2 MB/s eta 0:00:01\r\u001b[K     |██████████████████████████████  | 1.3 MB 9.2 MB/s eta 0:00:01\r\u001b[K     |██████████████████████████████▎ | 1.3 MB 9.2 MB/s eta 0:00:01\r\u001b[K     |██████████████████████████████▌ | 1.3 MB 9.2 MB/s eta 0:00:01\r\u001b[K     |██████████████████████████████▊ | 1.3 MB 9.2 MB/s eta 0:00:01\r\u001b[K     |███████████████████████████████ | 1.3 MB 9.2 MB/s eta 0:00:01\r\u001b[K     |███████████████████████████████▎| 1.4 MB 9.2 MB/s eta 0:00:01\r\u001b[K     |███████████████████████████████▌| 1.4 MB 9.2 MB/s eta 0:00:01\r\u001b[K     |███████████████████████████████▊| 1.4 MB 9.2 MB/s eta 0:00:01\r\u001b[K     |████████████████████████████████| 1.4 MB 9.2 MB/s eta 0:00:01\r\u001b[K     |████████████████████████████████| 1.4 MB 9.2 MB/s \n",
            "\u001b[?25hRequirement already satisfied: setuptools!=50.0.0,>=38.6.0 in /usr/local/lib/python3.7/dist-packages (from pmdarima) (57.4.0)\n",
            "Requirement already satisfied: Cython!=0.29.18,>=0.29 in /usr/local/lib/python3.7/dist-packages (from pmdarima) (0.29.28)\n",
            "Requirement already satisfied: joblib>=0.11 in /usr/local/lib/python3.7/dist-packages (from pmdarima) (1.1.0)\n",
            "Requirement already satisfied: pandas>=0.19 in /usr/local/lib/python3.7/dist-packages (from pmdarima) (1.3.5)\n",
            "Requirement already satisfied: scipy>=1.3.2 in /usr/local/lib/python3.7/dist-packages (from pmdarima) (1.4.1)\n",
            "Requirement already satisfied: scikit-learn>=0.22 in /usr/local/lib/python3.7/dist-packages (from pmdarima) (1.0.2)\n",
            "Collecting statsmodels!=0.12.0,>=0.11\n",
            "  Downloading statsmodels-0.13.2-cp37-cp37m-manylinux_2_17_x86_64.manylinux2014_x86_64.whl (9.8 MB)\n",
            "\u001b[K     |████████████████████████████████| 9.8 MB 47.0 MB/s \n",
            "\u001b[?25hRequirement already satisfied: numpy>=1.19.3 in /usr/local/lib/python3.7/dist-packages (from pmdarima) (1.21.6)\n",
            "Requirement already satisfied: urllib3 in /usr/local/lib/python3.7/dist-packages (from pmdarima) (1.24.3)\n",
            "Requirement already satisfied: pytz>=2017.3 in /usr/local/lib/python3.7/dist-packages (from pandas>=0.19->pmdarima) (2022.1)\n",
            "Requirement already satisfied: python-dateutil>=2.7.3 in /usr/local/lib/python3.7/dist-packages (from pandas>=0.19->pmdarima) (2.8.2)\n",
            "Requirement already satisfied: six>=1.5 in /usr/local/lib/python3.7/dist-packages (from python-dateutil>=2.7.3->pandas>=0.19->pmdarima) (1.15.0)\n",
            "Requirement already satisfied: threadpoolctl>=2.0.0 in /usr/local/lib/python3.7/dist-packages (from scikit-learn>=0.22->pmdarima) (3.1.0)\n",
            "Requirement already satisfied: packaging>=21.3 in /usr/local/lib/python3.7/dist-packages (from statsmodels!=0.12.0,>=0.11->pmdarima) (21.3)\n",
            "Requirement already satisfied: patsy>=0.5.2 in /usr/local/lib/python3.7/dist-packages (from statsmodels!=0.12.0,>=0.11->pmdarima) (0.5.2)\n",
            "Requirement already satisfied: pyparsing!=3.0.5,>=2.0.2 in /usr/local/lib/python3.7/dist-packages (from packaging>=21.3->statsmodels!=0.12.0,>=0.11->pmdarima) (3.0.8)\n",
            "Installing collected packages: statsmodels, pmdarima\n",
            "  Attempting uninstall: statsmodels\n",
            "    Found existing installation: statsmodels 0.10.2\n",
            "    Uninstalling statsmodels-0.10.2:\n",
            "      Successfully uninstalled statsmodels-0.10.2\n",
            "Successfully installed pmdarima-1.8.5 statsmodels-0.13.2\n"
          ]
        }
      ]
    },
    {
      "cell_type": "markdown",
      "source": [
        "Se importa la librería."
      ],
      "metadata": {
        "id": "UucUyYk6TYkO"
      }
    },
    {
      "cell_type": "code",
      "source": [
        "from pmdarima.arima import auto_arima"
      ],
      "metadata": {
        "id": "UuT1SjrDsIIf"
      },
      "execution_count": 6,
      "outputs": []
    },
    {
      "cell_type": "markdown",
      "source": [
        "## Promedio semanal"
      ],
      "metadata": {
        "id": "w06rjrmA7XcL"
      }
    },
    {
      "cell_type": "markdown",
      "source": [
        "Se va a obtener el promedio de 70 horas para todos los datos del dataset. Esto es porque el día dura 10 horas, en este ejercicio, y 70 horas equivale a una semana."
      ],
      "metadata": {
        "id": "PaJY-vWcnFCY"
      }
    },
    {
      "cell_type": "code",
      "source": [
        "df_semanal = df.rolling(window=70).mean()"
      ],
      "metadata": {
        "id": "-FezQcHenDVP"
      },
      "execution_count": 7,
      "outputs": []
    },
    {
      "cell_type": "markdown",
      "source": [
        "Se quitan los datos nulos del principio."
      ],
      "metadata": {
        "id": "xzaMvOovufEW"
      }
    },
    {
      "cell_type": "code",
      "source": [
        "df_semanal = df_semanal.iloc[70:]"
      ],
      "metadata": {
        "id": "JPUr4NjdoFek"
      },
      "execution_count": 8,
      "outputs": []
    },
    {
      "cell_type": "code",
      "source": [
        "df_semanal.shape"
      ],
      "metadata": {
        "colab": {
          "base_uri": "https://localhost:8080/"
        },
        "id": "zW-PFNyJotq_",
        "outputId": "10a41c26-3ccf-46ca-d6b7-5c50c1444638"
      },
      "execution_count": 9,
      "outputs": [
        {
          "output_type": "execute_result",
          "data": {
            "text/plain": [
              "(5780, 12)"
            ]
          },
          "metadata": {},
          "execution_count": 9
        }
      ]
    },
    {
      "cell_type": "markdown",
      "source": [
        "Para el modelo ARMA se utilizará sólo la radiación solar."
      ],
      "metadata": {
        "id": "yS6qW8EDpePu"
      }
    },
    {
      "cell_type": "code",
      "source": [
        "df_rs = df_semanal['SRGLOAVG1H']"
      ],
      "metadata": {
        "id": "Eb-BTrN9pdVe"
      },
      "execution_count": 10,
      "outputs": []
    },
    {
      "cell_type": "code",
      "source": [
        "df_rs"
      ],
      "metadata": {
        "colab": {
          "base_uri": "https://localhost:8080/"
        },
        "id": "9DS1V94RvBcC",
        "outputId": "8819a7c8-fbf8-4f0b-b5b5-52a00c0790d5"
      },
      "execution_count": 11,
      "outputs": [
        {
          "output_type": "execute_result",
          "data": {
            "text/plain": [
              "Local_Time\n",
              "2015-01-08 08:00:00    372.400000\n",
              "2015-01-08 09:00:00    371.942857\n",
              "2015-01-08 10:00:00    371.185714\n",
              "2015-01-08 11:00:00    374.857143\n",
              "2015-01-08 12:00:00    383.200000\n",
              "                          ...    \n",
              "2016-08-07 13:00:00    368.785714\n",
              "2016-08-07 14:00:00    370.085714\n",
              "2016-08-07 15:00:00    371.185714\n",
              "2016-08-07 16:00:00    373.828571\n",
              "2016-08-07 17:00:00    374.857143\n",
              "Name: SRGLOAVG1H, Length: 5780, dtype: float64"
            ]
          },
          "metadata": {},
          "execution_count": 11
        }
      ]
    },
    {
      "cell_type": "markdown",
      "source": [
        "Se quiere predecir el promedio de la semana siguiente, así que se trabajará con valores obtenidos cada 70 filas."
      ],
      "metadata": {
        "id": "JYz0W6YFNV2f"
      }
    },
    {
      "cell_type": "code",
      "source": [
        "promedios_semanales = [df_rs[i] for i in range(0,len(df_rs),70)]"
      ],
      "metadata": {
        "id": "ubFgukDHv_cY"
      },
      "execution_count": 12,
      "outputs": []
    },
    {
      "cell_type": "code",
      "source": [
        "promedios_semanales[:5]"
      ],
      "metadata": {
        "colab": {
          "base_uri": "https://localhost:8080/"
        },
        "id": "rfPbSES8wT8B",
        "outputId": "2d75f5fc-3cde-4f95-ecab-3f43b92ac769"
      },
      "execution_count": 13,
      "outputs": [
        {
          "output_type": "execute_result",
          "data": {
            "text/plain": [
              "[372.4,\n",
              " 443.48571428571427,\n",
              " 430.77142857142854,\n",
              " 397.07142857142856,\n",
              " 384.12857142857143]"
            ]
          },
          "metadata": {},
          "execution_count": 13
        }
      ]
    },
    {
      "cell_type": "markdown",
      "source": [
        "Hay datos de 83 semanas."
      ],
      "metadata": {
        "id": "mhF7lEeuTh_-"
      }
    },
    {
      "cell_type": "code",
      "source": [
        "len(promedios_semanales)"
      ],
      "metadata": {
        "colab": {
          "base_uri": "https://localhost:8080/"
        },
        "id": "5890Kr8pq0Zd",
        "outputId": "ce24c08e-f12d-4f24-ce85-0e3c8be133a5"
      },
      "execution_count": 14,
      "outputs": [
        {
          "output_type": "execute_result",
          "data": {
            "text/plain": [
              "83"
            ]
          },
          "metadata": {},
          "execution_count": 14
        }
      ]
    },
    {
      "cell_type": "markdown",
      "source": [
        "Se buscan los mejores parámetros para el modelo."
      ],
      "metadata": {
        "id": "x3TQJ--HTkRi"
      }
    },
    {
      "cell_type": "code",
      "source": [
        "stepwise_model = auto_arima(promedios_semanales,seasonal=False,max_order=None,max_p = 10, max_q = 10)"
      ],
      "metadata": {
        "id": "h0IHizl1rw7g"
      },
      "execution_count": null,
      "outputs": []
    },
    {
      "cell_type": "markdown",
      "source": [
        "El mejor modelo tiene 1 retraso AR."
      ],
      "metadata": {
        "id": "t4lxnZIw3-GB"
      }
    },
    {
      "cell_type": "code",
      "source": [
        "stepwise_model.summary()"
      ],
      "metadata": {
        "colab": {
          "base_uri": "https://localhost:8080/",
          "height": 429
        },
        "id": "ePDv9jHAtP0N",
        "outputId": "08248736-051c-42e3-d947-96629a04f680"
      },
      "execution_count": null,
      "outputs": [
        {
          "output_type": "execute_result",
          "data": {
            "text/plain": [
              "<class 'statsmodels.iolib.summary.Summary'>\n",
              "\"\"\"\n",
              "                               SARIMAX Results                                \n",
              "==============================================================================\n",
              "Dep. Variable:                      y   No. Observations:                   83\n",
              "Model:               SARIMAX(1, 0, 0)   Log Likelihood                -471.929\n",
              "Date:                Fri, 22 Apr 2022   AIC                            949.857\n",
              "Time:                        15:17:21   BIC                            957.114\n",
              "Sample:                             0   HQIC                           952.772\n",
              "                                 - 83                                         \n",
              "Covariance Type:                  opg                                         \n",
              "==============================================================================\n",
              "                 coef    std err          z      P>|z|      [0.025      0.975]\n",
              "------------------------------------------------------------------------------\n",
              "intercept    325.5886     55.312      5.886      0.000     217.179     433.998\n",
              "ar.L1          0.1789      0.136      1.314      0.189      -0.088       0.446\n",
              "sigma2      5082.1123    609.201      8.342      0.000    3888.100    6276.124\n",
              "===================================================================================\n",
              "Ljung-Box (L1) (Q):                   0.03   Jarque-Bera (JB):                39.46\n",
              "Prob(Q):                              0.87   Prob(JB):                         0.00\n",
              "Heteroskedasticity (H):               1.21   Skew:                             1.09\n",
              "Prob(H) (two-sided):                  0.61   Kurtosis:                         5.57\n",
              "===================================================================================\n",
              "\n",
              "Warnings:\n",
              "[1] Covariance matrix calculated using the outer product of gradients (complex-step).\n",
              "\"\"\""
            ],
            "text/html": [
              "<table class=\"simpletable\">\n",
              "<caption>SARIMAX Results</caption>\n",
              "<tr>\n",
              "  <th>Dep. Variable:</th>           <td>y</td>        <th>  No. Observations:  </th>    <td>83</td>   \n",
              "</tr>\n",
              "<tr>\n",
              "  <th>Model:</th>           <td>SARIMAX(1, 0, 0)</td> <th>  Log Likelihood     </th> <td>-471.929</td>\n",
              "</tr>\n",
              "<tr>\n",
              "  <th>Date:</th>            <td>Fri, 22 Apr 2022</td> <th>  AIC                </th>  <td>949.857</td>\n",
              "</tr>\n",
              "<tr>\n",
              "  <th>Time:</th>                <td>15:17:21</td>     <th>  BIC                </th>  <td>957.114</td>\n",
              "</tr>\n",
              "<tr>\n",
              "  <th>Sample:</th>                  <td>0</td>        <th>  HQIC               </th>  <td>952.772</td>\n",
              "</tr>\n",
              "<tr>\n",
              "  <th></th>                       <td> - 83</td>      <th>                     </th>     <td> </td>   \n",
              "</tr>\n",
              "<tr>\n",
              "  <th>Covariance Type:</th>        <td>opg</td>       <th>                     </th>     <td> </td>   \n",
              "</tr>\n",
              "</table>\n",
              "<table class=\"simpletable\">\n",
              "<tr>\n",
              "      <td></td>         <th>coef</th>     <th>std err</th>      <th>z</th>      <th>P>|z|</th>  <th>[0.025</th>    <th>0.975]</th>  \n",
              "</tr>\n",
              "<tr>\n",
              "  <th>intercept</th> <td>  325.5886</td> <td>   55.312</td> <td>    5.886</td> <td> 0.000</td> <td>  217.179</td> <td>  433.998</td>\n",
              "</tr>\n",
              "<tr>\n",
              "  <th>ar.L1</th>     <td>    0.1789</td> <td>    0.136</td> <td>    1.314</td> <td> 0.189</td> <td>   -0.088</td> <td>    0.446</td>\n",
              "</tr>\n",
              "<tr>\n",
              "  <th>sigma2</th>    <td> 5082.1123</td> <td>  609.201</td> <td>    8.342</td> <td> 0.000</td> <td> 3888.100</td> <td> 6276.124</td>\n",
              "</tr>\n",
              "</table>\n",
              "<table class=\"simpletable\">\n",
              "<tr>\n",
              "  <th>Ljung-Box (L1) (Q):</th>     <td>0.03</td> <th>  Jarque-Bera (JB):  </th> <td>39.46</td>\n",
              "</tr>\n",
              "<tr>\n",
              "  <th>Prob(Q):</th>                <td>0.87</td> <th>  Prob(JB):          </th> <td>0.00</td> \n",
              "</tr>\n",
              "<tr>\n",
              "  <th>Heteroskedasticity (H):</th> <td>1.21</td> <th>  Skew:              </th> <td>1.09</td> \n",
              "</tr>\n",
              "<tr>\n",
              "  <th>Prob(H) (two-sided):</th>    <td>0.61</td> <th>  Kurtosis:          </th> <td>5.57</td> \n",
              "</tr>\n",
              "</table><br/><br/>Warnings:<br/>[1] Covariance matrix calculated using the outer product of gradients (complex-step)."
            ]
          },
          "metadata": {},
          "execution_count": 16
        }
      ]
    },
    {
      "cell_type": "markdown",
      "source": [
        "ARMAX automatiza feature selection\n",
        "Stepwise Regression in Python"
      ],
      "metadata": {
        "id": "ZUX0SRzAWCCs"
      }
    },
    {
      "cell_type": "markdown",
      "source": [
        "## Datos de prueba"
      ],
      "metadata": {
        "id": "8dy9SF8txY9a"
      }
    },
    {
      "cell_type": "markdown",
      "source": [
        "Se preparan los datos de testing"
      ],
      "metadata": {
        "id": "6BMLqo1UxT3e"
      }
    },
    {
      "cell_type": "markdown",
      "source": [
        "Se sacan promedios de 70 horas."
      ],
      "metadata": {
        "id": "5dNK3Ag2150Z"
      }
    },
    {
      "cell_type": "code",
      "source": [
        "df_semanal_test = df_test.rolling(window=70).mean()"
      ],
      "metadata": {
        "id": "wwMJin2Q5M-z"
      },
      "execution_count": null,
      "outputs": []
    },
    {
      "cell_type": "markdown",
      "source": [
        "Se quitan los datos nulos"
      ],
      "metadata": {
        "id": "VBDN4-S01-GO"
      }
    },
    {
      "cell_type": "code",
      "execution_count": null,
      "metadata": {
        "id": "EzYcR5-IERe_"
      },
      "outputs": [],
      "source": [
        "df_semanal_test = df_semanal_test.iloc[70:]"
      ]
    },
    {
      "cell_type": "markdown",
      "source": [
        "Se selecciona sólo la radiación solar."
      ],
      "metadata": {
        "id": "wF0Fw60_1_vY"
      }
    },
    {
      "cell_type": "code",
      "source": [
        "df_rs_test = df_semanal_test['SRGLOAVG1H']"
      ],
      "metadata": {
        "id": "YlsJKOxyxjeT"
      },
      "execution_count": null,
      "outputs": []
    },
    {
      "cell_type": "markdown",
      "source": [
        "Se toman valores semanales."
      ],
      "metadata": {
        "id": "pCwr3Mha2G09"
      }
    },
    {
      "cell_type": "code",
      "source": [
        "promedios_semanales_test = [df_rs_test[i] for i in range(0,len(df_rs_test),70)]"
      ],
      "metadata": {
        "id": "5ju90mBFxsNj"
      },
      "execution_count": null,
      "outputs": []
    },
    {
      "cell_type": "markdown",
      "source": [
        "Se tienen 20 semanas de prueba."
      ],
      "metadata": {
        "id": "KcD8Ixhi2KCg"
      }
    },
    {
      "cell_type": "code",
      "source": [
        "len(promedios_semanales_test)"
      ],
      "metadata": {
        "colab": {
          "base_uri": "https://localhost:8080/"
        },
        "id": "b5nm2eRPx5Zj",
        "outputId": "c014266b-cfd9-4b50-dbb3-c47b58b3c01e"
      },
      "execution_count": null,
      "outputs": [
        {
          "output_type": "execute_result",
          "data": {
            "text/plain": [
              "20"
            ]
          },
          "metadata": {},
          "execution_count": 21
        }
      ]
    },
    {
      "cell_type": "markdown",
      "source": [
        "Se utilizan los parámetros del modelo entrenado para realizar el test."
      ],
      "metadata": {
        "id": "_AAluu6J2NDg"
      }
    },
    {
      "cell_type": "code",
      "source": [
        "params = stepwise_model.params()\n",
        "params"
      ],
      "metadata": {
        "colab": {
          "base_uri": "https://localhost:8080/"
        },
        "id": "E5KjcMP22jMW",
        "outputId": "7d9f0ad8-39de-4ac4-c059-46540585f42c"
      },
      "execution_count": null,
      "outputs": [
        {
          "output_type": "execute_result",
          "data": {
            "text/plain": [
              "array([3.25588598e+02, 1.78922505e-01, 5.08211228e+03])"
            ]
          },
          "metadata": {},
          "execution_count": 26
        }
      ]
    },
    {
      "cell_type": "markdown",
      "source": [
        "Se importa la librería para implementar el modelo de prueba."
      ],
      "metadata": {
        "id": "sy_hq-_s2nk-"
      }
    },
    {
      "cell_type": "code",
      "source": [
        "import statsmodels.api as sm"
      ],
      "metadata": {
        "id": "o0l57P6XySwW"
      },
      "execution_count": 27,
      "outputs": []
    },
    {
      "cell_type": "code",
      "source": [
        "test = np.array(promedios_semanales_test)"
      ],
      "metadata": {
        "id": "06Hd7FvQzPux"
      },
      "execution_count": null,
      "outputs": []
    },
    {
      "cell_type": "markdown",
      "source": [
        "Se coloca sólo el último valor de los datos de prueba, ya que el modelo sólo necesita un retraso."
      ],
      "metadata": {
        "id": "TOfxMAVN3O-8"
      }
    },
    {
      "cell_type": "code",
      "source": [
        "modelB = sm.tsa.SARIMAX([promedios_semanales[-1]], order=(1, 0, 0))\n",
        "resB = modelB.smooth(params[1:]) # se ignora la constante"
      ],
      "metadata": {
        "id": "g_BQXnqW2oEC"
      },
      "execution_count": null,
      "outputs": []
    },
    {
      "cell_type": "markdown",
      "source": [
        "Se puede observar que el modelo predice el mismo valor que el modelo original."
      ],
      "metadata": {
        "id": "Q36XUDHi3O0_"
      }
    },
    {
      "cell_type": "code",
      "source": [
        "# modelo original\n",
        "stepwise_model.predict(1)"
      ],
      "metadata": {
        "colab": {
          "base_uri": "https://localhost:8080/"
        },
        "id": "KIwomjuT3H5q",
        "outputId": "43fb7aec-2d1f-4a88-c6f8-5bfa18370808"
      },
      "execution_count": null,
      "outputs": [
        {
          "output_type": "execute_result",
          "data": {
            "text/plain": [
              "array([375.27282192])"
            ]
          },
          "metadata": {},
          "execution_count": 31
        }
      ]
    },
    {
      "cell_type": "code",
      "source": [
        "# modelo reconstruido para test\n",
        "resB.forecast(1)+params[0]"
      ],
      "metadata": {
        "colab": {
          "base_uri": "https://localhost:8080/"
        },
        "id": "FrYb7ZBgzm41",
        "outputId": "eb2755ed-9f2b-48a2-9032-68e22908a960"
      },
      "execution_count": null,
      "outputs": [
        {
          "output_type": "execute_result",
          "data": {
            "text/plain": [
              "array([375.27282192])"
            ]
          },
          "metadata": {},
          "execution_count": 33
        }
      ]
    },
    {
      "cell_type": "markdown",
      "source": [
        "Se utiliza el modelo de test en todos los datos de test."
      ],
      "metadata": {
        "id": "EhvFLnp43nOh"
      }
    },
    {
      "cell_type": "code",
      "source": [
        "predictions = []"
      ],
      "metadata": {
        "id": "Byfidqrt5Ae9"
      },
      "execution_count": null,
      "outputs": []
    },
    {
      "cell_type": "code",
      "source": [
        "for i in range(len(promedios_semanales_test)-1):  \n",
        "  modelB = sm.tsa.SARIMAX([promedios_semanales_test[i]], order=(1, 0, 0))\n",
        "  resB = modelB.smooth(params[1:]) # se ignora la constante\n",
        "  predictions.append((resB.forecast(1))[0])"
      ],
      "metadata": {
        "id": "OTl-b_kT3ynt"
      },
      "execution_count": null,
      "outputs": []
    },
    {
      "cell_type": "code",
      "source": [
        "predictions = np.array(predictions)"
      ],
      "metadata": {
        "id": "CUdgWkAd3OZu"
      },
      "execution_count": null,
      "outputs": []
    },
    {
      "cell_type": "code",
      "source": [
        "predictions+=params[0] # se suma la constante"
      ],
      "metadata": {
        "id": "HR5gk86M3Q2P"
      },
      "execution_count": null,
      "outputs": []
    },
    {
      "cell_type": "code",
      "source": [
        "predictions[:3]"
      ],
      "metadata": {
        "id": "5QpjyUHm39U9",
        "colab": {
          "base_uri": "https://localhost:8080/"
        },
        "outputId": "0114aedf-c264-4444-91d4-df35201882c0"
      },
      "execution_count": null,
      "outputs": [
        {
          "output_type": "execute_result",
          "data": {
            "text/plain": [
              "array([402.09330543, 405.31391052, 412.55004783])"
            ]
          },
          "metadata": {},
          "execution_count": 50
        }
      ]
    },
    {
      "cell_type": "code",
      "source": [
        "len(predictions)"
      ],
      "metadata": {
        "colab": {
          "base_uri": "https://localhost:8080/"
        },
        "id": "shupxcfp6NZI",
        "outputId": "2d7c04a7-76f9-4b77-9778-b0ca647e18ca"
      },
      "execution_count": null,
      "outputs": [
        {
          "output_type": "execute_result",
          "data": {
            "text/plain": [
              "19"
            ]
          },
          "metadata": {},
          "execution_count": 51
        }
      ]
    },
    {
      "cell_type": "markdown",
      "source": [
        "Se quita el primer valor de test porque no hay predicción para éste."
      ],
      "metadata": {
        "id": "cxy11w_B5vkD"
      }
    },
    {
      "cell_type": "code",
      "source": [
        "MSE = mean_squared_error(promedios_semanales_test[1:],predictions)\n",
        "np.sqrt(MSE)"
      ],
      "metadata": {
        "colab": {
          "base_uri": "https://localhost:8080/"
        },
        "id": "Xo3kpuRy5Vxg",
        "outputId": "aa5e645c-8886-42cd-a6ed-5a3755e9ee88"
      },
      "execution_count": null,
      "outputs": [
        {
          "output_type": "execute_result",
          "data": {
            "text/plain": [
              "125.98464549957141"
            ]
          },
          "metadata": {},
          "execution_count": 52
        }
      ]
    },
    {
      "cell_type": "code",
      "source": [
        "mean_absolute_error(promedios_semanales_test[1:],predictions)"
      ],
      "metadata": {
        "colab": {
          "base_uri": "https://localhost:8080/"
        },
        "id": "iFdyhWW9_-u7",
        "outputId": "5cefdc93-d4ae-4edc-a98c-5f143dd37886"
      },
      "execution_count": null,
      "outputs": [
        {
          "output_type": "execute_result",
          "data": {
            "text/plain": [
              "96.74743620069883"
            ]
          },
          "metadata": {},
          "execution_count": 53
        }
      ]
    },
    {
      "cell_type": "code",
      "source": [
        "df_resultados = {\n",
        "    'real':promedios_semanales_test[1:],\n",
        "    'prediction':predictions\n",
        "}"
      ],
      "metadata": {
        "id": "uMex-UnK5q7h"
      },
      "execution_count": null,
      "outputs": []
    },
    {
      "cell_type": "code",
      "source": [
        "df_resultados = pd.DataFrame(df_resultados)"
      ],
      "metadata": {
        "id": "-AfMu19B6Ero"
      },
      "execution_count": null,
      "outputs": []
    },
    {
      "cell_type": "code",
      "source": [
        "df_resultados.plot()"
      ],
      "metadata": {
        "colab": {
          "base_uri": "https://localhost:8080/",
          "height": 282
        },
        "id": "xoPpv3f86Uu_",
        "outputId": "91eabea0-9892-44b1-e08b-470889997932"
      },
      "execution_count": null,
      "outputs": [
        {
          "output_type": "execute_result",
          "data": {
            "text/plain": [
              "<matplotlib.axes._subplots.AxesSubplot at 0x7f458a6b1590>"
            ]
          },
          "metadata": {},
          "execution_count": 56
        },
        {
          "output_type": "display_data",
          "data": {
            "text/plain": [
              "<Figure size 432x288 with 1 Axes>"
            ],
            "image/png": "[encoded data removed]"
          },
          "metadata": {
            "needs_background": "light"
          }
        }
      ]
    },
    {
      "cell_type": "markdown",
      "source": [
        "## Utilizando menos días"
      ],
      "metadata": {
        "id": "4h0umDPj7G57"
      }
    },
    {
      "cell_type": "markdown",
      "source": [
        "Se utilizan menos días para que existan más datos."
      ],
      "metadata": {
        "id": "h8qjZtt07OOM"
      }
    },
    {
      "cell_type": "markdown",
      "source": [
        "### 5 días."
      ],
      "metadata": {
        "id": "f6KRX3nu8Uwa"
      }
    },
    {
      "cell_type": "code",
      "source": [
        "dias = 5"
      ],
      "metadata": {
        "id": "AIsN7JgEEJNN"
      },
      "execution_count": 36,
      "outputs": []
    },
    {
      "cell_type": "markdown",
      "source": [
        "Se sacan promedios de 50 horas."
      ],
      "metadata": {
        "id": "iIdltyO94Jqo"
      }
    },
    {
      "cell_type": "code",
      "source": [
        "df_semanal = df.rolling(window=10*dias).mean()"
      ],
      "metadata": {
        "id": "9wNPz3qd8wyk"
      },
      "execution_count": 37,
      "outputs": []
    },
    {
      "cell_type": "code",
      "source": [
        "df_semanal = df_semanal.iloc[10*dias:]"
      ],
      "metadata": {
        "id": "7bPL0YoV9ENq"
      },
      "execution_count": 38,
      "outputs": []
    },
    {
      "cell_type": "code",
      "source": [
        "df_semanal.head(1)"
      ],
      "metadata": {
        "colab": {
          "base_uri": "https://localhost:8080/",
          "height": 112
        },
        "id": "Lnyv5D2P9FBy",
        "outputId": "1627fd90-2e14-4b6d-961c-71b654e80ad1"
      },
      "execution_count": 39,
      "outputs": [
        {
          "output_type": "execute_result",
          "data": {
            "text/plain": [
              "                     SRGLOAVG1H  TAMAX1H  TAMIN1H  RHMAX1H  RHMIN1H  PRSUM1H  \\\n",
              "Local_Time                                                                     \n",
              "2015-01-06 08:00:00      362.22   16.722    15.03    71.44    61.04      0.0   \n",
              "\n",
              "                     PAAVG1H  PAMAX1H  PAMIN1H  WS1HA   WS1HX  WD1HA  \n",
              "Local_Time                                                            \n",
              "2015-01-06 08:00:00   742.36  742.592  742.138  4.696  10.142   51.8  "
            ],
            "text/html": [
              "\n",
              "  <div id=\"df-38762908-73b7-4a39-a65d-64a3c1f5bd58\">\n",
              "    <div class=\"colab-df-container\">\n",
              "      <div>\n",
              "<style scoped>\n",
              "    .dataframe tbody tr th:only-of-type {\n",
              "        vertical-align: middle;\n",
              "    }\n",
              "\n",
              "    .dataframe tbody tr th {\n",
              "        vertical-align: top;\n",
              "    }\n",
              "\n",
              "    .dataframe thead th {\n",
              "        text-align: right;\n",
              "    }\n",
              "</style>\n",
              "<table border=\"1\" class=\"dataframe\">\n",
              "  <thead>\n",
              "    <tr style=\"text-align: right;\">\n",
              "      <th></th>\n",
              "      <th>SRGLOAVG1H</th>\n",
              "      <th>TAMAX1H</th>\n",
              "      <th>TAMIN1H</th>\n",
              "      <th>RHMAX1H</th>\n",
              "      <th>RHMIN1H</th>\n",
              "      <th>PRSUM1H</th>\n",
              "      <th>PAAVG1H</th>\n",
              "      <th>PAMAX1H</th>\n",
              "      <th>PAMIN1H</th>\n",
              "      <th>WS1HA</th>\n",
              "      <th>WS1HX</th>\n",
              "      <th>WD1HA</th>\n",
              "    </tr>\n",
              "    <tr>\n",
              "      <th>Local_Time</th>\n",
              "      <th></th>\n",
              "      <th></th>\n",
              "      <th></th>\n",
              "      <th></th>\n",
              "      <th></th>\n",
              "      <th></th>\n",
              "      <th></th>\n",
              "      <th></th>\n",
              "      <th></th>\n",
              "      <th></th>\n",
              "      <th></th>\n",
              "      <th></th>\n",
              "    </tr>\n",
              "  </thead>\n",
              "  <tbody>\n",
              "    <tr>\n",
              "      <th>2015-01-06 08:00:00</th>\n",
              "      <td>362.22</td>\n",
              "      <td>16.722</td>\n",
              "      <td>15.03</td>\n",
              "      <td>71.44</td>\n",
              "      <td>61.04</td>\n",
              "      <td>0.0</td>\n",
              "      <td>742.36</td>\n",
              "      <td>742.592</td>\n",
              "      <td>742.138</td>\n",
              "      <td>4.696</td>\n",
              "      <td>10.142</td>\n",
              "      <td>51.8</td>\n",
              "    </tr>\n",
              "  </tbody>\n",
              "</table>\n",
              "</div>\n",
              "      <button class=\"colab-df-convert\" onclick=\"convertToInteractive('df-38762908-73b7-4a39-a65d-64a3c1f5bd58')\"\n",
              "              title=\"Convert this dataframe to an interactive table.\"\n",
              "              style=\"display:none;\">\n",
              "        \n",
              "  <svg xmlns=\"http://www.w3.org/2000/svg\" height=\"24px\"viewBox=\"0 0 24 24\"\n",
              "       width=\"24px\">\n",
              "    <path d=\"M0 0h24v24H0V0z\" fill=\"none\"/>\n",
              "    <path d=\"M18.56 5.44l.94 2.06.94-2.06 2.06-.94-2.06-.94-.94-2.06-.94 2.06-2.06.94zm-11 1L8.5 8.5l.94-2.06 2.06-.94-2.06-.94L8.5 2.5l-.94 2.06-2.06.94zm10 10l.94 2.06.94-2.06 2.06-.94-2.06-.94-.94-2.06-.94 2.06-2.06.94z\"/><path d=\"M17.41 7.96l-1.37-1.37c-.4-.4-.92-.59-1.43-.59-.52 0-1.04.2-1.43.59L10.3 9.45l-7.72 7.72c-.78.78-.78 2.05 0 2.83L4 21.41c.39.39.9.59 1.41.59.51 0 1.02-.2 1.41-.59l7.78-7.78 2.81-2.81c.8-.78.8-2.07 0-2.86zM5.41 20L4 18.59l7.72-7.72 1.47 1.35L5.41 20z\"/>\n",
              "  </svg>\n",
              "      </button>\n",
              "      \n",
              "  <style>\n",
              "    .colab-df-container {\n",
              "      display:flex;\n",
              "      flex-wrap:wrap;\n",
              "      gap: 12px;\n",
              "    }\n",
              "\n",
              "    .colab-df-convert {\n",
              "      background-color: #E8F0FE;\n",
              "      border: none;\n",
              "      border-radius: 50%;\n",
              "      cursor: pointer;\n",
              "      display: none;\n",
              "      fill: #1967D2;\n",
              "      height: 32px;\n",
              "      padding: 0 0 0 0;\n",
              "      width: 32px;\n",
              "    }\n",
              "\n",
              "    .colab-df-convert:hover {\n",
              "      background-color: #E2EBFA;\n",
              "      box-shadow: 0px 1px 2px rgba(60, 64, 67, 0.3), 0px 1px 3px 1px rgba(60, 64, 67, 0.15);\n",
              "      fill: #174EA6;\n",
              "    }\n",
              "\n",
              "    [theme=dark] .colab-df-convert {\n",
              "      background-color: #3B4455;\n",
              "      fill: #D2E3FC;\n",
              "    }\n",
              "\n",
              "    [theme=dark] .colab-df-convert:hover {\n",
              "      background-color: #434B5C;\n",
              "      box-shadow: 0px 1px 3px 1px rgba(0, 0, 0, 0.15);\n",
              "      filter: drop-shadow(0px 1px 2px rgba(0, 0, 0, 0.3));\n",
              "      fill: #FFFFFF;\n",
              "    }\n",
              "  </style>\n",
              "\n",
              "      <script>\n",
              "        const buttonEl =\n",
              "          document.querySelector('#df-38762908-73b7-4a39-a65d-64a3c1f5bd58 button.colab-df-convert');\n",
              "        buttonEl.style.display =\n",
              "          google.colab.kernel.accessAllowed ? 'block' : 'none';\n",
              "\n",
              "        async function convertToInteractive(key) {\n",
              "          const element = document.querySelector('#df-38762908-73b7-4a39-a65d-64a3c1f5bd58');\n",
              "          const dataTable =\n",
              "            await google.colab.kernel.invokeFunction('convertToInteractive',\n",
              "                                                     [key], {});\n",
              "          if (!dataTable) return;\n",
              "\n",
              "          const docLinkHtml = 'Like what you see? Visit the ' +\n",
              "            '<a target=\"_blank\" href=https://colab.research.google.com/notebooks/data_table.ipynb>data table notebook</a>'\n",
              "            + ' to learn more about interactive tables.';\n",
              "          element.innerHTML = '';\n",
              "          dataTable['output_type'] = 'display_data';\n",
              "          await google.colab.output.renderOutput(dataTable, element);\n",
              "          const docLink = document.createElement('div');\n",
              "          docLink.innerHTML = docLinkHtml;\n",
              "          element.appendChild(docLink);\n",
              "        }\n",
              "      </script>\n",
              "    </div>\n",
              "  </div>\n",
              "  "
            ]
          },
          "metadata": {},
          "execution_count": 39
        }
      ]
    },
    {
      "cell_type": "markdown",
      "source": [
        "Se conservan los datos de radiación solar."
      ],
      "metadata": {
        "id": "JbJy88EH4N59"
      }
    },
    {
      "cell_type": "code",
      "source": [
        "df_rs = df_semanal['SRGLOAVG1H']"
      ],
      "metadata": {
        "id": "A6v72NoI9WMa"
      },
      "execution_count": 40,
      "outputs": []
    },
    {
      "cell_type": "markdown",
      "source": [
        "Se toman datos de cada 5 días."
      ],
      "metadata": {
        "id": "vW45RGR14QOe"
      }
    },
    {
      "cell_type": "code",
      "source": [
        "promedios_train = [df_rs[i] for i in range(0,len(df_rs),10*dias)]"
      ],
      "metadata": {
        "id": "K3MuPNyc6krk"
      },
      "execution_count": 41,
      "outputs": []
    },
    {
      "cell_type": "code",
      "source": [
        "promedios_train[:4]"
      ],
      "metadata": {
        "colab": {
          "base_uri": "https://localhost:8080/"
        },
        "id": "xnBEKXBE8l2T",
        "outputId": "92e9eb9d-62a3-4569-9ee0-f0638f886434"
      },
      "execution_count": 42,
      "outputs": [
        {
          "output_type": "execute_result",
          "data": {
            "text/plain": [
              "[362.22, 420.72, 467.54, 409.94]"
            ]
          },
          "metadata": {},
          "execution_count": 42
        }
      ]
    },
    {
      "cell_type": "code",
      "source": [
        "len(promedios_train)"
      ],
      "metadata": {
        "colab": {
          "base_uri": "https://localhost:8080/"
        },
        "id": "Qk9dxvYL9f0Z",
        "outputId": "43ce265c-3ab7-401b-c81c-571e0f8a6786"
      },
      "execution_count": 43,
      "outputs": [
        {
          "output_type": "execute_result",
          "data": {
            "text/plain": [
              "116"
            ]
          },
          "metadata": {},
          "execution_count": 43
        }
      ]
    },
    {
      "cell_type": "code",
      "source": [
        "stepwise_model = auto_arima(promedios_train,seasonal=False,max_order=None,max_p = 10, max_q = 10)"
      ],
      "metadata": {
        "id": "smtWLmYd9pFx"
      },
      "execution_count": 44,
      "outputs": []
    },
    {
      "cell_type": "markdown",
      "source": [
        "El mejor modelo tiene un retraso MA."
      ],
      "metadata": {
        "id": "LxmGAeO-9_bC"
      }
    },
    {
      "cell_type": "code",
      "source": [
        "stepwise_model.summary()"
      ],
      "metadata": {
        "colab": {
          "base_uri": "https://localhost:8080/",
          "height": 429
        },
        "id": "o9rfSYIq9vRJ",
        "outputId": "5174c74a-6e89-4125-87b0-0eeb8d09c48f"
      },
      "execution_count": 45,
      "outputs": [
        {
          "output_type": "execute_result",
          "data": {
            "text/plain": [
              "<class 'statsmodels.iolib.summary.Summary'>\n",
              "\"\"\"\n",
              "                               SARIMAX Results                                \n",
              "==============================================================================\n",
              "Dep. Variable:                      y   No. Observations:                  116\n",
              "Model:               SARIMAX(0, 0, 1)   Log Likelihood                -672.471\n",
              "Date:                Fri, 22 Apr 2022   AIC                           1350.943\n",
              "Time:                        17:36:28   BIC                           1359.204\n",
              "Sample:                             0   HQIC                          1354.296\n",
              "                                - 116                                         \n",
              "Covariance Type:                  opg                                         \n",
              "==============================================================================\n",
              "                 coef    std err          z      P>|z|      [0.025      0.975]\n",
              "------------------------------------------------------------------------------\n",
              "intercept    396.7403     11.083     35.798      0.000     375.019     418.462\n",
              "ma.L1          0.2884      0.093      3.111      0.002       0.107       0.470\n",
              "sigma2      6346.9113    821.546      7.726      0.000    4736.711    7957.112\n",
              "===================================================================================\n",
              "Ljung-Box (L1) (Q):                   0.07   Jarque-Bera (JB):                18.19\n",
              "Prob(Q):                              0.80   Prob(JB):                         0.00\n",
              "Heteroskedasticity (H):               0.96   Skew:                             0.86\n",
              "Prob(H) (two-sided):                  0.91   Kurtosis:                         3.90\n",
              "===================================================================================\n",
              "\n",
              "Warnings:\n",
              "[1] Covariance matrix calculated using the outer product of gradients (complex-step).\n",
              "\"\"\""
            ],
            "text/html": [
              "<table class=\"simpletable\">\n",
              "<caption>SARIMAX Results</caption>\n",
              "<tr>\n",
              "  <th>Dep. Variable:</th>           <td>y</td>        <th>  No. Observations:  </th>    <td>116</td>  \n",
              "</tr>\n",
              "<tr>\n",
              "  <th>Model:</th>           <td>SARIMAX(0, 0, 1)</td> <th>  Log Likelihood     </th> <td>-672.471</td>\n",
              "</tr>\n",
              "<tr>\n",
              "  <th>Date:</th>            <td>Fri, 22 Apr 2022</td> <th>  AIC                </th> <td>1350.943</td>\n",
              "</tr>\n",
              "<tr>\n",
              "  <th>Time:</th>                <td>17:36:28</td>     <th>  BIC                </th> <td>1359.204</td>\n",
              "</tr>\n",
              "<tr>\n",
              "  <th>Sample:</th>                  <td>0</td>        <th>  HQIC               </th> <td>1354.296</td>\n",
              "</tr>\n",
              "<tr>\n",
              "  <th></th>                      <td> - 116</td>      <th>                     </th>     <td> </td>   \n",
              "</tr>\n",
              "<tr>\n",
              "  <th>Covariance Type:</th>        <td>opg</td>       <th>                     </th>     <td> </td>   \n",
              "</tr>\n",
              "</table>\n",
              "<table class=\"simpletable\">\n",
              "<tr>\n",
              "      <td></td>         <th>coef</th>     <th>std err</th>      <th>z</th>      <th>P>|z|</th>  <th>[0.025</th>    <th>0.975]</th>  \n",
              "</tr>\n",
              "<tr>\n",
              "  <th>intercept</th> <td>  396.7403</td> <td>   11.083</td> <td>   35.798</td> <td> 0.000</td> <td>  375.019</td> <td>  418.462</td>\n",
              "</tr>\n",
              "<tr>\n",
              "  <th>ma.L1</th>     <td>    0.2884</td> <td>    0.093</td> <td>    3.111</td> <td> 0.002</td> <td>    0.107</td> <td>    0.470</td>\n",
              "</tr>\n",
              "<tr>\n",
              "  <th>sigma2</th>    <td> 6346.9113</td> <td>  821.546</td> <td>    7.726</td> <td> 0.000</td> <td> 4736.711</td> <td> 7957.112</td>\n",
              "</tr>\n",
              "</table>\n",
              "<table class=\"simpletable\">\n",
              "<tr>\n",
              "  <th>Ljung-Box (L1) (Q):</th>     <td>0.07</td> <th>  Jarque-Bera (JB):  </th> <td>18.19</td>\n",
              "</tr>\n",
              "<tr>\n",
              "  <th>Prob(Q):</th>                <td>0.80</td> <th>  Prob(JB):          </th> <td>0.00</td> \n",
              "</tr>\n",
              "<tr>\n",
              "  <th>Heteroskedasticity (H):</th> <td>0.96</td> <th>  Skew:              </th> <td>0.86</td> \n",
              "</tr>\n",
              "<tr>\n",
              "  <th>Prob(H) (two-sided):</th>    <td>0.91</td> <th>  Kurtosis:          </th> <td>3.90</td> \n",
              "</tr>\n",
              "</table><br/><br/>Warnings:<br/>[1] Covariance matrix calculated using the outer product of gradients (complex-step)."
            ]
          },
          "metadata": {},
          "execution_count": 45
        }
      ]
    },
    {
      "cell_type": "markdown",
      "source": [
        "**Testing**"
      ],
      "metadata": {
        "id": "09h_veit-SiJ"
      }
    },
    {
      "cell_type": "markdown",
      "source": [
        "Se utilizan los parámetros del mejor modelo."
      ],
      "metadata": {
        "id": "Qt1PiF677XfR"
      }
    },
    {
      "cell_type": "code",
      "source": [
        "params = stepwise_model.params()\n",
        "params"
      ],
      "metadata": {
        "id": "xyM32J1W_AtE",
        "colab": {
          "base_uri": "https://localhost:8080/"
        },
        "outputId": "e871de5a-dc20-464a-f736-2d5d8f26e610"
      },
      "execution_count": 46,
      "outputs": [
        {
          "output_type": "execute_result",
          "data": {
            "text/plain": [
              "array([3.96740345e+02, 2.88382694e-01, 6.34691131e+03])"
            ]
          },
          "metadata": {},
          "execution_count": 46
        }
      ]
    },
    {
      "cell_type": "markdown",
      "source": [
        "Se utiliza último promedio semanal."
      ],
      "metadata": {
        "id": "PGlPEU6u6YEc"
      }
    },
    {
      "cell_type": "code",
      "source": [
        "modelB = sm.tsa.SARIMAX([promedios_train[-1]], order=(0, 0, 1))\n",
        "resB = modelB.smooth(params[1:])"
      ],
      "metadata": {
        "id": "eonprbDG_KWt"
      },
      "execution_count": 47,
      "outputs": []
    },
    {
      "cell_type": "code",
      "source": [
        "resB.forecast(1)+params[0]"
      ],
      "metadata": {
        "colab": {
          "base_uri": "https://localhost:8080/"
        },
        "id": "Ae_6osZm_T8s",
        "outputId": "49e80dd6-b960-47a8-8c25-f510f779c954"
      },
      "execution_count": 48,
      "outputs": [
        {
          "output_type": "execute_result",
          "data": {
            "text/plain": [
              "array([467.00131451])"
            ]
          },
          "metadata": {},
          "execution_count": 48
        }
      ]
    },
    {
      "cell_type": "code",
      "source": [
        "stepwise_model.predict(1)"
      ],
      "metadata": {
        "colab": {
          "base_uri": "https://localhost:8080/"
        },
        "id": "-jpEwiP7FDug",
        "outputId": "d3d63a43-b1af-4899-a88a-561cb1acbd2e"
      },
      "execution_count": 49,
      "outputs": [
        {
          "output_type": "execute_result",
          "data": {
            "text/plain": [
              "array([362.08353963])"
            ]
          },
          "metadata": {},
          "execution_count": 49
        }
      ]
    },
    {
      "cell_type": "markdown",
      "source": [
        "El modelo MA varía de resultados de acuerdo a la longitud de los datos de entrada."
      ],
      "metadata": {
        "id": "RGYtvfUQGhtd"
      }
    },
    {
      "cell_type": "code",
      "source": [
        "modelB = sm.tsa.SARIMAX(promedios_train[-2:], order=(0, 0, 1))\n",
        "resB = modelB.smooth(params[1:])"
      ],
      "metadata": {
        "id": "H6mvHLjm6jtl"
      },
      "execution_count": 50,
      "outputs": []
    },
    {
      "cell_type": "code",
      "source": [
        "resB.forecast(1)+params[0]"
      ],
      "metadata": {
        "colab": {
          "base_uri": "https://localhost:8080/"
        },
        "id": "v5YA0DdB6p0G",
        "outputId": "90f2c912-c4f0-4783-c213-19cc229889b0"
      },
      "execution_count": 51,
      "outputs": [
        {
          "output_type": "execute_result",
          "data": {
            "text/plain": [
              "array([447.41872862])"
            ]
          },
          "metadata": {},
          "execution_count": 51
        }
      ]
    },
    {
      "cell_type": "markdown",
      "source": [
        "Se utilizará sólo el promedio de la semana anterior."
      ],
      "metadata": {
        "id": "nFPh1jnVpi0i"
      }
    },
    {
      "cell_type": "code",
      "source": [
        "df_semanal_test = df_test.rolling(window=10*dias).mean()\n",
        "df_semanal_test = df_semanal_test.iloc[10*dias:]\n",
        "df_rs_test = df_semanal_test['SRGLOAVG1H']\n",
        "promedios_semanales_test = [df_rs_test[i] for i in range(0,len(df_rs_test),10*dias)]\n",
        "len(promedios_semanales_test)"
      ],
      "metadata": {
        "colab": {
          "base_uri": "https://localhost:8080/"
        },
        "id": "X4OeSXdnpoKH",
        "outputId": "133aa2fc-dda7-48eb-f28c-7419b6e1bd57"
      },
      "execution_count": 52,
      "outputs": [
        {
          "output_type": "execute_result",
          "data": {
            "text/plain": [
              "29"
            ]
          },
          "metadata": {},
          "execution_count": 52
        }
      ]
    },
    {
      "cell_type": "code",
      "source": [
        "predictions = []\n",
        "for i in range(len(promedios_semanales_test)-1):  \n",
        "  modelB = sm.tsa.SARIMAX([promedios_semanales_test[i]], order=(0, 0, 1))\n",
        "  resB = modelB.smooth(params[1:])\n",
        "  predictions.append((resB.forecast(1))[0])"
      ],
      "metadata": {
        "id": "SdF5bDkIt0mY"
      },
      "execution_count": 53,
      "outputs": []
    },
    {
      "cell_type": "code",
      "source": [
        "predicions = np.array(predictions)"
      ],
      "metadata": {
        "id": "JuqPFcUp8Ch4"
      },
      "execution_count": 54,
      "outputs": []
    },
    {
      "cell_type": "code",
      "source": [
        "predictions+=params[0] # se suma la constante"
      ],
      "metadata": {
        "id": "WgWrRK_88EnY"
      },
      "execution_count": 55,
      "outputs": []
    },
    {
      "cell_type": "code",
      "source": [
        "len(predictions)"
      ],
      "metadata": {
        "colab": {
          "base_uri": "https://localhost:8080/"
        },
        "id": "4a3auIDsuDAK",
        "outputId": "8a2c902b-ca9e-495d-d1e1-2aaa6248d6ba"
      },
      "execution_count": 56,
      "outputs": [
        {
          "output_type": "execute_result",
          "data": {
            "text/plain": [
              "28"
            ]
          },
          "metadata": {},
          "execution_count": 56
        }
      ]
    },
    {
      "cell_type": "markdown",
      "source": [
        "El error es más pequeño que en el caso anterior."
      ],
      "metadata": {
        "id": "MQaXfZ65VDFV"
      }
    },
    {
      "cell_type": "code",
      "source": [
        "MSE = mean_squared_error(promedios_semanales_test[1:],predictions)\n",
        "np.sqrt(MSE)"
      ],
      "metadata": {
        "colab": {
          "base_uri": "https://localhost:8080/"
        },
        "id": "0GgWHmgiuLOz",
        "outputId": "74df02fe-c5e9-49b1-d845-0ba0395b16db"
      },
      "execution_count": 57,
      "outputs": [
        {
          "output_type": "execute_result",
          "data": {
            "text/plain": [
              "96.5975481044938"
            ]
          },
          "metadata": {},
          "execution_count": 57
        }
      ]
    },
    {
      "cell_type": "code",
      "source": [
        "mean_absolute_error(promedios_semanales_test[1:],predictions)"
      ],
      "metadata": {
        "colab": {
          "base_uri": "https://localhost:8080/"
        },
        "id": "4x_EJMke_3bf",
        "outputId": "dc8681c4-4440-4814-b283-a1e95e2b7e73"
      },
      "execution_count": 58,
      "outputs": [
        {
          "output_type": "execute_result",
          "data": {
            "text/plain": [
              "79.67532416774806"
            ]
          },
          "metadata": {},
          "execution_count": 58
        }
      ]
    },
    {
      "cell_type": "code",
      "source": [
        "df_resultados = {\n",
        "    'real':promedios_semanales_test[1:],\n",
        "    'prediction':predictions\n",
        "}"
      ],
      "metadata": {
        "id": "sQfGZCVXuHJK"
      },
      "execution_count": 59,
      "outputs": []
    },
    {
      "cell_type": "code",
      "source": [
        "df_resultados = pd.DataFrame(df_resultados)"
      ],
      "metadata": {
        "id": "76w6RZxbuSlz"
      },
      "execution_count": 60,
      "outputs": []
    },
    {
      "cell_type": "code",
      "source": [
        "df_resultados.plot()"
      ],
      "metadata": {
        "colab": {
          "base_uri": "https://localhost:8080/",
          "height": 282
        },
        "id": "PCZN7J5kuaV-",
        "outputId": "041c86ef-f5fc-4608-ab96-fbafacdf1b62"
      },
      "execution_count": 61,
      "outputs": [
        {
          "output_type": "execute_result",
          "data": {
            "text/plain": [
              "<matplotlib.axes._subplots.AxesSubplot at 0x7f2f45348990>"
            ]
          },
          "metadata": {},
          "execution_count": 61
        },
        {
          "output_type": "display_data",
          "data": {
            "text/plain": [
              "<Figure size 432x288 with 1 Axes>"
            ],
            "image/png": "[encoded data removed]"
          },
          "metadata": {
            "needs_background": "light"
          }
        }
      ]
    },
    {
      "cell_type": "markdown",
      "source": [
        "### 3 días"
      ],
      "metadata": {
        "id": "-GIjTvVgGmoK"
      }
    },
    {
      "cell_type": "code",
      "source": [
        "dias = 3"
      ],
      "metadata": {
        "id": "r2ityu9xGmHK"
      },
      "execution_count": 15,
      "outputs": []
    },
    {
      "cell_type": "code",
      "source": [
        "df_semanal = df.rolling(window=10*dias).mean()"
      ],
      "metadata": {
        "id": "oIYzLr0TGH1P"
      },
      "execution_count": 16,
      "outputs": []
    },
    {
      "cell_type": "code",
      "source": [
        "df_semanal = df_semanal.iloc[10*dias:]"
      ],
      "metadata": {
        "id": "wEhCXmQ5GtjT"
      },
      "execution_count": 17,
      "outputs": []
    },
    {
      "cell_type": "code",
      "source": [
        "df_semanal.head(1)"
      ],
      "metadata": {
        "colab": {
          "base_uri": "https://localhost:8080/",
          "height": 156
        },
        "id": "NwGKYOEpGvMC",
        "outputId": "36dff7d4-7618-4390-90f4-bed88f93808f"
      },
      "execution_count": 18,
      "outputs": [
        {
          "output_type": "execute_result",
          "data": {
            "text/plain": [
              "                     SRGLOAVG1H    TAMAX1H    TAMIN1H    RHMAX1H    RHMIN1H  \\\n",
              "Local_Time                                                                    \n",
              "2015-01-04 08:00:00  392.466667  17.253333  15.493333  70.233333  59.466667   \n",
              "\n",
              "                     PRSUM1H  PAAVG1H  PAMAX1H     PAMIN1H     WS1HA  \\\n",
              "Local_Time                                                             \n",
              "2015-01-04 08:00:00      0.0   742.05    742.3  741.803333  4.503333   \n",
              "\n",
              "                        WS1HX      WD1HA  \n",
              "Local_Time                                \n",
              "2015-01-04 08:00:00  9.793333  59.133333  "
            ],
            "text/html": [
              "\n",
              "  <div id=\"df-913c60b1-ab5c-41c6-9183-b13c01814ef4\">\n",
              "    <div class=\"colab-df-container\">\n",
              "      <div>\n",
              "<style scoped>\n",
              "    .dataframe tbody tr th:only-of-type {\n",
              "        vertical-align: middle;\n",
              "    }\n",
              "\n",
              "    .dataframe tbody tr th {\n",
              "        vertical-align: top;\n",
              "    }\n",
              "\n",
              "    .dataframe thead th {\n",
              "        text-align: right;\n",
              "    }\n",
              "</style>\n",
              "<table border=\"1\" class=\"dataframe\">\n",
              "  <thead>\n",
              "    <tr style=\"text-align: right;\">\n",
              "      <th></th>\n",
              "      <th>SRGLOAVG1H</th>\n",
              "      <th>TAMAX1H</th>\n",
              "      <th>TAMIN1H</th>\n",
              "      <th>RHMAX1H</th>\n",
              "      <th>RHMIN1H</th>\n",
              "      <th>PRSUM1H</th>\n",
              "      <th>PAAVG1H</th>\n",
              "      <th>PAMAX1H</th>\n",
              "      <th>PAMIN1H</th>\n",
              "      <th>WS1HA</th>\n",
              "      <th>WS1HX</th>\n",
              "      <th>WD1HA</th>\n",
              "    </tr>\n",
              "    <tr>\n",
              "      <th>Local_Time</th>\n",
              "      <th></th>\n",
              "      <th></th>\n",
              "      <th></th>\n",
              "      <th></th>\n",
              "      <th></th>\n",
              "      <th></th>\n",
              "      <th></th>\n",
              "      <th></th>\n",
              "      <th></th>\n",
              "      <th></th>\n",
              "      <th></th>\n",
              "      <th></th>\n",
              "    </tr>\n",
              "  </thead>\n",
              "  <tbody>\n",
              "    <tr>\n",
              "      <th>2015-01-04 08:00:00</th>\n",
              "      <td>392.466667</td>\n",
              "      <td>17.253333</td>\n",
              "      <td>15.493333</td>\n",
              "      <td>70.233333</td>\n",
              "      <td>59.466667</td>\n",
              "      <td>0.0</td>\n",
              "      <td>742.05</td>\n",
              "      <td>742.3</td>\n",
              "      <td>741.803333</td>\n",
              "      <td>4.503333</td>\n",
              "      <td>9.793333</td>\n",
              "      <td>59.133333</td>\n",
              "    </tr>\n",
              "  </tbody>\n",
              "</table>\n",
              "</div>\n",
              "      <button class=\"colab-df-convert\" onclick=\"convertToInteractive('df-913c60b1-ab5c-41c6-9183-b13c01814ef4')\"\n",
              "              title=\"Convert this dataframe to an interactive table.\"\n",
              "              style=\"display:none;\">\n",
              "        \n",
              "  <svg xmlns=\"http://www.w3.org/2000/svg\" height=\"24px\"viewBox=\"0 0 24 24\"\n",
              "       width=\"24px\">\n",
              "    <path d=\"M0 0h24v24H0V0z\" fill=\"none\"/>\n",
              "    <path d=\"M18.56 5.44l.94 2.06.94-2.06 2.06-.94-2.06-.94-.94-2.06-.94 2.06-2.06.94zm-11 1L8.5 8.5l.94-2.06 2.06-.94-2.06-.94L8.5 2.5l-.94 2.06-2.06.94zm10 10l.94 2.06.94-2.06 2.06-.94-2.06-.94-.94-2.06-.94 2.06-2.06.94z\"/><path d=\"M17.41 7.96l-1.37-1.37c-.4-.4-.92-.59-1.43-.59-.52 0-1.04.2-1.43.59L10.3 9.45l-7.72 7.72c-.78.78-.78 2.05 0 2.83L4 21.41c.39.39.9.59 1.41.59.51 0 1.02-.2 1.41-.59l7.78-7.78 2.81-2.81c.8-.78.8-2.07 0-2.86zM5.41 20L4 18.59l7.72-7.72 1.47 1.35L5.41 20z\"/>\n",
              "  </svg>\n",
              "      </button>\n",
              "      \n",
              "  <style>\n",
              "    .colab-df-container {\n",
              "      display:flex;\n",
              "      flex-wrap:wrap;\n",
              "      gap: 12px;\n",
              "    }\n",
              "\n",
              "    .colab-df-convert {\n",
              "      background-color: #E8F0FE;\n",
              "      border: none;\n",
              "      border-radius: 50%;\n",
              "      cursor: pointer;\n",
              "      display: none;\n",
              "      fill: #1967D2;\n",
              "      height: 32px;\n",
              "      padding: 0 0 0 0;\n",
              "      width: 32px;\n",
              "    }\n",
              "\n",
              "    .colab-df-convert:hover {\n",
              "      background-color: #E2EBFA;\n",
              "      box-shadow: 0px 1px 2px rgba(60, 64, 67, 0.3), 0px 1px 3px 1px rgba(60, 64, 67, 0.15);\n",
              "      fill: #174EA6;\n",
              "    }\n",
              "\n",
              "    [theme=dark] .colab-df-convert {\n",
              "      background-color: #3B4455;\n",
              "      fill: #D2E3FC;\n",
              "    }\n",
              "\n",
              "    [theme=dark] .colab-df-convert:hover {\n",
              "      background-color: #434B5C;\n",
              "      box-shadow: 0px 1px 3px 1px rgba(0, 0, 0, 0.15);\n",
              "      filter: drop-shadow(0px 1px 2px rgba(0, 0, 0, 0.3));\n",
              "      fill: #FFFFFF;\n",
              "    }\n",
              "  </style>\n",
              "\n",
              "      <script>\n",
              "        const buttonEl =\n",
              "          document.querySelector('#df-913c60b1-ab5c-41c6-9183-b13c01814ef4 button.colab-df-convert');\n",
              "        buttonEl.style.display =\n",
              "          google.colab.kernel.accessAllowed ? 'block' : 'none';\n",
              "\n",
              "        async function convertToInteractive(key) {\n",
              "          const element = document.querySelector('#df-913c60b1-ab5c-41c6-9183-b13c01814ef4');\n",
              "          const dataTable =\n",
              "            await google.colab.kernel.invokeFunction('convertToInteractive',\n",
              "                                                     [key], {});\n",
              "          if (!dataTable) return;\n",
              "\n",
              "          const docLinkHtml = 'Like what you see? Visit the ' +\n",
              "            '<a target=\"_blank\" href=https://colab.research.google.com/notebooks/data_table.ipynb>data table notebook</a>'\n",
              "            + ' to learn more about interactive tables.';\n",
              "          element.innerHTML = '';\n",
              "          dataTable['output_type'] = 'display_data';\n",
              "          await google.colab.output.renderOutput(dataTable, element);\n",
              "          const docLink = document.createElement('div');\n",
              "          docLink.innerHTML = docLinkHtml;\n",
              "          element.appendChild(docLink);\n",
              "        }\n",
              "      </script>\n",
              "    </div>\n",
              "  </div>\n",
              "  "
            ]
          },
          "metadata": {},
          "execution_count": 18
        }
      ]
    },
    {
      "cell_type": "code",
      "source": [
        "df_rs = df_semanal['SRGLOAVG1H']"
      ],
      "metadata": {
        "id": "162qEYeLGxpu"
      },
      "execution_count": 19,
      "outputs": []
    },
    {
      "cell_type": "code",
      "source": [
        "promedios_train = [df_rs[i] for i in range(0,len(df_rs),10*dias)]"
      ],
      "metadata": {
        "id": "NUboX6KAG3V6"
      },
      "execution_count": 20,
      "outputs": []
    },
    {
      "cell_type": "code",
      "source": [
        "len(promedios_train)"
      ],
      "metadata": {
        "colab": {
          "base_uri": "https://localhost:8080/"
        },
        "id": "gE0AGb16G3rG",
        "outputId": "d509cfcc-85a4-4c68-c3b9-8031765d3406"
      },
      "execution_count": 21,
      "outputs": [
        {
          "output_type": "execute_result",
          "data": {
            "text/plain": [
              "194"
            ]
          },
          "metadata": {},
          "execution_count": 21
        }
      ]
    },
    {
      "cell_type": "code",
      "source": [
        "stepwise_model = auto_arima(promedios_train,seasonal=False,max_order=None,max_p = 10, max_q = 10)"
      ],
      "metadata": {
        "id": "GCtBXs7FG6Pm"
      },
      "execution_count": 22,
      "outputs": []
    },
    {
      "cell_type": "markdown",
      "source": [
        "El mejor modelo utiliza un retraso MA."
      ],
      "metadata": {
        "id": "c3rz72EHunuc"
      }
    },
    {
      "cell_type": "code",
      "source": [
        "stepwise_model.summary()"
      ],
      "metadata": {
        "colab": {
          "base_uri": "https://localhost:8080/",
          "height": 429
        },
        "id": "EnP3tvJhG8ye",
        "outputId": "f2fc8c07-31b1-469b-e5f4-de48ab8734cc"
      },
      "execution_count": 23,
      "outputs": [
        {
          "output_type": "execute_result",
          "data": {
            "text/plain": [
              "<class 'statsmodels.iolib.summary.Summary'>\n",
              "\"\"\"\n",
              "                               SARIMAX Results                                \n",
              "==============================================================================\n",
              "Dep. Variable:                      y   No. Observations:                  194\n",
              "Model:               SARIMAX(0, 0, 1)   Log Likelihood               -1148.103\n",
              "Date:                Fri, 22 Apr 2022   AIC                           2302.205\n",
              "Time:                        17:32:12   BIC                           2312.009\n",
              "Sample:                             0   HQIC                          2306.175\n",
              "                                - 194                                         \n",
              "Covariance Type:                  opg                                         \n",
              "==============================================================================\n",
              "                 coef    std err          z      P>|z|      [0.025      0.975]\n",
              "------------------------------------------------------------------------------\n",
              "intercept    396.8908     10.438     38.024      0.000     376.433     417.349\n",
              "ma.L1          0.3454      0.060      5.711      0.000       0.227       0.464\n",
              "sigma2      8083.5267    731.857     11.045      0.000    6649.113    9517.940\n",
              "===================================================================================\n",
              "Ljung-Box (L1) (Q):                   0.08   Jarque-Bera (JB):                52.80\n",
              "Prob(Q):                              0.78   Prob(JB):                         0.00\n",
              "Heteroskedasticity (H):               0.94   Skew:                             1.00\n",
              "Prob(H) (two-sided):                  0.79   Kurtosis:                         4.58\n",
              "===================================================================================\n",
              "\n",
              "Warnings:\n",
              "[1] Covariance matrix calculated using the outer product of gradients (complex-step).\n",
              "\"\"\""
            ],
            "text/html": [
              "<table class=\"simpletable\">\n",
              "<caption>SARIMAX Results</caption>\n",
              "<tr>\n",
              "  <th>Dep. Variable:</th>           <td>y</td>        <th>  No. Observations:  </th>    <td>194</td>   \n",
              "</tr>\n",
              "<tr>\n",
              "  <th>Model:</th>           <td>SARIMAX(0, 0, 1)</td> <th>  Log Likelihood     </th> <td>-1148.103</td>\n",
              "</tr>\n",
              "<tr>\n",
              "  <th>Date:</th>            <td>Fri, 22 Apr 2022</td> <th>  AIC                </th> <td>2302.205</td> \n",
              "</tr>\n",
              "<tr>\n",
              "  <th>Time:</th>                <td>17:32:12</td>     <th>  BIC                </th> <td>2312.009</td> \n",
              "</tr>\n",
              "<tr>\n",
              "  <th>Sample:</th>                  <td>0</td>        <th>  HQIC               </th> <td>2306.175</td> \n",
              "</tr>\n",
              "<tr>\n",
              "  <th></th>                      <td> - 194</td>      <th>                     </th>     <td> </td>    \n",
              "</tr>\n",
              "<tr>\n",
              "  <th>Covariance Type:</th>        <td>opg</td>       <th>                     </th>     <td> </td>    \n",
              "</tr>\n",
              "</table>\n",
              "<table class=\"simpletable\">\n",
              "<tr>\n",
              "      <td></td>         <th>coef</th>     <th>std err</th>      <th>z</th>      <th>P>|z|</th>  <th>[0.025</th>    <th>0.975]</th>  \n",
              "</tr>\n",
              "<tr>\n",
              "  <th>intercept</th> <td>  396.8908</td> <td>   10.438</td> <td>   38.024</td> <td> 0.000</td> <td>  376.433</td> <td>  417.349</td>\n",
              "</tr>\n",
              "<tr>\n",
              "  <th>ma.L1</th>     <td>    0.3454</td> <td>    0.060</td> <td>    5.711</td> <td> 0.000</td> <td>    0.227</td> <td>    0.464</td>\n",
              "</tr>\n",
              "<tr>\n",
              "  <th>sigma2</th>    <td> 8083.5267</td> <td>  731.857</td> <td>   11.045</td> <td> 0.000</td> <td> 6649.113</td> <td> 9517.940</td>\n",
              "</tr>\n",
              "</table>\n",
              "<table class=\"simpletable\">\n",
              "<tr>\n",
              "  <th>Ljung-Box (L1) (Q):</th>     <td>0.08</td> <th>  Jarque-Bera (JB):  </th> <td>52.80</td>\n",
              "</tr>\n",
              "<tr>\n",
              "  <th>Prob(Q):</th>                <td>0.78</td> <th>  Prob(JB):          </th> <td>0.00</td> \n",
              "</tr>\n",
              "<tr>\n",
              "  <th>Heteroskedasticity (H):</th> <td>0.94</td> <th>  Skew:              </th> <td>1.00</td> \n",
              "</tr>\n",
              "<tr>\n",
              "  <th>Prob(H) (two-sided):</th>    <td>0.79</td> <th>  Kurtosis:          </th> <td>4.58</td> \n",
              "</tr>\n",
              "</table><br/><br/>Warnings:<br/>[1] Covariance matrix calculated using the outer product of gradients (complex-step)."
            ]
          },
          "metadata": {},
          "execution_count": 23
        }
      ]
    },
    {
      "cell_type": "markdown",
      "source": [
        "Se guardan los parámetros del mejor modelo."
      ],
      "metadata": {
        "id": "8K-FtLT0VXDs"
      }
    },
    {
      "cell_type": "code",
      "source": [
        "params = stepwise_model.params()\n",
        "params"
      ],
      "metadata": {
        "id": "nONkH77HulL4",
        "colab": {
          "base_uri": "https://localhost:8080/"
        },
        "outputId": "f25cb535-5e24-4cc3-e000-2b05c507e3f7"
      },
      "execution_count": 25,
      "outputs": [
        {
          "output_type": "execute_result",
          "data": {
            "text/plain": [
              "array([3.96890804e+02, 3.45429553e-01, 8.08352674e+03])"
            ]
          },
          "metadata": {},
          "execution_count": 25
        }
      ]
    },
    {
      "cell_type": "markdown",
      "source": [
        "Se obtienen los datos de prueba."
      ],
      "metadata": {
        "id": "CPjaaJY0VQhy"
      }
    },
    {
      "cell_type": "code",
      "source": [
        "df_semanal_test = df_test.rolling(window=10*dias).mean()\n",
        "df_semanal_test = df_semanal_test.iloc[10*dias:]\n",
        "df_rs_test = df_semanal_test['SRGLOAVG1H']\n",
        "promedios_semanales_test = [df_rs_test[i] for i in range(0,len(df_rs_test),10*dias)]\n",
        "len(promedios_semanales_test)"
      ],
      "metadata": {
        "colab": {
          "base_uri": "https://localhost:8080/"
        },
        "id": "wIr4jC9XuuMv",
        "outputId": "75382574-d9c3-4aa0-ccb2-d409db1744fb"
      },
      "execution_count": 24,
      "outputs": [
        {
          "output_type": "execute_result",
          "data": {
            "text/plain": [
              "48"
            ]
          },
          "metadata": {},
          "execution_count": 24
        }
      ]
    },
    {
      "cell_type": "markdown",
      "source": [
        "Se predicen los datos de test."
      ],
      "metadata": {
        "id": "OYlkC0VzWrJZ"
      }
    },
    {
      "cell_type": "code",
      "source": [
        "predictions = []\n",
        "for i in range(len(promedios_semanales_test)-1):  \n",
        "  modelB = sm.tsa.SARIMAX([promedios_semanales_test[i]], order=(0, 0, 1))\n",
        "  resB = modelB.smooth(params[1:])\n",
        "  predictions.append((resB.forecast(1))[0])"
      ],
      "metadata": {
        "id": "FuogU6CTuxs3"
      },
      "execution_count": 28,
      "outputs": []
    },
    {
      "cell_type": "code",
      "source": [
        "predictions = np.array(predictions)\n",
        "predictions+=stepwise_model.params()[0]"
      ],
      "metadata": {
        "id": "ISYVsbM58W18"
      },
      "execution_count": 29,
      "outputs": []
    },
    {
      "cell_type": "code",
      "source": [
        "len(predictions)"
      ],
      "metadata": {
        "colab": {
          "base_uri": "https://localhost:8080/"
        },
        "id": "2VVdLzesu1Br",
        "outputId": "4c0c049f-90a1-47b7-f644-5553fc9464ed"
      },
      "execution_count": 30,
      "outputs": [
        {
          "output_type": "execute_result",
          "data": {
            "text/plain": [
              "47"
            ]
          },
          "metadata": {},
          "execution_count": 30
        }
      ]
    },
    {
      "cell_type": "code",
      "source": [
        "MSE = mean_squared_error(promedios_semanales_test[1:],predictions)\n",
        "np.sqrt(MSE)"
      ],
      "metadata": {
        "colab": {
          "base_uri": "https://localhost:8080/"
        },
        "id": "UN8awGWwu4M1",
        "outputId": "9714a98e-c627-4e19-a9bd-6554032186ea"
      },
      "execution_count": 31,
      "outputs": [
        {
          "output_type": "execute_result",
          "data": {
            "text/plain": [
              "123.92723053960839"
            ]
          },
          "metadata": {},
          "execution_count": 31
        }
      ]
    },
    {
      "cell_type": "code",
      "source": [
        "mean_absolute_error(promedios_semanales_test[1:],predictions)"
      ],
      "metadata": {
        "colab": {
          "base_uri": "https://localhost:8080/"
        },
        "id": "XVTCBNah_e-b",
        "outputId": "b739b591-db72-42bf-9a1c-a826b94c797a"
      },
      "execution_count": 32,
      "outputs": [
        {
          "output_type": "execute_result",
          "data": {
            "text/plain": [
              "100.7504294963099"
            ]
          },
          "metadata": {},
          "execution_count": 32
        }
      ]
    },
    {
      "cell_type": "code",
      "source": [
        "df_resultados = {\n",
        "    'real':promedios_semanales_test[1:],\n",
        "    'prediction':predictions\n",
        "}"
      ],
      "metadata": {
        "id": "uRCaDgvtu6v2"
      },
      "execution_count": 33,
      "outputs": []
    },
    {
      "cell_type": "code",
      "source": [
        "df_resultados = pd.DataFrame(df_resultados)"
      ],
      "metadata": {
        "id": "Oj16g-6Ku-Oi"
      },
      "execution_count": 34,
      "outputs": []
    },
    {
      "cell_type": "code",
      "source": [
        "df_resultados.plot()"
      ],
      "metadata": {
        "id": "6rBkNfFkvBni",
        "outputId": "e8580f87-9abd-42d2-9e6d-ea488072df92",
        "colab": {
          "base_uri": "https://localhost:8080/",
          "height": 282
        }
      },
      "execution_count": 35,
      "outputs": [
        {
          "output_type": "execute_result",
          "data": {
            "text/plain": [
              "<matplotlib.axes._subplots.AxesSubplot at 0x7f2f45a07bd0>"
            ]
          },
          "metadata": {},
          "execution_count": 35
        },
        {
          "output_type": "display_data",
          "data": {
            "text/plain": [
              "<Figure size 432x288 with 1 Axes>"
            ],
            "image/png": "[encoded data removed]"
          },
          "metadata": {
            "needs_background": "light"
          }
        }
      ]
    },
    {
      "cell_type": "markdown",
      "source": [
        "El modelo que utiliza promedios de 5 días tiene el error más pequeño."
      ],
      "metadata": {
        "id": "WC9zicrmJ2HB"
      }
    },
    {
      "cell_type": "code",
      "source": [
        ""
      ],
      "metadata": {
        "id": "9X55FdWf-gUc"
      },
      "execution_count": null,
      "outputs": []
    }
  ]
}