{
  "nbformat": 4,
  "nbformat_minor": 0,
  "metadata": {
    "colab": {
      "provenance": []
    },
    "kernelspec": {
      "name": "python3",
      "display_name": "Python 3"
    },
    "language_info": {
      "name": "python"
    }
  },
  "cells": [
    {
      "cell_type": "markdown",
      "source": [
        "\n",
        "# Random Forest"
      ],
      "metadata": {
        "id": "adFMOcGWIBEE"
      }
    },
    {
      "cell_type": "code",
      "execution_count": null,
      "metadata": {
        "id": "tcNQF2mTHxmO"
      },
      "outputs": [],
      "source": [
        "import pandas as pd\n",
        "import numpy as np\n",
        "import matplotlib.pyplot as plt"
      ]
    },
    {
      "cell_type": "markdown",
      "source": [
        "Importar datos de cuenca"
      ],
      "metadata": {
        "id": "RNXdj3GaIBJU"
      }
    },
    {
      "cell_type": "code",
      "source": [
        "df = pd.read_csv('./drive/MyDrive/DatosInvestigacion/2015_2016_dataset.csv', index_col=0, parse_dates=True)"
      ],
      "metadata": {
        "colab": {
          "base_uri": "https://localhost:8080/"
        },
        "id": "hCBTW8R2IAbl",
        "outputId": "7bb1fde9-ec77-4705-e0fb-3039899d58ad"
      },
      "execution_count": null,
      "outputs": [
        {
          "output_type": "stream",
          "name": "stderr",
          "text": [
            "<ipython-input-13-4b0d35808564>:1: DtypeWarning: Columns (20,21,22,23,24,25,26,27,28,29,30,31,32,33,34,35,36,37,38,39,40) have mixed types. Specify dtype option on import or set low_memory=False.\n",
            "  df = pd.read_csv('./drive/MyDrive/DatosInvestigacion/2015_2016_dataset.csv', index_col=0, parse_dates=True)\n"
          ]
        }
      ]
    },
    {
      "cell_type": "code",
      "source": [
        "df = df.asfreq('h')"
      ],
      "metadata": {
        "id": "bLaVRVWTIo1r"
      },
      "execution_count": null,
      "outputs": []
    },
    {
      "cell_type": "code",
      "source": [
        "df_rs = pd.DataFrame()\n",
        "df_rs['RSG'] = df['SRGLOAVG1H'].between_time('08:00:00','17:00:00')"
      ],
      "metadata": {
        "id": "klC3YTYrIUS9"
      },
      "execution_count": null,
      "outputs": []
    },
    {
      "cell_type": "code",
      "source": [
        "df_rs.head()"
      ],
      "metadata": {
        "colab": {
          "base_uri": "https://localhost:8080/",
          "height": 237
        },
        "id": "pPEM8ZeFIxPl",
        "outputId": "dd1137e0-655a-4125-cad4-0a8e31c699f4"
      },
      "execution_count": null,
      "outputs": [
        {
          "output_type": "execute_result",
          "data": {
            "text/plain": [
              "                       RSG\n",
              "Local_Time                \n",
              "2015-01-01 08:00:00  107.0\n",
              "2015-01-01 09:00:00  394.0\n",
              "2015-01-01 10:00:00  728.0\n",
              "2015-01-01 11:00:00  428.0\n",
              "2015-01-01 12:00:00  403.0"
            ],
            "text/html": [
              "\n",
              "  <div id=\"df-4807cdf7-b624-4752-b0ad-44f32bcb5533\">\n",
              "    <div class=\"colab-df-container\">\n",
              "      <div>\n",
              "<style scoped>\n",
              "    .dataframe tbody tr th:only-of-type {\n",
              "        vertical-align: middle;\n",
              "    }\n",
              "\n",
              "    .dataframe tbody tr th {\n",
              "        vertical-align: top;\n",
              "    }\n",
              "\n",
              "    .dataframe thead th {\n",
              "        text-align: right;\n",
              "    }\n",
              "</style>\n",
              "<table border=\"1\" class=\"dataframe\">\n",
              "  <thead>\n",
              "    <tr style=\"text-align: right;\">\n",
              "      <th></th>\n",
              "      <th>RSG</th>\n",
              "    </tr>\n",
              "    <tr>\n",
              "      <th>Local_Time</th>\n",
              "      <th></th>\n",
              "    </tr>\n",
              "  </thead>\n",
              "  <tbody>\n",
              "    <tr>\n",
              "      <th>2015-01-01 08:00:00</th>\n",
              "      <td>107.0</td>\n",
              "    </tr>\n",
              "    <tr>\n",
              "      <th>2015-01-01 09:00:00</th>\n",
              "      <td>394.0</td>\n",
              "    </tr>\n",
              "    <tr>\n",
              "      <th>2015-01-01 10:00:00</th>\n",
              "      <td>728.0</td>\n",
              "    </tr>\n",
              "    <tr>\n",
              "      <th>2015-01-01 11:00:00</th>\n",
              "      <td>428.0</td>\n",
              "    </tr>\n",
              "    <tr>\n",
              "      <th>2015-01-01 12:00:00</th>\n",
              "      <td>403.0</td>\n",
              "    </tr>\n",
              "  </tbody>\n",
              "</table>\n",
              "</div>\n",
              "      <button class=\"colab-df-convert\" onclick=\"convertToInteractive('df-4807cdf7-b624-4752-b0ad-44f32bcb5533')\"\n",
              "              title=\"Convert this dataframe to an interactive table.\"\n",
              "              style=\"display:none;\">\n",
              "        \n",
              "  <svg xmlns=\"http://www.w3.org/2000/svg\" height=\"24px\"viewBox=\"0 0 24 24\"\n",
              "       width=\"24px\">\n",
              "    <path d=\"M0 0h24v24H0V0z\" fill=\"none\"/>\n",
              "    <path d=\"M18.56 5.44l.94 2.06.94-2.06 2.06-.94-2.06-.94-.94-2.06-.94 2.06-2.06.94zm-11 1L8.5 8.5l.94-2.06 2.06-.94-2.06-.94L8.5 2.5l-.94 2.06-2.06.94zm10 10l.94 2.06.94-2.06 2.06-.94-2.06-.94-.94-2.06-.94 2.06-2.06.94z\"/><path d=\"M17.41 7.96l-1.37-1.37c-.4-.4-.92-.59-1.43-.59-.52 0-1.04.2-1.43.59L10.3 9.45l-7.72 7.72c-.78.78-.78 2.05 0 2.83L4 21.41c.39.39.9.59 1.41.59.51 0 1.02-.2 1.41-.59l7.78-7.78 2.81-2.81c.8-.78.8-2.07 0-2.86zM5.41 20L4 18.59l7.72-7.72 1.47 1.35L5.41 20z\"/>\n",
              "  </svg>\n",
              "      </button>\n",
              "      \n",
              "  <style>\n",
              "    .colab-df-container {\n",
              "      display:flex;\n",
              "      flex-wrap:wrap;\n",
              "      gap: 12px;\n",
              "    }\n",
              "\n",
              "    .colab-df-convert {\n",
              "      background-color: #E8F0FE;\n",
              "      border: none;\n",
              "      border-radius: 50%;\n",
              "      cursor: pointer;\n",
              "      display: none;\n",
              "      fill: #1967D2;\n",
              "      height: 32px;\n",
              "      padding: 0 0 0 0;\n",
              "      width: 32px;\n",
              "    }\n",
              "\n",
              "    .colab-df-convert:hover {\n",
              "      background-color: #E2EBFA;\n",
              "      box-shadow: 0px 1px 2px rgba(60, 64, 67, 0.3), 0px 1px 3px 1px rgba(60, 64, 67, 0.15);\n",
              "      fill: #174EA6;\n",
              "    }\n",
              "\n",
              "    [theme=dark] .colab-df-convert {\n",
              "      background-color: #3B4455;\n",
              "      fill: #D2E3FC;\n",
              "    }\n",
              "\n",
              "    [theme=dark] .colab-df-convert:hover {\n",
              "      background-color: #434B5C;\n",
              "      box-shadow: 0px 1px 3px 1px rgba(0, 0, 0, 0.15);\n",
              "      filter: drop-shadow(0px 1px 2px rgba(0, 0, 0, 0.3));\n",
              "      fill: #FFFFFF;\n",
              "    }\n",
              "  </style>\n",
              "\n",
              "      <script>\n",
              "        const buttonEl =\n",
              "          document.querySelector('#df-4807cdf7-b624-4752-b0ad-44f32bcb5533 button.colab-df-convert');\n",
              "        buttonEl.style.display =\n",
              "          google.colab.kernel.accessAllowed ? 'block' : 'none';\n",
              "\n",
              "        async function convertToInteractive(key) {\n",
              "          const element = document.querySelector('#df-4807cdf7-b624-4752-b0ad-44f32bcb5533');\n",
              "          const dataTable =\n",
              "            await google.colab.kernel.invokeFunction('convertToInteractive',\n",
              "                                                     [key], {});\n",
              "          if (!dataTable) return;\n",
              "\n",
              "          const docLinkHtml = 'Like what you see? Visit the ' +\n",
              "            '<a target=\"_blank\" href=https://colab.research.google.com/notebooks/data_table.ipynb>data table notebook</a>'\n",
              "            + ' to learn more about interactive tables.';\n",
              "          element.innerHTML = '';\n",
              "          dataTable['output_type'] = 'display_data';\n",
              "          await google.colab.output.renderOutput(dataTable, element);\n",
              "          const docLink = document.createElement('div');\n",
              "          docLink.innerHTML = docLinkHtml;\n",
              "          element.appendChild(docLink);\n",
              "        }\n",
              "      </script>\n",
              "    </div>\n",
              "  </div>\n",
              "  "
            ]
          },
          "metadata": {},
          "execution_count": 42
        }
      ]
    },
    {
      "cell_type": "markdown",
      "source": [
        "## Crear lags"
      ],
      "metadata": {
        "id": "JDjdO29mI42C"
      }
    },
    {
      "cell_type": "code",
      "source": [
        "# data until 1 day before\n",
        "for i in range(1, 11):\n",
        "  df_rs[f't-{i}'] = df_rs['RSG'].shift(i)\n",
        "df_rs.dropna(inplace=True)"
      ],
      "metadata": {
        "id": "q8biO1wgIyOU"
      },
      "execution_count": null,
      "outputs": []
    },
    {
      "cell_type": "code",
      "source": [
        "df_rs.shape"
      ],
      "metadata": {
        "colab": {
          "base_uri": "https://localhost:8080/"
        },
        "id": "Pq_RpP1fMT97",
        "outputId": "79837b5c-8c31-437e-c9a3-ee03e8320cdb"
      },
      "execution_count": null,
      "outputs": [
        {
          "output_type": "execute_result",
          "data": {
            "text/plain": [
              "(7300, 11)"
            ]
          },
          "metadata": {},
          "execution_count": 44
        }
      ]
    },
    {
      "cell_type": "code",
      "source": [
        "df_rs.head(10)"
      ],
      "metadata": {
        "colab": {
          "base_uri": "https://localhost:8080/",
          "height": 394
        },
        "id": "xvVg5LvHMb5b",
        "outputId": "654474f5-4a0a-4b1f-c1d8-88146580e659"
      },
      "execution_count": null,
      "outputs": [
        {
          "output_type": "execute_result",
          "data": {
            "text/plain": [
              "                       RSG    t-1    t-2    t-3    t-4    t-5    t-6    t-7  \\\n",
              "Local_Time                                                                    \n",
              "2015-01-02 08:00:00   97.0  136.0  308.0  594.0  397.0  709.0  403.0  428.0   \n",
              "2015-01-02 09:00:00  118.0   97.0  136.0  308.0  594.0  397.0  709.0  403.0   \n",
              "2015-01-02 10:00:00  227.0  118.0   97.0  136.0  308.0  594.0  397.0  709.0   \n",
              "2015-01-02 11:00:00  408.0  227.0  118.0   97.0  136.0  308.0  594.0  397.0   \n",
              "2015-01-02 12:00:00  674.0  408.0  227.0  118.0   97.0  136.0  308.0  594.0   \n",
              "2015-01-02 13:00:00  459.0  674.0  408.0  227.0  118.0   97.0  136.0  308.0   \n",
              "2015-01-02 14:00:00  377.0  459.0  674.0  408.0  227.0  118.0   97.0  136.0   \n",
              "2015-01-02 15:00:00  302.0  377.0  459.0  674.0  408.0  227.0  118.0   97.0   \n",
              "2015-01-02 16:00:00  310.0  302.0  377.0  459.0  674.0  408.0  227.0  118.0   \n",
              "2015-01-02 17:00:00  298.0  310.0  302.0  377.0  459.0  674.0  408.0  227.0   \n",
              "\n",
              "                       t-8    t-9   t-10  \n",
              "Local_Time                                \n",
              "2015-01-02 08:00:00  728.0  394.0  107.0  \n",
              "2015-01-02 09:00:00  428.0  728.0  394.0  \n",
              "2015-01-02 10:00:00  403.0  428.0  728.0  \n",
              "2015-01-02 11:00:00  709.0  403.0  428.0  \n",
              "2015-01-02 12:00:00  397.0  709.0  403.0  \n",
              "2015-01-02 13:00:00  594.0  397.0  709.0  \n",
              "2015-01-02 14:00:00  308.0  594.0  397.0  \n",
              "2015-01-02 15:00:00  136.0  308.0  594.0  \n",
              "2015-01-02 16:00:00   97.0  136.0  308.0  \n",
              "2015-01-02 17:00:00  118.0   97.0  136.0  "
            ],
            "text/html": [
              "\n",
              "  <div id=\"df-a6649b1f-856a-4a76-a5f4-4a37a04c78a5\">\n",
              "    <div class=\"colab-df-container\">\n",
              "      <div>\n",
              "<style scoped>\n",
              "    .dataframe tbody tr th:only-of-type {\n",
              "        vertical-align: middle;\n",
              "    }\n",
              "\n",
              "    .dataframe tbody tr th {\n",
              "        vertical-align: top;\n",
              "    }\n",
              "\n",
              "    .dataframe thead th {\n",
              "        text-align: right;\n",
              "    }\n",
              "</style>\n",
              "<table border=\"1\" class=\"dataframe\">\n",
              "  <thead>\n",
              "    <tr style=\"text-align: right;\">\n",
              "      <th></th>\n",
              "      <th>RSG</th>\n",
              "      <th>t-1</th>\n",
              "      <th>t-2</th>\n",
              "      <th>t-3</th>\n",
              "      <th>t-4</th>\n",
              "      <th>t-5</th>\n",
              "      <th>t-6</th>\n",
              "      <th>t-7</th>\n",
              "      <th>t-8</th>\n",
              "      <th>t-9</th>\n",
              "      <th>t-10</th>\n",
              "    </tr>\n",
              "    <tr>\n",
              "      <th>Local_Time</th>\n",
              "      <th></th>\n",
              "      <th></th>\n",
              "      <th></th>\n",
              "      <th></th>\n",
              "      <th></th>\n",
              "      <th></th>\n",
              "      <th></th>\n",
              "      <th></th>\n",
              "      <th></th>\n",
              "      <th></th>\n",
              "      <th></th>\n",
              "    </tr>\n",
              "  </thead>\n",
              "  <tbody>\n",
              "    <tr>\n",
              "      <th>2015-01-02 08:00:00</th>\n",
              "      <td>97.0</td>\n",
              "      <td>136.0</td>\n",
              "      <td>308.0</td>\n",
              "      <td>594.0</td>\n",
              "      <td>397.0</td>\n",
              "      <td>709.0</td>\n",
              "      <td>403.0</td>\n",
              "      <td>428.0</td>\n",
              "      <td>728.0</td>\n",
              "      <td>394.0</td>\n",
              "      <td>107.0</td>\n",
              "    </tr>\n",
              "    <tr>\n",
              "      <th>2015-01-02 09:00:00</th>\n",
              "      <td>118.0</td>\n",
              "      <td>97.0</td>\n",
              "      <td>136.0</td>\n",
              "      <td>308.0</td>\n",
              "      <td>594.0</td>\n",
              "      <td>397.0</td>\n",
              "      <td>709.0</td>\n",
              "      <td>403.0</td>\n",
              "      <td>428.0</td>\n",
              "      <td>728.0</td>\n",
              "      <td>394.0</td>\n",
              "    </tr>\n",
              "    <tr>\n",
              "      <th>2015-01-02 10:00:00</th>\n",
              "      <td>227.0</td>\n",
              "      <td>118.0</td>\n",
              "      <td>97.0</td>\n",
              "      <td>136.0</td>\n",
              "      <td>308.0</td>\n",
              "      <td>594.0</td>\n",
              "      <td>397.0</td>\n",
              "      <td>709.0</td>\n",
              "      <td>403.0</td>\n",
              "      <td>428.0</td>\n",
              "      <td>728.0</td>\n",
              "    </tr>\n",
              "    <tr>\n",
              "      <th>2015-01-02 11:00:00</th>\n",
              "      <td>408.0</td>\n",
              "      <td>227.0</td>\n",
              "      <td>118.0</td>\n",
              "      <td>97.0</td>\n",
              "      <td>136.0</td>\n",
              "      <td>308.0</td>\n",
              "      <td>594.0</td>\n",
              "      <td>397.0</td>\n",
              "      <td>709.0</td>\n",
              "      <td>403.0</td>\n",
              "      <td>428.0</td>\n",
              "    </tr>\n",
              "    <tr>\n",
              "      <th>2015-01-02 12:00:00</th>\n",
              "      <td>674.0</td>\n",
              "      <td>408.0</td>\n",
              "      <td>227.0</td>\n",
              "      <td>118.0</td>\n",
              "      <td>97.0</td>\n",
              "      <td>136.0</td>\n",
              "      <td>308.0</td>\n",
              "      <td>594.0</td>\n",
              "      <td>397.0</td>\n",
              "      <td>709.0</td>\n",
              "      <td>403.0</td>\n",
              "    </tr>\n",
              "    <tr>\n",
              "      <th>2015-01-02 13:00:00</th>\n",
              "      <td>459.0</td>\n",
              "      <td>674.0</td>\n",
              "      <td>408.0</td>\n",
              "      <td>227.0</td>\n",
              "      <td>118.0</td>\n",
              "      <td>97.0</td>\n",
              "      <td>136.0</td>\n",
              "      <td>308.0</td>\n",
              "      <td>594.0</td>\n",
              "      <td>397.0</td>\n",
              "      <td>709.0</td>\n",
              "    </tr>\n",
              "    <tr>\n",
              "      <th>2015-01-02 14:00:00</th>\n",
              "      <td>377.0</td>\n",
              "      <td>459.0</td>\n",
              "      <td>674.0</td>\n",
              "      <td>408.0</td>\n",
              "      <td>227.0</td>\n",
              "      <td>118.0</td>\n",
              "      <td>97.0</td>\n",
              "      <td>136.0</td>\n",
              "      <td>308.0</td>\n",
              "      <td>594.0</td>\n",
              "      <td>397.0</td>\n",
              "    </tr>\n",
              "    <tr>\n",
              "      <th>2015-01-02 15:00:00</th>\n",
              "      <td>302.0</td>\n",
              "      <td>377.0</td>\n",
              "      <td>459.0</td>\n",
              "      <td>674.0</td>\n",
              "      <td>408.0</td>\n",
              "      <td>227.0</td>\n",
              "      <td>118.0</td>\n",
              "      <td>97.0</td>\n",
              "      <td>136.0</td>\n",
              "      <td>308.0</td>\n",
              "      <td>594.0</td>\n",
              "    </tr>\n",
              "    <tr>\n",
              "      <th>2015-01-02 16:00:00</th>\n",
              "      <td>310.0</td>\n",
              "      <td>302.0</td>\n",
              "      <td>377.0</td>\n",
              "      <td>459.0</td>\n",
              "      <td>674.0</td>\n",
              "      <td>408.0</td>\n",
              "      <td>227.0</td>\n",
              "      <td>118.0</td>\n",
              "      <td>97.0</td>\n",
              "      <td>136.0</td>\n",
              "      <td>308.0</td>\n",
              "    </tr>\n",
              "    <tr>\n",
              "      <th>2015-01-02 17:00:00</th>\n",
              "      <td>298.0</td>\n",
              "      <td>310.0</td>\n",
              "      <td>302.0</td>\n",
              "      <td>377.0</td>\n",
              "      <td>459.0</td>\n",
              "      <td>674.0</td>\n",
              "      <td>408.0</td>\n",
              "      <td>227.0</td>\n",
              "      <td>118.0</td>\n",
              "      <td>97.0</td>\n",
              "      <td>136.0</td>\n",
              "    </tr>\n",
              "  </tbody>\n",
              "</table>\n",
              "</div>\n",
              "      <button class=\"colab-df-convert\" onclick=\"convertToInteractive('df-a6649b1f-856a-4a76-a5f4-4a37a04c78a5')\"\n",
              "              title=\"Convert this dataframe to an interactive table.\"\n",
              "              style=\"display:none;\">\n",
              "        \n",
              "  <svg xmlns=\"http://www.w3.org/2000/svg\" height=\"24px\"viewBox=\"0 0 24 24\"\n",
              "       width=\"24px\">\n",
              "    <path d=\"M0 0h24v24H0V0z\" fill=\"none\"/>\n",
              "    <path d=\"M18.56 5.44l.94 2.06.94-2.06 2.06-.94-2.06-.94-.94-2.06-.94 2.06-2.06.94zm-11 1L8.5 8.5l.94-2.06 2.06-.94-2.06-.94L8.5 2.5l-.94 2.06-2.06.94zm10 10l.94 2.06.94-2.06 2.06-.94-2.06-.94-.94-2.06-.94 2.06-2.06.94z\"/><path d=\"M17.41 7.96l-1.37-1.37c-.4-.4-.92-.59-1.43-.59-.52 0-1.04.2-1.43.59L10.3 9.45l-7.72 7.72c-.78.78-.78 2.05 0 2.83L4 21.41c.39.39.9.59 1.41.59.51 0 1.02-.2 1.41-.59l7.78-7.78 2.81-2.81c.8-.78.8-2.07 0-2.86zM5.41 20L4 18.59l7.72-7.72 1.47 1.35L5.41 20z\"/>\n",
              "  </svg>\n",
              "      </button>\n",
              "      \n",
              "  <style>\n",
              "    .colab-df-container {\n",
              "      display:flex;\n",
              "      flex-wrap:wrap;\n",
              "      gap: 12px;\n",
              "    }\n",
              "\n",
              "    .colab-df-convert {\n",
              "      background-color: #E8F0FE;\n",
              "      border: none;\n",
              "      border-radius: 50%;\n",
              "      cursor: pointer;\n",
              "      display: none;\n",
              "      fill: #1967D2;\n",
              "      height: 32px;\n",
              "      padding: 0 0 0 0;\n",
              "      width: 32px;\n",
              "    }\n",
              "\n",
              "    .colab-df-convert:hover {\n",
              "      background-color: #E2EBFA;\n",
              "      box-shadow: 0px 1px 2px rgba(60, 64, 67, 0.3), 0px 1px 3px 1px rgba(60, 64, 67, 0.15);\n",
              "      fill: #174EA6;\n",
              "    }\n",
              "\n",
              "    [theme=dark] .colab-df-convert {\n",
              "      background-color: #3B4455;\n",
              "      fill: #D2E3FC;\n",
              "    }\n",
              "\n",
              "    [theme=dark] .colab-df-convert:hover {\n",
              "      background-color: #434B5C;\n",
              "      box-shadow: 0px 1px 3px 1px rgba(0, 0, 0, 0.15);\n",
              "      filter: drop-shadow(0px 1px 2px rgba(0, 0, 0, 0.3));\n",
              "      fill: #FFFFFF;\n",
              "    }\n",
              "  </style>\n",
              "\n",
              "      <script>\n",
              "        const buttonEl =\n",
              "          document.querySelector('#df-a6649b1f-856a-4a76-a5f4-4a37a04c78a5 button.colab-df-convert');\n",
              "        buttonEl.style.display =\n",
              "          google.colab.kernel.accessAllowed ? 'block' : 'none';\n",
              "\n",
              "        async function convertToInteractive(key) {\n",
              "          const element = document.querySelector('#df-a6649b1f-856a-4a76-a5f4-4a37a04c78a5');\n",
              "          const dataTable =\n",
              "            await google.colab.kernel.invokeFunction('convertToInteractive',\n",
              "                                                     [key], {});\n",
              "          if (!dataTable) return;\n",
              "\n",
              "          const docLinkHtml = 'Like what you see? Visit the ' +\n",
              "            '<a target=\"_blank\" href=https://colab.research.google.com/notebooks/data_table.ipynb>data table notebook</a>'\n",
              "            + ' to learn more about interactive tables.';\n",
              "          element.innerHTML = '';\n",
              "          dataTable['output_type'] = 'display_data';\n",
              "          await google.colab.output.renderOutput(dataTable, element);\n",
              "          const docLink = document.createElement('div');\n",
              "          docLink.innerHTML = docLinkHtml;\n",
              "          element.appendChild(docLink);\n",
              "        }\n",
              "      </script>\n",
              "    </div>\n",
              "  </div>\n",
              "  "
            ]
          },
          "metadata": {},
          "execution_count": 45
        }
      ]
    },
    {
      "cell_type": "code",
      "source": [
        "# Split the Data\n",
        "train_size = int(len(df_rs) * 0.8)  # Splitting 80% for training\n",
        "train, test = df_rs[:train_size], df_rs[train_size:]"
      ],
      "metadata": {
        "id": "kX4ojbLRMdjU"
      },
      "execution_count": null,
      "outputs": []
    },
    {
      "cell_type": "code",
      "source": [
        "train.shape"
      ],
      "metadata": {
        "colab": {
          "base_uri": "https://localhost:8080/"
        },
        "id": "XPjDpIvuMyTc",
        "outputId": "325568c7-3fc0-4eea-a25f-e8ebd5f97485"
      },
      "execution_count": null,
      "outputs": [
        {
          "output_type": "execute_result",
          "data": {
            "text/plain": [
              "(5840, 11)"
            ]
          },
          "metadata": {},
          "execution_count": 47
        }
      ]
    },
    {
      "cell_type": "markdown",
      "source": [
        "### Crear modelo"
      ],
      "metadata": {
        "id": "g4795FLxNLTc"
      }
    },
    {
      "cell_type": "code",
      "source": [
        "from sklearn.ensemble import RandomForestRegressor"
      ],
      "metadata": {
        "id": "Qh2fw3UdNNl7"
      },
      "execution_count": null,
      "outputs": []
    },
    {
      "cell_type": "code",
      "source": [
        "# Train the Random Forest Model\n",
        "X_train, y_train = train.iloc[:, 1:], train.iloc[:, 0]\n",
        "X_test, y_test = test.iloc[:, 1:], test.iloc[:, 0]"
      ],
      "metadata": {
        "id": "6v-iP40fMznc"
      },
      "execution_count": null,
      "outputs": []
    },
    {
      "cell_type": "code",
      "source": [
        "model = RandomForestRegressor()\n",
        "model.fit(X_train, y_train)"
      ],
      "metadata": {
        "colab": {
          "base_uri": "https://localhost:8080/",
          "height": 74
        },
        "id": "ogEgO2vxN6sz",
        "outputId": "1e8a4364-cb5f-4b19-e962-18978a000311"
      },
      "execution_count": null,
      "outputs": [
        {
          "output_type": "execute_result",
          "data": {
            "text/plain": [
              "RandomForestRegressor()"
            ],
            "text/html": [
              "<style>#sk-container-id-1 {color: black;background-color: white;}#sk-container-id-1 pre{padding: 0;}#sk-container-id-1 div.sk-toggleable {background-color: white;}#sk-container-id-1 label.sk-toggleable__label {cursor: pointer;display: block;width: 100%;margin-bottom: 0;padding: 0.3em;box-sizing: border-box;text-align: center;}#sk-container-id-1 label.sk-toggleable__label-arrow:before {content: \"▸\";float: left;margin-right: 0.25em;color: #696969;}#sk-container-id-1 label.sk-toggleable__label-arrow:hover:before {color: black;}#sk-container-id-1 div.sk-estimator:hover label.sk-toggleable__label-arrow:before {color: black;}#sk-container-id-1 div.sk-toggleable__content {max-height: 0;max-width: 0;overflow: hidden;text-align: left;background-color: #f0f8ff;}#sk-container-id-1 div.sk-toggleable__content pre {margin: 0.2em;color: black;border-radius: 0.25em;background-color: #f0f8ff;}#sk-container-id-1 input.sk-toggleable__control:checked~div.sk-toggleable__content {max-height: 200px;max-width: 100%;overflow: auto;}#sk-container-id-1 input.sk-toggleable__control:checked~label.sk-toggleable__label-arrow:before {content: \"▾\";}#sk-container-id-1 div.sk-estimator input.sk-toggleable__control:checked~label.sk-toggleable__label {background-color: #d4ebff;}#sk-container-id-1 div.sk-label input.sk-toggleable__control:checked~label.sk-toggleable__label {background-color: #d4ebff;}#sk-container-id-1 input.sk-hidden--visually {border: 0;clip: rect(1px 1px 1px 1px);clip: rect(1px, 1px, 1px, 1px);height: 1px;margin: -1px;overflow: hidden;padding: 0;position: absolute;width: 1px;}#sk-container-id-1 div.sk-estimator {font-family: monospace;background-color: #f0f8ff;border: 1px dotted black;border-radius: 0.25em;box-sizing: border-box;margin-bottom: 0.5em;}#sk-container-id-1 div.sk-estimator:hover {background-color: #d4ebff;}#sk-container-id-1 div.sk-parallel-item::after {content: \"\";width: 100%;border-bottom: 1px solid gray;flex-grow: 1;}#sk-container-id-1 div.sk-label:hover label.sk-toggleable__label {background-color: #d4ebff;}#sk-container-id-1 div.sk-serial::before {content: \"\";position: absolute;border-left: 1px solid gray;box-sizing: border-box;top: 0;bottom: 0;left: 50%;z-index: 0;}#sk-container-id-1 div.sk-serial {display: flex;flex-direction: column;align-items: center;background-color: white;padding-right: 0.2em;padding-left: 0.2em;position: relative;}#sk-container-id-1 div.sk-item {position: relative;z-index: 1;}#sk-container-id-1 div.sk-parallel {display: flex;align-items: stretch;justify-content: center;background-color: white;position: relative;}#sk-container-id-1 div.sk-item::before, #sk-container-id-1 div.sk-parallel-item::before {content: \"\";position: absolute;border-left: 1px solid gray;box-sizing: border-box;top: 0;bottom: 0;left: 50%;z-index: -1;}#sk-container-id-1 div.sk-parallel-item {display: flex;flex-direction: column;z-index: 1;position: relative;background-color: white;}#sk-container-id-1 div.sk-parallel-item:first-child::after {align-self: flex-end;width: 50%;}#sk-container-id-1 div.sk-parallel-item:last-child::after {align-self: flex-start;width: 50%;}#sk-container-id-1 div.sk-parallel-item:only-child::after {width: 0;}#sk-container-id-1 div.sk-dashed-wrapped {border: 1px dashed gray;margin: 0 0.4em 0.5em 0.4em;box-sizing: border-box;padding-bottom: 0.4em;background-color: white;}#sk-container-id-1 div.sk-label label {font-family: monospace;font-weight: bold;display: inline-block;line-height: 1.2em;}#sk-container-id-1 div.sk-label-container {text-align: center;}#sk-container-id-1 div.sk-container {/* jupyter's `normalize.less` sets `[hidden] { display: none; }` but bootstrap.min.css set `[hidden] { display: none !important; }` so we also need the `!important` here to be able to override the default hidden behavior on the sphinx rendered scikit-learn.org. See: https://github.com/scikit-learn/scikit-learn/issues/21755 */display: inline-block !important;position: relative;}#sk-container-id-1 div.sk-text-repr-fallback {display: none;}</style><div id=\"sk-container-id-1\" class=\"sk-top-container\"><div class=\"sk-text-repr-fallback\"><pre>RandomForestRegressor()</pre><b>In a Jupyter environment, please rerun this cell to show the HTML representation or trust the notebook. <br />On GitHub, the HTML representation is unable to render, please try loading this page with nbviewer.org.</b></div><div class=\"sk-container\" hidden><div class=\"sk-item\"><div class=\"sk-estimator sk-toggleable\"><input class=\"sk-toggleable__control sk-hidden--visually\" id=\"sk-estimator-id-1\" type=\"checkbox\" checked><label for=\"sk-estimator-id-1\" class=\"sk-toggleable__label sk-toggleable__label-arrow\">RandomForestRegressor</label><div class=\"sk-toggleable__content\"><pre>RandomForestRegressor()</pre></div></div></div></div></div>"
            ]
          },
          "metadata": {},
          "execution_count": 49
        }
      ]
    },
    {
      "cell_type": "code",
      "source": [
        "# Step 5: Make Predictions\n",
        "predictions = model.predict(X_test)"
      ],
      "metadata": {
        "id": "iCic6R3jN2iV"
      },
      "execution_count": null,
      "outputs": []
    },
    {
      "cell_type": "code",
      "source": [
        "len(predictions)"
      ],
      "metadata": {
        "colab": {
          "base_uri": "https://localhost:8080/"
        },
        "id": "WSi6onn-N7R9",
        "outputId": "cba5f0b9-9ebb-4635-c7bc-c9881e623f3f"
      },
      "execution_count": null,
      "outputs": [
        {
          "output_type": "execute_result",
          "data": {
            "text/plain": [
              "1460"
            ]
          },
          "metadata": {},
          "execution_count": 51
        }
      ]
    },
    {
      "cell_type": "code",
      "source": [
        "len(test)"
      ],
      "metadata": {
        "colab": {
          "base_uri": "https://localhost:8080/"
        },
        "id": "t1uNekj8N-i9",
        "outputId": "88e03b27-2da2-4784-d3aa-4d4ad90fddbd"
      },
      "execution_count": null,
      "outputs": [
        {
          "output_type": "execute_result",
          "data": {
            "text/plain": [
              "1460"
            ]
          },
          "metadata": {},
          "execution_count": 52
        }
      ]
    },
    {
      "cell_type": "code",
      "source": [
        "from sklearn.metrics import mean_squared_error\n",
        "from sklearn.metrics import mean_absolute_error"
      ],
      "metadata": {
        "id": "dPZomi6-N_28"
      },
      "execution_count": null,
      "outputs": []
    },
    {
      "cell_type": "code",
      "source": [
        "errorRF_MSE = mean_squared_error(y_test,predictions)\n",
        "errorRF_MSE"
      ],
      "metadata": {
        "colab": {
          "base_uri": "https://localhost:8080/"
        },
        "id": "M9l4h5rlOHuL",
        "outputId": "2098d715-13d3-4ead-d79f-ba03e9d14562"
      },
      "execution_count": null,
      "outputs": [
        {
          "output_type": "execute_result",
          "data": {
            "text/plain": [
              "27298.255049619343"
            ]
          },
          "metadata": {},
          "execution_count": 53
        }
      ]
    },
    {
      "cell_type": "code",
      "source": [
        "np.sqrt(errorRF_MSE)"
      ],
      "metadata": {
        "colab": {
          "base_uri": "https://localhost:8080/"
        },
        "id": "K1Z1No73OYMW",
        "outputId": "84cfe046-8490-4e35-f57e-ad7f708c4d8e"
      },
      "execution_count": null,
      "outputs": [
        {
          "output_type": "execute_result",
          "data": {
            "text/plain": [
              "165.2218358741342"
            ]
          },
          "metadata": {},
          "execution_count": 54
        }
      ]
    },
    {
      "cell_type": "code",
      "source": [
        "errorRF_MAE = mean_absolute_error(y_test,predictions)\n",
        "errorRF_MAE"
      ],
      "metadata": {
        "colab": {
          "base_uri": "https://localhost:8080/"
        },
        "id": "tWYVYYRAOvtL",
        "outputId": "3c632e86-e4a0-4192-d0b8-bf4f7483dc39"
      },
      "execution_count": null,
      "outputs": [
        {
          "output_type": "execute_result",
          "data": {
            "text/plain": [
              "127.39442208447487"
            ]
          },
          "metadata": {},
          "execution_count": 55
        }
      ]
    },
    {
      "cell_type": "code",
      "source": [
        "plot_df = pd.DataFrame()\n",
        "plot_df['real_value'] = y_test\n",
        "plot_df['prediction'] = predictions"
      ],
      "metadata": {
        "id": "5Owrhln6OSks"
      },
      "execution_count": null,
      "outputs": []
    },
    {
      "cell_type": "code",
      "source": [
        "plot_df[:]['2016-11-10 7:00:00':'2016-11-18 12:00:00'].plot(figsize=(15,8))"
      ],
      "metadata": {
        "colab": {
          "base_uri": "https://localhost:8080/",
          "height": 607
        },
        "id": "hY4Q81m4Ofqj",
        "outputId": "c4d6e5a4-2be7-4aff-82d3-a60e99c133a4"
      },
      "execution_count": null,
      "outputs": [
        {
          "output_type": "execute_result",
          "data": {
            "text/plain": [
              "<Axes: xlabel='Local_Time'>"
            ]
          },
          "metadata": {},
          "execution_count": 57
        },
        {
          "output_type": "display_data",
          "data": {
            "text/plain": [
              "<Figure size 1500x800 with 1 Axes>"
            ],
            "image/png": "[encoded data removed]"
          },
          "metadata": {}
        }
      ]
    },
    {
      "cell_type": "markdown",
      "source": [
        "## Encontrar mejor modelo RF"
      ],
      "metadata": {
        "id": "tpBHk7EXP2jc"
      }
    },
    {
      "cell_type": "code",
      "source": [
        "\n",
        "# Number of trees in random forest\n",
        "n_estimators = [100,200,300]\n",
        "# Maximum number of levels in tree\n",
        "max_depth = [20,50,70,100]\n",
        "# back hours\n",
        "b_h = [5,10,15,20,25,30]"
      ],
      "metadata": {
        "id": "t3NpH1gCR26L"
      },
      "execution_count": null,
      "outputs": []
    },
    {
      "cell_type": "code",
      "source": [
        "results = []\n",
        "min_RMSE = 100000\n",
        "best_model = None"
      ],
      "metadata": {
        "id": "XNMQZjxWVm5q"
      },
      "execution_count": null,
      "outputs": []
    },
    {
      "cell_type": "code",
      "source": [
        "for bh_i in b_h:\n",
        "  # create temporal dataset\n",
        "  df_t = pd.DataFrame()\n",
        "  df_t['RSG'] = df['SRGLOAVG1H'].between_time('08:00:00','17:00:00')\n",
        "  for i in range(1, bh_i+1):\n",
        "    df_t[f't-{i}'] = df_t['RSG'].shift(i)\n",
        "  df_t.dropna(inplace=True)\n",
        "  train_size = int(len(df_t) * 0.8)  # Splitting 80% for training\n",
        "  train, test = df_t[:train_size], df_t[train_size:]\n",
        "  X_train, y_train = train.iloc[:, 1:], train.iloc[:, 0]\n",
        "  X_test, y_test = test.iloc[:, 1:], test.iloc[:, 0]\n",
        "  # grid search\n",
        "  for n_i in n_estimators:\n",
        "    for d_i in max_depth:\n",
        "      model = RandomForestRegressor(n_estimators=n_i,max_depth=d_i,random_state=1)\n",
        "      model.fit(X_train, y_train)\n",
        "      # test\n",
        "      predictions = model.predict(X_test)\n",
        "      errorRF_MSE = mean_squared_error(y_test,predictions)\n",
        "      RMSE = np.sqrt(errorRF_MSE)\n",
        "      errorRF_MAE = mean_absolute_error(y_test,predictions)\n",
        "\n",
        "      if(RMSE < min_RMSE):\n",
        "        print('best')\n",
        "        best_model = model\n",
        "        min_RMSE = RMSE\n",
        "      results.append({\n",
        "          'back_hours':bh_i,\n",
        "          'n_estimators':n_i,\n",
        "          'max_depth':d_i,\n",
        "          'RMSE': RMSE,\n",
        "          'MSE': errorRF_MSE,\n",
        "          'MAE': errorRF_MAE\n",
        "      })\n",
        "      print(results[-1])"
      ],
      "metadata": {
        "colab": {
          "base_uri": "https://localhost:8080/"
        },
        "id": "K4PfJtcyVPrc",
        "outputId": "dcbc4efd-f06c-4454-fdbe-179f8cc1cea6"
      },
      "execution_count": null,
      "outputs": [
        {
          "output_type": "stream",
          "name": "stdout",
          "text": [
            "best\n",
            "{'back_hours': 5, 'n_estimators': 100, 'max_depth': 20, 'RMSE': 184.1636195988769, 'MSE': 33916.238783759836, 'MAE': 144.701551684693}\n",
            "best\n",
            "{'back_hours': 5, 'n_estimators': 100, 'max_depth': 50, 'RMSE': 184.00277486308505, 'MSE': 33857.02115731517, 'MAE': 144.61896501711158}\n",
            "{'back_hours': 5, 'n_estimators': 100, 'max_depth': 70, 'RMSE': 184.00277486308505, 'MSE': 33857.02115731517, 'MAE': 144.61896501711158}\n",
            "{'back_hours': 5, 'n_estimators': 100, 'max_depth': 100, 'RMSE': 184.00277486308505, 'MSE': 33857.02115731517, 'MAE': 144.61896501711158}\n",
            "best\n",
            "{'back_hours': 5, 'n_estimators': 200, 'max_depth': 20, 'RMSE': 183.68257525438418, 'MSE': 33739.2884520825, 'MAE': 144.32082872875802}\n",
            "best\n",
            "{'back_hours': 5, 'n_estimators': 200, 'max_depth': 50, 'RMSE': 183.55522034598968, 'MSE': 33692.518916264824, 'MAE': 144.29013343600275}\n",
            "{'back_hours': 5, 'n_estimators': 200, 'max_depth': 70, 'RMSE': 183.55522034598968, 'MSE': 33692.518916264824, 'MAE': 144.29013343600275}\n",
            "{'back_hours': 5, 'n_estimators': 200, 'max_depth': 100, 'RMSE': 183.55522034598968, 'MSE': 33692.518916264824, 'MAE': 144.29013343600275}\n",
            "best\n",
            "{'back_hours': 5, 'n_estimators': 300, 'max_depth': 20, 'RMSE': 183.48324196100867, 'MSE': 33666.100080522054, 'MAE': 143.99520819030852}\n",
            "best\n",
            "{'back_hours': 5, 'n_estimators': 300, 'max_depth': 50, 'RMSE': 183.43065358210717, 'MSE': 33646.804673559, 'MAE': 143.99615010266942}\n",
            "{'back_hours': 5, 'n_estimators': 300, 'max_depth': 70, 'RMSE': 183.43065358210717, 'MSE': 33646.804673559, 'MAE': 143.99615010266942}\n",
            "{'back_hours': 5, 'n_estimators': 300, 'max_depth': 100, 'RMSE': 183.43065358210717, 'MSE': 33646.804673559, 'MAE': 143.99615010266942}\n",
            "best\n",
            "{'back_hours': 10, 'n_estimators': 100, 'max_depth': 20, 'RMSE': 165.6549668910954, 'MSE': 27441.568055689913, 'MAE': 127.86517981635795}\n",
            "{'back_hours': 10, 'n_estimators': 100, 'max_depth': 50, 'RMSE': 166.4248488659361, 'MSE': 27697.230320049675, 'MAE': 128.38578398401827}\n",
            "{'back_hours': 10, 'n_estimators': 100, 'max_depth': 70, 'RMSE': 166.4248488659361, 'MSE': 27697.230320049675, 'MAE': 128.38578398401827}\n",
            "{'back_hours': 10, 'n_estimators': 100, 'max_depth': 100, 'RMSE': 166.4248488659361, 'MSE': 27697.230320049675, 'MAE': 128.38578398401827}\n",
            "best\n",
            "{'back_hours': 10, 'n_estimators': 200, 'max_depth': 20, 'RMSE': 165.19409228492006, 'MSE': 27289.088125838687, 'MAE': 127.54975555392268}\n",
            "{'back_hours': 10, 'n_estimators': 200, 'max_depth': 50, 'RMSE': 165.45032346396397, 'MSE': 27373.80953433031, 'MAE': 127.74717889269407}\n",
            "{'back_hours': 10, 'n_estimators': 200, 'max_depth': 70, 'RMSE': 165.45032346396397, 'MSE': 27373.80953433031, 'MAE': 127.74717889269407}\n",
            "{'back_hours': 10, 'n_estimators': 200, 'max_depth': 100, 'RMSE': 165.45032346396397, 'MSE': 27373.80953433031, 'MAE': 127.74717889269407}\n",
            "best\n",
            "{'back_hours': 10, 'n_estimators': 300, 'max_depth': 20, 'RMSE': 165.18266905118145, 'MSE': 27285.31415487214, 'MAE': 127.73430920195983}\n",
            "{'back_hours': 10, 'n_estimators': 300, 'max_depth': 50, 'RMSE': 165.38026477352838, 'MSE': 27350.631976562352, 'MAE': 127.86999319710806}\n",
            "{'back_hours': 10, 'n_estimators': 300, 'max_depth': 70, 'RMSE': 165.38026477352838, 'MSE': 27350.631976562352, 'MAE': 127.86999319710806}\n",
            "{'back_hours': 10, 'n_estimators': 300, 'max_depth': 100, 'RMSE': 165.38026477352838, 'MSE': 27350.631976562352, 'MAE': 127.86999319710806}\n",
            "{'back_hours': 15, 'n_estimators': 100, 'max_depth': 20, 'RMSE': 165.42806377712984, 'MSE': 27366.44428505014, 'MAE': 127.60576849389619}\n",
            "{'back_hours': 15, 'n_estimators': 100, 'max_depth': 50, 'RMSE': 165.58572720503673, 'MSE': 27418.63305402084, 'MAE': 127.75333488005484}\n",
            "{'back_hours': 15, 'n_estimators': 100, 'max_depth': 70, 'RMSE': 165.58572720503673, 'MSE': 27418.63305402084, 'MAE': 127.75333488005484}\n",
            "{'back_hours': 15, 'n_estimators': 100, 'max_depth': 100, 'RMSE': 165.58572720503673, 'MSE': 27418.63305402084, 'MAE': 127.75333488005484}\n",
            "best\n",
            "{'back_hours': 15, 'n_estimators': 200, 'max_depth': 20, 'RMSE': 164.45496345766273, 'MSE': 27045.435005861185, 'MAE': 126.83118758297366}\n",
            "{'back_hours': 15, 'n_estimators': 200, 'max_depth': 50, 'RMSE': 164.82548017478626, 'MSE': 27167.438914848863, 'MAE': 127.16802904729268}\n",
            "{'back_hours': 15, 'n_estimators': 200, 'max_depth': 70, 'RMSE': 164.82548017478626, 'MSE': 27167.438914848863, 'MAE': 127.16802904729268}\n",
            "{'back_hours': 15, 'n_estimators': 200, 'max_depth': 100, 'RMSE': 164.82548017478626, 'MSE': 27167.438914848863, 'MAE': 127.16802904729268}\n",
            "best\n",
            "{'back_hours': 15, 'n_estimators': 300, 'max_depth': 20, 'RMSE': 164.34953726359575, 'MSE': 27010.77039875805, 'MAE': 126.68706526925499}\n",
            "{'back_hours': 15, 'n_estimators': 300, 'max_depth': 50, 'RMSE': 164.49946303918463, 'MSE': 27060.073340180068, 'MAE': 126.82094051633538}\n",
            "{'back_hours': 15, 'n_estimators': 300, 'max_depth': 70, 'RMSE': 164.49946303918463, 'MSE': 27060.073340180068, 'MAE': 126.82094051633538}\n",
            "{'back_hours': 15, 'n_estimators': 300, 'max_depth': 100, 'RMSE': 164.49946303918463, 'MSE': 27060.073340180068, 'MAE': 126.82094051633538}\n",
            "best\n",
            "{'back_hours': 20, 'n_estimators': 100, 'max_depth': 20, 'RMSE': 163.46331010669147, 'MSE': 26720.253751036376, 'MAE': 126.99340490765205}\n",
            "best\n",
            "{'back_hours': 20, 'n_estimators': 100, 'max_depth': 50, 'RMSE': 163.37328993600178, 'MSE': 26690.8318645129, 'MAE': 127.10035171467766}\n",
            "{'back_hours': 20, 'n_estimators': 100, 'max_depth': 70, 'RMSE': 163.37328993600178, 'MSE': 26690.8318645129, 'MAE': 127.10035171467766}\n",
            "{'back_hours': 20, 'n_estimators': 100, 'max_depth': 100, 'RMSE': 163.37328993600178, 'MSE': 26690.8318645129, 'MAE': 127.10035171467766}\n",
            "best\n",
            "{'back_hours': 20, 'n_estimators': 200, 'max_depth': 20, 'RMSE': 162.82918385321832, 'MSE': 26513.34311430517, 'MAE': 126.23072557609368}\n",
            "{'back_hours': 20, 'n_estimators': 200, 'max_depth': 50, 'RMSE': 162.9773371987501, 'MSE': 26561.612440395093, 'MAE': 126.30443904663922}\n",
            "{'back_hours': 20, 'n_estimators': 200, 'max_depth': 70, 'RMSE': 162.9773371987501, 'MSE': 26561.612440395093, 'MAE': 126.30443904663922}\n",
            "{'back_hours': 20, 'n_estimators': 200, 'max_depth': 100, 'RMSE': 162.9773371987501, 'MSE': 26561.612440395093, 'MAE': 126.30443904663922}\n",
            "best\n",
            "{'back_hours': 20, 'n_estimators': 300, 'max_depth': 20, 'RMSE': 162.5092686362335, 'MSE': 26409.262392683504, 'MAE': 125.85507953780645}\n",
            "best\n",
            "{'back_hours': 20, 'n_estimators': 300, 'max_depth': 50, 'RMSE': 162.4589588989012, 'MSE': 26392.913326514863, 'MAE': 125.76657938957476}\n",
            "{'back_hours': 20, 'n_estimators': 300, 'max_depth': 70, 'RMSE': 162.4589588989012, 'MSE': 26392.913326514863, 'MAE': 125.76657938957476}\n",
            "{'back_hours': 20, 'n_estimators': 300, 'max_depth': 100, 'RMSE': 162.4589588989012, 'MSE': 26392.913326514863, 'MAE': 125.76657938957476}\n",
            "best\n",
            "{'back_hours': 30, 'n_estimators': 100, 'max_depth': 20, 'RMSE': 162.23687512458338, 'MSE': 26320.80365018966, 'MAE': 126.25213072902397}\n",
            "{'back_hours': 30, 'n_estimators': 100, 'max_depth': 50, 'RMSE': 162.29178264412113, 'MSE': 26338.622713806657, 'MAE': 126.08829195054943}\n",
            "{'back_hours': 30, 'n_estimators': 100, 'max_depth': 70, 'RMSE': 162.29178264412113, 'MSE': 26338.622713806657, 'MAE': 126.08829195054943}\n",
            "{'back_hours': 30, 'n_estimators': 100, 'max_depth': 100, 'RMSE': 162.29178264412113, 'MSE': 26338.622713806657, 'MAE': 126.08829195054943}\n",
            "best\n",
            "{'back_hours': 30, 'n_estimators': 200, 'max_depth': 20, 'RMSE': 161.2046338961043, 'MSE': 25986.933989577017, 'MAE': 125.58299916220298}\n",
            "best\n",
            "{'back_hours': 30, 'n_estimators': 200, 'max_depth': 50, 'RMSE': 161.14336611368006, 'MSE': 25967.184442447528, 'MAE': 125.360253176511}\n",
            "{'back_hours': 30, 'n_estimators': 200, 'max_depth': 70, 'RMSE': 161.14336611368006, 'MSE': 25967.184442447528, 'MAE': 125.360253176511}\n",
            "{'back_hours': 30, 'n_estimators': 200, 'max_depth': 100, 'RMSE': 161.14336611368006, 'MSE': 25967.184442447528, 'MAE': 125.360253176511}\n",
            "best\n",
            "{'back_hours': 30, 'n_estimators': 300, 'max_depth': 20, 'RMSE': 160.81863888979552, 'MSE': 25862.63461436645, 'MAE': 125.06191660918631}\n",
            "{'back_hours': 30, 'n_estimators': 300, 'max_depth': 50, 'RMSE': 160.9773497186582, 'MSE': 25913.70712244318, 'MAE': 125.11157764423076}\n",
            "{'back_hours': 30, 'n_estimators': 300, 'max_depth': 70, 'RMSE': 160.9773497186582, 'MSE': 25913.70712244318, 'MAE': 125.11157764423076}\n",
            "{'back_hours': 30, 'n_estimators': 300, 'max_depth': 100, 'RMSE': 160.9773497186582, 'MSE': 25913.70712244318, 'MAE': 125.11157764423076}\n"
          ]
        }
      ]
    },
    {
      "cell_type": "code",
      "source": [
        "bh_i = 25\n",
        "# create temporal dataset\n",
        "df_t = pd.DataFrame()\n",
        "df_t['RSG'] = df['SRGLOAVG1H'].between_time('08:00:00','17:00:00')\n",
        "for i in range(1, bh_i+1):\n",
        "  df_t[f't-{i}'] = df_t['RSG'].shift(i)\n",
        "df_t.dropna(inplace=True)\n",
        "train_size = int(len(df_t) * 0.8)  # Splitting 80% for training\n",
        "train, test = df_t[:train_size], df_t[train_size:]\n",
        "X_train, y_train = train.iloc[:, 1:], train.iloc[:, 0]\n",
        "X_test, y_test = test.iloc[:, 1:], test.iloc[:, 0]\n",
        "# grid search\n",
        "for n_i in n_estimators:\n",
        "  for d_i in max_depth:\n",
        "    model = RandomForestRegressor(n_estimators=n_i,max_depth=d_i,random_state=1)\n",
        "    model.fit(X_train, y_train)\n",
        "    # test\n",
        "    predictions = model.predict(X_test)\n",
        "    errorRF_MSE = mean_squared_error(y_test,predictions)\n",
        "    RMSE = np.sqrt(errorRF_MSE)\n",
        "    errorRF_MAE = mean_absolute_error(y_test,predictions)\n",
        "\n",
        "    if(RMSE < min_RMSE):\n",
        "      print('best')\n",
        "      best_model = model\n",
        "      min_RMSE = RMSE\n",
        "    results.append({\n",
        "        'back_hours':bh_i,\n",
        "        'n_estimators':n_i,\n",
        "        'max_depth':d_i,\n",
        "        'RMSE': RMSE,\n",
        "        'MSE': errorRF_MSE,\n",
        "        'MAE': errorRF_MAE\n",
        "    })\n",
        "    print(results[-1])"
      ],
      "metadata": {
        "colab": {
          "base_uri": "https://localhost:8080/"
        },
        "id": "2LuMZOHccKfq",
        "outputId": "aee58e1c-fd11-4eff-ae2c-fc8fdaebbb6c"
      },
      "execution_count": null,
      "outputs": [
        {
          "output_type": "stream",
          "name": "stdout",
          "text": [
            "{'back_hours': 25, 'n_estimators': 100, 'max_depth': 20, 'RMSE': 162.95194166666522, 'MSE': 26553.335292936263, 'MAE': 126.43953633792181}\n",
            "{'back_hours': 25, 'n_estimators': 100, 'max_depth': 50, 'RMSE': 162.54896026129384, 'MSE': 26422.164482027685, 'MAE': 126.18314494166093}\n",
            "{'back_hours': 25, 'n_estimators': 100, 'max_depth': 70, 'RMSE': 162.54896026129384, 'MSE': 26422.164482027685, 'MAE': 126.18314494166093}\n",
            "{'back_hours': 25, 'n_estimators': 100, 'max_depth': 100, 'RMSE': 162.54896026129384, 'MSE': 26422.164482027685, 'MAE': 126.18314494166093}\n",
            "{'back_hours': 25, 'n_estimators': 200, 'max_depth': 20, 'RMSE': 162.993989727984, 'MSE': 26567.04068744615, 'MAE': 126.34553746241022}\n",
            "{'back_hours': 25, 'n_estimators': 200, 'max_depth': 50, 'RMSE': 162.46267282838295, 'MSE': 26394.120062542203, 'MAE': 125.90328578929305}\n",
            "{'back_hours': 25, 'n_estimators': 200, 'max_depth': 70, 'RMSE': 162.46267282838295, 'MSE': 26394.120062542203, 'MAE': 125.90328578929305}\n",
            "{'back_hours': 25, 'n_estimators': 200, 'max_depth': 100, 'RMSE': 162.46267282838295, 'MSE': 26394.120062542203, 'MAE': 125.90328578929305}\n",
            "{'back_hours': 25, 'n_estimators': 300, 'max_depth': 20, 'RMSE': 162.6674792514613, 'MSE': 26460.70880602459, 'MAE': 126.12104326048129}\n",
            "{'back_hours': 25, 'n_estimators': 300, 'max_depth': 50, 'RMSE': 162.2959635307131, 'MSE': 26339.979778362558, 'MAE': 125.81406181194234}\n",
            "{'back_hours': 25, 'n_estimators': 300, 'max_depth': 70, 'RMSE': 162.2959635307131, 'MSE': 26339.979778362558, 'MAE': 125.81406181194234}\n",
            "{'back_hours': 25, 'n_estimators': 300, 'max_depth': 100, 'RMSE': 162.2959635307131, 'MSE': 26339.979778362558, 'MAE': 125.81406181194234}\n"
          ]
        }
      ]
    },
    {
      "cell_type": "markdown",
      "source": [
        "### Gráfico de error"
      ],
      "metadata": {
        "id": "HULfXrVoegQj"
      }
    },
    {
      "cell_type": "code",
      "source": [
        "df_results = pd.DataFrame(results)"
      ],
      "metadata": {
        "id": "xktTQPwJekhu"
      },
      "execution_count": null,
      "outputs": []
    },
    {
      "cell_type": "code",
      "source": [
        "df_results.to_csv('rf_uRSG_cuenca.csv')"
      ],
      "metadata": {
        "id": "hgOOIbDreqG8"
      },
      "execution_count": null,
      "outputs": []
    },
    {
      "cell_type": "code",
      "source": [
        "df_results.to_csv('/content/drive/MyDrive/DatosInvestigacion/results_rf_uRSG_cuenca.csv')"
      ],
      "metadata": {
        "id": "nr157l1kf3NT"
      },
      "execution_count": null,
      "outputs": []
    },
    {
      "cell_type": "code",
      "source": [
        "import seaborn as sns"
      ],
      "metadata": {
        "id": "5zIsDPFIceRq"
      },
      "execution_count": null,
      "outputs": []
    },
    {
      "cell_type": "code",
      "source": [
        "sns.set(rc={\"figure.figsize\":(10, 5)})\n",
        "sns.lineplot(data=df_results, x='back_hours', y='RMSE',hue='n_estimators',palette='tab10',err_style=\"bars\", errorbar=('ci', 0), estimator=np.min)"
      ],
      "metadata": {
        "colab": {
          "base_uri": "https://localhost:8080/",
          "height": 494
        },
        "id": "NGi3fetQe7l8",
        "outputId": "90a9f9d5-3d0a-4ce1-ed2f-e8d5dd151d06"
      },
      "execution_count": null,
      "outputs": [
        {
          "output_type": "execute_result",
          "data": {
            "text/plain": [
              "<Axes: xlabel='back_hours', ylabel='RMSE'>"
            ]
          },
          "metadata": {},
          "execution_count": 90
        },
        {
          "output_type": "display_data",
          "data": {
            "text/plain": [
              "<Figure size 1000x500 with 1 Axes>"
            ],
            "image/png": "[encoded data removed]"
          },
          "metadata": {}
        }
      ]
    },
    {
      "cell_type": "code",
      "source": [
        "sns.set(rc={\"figure.figsize\":(10, 5)})\n",
        "sns.lineplot(data=df_results, x='max_depth', y='RMSE',hue='n_estimators',palette='tab10',err_style=\"bars\", errorbar=('ci', 0), estimator=np.min)"
      ],
      "metadata": {
        "colab": {
          "base_uri": "https://localhost:8080/",
          "height": 491
        },
        "id": "h8xzGcrTfL40",
        "outputId": "09649436-9800-446d-e919-ad3728a4eb87"
      },
      "execution_count": null,
      "outputs": [
        {
          "output_type": "execute_result",
          "data": {
            "text/plain": [
              "<Axes: xlabel='max_depth', ylabel='RMSE'>"
            ]
          },
          "metadata": {},
          "execution_count": 91
        },
        {
          "output_type": "display_data",
          "data": {
            "text/plain": [
              "<Figure size 1000x500 with 1 Axes>"
            ],
            "image/png": "[encoded data removed]"
          },
          "metadata": {}
        }
      ]
    },
    {
      "cell_type": "code",
      "source": [
        "df_results[df_results['RMSE'] == df_results['RMSE'].min()]"
      ],
      "metadata": {
        "colab": {
          "base_uri": "https://localhost:8080/",
          "height": 80
        },
        "id": "A1iLr-scfq-L",
        "outputId": "9e316cc0-a7d9-4434-d0fa-e6588ff18204"
      },
      "execution_count": null,
      "outputs": [
        {
          "output_type": "execute_result",
          "data": {
            "text/plain": [
              "    back_hours  n_estimators  max_depth        RMSE           MSE         MAE\n",
              "62          30           300         20  160.818639  25862.634614  125.061917"
            ],
            "text/html": [
              "\n",
              "  <div id=\"df-a9116c6e-2379-4f3f-b316-3f0d3a0f8f41\">\n",
              "    <div class=\"colab-df-container\">\n",
              "      <div>\n",
              "<style scoped>\n",
              "    .dataframe tbody tr th:only-of-type {\n",
              "        vertical-align: middle;\n",
              "    }\n",
              "\n",
              "    .dataframe tbody tr th {\n",
              "        vertical-align: top;\n",
              "    }\n",
              "\n",
              "    .dataframe thead th {\n",
              "        text-align: right;\n",
              "    }\n",
              "</style>\n",
              "<table border=\"1\" class=\"dataframe\">\n",
              "  <thead>\n",
              "    <tr style=\"text-align: right;\">\n",
              "      <th></th>\n",
              "      <th>back_hours</th>\n",
              "      <th>n_estimators</th>\n",
              "      <th>max_depth</th>\n",
              "      <th>RMSE</th>\n",
              "      <th>MSE</th>\n",
              "      <th>MAE</th>\n",
              "    </tr>\n",
              "  </thead>\n",
              "  <tbody>\n",
              "    <tr>\n",
              "      <th>62</th>\n",
              "      <td>30</td>\n",
              "      <td>300</td>\n",
              "      <td>20</td>\n",
              "      <td>160.818639</td>\n",
              "      <td>25862.634614</td>\n",
              "      <td>125.061917</td>\n",
              "    </tr>\n",
              "  </tbody>\n",
              "</table>\n",
              "</div>\n",
              "      <button class=\"colab-df-convert\" onclick=\"convertToInteractive('df-a9116c6e-2379-4f3f-b316-3f0d3a0f8f41')\"\n",
              "              title=\"Convert this dataframe to an interactive table.\"\n",
              "              style=\"display:none;\">\n",
              "        \n",
              "  <svg xmlns=\"http://www.w3.org/2000/svg\" height=\"24px\"viewBox=\"0 0 24 24\"\n",
              "       width=\"24px\">\n",
              "    <path d=\"M0 0h24v24H0V0z\" fill=\"none\"/>\n",
              "    <path d=\"M18.56 5.44l.94 2.06.94-2.06 2.06-.94-2.06-.94-.94-2.06-.94 2.06-2.06.94zm-11 1L8.5 8.5l.94-2.06 2.06-.94-2.06-.94L8.5 2.5l-.94 2.06-2.06.94zm10 10l.94 2.06.94-2.06 2.06-.94-2.06-.94-.94-2.06-.94 2.06-2.06.94z\"/><path d=\"M17.41 7.96l-1.37-1.37c-.4-.4-.92-.59-1.43-.59-.52 0-1.04.2-1.43.59L10.3 9.45l-7.72 7.72c-.78.78-.78 2.05 0 2.83L4 21.41c.39.39.9.59 1.41.59.51 0 1.02-.2 1.41-.59l7.78-7.78 2.81-2.81c.8-.78.8-2.07 0-2.86zM5.41 20L4 18.59l7.72-7.72 1.47 1.35L5.41 20z\"/>\n",
              "  </svg>\n",
              "      </button>\n",
              "      \n",
              "  <style>\n",
              "    .colab-df-container {\n",
              "      display:flex;\n",
              "      flex-wrap:wrap;\n",
              "      gap: 12px;\n",
              "    }\n",
              "\n",
              "    .colab-df-convert {\n",
              "      background-color: #E8F0FE;\n",
              "      border: none;\n",
              "      border-radius: 50%;\n",
              "      cursor: pointer;\n",
              "      display: none;\n",
              "      fill: #1967D2;\n",
              "      height: 32px;\n",
              "      padding: 0 0 0 0;\n",
              "      width: 32px;\n",
              "    }\n",
              "\n",
              "    .colab-df-convert:hover {\n",
              "      background-color: #E2EBFA;\n",
              "      box-shadow: 0px 1px 2px rgba(60, 64, 67, 0.3), 0px 1px 3px 1px rgba(60, 64, 67, 0.15);\n",
              "      fill: #174EA6;\n",
              "    }\n",
              "\n",
              "    [theme=dark] .colab-df-convert {\n",
              "      background-color: #3B4455;\n",
              "      fill: #D2E3FC;\n",
              "    }\n",
              "\n",
              "    [theme=dark] .colab-df-convert:hover {\n",
              "      background-color: #434B5C;\n",
              "      box-shadow: 0px 1px 3px 1px rgba(0, 0, 0, 0.15);\n",
              "      filter: drop-shadow(0px 1px 2px rgba(0, 0, 0, 0.3));\n",
              "      fill: #FFFFFF;\n",
              "    }\n",
              "  </style>\n",
              "\n",
              "      <script>\n",
              "        const buttonEl =\n",
              "          document.querySelector('#df-a9116c6e-2379-4f3f-b316-3f0d3a0f8f41 button.colab-df-convert');\n",
              "        buttonEl.style.display =\n",
              "          google.colab.kernel.accessAllowed ? 'block' : 'none';\n",
              "\n",
              "        async function convertToInteractive(key) {\n",
              "          const element = document.querySelector('#df-a9116c6e-2379-4f3f-b316-3f0d3a0f8f41');\n",
              "          const dataTable =\n",
              "            await google.colab.kernel.invokeFunction('convertToInteractive',\n",
              "                                                     [key], {});\n",
              "          if (!dataTable) return;\n",
              "\n",
              "          const docLinkHtml = 'Like what you see? Visit the ' +\n",
              "            '<a target=\"_blank\" href=https://colab.research.google.com/notebooks/data_table.ipynb>data table notebook</a>'\n",
              "            + ' to learn more about interactive tables.';\n",
              "          element.innerHTML = '';\n",
              "          dataTable['output_type'] = 'display_data';\n",
              "          await google.colab.output.renderOutput(dataTable, element);\n",
              "          const docLink = document.createElement('div');\n",
              "          docLink.innerHTML = docLinkHtml;\n",
              "          element.appendChild(docLink);\n",
              "        }\n",
              "      </script>\n",
              "    </div>\n",
              "  </div>\n",
              "  "
            ]
          },
          "metadata": {},
          "execution_count": 94
        }
      ]
    }
  ]
}