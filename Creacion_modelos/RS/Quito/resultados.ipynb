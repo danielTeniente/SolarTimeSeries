{
 "cells": [
  {
   "cell_type": "markdown",
   "id": "6efe75db-0a77-4bf8-aac2-e7f0040c7dc3",
   "metadata": {},
   "source": [
    "# Resultados"
   ]
  },
  {
   "cell_type": "code",
   "execution_count": 2,
   "id": "ea7d0734-2ce5-4113-82a6-320adc571860",
   "metadata": {},
   "outputs": [],
   "source": [
    "import pandas as pd\n",
    "import numpy as np\n",
    "import matplotlib.pyplot as plt\n",
    "import numpy as np\n",
    "from sklearn.metrics import mean_squared_error\n",
    "from sklearn.metrics import mean_absolute_error\n",
    "from sklearn.metrics import r2_score\n",
    "import seaborn as sns\n",
    "from tensorflow import keras\n",
    "from keras.preprocessing.sequence import TimeseriesGenerator"
   ]
  },
  {
   "cell_type": "code",
   "execution_count": 4,
   "id": "ad04d093-1ae8-42a8-b35d-7fdc408a70ba",
   "metadata": {},
   "outputs": [],
   "source": [
    "df = pd.read_csv('../../../Analisis_dataset/Quito/quito_2017_2018.csv', index_col=0, parse_dates=True)\n",
    "df = df.asfreq('h')"
   ]
  },
  {
   "cell_type": "code",
   "execution_count": 5,
   "id": "8aee1f69-7c4b-49a0-b6c1-260dd425c946",
   "metadata": {},
   "outputs": [],
   "source": [
    "df = df.between_time('08:00:00','17:00:00')"
   ]
  },
  {
   "cell_type": "code",
   "execution_count": 6,
   "id": "dee19bf7-ecb2-4fe1-ac7d-ff3b19bfe245",
   "metadata": {},
   "outputs": [
    {
     "data": {
      "text/html": [
       "<div>\n",
       "<style scoped>\n",
       "    .dataframe tbody tr th:only-of-type {\n",
       "        vertical-align: middle;\n",
       "    }\n",
       "\n",
       "    .dataframe tbody tr th {\n",
       "        vertical-align: top;\n",
       "    }\n",
       "\n",
       "    .dataframe thead th {\n",
       "        text-align: right;\n",
       "    }\n",
       "</style>\n",
       "<table border=\"1\" class=\"dataframe\">\n",
       "  <thead>\n",
       "    <tr style=\"text-align: right;\">\n",
       "      <th></th>\n",
       "      <th>RS</th>\n",
       "      <th>VEL</th>\n",
       "      <th>TMP</th>\n",
       "      <th>HUM</th>\n",
       "    </tr>\n",
       "    <tr>\n",
       "      <th>Date_time</th>\n",
       "      <th></th>\n",
       "      <th></th>\n",
       "      <th></th>\n",
       "      <th></th>\n",
       "    </tr>\n",
       "  </thead>\n",
       "  <tbody>\n",
       "    <tr>\n",
       "      <th>2017-02-01 08:00:00</th>\n",
       "      <td>259.93</td>\n",
       "      <td>0.41</td>\n",
       "      <td>13.90</td>\n",
       "      <td>73.92</td>\n",
       "    </tr>\n",
       "    <tr>\n",
       "      <th>2017-02-01 09:00:00</th>\n",
       "      <td>482.96</td>\n",
       "      <td>1.02</td>\n",
       "      <td>15.77</td>\n",
       "      <td>62.89</td>\n",
       "    </tr>\n",
       "    <tr>\n",
       "      <th>2017-02-01 10:00:00</th>\n",
       "      <td>608.28</td>\n",
       "      <td>1.65</td>\n",
       "      <td>17.13</td>\n",
       "      <td>53.35</td>\n",
       "    </tr>\n",
       "    <tr>\n",
       "      <th>2017-02-01 11:00:00</th>\n",
       "      <td>789.95</td>\n",
       "      <td>2.51</td>\n",
       "      <td>17.75</td>\n",
       "      <td>47.30</td>\n",
       "    </tr>\n",
       "    <tr>\n",
       "      <th>2017-02-01 12:00:00</th>\n",
       "      <td>975.22</td>\n",
       "      <td>2.79</td>\n",
       "      <td>18.63</td>\n",
       "      <td>46.45</td>\n",
       "    </tr>\n",
       "  </tbody>\n",
       "</table>\n",
       "</div>"
      ],
      "text/plain": [
       "                         RS   VEL    TMP    HUM\n",
       "Date_time                                      \n",
       "2017-02-01 08:00:00  259.93  0.41  13.90  73.92\n",
       "2017-02-01 09:00:00  482.96  1.02  15.77  62.89\n",
       "2017-02-01 10:00:00  608.28  1.65  17.13  53.35\n",
       "2017-02-01 11:00:00  789.95  2.51  17.75  47.30\n",
       "2017-02-01 12:00:00  975.22  2.79  18.63  46.45"
      ]
     },
     "execution_count": 6,
     "metadata": {},
     "output_type": "execute_result"
    }
   ],
   "source": [
    "df.head()"
   ]
  },
  {
   "cell_type": "code",
   "execution_count": 7,
   "id": "ffb618a1-2dc1-419f-ad18-0e75359300e4",
   "metadata": {},
   "outputs": [
    {
     "data": {
      "text/plain": [
       "4120"
      ]
     },
     "execution_count": 7,
     "metadata": {},
     "output_type": "execute_result"
    }
   ],
   "source": [
    "len_train = int(len(df)*0.8)\n",
    "len_train"
   ]
  },
  {
   "cell_type": "code",
   "execution_count": 8,
   "id": "b07eea08-7113-43c8-acf3-502f152d9f33",
   "metadata": {},
   "outputs": [],
   "source": [
    "df_train = df.iloc[:len_train]\n",
    "df_test = df.iloc[len_train:]"
   ]
  },
  {
   "cell_type": "markdown",
   "id": "7273d9e0-22e8-49a9-8687-df77a9d28f83",
   "metadata": {},
   "source": [
    "## Predicciones AR"
   ]
  },
  {
   "cell_type": "code",
   "execution_count": 9,
   "id": "6efa3457-ab75-4f50-b0d7-4f4321119395",
   "metadata": {},
   "outputs": [],
   "source": [
    "coef=[\n",
    "    90.196831, 0.605269, -0.051036, 0.008912, -0.057670,\n",
    "    0.024059, -0.014997, -0.019632, 0.053366, 0.079305,\n",
    "    0.216600, -0.066506, -0.007087, -0.067058, -0.001084,\n",
    "    0.022258, -0.034241, -0.038318, 0.040290, 0.028187,\n",
    "    0.208899, -0.123142\n",
    "]"
   ]
  },
  {
   "cell_type": "code",
   "execution_count": 10,
   "id": "26fc082b-2309-4ce2-9ff0-27d35e05f143",
   "metadata": {},
   "outputs": [
    {
     "data": {
      "text/plain": [
       "22"
      ]
     },
     "execution_count": 10,
     "metadata": {},
     "output_type": "execute_result"
    }
   ],
   "source": [
    "len(coef)"
   ]
  },
  {
   "cell_type": "code",
   "execution_count": 11,
   "id": "c4eddcde-d52f-461b-a58f-a604473d131f",
   "metadata": {},
   "outputs": [],
   "source": [
    "def get_pred(coef,data):\n",
    "  prediction = coef[0] # constante\n",
    "  # los datos se reciben en forma cronológica\n",
    "  j = 1\n",
    "  for i in range(len(data)-1,-1,-1):\n",
    "    prediction += coef[j] * data[i]\n",
    "    j+=1\n",
    "  return prediction"
   ]
  },
  {
   "cell_type": "code",
   "execution_count": 12,
   "id": "f48e646c-0a55-45b0-a376-7fbc271b3d00",
   "metadata": {},
   "outputs": [
    {
     "data": {
      "text/plain": [
       "309.6561112999999"
      ]
     },
     "execution_count": 12,
     "metadata": {},
     "output_type": "execute_result"
    }
   ],
   "source": [
    "get_pred(coef,df_train['RS'][-21:].values)"
   ]
  },
  {
   "cell_type": "code",
   "execution_count": 13,
   "id": "46ba77d8-daea-4c5b-8bc5-4ed080f43a86",
   "metadata": {},
   "outputs": [],
   "source": [
    "test_pred = []\n",
    "retrasos = 21"
   ]
  },
  {
   "cell_type": "code",
   "execution_count": 14,
   "id": "3f09b800-c32a-468e-817c-fe1cf8cb060f",
   "metadata": {},
   "outputs": [],
   "source": [
    "for i in range(retrasos,len(df_test)):\n",
    "  past_data = df_test.iloc[i-retrasos:i]['RS']\n",
    "  test_pred.append(get_pred(coef,past_data))"
   ]
  },
  {
   "cell_type": "code",
   "execution_count": 16,
   "id": "5ef14915-3b96-4584-9ea1-5ed30b520634",
   "metadata": {},
   "outputs": [
    {
     "data": {
      "text/plain": [
       "(1009,)"
      ]
     },
     "execution_count": 16,
     "metadata": {},
     "output_type": "execute_result"
    }
   ],
   "source": [
    "test_pred = np.ndarray.flatten(np.array(test_pred))\n",
    "test_pred.shape"
   ]
  },
  {
   "cell_type": "code",
   "execution_count": 17,
   "id": "f4af6b7c-b9c6-424c-8969-3b48c7835381",
   "metadata": {},
   "outputs": [],
   "source": [
    "real_data = df_test.iloc[retrasos:]['RS']"
   ]
  },
  {
   "cell_type": "code",
   "execution_count": 24,
   "id": "a884faba-17d3-4c8a-a1b5-29e590ee0171",
   "metadata": {},
   "outputs": [
    {
     "name": "stdout",
     "output_type": "stream",
     "text": [
      "RMSE: 154.58043424935263\n",
      "MAE: 122.63536287757184\n",
      "R_2: 0.6998072173816886\n"
     ]
    }
   ],
   "source": [
    "print('RMSE:', np.sqrt(mean_squared_error(real_data,test_pred)))\n",
    "print('MAE:', mean_absolute_error(real_data,test_pred))\n",
    "print('R_2:', r2_score(real_data,test_pred))"
   ]
  },
  {
   "cell_type": "code",
   "execution_count": 25,
   "id": "5b86f0ba-836f-4229-b28f-d85eb806daca",
   "metadata": {},
   "outputs": [
    {
     "data": {
      "text/plain": [
       "[<matplotlib.lines.Line2D at 0x25781888bb0>]"
      ]
     },
     "execution_count": 25,
     "metadata": {},
     "output_type": "execute_result"
    },
    {
     "data": {
      "image/png": "[encoded data removed]",
      "text/plain": [
       "<Figure size 432x288 with 1 Axes>"
      ]
     },
     "metadata": {
      "needs_background": "light"
     },
     "output_type": "display_data"
    }
   ],
   "source": [
    "sns.scatterplot(x=real_data,y=test_pred)\n",
    "plt.plot(real_data, real_data, linewidth=2,color=\"r\")"
   ]
  },
  {
   "cell_type": "code",
   "execution_count": 20,
   "id": "9f0dc2e2-fc46-41df-8af6-624b28436f0b",
   "metadata": {},
   "outputs": [],
   "source": [
    "df_predicciones = {\n",
    "    'Real Data':real_data,\n",
    "    'AR':test_pred\n",
    "}"
   ]
  },
  {
   "cell_type": "code",
   "execution_count": 21,
   "id": "83415a27-8f3f-47fb-b53d-8418d773719b",
   "metadata": {},
   "outputs": [],
   "source": [
    "df_predicciones = pd.DataFrame(df_predicciones)"
   ]
  },
  {
   "cell_type": "code",
   "execution_count": 22,
   "id": "292bf19e-6555-48f5-83e8-3dda08bbd9c5",
   "metadata": {},
   "outputs": [
    {
     "data": {
      "text/html": [
       "<div>\n",
       "<style scoped>\n",
       "    .dataframe tbody tr th:only-of-type {\n",
       "        vertical-align: middle;\n",
       "    }\n",
       "\n",
       "    .dataframe tbody tr th {\n",
       "        vertical-align: top;\n",
       "    }\n",
       "\n",
       "    .dataframe thead th {\n",
       "        text-align: right;\n",
       "    }\n",
       "</style>\n",
       "<table border=\"1\" class=\"dataframe\">\n",
       "  <thead>\n",
       "    <tr style=\"text-align: right;\">\n",
       "      <th></th>\n",
       "      <th>Real Data</th>\n",
       "      <th>AR</th>\n",
       "    </tr>\n",
       "    <tr>\n",
       "      <th>Date_time</th>\n",
       "      <th></th>\n",
       "      <th></th>\n",
       "    </tr>\n",
       "  </thead>\n",
       "  <tbody>\n",
       "    <tr>\n",
       "      <th>2018-03-22 09:00:00</th>\n",
       "      <td>711.31</td>\n",
       "      <td>582.186536</td>\n",
       "    </tr>\n",
       "    <tr>\n",
       "      <th>2018-03-22 10:00:00</th>\n",
       "      <td>913.84</td>\n",
       "      <td>783.604631</td>\n",
       "    </tr>\n",
       "    <tr>\n",
       "      <th>2018-03-22 11:00:00</th>\n",
       "      <td>1039.73</td>\n",
       "      <td>939.151742</td>\n",
       "    </tr>\n",
       "    <tr>\n",
       "      <th>2018-03-22 12:00:00</th>\n",
       "      <td>450.46</td>\n",
       "      <td>1037.348674</td>\n",
       "    </tr>\n",
       "    <tr>\n",
       "      <th>2018-03-22 13:00:00</th>\n",
       "      <td>760.13</td>\n",
       "      <td>504.075903</td>\n",
       "    </tr>\n",
       "  </tbody>\n",
       "</table>\n",
       "</div>"
      ],
      "text/plain": [
       "                     Real Data           AR\n",
       "Date_time                                  \n",
       "2018-03-22 09:00:00     711.31   582.186536\n",
       "2018-03-22 10:00:00     913.84   783.604631\n",
       "2018-03-22 11:00:00    1039.73   939.151742\n",
       "2018-03-22 12:00:00     450.46  1037.348674\n",
       "2018-03-22 13:00:00     760.13   504.075903"
      ]
     },
     "execution_count": 22,
     "metadata": {},
     "output_type": "execute_result"
    }
   ],
   "source": [
    "df_predicciones.head()"
   ]
  },
  {
   "cell_type": "markdown",
   "id": "c5481e4c-d7a2-4032-9e80-a6ec836bf2bc",
   "metadata": {},
   "source": [
    "## LSTM univariado"
   ]
  },
  {
   "cell_type": "code",
   "execution_count": 27,
   "id": "ad2ce5d2-43ff-4cad-96b6-b29bf85cf24a",
   "metadata": {},
   "outputs": [],
   "source": [
    "best_univariado = keras.models.load_model('../../../Best_models/quito/LSTM_univariado_RS_quito.h5')"
   ]
  },
  {
   "cell_type": "code",
   "execution_count": 28,
   "id": "45346dac-9ef3-459c-be4b-307987b85fb0",
   "metadata": {},
   "outputs": [],
   "source": [
    "n_input = 20\n",
    "n_features = 0"
   ]
  },
  {
   "cell_type": "code",
   "execution_count": 29,
   "id": "c3bd5a2e-505f-4af5-92b5-d99660104ae6",
   "metadata": {},
   "outputs": [],
   "source": [
    "from sklearn.preprocessing import MinMaxScaler"
   ]
  },
  {
   "cell_type": "code",
   "execution_count": 30,
   "id": "ce32622b-7263-405c-a6f6-20cdf5ffc5fe",
   "metadata": {},
   "outputs": [],
   "source": [
    "scaler = MinMaxScaler()\n",
    "scaler.fit(df)\n",
    "scaled_train = scaler.transform(df)\n",
    "scaled_test = scaler.transform(df_test)"
   ]
  },
  {
   "cell_type": "code",
   "execution_count": 31,
   "id": "8a974e38-03c4-43e5-b26e-cfa4b6e5cdd0",
   "metadata": {},
   "outputs": [],
   "source": [
    "RS = scaled_test[:,0]"
   ]
  },
  {
   "cell_type": "code",
   "execution_count": 32,
   "id": "b5dd1826-679e-4aca-b052-db3bb683a486",
   "metadata": {},
   "outputs": [],
   "source": [
    "predictions = []\n",
    "for j in range(n_input,len(RS)):\n",
    "    model_input = RS[j-n_input:j]\n",
    "    model_input = model_input.reshape((1, n_input, n_features+1))\n",
    "    predictions.append(best_univariado.predict(model_input)[0])\n",
    "predictions = np.ndarray.flatten(np.array(predictions)) "
   ]
  },
  {
   "cell_type": "code",
   "execution_count": 33,
   "id": "77f13937-8e4b-425a-a1db-fff462e4058e",
   "metadata": {},
   "outputs": [
    {
     "data": {
      "text/plain": [
       "1010"
      ]
     },
     "execution_count": 33,
     "metadata": {},
     "output_type": "execute_result"
    }
   ],
   "source": [
    "len(predictions)"
   ]
  },
  {
   "cell_type": "code",
   "execution_count": 34,
   "id": "087f433e-c54c-49be-8318-b48d70128028",
   "metadata": {},
   "outputs": [],
   "source": [
    "test_predictions =  np.zeros(shape=(len(predictions), 4))\n",
    "test_predictions[:,0] = predictions\n",
    "true_predictions = scaler.inverse_transform(test_predictions)\n",
    "rsg_predictions = true_predictions[:,0]"
   ]
  },
  {
   "cell_type": "code",
   "execution_count": 41,
   "id": "957df7ee-0d18-4cfa-b605-31ae4ea44ddf",
   "metadata": {},
   "outputs": [
    {
     "data": {
      "text/plain": [
       "array([377.11078212, 587.3847765 , 816.85241892, 896.5443174 ,\n",
       "       865.56971355])"
      ]
     },
     "execution_count": 41,
     "metadata": {},
     "output_type": "execute_result"
    }
   ],
   "source": [
    "rsg_predictions[:5]"
   ]
  },
  {
   "cell_type": "code",
   "execution_count": 42,
   "id": "1d5887e5-ca36-4c37-8769-a29e5d7c48b6",
   "metadata": {},
   "outputs": [],
   "source": [
    "rsg_predictions = rsg_predictions[1:]"
   ]
  },
  {
   "cell_type": "code",
   "execution_count": 43,
   "id": "7cbb598b-3c56-4188-82c9-67be6ba4e043",
   "metadata": {},
   "outputs": [],
   "source": [
    "df_predicciones['LSTM univariado']=rsg_predictions"
   ]
  },
  {
   "cell_type": "code",
   "execution_count": 44,
   "id": "19ae7aea-e727-4a9b-babc-f9906e7525d3",
   "metadata": {},
   "outputs": [
    {
     "data": {
      "text/html": [
       "<div>\n",
       "<style scoped>\n",
       "    .dataframe tbody tr th:only-of-type {\n",
       "        vertical-align: middle;\n",
       "    }\n",
       "\n",
       "    .dataframe tbody tr th {\n",
       "        vertical-align: top;\n",
       "    }\n",
       "\n",
       "    .dataframe thead th {\n",
       "        text-align: right;\n",
       "    }\n",
       "</style>\n",
       "<table border=\"1\" class=\"dataframe\">\n",
       "  <thead>\n",
       "    <tr style=\"text-align: right;\">\n",
       "      <th></th>\n",
       "      <th>Real Data</th>\n",
       "      <th>AR</th>\n",
       "      <th>LSTM univariado</th>\n",
       "    </tr>\n",
       "    <tr>\n",
       "      <th>Date_time</th>\n",
       "      <th></th>\n",
       "      <th></th>\n",
       "      <th></th>\n",
       "    </tr>\n",
       "  </thead>\n",
       "  <tbody>\n",
       "    <tr>\n",
       "      <th>2018-03-22 09:00:00</th>\n",
       "      <td>711.31</td>\n",
       "      <td>582.186536</td>\n",
       "      <td>587.384776</td>\n",
       "    </tr>\n",
       "    <tr>\n",
       "      <th>2018-03-22 10:00:00</th>\n",
       "      <td>913.84</td>\n",
       "      <td>783.604631</td>\n",
       "      <td>816.852419</td>\n",
       "    </tr>\n",
       "    <tr>\n",
       "      <th>2018-03-22 11:00:00</th>\n",
       "      <td>1039.73</td>\n",
       "      <td>939.151742</td>\n",
       "      <td>896.544317</td>\n",
       "    </tr>\n",
       "    <tr>\n",
       "      <th>2018-03-22 12:00:00</th>\n",
       "      <td>450.46</td>\n",
       "      <td>1037.348674</td>\n",
       "      <td>865.569714</td>\n",
       "    </tr>\n",
       "    <tr>\n",
       "      <th>2018-03-22 13:00:00</th>\n",
       "      <td>760.13</td>\n",
       "      <td>504.075903</td>\n",
       "      <td>459.564110</td>\n",
       "    </tr>\n",
       "  </tbody>\n",
       "</table>\n",
       "</div>"
      ],
      "text/plain": [
       "                     Real Data           AR  LSTM univariado\n",
       "Date_time                                                   \n",
       "2018-03-22 09:00:00     711.31   582.186536       587.384776\n",
       "2018-03-22 10:00:00     913.84   783.604631       816.852419\n",
       "2018-03-22 11:00:00    1039.73   939.151742       896.544317\n",
       "2018-03-22 12:00:00     450.46  1037.348674       865.569714\n",
       "2018-03-22 13:00:00     760.13   504.075903       459.564110"
      ]
     },
     "execution_count": 44,
     "metadata": {},
     "output_type": "execute_result"
    }
   ],
   "source": [
    "df_predicciones.head()"
   ]
  },
  {
   "cell_type": "code",
   "execution_count": 45,
   "id": "4ff11a75-ef57-45ce-a2a9-8f4f67003766",
   "metadata": {},
   "outputs": [
    {
     "name": "stdout",
     "output_type": "stream",
     "text": [
      "RMSE 143.97858549517466\n",
      "MAE 111.04565745569187\n",
      "R_2 0.7395724018064762\n"
     ]
    }
   ],
   "source": [
    "print('RMSE',np.sqrt(mean_squared_error(real_data,rsg_predictions)))\n",
    "print('MAE',mean_absolute_error(real_data,rsg_predictions))\n",
    "print('R_2',r2_score(real_data,rsg_predictions))"
   ]
  },
  {
   "cell_type": "code",
   "execution_count": 47,
   "id": "561d6434-982d-48d8-9861-ba9b88e17a51",
   "metadata": {},
   "outputs": [
    {
     "data": {
      "text/plain": [
       "[<matplotlib.lines.Line2D at 0x25791b6f8e0>]"
      ]
     },
     "execution_count": 47,
     "metadata": {},
     "output_type": "execute_result"
    },
    {
     "data": {
      "image/png": "[encoded data removed]",
      "text/plain": [
       "<Figure size 432x288 with 1 Axes>"
      ]
     },
     "metadata": {
      "needs_background": "light"
     },
     "output_type": "display_data"
    }
   ],
   "source": [
    "sns.scatterplot(x=real_data,y=rsg_predictions)\n",
    "plt.plot(real_data, real_data, linewidth=2,color=\"r\")"
   ]
  },
  {
   "cell_type": "code",
   "execution_count": 48,
   "id": "5bc44389-6911-4642-b419-e623b43f26df",
   "metadata": {},
   "outputs": [],
   "source": [
    "df_predicciones.to_csv('predicciones_modelos_quito.csv')"
   ]
  },
  {
   "cell_type": "code",
   "execution_count": null,
   "id": "2d9ad04b-fc74-40bb-bbea-fbc418400922",
   "metadata": {},
   "outputs": [],
   "source": []
  }
 ],
 "metadata": {
  "kernelspec": {
   "display_name": "Python 3 (ipykernel)",
   "language": "python",
   "name": "python3"
  },
  "language_info": {
   "codemirror_mode": {
    "name": "ipython",
    "version": 3
   },
   "file_extension": ".py",
   "mimetype": "text/x-python",
   "name": "python",
   "nbconvert_exporter": "python",
   "pygments_lexer": "ipython3",
   "version": "3.9.1"
  }
 },
 "nbformat": 4,
 "nbformat_minor": 5
}
