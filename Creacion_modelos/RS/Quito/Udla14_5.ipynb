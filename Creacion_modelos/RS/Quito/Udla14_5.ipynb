{
  "nbformat": 4,
  "nbformat_minor": 0,
  "metadata": {
    "colab": {
      "name": "Udla14_5.ipynb",
      "provenance": [],
      "collapsed_sections": []
    },
    "kernelspec": {
      "name": "python3",
      "display_name": "Python 3"
    },
    "language_info": {
      "name": "python"
    }
  },
  "cells": [
    {
      "cell_type": "markdown",
      "source": [
        "# Modelo AR para radiación solar en Quito"
      ],
      "metadata": {
        "id": "0121AHd-Z0fK"
      }
    },
    {
      "cell_type": "code",
      "execution_count": null,
      "metadata": {
        "id": "lN3EIgYvZyW-"
      },
      "outputs": [],
      "source": [
        "import pandas as pd\n",
        "import numpy as np\n",
        "import matplotlib.pyplot as plt"
      ]
    },
    {
      "cell_type": "markdown",
      "source": [
        "Se importan los datos."
      ],
      "metadata": {
        "id": "HOBLG4gYZ8BR"
      }
    },
    {
      "cell_type": "code",
      "source": [
        "df = pd.read_csv('./drive/MyDrive/DatosInvestigacion/quito_2017_2018.csv', index_col=0, parse_dates=True)\n",
        "df = df.asfreq('h')"
      ],
      "metadata": {
        "id": "usjvp5hMZ5_7"
      },
      "execution_count": null,
      "outputs": []
    },
    {
      "cell_type": "markdown",
      "source": [
        "Se limita el horario."
      ],
      "metadata": {
        "id": "UPL0bmpQfOBs"
      }
    },
    {
      "cell_type": "code",
      "source": [
        "df = df.between_time('08:00:00','17:00:00')"
      ],
      "metadata": {
        "id": "kEMfWjPyZ9sK"
      },
      "execution_count": null,
      "outputs": []
    },
    {
      "cell_type": "code",
      "source": [
        "len_train = int(len(df)*0.8)\n",
        "len_train"
      ],
      "metadata": {
        "colab": {
          "base_uri": "https://localhost:8080/"
        },
        "id": "_LcQs5k7aDI5",
        "outputId": "3a933f94-a949-42bf-bb90-536d19a82eed"
      },
      "execution_count": null,
      "outputs": [
        {
          "output_type": "execute_result",
          "data": {
            "text/plain": [
              "4120"
            ]
          },
          "metadata": {},
          "execution_count": 5
        }
      ]
    },
    {
      "cell_type": "code",
      "source": [
        "df_train = df.iloc[:len_train]\n",
        "df_test = df.iloc[len_train:]"
      ],
      "metadata": {
        "id": "yzrhXmCJaGQZ"
      },
      "execution_count": null,
      "outputs": []
    },
    {
      "cell_type": "code",
      "source": [
        "df_train.head()"
      ],
      "metadata": {
        "colab": {
          "base_uri": "https://localhost:8080/",
          "height": 237
        },
        "id": "Tzadbl0FaXpg",
        "outputId": "49ccd549-8443-4f2e-e3f7-5807a84f97a2"
      },
      "execution_count": null,
      "outputs": [
        {
          "output_type": "execute_result",
          "data": {
            "text/plain": [
              "                         RS   VEL    TMP    HUM\n",
              "Date_time                                      \n",
              "2017-02-01 08:00:00  259.93  0.41  13.90  73.92\n",
              "2017-02-01 09:00:00  482.96  1.02  15.77  62.89\n",
              "2017-02-01 10:00:00  608.28  1.65  17.13  53.35\n",
              "2017-02-01 11:00:00  789.95  2.51  17.75  47.30\n",
              "2017-02-01 12:00:00  975.22  2.79  18.63  46.45"
            ],
            "text/html": [
              "\n",
              "  <div id=\"df-367f0536-c434-4309-939a-ac1c7664b70e\">\n",
              "    <div class=\"colab-df-container\">\n",
              "      <div>\n",
              "<style scoped>\n",
              "    .dataframe tbody tr th:only-of-type {\n",
              "        vertical-align: middle;\n",
              "    }\n",
              "\n",
              "    .dataframe tbody tr th {\n",
              "        vertical-align: top;\n",
              "    }\n",
              "\n",
              "    .dataframe thead th {\n",
              "        text-align: right;\n",
              "    }\n",
              "</style>\n",
              "<table border=\"1\" class=\"dataframe\">\n",
              "  <thead>\n",
              "    <tr style=\"text-align: right;\">\n",
              "      <th></th>\n",
              "      <th>RS</th>\n",
              "      <th>VEL</th>\n",
              "      <th>TMP</th>\n",
              "      <th>HUM</th>\n",
              "    </tr>\n",
              "    <tr>\n",
              "      <th>Date_time</th>\n",
              "      <th></th>\n",
              "      <th></th>\n",
              "      <th></th>\n",
              "      <th></th>\n",
              "    </tr>\n",
              "  </thead>\n",
              "  <tbody>\n",
              "    <tr>\n",
              "      <th>2017-02-01 08:00:00</th>\n",
              "      <td>259.93</td>\n",
              "      <td>0.41</td>\n",
              "      <td>13.90</td>\n",
              "      <td>73.92</td>\n",
              "    </tr>\n",
              "    <tr>\n",
              "      <th>2017-02-01 09:00:00</th>\n",
              "      <td>482.96</td>\n",
              "      <td>1.02</td>\n",
              "      <td>15.77</td>\n",
              "      <td>62.89</td>\n",
              "    </tr>\n",
              "    <tr>\n",
              "      <th>2017-02-01 10:00:00</th>\n",
              "      <td>608.28</td>\n",
              "      <td>1.65</td>\n",
              "      <td>17.13</td>\n",
              "      <td>53.35</td>\n",
              "    </tr>\n",
              "    <tr>\n",
              "      <th>2017-02-01 11:00:00</th>\n",
              "      <td>789.95</td>\n",
              "      <td>2.51</td>\n",
              "      <td>17.75</td>\n",
              "      <td>47.30</td>\n",
              "    </tr>\n",
              "    <tr>\n",
              "      <th>2017-02-01 12:00:00</th>\n",
              "      <td>975.22</td>\n",
              "      <td>2.79</td>\n",
              "      <td>18.63</td>\n",
              "      <td>46.45</td>\n",
              "    </tr>\n",
              "  </tbody>\n",
              "</table>\n",
              "</div>\n",
              "      <button class=\"colab-df-convert\" onclick=\"convertToInteractive('df-367f0536-c434-4309-939a-ac1c7664b70e')\"\n",
              "              title=\"Convert this dataframe to an interactive table.\"\n",
              "              style=\"display:none;\">\n",
              "        \n",
              "  <svg xmlns=\"http://www.w3.org/2000/svg\" height=\"24px\"viewBox=\"0 0 24 24\"\n",
              "       width=\"24px\">\n",
              "    <path d=\"M0 0h24v24H0V0z\" fill=\"none\"/>\n",
              "    <path d=\"M18.56 5.44l.94 2.06.94-2.06 2.06-.94-2.06-.94-.94-2.06-.94 2.06-2.06.94zm-11 1L8.5 8.5l.94-2.06 2.06-.94-2.06-.94L8.5 2.5l-.94 2.06-2.06.94zm10 10l.94 2.06.94-2.06 2.06-.94-2.06-.94-.94-2.06-.94 2.06-2.06.94z\"/><path d=\"M17.41 7.96l-1.37-1.37c-.4-.4-.92-.59-1.43-.59-.52 0-1.04.2-1.43.59L10.3 9.45l-7.72 7.72c-.78.78-.78 2.05 0 2.83L4 21.41c.39.39.9.59 1.41.59.51 0 1.02-.2 1.41-.59l7.78-7.78 2.81-2.81c.8-.78.8-2.07 0-2.86zM5.41 20L4 18.59l7.72-7.72 1.47 1.35L5.41 20z\"/>\n",
              "  </svg>\n",
              "      </button>\n",
              "      \n",
              "  <style>\n",
              "    .colab-df-container {\n",
              "      display:flex;\n",
              "      flex-wrap:wrap;\n",
              "      gap: 12px;\n",
              "    }\n",
              "\n",
              "    .colab-df-convert {\n",
              "      background-color: #E8F0FE;\n",
              "      border: none;\n",
              "      border-radius: 50%;\n",
              "      cursor: pointer;\n",
              "      display: none;\n",
              "      fill: #1967D2;\n",
              "      height: 32px;\n",
              "      padding: 0 0 0 0;\n",
              "      width: 32px;\n",
              "    }\n",
              "\n",
              "    .colab-df-convert:hover {\n",
              "      background-color: #E2EBFA;\n",
              "      box-shadow: 0px 1px 2px rgba(60, 64, 67, 0.3), 0px 1px 3px 1px rgba(60, 64, 67, 0.15);\n",
              "      fill: #174EA6;\n",
              "    }\n",
              "\n",
              "    [theme=dark] .colab-df-convert {\n",
              "      background-color: #3B4455;\n",
              "      fill: #D2E3FC;\n",
              "    }\n",
              "\n",
              "    [theme=dark] .colab-df-convert:hover {\n",
              "      background-color: #434B5C;\n",
              "      box-shadow: 0px 1px 3px 1px rgba(0, 0, 0, 0.15);\n",
              "      filter: drop-shadow(0px 1px 2px rgba(0, 0, 0, 0.3));\n",
              "      fill: #FFFFFF;\n",
              "    }\n",
              "  </style>\n",
              "\n",
              "      <script>\n",
              "        const buttonEl =\n",
              "          document.querySelector('#df-367f0536-c434-4309-939a-ac1c7664b70e button.colab-df-convert');\n",
              "        buttonEl.style.display =\n",
              "          google.colab.kernel.accessAllowed ? 'block' : 'none';\n",
              "\n",
              "        async function convertToInteractive(key) {\n",
              "          const element = document.querySelector('#df-367f0536-c434-4309-939a-ac1c7664b70e');\n",
              "          const dataTable =\n",
              "            await google.colab.kernel.invokeFunction('convertToInteractive',\n",
              "                                                     [key], {});\n",
              "          if (!dataTable) return;\n",
              "\n",
              "          const docLinkHtml = 'Like what you see? Visit the ' +\n",
              "            '<a target=\"_blank\" href=https://colab.research.google.com/notebooks/data_table.ipynb>data table notebook</a>'\n",
              "            + ' to learn more about interactive tables.';\n",
              "          element.innerHTML = '';\n",
              "          dataTable['output_type'] = 'display_data';\n",
              "          await google.colab.output.renderOutput(dataTable, element);\n",
              "          const docLink = document.createElement('div');\n",
              "          docLink.innerHTML = docLinkHtml;\n",
              "          element.appendChild(docLink);\n",
              "        }\n",
              "      </script>\n",
              "    </div>\n",
              "  </div>\n",
              "  "
            ]
          },
          "metadata": {},
          "execution_count": 9
        }
      ]
    },
    {
      "cell_type": "markdown",
      "source": [
        "## Creación del modelo"
      ],
      "metadata": {
        "id": "CnRZKcxxaLCb"
      }
    },
    {
      "cell_type": "code",
      "source": [
        "from statsmodels.tsa.ar_model import AR"
      ],
      "metadata": {
        "colab": {
          "base_uri": "https://localhost:8080/"
        },
        "id": "s3XbTks9aHtl",
        "outputId": "ba55299a-a35b-4dce-ff8b-e3d3d16242d8"
      },
      "execution_count": null,
      "outputs": [
        {
          "output_type": "stream",
          "name": "stderr",
          "text": [
            "/usr/local/lib/python3.7/dist-packages/statsmodels/tools/_testing.py:19: FutureWarning: pandas.util.testing is deprecated. Use the functions in the public API at pandas.testing instead.\n",
            "  import pandas.util.testing as tm\n"
          ]
        }
      ]
    },
    {
      "cell_type": "code",
      "source": [
        "# Ignore harmless warnings\n",
        "import warnings\n",
        "warnings.filterwarnings(\"ignore\")"
      ],
      "metadata": {
        "id": "HB3UkUv5aQU-"
      },
      "execution_count": null,
      "outputs": []
    },
    {
      "cell_type": "code",
      "source": [
        "model = AR(df_train['RS'])\n",
        "ARfit = model.fit(maxlag=24,ic='bic') \n",
        "print(f'Lag: {ARfit.k_ar}')\n",
        "print(f'Coefficients:\\n{ARfit.params}')"
      ],
      "metadata": {
        "colab": {
          "base_uri": "https://localhost:8080/"
        },
        "id": "pT2wF6egaUre",
        "outputId": "4b5d9ad8-e988-4436-d335-8352f147d9ca"
      },
      "execution_count": null,
      "outputs": [
        {
          "output_type": "stream",
          "name": "stdout",
          "text": [
            "Lag: 21\n",
            "Coefficients:\n",
            "const     90.196831\n",
            "L1.RS      0.605269\n",
            "L2.RS     -0.051036\n",
            "L3.RS      0.008912\n",
            "L4.RS     -0.057670\n",
            "L5.RS      0.024059\n",
            "L6.RS     -0.014997\n",
            "L7.RS     -0.019632\n",
            "L8.RS      0.053366\n",
            "L9.RS      0.079305\n",
            "L10.RS     0.216600\n",
            "L11.RS    -0.066506\n",
            "L12.RS    -0.007087\n",
            "L13.RS    -0.067058\n",
            "L14.RS    -0.001084\n",
            "L15.RS     0.022258\n",
            "L16.RS    -0.034241\n",
            "L17.RS    -0.038318\n",
            "L18.RS     0.040290\n",
            "L19.RS     0.028187\n",
            "L20.RS     0.208899\n",
            "L21.RS    -0.123142\n",
            "dtype: float64\n"
          ]
        }
      ]
    },
    {
      "cell_type": "markdown",
      "source": [
        "## Evaluación del modelo"
      ],
      "metadata": {
        "id": "xRiqIA3aeFvj"
      }
    },
    {
      "cell_type": "code",
      "source": [
        "from sklearn.metrics import mean_squared_error\n",
        "from sklearn.metrics import mean_absolute_error\n",
        "from sklearn.metrics import r2_score"
      ],
      "metadata": {
        "id": "nUdTV4YpeHnq"
      },
      "execution_count": null,
      "outputs": []
    },
    {
      "cell_type": "code",
      "source": [
        "coef = ARfit.params"
      ],
      "metadata": {
        "id": "zBfBjn2tabgU"
      },
      "execution_count": null,
      "outputs": []
    },
    {
      "cell_type": "markdown",
      "source": [
        "Función para calcular predicciones a partir de los coeficientes."
      ],
      "metadata": {
        "id": "YyrYRPJTfI0m"
      }
    },
    {
      "cell_type": "code",
      "source": [
        "def get_pred(coef,data):\n",
        "  prediction = coef[0] # constante\n",
        "  # los datos se reciben en forma cronológica\n",
        "  j = 1\n",
        "  for i in range(len(data)-1,-1,-1):\n",
        "    prediction += coef[j] * data[i]\n",
        "    j+=1\n",
        "  return prediction"
      ],
      "metadata": {
        "id": "54BnmYqgbP4G"
      },
      "execution_count": null,
      "outputs": []
    },
    {
      "cell_type": "code",
      "source": [
        "get_pred(coef,df_train['RS'][-21:].values)"
      ],
      "metadata": {
        "colab": {
          "base_uri": "https://localhost:8080/"
        },
        "id": "VwIMwPIabT_G",
        "outputId": "139c9e5c-23cc-4fbd-9bba-eae38e93a5e9"
      },
      "execution_count": null,
      "outputs": [
        {
          "output_type": "execute_result",
          "data": {
            "text/plain": [
              "309.6566943762309"
            ]
          },
          "metadata": {},
          "execution_count": 41
        }
      ]
    },
    {
      "cell_type": "code",
      "source": [
        "ARfit.predict(start=len(df_train),end=len(df_train)+1)"
      ],
      "metadata": {
        "colab": {
          "base_uri": "https://localhost:8080/"
        },
        "id": "Mf7pyunvbYJh",
        "outputId": "648098ed-8d44-4b04-bcd5-2e1de2c8c664"
      },
      "execution_count": null,
      "outputs": [
        {
          "output_type": "execute_result",
          "data": {
            "text/plain": [
              "4120    309.656694\n",
              "4121    591.339808\n",
              "dtype: float64"
            ]
          },
          "metadata": {},
          "execution_count": 42
        }
      ]
    },
    {
      "cell_type": "markdown",
      "source": [
        "El valor real es más bajo que el predicho."
      ],
      "metadata": {
        "id": "8jyxqkYCdeNk"
      }
    },
    {
      "cell_type": "code",
      "source": [
        "df_test.iloc[0]['RS']"
      ],
      "metadata": {
        "colab": {
          "base_uri": "https://localhost:8080/"
        },
        "id": "aMzX5o49bxWd",
        "outputId": "9035b0f6-5981-4b64-d904-13de86019815"
      },
      "execution_count": null,
      "outputs": [
        {
          "output_type": "execute_result",
          "data": {
            "text/plain": [
              "258.22"
            ]
          },
          "metadata": {},
          "execution_count": 19
        }
      ]
    },
    {
      "cell_type": "markdown",
      "source": [
        "Se evaluará todo el conjunto de pruebas"
      ],
      "metadata": {
        "id": "redB7IPvewwS"
      }
    },
    {
      "cell_type": "code",
      "source": [
        "test_pred = []\n",
        "retrasos = 21"
      ],
      "metadata": {
        "id": "QRFZCnDUdXBo"
      },
      "execution_count": null,
      "outputs": []
    },
    {
      "cell_type": "code",
      "source": [
        "for i in range(retrasos,len(df_test)):\n",
        "  past_data = df_test.iloc[i-retrasos:i]['RS']\n",
        "  test_pred.append(get_pred(coef,past_data))"
      ],
      "metadata": {
        "id": "tRKWP_o_dkIF"
      },
      "execution_count": null,
      "outputs": []
    },
    {
      "cell_type": "code",
      "source": [
        "test_pred = np.ndarray.flatten(np.array(test_pred))"
      ],
      "metadata": {
        "id": "-A8EoYMzdlhT"
      },
      "execution_count": null,
      "outputs": []
    },
    {
      "cell_type": "code",
      "source": [
        "test_pred.shape"
      ],
      "metadata": {
        "colab": {
          "base_uri": "https://localhost:8080/"
        },
        "id": "jaBpBQR2duag",
        "outputId": "4f3635c3-8cca-474a-c451-d0b08d85d0ed"
      },
      "execution_count": null,
      "outputs": [
        {
          "output_type": "execute_result",
          "data": {
            "text/plain": [
              "(1009,)"
            ]
          },
          "metadata": {},
          "execution_count": 43
        }
      ]
    },
    {
      "cell_type": "code",
      "source": [
        "df_test.shape"
      ],
      "metadata": {
        "colab": {
          "base_uri": "https://localhost:8080/"
        },
        "id": "fOpnxds3dxTb",
        "outputId": "86122fcb-57ca-4a94-ca75-e4117f7096db"
      },
      "execution_count": null,
      "outputs": [
        {
          "output_type": "execute_result",
          "data": {
            "text/plain": [
              "(1030, 4)"
            ]
          },
          "metadata": {},
          "execution_count": 30
        }
      ]
    },
    {
      "cell_type": "code",
      "source": [
        "real_data = df_test.iloc[retrasos:]['RS']"
      ],
      "metadata": {
        "id": "daRsdCucdzKf"
      },
      "execution_count": null,
      "outputs": []
    },
    {
      "cell_type": "code",
      "source": [
        "real_data.shape"
      ],
      "metadata": {
        "colab": {
          "base_uri": "https://localhost:8080/"
        },
        "id": "y8cw_Jp4d7vT",
        "outputId": "f6fa07cb-447a-4fa2-9b90-b21f2c736a49"
      },
      "execution_count": null,
      "outputs": [
        {
          "output_type": "execute_result",
          "data": {
            "text/plain": [
              "(1009,)"
            ]
          },
          "metadata": {},
          "execution_count": 44
        }
      ]
    },
    {
      "cell_type": "markdown",
      "source": [
        "Resultados"
      ],
      "metadata": {
        "id": "CaN0J6QSe5br"
      }
    },
    {
      "cell_type": "code",
      "source": [
        "MSE = mean_squared_error(real_data,test_pred)\n",
        "MAE = mean_absolute_error(real_data,test_pred)\n",
        "r2 = r2_score(real_data,test_pred)"
      ],
      "metadata": {
        "id": "6rBCtXgjd9jI"
      },
      "execution_count": null,
      "outputs": []
    },
    {
      "cell_type": "markdown",
      "source": [
        "RMSE"
      ],
      "metadata": {
        "id": "7vTWIPWGfj19"
      }
    },
    {
      "cell_type": "code",
      "source": [
        "np.sqrt(MSE)"
      ],
      "metadata": {
        "colab": {
          "base_uri": "https://localhost:8080/"
        },
        "id": "ow3bPZ2LeeLf",
        "outputId": "bb43b8eb-9c2c-4ed7-9f35-42309ee63eaa"
      },
      "execution_count": null,
      "outputs": [
        {
          "output_type": "execute_result",
          "data": {
            "text/plain": [
              "154.58046358508113"
            ]
          },
          "metadata": {},
          "execution_count": 46
        }
      ]
    },
    {
      "cell_type": "markdown",
      "source": [
        "MAE"
      ],
      "metadata": {
        "id": "xjgyuzmbfk2U"
      }
    },
    {
      "cell_type": "code",
      "source": [
        "MAE"
      ],
      "metadata": {
        "colab": {
          "base_uri": "https://localhost:8080/"
        },
        "id": "wJfnFG0RegDv",
        "outputId": "50426763-d893-489b-9c47-3130c1f8ea35"
      },
      "execution_count": null,
      "outputs": [
        {
          "output_type": "execute_result",
          "data": {
            "text/plain": [
              "122.63536915695636"
            ]
          },
          "metadata": {},
          "execution_count": 47
        }
      ]
    },
    {
      "cell_type": "markdown",
      "source": [
        "$R^2$"
      ],
      "metadata": {
        "id": "4i3HKIMgflqJ"
      }
    },
    {
      "cell_type": "code",
      "source": [
        "r2"
      ],
      "metadata": {
        "colab": {
          "base_uri": "https://localhost:8080/"
        },
        "id": "GqDnUPV1egiv",
        "outputId": "8af1f348-effb-43de-90f3-7023c9573713"
      },
      "execution_count": null,
      "outputs": [
        {
          "output_type": "execute_result",
          "data": {
            "text/plain": [
              "0.6998071034426272"
            ]
          },
          "metadata": {},
          "execution_count": 48
        }
      ]
    }
  ]
}