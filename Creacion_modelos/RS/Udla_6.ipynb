{
  "nbformat": 4,
  "nbformat_minor": 0,
  "metadata": {
    "colab": {
      "name": "Udla_6.ipynb",
      "provenance": [],
      "collapsed_sections": []
    },
    "kernelspec": {
      "name": "python3",
      "display_name": "Python 3"
    },
    "language_info": {
      "name": "python"
    }
  },
  "cells": [
    {
      "cell_type": "markdown",
      "metadata": {
        "id": "T7Xb2D3xIPmX"
      },
      "source": [
        "# Modelo Aturregresivo (AR)"
      ]
    },
    {
      "cell_type": "markdown",
      "source": [
        "Se importan las librerias."
      ],
      "metadata": {
        "id": "7RU6ZbppxCDK"
      }
    },
    {
      "cell_type": "code",
      "metadata": {
        "id": "m_iiOBRKF3gX"
      },
      "source": [
        "import pandas as pd\n",
        "import numpy as np\n",
        "import matplotlib.pyplot as plt"
      ],
      "execution_count": 1,
      "outputs": []
    },
    {
      "cell_type": "markdown",
      "source": [
        "Se obtienen los datos limpios de 2015 y 2016."
      ],
      "metadata": {
        "id": "XCIiCVFDxFxy"
      }
    },
    {
      "cell_type": "code",
      "metadata": {
        "id": "e1OPgq2jH61x",
        "colab": {
          "base_uri": "https://localhost:8080/"
        },
        "outputId": "d9327c5e-ab88-46a2-eadb-ca3d230658b3"
      },
      "source": [
        "df2015 = pd.read_csv('./drive/MyDrive/DatosInvestigacion/2015_2016_dataset.csv', index_col=0, parse_dates=True)"
      ],
      "execution_count": 2,
      "outputs": [
        {
          "output_type": "stream",
          "name": "stderr",
          "text": [
            "/usr/local/lib/python3.7/dist-packages/IPython/core/interactiveshell.py:2882: DtypeWarning: Columns (20,21,22,23,24,25,26,27,28,29,30,31,32,33,34,35,36,37,38,39,40) have mixed types.Specify dtype option on import or set low_memory=False.\n",
            "  exec(code_obj, self.user_global_ns, self.user_ns)\n"
          ]
        }
      ]
    },
    {
      "cell_type": "markdown",
      "source": [
        "Se establece la frecuencia del dataset en horas. Esto es para evitar ciertos warning en el uso de este modelo."
      ],
      "metadata": {
        "id": "ww0OZyT8xI9y"
      }
    },
    {
      "cell_type": "code",
      "metadata": {
        "id": "QcmUhynyK_Uu"
      },
      "source": [
        "df2015 = df2015.asfreq('h')"
      ],
      "execution_count": 3,
      "outputs": []
    },
    {
      "cell_type": "markdown",
      "metadata": {
        "id": "DlTBnno7IK13"
      },
      "source": [
        "Se obtiene la variable que se quiere predecir entre las horas de más información."
      ]
    },
    {
      "cell_type": "code",
      "metadata": {
        "id": "5NzPksR9IFYx"
      },
      "source": [
        "df = pd.DataFrame()\n",
        "df['RSG'] = df2015['SRGLOAVG1H'].between_time('08:00:00','17:00:00')"
      ],
      "execution_count": 4,
      "outputs": []
    },
    {
      "cell_type": "markdown",
      "source": [
        "## Definición\n",
        "El modelo AR más simple, de 1 retraso, se define de la siguiente forma:"
      ],
      "metadata": {
        "id": "OFUf_QtqxeeS"
      }
    },
    {
      "cell_type": "markdown",
      "source": [
        "$x_{t}=c+ϕ_{1} x_{t-1}+ϵ_{t}$\n"
      ],
      "metadata": {
        "id": "FmuKVpAFdS6M"
      }
    },
    {
      "cell_type": "markdown",
      "source": [
        "Donde $x_{t}$ es el valor que se quiere predecir, $x_{t-1}$ es el valor de la variable en el tiempo anterior, $c$ es una constante y $ϵ_{t}$ es el residuo entre la predicción y el valor real."
      ],
      "metadata": {
        "id": "CzMefhaRxnLg"
      }
    },
    {
      "cell_type": "markdown",
      "source": [
        "Se mantiene la siguiente limitación para el coeficiente que multiplica el valor anterior $x_{t-1}$"
      ],
      "metadata": {
        "id": "cUjw2Y0SyIkO"
      }
    },
    {
      "cell_type": "markdown",
      "source": [
        "$| ϕ_{1} | < 1$"
      ],
      "metadata": {
        "id": "a2eELwQ7eJf2"
      }
    },
    {
      "cell_type": "markdown",
      "source": [
        "## Implementación"
      ],
      "metadata": {
        "id": "AKkpCagjyWoY"
      }
    },
    {
      "cell_type": "markdown",
      "source": [
        "Se importa el modelo ARMA."
      ],
      "metadata": {
        "id": "H8_ehMoIyYq4"
      }
    },
    {
      "cell_type": "code",
      "metadata": {
        "id": "fH7jKQ1AIKG0",
        "colab": {
          "base_uri": "https://localhost:8080/"
        },
        "outputId": "d0593db7-4205-4021-c998-c1a8139a1184"
      },
      "source": [
        "from statsmodels.tsa.arima_model import ARMA"
      ],
      "execution_count": null,
      "outputs": [
        {
          "output_type": "stream",
          "name": "stderr",
          "text": [
            "/usr/local/lib/python3.7/dist-packages/statsmodels/tools/_testing.py:19: FutureWarning: pandas.util.testing is deprecated. Use the functions in the public API at pandas.testing instead.\n",
            "  import pandas.util.testing as tm\n"
          ]
        }
      ]
    },
    {
      "cell_type": "markdown",
      "metadata": {
        "id": "_SzKa9JbIttP"
      },
      "source": [
        "Se utilizará 1 retraso, el otro parámetro dentro de `order` se mantiene en 0 para que sea un modelo AR y no ARMA."
      ]
    },
    {
      "cell_type": "code",
      "metadata": {
        "id": "miun8Y55N6-V",
        "colab": {
          "base_uri": "https://localhost:8080/"
        },
        "outputId": "d76426f0-0b8c-4368-901d-d8bffc5c4fc1"
      },
      "source": [
        "model_ar = ARMA(df['RSG'], order=(1,0))"
      ],
      "execution_count": null,
      "outputs": [
        {
          "output_type": "stream",
          "name": "stderr",
          "text": [
            "/usr/local/lib/python3.7/dist-packages/statsmodels/tsa/base/tsa_model.py:219: ValueWarning: A date index has been provided, but it has no associated frequency information and so will be ignored when e.g. forecasting.\n",
            "  ' ignored when e.g. forecasting.', ValueWarning)\n"
          ]
        }
      ]
    },
    {
      "cell_type": "markdown",
      "source": [
        "Se entrena el modelo con los datos de radiación solar."
      ],
      "metadata": {
        "id": "-bhURJrSymqf"
      }
    },
    {
      "cell_type": "code",
      "metadata": {
        "id": "wyGe4H_TN8wJ"
      },
      "source": [
        "results_ar = model_ar.fit()"
      ],
      "execution_count": null,
      "outputs": []
    },
    {
      "cell_type": "markdown",
      "source": [
        "Se observa un resumen de los resultados obtenidos por el entrenamiento."
      ],
      "metadata": {
        "id": "-dnCYW0OyumC"
      }
    },
    {
      "cell_type": "code",
      "source": [
        "results_ar.summary()"
      ],
      "metadata": {
        "colab": {
          "base_uri": "https://localhost:8080/",
          "height": 289
        },
        "id": "5e9nQvC_Y4_b",
        "outputId": "0bacb551-57f1-43f0-c032-72ddcbdb0956"
      },
      "execution_count": null,
      "outputs": [
        {
          "output_type": "execute_result",
          "data": {
            "text/html": [
              "<table class=\"simpletable\">\n",
              "<caption>ARMA Model Results</caption>\n",
              "<tr>\n",
              "  <th>Dep. Variable:</th>        <td>RSG</td>       <th>  No. Observations:  </th>    <td>7310</td>   \n",
              "</tr>\n",
              "<tr>\n",
              "  <th>Model:</th>            <td>ARMA(1, 0)</td>    <th>  Log Likelihood     </th> <td>-48393.161</td>\n",
              "</tr>\n",
              "<tr>\n",
              "  <th>Method:</th>             <td>css-mle</td>     <th>  S.D. of innovations</th>   <td>181.481</td> \n",
              "</tr>\n",
              "<tr>\n",
              "  <th>Date:</th>          <td>Thu, 27 Jan 2022</td> <th>  AIC                </th>  <td>96792.322</td>\n",
              "</tr>\n",
              "<tr>\n",
              "  <th>Time:</th>              <td>18:53:09</td>     <th>  BIC                </th>  <td>96813.013</td>\n",
              "</tr>\n",
              "<tr>\n",
              "  <th>Sample:</th>                <td>0</td>        <th>  HQIC               </th>  <td>96799.436</td>\n",
              "</tr>\n",
              "<tr>\n",
              "  <th></th>                       <td> </td>        <th>                     </th>      <td> </td>    \n",
              "</tr>\n",
              "</table>\n",
              "<table class=\"simpletable\">\n",
              "<tr>\n",
              "      <td></td>         <th>coef</th>     <th>std err</th>      <th>z</th>      <th>P>|z|</th>  <th>[0.025</th>    <th>0.975]</th>  \n",
              "</tr>\n",
              "<tr>\n",
              "  <th>const</th>     <td>  414.7514</td> <td>    6.844</td> <td>   60.604</td> <td> 0.000</td> <td>  401.338</td> <td>  428.165</td>\n",
              "</tr>\n",
              "<tr>\n",
              "  <th>ar.L1.RSG</th> <td>    0.6899</td> <td>    0.008</td> <td>   81.486</td> <td> 0.000</td> <td>    0.673</td> <td>    0.707</td>\n",
              "</tr>\n",
              "</table>\n",
              "<table class=\"simpletable\">\n",
              "<caption>Roots</caption>\n",
              "<tr>\n",
              "    <td></td>   <th>            Real</th>  <th>         Imaginary</th> <th>         Modulus</th>  <th>        Frequency</th>\n",
              "</tr>\n",
              "<tr>\n",
              "  <th>AR.1</th> <td>           1.4494</td> <td>          +0.0000j</td> <td>           1.4494</td> <td>           0.0000</td>\n",
              "</tr>\n",
              "</table>"
            ],
            "text/plain": [
              "<class 'statsmodels.iolib.summary.Summary'>\n",
              "\"\"\"\n",
              "                              ARMA Model Results                              \n",
              "==============================================================================\n",
              "Dep. Variable:                    RSG   No. Observations:                 7310\n",
              "Model:                     ARMA(1, 0)   Log Likelihood              -48393.161\n",
              "Method:                       css-mle   S.D. of innovations            181.481\n",
              "Date:                Thu, 27 Jan 2022   AIC                          96792.322\n",
              "Time:                        18:53:09   BIC                          96813.013\n",
              "Sample:                             0   HQIC                         96799.436\n",
              "                                                                              \n",
              "==============================================================================\n",
              "                 coef    std err          z      P>|z|      [0.025      0.975]\n",
              "------------------------------------------------------------------------------\n",
              "const        414.7514      6.844     60.604      0.000     401.338     428.165\n",
              "ar.L1.RSG      0.6899      0.008     81.486      0.000       0.673       0.707\n",
              "                                    Roots                                    \n",
              "=============================================================================\n",
              "                  Real          Imaginary           Modulus         Frequency\n",
              "-----------------------------------------------------------------------------\n",
              "AR.1            1.4494           +0.0000j            1.4494            0.0000\n",
              "-----------------------------------------------------------------------------\n",
              "\"\"\""
            ]
          },
          "metadata": {},
          "execution_count": 9
        }
      ]
    },
    {
      "cell_type": "markdown",
      "source": [
        "En la tabla existe un p-valor `P` que sirve para decidir si un coeficiente es útil dentro de la ecuación AR."
      ],
      "metadata": {
        "id": "vUrT3gE2y0KI"
      }
    },
    {
      "cell_type": "markdown",
      "source": [
        "La hipótesis nula es que el coeficiente es igual a 0. Ya que el p-valor de los coeficientes observados en el resumen es igual a cero, el valor de estos es significativo. Es decir, se puede utilizar el modelo AR con un retraso."
      ],
      "metadata": {
        "id": "Doi5Pefoepqq"
      }
    },
    {
      "cell_type": "markdown",
      "source": [
        "## Búsqueda de la mejor cantidad de retrasos"
      ],
      "metadata": {
        "id": "teemBCKMzYfH"
      }
    },
    {
      "cell_type": "markdown",
      "source": [
        "Se importa una librería para que realice la búsqueda del mejor número de retrasos."
      ],
      "metadata": {
        "id": "mOvmxu5Tzcuk"
      }
    },
    {
      "cell_type": "code",
      "metadata": {
        "id": "Z4gtCuSpN3xq",
        "colab": {
          "base_uri": "https://localhost:8080/"
        },
        "outputId": "8609e212-de1d-4320-87e3-ab55091003d4"
      },
      "source": [
        "from statsmodels.tsa.ar_model import AR"
      ],
      "execution_count": null,
      "outputs": [
        {
          "output_type": "stream",
          "name": "stderr",
          "text": [
            "/usr/local/lib/python3.7/dist-packages/statsmodels/tools/_testing.py:19: FutureWarning: pandas.util.testing is deprecated. Use the functions in the public API at pandas.testing instead.\n",
            "  import pandas.util.testing as tm\n"
          ]
        }
      ]
    },
    {
      "cell_type": "markdown",
      "source": [
        "Se divide en datos de entrenamiento y prueba, el 80% de los datos se utilizarán para entrenamiento."
      ],
      "metadata": {
        "id": "sD3eD1VcW7ef"
      }
    },
    {
      "cell_type": "code",
      "source": [
        "train_size = int(len(df)*0.8)"
      ],
      "metadata": {
        "id": "qhgTSAwWWx4m"
      },
      "execution_count": 13,
      "outputs": []
    },
    {
      "cell_type": "code",
      "source": [
        "df_train = df.iloc[:train_size]\n",
        "df_test = df.iloc[train_size:]"
      ],
      "metadata": {
        "id": "EKBvk1Y8XK8i"
      },
      "execution_count": 14,
      "outputs": []
    },
    {
      "cell_type": "markdown",
      "source": [
        "Se utilizarán 5848 datos para el entrenamiento."
      ],
      "metadata": {
        "id": "naqYGIr2z-yV"
      }
    },
    {
      "cell_type": "code",
      "source": [
        "len(df_train)"
      ],
      "metadata": {
        "colab": {
          "base_uri": "https://localhost:8080/"
        },
        "id": "MWeJz7cl48uR",
        "outputId": "d914485b-497b-47a0-820e-8b37862fb9b2"
      },
      "execution_count": null,
      "outputs": [
        {
          "output_type": "execute_result",
          "data": {
            "text/plain": [
              "5848"
            ]
          },
          "metadata": {},
          "execution_count": 8
        }
      ]
    },
    {
      "cell_type": "markdown",
      "source": [
        "Se importa una librería para que no aparezcan warnings durante el entrenamiento."
      ],
      "metadata": {
        "id": "UDErAYcEXhs2"
      }
    },
    {
      "cell_type": "code",
      "source": [
        "# Ignore harmless warnings\n",
        "import warnings\n",
        "warnings.filterwarnings(\"ignore\")"
      ],
      "metadata": {
        "id": "gSgSiyC9XOQi"
      },
      "execution_count": null,
      "outputs": []
    },
    {
      "cell_type": "markdown",
      "source": [
        "Se ejecuta el modelo con los datos de radiación solar y se coloca un máximo de retrasos, en este caso el número 24 representa más de dos días hacia el pasado, pues sólo se toman en cuanta los datos del día."
      ],
      "metadata": {
        "id": "fIRLh7zd0JGn"
      }
    },
    {
      "cell_type": "code",
      "source": [
        "model = AR(df_train['RSG'])\n",
        "ARfit = model.fit(maxlag=24,ic='bic') \n",
        "print(f'Lag: {ARfit.k_ar}')\n",
        "print(f'Coefficients:\\n{ARfit.params}')"
      ],
      "metadata": {
        "colab": {
          "base_uri": "https://localhost:8080/"
        },
        "id": "-8e2A5LgXqKy",
        "outputId": "bb78cf1c-f14b-47a3-937b-afed515e6bed"
      },
      "execution_count": null,
      "outputs": [
        {
          "output_type": "stream",
          "name": "stdout",
          "text": [
            "Lag: 22\n",
            "Coefficients:\n",
            "const      88.465247\n",
            "L1.RSG      0.635393\n",
            "L2.RSG     -0.103026\n",
            "L3.RSG      0.043116\n",
            "L4.RSG     -0.032294\n",
            "L5.RSG     -0.004597\n",
            "L6.RSG     -0.002247\n",
            "L7.RSG     -0.010747\n",
            "L8.RSG      0.021191\n",
            "L9.RSG      0.111859\n",
            "L10.RSG     0.140868\n",
            "L11.RSG     0.000666\n",
            "L12.RSG    -0.033811\n",
            "L13.RSG    -0.006970\n",
            "L14.RSG    -0.041583\n",
            "L15.RSG    -0.016905\n",
            "L16.RSG    -0.012530\n",
            "L17.RSG     0.000388\n",
            "L18.RSG     0.007379\n",
            "L19.RSG     0.072742\n",
            "L20.RSG     0.063291\n",
            "L21.RSG     0.011766\n",
            "L22.RSG    -0.066640\n",
            "dtype: float64\n"
          ]
        }
      ]
    },
    {
      "cell_type": "markdown",
      "source": [
        "El mejor modelo considera 22 retrasos, es decir dos días y dos horas hacia el pasado. Este valor se utilizará como referencia para los modelos LSTM."
      ],
      "metadata": {
        "id": "Zpz5yO5e3LMK"
      }
    },
    {
      "cell_type": "markdown",
      "source": [
        "### Evaluación del modelo"
      ],
      "metadata": {
        "id": "dMaKPWRF3Spa"
      }
    },
    {
      "cell_type": "markdown",
      "source": [
        "Se utilizará el Mean Square Error (MSE) como referencia.\n"
      ],
      "metadata": {
        "id": "E0ztnwWjbPBN"
      }
    },
    {
      "cell_type": "code",
      "source": [
        "from sklearn.metrics import mean_squared_error\n",
        "from sklearn.metrics import mean_absolute_error"
      ],
      "metadata": {
        "id": "8-M-t2ajbK_8"
      },
      "execution_count": 5,
      "outputs": []
    },
    {
      "cell_type": "markdown",
      "source": [
        "Es necesario reproducir la ecuación utilizando los coeficientes."
      ],
      "metadata": {
        "id": "5KeLFgmkQ_QN"
      }
    },
    {
      "cell_type": "code",
      "source": [
        "coef = ARfit.params"
      ],
      "metadata": {
        "id": "J66BLfS_NyDN"
      },
      "execution_count": null,
      "outputs": []
    },
    {
      "cell_type": "code",
      "source": [
        "coef[0]"
      ],
      "metadata": {
        "colab": {
          "base_uri": "https://localhost:8080/"
        },
        "id": "jjlsMj0pRY9k",
        "outputId": "1b88ee34-6669-42c9-c15f-2231d8afc8fb"
      },
      "execution_count": null,
      "outputs": [
        {
          "output_type": "execute_result",
          "data": {
            "text/plain": [
              "88.46524724190891"
            ]
          },
          "metadata": {},
          "execution_count": 22
        }
      ]
    },
    {
      "cell_type": "markdown",
      "source": [
        "Esta función permite calcular las predicciones con nuevos valores, servirá para aplicar el modelo sobre los datos de test."
      ],
      "metadata": {
        "id": "owdd21oK0iII"
      }
    },
    {
      "cell_type": "code",
      "source": [
        "def get_pred(coef,data):\n",
        "  prediction = coef[0] # constante\n",
        "  # los datos se reciben en forma cronológica\n",
        "  j = 1\n",
        "  for i in range(len(data)-1,-1,-1):\n",
        "    prediction += coef[j] * data[i]\n",
        "    j+=1\n",
        "  return prediction\n"
      ],
      "metadata": {
        "id": "v5_DYE_cQsQP"
      },
      "execution_count": 7,
      "outputs": []
    },
    {
      "cell_type": "markdown",
      "source": [
        "Se usan los últimos datos del conjunto de entrenamiento."
      ],
      "metadata": {
        "id": "2pjne8H8Sj1j"
      }
    },
    {
      "cell_type": "code",
      "source": [
        "get_pred(coef,df_train[-22:].values)"
      ],
      "metadata": {
        "colab": {
          "base_uri": "https://localhost:8080/"
        },
        "id": "7Im4zXsJQd-I",
        "outputId": "e51b7eb3-6688-4e6b-9e2f-3eb4627c547d"
      },
      "execution_count": null,
      "outputs": [
        {
          "output_type": "execute_result",
          "data": {
            "text/plain": [
              "array([269.947196])"
            ]
          },
          "metadata": {},
          "execution_count": 14
        }
      ]
    },
    {
      "cell_type": "markdown",
      "source": [
        "Se puede observar que se obtiene el mismo resultado con la función `predict` del modelo, sin embargo, es imposible seguir avanzando en los datos de prueba con la función predict. Por eso, la implementación `get_pred` es utilizará con en el testing."
      ],
      "metadata": {
        "id": "16Rb92NATIUL"
      }
    },
    {
      "cell_type": "code",
      "source": [
        "ARfit.predict(start=len(df_train),end=len(df_train)+1)"
      ],
      "metadata": {
        "colab": {
          "base_uri": "https://localhost:8080/"
        },
        "id": "cnvRW_AJSo8r",
        "outputId": "0b6eefc7-4be6-4e69-8016-35143ae6f622"
      },
      "execution_count": null,
      "outputs": [
        {
          "output_type": "execute_result",
          "data": {
            "text/plain": [
              "5848    269.946018\n",
              "5849    189.341642\n",
              "dtype: float64"
            ]
          },
          "metadata": {},
          "execution_count": 26
        }
      ]
    },
    {
      "cell_type": "markdown",
      "source": [
        "El valor real es mayor al valor predicho."
      ],
      "metadata": {
        "id": "TDlGtOdyTQzU"
      }
    },
    {
      "cell_type": "code",
      "source": [
        "df_test.iloc[0].values"
      ],
      "metadata": {
        "colab": {
          "base_uri": "https://localhost:8080/"
        },
        "id": "oAu9cTE2STfA",
        "outputId": "4efbc8c7-7d87-4791-cfbc-a407c7c6cc45"
      },
      "execution_count": null,
      "outputs": [
        {
          "output_type": "execute_result",
          "data": {
            "text/plain": [
              "array([334.])"
            ]
          },
          "metadata": {},
          "execution_count": 27
        }
      ]
    },
    {
      "cell_type": "markdown",
      "source": [
        "Se va a recorrer todo el dataset de prueba para evaluar al modelo."
      ],
      "metadata": {
        "id": "2EG6Gz-1TWwD"
      }
    },
    {
      "cell_type": "code",
      "source": [
        "test_pred = []"
      ],
      "metadata": {
        "id": "yeyKl542T7mT"
      },
      "execution_count": null,
      "outputs": []
    },
    {
      "cell_type": "code",
      "source": [
        "retrasos = 22"
      ],
      "metadata": {
        "id": "3AT9whQZ5QXH"
      },
      "execution_count": null,
      "outputs": []
    },
    {
      "cell_type": "markdown",
      "source": [
        "Se consiguen predicciones de todo el conjunto de prueba, excepto los 22 primeros registros que se usan para comenzar."
      ],
      "metadata": {
        "id": "9OYBllad1A03"
      }
    },
    {
      "cell_type": "code",
      "source": [
        "for i in range(retrasos,len(df_test)):\n",
        "  past_data = df_test.iloc[i-retrasos:i].values\n",
        "  test_pred.append(get_pred(coef,past_data))"
      ],
      "metadata": {
        "id": "elJuAYjtS71L"
      },
      "execution_count": null,
      "outputs": []
    },
    {
      "cell_type": "markdown",
      "source": [
        "Se aplana el vector de resultados para utilizarlo más fácilmente."
      ],
      "metadata": {
        "id": "pe1qlDDz1I1D"
      }
    },
    {
      "cell_type": "code",
      "source": [
        "test_pred = np.ndarray.flatten(np.array(test_pred))"
      ],
      "metadata": {
        "id": "2Le02fEWV_jK"
      },
      "execution_count": null,
      "outputs": []
    },
    {
      "cell_type": "markdown",
      "source": [
        "Se puede ver que el tamaño de las prediccions es menor al del conjunto de prueba debido a esas primeras 22 horas."
      ],
      "metadata": {
        "id": "-u8EXNyF1Ps7"
      }
    },
    {
      "cell_type": "code",
      "source": [
        "test_pred.shape"
      ],
      "metadata": {
        "colab": {
          "base_uri": "https://localhost:8080/"
        },
        "id": "7t7Hv63zUgqK",
        "outputId": "b9f1e5ee-ec6b-4890-feaf-a0f251a3ebfe"
      },
      "execution_count": null,
      "outputs": [
        {
          "output_type": "execute_result",
          "data": {
            "text/plain": [
              "(1440,)"
            ]
          },
          "metadata": {},
          "execution_count": 63
        }
      ]
    },
    {
      "cell_type": "code",
      "source": [
        "df_test.shape"
      ],
      "metadata": {
        "colab": {
          "base_uri": "https://localhost:8080/"
        },
        "id": "hR0IAaBvUi-a",
        "outputId": "bbef0ca7-39bc-4ac7-962b-30e65e24e917"
      },
      "execution_count": null,
      "outputs": [
        {
          "output_type": "execute_result",
          "data": {
            "text/plain": [
              "(1462, 1)"
            ]
          },
          "metadata": {},
          "execution_count": 64
        }
      ]
    },
    {
      "cell_type": "markdown",
      "source": [
        "Se eliminan las primeras 22 horas del conjunto de pruebas."
      ],
      "metadata": {
        "id": "T86_scb91WdU"
      }
    },
    {
      "cell_type": "code",
      "source": [
        "real_data = df_test.iloc[retrasos:].values"
      ],
      "metadata": {
        "id": "qNu39byaUlEW"
      },
      "execution_count": null,
      "outputs": []
    },
    {
      "cell_type": "code",
      "source": [
        "real_data = np.ndarray.flatten(np.array(real_data))"
      ],
      "metadata": {
        "id": "4TfsrV_6WdGB"
      },
      "execution_count": null,
      "outputs": []
    },
    {
      "cell_type": "markdown",
      "source": [
        "Ahora la longitud es la misma que el conjunto de predicciones."
      ],
      "metadata": {
        "id": "VOeSgpfg1bvz"
      }
    },
    {
      "cell_type": "code",
      "source": [
        "len(real_data)"
      ],
      "metadata": {
        "colab": {
          "base_uri": "https://localhost:8080/"
        },
        "id": "Z12c0fQRUw1u",
        "outputId": "060e8de8-e960-41bd-b610-5c246a4640f1"
      },
      "execution_count": null,
      "outputs": [
        {
          "output_type": "execute_result",
          "data": {
            "text/plain": [
              "1440"
            ]
          },
          "metadata": {},
          "execution_count": 67
        }
      ]
    },
    {
      "cell_type": "markdown",
      "source": [
        "Se calcula el error RMSE del modelo."
      ],
      "metadata": {
        "id": "_TNWfjp11eul"
      }
    },
    {
      "cell_type": "code",
      "source": [
        "errorAR = mean_squared_error(real_data,test_pred)\n",
        "errorAR"
      ],
      "metadata": {
        "colab": {
          "base_uri": "https://localhost:8080/"
        },
        "id": "JPj8mxIKUzwG",
        "outputId": "0af483da-52c0-4126-ecfe-ee3608337d00"
      },
      "execution_count": null,
      "outputs": [
        {
          "output_type": "execute_result",
          "data": {
            "text/plain": [
              "28497.23241249754"
            ]
          },
          "metadata": {},
          "execution_count": 68
        }
      ]
    },
    {
      "cell_type": "markdown",
      "source": [
        "Hay que recordar que las unidades de medida de esta variable son $\\frac{W}{m^2}$"
      ],
      "metadata": {
        "id": "Bda-z5SvOkzP"
      }
    },
    {
      "cell_type": "code",
      "source": [
        "np.sqrt(errorAR)"
      ],
      "metadata": {
        "colab": {
          "base_uri": "https://localhost:8080/"
        },
        "id": "w4HIBe-q5eC3",
        "outputId": "0564ec78-5792-4f8f-a405-5aea9ca24628"
      },
      "execution_count": null,
      "outputs": [
        {
          "output_type": "execute_result",
          "data": {
            "text/plain": [
              "168.81123307557925"
            ]
          },
          "metadata": {},
          "execution_count": 69
        }
      ]
    },
    {
      "cell_type": "markdown",
      "source": [
        "Se grafican los resultados."
      ],
      "metadata": {
        "id": "IGLzy_Aq2DN2"
      }
    },
    {
      "cell_type": "code",
      "source": [
        "plot_df = pd.DataFrame()\n",
        "plot_df['real_value'] = df_test['RSG'][retrasos:]\n",
        "plot_df['prediction'] = test_pred"
      ],
      "metadata": {
        "id": "9R6Gh_TSVT0C"
      },
      "execution_count": null,
      "outputs": []
    },
    {
      "cell_type": "code",
      "source": [
        "plot_df[:]['2016-11-10 7:00:00':'2016-11-18 12:00:00'].plot(figsize=(15,8))"
      ],
      "metadata": {
        "colab": {
          "base_uri": "https://localhost:8080/",
          "height": 499
        },
        "id": "bUDJj5-ZU8C2",
        "outputId": "22694435-3e38-4e46-bfb0-1f69ab667d23"
      },
      "execution_count": null,
      "outputs": [
        {
          "output_type": "execute_result",
          "data": {
            "text/plain": [
              "<matplotlib.axes._subplots.AxesSubplot at 0x7fe2430109d0>"
            ]
          },
          "metadata": {},
          "execution_count": 27
        },
        {
          "output_type": "display_data",
          "data": {
            "text/plain": [
              "<Figure size 1080x576 with 1 Axes>"
            ],
            "image/png": "[encoded data removed]"
          },
          "metadata": {
            "needs_background": "light"
          }
        }
      ]
    },
    {
      "cell_type": "markdown",
      "source": [
        "### Evaluar ventana de tiempo hacia el futuro"
      ],
      "metadata": {
        "id": "qi9ZGpymS2Fa"
      }
    },
    {
      "cell_type": "markdown",
      "source": [
        "Se declara una lista con los coeficientes para poder usarla en cualquier ocasión."
      ],
      "metadata": {
        "id": "y9EKClKkl9-j"
      }
    },
    {
      "cell_type": "code",
      "source": [
        "coef = [88.465247,\n",
        "                0.635393,-0.103026,0.043116,-0.032294,\n",
        "                -0.004597,-0.002247,-0.010747,0.021191,\n",
        "                0.111859,0.140868,0.000666,-0.033811,\n",
        "                -0.006970,-0.041583,-0.016905,-0.012530,\n",
        "                0.000388,0.007379,0.072742,0.063291,0.011766,\n",
        "                -0.066640]"
      ],
      "metadata": {
        "id": "ZrkopirmS1c0"
      },
      "execution_count": 8,
      "outputs": []
    },
    {
      "cell_type": "markdown",
      "source": [
        "El objetivo es ver cómo crece el error al incrementar la ventana de predicción."
      ],
      "metadata": {
        "id": "0r0yBmDlmDB9"
      }
    },
    {
      "cell_type": "code",
      "source": [
        "retrasos=22\n",
        "resultados = []"
      ],
      "metadata": {
        "id": "ATiyhogpsZld"
      },
      "execution_count": 17,
      "outputs": []
    },
    {
      "cell_type": "code",
      "source": [
        "for ventana in range(1,33):\n",
        "  predictions = []\n",
        "  true_values = []\n",
        "  print(ventana)\n",
        "  for j in range(retrasos,len(df_test)-ventana):\n",
        "    past_data = df_test.iloc[j-retrasos:j].values\n",
        "    for i in range(ventana):\n",
        "        current_pred = get_pred(coef,past_data)\n",
        "        predictions.append(current_pred) \n",
        "        past_data = np.append(past_data[1:,:],[current_pred],axis=0)\n",
        "        true_values.append(df_test.iloc[j+i])\n",
        "\n",
        "  true_predictions = np.ndarray.flatten(np.array(predictions))\n",
        "  errorMSE = mean_squared_error(true_values,true_predictions)\n",
        "  errorMAE = mean_absolute_error(true_values,true_predictions)  \n",
        "  resultados.append({\n",
        "      'Ventana':ventana,\n",
        "      'MAE':errorMAE,\n",
        "      'RMSE':np.sqrt(errorMSE)\n",
        "  })\n",
        "  print(resultados[-1])"
      ],
      "metadata": {
        "id": "kxCAqXaxlelx"
      },
      "execution_count": null,
      "outputs": []
    },
    {
      "cell_type": "code",
      "source": [
        "resultados = pd.DataFrame(resultados)"
      ],
      "metadata": {
        "id": "PHxxGsqTFdde"
      },
      "execution_count": 21,
      "outputs": []
    },
    {
      "cell_type": "code",
      "source": [
        "resultados.tail()"
      ],
      "metadata": {
        "colab": {
          "base_uri": "https://localhost:8080/",
          "height": 206
        },
        "id": "Wyr1y8OXF2x6",
        "outputId": "01fa3592-cea1-4ec2-ca9b-6ab2a07b69b1"
      },
      "execution_count": 26,
      "outputs": [
        {
          "output_type": "execute_result",
          "data": {
            "text/plain": [
              "    Ventana         MAE        RMSE\n",
              "27       28  187.481929  234.525399\n",
              "28       29  187.948620  235.045506\n",
              "29       30  188.404314  235.559316\n",
              "30       31  188.921206  236.159206\n",
              "31       32  189.516661  236.851506"
            ],
            "text/html": [
              "\n",
              "  <div id=\"df-05a8af11-90ba-4275-95f8-52e45fe07688\">\n",
              "    <div class=\"colab-df-container\">\n",
              "      <div>\n",
              "<style scoped>\n",
              "    .dataframe tbody tr th:only-of-type {\n",
              "        vertical-align: middle;\n",
              "    }\n",
              "\n",
              "    .dataframe tbody tr th {\n",
              "        vertical-align: top;\n",
              "    }\n",
              "\n",
              "    .dataframe thead th {\n",
              "        text-align: right;\n",
              "    }\n",
              "</style>\n",
              "<table border=\"1\" class=\"dataframe\">\n",
              "  <thead>\n",
              "    <tr style=\"text-align: right;\">\n",
              "      <th></th>\n",
              "      <th>Ventana</th>\n",
              "      <th>MAE</th>\n",
              "      <th>RMSE</th>\n",
              "    </tr>\n",
              "  </thead>\n",
              "  <tbody>\n",
              "    <tr>\n",
              "      <th>27</th>\n",
              "      <td>28</td>\n",
              "      <td>187.481929</td>\n",
              "      <td>234.525399</td>\n",
              "    </tr>\n",
              "    <tr>\n",
              "      <th>28</th>\n",
              "      <td>29</td>\n",
              "      <td>187.948620</td>\n",
              "      <td>235.045506</td>\n",
              "    </tr>\n",
              "    <tr>\n",
              "      <th>29</th>\n",
              "      <td>30</td>\n",
              "      <td>188.404314</td>\n",
              "      <td>235.559316</td>\n",
              "    </tr>\n",
              "    <tr>\n",
              "      <th>30</th>\n",
              "      <td>31</td>\n",
              "      <td>188.921206</td>\n",
              "      <td>236.159206</td>\n",
              "    </tr>\n",
              "    <tr>\n",
              "      <th>31</th>\n",
              "      <td>32</td>\n",
              "      <td>189.516661</td>\n",
              "      <td>236.851506</td>\n",
              "    </tr>\n",
              "  </tbody>\n",
              "</table>\n",
              "</div>\n",
              "      <button class=\"colab-df-convert\" onclick=\"convertToInteractive('df-05a8af11-90ba-4275-95f8-52e45fe07688')\"\n",
              "              title=\"Convert this dataframe to an interactive table.\"\n",
              "              style=\"display:none;\">\n",
              "        \n",
              "  <svg xmlns=\"http://www.w3.org/2000/svg\" height=\"24px\"viewBox=\"0 0 24 24\"\n",
              "       width=\"24px\">\n",
              "    <path d=\"M0 0h24v24H0V0z\" fill=\"none\"/>\n",
              "    <path d=\"M18.56 5.44l.94 2.06.94-2.06 2.06-.94-2.06-.94-.94-2.06-.94 2.06-2.06.94zm-11 1L8.5 8.5l.94-2.06 2.06-.94-2.06-.94L8.5 2.5l-.94 2.06-2.06.94zm10 10l.94 2.06.94-2.06 2.06-.94-2.06-.94-.94-2.06-.94 2.06-2.06.94z\"/><path d=\"M17.41 7.96l-1.37-1.37c-.4-.4-.92-.59-1.43-.59-.52 0-1.04.2-1.43.59L10.3 9.45l-7.72 7.72c-.78.78-.78 2.05 0 2.83L4 21.41c.39.39.9.59 1.41.59.51 0 1.02-.2 1.41-.59l7.78-7.78 2.81-2.81c.8-.78.8-2.07 0-2.86zM5.41 20L4 18.59l7.72-7.72 1.47 1.35L5.41 20z\"/>\n",
              "  </svg>\n",
              "      </button>\n",
              "      \n",
              "  <style>\n",
              "    .colab-df-container {\n",
              "      display:flex;\n",
              "      flex-wrap:wrap;\n",
              "      gap: 12px;\n",
              "    }\n",
              "\n",
              "    .colab-df-convert {\n",
              "      background-color: #E8F0FE;\n",
              "      border: none;\n",
              "      border-radius: 50%;\n",
              "      cursor: pointer;\n",
              "      display: none;\n",
              "      fill: #1967D2;\n",
              "      height: 32px;\n",
              "      padding: 0 0 0 0;\n",
              "      width: 32px;\n",
              "    }\n",
              "\n",
              "    .colab-df-convert:hover {\n",
              "      background-color: #E2EBFA;\n",
              "      box-shadow: 0px 1px 2px rgba(60, 64, 67, 0.3), 0px 1px 3px 1px rgba(60, 64, 67, 0.15);\n",
              "      fill: #174EA6;\n",
              "    }\n",
              "\n",
              "    [theme=dark] .colab-df-convert {\n",
              "      background-color: #3B4455;\n",
              "      fill: #D2E3FC;\n",
              "    }\n",
              "\n",
              "    [theme=dark] .colab-df-convert:hover {\n",
              "      background-color: #434B5C;\n",
              "      box-shadow: 0px 1px 3px 1px rgba(0, 0, 0, 0.15);\n",
              "      filter: drop-shadow(0px 1px 2px rgba(0, 0, 0, 0.3));\n",
              "      fill: #FFFFFF;\n",
              "    }\n",
              "  </style>\n",
              "\n",
              "      <script>\n",
              "        const buttonEl =\n",
              "          document.querySelector('#df-05a8af11-90ba-4275-95f8-52e45fe07688 button.colab-df-convert');\n",
              "        buttonEl.style.display =\n",
              "          google.colab.kernel.accessAllowed ? 'block' : 'none';\n",
              "\n",
              "        async function convertToInteractive(key) {\n",
              "          const element = document.querySelector('#df-05a8af11-90ba-4275-95f8-52e45fe07688');\n",
              "          const dataTable =\n",
              "            await google.colab.kernel.invokeFunction('convertToInteractive',\n",
              "                                                     [key], {});\n",
              "          if (!dataTable) return;\n",
              "\n",
              "          const docLinkHtml = 'Like what you see? Visit the ' +\n",
              "            '<a target=\"_blank\" href=https://colab.research.google.com/notebooks/data_table.ipynb>data table notebook</a>'\n",
              "            + ' to learn more about interactive tables.';\n",
              "          element.innerHTML = '';\n",
              "          dataTable['output_type'] = 'display_data';\n",
              "          await google.colab.output.renderOutput(dataTable, element);\n",
              "          const docLink = document.createElement('div');\n",
              "          docLink.innerHTML = docLinkHtml;\n",
              "          element.appendChild(docLink);\n",
              "        }\n",
              "      </script>\n",
              "    </div>\n",
              "  </div>\n",
              "  "
            ]
          },
          "metadata": {},
          "execution_count": 26
        }
      ]
    },
    {
      "cell_type": "markdown",
      "source": [
        "Se grafica el error a medida que crece la ventana de predicción. Llega hasta un error RMSE de 236.85 cuando se predicen 32 horas."
      ],
      "metadata": {
        "id": "UnclofggHoAi"
      }
    },
    {
      "cell_type": "code",
      "source": [
        "resultados.plot(x='Ventana',figsize=(10,10))"
      ],
      "metadata": {
        "colab": {
          "base_uri": "https://localhost:8080/",
          "height": 623
        },
        "id": "_Y2BGTkyFTKF",
        "outputId": "c31481dc-5a1d-422e-eae6-bbbe65b8766b"
      },
      "execution_count": 22,
      "outputs": [
        {
          "output_type": "execute_result",
          "data": {
            "text/plain": [
              "<matplotlib.axes._subplots.AxesSubplot at 0x7f734bedbe90>"
            ]
          },
          "metadata": {},
          "execution_count": 22
        },
        {
          "output_type": "display_data",
          "data": {
            "text/plain": [
              "<Figure size 720x720 with 1 Axes>"
            ],
            "image/png": "[encoded data removed]"
          },
          "metadata": {
            "needs_background": "light"
          }
        }
      ]
    },
    {
      "cell_type": "code",
      "source": [
        "resultados.to_csv('./drive/MyDrive/DatosInvestigacion/resultados_prediccion_AR.csv',index=False)"
      ],
      "metadata": {
        "id": "gUWTwP0MF70U"
      },
      "execution_count": 24,
      "outputs": []
    },
    {
      "cell_type": "markdown",
      "source": [
        "## Guardado de datasets"
      ],
      "metadata": {
        "id": "9IYgW6qP2IWo"
      }
    },
    {
      "cell_type": "markdown",
      "source": [
        "Los datasets para entrenamiento y prueba se almacenarán en archivos diferentes."
      ],
      "metadata": {
        "id": "xVpqjDrN6dFn"
      }
    },
    {
      "cell_type": "code",
      "source": [
        "df_simple = df2015[['SRGLOAVG1H','TAMAX1H','TAMIN1H','RHMAX1H','RHMIN1H','PRSUM1H','PAAVG1H','PAMAX1H','PAMIN1H','WS1HA','WS1HX','WD1HA']]"
      ],
      "metadata": {
        "id": "DYLM6hcy6fbj"
      },
      "execution_count": null,
      "outputs": []
    },
    {
      "cell_type": "code",
      "source": [
        "train_size = int(len(df_simple)*0.8)"
      ],
      "metadata": {
        "id": "cLr1iXCW6wu2"
      },
      "execution_count": null,
      "outputs": []
    },
    {
      "cell_type": "code",
      "source": [
        "train_size"
      ],
      "metadata": {
        "colab": {
          "base_uri": "https://localhost:8080/"
        },
        "id": "KTKJHiu-7EkC",
        "outputId": "46bab5ee-97c9-49a2-f195-aa1895b81875"
      },
      "execution_count": null,
      "outputs": [
        {
          "output_type": "execute_result",
          "data": {
            "text/plain": [
              "14035"
            ]
          },
          "metadata": {},
          "execution_count": 56
        }
      ]
    },
    {
      "cell_type": "code",
      "source": [
        "df_train = df_simple.iloc[:train_size]\n",
        "df_test = df_simple.iloc[train_size:]"
      ],
      "metadata": {
        "id": "gjg15MJU6kP_"
      },
      "execution_count": null,
      "outputs": []
    },
    {
      "cell_type": "code",
      "source": [
        "df_train.to_csv('./drive/MyDrive/DatosInvestigacion/final_train_2015.csv')\n",
        "df_test.to_csv('./drive/MyDrive/DatosInvestigacion/final_test_2015.csv')"
      ],
      "metadata": {
        "id": "va937nyT7MCG"
      },
      "execution_count": null,
      "outputs": []
    },
    {
      "cell_type": "code",
      "source": [
        ""
      ],
      "metadata": {
        "id": "FY4i7ry17joz"
      },
      "execution_count": null,
      "outputs": []
    }
  ]
}