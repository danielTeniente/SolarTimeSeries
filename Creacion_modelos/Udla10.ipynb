{
  "nbformat": 4,
  "nbformat_minor": 0,
  "metadata": {
    "colab": {
      "name": "Udla11.ipynb",
      "provenance": [],
      "collapsed_sections": []
    },
    "kernelspec": {
      "name": "python3",
      "display_name": "Python 3"
    },
    "language_info": {
      "name": "python"
    }
  },
  "cells": [
    {
      "cell_type": "markdown",
      "source": [
        "# LSTM multivariado"
      ],
      "metadata": {
        "id": "SgLMR0gPz8F9"
      }
    },
    {
      "cell_type": "code",
      "execution_count": 1,
      "metadata": {
        "id": "FLh3QiRFz7Pi"
      },
      "outputs": [],
      "source": [
        "import numpy as np\n",
        "import matplotlib.pyplot as plt\n",
        "import pandas as pd\n",
        "from sklearn.metrics import mean_squared_error\n",
        "from sklearn.preprocessing import MinMaxScaler\n",
        "from tensorflow.keras.models import Sequential\n",
        "from tensorflow.keras.layers import Dense,LSTM,Activation\n",
        "from tensorflow import keras\n",
        "import tensorflow as tf"
      ]
    },
    {
      "cell_type": "code",
      "source": [
        "df = pd.read_csv('./drive/MyDrive/DatosInvestigacion/final_train_2015.csv', index_col=0, parse_dates=True)\n",
        "df = df.asfreq('h')"
      ],
      "metadata": {
        "id": "3i0SWTwG5WK2"
      },
      "execution_count": 2,
      "outputs": []
    },
    {
      "cell_type": "code",
      "source": [
        "df = df.between_time('08:00:00','17:00:00')\n",
        "df.head()"
      ],
      "metadata": {
        "colab": {
          "base_uri": "https://localhost:8080/",
          "height": 388
        },
        "id": "_THff7q3VBTI",
        "outputId": "dd51294a-1422-474f-96e9-b910027d9d8f"
      },
      "execution_count": 3,
      "outputs": [
        {
          "output_type": "execute_result",
          "data": {
            "text/html": [
              "\n",
              "  <div id=\"df-45ac34a8-db4b-4788-b54c-07a2d837a358\">\n",
              "    <div class=\"colab-df-container\">\n",
              "      <div>\n",
              "<style scoped>\n",
              "    .dataframe tbody tr th:only-of-type {\n",
              "        vertical-align: middle;\n",
              "    }\n",
              "\n",
              "    .dataframe tbody tr th {\n",
              "        vertical-align: top;\n",
              "    }\n",
              "\n",
              "    .dataframe thead th {\n",
              "        text-align: right;\n",
              "    }\n",
              "</style>\n",
              "<table border=\"1\" class=\"dataframe\">\n",
              "  <thead>\n",
              "    <tr style=\"text-align: right;\">\n",
              "      <th></th>\n",
              "      <th>DC</th>\n",
              "      <th>PAAVG1H</th>\n",
              "      <th>PAMAX1H</th>\n",
              "      <th>PAMIN1H</th>\n",
              "      <th>PRSUM1H</th>\n",
              "      <th>RHAVG1H</th>\n",
              "      <th>RHMAX1H</th>\n",
              "      <th>RHMIN1H</th>\n",
              "      <th>SRDIFAVG1H</th>\n",
              "      <th>SRDIFMAX1H</th>\n",
              "      <th>SRDIFMIN1H</th>\n",
              "      <th>SRDIFSUM1H</th>\n",
              "      <th>SRGLOAVG1H</th>\n",
              "      <th>SRGLOMAX1H</th>\n",
              "      <th>SRGLOMIN1H</th>\n",
              "      <th>SRGLOSUM1H</th>\n",
              "      <th>TAAVG1H</th>\n",
              "      <th>TAMAX1H</th>\n",
              "      <th>TAMIN1H</th>\n",
              "      <th>TS1AVG1H</th>\n",
              "      <th>TS1MAX1H</th>\n",
              "      <th>TS1MIN1H</th>\n",
              "      <th>TS2AVG1H</th>\n",
              "      <th>TS2MAX1H</th>\n",
              "      <th>TS2MIN1H</th>\n",
              "      <th>TS3AVG1H</th>\n",
              "      <th>TS3MAX1H</th>\n",
              "      <th>TS3MIN1H</th>\n",
              "      <th>TS4AVG1H</th>\n",
              "      <th>TS4MAX1H</th>\n",
              "      <th>TS4MIN1H</th>\n",
              "      <th>TS5AVG1H</th>\n",
              "      <th>TS5MAX1H</th>\n",
              "      <th>TS5MIN1H</th>\n",
              "      <th>TS6AVG1H</th>\n",
              "      <th>TS6MAX1H</th>\n",
              "      <th>TS6MIN1H</th>\n",
              "      <th>TS7AVG1H</th>\n",
              "      <th>TS7MAX1H</th>\n",
              "      <th>TS7MIN1H</th>\n",
              "      <th>WD1HA</th>\n",
              "      <th>WD1HX</th>\n",
              "      <th>WDGM</th>\n",
              "      <th>WGD1HX</th>\n",
              "      <th>WGDH</th>\n",
              "      <th>WR1H</th>\n",
              "      <th>WS1HA</th>\n",
              "      <th>WS1HM</th>\n",
              "      <th>WS1HX</th>\n",
              "    </tr>\n",
              "    <tr>\n",
              "      <th>Local_Time</th>\n",
              "      <th></th>\n",
              "      <th></th>\n",
              "      <th></th>\n",
              "      <th></th>\n",
              "      <th></th>\n",
              "      <th></th>\n",
              "      <th></th>\n",
              "      <th></th>\n",
              "      <th></th>\n",
              "      <th></th>\n",
              "      <th></th>\n",
              "      <th></th>\n",
              "      <th></th>\n",
              "      <th></th>\n",
              "      <th></th>\n",
              "      <th></th>\n",
              "      <th></th>\n",
              "      <th></th>\n",
              "      <th></th>\n",
              "      <th></th>\n",
              "      <th></th>\n",
              "      <th></th>\n",
              "      <th></th>\n",
              "      <th></th>\n",
              "      <th></th>\n",
              "      <th></th>\n",
              "      <th></th>\n",
              "      <th></th>\n",
              "      <th></th>\n",
              "      <th></th>\n",
              "      <th></th>\n",
              "      <th></th>\n",
              "      <th></th>\n",
              "      <th></th>\n",
              "      <th></th>\n",
              "      <th></th>\n",
              "      <th></th>\n",
              "      <th></th>\n",
              "      <th></th>\n",
              "      <th></th>\n",
              "      <th></th>\n",
              "      <th></th>\n",
              "      <th></th>\n",
              "      <th></th>\n",
              "      <th></th>\n",
              "      <th></th>\n",
              "      <th></th>\n",
              "      <th></th>\n",
              "      <th></th>\n",
              "    </tr>\n",
              "  </thead>\n",
              "  <tbody>\n",
              "    <tr>\n",
              "      <th>2015-01-01 08:00:00</th>\n",
              "      <td>13.9</td>\n",
              "      <td>743.5</td>\n",
              "      <td>743.7</td>\n",
              "      <td>743.1</td>\n",
              "      <td>0.0</td>\n",
              "      <td>94</td>\n",
              "      <td>96</td>\n",
              "      <td>89</td>\n",
              "      <td>97.0</td>\n",
              "      <td>145.0</td>\n",
              "      <td>37.0</td>\n",
              "      <td>5836.0</td>\n",
              "      <td>107.0</td>\n",
              "      <td>162.0</td>\n",
              "      <td>40.0</td>\n",
              "      <td>6404.0</td>\n",
              "      <td>10.6</td>\n",
              "      <td>12.2</td>\n",
              "      <td>9.5</td>\n",
              "      <td>10.3</td>\n",
              "      <td>11.9</td>\n",
              "      <td>9.3</td>\n",
              "      <td>10.6</td>\n",
              "      <td>12.0</td>\n",
              "      <td>9.7</td>\n",
              "      <td>11.1</td>\n",
              "      <td>12.1</td>\n",
              "      <td>10.5</td>\n",
              "      <td>12.1</td>\n",
              "      <td>12.3</td>\n",
              "      <td>12.0</td>\n",
              "      <td>13.7</td>\n",
              "      <td>13.8</td>\n",
              "      <td>13.7</td>\n",
              "      <td>15.0</td>\n",
              "      <td>15.0</td>\n",
              "      <td>15.0</td>\n",
              "      <td>15.0</td>\n",
              "      <td>15.0</td>\n",
              "      <td>15.0</td>\n",
              "      <td>42</td>\n",
              "      <td>91</td>\n",
              "      <td>54</td>\n",
              "      <td>46.0</td>\n",
              "      <td>7.0</td>\n",
              "      <td>37.0</td>\n",
              "      <td>2.5</td>\n",
              "      <td>0.4</td>\n",
              "      <td>4.6</td>\n",
              "    </tr>\n",
              "    <tr>\n",
              "      <th>2015-01-01 09:00:00</th>\n",
              "      <td>15.0</td>\n",
              "      <td>743.8</td>\n",
              "      <td>743.9</td>\n",
              "      <td>743.7</td>\n",
              "      <td>0.0</td>\n",
              "      <td>84</td>\n",
              "      <td>89</td>\n",
              "      <td>76</td>\n",
              "      <td>224.0</td>\n",
              "      <td>514.0</td>\n",
              "      <td>120.0</td>\n",
              "      <td>13469.0</td>\n",
              "      <td>394.0</td>\n",
              "      <td>781.0</td>\n",
              "      <td>136.0</td>\n",
              "      <td>23646.0</td>\n",
              "      <td>13.5</td>\n",
              "      <td>15.1</td>\n",
              "      <td>12.2</td>\n",
              "      <td>13.2</td>\n",
              "      <td>14.9</td>\n",
              "      <td>11.9</td>\n",
              "      <td>13.1</td>\n",
              "      <td>14.4</td>\n",
              "      <td>12.0</td>\n",
              "      <td>12.8</td>\n",
              "      <td>13.6</td>\n",
              "      <td>12.1</td>\n",
              "      <td>12.6</td>\n",
              "      <td>12.9</td>\n",
              "      <td>12.3</td>\n",
              "      <td>13.7</td>\n",
              "      <td>13.7</td>\n",
              "      <td>13.7</td>\n",
              "      <td>15.0</td>\n",
              "      <td>15.0</td>\n",
              "      <td>15.0</td>\n",
              "      <td>15.0</td>\n",
              "      <td>15.0</td>\n",
              "      <td>15.0</td>\n",
              "      <td>59</td>\n",
              "      <td>111</td>\n",
              "      <td>42</td>\n",
              "      <td>69.0</td>\n",
              "      <td>8.0</td>\n",
              "      <td>49.0</td>\n",
              "      <td>3.3</td>\n",
              "      <td>0.0</td>\n",
              "      <td>5.8</td>\n",
              "    </tr>\n",
              "    <tr>\n",
              "      <th>2015-01-01 10:00:00</th>\n",
              "      <td>15.0</td>\n",
              "      <td>743.7</td>\n",
              "      <td>743.9</td>\n",
              "      <td>743.4</td>\n",
              "      <td>0.0</td>\n",
              "      <td>68</td>\n",
              "      <td>79</td>\n",
              "      <td>57</td>\n",
              "      <td>219.0</td>\n",
              "      <td>329.0</td>\n",
              "      <td>97.0</td>\n",
              "      <td>13163.0</td>\n",
              "      <td>728.0</td>\n",
              "      <td>1197.0</td>\n",
              "      <td>373.0</td>\n",
              "      <td>43654.0</td>\n",
              "      <td>16.3</td>\n",
              "      <td>18.1</td>\n",
              "      <td>15.1</td>\n",
              "      <td>17.2</td>\n",
              "      <td>19.7</td>\n",
              "      <td>14.9</td>\n",
              "      <td>16.4</td>\n",
              "      <td>18.5</td>\n",
              "      <td>14.4</td>\n",
              "      <td>14.8</td>\n",
              "      <td>16.1</td>\n",
              "      <td>13.6</td>\n",
              "      <td>13.3</td>\n",
              "      <td>13.8</td>\n",
              "      <td>12.9</td>\n",
              "      <td>13.7</td>\n",
              "      <td>13.7</td>\n",
              "      <td>13.7</td>\n",
              "      <td>15.0</td>\n",
              "      <td>15.0</td>\n",
              "      <td>15.0</td>\n",
              "      <td>15.0</td>\n",
              "      <td>15.0</td>\n",
              "      <td>15.0</td>\n",
              "      <td>40</td>\n",
              "      <td>175</td>\n",
              "      <td>41</td>\n",
              "      <td>28.0</td>\n",
              "      <td>9.0</td>\n",
              "      <td>66.0</td>\n",
              "      <td>4.4</td>\n",
              "      <td>0.0</td>\n",
              "      <td>8.4</td>\n",
              "    </tr>\n",
              "    <tr>\n",
              "      <th>2015-01-01 11:00:00</th>\n",
              "      <td>14.7</td>\n",
              "      <td>743.2</td>\n",
              "      <td>743.4</td>\n",
              "      <td>742.8</td>\n",
              "      <td>0.0</td>\n",
              "      <td>62</td>\n",
              "      <td>66</td>\n",
              "      <td>58</td>\n",
              "      <td>365.0</td>\n",
              "      <td>471.0</td>\n",
              "      <td>284.0</td>\n",
              "      <td>21929.0</td>\n",
              "      <td>428.0</td>\n",
              "      <td>667.0</td>\n",
              "      <td>303.0</td>\n",
              "      <td>25688.0</td>\n",
              "      <td>17.2</td>\n",
              "      <td>18.4</td>\n",
              "      <td>16.7</td>\n",
              "      <td>18.8</td>\n",
              "      <td>20.0</td>\n",
              "      <td>18.0</td>\n",
              "      <td>18.0</td>\n",
              "      <td>18.7</td>\n",
              "      <td>17.4</td>\n",
              "      <td>16.0</td>\n",
              "      <td>16.2</td>\n",
              "      <td>15.9</td>\n",
              "      <td>14.0</td>\n",
              "      <td>14.2</td>\n",
              "      <td>13.8</td>\n",
              "      <td>13.8</td>\n",
              "      <td>13.8</td>\n",
              "      <td>13.7</td>\n",
              "      <td>15.0</td>\n",
              "      <td>15.0</td>\n",
              "      <td>15.0</td>\n",
              "      <td>15.0</td>\n",
              "      <td>15.0</td>\n",
              "      <td>15.0</td>\n",
              "      <td>35</td>\n",
              "      <td>153</td>\n",
              "      <td>26</td>\n",
              "      <td>29.0</td>\n",
              "      <td>10.0</td>\n",
              "      <td>61.0</td>\n",
              "      <td>4.0</td>\n",
              "      <td>0.0</td>\n",
              "      <td>8.1</td>\n",
              "    </tr>\n",
              "    <tr>\n",
              "      <th>2015-01-01 12:00:00</th>\n",
              "      <td>14.8</td>\n",
              "      <td>742.6</td>\n",
              "      <td>742.9</td>\n",
              "      <td>742.3</td>\n",
              "      <td>0.0</td>\n",
              "      <td>60</td>\n",
              "      <td>65</td>\n",
              "      <td>55</td>\n",
              "      <td>371.0</td>\n",
              "      <td>678.0</td>\n",
              "      <td>166.0</td>\n",
              "      <td>22262.0</td>\n",
              "      <td>403.0</td>\n",
              "      <td>879.0</td>\n",
              "      <td>172.0</td>\n",
              "      <td>24204.0</td>\n",
              "      <td>17.7</td>\n",
              "      <td>18.5</td>\n",
              "      <td>17.2</td>\n",
              "      <td>18.1</td>\n",
              "      <td>18.6</td>\n",
              "      <td>17.4</td>\n",
              "      <td>17.5</td>\n",
              "      <td>17.9</td>\n",
              "      <td>17.1</td>\n",
              "      <td>16.0</td>\n",
              "      <td>16.3</td>\n",
              "      <td>15.9</td>\n",
              "      <td>14.4</td>\n",
              "      <td>14.5</td>\n",
              "      <td>14.2</td>\n",
              "      <td>13.9</td>\n",
              "      <td>13.9</td>\n",
              "      <td>13.8</td>\n",
              "      <td>15.0</td>\n",
              "      <td>15.0</td>\n",
              "      <td>15.0</td>\n",
              "      <td>15.0</td>\n",
              "      <td>15.0</td>\n",
              "      <td>15.0</td>\n",
              "      <td>34</td>\n",
              "      <td>162</td>\n",
              "      <td>40</td>\n",
              "      <td>7.0</td>\n",
              "      <td>11.0</td>\n",
              "      <td>54.0</td>\n",
              "      <td>3.5</td>\n",
              "      <td>0.0</td>\n",
              "      <td>7.6</td>\n",
              "    </tr>\n",
              "  </tbody>\n",
              "</table>\n",
              "</div>\n",
              "      <button class=\"colab-df-convert\" onclick=\"convertToInteractive('df-45ac34a8-db4b-4788-b54c-07a2d837a358')\"\n",
              "              title=\"Convert this dataframe to an interactive table.\"\n",
              "              style=\"display:none;\">\n",
              "        \n",
              "  <svg xmlns=\"http://www.w3.org/2000/svg\" height=\"24px\"viewBox=\"0 0 24 24\"\n",
              "       width=\"24px\">\n",
              "    <path d=\"M0 0h24v24H0V0z\" fill=\"none\"/>\n",
              "    <path d=\"M18.56 5.44l.94 2.06.94-2.06 2.06-.94-2.06-.94-.94-2.06-.94 2.06-2.06.94zm-11 1L8.5 8.5l.94-2.06 2.06-.94-2.06-.94L8.5 2.5l-.94 2.06-2.06.94zm10 10l.94 2.06.94-2.06 2.06-.94-2.06-.94-.94-2.06-.94 2.06-2.06.94z\"/><path d=\"M17.41 7.96l-1.37-1.37c-.4-.4-.92-.59-1.43-.59-.52 0-1.04.2-1.43.59L10.3 9.45l-7.72 7.72c-.78.78-.78 2.05 0 2.83L4 21.41c.39.39.9.59 1.41.59.51 0 1.02-.2 1.41-.59l7.78-7.78 2.81-2.81c.8-.78.8-2.07 0-2.86zM5.41 20L4 18.59l7.72-7.72 1.47 1.35L5.41 20z\"/>\n",
              "  </svg>\n",
              "      </button>\n",
              "      \n",
              "  <style>\n",
              "    .colab-df-container {\n",
              "      display:flex;\n",
              "      flex-wrap:wrap;\n",
              "      gap: 12px;\n",
              "    }\n",
              "\n",
              "    .colab-df-convert {\n",
              "      background-color: #E8F0FE;\n",
              "      border: none;\n",
              "      border-radius: 50%;\n",
              "      cursor: pointer;\n",
              "      display: none;\n",
              "      fill: #1967D2;\n",
              "      height: 32px;\n",
              "      padding: 0 0 0 0;\n",
              "      width: 32px;\n",
              "    }\n",
              "\n",
              "    .colab-df-convert:hover {\n",
              "      background-color: #E2EBFA;\n",
              "      box-shadow: 0px 1px 2px rgba(60, 64, 67, 0.3), 0px 1px 3px 1px rgba(60, 64, 67, 0.15);\n",
              "      fill: #174EA6;\n",
              "    }\n",
              "\n",
              "    [theme=dark] .colab-df-convert {\n",
              "      background-color: #3B4455;\n",
              "      fill: #D2E3FC;\n",
              "    }\n",
              "\n",
              "    [theme=dark] .colab-df-convert:hover {\n",
              "      background-color: #434B5C;\n",
              "      box-shadow: 0px 1px 3px 1px rgba(0, 0, 0, 0.15);\n",
              "      filter: drop-shadow(0px 1px 2px rgba(0, 0, 0, 0.3));\n",
              "      fill: #FFFFFF;\n",
              "    }\n",
              "  </style>\n",
              "\n",
              "      <script>\n",
              "        const buttonEl =\n",
              "          document.querySelector('#df-45ac34a8-db4b-4788-b54c-07a2d837a358 button.colab-df-convert');\n",
              "        buttonEl.style.display =\n",
              "          google.colab.kernel.accessAllowed ? 'block' : 'none';\n",
              "\n",
              "        async function convertToInteractive(key) {\n",
              "          const element = document.querySelector('#df-45ac34a8-db4b-4788-b54c-07a2d837a358');\n",
              "          const dataTable =\n",
              "            await google.colab.kernel.invokeFunction('convertToInteractive',\n",
              "                                                     [key], {});\n",
              "          if (!dataTable) return;\n",
              "\n",
              "          const docLinkHtml = 'Like what you see? Visit the ' +\n",
              "            '<a target=\"_blank\" href=https://colab.research.google.com/notebooks/data_table.ipynb>data table notebook</a>'\n",
              "            + ' to learn more about interactive tables.';\n",
              "          element.innerHTML = '';\n",
              "          dataTable['output_type'] = 'display_data';\n",
              "          await google.colab.output.renderOutput(dataTable, element);\n",
              "          const docLink = document.createElement('div');\n",
              "          docLink.innerHTML = docLinkHtml;\n",
              "          element.appendChild(docLink);\n",
              "        }\n",
              "      </script>\n",
              "    </div>\n",
              "  </div>\n",
              "  "
            ],
            "text/plain": [
              "                       DC  PAAVG1H  PAMAX1H  PAMIN1H  ...  WR1H  WS1HA  WS1HM  WS1HX\n",
              "Local_Time                                            ...                           \n",
              "2015-01-01 08:00:00  13.9    743.5    743.7    743.1  ...  37.0    2.5    0.4    4.6\n",
              "2015-01-01 09:00:00  15.0    743.8    743.9    743.7  ...  49.0    3.3    0.0    5.8\n",
              "2015-01-01 10:00:00  15.0    743.7    743.9    743.4  ...  66.0    4.4    0.0    8.4\n",
              "2015-01-01 11:00:00  14.7    743.2    743.4    742.8  ...  61.0    4.0    0.0    8.1\n",
              "2015-01-01 12:00:00  14.8    742.6    742.9    742.3  ...  54.0    3.5    0.0    7.6\n",
              "\n",
              "[5 rows x 49 columns]"
            ]
          },
          "metadata": {},
          "execution_count": 3
        }
      ]
    },
    {
      "cell_type": "code",
      "source": [
        "df = df[['SRGLOAVG1H','TAMAX1H','WS1HA','RHMAX1H']]"
      ],
      "metadata": {
        "id": "BGwzaZk0VDJf"
      },
      "execution_count": 4,
      "outputs": []
    },
    {
      "cell_type": "code",
      "source": [
        "df_test = pd.read_csv('./drive/MyDrive/DatosInvestigacion/final_test_2015.csv', index_col=0, parse_dates=True)\n",
        "df_test = df_test.asfreq('h')"
      ],
      "metadata": {
        "id": "xTzWfxL9VQzH"
      },
      "execution_count": 5,
      "outputs": []
    },
    {
      "cell_type": "code",
      "source": [
        "df_test = df_test[['SRGLOAVG1H','TAMAX1H','WS1HA','RHMAX1H']]"
      ],
      "metadata": {
        "id": "cGY_VaYfVV8r"
      },
      "execution_count": 6,
      "outputs": []
    },
    {
      "cell_type": "code",
      "source": [
        "df_test = df_test.between_time('08:00:00','17:00:00')"
      ],
      "metadata": {
        "id": "9JE_HR0kVXxD"
      },
      "execution_count": 7,
      "outputs": []
    },
    {
      "cell_type": "code",
      "source": [
        "df_test.head()"
      ],
      "metadata": {
        "colab": {
          "base_uri": "https://localhost:8080/",
          "height": 238
        },
        "id": "Ad1v1As5Veib",
        "outputId": "b3ac400a-0165-444a-fb20-bf1b06466a64"
      },
      "execution_count": 57,
      "outputs": [
        {
          "output_type": "execute_result",
          "data": {
            "text/html": [
              "\n",
              "  <div id=\"df-a79c8ed2-856a-4b1a-a471-34fefa9db2f1\">\n",
              "    <div class=\"colab-df-container\">\n",
              "      <div>\n",
              "<style scoped>\n",
              "    .dataframe tbody tr th:only-of-type {\n",
              "        vertical-align: middle;\n",
              "    }\n",
              "\n",
              "    .dataframe tbody tr th {\n",
              "        vertical-align: top;\n",
              "    }\n",
              "\n",
              "    .dataframe thead th {\n",
              "        text-align: right;\n",
              "    }\n",
              "</style>\n",
              "<table border=\"1\" class=\"dataframe\">\n",
              "  <thead>\n",
              "    <tr style=\"text-align: right;\">\n",
              "      <th></th>\n",
              "      <th>SRGLOAVG1H</th>\n",
              "      <th>TAMAX1H</th>\n",
              "      <th>WS1HA</th>\n",
              "      <th>RHMAX1H</th>\n",
              "    </tr>\n",
              "    <tr>\n",
              "      <th>Local_Time</th>\n",
              "      <th></th>\n",
              "      <th></th>\n",
              "      <th></th>\n",
              "      <th></th>\n",
              "    </tr>\n",
              "  </thead>\n",
              "  <tbody>\n",
              "    <tr>\n",
              "      <th>2015-10-20 08:00:00</th>\n",
              "      <td>222.0</td>\n",
              "      <td>13.9</td>\n",
              "      <td>2.2</td>\n",
              "      <td>88</td>\n",
              "    </tr>\n",
              "    <tr>\n",
              "      <th>2015-10-20 09:00:00</th>\n",
              "      <td>660.0</td>\n",
              "      <td>16.0</td>\n",
              "      <td>4.5</td>\n",
              "      <td>82</td>\n",
              "    </tr>\n",
              "    <tr>\n",
              "      <th>2015-10-20 10:00:00</th>\n",
              "      <td>736.0</td>\n",
              "      <td>17.8</td>\n",
              "      <td>4.7</td>\n",
              "      <td>73</td>\n",
              "    </tr>\n",
              "    <tr>\n",
              "      <th>2015-10-20 11:00:00</th>\n",
              "      <td>402.0</td>\n",
              "      <td>17.4</td>\n",
              "      <td>4.6</td>\n",
              "      <td>70</td>\n",
              "    </tr>\n",
              "    <tr>\n",
              "      <th>2015-10-20 12:00:00</th>\n",
              "      <td>533.0</td>\n",
              "      <td>18.8</td>\n",
              "      <td>4.5</td>\n",
              "      <td>68</td>\n",
              "    </tr>\n",
              "  </tbody>\n",
              "</table>\n",
              "</div>\n",
              "      <button class=\"colab-df-convert\" onclick=\"convertToInteractive('df-a79c8ed2-856a-4b1a-a471-34fefa9db2f1')\"\n",
              "              title=\"Convert this dataframe to an interactive table.\"\n",
              "              style=\"display:none;\">\n",
              "        \n",
              "  <svg xmlns=\"http://www.w3.org/2000/svg\" height=\"24px\"viewBox=\"0 0 24 24\"\n",
              "       width=\"24px\">\n",
              "    <path d=\"M0 0h24v24H0V0z\" fill=\"none\"/>\n",
              "    <path d=\"M18.56 5.44l.94 2.06.94-2.06 2.06-.94-2.06-.94-.94-2.06-.94 2.06-2.06.94zm-11 1L8.5 8.5l.94-2.06 2.06-.94-2.06-.94L8.5 2.5l-.94 2.06-2.06.94zm10 10l.94 2.06.94-2.06 2.06-.94-2.06-.94-.94-2.06-.94 2.06-2.06.94z\"/><path d=\"M17.41 7.96l-1.37-1.37c-.4-.4-.92-.59-1.43-.59-.52 0-1.04.2-1.43.59L10.3 9.45l-7.72 7.72c-.78.78-.78 2.05 0 2.83L4 21.41c.39.39.9.59 1.41.59.51 0 1.02-.2 1.41-.59l7.78-7.78 2.81-2.81c.8-.78.8-2.07 0-2.86zM5.41 20L4 18.59l7.72-7.72 1.47 1.35L5.41 20z\"/>\n",
              "  </svg>\n",
              "      </button>\n",
              "      \n",
              "  <style>\n",
              "    .colab-df-container {\n",
              "      display:flex;\n",
              "      flex-wrap:wrap;\n",
              "      gap: 12px;\n",
              "    }\n",
              "\n",
              "    .colab-df-convert {\n",
              "      background-color: #E8F0FE;\n",
              "      border: none;\n",
              "      border-radius: 50%;\n",
              "      cursor: pointer;\n",
              "      display: none;\n",
              "      fill: #1967D2;\n",
              "      height: 32px;\n",
              "      padding: 0 0 0 0;\n",
              "      width: 32px;\n",
              "    }\n",
              "\n",
              "    .colab-df-convert:hover {\n",
              "      background-color: #E2EBFA;\n",
              "      box-shadow: 0px 1px 2px rgba(60, 64, 67, 0.3), 0px 1px 3px 1px rgba(60, 64, 67, 0.15);\n",
              "      fill: #174EA6;\n",
              "    }\n",
              "\n",
              "    [theme=dark] .colab-df-convert {\n",
              "      background-color: #3B4455;\n",
              "      fill: #D2E3FC;\n",
              "    }\n",
              "\n",
              "    [theme=dark] .colab-df-convert:hover {\n",
              "      background-color: #434B5C;\n",
              "      box-shadow: 0px 1px 3px 1px rgba(0, 0, 0, 0.15);\n",
              "      filter: drop-shadow(0px 1px 2px rgba(0, 0, 0, 0.3));\n",
              "      fill: #FFFFFF;\n",
              "    }\n",
              "  </style>\n",
              "\n",
              "      <script>\n",
              "        const buttonEl =\n",
              "          document.querySelector('#df-a79c8ed2-856a-4b1a-a471-34fefa9db2f1 button.colab-df-convert');\n",
              "        buttonEl.style.display =\n",
              "          google.colab.kernel.accessAllowed ? 'block' : 'none';\n",
              "\n",
              "        async function convertToInteractive(key) {\n",
              "          const element = document.querySelector('#df-a79c8ed2-856a-4b1a-a471-34fefa9db2f1');\n",
              "          const dataTable =\n",
              "            await google.colab.kernel.invokeFunction('convertToInteractive',\n",
              "                                                     [key], {});\n",
              "          if (!dataTable) return;\n",
              "\n",
              "          const docLinkHtml = 'Like what you see? Visit the ' +\n",
              "            '<a target=\"_blank\" href=https://colab.research.google.com/notebooks/data_table.ipynb>data table notebook</a>'\n",
              "            + ' to learn more about interactive tables.';\n",
              "          element.innerHTML = '';\n",
              "          dataTable['output_type'] = 'display_data';\n",
              "          await google.colab.output.renderOutput(dataTable, element);\n",
              "          const docLink = document.createElement('div');\n",
              "          docLink.innerHTML = docLinkHtml;\n",
              "          element.appendChild(docLink);\n",
              "        }\n",
              "      </script>\n",
              "    </div>\n",
              "  </div>\n",
              "  "
            ],
            "text/plain": [
              "                     SRGLOAVG1H  TAMAX1H  WS1HA  RHMAX1H\n",
              "Local_Time                                              \n",
              "2015-10-20 08:00:00       222.0     13.9    2.2       88\n",
              "2015-10-20 09:00:00       660.0     16.0    4.5       82\n",
              "2015-10-20 10:00:00       736.0     17.8    4.7       73\n",
              "2015-10-20 11:00:00       402.0     17.4    4.6       70\n",
              "2015-10-20 12:00:00       533.0     18.8    4.5       68"
            ]
          },
          "metadata": {},
          "execution_count": 57
        }
      ]
    },
    {
      "cell_type": "markdown",
      "source": [
        "## Variables exógenas como entrada"
      ],
      "metadata": {
        "id": "OZM6JlxtVlTU"
      }
    },
    {
      "cell_type": "code",
      "source": [
        "scaler = MinMaxScaler()"
      ],
      "metadata": {
        "id": "2cUNRcf_Vfvs"
      },
      "execution_count": 58,
      "outputs": []
    },
    {
      "cell_type": "code",
      "source": [
        "scaler.fit(df)"
      ],
      "metadata": {
        "colab": {
          "base_uri": "https://localhost:8080/"
        },
        "id": "hGOKGIpWV36j",
        "outputId": "81bf2692-c100-42ca-b0cf-5b9be7dabb75"
      },
      "execution_count": 59,
      "outputs": [
        {
          "output_type": "execute_result",
          "data": {
            "text/plain": [
              "MinMaxScaler()"
            ]
          },
          "metadata": {},
          "execution_count": 59
        }
      ]
    },
    {
      "cell_type": "code",
      "source": [
        "scaled_train = scaler.transform(df)\n",
        "scaled_test = scaler.transform(df_test)"
      ],
      "metadata": {
        "id": "AitemFDvV6xX"
      },
      "execution_count": 60,
      "outputs": []
    },
    {
      "cell_type": "code",
      "source": [
        "scaled_train[6:10,0]"
      ],
      "metadata": {
        "colab": {
          "base_uri": "https://localhost:8080/"
        },
        "id": "MuS87U9qV_jz",
        "outputId": "4bb2fb3a-7c71-4b6c-aae1-b44e25f964fe"
      },
      "execution_count": 61,
      "outputs": [
        {
          "output_type": "execute_result",
          "data": {
            "text/plain": [
              "array([0.31837074, 0.48212801, 0.24438903, 0.10141313])"
            ]
          },
          "metadata": {},
          "execution_count": 61
        }
      ]
    },
    {
      "cell_type": "code",
      "source": [
        "scaled_train[:,1:]"
      ],
      "metadata": {
        "colab": {
          "base_uri": "https://localhost:8080/"
        },
        "id": "b7qEFfYUWUDD",
        "outputId": "be54ee15-9894-4458-d72c-d921f3afe317"
      },
      "execution_count": 62,
      "outputs": [
        {
          "output_type": "execute_result",
          "data": {
            "text/plain": [
              "array([[0.40860215, 0.26966292, 0.94285714],\n",
              "       [0.56451613, 0.35955056, 0.84285714],\n",
              "       [0.72580645, 0.48314607, 0.7       ],\n",
              "       ...,\n",
              "       [0.68817204, 0.41573034, 0.48571429],\n",
              "       [0.68817204, 0.3258427 , 0.6       ],\n",
              "       [0.62365591, 0.20224719, 0.81428571]])"
            ]
          },
          "metadata": {},
          "execution_count": 62
        }
      ]
    },
    {
      "cell_type": "code",
      "source": [
        "from keras.preprocessing.sequence import TimeseriesGenerator"
      ],
      "metadata": {
        "id": "Kua86tlkWBE_"
      },
      "execution_count": 63,
      "outputs": []
    },
    {
      "cell_type": "code",
      "source": [
        "n_input = 6 # horas hacia atrás, features\n",
        "n_output = 6 # horas predichas\n",
        "n_features = 3 # variables de entrada\n",
        "generator = TimeseriesGenerator(scaled_train[:,1:], scaled_train[:,0], length=n_input, batch_size=n_output)"
      ],
      "metadata": {
        "id": "BzwMc-6vWGhq"
      },
      "execution_count": 72,
      "outputs": []
    },
    {
      "cell_type": "code",
      "source": [
        "X,y = generator[0]"
      ],
      "metadata": {
        "id": "fA1wWo_IW_uO"
      },
      "execution_count": 73,
      "outputs": []
    },
    {
      "cell_type": "code",
      "source": [
        "X"
      ],
      "metadata": {
        "colab": {
          "base_uri": "https://localhost:8080/"
        },
        "id": "A3uK4oPvFDtN",
        "outputId": "05117814-163b-4168-f237-e850896303cf"
      },
      "execution_count": 74,
      "outputs": [
        {
          "output_type": "execute_result",
          "data": {
            "text/plain": [
              "array([[[0.40860215, 0.26966292, 0.94285714],\n",
              "        [0.56451613, 0.35955056, 0.84285714],\n",
              "        [0.72580645, 0.48314607, 0.7       ],\n",
              "        [0.74193548, 0.43820225, 0.51428571],\n",
              "        [0.74731183, 0.38202247, 0.5       ],\n",
              "        [0.83333333, 0.30337079, 0.44285714]],\n",
              "\n",
              "       [[0.56451613, 0.35955056, 0.84285714],\n",
              "        [0.72580645, 0.48314607, 0.7       ],\n",
              "        [0.74193548, 0.43820225, 0.51428571],\n",
              "        [0.74731183, 0.38202247, 0.5       ],\n",
              "        [0.83333333, 0.30337079, 0.44285714],\n",
              "        [0.81182796, 0.34831461, 0.38571429]],\n",
              "\n",
              "       [[0.72580645, 0.48314607, 0.7       ],\n",
              "        [0.74193548, 0.43820225, 0.51428571],\n",
              "        [0.74731183, 0.38202247, 0.5       ],\n",
              "        [0.83333333, 0.30337079, 0.44285714],\n",
              "        [0.81182796, 0.34831461, 0.38571429],\n",
              "        [0.8655914 , 0.23595506, 0.4       ]],\n",
              "\n",
              "       [[0.74193548, 0.43820225, 0.51428571],\n",
              "        [0.74731183, 0.38202247, 0.5       ],\n",
              "        [0.83333333, 0.30337079, 0.44285714],\n",
              "        [0.81182796, 0.34831461, 0.38571429],\n",
              "        [0.8655914 , 0.23595506, 0.4       ],\n",
              "        [0.86021505, 0.08988764, 0.81428571]],\n",
              "\n",
              "       [[0.74731183, 0.38202247, 0.5       ],\n",
              "        [0.83333333, 0.30337079, 0.44285714],\n",
              "        [0.81182796, 0.34831461, 0.38571429],\n",
              "        [0.8655914 , 0.23595506, 0.4       ],\n",
              "        [0.86021505, 0.08988764, 0.81428571],\n",
              "        [0.58602151, 0.53932584, 0.92857143]],\n",
              "\n",
              "       [[0.83333333, 0.30337079, 0.44285714],\n",
              "        [0.81182796, 0.34831461, 0.38571429],\n",
              "        [0.8655914 , 0.23595506, 0.4       ],\n",
              "        [0.86021505, 0.08988764, 0.81428571],\n",
              "        [0.58602151, 0.53932584, 0.92857143],\n",
              "        [0.45698925, 0.30337079, 0.85714286]]])"
            ]
          },
          "metadata": {},
          "execution_count": 74
        }
      ]
    },
    {
      "cell_type": "code",
      "source": [
        "y"
      ],
      "metadata": {
        "colab": {
          "base_uri": "https://localhost:8080/"
        },
        "id": "KLnsRNsyFFE-",
        "outputId": "8c012a98-49d9-4fdf-dcce-fb41e6171766"
      },
      "execution_count": 75,
      "outputs": [
        {
          "output_type": "execute_result",
          "data": {
            "text/plain": [
              "array([0.31837074, 0.48212801, 0.24438903, 0.10141313, 0.06899418,\n",
              "       0.08645054])"
            ]
          },
          "metadata": {},
          "execution_count": 75
        }
      ]
    },
    {
      "cell_type": "code",
      "source": [
        "X.shape"
      ],
      "metadata": {
        "colab": {
          "base_uri": "https://localhost:8080/"
        },
        "id": "4a5YXCB7ewev",
        "outputId": "04507db7-dcca-4836-f265-8f23df922b35"
      },
      "execution_count": 76,
      "outputs": [
        {
          "output_type": "execute_result",
          "data": {
            "text/plain": [
              "(6, 6, 3)"
            ]
          },
          "metadata": {},
          "execution_count": 76
        }
      ]
    },
    {
      "cell_type": "code",
      "source": [
        "X_train = []"
      ],
      "metadata": {
        "id": "sDPNVLKmf6ad"
      },
      "execution_count": 77,
      "outputs": []
    },
    {
      "cell_type": "code",
      "source": [
        "y_train = []"
      ],
      "metadata": {
        "id": "XGv_PSUfX6KG"
      },
      "execution_count": 78,
      "outputs": []
    },
    {
      "cell_type": "code",
      "source": [
        "generator[0][1]"
      ],
      "metadata": {
        "colab": {
          "base_uri": "https://localhost:8080/"
        },
        "id": "B8yiobP6gJm2",
        "outputId": "b52c168e-47ef-4258-c1b7-8a53f642d9c1"
      },
      "execution_count": 79,
      "outputs": [
        {
          "output_type": "execute_result",
          "data": {
            "text/plain": [
              "array([0.31837074, 0.48212801, 0.24438903, 0.10141313, 0.06899418,\n",
              "       0.08645054])"
            ]
          },
          "metadata": {},
          "execution_count": 79
        }
      ]
    },
    {
      "cell_type": "code",
      "source": [
        "for batch in generator:\n",
        "  if(len(batch[1])==6):\n",
        "    X_train.append(batch[0][0])\n",
        "    y_train.append(batch[1])\n"
      ],
      "metadata": {
        "id": "7J9UMlSUf0re"
      },
      "execution_count": 80,
      "outputs": []
    },
    {
      "cell_type": "markdown",
      "source": [
        "Se encuentran los datos de las variables seis horas antes y la radiación solar de las seis horas siguientes."
      ],
      "metadata": {
        "id": "p3ZbhdFzghRe"
      }
    },
    {
      "cell_type": "code",
      "source": [
        "X_train = np.array(X_train)"
      ],
      "metadata": {
        "id": "7bsqksgxgfVE"
      },
      "execution_count": 81,
      "outputs": []
    },
    {
      "cell_type": "code",
      "source": [
        "X_train.shape"
      ],
      "metadata": {
        "colab": {
          "base_uri": "https://localhost:8080/"
        },
        "id": "8nQ2G5rKYtSh",
        "outputId": "dfb388ba-8fb7-4672-80d1-190d63f3f7c0"
      },
      "execution_count": 82,
      "outputs": [
        {
          "output_type": "execute_result",
          "data": {
            "text/plain": [
              "(485, 6, 3)"
            ]
          },
          "metadata": {},
          "execution_count": 82
        }
      ]
    },
    {
      "cell_type": "code",
      "source": [
        "y_train = np.array(y_train)"
      ],
      "metadata": {
        "id": "Aj32ufUEYEDm"
      },
      "execution_count": 83,
      "outputs": []
    },
    {
      "cell_type": "code",
      "source": [
        "y_train.shape"
      ],
      "metadata": {
        "colab": {
          "base_uri": "https://localhost:8080/"
        },
        "id": "v99OJI61Y1M9",
        "outputId": "31f727ee-c82d-4dbb-c8b1-40a52efd021f"
      },
      "execution_count": 84,
      "outputs": [
        {
          "output_type": "execute_result",
          "data": {
            "text/plain": [
              "(485, 6)"
            ]
          },
          "metadata": {},
          "execution_count": 84
        }
      ]
    },
    {
      "cell_type": "markdown",
      "source": [
        "## Creación del modelo"
      ],
      "metadata": {
        "id": "PU04ljvHYrti"
      }
    },
    {
      "cell_type": "code",
      "source": [
        "# define model\n",
        "model = Sequential()\n",
        "model.add(LSTM(100, activation='relu', input_shape=(n_input, n_features)))\n",
        "model.add(Dense(n_output))\n",
        "model.compile(optimizer='adam', loss='mse')"
      ],
      "metadata": {
        "id": "hTX7asghXIOq"
      },
      "execution_count": 94,
      "outputs": []
    },
    {
      "cell_type": "code",
      "source": [
        "model.summary()"
      ],
      "metadata": {
        "colab": {
          "base_uri": "https://localhost:8080/"
        },
        "id": "gr9vP93qY8Tt",
        "outputId": "4e239e63-5ca0-43b1-cc90-4cc9229248c7"
      },
      "execution_count": 95,
      "outputs": [
        {
          "output_type": "stream",
          "name": "stdout",
          "text": [
            "Model: \"sequential_3\"\n",
            "_________________________________________________________________\n",
            " Layer (type)                Output Shape              Param #   \n",
            "=================================================================\n",
            " lstm_3 (LSTM)               (None, 100)               41600     \n",
            "                                                                 \n",
            " dense_3 (Dense)             (None, 6)                 606       \n",
            "                                                                 \n",
            "=================================================================\n",
            "Total params: 42,206\n",
            "Trainable params: 42,206\n",
            "Non-trainable params: 0\n",
            "_________________________________________________________________\n"
          ]
        }
      ]
    },
    {
      "cell_type": "code",
      "source": [
        "# fit model\n",
        "model.fit(X_train,y_train,epochs=10)\n",
        "#model.fit(generator,epochs=5)"
      ],
      "metadata": {
        "colab": {
          "base_uri": "https://localhost:8080/"
        },
        "id": "jSOhX82PW_WJ",
        "outputId": "99445754-8e51-42f1-fce3-694d9be62cab"
      },
      "execution_count": 96,
      "outputs": [
        {
          "output_type": "stream",
          "name": "stdout",
          "text": [
            "Epoch 1/10\n",
            "16/16 [==============================] - 2s 9ms/step - loss: 0.1132\n",
            "Epoch 2/10\n",
            "16/16 [==============================] - 0s 9ms/step - loss: 0.0502\n",
            "Epoch 3/10\n",
            "16/16 [==============================] - 0s 9ms/step - loss: 0.0397\n",
            "Epoch 4/10\n",
            "16/16 [==============================] - 0s 9ms/step - loss: 0.0395\n",
            "Epoch 5/10\n",
            "16/16 [==============================] - 0s 10ms/step - loss: 0.0382\n",
            "Epoch 6/10\n",
            "16/16 [==============================] - 0s 9ms/step - loss: 0.0379\n",
            "Epoch 7/10\n",
            "16/16 [==============================] - 0s 9ms/step - loss: 0.0366\n",
            "Epoch 8/10\n",
            "16/16 [==============================] - 0s 9ms/step - loss: 0.0366\n",
            "Epoch 9/10\n",
            "16/16 [==============================] - 0s 9ms/step - loss: 0.0352\n",
            "Epoch 10/10\n",
            "16/16 [==============================] - 0s 10ms/step - loss: 0.0352\n"
          ]
        },
        {
          "output_type": "execute_result",
          "data": {
            "text/plain": [
              "<keras.callbacks.History at 0x7f4a475be690>"
            ]
          },
          "metadata": {},
          "execution_count": 96
        }
      ]
    },
    {
      "cell_type": "code",
      "source": [
        "loss_per_epoch = model.history.history['loss']\n",
        "plt.plot(range(len(loss_per_epoch)),loss_per_epoch)"
      ],
      "metadata": {
        "colab": {
          "base_uri": "https://localhost:8080/",
          "height": 282
        },
        "id": "il-AzC3tXD0W",
        "outputId": "3a7a0314-e273-4ca8-ad81-887d20845e88"
      },
      "execution_count": 97,
      "outputs": [
        {
          "output_type": "execute_result",
          "data": {
            "text/plain": [
              "[<matplotlib.lines.Line2D at 0x7f4a472b99d0>]"
            ]
          },
          "metadata": {},
          "execution_count": 97
        },
        {
          "output_type": "display_data",
          "data": {
            "image/png": "[encoded data removed]",
            "text/plain": [
              "<Figure size 432x288 with 1 Axes>"
            ]
          },
          "metadata": {
            "needs_background": "light"
          }
        }
      ]
    },
    {
      "cell_type": "code",
      "source": [
        "X_train[0].shape"
      ],
      "metadata": {
        "colab": {
          "base_uri": "https://localhost:8080/"
        },
        "id": "lEe_YutwXH32",
        "outputId": "8d288ba2-c8a6-4030-d035-2a384cfcbff7"
      },
      "execution_count": 98,
      "outputs": [
        {
          "output_type": "execute_result",
          "data": {
            "text/plain": [
              "(6, 3)"
            ]
          },
          "metadata": {},
          "execution_count": 98
        }
      ]
    },
    {
      "cell_type": "markdown",
      "source": [
        "Datos de las últimas seis horas de entrenamiento"
      ],
      "metadata": {
        "id": "I0THV7FHZ_Xy"
      }
    },
    {
      "cell_type": "code",
      "source": [
        "eval = scaled_train[-6:,1:].reshape(1,6,3)"
      ],
      "metadata": {
        "id": "bgyIyfQdZtPt"
      },
      "execution_count": 99,
      "outputs": []
    },
    {
      "cell_type": "code",
      "source": [
        "predictions = model.predict(eval)[0]"
      ],
      "metadata": {
        "id": "lwOBzWKyZ1Yw"
      },
      "execution_count": 100,
      "outputs": []
    },
    {
      "cell_type": "code",
      "source": [
        "predictions"
      ],
      "metadata": {
        "colab": {
          "base_uri": "https://localhost:8080/"
        },
        "id": "dVckod3MbDe0",
        "outputId": "52f8dd09-cdad-4aa5-80c8-4895d7357f53"
      },
      "execution_count": 101,
      "outputs": [
        {
          "output_type": "execute_result",
          "data": {
            "text/plain": [
              "array([0.271741  , 0.2966828 , 0.3163432 , 0.34660253, 0.34828877,\n",
              "       0.3459357 ], dtype=float32)"
            ]
          },
          "metadata": {},
          "execution_count": 101
        }
      ]
    },
    {
      "cell_type": "code",
      "source": [
        "scaled_test[0][0]"
      ],
      "metadata": {
        "colab": {
          "base_uri": "https://localhost:8080/"
        },
        "id": "skKV4JzmaOlQ",
        "outputId": "2203afb6-bd47-41f0-f2ba-fb5e5bbce734"
      },
      "execution_count": 102,
      "outputs": [
        {
          "output_type": "execute_result",
          "data": {
            "text/plain": [
              "0.17290108063175394"
            ]
          },
          "metadata": {},
          "execution_count": 102
        }
      ]
    },
    {
      "cell_type": "code",
      "source": [
        "# create empty table \n",
        "test_predictions =  np.zeros(shape=(len(predictions), 1+n_features) )"
      ],
      "metadata": {
        "id": "OgquBsd8bncR"
      },
      "execution_count": 103,
      "outputs": []
    },
    {
      "cell_type": "code",
      "source": [
        "test_predictions.shape"
      ],
      "metadata": {
        "colab": {
          "base_uri": "https://localhost:8080/"
        },
        "id": "-XvXI_WDb2gA",
        "outputId": "4a7a2c78-b062-437d-eac1-0aa3b107ec6f"
      },
      "execution_count": 104,
      "outputs": [
        {
          "output_type": "execute_result",
          "data": {
            "text/plain": [
              "(6, 4)"
            ]
          },
          "metadata": {},
          "execution_count": 104
        }
      ]
    },
    {
      "cell_type": "code",
      "source": [
        "test_predictions[:,0] = predictions"
      ],
      "metadata": {
        "id": "J9cphDz0b1xk"
      },
      "execution_count": 105,
      "outputs": []
    },
    {
      "cell_type": "code",
      "source": [
        "test_predictions[0]"
      ],
      "metadata": {
        "colab": {
          "base_uri": "https://localhost:8080/"
        },
        "id": "GnLUU90xb70w",
        "outputId": "de82ac90-d678-43d5-ba1a-159729186fe8"
      },
      "execution_count": 106,
      "outputs": [
        {
          "output_type": "execute_result",
          "data": {
            "text/plain": [
              "array([0.271741, 0.      , 0.      , 0.      ])"
            ]
          },
          "metadata": {},
          "execution_count": 106
        }
      ]
    },
    {
      "cell_type": "code",
      "source": [
        "true_predictions = scaler.inverse_transform(test_predictions)"
      ],
      "metadata": {
        "id": "fuh39TU4atl1"
      },
      "execution_count": 107,
      "outputs": []
    },
    {
      "cell_type": "code",
      "source": [
        "true_predictions[:,0]"
      ],
      "metadata": {
        "colab": {
          "base_uri": "https://localhost:8080/"
        },
        "id": "9OM8IlkqbGzw",
        "outputId": "b7bc5f1f-519f-4c73-b6ee-e15d8306a6be"
      },
      "execution_count": 108,
      "outputs": [
        {
          "output_type": "execute_result",
          "data": {
            "text/plain": [
              "array([340.90442637, 370.9094142 , 394.56085551, 430.96284273,\n",
              "       432.99139571, 430.1606499 ])"
            ]
          },
          "metadata": {},
          "execution_count": 108
        }
      ]
    },
    {
      "cell_type": "code",
      "source": [
        "df_test['SRGLOAVG1H'][:6]"
      ],
      "metadata": {
        "colab": {
          "base_uri": "https://localhost:8080/"
        },
        "id": "KvlfuH8lcCrc",
        "outputId": "727a1fab-63aa-4922-d4ec-3b41e46b2593"
      },
      "execution_count": 110,
      "outputs": [
        {
          "output_type": "execute_result",
          "data": {
            "text/plain": [
              "Local_Time\n",
              "2015-10-20 08:00:00    222.0\n",
              "2015-10-20 09:00:00    660.0\n",
              "2015-10-20 10:00:00    736.0\n",
              "2015-10-20 11:00:00    402.0\n",
              "2015-10-20 12:00:00    533.0\n",
              "2015-10-20 13:00:00    688.0\n",
              "Name: SRGLOAVG1H, dtype: float64"
            ]
          },
          "metadata": {},
          "execution_count": 110
        }
      ]
    },
    {
      "cell_type": "markdown",
      "source": [
        "## Variables exógenas y radiación solar como entrada"
      ],
      "metadata": {
        "id": "RMMVlfFKIJK7"
      }
    },
    {
      "cell_type": "code",
      "source": [
        "n_input = 6 # horas hacia atrás, features\n",
        "n_output = 6 # horas predichas\n",
        "n_features = 3 # variables de entrada\n",
        "generator = TimeseriesGenerator(scaled_train, scaled_train[:,0], length=n_input, batch_size=n_output)"
      ],
      "metadata": {
        "id": "4fOIWCIqcKB4"
      },
      "execution_count": 111,
      "outputs": []
    },
    {
      "cell_type": "code",
      "source": [
        "X_train = []\n",
        "y_train = []"
      ],
      "metadata": {
        "id": "zWDHx6G8IdgC"
      },
      "execution_count": 113,
      "outputs": []
    },
    {
      "cell_type": "code",
      "source": [
        "for batch in generator:\n",
        "  if(len(batch[1])==n_output):\n",
        "    X_train.append(batch[0][0])\n",
        "    y_train.append(batch[1])"
      ],
      "metadata": {
        "id": "Se2_qSA1Ipwz"
      },
      "execution_count": 114,
      "outputs": []
    },
    {
      "cell_type": "code",
      "source": [
        "scaled_train[0]"
      ],
      "metadata": {
        "colab": {
          "base_uri": "https://localhost:8080/"
        },
        "id": "VxZnZ-pRI3qU",
        "outputId": "fed963c4-ce96-467a-d33d-00a0501101c2"
      },
      "execution_count": 117,
      "outputs": [
        {
          "output_type": "execute_result",
          "data": {
            "text/plain": [
              "array([0.07730673, 0.40860215, 0.26966292, 0.94285714])"
            ]
          },
          "metadata": {},
          "execution_count": 117
        }
      ]
    },
    {
      "cell_type": "code",
      "source": [
        "X_train[0]"
      ],
      "metadata": {
        "colab": {
          "base_uri": "https://localhost:8080/"
        },
        "id": "_i8lZ3B_IwZf",
        "outputId": "fa009525-8561-4915-9b0b-95dd19836f59"
      },
      "execution_count": 116,
      "outputs": [
        {
          "output_type": "execute_result",
          "data": {
            "text/plain": [
              "array([[0.07730673, 0.40860215, 0.26966292, 0.94285714],\n",
              "       [0.31587697, 0.56451613, 0.35955056, 0.84285714],\n",
              "       [0.59351621, 0.72580645, 0.48314607, 0.7       ],\n",
              "       [0.34413965, 0.74193548, 0.43820225, 0.51428571],\n",
              "       [0.32335827, 0.74731183, 0.38202247, 0.5       ],\n",
              "       [0.57772236, 0.83333333, 0.30337079, 0.44285714]])"
            ]
          },
          "metadata": {},
          "execution_count": 116
        }
      ]
    },
    {
      "cell_type": "code",
      "source": [
        "scaled_train[6:12,0]"
      ],
      "metadata": {
        "colab": {
          "base_uri": "https://localhost:8080/"
        },
        "id": "ZesAXMSdIytD",
        "outputId": "6466669d-2542-4ce9-b8f6-82d44f452c77"
      },
      "execution_count": 121,
      "outputs": [
        {
          "output_type": "execute_result",
          "data": {
            "text/plain": [
              "array([0.31837074, 0.48212801, 0.24438903, 0.10141313, 0.06899418,\n",
              "       0.08645054])"
            ]
          },
          "metadata": {},
          "execution_count": 121
        }
      ]
    },
    {
      "cell_type": "code",
      "source": [
        "y_train[0]"
      ],
      "metadata": {
        "colab": {
          "base_uri": "https://localhost:8080/"
        },
        "id": "bQEPnABQI7iz",
        "outputId": "bb28e5c1-5d13-4818-b816-a535ba7b97e6"
      },
      "execution_count": 119,
      "outputs": [
        {
          "output_type": "execute_result",
          "data": {
            "text/plain": [
              "array([0.31837074, 0.48212801, 0.24438903, 0.10141313, 0.06899418,\n",
              "       0.08645054])"
            ]
          },
          "metadata": {},
          "execution_count": 119
        }
      ]
    },
    {
      "cell_type": "code",
      "source": [
        "X_train = np.array(X_train)\n",
        "y_train = np.array(y_train)"
      ],
      "metadata": {
        "id": "mWovlorZJYPs"
      },
      "execution_count": 125,
      "outputs": []
    },
    {
      "cell_type": "code",
      "source": [
        "# define model\n",
        "model = Sequential()\n",
        "model.add(LSTM(100, activation='relu', input_shape=(n_input, n_features+1)))\n",
        "model.add(Dense(n_output))\n",
        "model.compile(optimizer='adam', loss='mse')"
      ],
      "metadata": {
        "id": "j8kQdQp0I8rO"
      },
      "execution_count": 145,
      "outputs": []
    },
    {
      "cell_type": "code",
      "source": [
        "model.summary()"
      ],
      "metadata": {
        "colab": {
          "base_uri": "https://localhost:8080/"
        },
        "id": "tESr4t2-JLJb",
        "outputId": "f00302b7-4902-4705-8cbf-277a5b47a6bc"
      },
      "execution_count": 146,
      "outputs": [
        {
          "output_type": "stream",
          "name": "stdout",
          "text": [
            "Model: \"sequential_7\"\n",
            "_________________________________________________________________\n",
            " Layer (type)                Output Shape              Param #   \n",
            "=================================================================\n",
            " lstm_7 (LSTM)               (None, 100)               42000     \n",
            "                                                                 \n",
            " dense_7 (Dense)             (None, 6)                 606       \n",
            "                                                                 \n",
            "=================================================================\n",
            "Total params: 42,606\n",
            "Trainable params: 42,606\n",
            "Non-trainable params: 0\n",
            "_________________________________________________________________\n"
          ]
        }
      ]
    },
    {
      "cell_type": "code",
      "source": [
        "model.fit(X_train,y_train,epochs=12)"
      ],
      "metadata": {
        "colab": {
          "base_uri": "https://localhost:8080/"
        },
        "id": "MSHOCKpeJHgk",
        "outputId": "e053bac6-51fb-4a7a-db95-aa50ccbee3f8"
      },
      "execution_count": 148,
      "outputs": [
        {
          "output_type": "stream",
          "name": "stdout",
          "text": [
            "Epoch 1/12\n",
            "16/16 [==============================] - 0s 9ms/step - loss: 0.0371\n",
            "Epoch 2/12\n",
            "16/16 [==============================] - 0s 9ms/step - loss: 0.0360\n",
            "Epoch 3/12\n",
            "16/16 [==============================] - 0s 9ms/step - loss: 0.0349\n",
            "Epoch 4/12\n",
            "16/16 [==============================] - 0s 9ms/step - loss: 0.0336\n",
            "Epoch 5/12\n",
            "16/16 [==============================] - 0s 9ms/step - loss: 0.0331\n",
            "Epoch 6/12\n",
            "16/16 [==============================] - 0s 9ms/step - loss: 0.0318\n",
            "Epoch 7/12\n",
            "16/16 [==============================] - 0s 7ms/step - loss: 0.0314\n",
            "Epoch 8/12\n",
            "16/16 [==============================] - 0s 8ms/step - loss: 0.0300\n",
            "Epoch 9/12\n",
            "16/16 [==============================] - 0s 8ms/step - loss: 0.0287\n",
            "Epoch 10/12\n",
            "16/16 [==============================] - 0s 7ms/step - loss: 0.0290\n",
            "Epoch 11/12\n",
            "16/16 [==============================] - 0s 7ms/step - loss: 0.0272\n",
            "Epoch 12/12\n",
            "16/16 [==============================] - 0s 7ms/step - loss: 0.0269\n"
          ]
        },
        {
          "output_type": "execute_result",
          "data": {
            "text/plain": [
              "<keras.callbacks.History at 0x7f4a3f496450>"
            ]
          },
          "metadata": {},
          "execution_count": 148
        }
      ]
    },
    {
      "cell_type": "code",
      "source": [
        "loss_per_epoch = model.history.history['loss']\n",
        "plt.plot(range(len(loss_per_epoch)),loss_per_epoch)"
      ],
      "metadata": {
        "colab": {
          "base_uri": "https://localhost:8080/",
          "height": 282
        },
        "id": "xxt2XunbJNaQ",
        "outputId": "a6fcdf1f-8307-4ee0-cfbe-2b21e6dd0a64"
      },
      "execution_count": 149,
      "outputs": [
        {
          "output_type": "execute_result",
          "data": {
            "text/plain": [
              "[<matplotlib.lines.Line2D at 0x7f4a3f3e13d0>]"
            ]
          },
          "metadata": {},
          "execution_count": 149
        },
        {
          "output_type": "display_data",
          "data": {
            "image/png": "[encoded data removed]",
            "text/plain": [
              "<Figure size 432x288 with 1 Axes>"
            ]
          },
          "metadata": {
            "needs_background": "light"
          }
        }
      ]
    },
    {
      "cell_type": "code",
      "source": [
        "eval = scaled_train[-6:,:].reshape(1,6,4)"
      ],
      "metadata": {
        "id": "m_N2h0ZqJ2Qz"
      },
      "execution_count": 150,
      "outputs": []
    },
    {
      "cell_type": "code",
      "source": [
        "eval"
      ],
      "metadata": {
        "colab": {
          "base_uri": "https://localhost:8080/"
        },
        "id": "8rrl-_OQKC2V",
        "outputId": "abd6b9f9-8de9-464f-98a8-65ce47070b41"
      },
      "execution_count": 151,
      "outputs": [
        {
          "output_type": "execute_result",
          "data": {
            "text/plain": [
              "array([[[0.46051538, 0.65053763, 0.53932584, 0.61428571],\n",
              "        [0.53782211, 0.70967742, 0.47191011, 0.57142857],\n",
              "        [0.36242727, 0.68817204, 0.35955056, 0.54285714],\n",
              "        [0.27847049, 0.68817204, 0.41573034, 0.48571429],\n",
              "        [0.14131338, 0.68817204, 0.3258427 , 0.6       ],\n",
              "        [0.09143807, 0.62365591, 0.20224719, 0.81428571]]])"
            ]
          },
          "metadata": {},
          "execution_count": 151
        }
      ]
    },
    {
      "cell_type": "code",
      "source": [
        "predictions = model.predict(eval)[0]\n",
        "predictions"
      ],
      "metadata": {
        "colab": {
          "base_uri": "https://localhost:8080/"
        },
        "id": "PArAY-M5KEK3",
        "outputId": "c9906b7e-3c84-4109-f961-76f7d5e04298"
      },
      "execution_count": 152,
      "outputs": [
        {
          "output_type": "execute_result",
          "data": {
            "text/plain": [
              "array([0.14359568, 0.20547913, 0.26106066, 0.3463882 , 0.40476418,\n",
              "       0.43573323], dtype=float32)"
            ]
          },
          "metadata": {},
          "execution_count": 152
        }
      ]
    },
    {
      "cell_type": "code",
      "source": [
        "test_predictions =  np.zeros(shape=(len(predictions), 1+n_features) )"
      ],
      "metadata": {
        "id": "g3jXNBwrKL0n"
      },
      "execution_count": 153,
      "outputs": []
    },
    {
      "cell_type": "code",
      "source": [
        "test_predictions[:,0] = predictions"
      ],
      "metadata": {
        "id": "_2B1KYDPKPrj"
      },
      "execution_count": 154,
      "outputs": []
    },
    {
      "cell_type": "code",
      "source": [
        "true_predictions = scaler.inverse_transform(test_predictions)"
      ],
      "metadata": {
        "id": "DA0ABwgMKXFn"
      },
      "execution_count": 155,
      "outputs": []
    },
    {
      "cell_type": "code",
      "source": [
        "true_predictions[:,0]"
      ],
      "metadata": {
        "colab": {
          "base_uri": "https://localhost:8080/"
        },
        "id": "BTrkloEHKa_f",
        "outputId": "310b4bf0-e701-4e57-ecc7-217ccab53f10"
      },
      "execution_count": 156,
      "outputs": [
        {
          "output_type": "execute_result",
          "data": {
            "text/plain": [
              "array([186.74560376, 261.19139357, 328.05596811, 430.70499375,\n",
              "       500.93130302, 538.18707439])"
            ]
          },
          "metadata": {},
          "execution_count": 156
        }
      ]
    },
    {
      "cell_type": "code",
      "source": [
        "df_test['SRGLOAVG1H'][:6]"
      ],
      "metadata": {
        "colab": {
          "base_uri": "https://localhost:8080/"
        },
        "id": "XGOyN_AXKb9f",
        "outputId": "e048c971-b74d-424b-fbd6-70cda2e26ecf"
      },
      "execution_count": 157,
      "outputs": [
        {
          "output_type": "execute_result",
          "data": {
            "text/plain": [
              "Local_Time\n",
              "2015-10-20 08:00:00    222.0\n",
              "2015-10-20 09:00:00    660.0\n",
              "2015-10-20 10:00:00    736.0\n",
              "2015-10-20 11:00:00    402.0\n",
              "2015-10-20 12:00:00    533.0\n",
              "2015-10-20 13:00:00    688.0\n",
              "Name: SRGLOAVG1H, dtype: float64"
            ]
          },
          "metadata": {},
          "execution_count": 157
        }
      ]
    },
    {
      "cell_type": "code",
      "source": [
        "df_compare = pd.DataFrame()"
      ],
      "metadata": {
        "id": "S_-za3_pKhFD"
      },
      "execution_count": 158,
      "outputs": []
    },
    {
      "cell_type": "code",
      "source": [
        "df_compare['RSG'] = df_test['SRGLOAVG1H'][:6].values"
      ],
      "metadata": {
        "id": "g-L-XuSGK5Mq"
      },
      "execution_count": 159,
      "outputs": []
    },
    {
      "cell_type": "code",
      "source": [
        "df_compare['prediction'] = true_predictions[:,0]"
      ],
      "metadata": {
        "id": "-rVnmrNJK8b2"
      },
      "execution_count": 160,
      "outputs": []
    },
    {
      "cell_type": "code",
      "source": [
        "df_compare.plot()"
      ],
      "metadata": {
        "colab": {
          "base_uri": "https://localhost:8080/",
          "height": 282
        },
        "id": "pCFByAwQLCMS",
        "outputId": "9686eb59-01d9-4f6e-d964-2089ee48c49f"
      },
      "execution_count": 161,
      "outputs": [
        {
          "output_type": "execute_result",
          "data": {
            "text/plain": [
              "<matplotlib.axes._subplots.AxesSubplot at 0x7f4a3bba0b50>"
            ]
          },
          "metadata": {},
          "execution_count": 161
        },
        {
          "output_type": "display_data",
          "data": {
            "image/png": "[encoded data removed]",
            "text/plain": [
              "<Figure size 432x288 with 1 Axes>"
            ]
          },
          "metadata": {
            "needs_background": "light"
          }
        }
      ]
    },
    {
      "cell_type": "code",
      "source": [
        ""
      ],
      "metadata": {
        "id": "C-8wNAOELDk9"
      },
      "execution_count": null,
      "outputs": []
    }
  ]
}