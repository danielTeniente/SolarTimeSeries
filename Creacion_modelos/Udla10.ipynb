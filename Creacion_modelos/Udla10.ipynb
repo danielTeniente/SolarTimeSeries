{
  "nbformat": 4,
  "nbformat_minor": 0,
  "metadata": {
    "colab": {
      "name": "Udla10.ipynb",
      "provenance": [],
      "collapsed_sections": []
    },
    "kernelspec": {
      "name": "python3",
      "display_name": "Python 3"
    },
    "language_info": {
      "name": "python"
    }
  },
  "cells": [
    {
      "cell_type": "markdown",
      "source": [
        "# Feature selection"
      ],
      "metadata": {
        "id": "WFGNFqbTf8fB"
      }
    },
    {
      "cell_type": "markdown",
      "source": [
        "## Encontrar la mejor combinación de variables de entrada"
      ],
      "metadata": {
        "id": "K5DzAnafgEMK"
      }
    },
    {
      "cell_type": "code",
      "execution_count": null,
      "metadata": {
        "id": "RsjPummJfQIQ"
      },
      "outputs": [],
      "source": [
        "import numpy as np\n",
        "import matplotlib.pyplot as plt\n",
        "import pandas as pd\n",
        "from sklearn.metrics import mean_squared_error\n",
        "from sklearn.preprocessing import MinMaxScaler\n",
        "from tensorflow.keras.models import Sequential\n",
        "from tensorflow.keras.layers import Dense,LSTM,Activation\n",
        "from tensorflow import keras\n",
        "import tensorflow as tf"
      ]
    },
    {
      "cell_type": "markdown",
      "source": [
        "Importar datos"
      ],
      "metadata": {
        "id": "vFRnDPDmgUWB"
      }
    },
    {
      "cell_type": "code",
      "source": [
        "df = pd.read_csv('./drive/MyDrive/DatosInvestigacion/final_train_2015.csv', index_col=0, parse_dates=True)\n",
        "df = df.asfreq('h')\n",
        "df = df.between_time('08:00:00','17:00:00')\n",
        "df = df[['SRGLOAVG1H','TAMAX1H','TAMIN1H','RHMAX1H','RHMIN1H','PRSUM1H','PAAVG1H','PAMAX1H','PAMIN1H','WS1HA','WS1HX','WD1HA']]\n",
        "df_test = pd.read_csv('./drive/MyDrive/DatosInvestigacion/final_test_2015.csv', index_col=0, parse_dates=True)\n",
        "df_test = df_test.asfreq('h')\n",
        "df_test = df_test.between_time('08:00:00','17:00:00')\n",
        "df_test = df_test[['SRGLOAVG1H','TAMAX1H','TAMIN1H','RHMAX1H','RHMIN1H','PRSUM1H','PAAVG1H','PAMAX1H','PAMIN1H','WS1HA','WS1HX','WD1HA']]"
      ],
      "metadata": {
        "id": "Cm4UWw6mgIdC"
      },
      "execution_count": null,
      "outputs": []
    },
    {
      "cell_type": "code",
      "source": [
        "x_train = df.drop(columns=['SRGLOAVG1H'])"
      ],
      "metadata": {
        "id": "3EeUHdtStu4t"
      },
      "execution_count": null,
      "outputs": []
    },
    {
      "cell_type": "code",
      "source": [
        "x_train.head()"
      ],
      "metadata": {
        "colab": {
          "base_uri": "https://localhost:8080/",
          "height": 238
        },
        "id": "pPmJ4j0lt-Rt",
        "outputId": "4b005d53-3dc7-4eb1-b086-4a5c3479af4d"
      },
      "execution_count": null,
      "outputs": [
        {
          "output_type": "execute_result",
          "data": {
            "text/html": [
              "\n",
              "  <div id=\"df-68750d9c-da6d-463e-be31-71e1d479119e\">\n",
              "    <div class=\"colab-df-container\">\n",
              "      <div>\n",
              "<style scoped>\n",
              "    .dataframe tbody tr th:only-of-type {\n",
              "        vertical-align: middle;\n",
              "    }\n",
              "\n",
              "    .dataframe tbody tr th {\n",
              "        vertical-align: top;\n",
              "    }\n",
              "\n",
              "    .dataframe thead th {\n",
              "        text-align: right;\n",
              "    }\n",
              "</style>\n",
              "<table border=\"1\" class=\"dataframe\">\n",
              "  <thead>\n",
              "    <tr style=\"text-align: right;\">\n",
              "      <th></th>\n",
              "      <th>TAMAX1H</th>\n",
              "      <th>TAMIN1H</th>\n",
              "      <th>RHMAX1H</th>\n",
              "      <th>RHMIN1H</th>\n",
              "      <th>PRSUM1H</th>\n",
              "      <th>PAAVG1H</th>\n",
              "      <th>PAMAX1H</th>\n",
              "      <th>PAMIN1H</th>\n",
              "      <th>WS1HA</th>\n",
              "      <th>WS1HX</th>\n",
              "      <th>WD1HA</th>\n",
              "    </tr>\n",
              "    <tr>\n",
              "      <th>Local_Time</th>\n",
              "      <th></th>\n",
              "      <th></th>\n",
              "      <th></th>\n",
              "      <th></th>\n",
              "      <th></th>\n",
              "      <th></th>\n",
              "      <th></th>\n",
              "      <th></th>\n",
              "      <th></th>\n",
              "      <th></th>\n",
              "      <th></th>\n",
              "    </tr>\n",
              "  </thead>\n",
              "  <tbody>\n",
              "    <tr>\n",
              "      <th>2015-01-01 08:00:00</th>\n",
              "      <td>12.2</td>\n",
              "      <td>9.5</td>\n",
              "      <td>96.0</td>\n",
              "      <td>89.0</td>\n",
              "      <td>0.0</td>\n",
              "      <td>743.5</td>\n",
              "      <td>743.7</td>\n",
              "      <td>743.1</td>\n",
              "      <td>2.5</td>\n",
              "      <td>4.6</td>\n",
              "      <td>42</td>\n",
              "    </tr>\n",
              "    <tr>\n",
              "      <th>2015-01-01 09:00:00</th>\n",
              "      <td>15.1</td>\n",
              "      <td>12.2</td>\n",
              "      <td>89.0</td>\n",
              "      <td>76.0</td>\n",
              "      <td>0.0</td>\n",
              "      <td>743.8</td>\n",
              "      <td>743.9</td>\n",
              "      <td>743.7</td>\n",
              "      <td>3.3</td>\n",
              "      <td>5.8</td>\n",
              "      <td>59</td>\n",
              "    </tr>\n",
              "    <tr>\n",
              "      <th>2015-01-01 10:00:00</th>\n",
              "      <td>18.1</td>\n",
              "      <td>15.1</td>\n",
              "      <td>79.0</td>\n",
              "      <td>57.0</td>\n",
              "      <td>0.0</td>\n",
              "      <td>743.7</td>\n",
              "      <td>743.9</td>\n",
              "      <td>743.4</td>\n",
              "      <td>4.4</td>\n",
              "      <td>8.4</td>\n",
              "      <td>40</td>\n",
              "    </tr>\n",
              "    <tr>\n",
              "      <th>2015-01-01 11:00:00</th>\n",
              "      <td>18.4</td>\n",
              "      <td>16.7</td>\n",
              "      <td>66.0</td>\n",
              "      <td>58.0</td>\n",
              "      <td>0.0</td>\n",
              "      <td>743.2</td>\n",
              "      <td>743.4</td>\n",
              "      <td>742.8</td>\n",
              "      <td>4.0</td>\n",
              "      <td>8.1</td>\n",
              "      <td>35</td>\n",
              "    </tr>\n",
              "    <tr>\n",
              "      <th>2015-01-01 12:00:00</th>\n",
              "      <td>18.5</td>\n",
              "      <td>17.2</td>\n",
              "      <td>65.0</td>\n",
              "      <td>55.0</td>\n",
              "      <td>0.0</td>\n",
              "      <td>742.6</td>\n",
              "      <td>742.9</td>\n",
              "      <td>742.3</td>\n",
              "      <td>3.5</td>\n",
              "      <td>7.6</td>\n",
              "      <td>34</td>\n",
              "    </tr>\n",
              "  </tbody>\n",
              "</table>\n",
              "</div>\n",
              "      <button class=\"colab-df-convert\" onclick=\"convertToInteractive('df-68750d9c-da6d-463e-be31-71e1d479119e')\"\n",
              "              title=\"Convert this dataframe to an interactive table.\"\n",
              "              style=\"display:none;\">\n",
              "        \n",
              "  <svg xmlns=\"http://www.w3.org/2000/svg\" height=\"24px\"viewBox=\"0 0 24 24\"\n",
              "       width=\"24px\">\n",
              "    <path d=\"M0 0h24v24H0V0z\" fill=\"none\"/>\n",
              "    <path d=\"M18.56 5.44l.94 2.06.94-2.06 2.06-.94-2.06-.94-.94-2.06-.94 2.06-2.06.94zm-11 1L8.5 8.5l.94-2.06 2.06-.94-2.06-.94L8.5 2.5l-.94 2.06-2.06.94zm10 10l.94 2.06.94-2.06 2.06-.94-2.06-.94-.94-2.06-.94 2.06-2.06.94z\"/><path d=\"M17.41 7.96l-1.37-1.37c-.4-.4-.92-.59-1.43-.59-.52 0-1.04.2-1.43.59L10.3 9.45l-7.72 7.72c-.78.78-.78 2.05 0 2.83L4 21.41c.39.39.9.59 1.41.59.51 0 1.02-.2 1.41-.59l7.78-7.78 2.81-2.81c.8-.78.8-2.07 0-2.86zM5.41 20L4 18.59l7.72-7.72 1.47 1.35L5.41 20z\"/>\n",
              "  </svg>\n",
              "      </button>\n",
              "      \n",
              "  <style>\n",
              "    .colab-df-container {\n",
              "      display:flex;\n",
              "      flex-wrap:wrap;\n",
              "      gap: 12px;\n",
              "    }\n",
              "\n",
              "    .colab-df-convert {\n",
              "      background-color: #E8F0FE;\n",
              "      border: none;\n",
              "      border-radius: 50%;\n",
              "      cursor: pointer;\n",
              "      display: none;\n",
              "      fill: #1967D2;\n",
              "      height: 32px;\n",
              "      padding: 0 0 0 0;\n",
              "      width: 32px;\n",
              "    }\n",
              "\n",
              "    .colab-df-convert:hover {\n",
              "      background-color: #E2EBFA;\n",
              "      box-shadow: 0px 1px 2px rgba(60, 64, 67, 0.3), 0px 1px 3px 1px rgba(60, 64, 67, 0.15);\n",
              "      fill: #174EA6;\n",
              "    }\n",
              "\n",
              "    [theme=dark] .colab-df-convert {\n",
              "      background-color: #3B4455;\n",
              "      fill: #D2E3FC;\n",
              "    }\n",
              "\n",
              "    [theme=dark] .colab-df-convert:hover {\n",
              "      background-color: #434B5C;\n",
              "      box-shadow: 0px 1px 3px 1px rgba(0, 0, 0, 0.15);\n",
              "      filter: drop-shadow(0px 1px 2px rgba(0, 0, 0, 0.3));\n",
              "      fill: #FFFFFF;\n",
              "    }\n",
              "  </style>\n",
              "\n",
              "      <script>\n",
              "        const buttonEl =\n",
              "          document.querySelector('#df-68750d9c-da6d-463e-be31-71e1d479119e button.colab-df-convert');\n",
              "        buttonEl.style.display =\n",
              "          google.colab.kernel.accessAllowed ? 'block' : 'none';\n",
              "\n",
              "        async function convertToInteractive(key) {\n",
              "          const element = document.querySelector('#df-68750d9c-da6d-463e-be31-71e1d479119e');\n",
              "          const dataTable =\n",
              "            await google.colab.kernel.invokeFunction('convertToInteractive',\n",
              "                                                     [key], {});\n",
              "          if (!dataTable) return;\n",
              "\n",
              "          const docLinkHtml = 'Like what you see? Visit the ' +\n",
              "            '<a target=\"_blank\" href=https://colab.research.google.com/notebooks/data_table.ipynb>data table notebook</a>'\n",
              "            + ' to learn more about interactive tables.';\n",
              "          element.innerHTML = '';\n",
              "          dataTable['output_type'] = 'display_data';\n",
              "          await google.colab.output.renderOutput(dataTable, element);\n",
              "          const docLink = document.createElement('div');\n",
              "          docLink.innerHTML = docLinkHtml;\n",
              "          element.appendChild(docLink);\n",
              "        }\n",
              "      </script>\n",
              "    </div>\n",
              "  </div>\n",
              "  "
            ],
            "text/plain": [
              "                     TAMAX1H  TAMIN1H  RHMAX1H  ...  WS1HA  WS1HX  WD1HA\n",
              "Local_Time                                      ...                     \n",
              "2015-01-01 08:00:00     12.2      9.5     96.0  ...    2.5    4.6     42\n",
              "2015-01-01 09:00:00     15.1     12.2     89.0  ...    3.3    5.8     59\n",
              "2015-01-01 10:00:00     18.1     15.1     79.0  ...    4.4    8.4     40\n",
              "2015-01-01 11:00:00     18.4     16.7     66.0  ...    4.0    8.1     35\n",
              "2015-01-01 12:00:00     18.5     17.2     65.0  ...    3.5    7.6     34\n",
              "\n",
              "[5 rows x 11 columns]"
            ]
          },
          "metadata": {},
          "execution_count": 6
        }
      ]
    },
    {
      "cell_type": "code",
      "source": [
        "y_train = df['SRGLOAVG1H'].values"
      ],
      "metadata": {
        "id": "woFtLr45uNQJ"
      },
      "execution_count": null,
      "outputs": []
    },
    {
      "cell_type": "code",
      "source": [
        "y_train"
      ],
      "metadata": {
        "colab": {
          "base_uri": "https://localhost:8080/"
        },
        "id": "1I585tiKuQp9",
        "outputId": "623be5c6-f6e9-47ad-a55c-7eab79bc7b0b"
      },
      "execution_count": null,
      "outputs": [
        {
          "output_type": "execute_result",
          "data": {
            "text/plain": [
              "array([107., 394., 728., ..., 331., 334., 132.])"
            ]
          },
          "metadata": {},
          "execution_count": 8
        }
      ]
    },
    {
      "cell_type": "markdown",
      "source": [
        "Normalizar datos"
      ],
      "metadata": {
        "id": "R1tfnXbLgYxA"
      }
    },
    {
      "cell_type": "code",
      "source": [
        "scaler = MinMaxScaler()\n",
        "scaler.fit(df)\n",
        "scaled_train = scaler.transform(df)\n",
        "scaled_test = scaler.transform(df_test)"
      ],
      "metadata": {
        "id": "OT-9LDzHgVP9"
      },
      "execution_count": null,
      "outputs": []
    },
    {
      "cell_type": "markdown",
      "source": [
        "## Random Forest"
      ],
      "metadata": {
        "id": "wbNUrndlsNgd"
      }
    },
    {
      "cell_type": "code",
      "source": [
        "import pandas as pd\n",
        "from sklearn.ensemble import RandomForestRegressor\n",
        "from sklearn.feature_selection import SelectFromModel\n",
        "from sklearn.model_selection import RandomizedSearchCV"
      ],
      "metadata": {
        "id": "frBgq9PGsPtV"
      },
      "execution_count": null,
      "outputs": []
    },
    {
      "cell_type": "code",
      "source": [
        "rf = RandomForestRegressor()"
      ],
      "metadata": {
        "id": "qt8NCH4gwoBV"
      },
      "execution_count": null,
      "outputs": []
    },
    {
      "cell_type": "code",
      "source": [
        "# Number of trees in random forest\n",
        "n_estimators = [100,200,300]\n",
        "# Number of features to consider at every split\n",
        "max_features = ['auto', 'sqrt']\n",
        "# Maximum number of levels in tree\n",
        "max_depth = [20,50,70,100]\n",
        "# Minimum number of samples required to split a node\n",
        "min_samples_split = [2, 5, 10]\n",
        "# Minimum number of samples required at each leaf node\n",
        "min_samples_leaf = [1, 2, 4]\n",
        "# Method of selecting samples for training each tree\n",
        "bootstrap = [True, False]\n",
        "# Create the random grid\n",
        "random_grid = {'n_estimators': n_estimators,\n",
        "               'max_features': max_features,\n",
        "               'max_depth': max_depth,\n",
        "               'min_samples_split': min_samples_split,\n",
        "               'min_samples_leaf': min_samples_leaf,\n",
        "               'bootstrap': bootstrap}"
      ],
      "metadata": {
        "id": "eukclP320S2V"
      },
      "execution_count": null,
      "outputs": []
    },
    {
      "cell_type": "code",
      "source": [
        "random_grid"
      ],
      "metadata": {
        "colab": {
          "base_uri": "https://localhost:8080/"
        },
        "id": "fDWB1m3G0Vjf",
        "outputId": "8ce38295-d2b9-42fe-c321-871e9d9e95ef"
      },
      "execution_count": null,
      "outputs": [
        {
          "output_type": "execute_result",
          "data": {
            "text/plain": [
              "{'bootstrap': [True, False],\n",
              " 'max_depth': [20, 50, 70, 100],\n",
              " 'max_features': ['auto', 'sqrt'],\n",
              " 'min_samples_leaf': [1, 2, 4],\n",
              " 'min_samples_split': [2, 5, 10],\n",
              " 'n_estimators': [100, 200, 300]}"
            ]
          },
          "metadata": {},
          "execution_count": 13
        }
      ]
    },
    {
      "cell_type": "markdown",
      "source": [
        "Optimizando hiperparámetros para el random forest"
      ],
      "metadata": {
        "id": "iK4PFo3Z0h2V"
      }
    },
    {
      "cell_type": "code",
      "source": [
        "# Random search of parameters, using 3 fold cross validation, \n",
        "# search across 100 different combinations, and use all available cores\n",
        "rf_random = RandomizedSearchCV(estimator = rf, param_distributions = random_grid, n_iter = 10, cv = 3, verbose=2, random_state=42, n_jobs = -1)\n",
        "# Fit the random search model\n",
        "rf_random.fit(x_train, y_train)"
      ],
      "metadata": {
        "colab": {
          "base_uri": "https://localhost:8080/"
        },
        "id": "ujUo6iqx0KSG",
        "outputId": "bc7043ac-a3ea-4809-9203-7cd9cfa9c66b"
      },
      "execution_count": null,
      "outputs": [
        {
          "output_type": "stream",
          "name": "stdout",
          "text": [
            "Fitting 3 folds for each of 10 candidates, totalling 30 fits\n"
          ]
        },
        {
          "output_type": "execute_result",
          "data": {
            "text/plain": [
              "RandomizedSearchCV(cv=3, estimator=RandomForestRegressor(), n_jobs=-1,\n",
              "                   param_distributions={'bootstrap': [True, False],\n",
              "                                        'max_depth': [20, 50, 70, 100],\n",
              "                                        'max_features': ['auto', 'sqrt'],\n",
              "                                        'min_samples_leaf': [1, 2, 4],\n",
              "                                        'min_samples_split': [2, 5, 10],\n",
              "                                        'n_estimators': [100, 200, 300]},\n",
              "                   random_state=42, verbose=2)"
            ]
          },
          "metadata": {},
          "execution_count": 14
        }
      ]
    },
    {
      "cell_type": "code",
      "source": [
        "rf_random.best_params_"
      ],
      "metadata": {
        "colab": {
          "base_uri": "https://localhost:8080/"
        },
        "id": "qOIp1qMl0qbm",
        "outputId": "f1d6fbe3-886e-4d0a-86af-7638dfd4d21f"
      },
      "execution_count": null,
      "outputs": [
        {
          "output_type": "execute_result",
          "data": {
            "text/plain": [
              "{'bootstrap': True,\n",
              " 'max_depth': 70,\n",
              " 'max_features': 'sqrt',\n",
              " 'min_samples_leaf': 2,\n",
              " 'min_samples_split': 5,\n",
              " 'n_estimators': 200}"
            ]
          },
          "metadata": {},
          "execution_count": 15
        }
      ]
    },
    {
      "cell_type": "code",
      "source": [
        "best_random = rf_random.best_estimator_"
      ],
      "metadata": {
        "id": "WJqdOZCK44t8"
      },
      "execution_count": null,
      "outputs": []
    },
    {
      "cell_type": "code",
      "source": [
        "rf.fit(x_train,y_train)"
      ],
      "metadata": {
        "colab": {
          "base_uri": "https://localhost:8080/"
        },
        "id": "Xz02Xdi8w0S6",
        "outputId": "2719b441-83b3-4b97-e934-57c95dfc023b"
      },
      "execution_count": null,
      "outputs": [
        {
          "output_type": "execute_result",
          "data": {
            "text/plain": [
              "RandomForestRegressor()"
            ]
          },
          "metadata": {},
          "execution_count": 17
        }
      ]
    },
    {
      "cell_type": "code",
      "source": [
        "features = x_train.columns"
      ],
      "metadata": {
        "id": "ebvN0cByw93F"
      },
      "execution_count": null,
      "outputs": []
    },
    {
      "cell_type": "markdown",
      "source": [
        "criterion{“squared_error”, “absolute_error”, “poisson”}, default=”squared_error”"
      ],
      "metadata": {
        "id": "X1ejIBmuxIoo"
      }
    },
    {
      "cell_type": "code",
      "source": [
        "f_i = list(zip(features,best_random.feature_importances_))\n",
        "f_i.sort(key = lambda x : x[1])\n",
        "plt.barh([x[0] for x in f_i],[x[1] for x in f_i])\n",
        "\n",
        "plt.show()"
      ],
      "metadata": {
        "colab": {
          "base_uri": "https://localhost:8080/",
          "height": 265
        },
        "id": "hAhrOD2Pw4eN",
        "outputId": "81fd86fe-f936-404e-feb5-02d9f9a033f0"
      },
      "execution_count": null,
      "outputs": [
        {
          "output_type": "display_data",
          "data": {
            "image/png": "[encoded data removed]",
            "text/plain": [
              "<Figure size 432x288 with 1 Axes>"
            ]
          },
          "metadata": {
            "needs_background": "light"
          }
        }
      ]
    },
    {
      "cell_type": "code",
      "source": [
        "importance = best_random.feature_importances_"
      ],
      "metadata": {
        "id": "lPocaUH6hpWj"
      },
      "execution_count": null,
      "outputs": []
    },
    {
      "cell_type": "code",
      "source": [
        "np.mean(importance)"
      ],
      "metadata": {
        "colab": {
          "base_uri": "https://localhost:8080/"
        },
        "id": "k47uUId9hxH7",
        "outputId": "97bd63d0-378a-40f4-ea02-55f53c5c97a1"
      },
      "execution_count": null,
      "outputs": [
        {
          "output_type": "execute_result",
          "data": {
            "text/plain": [
              "0.09090909090909091"
            ]
          },
          "metadata": {},
          "execution_count": 22
        }
      ]
    },
    {
      "cell_type": "code",
      "source": [
        "thr = np.mean(importance)"
      ],
      "metadata": {
        "id": "GuiwH-nKiPyb"
      },
      "execution_count": null,
      "outputs": []
    },
    {
      "cell_type": "code",
      "source": [
        "for i,num in enumerate(importance):\n",
        "  if(num>thr):\n",
        "    print(i)"
      ],
      "metadata": {
        "colab": {
          "base_uri": "https://localhost:8080/"
        },
        "id": "Jb8D4O7KiK79",
        "outputId": "46f608b5-281c-40d9-8fb2-fb133eecb08b"
      },
      "execution_count": null,
      "outputs": [
        {
          "output_type": "stream",
          "name": "stdout",
          "text": [
            "0\n",
            "1\n",
            "3\n"
          ]
        }
      ]
    },
    {
      "cell_type": "markdown",
      "source": [
        "SelectFromModel thr=mean"
      ],
      "metadata": {
        "id": "c8WeZMbhhxw7"
      }
    },
    {
      "cell_type": "code",
      "source": [
        "selection = SelectFromModel(best_random)\n",
        "selection.fit(x_train, y_train)"
      ],
      "metadata": {
        "colab": {
          "base_uri": "https://localhost:8080/"
        },
        "id": "QpxmSc8XsQLt",
        "outputId": "d28a0dff-2c74-40ad-e13e-8d68f43a6c28"
      },
      "execution_count": null,
      "outputs": [
        {
          "output_type": "execute_result",
          "data": {
            "text/plain": [
              "SelectFromModel(estimator=RandomForestRegressor(max_depth=70,\n",
              "                                                max_features='sqrt',\n",
              "                                                min_samples_leaf=2,\n",
              "                                                min_samples_split=5,\n",
              "                                                n_estimators=200))"
            ]
          },
          "metadata": {},
          "execution_count": 72
        }
      ]
    },
    {
      "cell_type": "code",
      "source": [
        "selection.get_support()"
      ],
      "metadata": {
        "colab": {
          "base_uri": "https://localhost:8080/"
        },
        "id": "D48fUjsKuY4r",
        "outputId": "d66b0a88-db84-4abd-d004-c61720dfcb34"
      },
      "execution_count": null,
      "outputs": [
        {
          "output_type": "execute_result",
          "data": {
            "text/plain": [
              "array([ True,  True, False,  True, False, False, False, False, False,\n",
              "       False, False])"
            ]
          },
          "metadata": {},
          "execution_count": 73
        }
      ]
    },
    {
      "cell_type": "code",
      "source": [
        "features[selection.get_support()]"
      ],
      "metadata": {
        "colab": {
          "base_uri": "https://localhost:8080/"
        },
        "id": "PxUKlCuGvK8W",
        "outputId": "dc969cd4-c8e5-4888-c64d-5c00e73c117a"
      },
      "execution_count": null,
      "outputs": [
        {
          "output_type": "execute_result",
          "data": {
            "text/plain": [
              "Index(['TAMAX1H', 'TAMIN1H', 'RHMIN1H'], dtype='object')"
            ]
          },
          "metadata": {},
          "execution_count": 74
        }
      ]
    },
    {
      "cell_type": "code",
      "source": [
        "from keras.preprocessing.sequence import TimeseriesGenerator"
      ],
      "metadata": {
        "id": "nRIms_gthp-A"
      },
      "execution_count": null,
      "outputs": []
    },
    {
      "cell_type": "code",
      "source": [
        "scaled_train_df = pd.DataFrame(scaled_train)\n"
      ],
      "metadata": {
        "id": "dWcv_wLqhst4"
      },
      "execution_count": null,
      "outputs": []
    },
    {
      "cell_type": "markdown",
      "source": [
        "Las variables están en este orden: SRGLOAVG1H, TAMAX1H, WS1HA, RHMAX1H"
      ],
      "metadata": {
        "id": "PhEVlNteiCFY"
      }
    },
    {
      "cell_type": "code",
      "source": [
        "scaled_train_df.head()"
      ],
      "metadata": {
        "colab": {
          "base_uri": "https://localhost:8080/",
          "height": 206
        },
        "id": "XJWip2gPh31G",
        "outputId": "82616d07-7bcc-457f-9bbc-5def7f9fc91b"
      },
      "execution_count": null,
      "outputs": [
        {
          "output_type": "execute_result",
          "data": {
            "text/html": [
              "\n",
              "  <div id=\"df-41be1871-cb0d-4b54-9bdf-2d13b2b53e8d\">\n",
              "    <div class=\"colab-df-container\">\n",
              "      <div>\n",
              "<style scoped>\n",
              "    .dataframe tbody tr th:only-of-type {\n",
              "        vertical-align: middle;\n",
              "    }\n",
              "\n",
              "    .dataframe tbody tr th {\n",
              "        vertical-align: top;\n",
              "    }\n",
              "\n",
              "    .dataframe thead th {\n",
              "        text-align: right;\n",
              "    }\n",
              "</style>\n",
              "<table border=\"1\" class=\"dataframe\">\n",
              "  <thead>\n",
              "    <tr style=\"text-align: right;\">\n",
              "      <th></th>\n",
              "      <th>0</th>\n",
              "      <th>1</th>\n",
              "      <th>2</th>\n",
              "      <th>3</th>\n",
              "    </tr>\n",
              "  </thead>\n",
              "  <tbody>\n",
              "    <tr>\n",
              "      <th>0</th>\n",
              "      <td>0.077307</td>\n",
              "      <td>0.408602</td>\n",
              "      <td>0.269663</td>\n",
              "      <td>0.942857</td>\n",
              "    </tr>\n",
              "    <tr>\n",
              "      <th>1</th>\n",
              "      <td>0.315877</td>\n",
              "      <td>0.564516</td>\n",
              "      <td>0.359551</td>\n",
              "      <td>0.842857</td>\n",
              "    </tr>\n",
              "    <tr>\n",
              "      <th>2</th>\n",
              "      <td>0.593516</td>\n",
              "      <td>0.725806</td>\n",
              "      <td>0.483146</td>\n",
              "      <td>0.700000</td>\n",
              "    </tr>\n",
              "    <tr>\n",
              "      <th>3</th>\n",
              "      <td>0.344140</td>\n",
              "      <td>0.741935</td>\n",
              "      <td>0.438202</td>\n",
              "      <td>0.514286</td>\n",
              "    </tr>\n",
              "    <tr>\n",
              "      <th>4</th>\n",
              "      <td>0.323358</td>\n",
              "      <td>0.747312</td>\n",
              "      <td>0.382022</td>\n",
              "      <td>0.500000</td>\n",
              "    </tr>\n",
              "  </tbody>\n",
              "</table>\n",
              "</div>\n",
              "      <button class=\"colab-df-convert\" onclick=\"convertToInteractive('df-41be1871-cb0d-4b54-9bdf-2d13b2b53e8d')\"\n",
              "              title=\"Convert this dataframe to an interactive table.\"\n",
              "              style=\"display:none;\">\n",
              "        \n",
              "  <svg xmlns=\"http://www.w3.org/2000/svg\" height=\"24px\"viewBox=\"0 0 24 24\"\n",
              "       width=\"24px\">\n",
              "    <path d=\"M0 0h24v24H0V0z\" fill=\"none\"/>\n",
              "    <path d=\"M18.56 5.44l.94 2.06.94-2.06 2.06-.94-2.06-.94-.94-2.06-.94 2.06-2.06.94zm-11 1L8.5 8.5l.94-2.06 2.06-.94-2.06-.94L8.5 2.5l-.94 2.06-2.06.94zm10 10l.94 2.06.94-2.06 2.06-.94-2.06-.94-.94-2.06-.94 2.06-2.06.94z\"/><path d=\"M17.41 7.96l-1.37-1.37c-.4-.4-.92-.59-1.43-.59-.52 0-1.04.2-1.43.59L10.3 9.45l-7.72 7.72c-.78.78-.78 2.05 0 2.83L4 21.41c.39.39.9.59 1.41.59.51 0 1.02-.2 1.41-.59l7.78-7.78 2.81-2.81c.8-.78.8-2.07 0-2.86zM5.41 20L4 18.59l7.72-7.72 1.47 1.35L5.41 20z\"/>\n",
              "  </svg>\n",
              "      </button>\n",
              "      \n",
              "  <style>\n",
              "    .colab-df-container {\n",
              "      display:flex;\n",
              "      flex-wrap:wrap;\n",
              "      gap: 12px;\n",
              "    }\n",
              "\n",
              "    .colab-df-convert {\n",
              "      background-color: #E8F0FE;\n",
              "      border: none;\n",
              "      border-radius: 50%;\n",
              "      cursor: pointer;\n",
              "      display: none;\n",
              "      fill: #1967D2;\n",
              "      height: 32px;\n",
              "      padding: 0 0 0 0;\n",
              "      width: 32px;\n",
              "    }\n",
              "\n",
              "    .colab-df-convert:hover {\n",
              "      background-color: #E2EBFA;\n",
              "      box-shadow: 0px 1px 2px rgba(60, 64, 67, 0.3), 0px 1px 3px 1px rgba(60, 64, 67, 0.15);\n",
              "      fill: #174EA6;\n",
              "    }\n",
              "\n",
              "    [theme=dark] .colab-df-convert {\n",
              "      background-color: #3B4455;\n",
              "      fill: #D2E3FC;\n",
              "    }\n",
              "\n",
              "    [theme=dark] .colab-df-convert:hover {\n",
              "      background-color: #434B5C;\n",
              "      box-shadow: 0px 1px 3px 1px rgba(0, 0, 0, 0.15);\n",
              "      filter: drop-shadow(0px 1px 2px rgba(0, 0, 0, 0.3));\n",
              "      fill: #FFFFFF;\n",
              "    }\n",
              "  </style>\n",
              "\n",
              "      <script>\n",
              "        const buttonEl =\n",
              "          document.querySelector('#df-41be1871-cb0d-4b54-9bdf-2d13b2b53e8d button.colab-df-convert');\n",
              "        buttonEl.style.display =\n",
              "          google.colab.kernel.accessAllowed ? 'block' : 'none';\n",
              "\n",
              "        async function convertToInteractive(key) {\n",
              "          const element = document.querySelector('#df-41be1871-cb0d-4b54-9bdf-2d13b2b53e8d');\n",
              "          const dataTable =\n",
              "            await google.colab.kernel.invokeFunction('convertToInteractive',\n",
              "                                                     [key], {});\n",
              "          if (!dataTable) return;\n",
              "\n",
              "          const docLinkHtml = 'Like what you see? Visit the ' +\n",
              "            '<a target=\"_blank\" href=https://colab.research.google.com/notebooks/data_table.ipynb>data table notebook</a>'\n",
              "            + ' to learn more about interactive tables.';\n",
              "          element.innerHTML = '';\n",
              "          dataTable['output_type'] = 'display_data';\n",
              "          await google.colab.output.renderOutput(dataTable, element);\n",
              "          const docLink = document.createElement('div');\n",
              "          docLink.innerHTML = docLinkHtml;\n",
              "          element.appendChild(docLink);\n",
              "        }\n",
              "      </script>\n",
              "    </div>\n",
              "  </div>\n",
              "  "
            ],
            "text/plain": [
              "          0         1         2         3\n",
              "0  0.077307  0.408602  0.269663  0.942857\n",
              "1  0.315877  0.564516  0.359551  0.842857\n",
              "2  0.593516  0.725806  0.483146  0.700000\n",
              "3  0.344140  0.741935  0.438202  0.514286\n",
              "4  0.323358  0.747312  0.382022  0.500000"
            ]
          },
          "metadata": {},
          "execution_count": 11
        }
      ]
    },
    {
      "cell_type": "markdown",
      "source": [
        "La variable de radiación solar siempre se va a usar como entrada, así que se busca realizar una prueba con las combinaciones de las demás variables."
      ],
      "metadata": {
        "id": "1q267waTilda"
      }
    },
    {
      "cell_type": "code",
      "source": [
        "import itertools"
      ],
      "metadata": {
        "id": "2OaFzsCfhod5"
      },
      "execution_count": null,
      "outputs": []
    },
    {
      "cell_type": "code",
      "source": [
        "all_combinations = [list(itertools.combinations([1,2,3],n)) for n in range(3)]"
      ],
      "metadata": {
        "id": "T2U0r6-xita5"
      },
      "execution_count": null,
      "outputs": []
    },
    {
      "cell_type": "code",
      "source": [
        "all_combinations"
      ],
      "metadata": {
        "colab": {
          "base_uri": "https://localhost:8080/"
        },
        "id": "zSxgyJ_ihr-5",
        "outputId": "fe594eb7-3fdb-42e9-cfc5-461bbce08d95"
      },
      "execution_count": null,
      "outputs": [
        {
          "output_type": "execute_result",
          "data": {
            "text/plain": [
              "[[()], [(1,), (2,), (3,)], [(1, 2), (1, 3), (2, 3)]]"
            ]
          },
          "metadata": {},
          "execution_count": 19
        }
      ]
    },
    {
      "cell_type": "code",
      "source": [
        "options = []\n",
        "for comb_set in all_combinations:\n",
        "  for comb in comb_set:\n",
        "    options.append(comb)"
      ],
      "metadata": {
        "id": "H_FBJPRYjUJB"
      },
      "execution_count": null,
      "outputs": []
    },
    {
      "cell_type": "code",
      "source": [
        "options"
      ],
      "metadata": {
        "colab": {
          "base_uri": "https://localhost:8080/"
        },
        "id": "X89SjnPdjkkF",
        "outputId": "c2a4af45-5469-4e03-c8e2-88a00550dff9"
      },
      "execution_count": null,
      "outputs": [
        {
          "output_type": "execute_result",
          "data": {
            "text/plain": [
              "[(), (1,), (2,), (3,), (1, 2), (1, 3), (2, 3)]"
            ]
          },
          "metadata": {},
          "execution_count": 23
        }
      ]
    },
    {
      "cell_type": "code",
      "source": [
        "options = options[1:]"
      ],
      "metadata": {
        "id": "YfabzW0xjtLg"
      },
      "execution_count": null,
      "outputs": []
    },
    {
      "cell_type": "code",
      "source": [
        "options"
      ],
      "metadata": {
        "colab": {
          "base_uri": "https://localhost:8080/"
        },
        "id": "KV6nXYowjzax",
        "outputId": "a9135c1c-437c-40bc-deec-fbfd90ab013f"
      },
      "execution_count": null,
      "outputs": [
        {
          "output_type": "execute_result",
          "data": {
            "text/plain": [
              "[(1,), (2,), (3,), (1, 2), (1, 3), (2, 3)]"
            ]
          },
          "metadata": {},
          "execution_count": 27
        }
      ]
    },
    {
      "cell_type": "code",
      "source": [
        "train_options = []\n",
        "for option in options:\n",
        "  variables = [0]\n",
        "  for variable in option:\n",
        "    variables.append(int(variable))\n",
        "  train_options.append(variables)\n",
        "train_options"
      ],
      "metadata": {
        "colab": {
          "base_uri": "https://localhost:8080/"
        },
        "id": "0o-V4qmHj2MI",
        "outputId": "157fbf97-065b-4911-b039-91d6e62fa33d"
      },
      "execution_count": null,
      "outputs": [
        {
          "output_type": "execute_result",
          "data": {
            "text/plain": [
              "[[0, 1], [0, 2], [0, 3], [0, 1, 2], [0, 1, 3], [0, 2, 3]]"
            ]
          },
          "metadata": {},
          "execution_count": 30
        }
      ]
    },
    {
      "cell_type": "code",
      "source": [
        "scaled_train_df.iloc[0]"
      ],
      "metadata": {
        "colab": {
          "base_uri": "https://localhost:8080/"
        },
        "id": "V77AulL9k12w",
        "outputId": "cbe60cb8-2bc3-42a5-aa89-ce364abbf5ef"
      },
      "execution_count": null,
      "outputs": [
        {
          "output_type": "execute_result",
          "data": {
            "text/plain": [
              "0    0.077307\n",
              "1    0.408602\n",
              "2    0.269663\n",
              "3    0.942857\n",
              "Name: 0, dtype: float64"
            ]
          },
          "metadata": {},
          "execution_count": 34
        }
      ]
    },
    {
      "cell_type": "code",
      "source": [
        "for option in train_options:\n",
        "  print(scaled_train_df.iloc[0][option])"
      ],
      "metadata": {
        "colab": {
          "base_uri": "https://localhost:8080/"
        },
        "id": "cytdfr1NkWWI",
        "outputId": "ac23c022-803b-43b3-c851-e70018f97776"
      },
      "execution_count": null,
      "outputs": [
        {
          "output_type": "stream",
          "name": "stdout",
          "text": [
            "0    0.077307\n",
            "1    0.408602\n",
            "Name: 0, dtype: float64\n",
            "0    0.077307\n",
            "2    0.269663\n",
            "Name: 0, dtype: float64\n",
            "0    0.077307\n",
            "3    0.942857\n",
            "Name: 0, dtype: float64\n",
            "0    0.077307\n",
            "1    0.408602\n",
            "2    0.269663\n",
            "Name: 0, dtype: float64\n",
            "0    0.077307\n",
            "1    0.408602\n",
            "3    0.942857\n",
            "Name: 0, dtype: float64\n",
            "0    0.077307\n",
            "2    0.269663\n",
            "3    0.942857\n",
            "Name: 0, dtype: float64\n"
          ]
        }
      ]
    },
    {
      "cell_type": "code",
      "source": [
        "def create_Model(n_input, LSTM_neurons = 100, n_features=0):\n",
        "  # define model\n",
        "  model = Sequential()\n",
        "  model.add(LSTM(LSTM_neurons, activation='relu', input_shape=(n_input, n_features+1)))\n",
        "  model.add(Dense(n_output))\n",
        "  model.compile(optimizer='adam', loss='mse')\n",
        "  return model"
      ],
      "metadata": {
        "id": "1RWOnB-6lJPB"
      },
      "execution_count": null,
      "outputs": []
    },
    {
      "cell_type": "code",
      "source": [
        "scaled_train_df.iloc[15:19]"
      ],
      "metadata": {
        "colab": {
          "base_uri": "https://localhost:8080/",
          "height": 174
        },
        "id": "nHexUHQVm-O4",
        "outputId": "b5c3f519-9e30-427f-8fe5-fbc8a77a444f"
      },
      "execution_count": null,
      "outputs": [
        {
          "output_type": "execute_result",
          "data": {
            "text/html": [
              "\n",
              "  <div id=\"df-d5ffe53b-ea16-4f8f-8f3a-e895d33e9102\">\n",
              "    <div class=\"colab-df-container\">\n",
              "      <div>\n",
              "<style scoped>\n",
              "    .dataframe tbody tr th:only-of-type {\n",
              "        vertical-align: middle;\n",
              "    }\n",
              "\n",
              "    .dataframe tbody tr th {\n",
              "        vertical-align: top;\n",
              "    }\n",
              "\n",
              "    .dataframe thead th {\n",
              "        text-align: right;\n",
              "    }\n",
              "</style>\n",
              "<table border=\"1\" class=\"dataframe\">\n",
              "  <thead>\n",
              "    <tr style=\"text-align: right;\">\n",
              "      <th></th>\n",
              "      <th>0</th>\n",
              "      <th>1</th>\n",
              "      <th>2</th>\n",
              "      <th>3</th>\n",
              "    </tr>\n",
              "  </thead>\n",
              "  <tbody>\n",
              "    <tr>\n",
              "      <th>15</th>\n",
              "      <td>0.369909</td>\n",
              "      <td>0.704301</td>\n",
              "      <td>0.674157</td>\n",
              "      <td>0.442857</td>\n",
              "    </tr>\n",
              "    <tr>\n",
              "      <th>16</th>\n",
              "      <td>0.301746</td>\n",
              "      <td>0.661290</td>\n",
              "      <td>0.707865</td>\n",
              "      <td>0.471429</td>\n",
              "    </tr>\n",
              "    <tr>\n",
              "      <th>17</th>\n",
              "      <td>0.239401</td>\n",
              "      <td>0.655914</td>\n",
              "      <td>0.651685</td>\n",
              "      <td>0.485714</td>\n",
              "    </tr>\n",
              "    <tr>\n",
              "      <th>18</th>\n",
              "      <td>0.246052</td>\n",
              "      <td>0.677419</td>\n",
              "      <td>0.696629</td>\n",
              "      <td>0.485714</td>\n",
              "    </tr>\n",
              "  </tbody>\n",
              "</table>\n",
              "</div>\n",
              "      <button class=\"colab-df-convert\" onclick=\"convertToInteractive('df-d5ffe53b-ea16-4f8f-8f3a-e895d33e9102')\"\n",
              "              title=\"Convert this dataframe to an interactive table.\"\n",
              "              style=\"display:none;\">\n",
              "        \n",
              "  <svg xmlns=\"http://www.w3.org/2000/svg\" height=\"24px\"viewBox=\"0 0 24 24\"\n",
              "       width=\"24px\">\n",
              "    <path d=\"M0 0h24v24H0V0z\" fill=\"none\"/>\n",
              "    <path d=\"M18.56 5.44l.94 2.06.94-2.06 2.06-.94-2.06-.94-.94-2.06-.94 2.06-2.06.94zm-11 1L8.5 8.5l.94-2.06 2.06-.94-2.06-.94L8.5 2.5l-.94 2.06-2.06.94zm10 10l.94 2.06.94-2.06 2.06-.94-2.06-.94-.94-2.06-.94 2.06-2.06.94z\"/><path d=\"M17.41 7.96l-1.37-1.37c-.4-.4-.92-.59-1.43-.59-.52 0-1.04.2-1.43.59L10.3 9.45l-7.72 7.72c-.78.78-.78 2.05 0 2.83L4 21.41c.39.39.9.59 1.41.59.51 0 1.02-.2 1.41-.59l7.78-7.78 2.81-2.81c.8-.78.8-2.07 0-2.86zM5.41 20L4 18.59l7.72-7.72 1.47 1.35L5.41 20z\"/>\n",
              "  </svg>\n",
              "      </button>\n",
              "      \n",
              "  <style>\n",
              "    .colab-df-container {\n",
              "      display:flex;\n",
              "      flex-wrap:wrap;\n",
              "      gap: 12px;\n",
              "    }\n",
              "\n",
              "    .colab-df-convert {\n",
              "      background-color: #E8F0FE;\n",
              "      border: none;\n",
              "      border-radius: 50%;\n",
              "      cursor: pointer;\n",
              "      display: none;\n",
              "      fill: #1967D2;\n",
              "      height: 32px;\n",
              "      padding: 0 0 0 0;\n",
              "      width: 32px;\n",
              "    }\n",
              "\n",
              "    .colab-df-convert:hover {\n",
              "      background-color: #E2EBFA;\n",
              "      box-shadow: 0px 1px 2px rgba(60, 64, 67, 0.3), 0px 1px 3px 1px rgba(60, 64, 67, 0.15);\n",
              "      fill: #174EA6;\n",
              "    }\n",
              "\n",
              "    [theme=dark] .colab-df-convert {\n",
              "      background-color: #3B4455;\n",
              "      fill: #D2E3FC;\n",
              "    }\n",
              "\n",
              "    [theme=dark] .colab-df-convert:hover {\n",
              "      background-color: #434B5C;\n",
              "      box-shadow: 0px 1px 3px 1px rgba(0, 0, 0, 0.15);\n",
              "      filter: drop-shadow(0px 1px 2px rgba(0, 0, 0, 0.3));\n",
              "      fill: #FFFFFF;\n",
              "    }\n",
              "  </style>\n",
              "\n",
              "      <script>\n",
              "        const buttonEl =\n",
              "          document.querySelector('#df-d5ffe53b-ea16-4f8f-8f3a-e895d33e9102 button.colab-df-convert');\n",
              "        buttonEl.style.display =\n",
              "          google.colab.kernel.accessAllowed ? 'block' : 'none';\n",
              "\n",
              "        async function convertToInteractive(key) {\n",
              "          const element = document.querySelector('#df-d5ffe53b-ea16-4f8f-8f3a-e895d33e9102');\n",
              "          const dataTable =\n",
              "            await google.colab.kernel.invokeFunction('convertToInteractive',\n",
              "                                                     [key], {});\n",
              "          if (!dataTable) return;\n",
              "\n",
              "          const docLinkHtml = 'Like what you see? Visit the ' +\n",
              "            '<a target=\"_blank\" href=https://colab.research.google.com/notebooks/data_table.ipynb>data table notebook</a>'\n",
              "            + ' to learn more about interactive tables.';\n",
              "          element.innerHTML = '';\n",
              "          dataTable['output_type'] = 'display_data';\n",
              "          await google.colab.output.renderOutput(dataTable, element);\n",
              "          const docLink = document.createElement('div');\n",
              "          docLink.innerHTML = docLinkHtml;\n",
              "          element.appendChild(docLink);\n",
              "        }\n",
              "      </script>\n",
              "    </div>\n",
              "  </div>\n",
              "  "
            ],
            "text/plain": [
              "           0         1         2         3\n",
              "15  0.369909  0.704301  0.674157  0.442857\n",
              "16  0.301746  0.661290  0.707865  0.471429\n",
              "17  0.239401  0.655914  0.651685  0.485714\n",
              "18  0.246052  0.677419  0.696629  0.485714"
            ]
          },
          "metadata": {},
          "execution_count": 44
        }
      ]
    },
    {
      "cell_type": "code",
      "source": [
        "for option in train_options:\n",
        "  generator = TimeseriesGenerator(scaled_train_df[option], scaled_train_df[0], length=18, batch_size=1) \n",
        "  print(generator[0])"
      ],
      "metadata": {
        "id": "i9cWCMElmuhe"
      },
      "execution_count": null,
      "outputs": []
    },
    {
      "cell_type": "code",
      "source": [
        "column_name = list(df.columns)"
      ],
      "metadata": {
        "id": "4njThS5OoB8f"
      },
      "execution_count": null,
      "outputs": []
    },
    {
      "cell_type": "code",
      "source": [
        "scaled_test_df = pd.DataFrame(scaled_train)"
      ],
      "metadata": {
        "id": "Tk4wEIfXxmuw"
      },
      "execution_count": null,
      "outputs": []
    },
    {
      "cell_type": "code",
      "source": [
        "model_input = np.array(scaled_test_df.iloc[0:18][[0,1]])"
      ],
      "metadata": {
        "id": "VoKzHIuRxu-8"
      },
      "execution_count": null,
      "outputs": []
    },
    {
      "cell_type": "code",
      "source": [
        "model_input.reshape(1,18,2)"
      ],
      "metadata": {
        "colab": {
          "base_uri": "https://localhost:8080/"
        },
        "id": "BQ6-KQIAx-Uj",
        "outputId": "8c27bfcb-3b94-4787-d386-e9ab718292eb"
      },
      "execution_count": null,
      "outputs": [
        {
          "output_type": "execute_result",
          "data": {
            "text/plain": [
              "array([[[0.07730673, 0.40860215],\n",
              "        [0.31587697, 0.56451613],\n",
              "        [0.59351621, 0.72580645],\n",
              "        [0.34413965, 0.74193548],\n",
              "        [0.32335827, 0.74731183],\n",
              "        [0.57772236, 0.83333333],\n",
              "        [0.31837074, 0.81182796],\n",
              "        [0.48212801, 0.8655914 ],\n",
              "        [0.24438903, 0.86021505],\n",
              "        [0.10141313, 0.58602151],\n",
              "        [0.06899418, 0.45698925],\n",
              "        [0.08645054, 0.49462366],\n",
              "        [0.17705736, 0.56989247],\n",
              "        [0.32751455, 0.64516129],\n",
              "        [0.54862843, 0.72580645],\n",
              "        [0.36990856, 0.70430108],\n",
              "        [0.30174564, 0.66129032],\n",
              "        [0.2394015 , 0.65591398]]])"
            ]
          },
          "metadata": {},
          "execution_count": 75
        }
      ]
    },
    {
      "cell_type": "code",
      "source": [
        "scaled_test_df.shape"
      ],
      "metadata": {
        "colab": {
          "base_uri": "https://localhost:8080/"
        },
        "id": "NIX3v7TSzGPX",
        "outputId": "09f5dc4d-64bd-4791-bc86-a748b66ab2c7"
      },
      "execution_count": null,
      "outputs": [
        {
          "output_type": "execute_result",
          "data": {
            "text/plain": [
              "(2920, 4)"
            ]
          },
          "metadata": {},
          "execution_count": 76
        }
      ]
    },
    {
      "cell_type": "code",
      "source": [
        "best_model = None\n",
        "lowest_error = 58000"
      ],
      "metadata": {
        "id": "75f1Tiq0zqIv"
      },
      "execution_count": null,
      "outputs": []
    },
    {
      "cell_type": "code",
      "source": [
        "n_input = 18 # horas hacia atrás\n",
        "n_output = 1 # horas predichas"
      ],
      "metadata": {
        "id": "hyYApT_z0PeX"
      },
      "execution_count": null,
      "outputs": []
    },
    {
      "cell_type": "code",
      "source": [
        "for option in train_options:\n",
        "  n_features = len(option)-1 # variables exógenas\n",
        "  generator = TimeseriesGenerator(scaled_train_df[option], scaled_train_df[0], length=n_input, batch_size=n_output)  \n",
        "  model = create_Model(n_input,LSTM_neurons=90,n_features=n_features)\n",
        "  names = []\n",
        "  for num in option:\n",
        "    names.append(column_name[num])\n",
        "  print('Combinacion',names)\n",
        "  model.fit(generator,epochs=5,verbose=False)\n",
        "  predictions = []\n",
        "  for j in range(n_input,len(df_test)):\n",
        "    model_input = np.array(scaled_test_df.iloc[j-n_input:j][option])\n",
        "    model_input = model_input.reshape((1, n_input, n_features+1))\n",
        "    predictions.append(model.predict(model_input)[0])\n",
        "  predictions = np.ndarray.flatten(np.array(predictions))  \n",
        "  # reshape for inverse transform\n",
        "  test_predictions =  np.zeros(shape=(len(predictions), 4))\n",
        "  # first column is Global radiation\n",
        "  test_predictions[:,0] = predictions\n",
        "  true_predictions = scaler.inverse_transform(test_predictions)\n",
        "  true_predictions = np.ndarray.flatten(true_predictions[:,0])\n",
        "  true_values = np.ndarray.flatten(df_test.iloc[n_input:]['SRGLOAVG1H'].values)\n",
        "  error = mean_squared_error(true_values,true_predictions)\n",
        "  print('Error:',error)\n",
        "  if(error < lowest_error):\n",
        "    best_model = model\n",
        "    lowest_error = error\n",
        "    print('Best:',names)"
      ],
      "metadata": {
        "id": "u3nAqhOzl8EX",
        "colab": {
          "base_uri": "https://localhost:8080/"
        },
        "outputId": "5deef3fe-5e8e-4d4f-9700-8c18dbf3cfc4"
      },
      "execution_count": null,
      "outputs": [
        {
          "output_type": "stream",
          "name": "stdout",
          "text": [
            "Combinacion ['SRGLOAVG1H', 'TAMAX1H']\n",
            "Error: 55365.54702481891\n",
            "Best: ['SRGLOAVG1H', 'TAMAX1H']\n",
            "Combinacion ['SRGLOAVG1H', 'WS1HA']\n",
            "Error: 52783.484815315795\n",
            "Best: ['SRGLOAVG1H', 'WS1HA']\n",
            "Combinacion ['SRGLOAVG1H', 'RHMAX1H']\n",
            "Error: 54177.98460268963\n",
            "Combinacion ['SRGLOAVG1H', 'TAMAX1H', 'WS1HA']\n",
            "Error: 58312.244445536264\n",
            "Combinacion ['SRGLOAVG1H', 'TAMAX1H', 'RHMAX1H']\n",
            "Error: 58093.561227210696\n",
            "Combinacion ['SRGLOAVG1H', 'WS1HA', 'RHMAX1H']\n",
            "Error: 54590.14598753208\n"
          ]
        }
      ]
    },
    {
      "cell_type": "markdown",
      "source": [
        "random forest feature selection"
      ],
      "metadata": {
        "id": "SOUAAcJFJRGR"
      }
    },
    {
      "cell_type": "code",
      "source": [
        "best_model.save('./drive/MyDrive/DatosInvestigacion/RSG_multi_model.h5')"
      ],
      "metadata": {
        "id": "h5dKf3TNhJ0h"
      },
      "execution_count": null,
      "outputs": []
    },
    {
      "cell_type": "code",
      "source": [
        "best_model.summary()"
      ],
      "metadata": {
        "colab": {
          "base_uri": "https://localhost:8080/"
        },
        "id": "i5j8nfLg13M9",
        "outputId": "3669f866-c3df-41ca-dff6-cdd08c9222ac"
      },
      "execution_count": null,
      "outputs": [
        {
          "output_type": "stream",
          "name": "stdout",
          "text": [
            "Model: \"sequential_2\"\n",
            "_________________________________________________________________\n",
            " Layer (type)                Output Shape              Param #   \n",
            "=================================================================\n",
            " lstm_2 (LSTM)               (None, 90)                33480     \n",
            "                                                                 \n",
            " dense_2 (Dense)             (None, 1)                 91        \n",
            "                                                                 \n",
            "=================================================================\n",
            "Total params: 33,571\n",
            "Trainable params: 33,571\n",
            "Non-trainable params: 0\n",
            "_________________________________________________________________\n"
          ]
        }
      ]
    },
    {
      "cell_type": "code",
      "source": [
        ""
      ],
      "metadata": {
        "id": "Yrf_LUXfDmAA"
      },
      "execution_count": null,
      "outputs": []
    }
  ]
}