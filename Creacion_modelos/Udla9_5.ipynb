{
  "cells": [
    {
      "cell_type": "markdown",
      "metadata": {
        "id": "KsESKg0EoWyV"
      },
      "source": [
        "# Evaluando la mejor ventana de predicción"
      ]
    },
    {
      "cell_type": "code",
      "execution_count": null,
      "metadata": {
        "id": "IEy9d0nuop_u"
      },
      "outputs": [],
      "source": [
        "import pandas as pd\n",
        "import matplotlib.pyplot as plt\n",
        "import numpy as np\n",
        "from sklearn.metrics import mean_squared_error\n",
        "from sklearn.metrics import mean_absolute_error\n",
        "from tensorflow import keras\n",
        "from keras.models import Sequential\n",
        "from keras.layers import Dense\n",
        "from keras.preprocessing.sequence import TimeseriesGenerator\n",
        "from keras.layers import LSTM"
      ]
    },
    {
      "cell_type": "code",
      "execution_count": null,
      "metadata": {
        "id": "u9_oTxfvoQdM"
      },
      "outputs": [],
      "source": [
        "model = keras.models.load_model('./drive/MyDrive/DatosInvestigacion/RSG_model.h5')"
      ]
    },
    {
      "cell_type": "code",
      "execution_count": null,
      "metadata": {
        "colab": {
          "base_uri": "https://localhost:8080/"
        },
        "id": "CqXdqkIPp9Rp",
        "outputId": "f24caf0d-c96d-49cf-87fe-50170691c04f"
      },
      "outputs": [
        {
          "name": "stdout",
          "output_type": "stream",
          "text": [
            "Model: \"sequential\"\n",
            "_________________________________________________________________\n",
            " Layer (type)                Output Shape              Param #   \n",
            "=================================================================\n",
            " lstm (LSTM)                 (None, 75)                23100     \n",
            "                                                                 \n",
            " dense (Dense)               (None, 1)                 76        \n",
            "                                                                 \n",
            "=================================================================\n",
            "Total params: 23,176\n",
            "Trainable params: 23,176\n",
            "Non-trainable params: 0\n",
            "_________________________________________________________________\n"
          ]
        }
      ],
      "source": [
        "model.summary()"
      ]
    },
    {
      "cell_type": "code",
      "execution_count": null,
      "metadata": {
        "id": "f0u3OCkBp4be"
      },
      "outputs": [],
      "source": [
        "n_input=22\n",
        "n_features = 0"
      ]
    },
    {
      "cell_type": "code",
      "execution_count": null,
      "metadata": {
        "id": "5NxzeaTrqM02"
      },
      "outputs": [],
      "source": [
        "df = pd.read_csv('./drive/MyDrive/DatosInvestigacion/final_train_2015.csv', index_col=0, parse_dates=True)\n",
        "df = df.asfreq('h')\n",
        "df = df.between_time('08:00:00','17:00:00')\n",
        "df = df[['SRGLOAVG1H','TAMAX1H','TAMIN1H','WS1HX','WS1HA','RHMIN1H','RHMAX1H']]\n"
      ]
    },
    {
      "cell_type": "code",
      "execution_count": null,
      "metadata": {
        "id": "j4k0ga04qP2z"
      },
      "outputs": [],
      "source": [
        "df_test = pd.read_csv('./drive/MyDrive/DatosInvestigacion/final_test_2015.csv', index_col=0, parse_dates=True)\n",
        "df_test = df_test.asfreq('h')\n",
        "df_test = df_test[['SRGLOAVG1H','TAMAX1H','TAMIN1H','WS1HX','WS1HA','RHMIN1H','RHMAX1H']]\n",
        "df_test = df_test.between_time('08:00:00','17:00:00')"
      ]
    },
    {
      "cell_type": "code",
      "execution_count": null,
      "metadata": {
        "id": "QVBM5DWeqYf-"
      },
      "outputs": [],
      "source": [
        "RSG = df['SRGLOAVG1H'].values\n",
        "RSG = np.reshape(RSG,(-1,1))\n",
        "RSG_test = df_test['SRGLOAVG1H'].values\n",
        "RSG_test = np.reshape(RSG_test,(-1,1))"
      ]
    },
    {
      "cell_type": "code",
      "execution_count": null,
      "metadata": {
        "id": "3a_PX_xIqgC2"
      },
      "outputs": [],
      "source": [
        "from sklearn.preprocessing import MinMaxScaler"
      ]
    },
    {
      "cell_type": "code",
      "execution_count": null,
      "metadata": {
        "id": "e4bLK21-qgci"
      },
      "outputs": [],
      "source": [
        "scaler = MinMaxScaler()\n",
        "scaler.fit(RSG)\n",
        "scaled_train = scaler.transform(RSG)\n",
        "scaled_test = scaler.transform(RSG_test)"
      ]
    },
    {
      "cell_type": "markdown",
      "metadata": {
        "id": "vs1N_xSjrB7N"
      },
      "source": [
        "Predecir la hora siguiente"
      ]
    },
    {
      "cell_type": "code",
      "execution_count": null,
      "metadata": {
        "id": "WOjjNrhoq24M"
      },
      "outputs": [],
      "source": [
        "predictions = []\n",
        "for j in range(n_input,len(df_test)):\n",
        "  model_input = scaled_test[j-n_input:j]\n",
        "  model_input = model_input.reshape((1, n_input, n_features+1))\n",
        "  predictions.append(model.predict(model_input)[0])\n",
        "predictions = np.ndarray.flatten(np.array(predictions))  \n",
        "true_predictions = scaler.inverse_transform(np.reshape(predictions,(-1,1)))\n",
        "true_values = np.ndarray.flatten(df_test.iloc[n_input:]['SRGLOAVG1H'].values)\n",
        "errorMSE = mean_squared_error(true_values,true_predictions)\n",
        "errorMAE = mean_absolute_error(true_values,true_predictions)"
      ]
    },
    {
      "cell_type": "code",
      "execution_count": null,
      "metadata": {
        "colab": {
          "base_uri": "https://localhost:8080/"
        },
        "id": "eZ-8WYUurfMm",
        "outputId": "10f787ef-ed90-466c-ee5f-477f45415c44"
      },
      "outputs": [
        {
          "data": {
            "text/plain": [
              "128.46700768610035"
            ]
          },
          "execution_count": 31,
          "metadata": {},
          "output_type": "execute_result"
        }
      ],
      "source": [
        "errorMAE"
      ]
    },
    {
      "cell_type": "code",
      "execution_count": null,
      "metadata": {
        "colab": {
          "base_uri": "https://localhost:8080/"
        },
        "id": "sRZ90MPRtj9_",
        "outputId": "bac38dc4-e76e-4892-cf26-34e9c2379be3"
      },
      "outputs": [
        {
          "data": {
            "text/plain": [
              "164.04970448822036"
            ]
          },
          "execution_count": 36,
          "metadata": {},
          "output_type": "execute_result"
        }
      ],
      "source": [
        "errorMSE**(1/2)"
      ]
    },
    {
      "cell_type": "markdown",
      "metadata": {
        "id": "y8tiY3W-rwHl"
      },
      "source": [
        "Predecir más horas"
      ]
    },
    {
      "cell_type": "code",
      "execution_count": null,
      "metadata": {
        "id": "0-T4fKZPr068"
      },
      "outputs": [],
      "source": [
        "ventana=2"
      ]
    },
    {
      "cell_type": "code",
      "execution_count": null,
      "metadata": {
        "id": "vj7MumpdrEfD"
      },
      "outputs": [],
      "source": [
        "test_predictions = []\n",
        "true_values = []\n",
        "first_eval_batch = scaled_test[:n_input]\n",
        "current_batch = first_eval_batch.reshape((1, n_input, n_features+1))\n",
        "\n",
        "for i in range(ventana):\n",
        "    \n",
        "    # obtener la predicción ([0] es para obtener solo el número en lugar de [matriz])\n",
        "    current_pred = model.predict(current_batch)[0]\n",
        "    \n",
        "    # guardar la predicción\n",
        "    test_predictions.append(current_pred) \n",
        "    \n",
        "    # actualizar el lote para incluir ahora la predicción y soltar primer valor\n",
        "    current_batch = np.append(current_batch[:,1:,:],[[current_pred]],axis=1)\n",
        "    true_values.append(RSG_test[n_input+i])"
      ]
    },
    {
      "cell_type": "code",
      "execution_count": null,
      "metadata": {
        "id": "fOLkpi03urVI"
      },
      "outputs": [],
      "source": [
        "true_predictions = scaler.inverse_transform(np.reshape(test_predictions,(-1,1)))"
      ]
    },
    {
      "cell_type": "code",
      "execution_count": null,
      "metadata": {
        "colab": {
          "base_uri": "https://localhost:8080/"
        },
        "id": "GT8Ib8EQsEGV",
        "outputId": "e8d3c05c-0c1d-4e27-ca73-8cb308606bcf"
      },
      "outputs": [
        {
          "data": {
            "text/plain": [
              "array([[376.],\n",
              "       [700.]])"
            ]
          },
          "execution_count": 47,
          "metadata": {},
          "output_type": "execute_result"
        }
      ],
      "source": [
        "RSG_test[n_input:n_input+ventana]"
      ]
    },
    {
      "cell_type": "code",
      "execution_count": null,
      "metadata": {
        "colab": {
          "base_uri": "https://localhost:8080/"
        },
        "id": "WBHiLNxnvu3S",
        "outputId": "91d4b504-18dc-4cc0-8746-d8cc3813ee4f"
      },
      "outputs": [
        {
          "data": {
            "text/plain": [
              "[array([376.]), array([700.])]"
            ]
          },
          "execution_count": 57,
          "metadata": {},
          "output_type": "execute_result"
        }
      ],
      "source": [
        "true_values"
      ]
    },
    {
      "cell_type": "code",
      "execution_count": null,
      "metadata": {
        "colab": {
          "base_uri": "https://localhost:8080/"
        },
        "id": "N5IkTH66wA2N",
        "outputId": "03cec456-c2fc-4636-aee1-e46267f19ccc"
      },
      "outputs": [
        {
          "data": {
            "text/plain": [
              "array([[583.85754],\n",
              "       [587.4029 ]], dtype=float32)"
            ]
          },
          "execution_count": 58,
          "metadata": {},
          "output_type": "execute_result"
        }
      ],
      "source": [
        "true_predictions"
      ]
    },
    {
      "cell_type": "markdown",
      "metadata": {
        "id": "whAGFytwtaMN"
      },
      "source": [
        "Ahora recorre todo el conjunto de pruebas"
      ]
    },
    {
      "cell_type": "code",
      "execution_count": null,
      "metadata": {
        "id": "MPmWILwrxHA4"
      },
      "outputs": [],
      "source": [
        "ventana=2"
      ]
    },
    {
      "cell_type": "code",
      "execution_count": null,
      "metadata": {
        "id": "3OuBrKsZsGZZ"
      },
      "outputs": [],
      "source": [
        "predictions = []\n",
        "true_values = []\n",
        "for j in range(n_input,len(df_test)-ventana):\n",
        "  first_eval_batch = scaled_test[j-n_input:j]\n",
        "  current_batch = first_eval_batch.reshape((1, n_input, n_features+1))\n",
        "  for i in range(ventana):\n",
        "      current_pred = model.predict(current_batch)[0]\n",
        "      # guardar la predicción\n",
        "      predictions.append(current_pred) \n",
        "      # actualizar el lote para incluir ahora la predicción y soltar primer valor\n",
        "      current_batch = np.append(current_batch[:,1:,:],[[current_pred]],axis=1)\n",
        "      true_values.append(RSG_test[j+i])\n",
        "true_predictions = scaler.inverse_transform(np.reshape(predictions,(-1,1)))"
      ]
    },
    {
      "cell_type": "code",
      "execution_count": null,
      "metadata": {
        "colab": {
          "base_uri": "https://localhost:8080/"
        },
        "id": "SE05yxbHxjfb",
        "outputId": "550e71a3-91ae-4238-d783-9ea737dbf64c"
      },
      "outputs": [
        {
          "data": {
            "text/plain": [
              "[array([376.]), array([700.]), array([700.]), array([665.]), array([665.])]"
            ]
          },
          "execution_count": 62,
          "metadata": {},
          "output_type": "execute_result"
        }
      ],
      "source": [
        "true_values[:5]"
      ]
    },
    {
      "cell_type": "code",
      "execution_count": null,
      "metadata": {
        "colab": {
          "base_uri": "https://localhost:8080/"
        },
        "id": "-50TF64yxkqH",
        "outputId": "7cd7ca09-3d3a-489f-b813-1709b1b2082e"
      },
      "outputs": [
        {
          "data": {
            "text/plain": [
              "array([[583.85754],\n",
              "       [587.4029 ],\n",
              "       [424.48642],\n",
              "       [512.0769 ],\n",
              "       [699.3955 ]], dtype=float32)"
            ]
          },
          "execution_count": 63,
          "metadata": {},
          "output_type": "execute_result"
        }
      ],
      "source": [
        "true_predictions[:5]"
      ]
    },
    {
      "cell_type": "code",
      "execution_count": null,
      "metadata": {
        "id": "yeCx_gOqxPE6"
      },
      "outputs": [],
      "source": [
        "errorMSE = mean_squared_error(true_values,true_predictions)\n",
        "errorMAE = mean_absolute_error(true_values,true_predictions)"
      ]
    },
    {
      "cell_type": "code",
      "execution_count": null,
      "metadata": {
        "colab": {
          "base_uri": "https://localhost:8080/"
        },
        "id": "YMXDQxe5y6qF",
        "outputId": "af4136a0-7392-4d94-aa63-2969e120bab3"
      },
      "outputs": [
        {
          "data": {
            "text/plain": [
              "144.68448880123893"
            ]
          },
          "execution_count": 65,
          "metadata": {},
          "output_type": "execute_result"
        }
      ],
      "source": [
        "errorMAE"
      ]
    },
    {
      "cell_type": "code",
      "execution_count": null,
      "metadata": {
        "colab": {
          "base_uri": "https://localhost:8080/"
        },
        "id": "3rBan81zy7pQ",
        "outputId": "a356fdec-38f1-42d8-edb9-ad712ba61656"
      },
      "outputs": [
        {
          "data": {
            "text/plain": [
              "183.5461698469602"
            ]
          },
          "execution_count": 66,
          "metadata": {},
          "output_type": "execute_result"
        }
      ],
      "source": [
        "errorMSE**(1/2)"
      ]
    },
    {
      "cell_type": "code",
      "execution_count": null,
      "metadata": {
        "id": "g5NiieN90Dfj"
      },
      "outputs": [],
      "source": [
        "resultados = []"
      ]
    },
    {
      "cell_type": "code",
      "execution_count": null,
      "metadata": {
        "colab": {
          "background_save": true,
          "base_uri": "https://localhost:8080/"
        },
        "id": "Pgzll6DIy-88",
        "outputId": "badd2393-64a3-4da2-e1f2-6ab8d974437a"
      },
      "outputs": [
        {
          "name": "stdout",
          "output_type": "stream",
          "text": [
            "Ventana: 31\n",
            "[{'Ventana': 31, 'MAE': 191.38712928653553, 'MSE': 241.6641313653061}]\n",
            "Ventana: 32\n",
            "[{'Ventana': 32, 'MAE': 191.91656063223633, 'MSE': 242.3379253775286}]\n"
          ]
        }
      ],
      "source": [
        "for ventana in range(31,33):\n",
        "  predictions = []\n",
        "  true_values = []\n",
        "  print('Ventana:',ventana)\n",
        "  for j in range(n_input,len(df_test)-ventana):\n",
        "    first_eval_batch = scaled_test[j-n_input:j]\n",
        "    current_batch = first_eval_batch.reshape((1, n_input, n_features+1))\n",
        "    for i in range(ventana):\n",
        "        current_pred = model.predict(current_batch)[0]\n",
        "        # guardar la predicción\n",
        "        predictions.append(current_pred) \n",
        "        # actualizar el lote para incluir ahora la predicción y soltar primer valor\n",
        "        current_batch = np.append(current_batch[:,1:,:],[[current_pred]],axis=1)\n",
        "        true_values.append(RSG_test[j+i])\n",
        "  true_predictions = scaler.inverse_transform(np.reshape(predictions,(-1,1)))\n",
        "  errorMSE = mean_squared_error(true_values,true_predictions)\n",
        "  errorMAE = mean_absolute_error(true_values,true_predictions)  \n",
        "  resultados.append({\n",
        "      'Ventana':ventana,\n",
        "      'MAE':errorMAE,\n",
        "      'MSE':errorMSE**(1/2)\n",
        "  })\n",
        "  print(resultados[-1:])"
      ]
    },
    {
      "cell_type": "code",
      "execution_count": null,
      "metadata": {
        "colab": {
          "base_uri": "https://localhost:8080/"
        },
        "id": "HHHu0XVv0WAy",
        "outputId": "ebbaf168-9622-4ba3-fd0e-6e3781896761"
      },
      "outputs": [
        {
          "output_type": "execute_result",
          "data": {
            "text/plain": [
              "[{'MAE': 191.38712928653553, 'MSE': 241.6641313653061, 'Ventana': 31},\n",
              " {'MAE': 191.91656063223633, 'MSE': 242.3379253775286, 'Ventana': 32}]"
            ]
          },
          "metadata": {},
          "execution_count": 5
        }
      ],
      "source": [
        "resultados[:2]"
      ]
    },
    {
      "cell_type": "code",
      "execution_count": null,
      "metadata": {
        "id": "dNaTLK9hClXR"
      },
      "outputs": [],
      "source": [
        "resultados = pd.DataFrame(resultados)"
      ]
    },
    {
      "cell_type": "code",
      "execution_count": null,
      "metadata": {
        "colab": {
          "base_uri": "https://localhost:8080/",
          "height": 112
        },
        "id": "ExYKP9oLCo3W",
        "outputId": "59651296-803d-4bd9-d4db-2663b3d91b3d"
      },
      "outputs": [
        {
          "output_type": "execute_result",
          "data": {
            "text/html": [
              "\n",
              "  <div id=\"df-e8627f2d-2bd6-42af-b311-fd86cbbb5868\">\n",
              "    <div class=\"colab-df-container\">\n",
              "      <div>\n",
              "<style scoped>\n",
              "    .dataframe tbody tr th:only-of-type {\n",
              "        vertical-align: middle;\n",
              "    }\n",
              "\n",
              "    .dataframe tbody tr th {\n",
              "        vertical-align: top;\n",
              "    }\n",
              "\n",
              "    .dataframe thead th {\n",
              "        text-align: right;\n",
              "    }\n",
              "</style>\n",
              "<table border=\"1\" class=\"dataframe\">\n",
              "  <thead>\n",
              "    <tr style=\"text-align: right;\">\n",
              "      <th></th>\n",
              "      <th>Ventana</th>\n",
              "      <th>MAE</th>\n",
              "      <th>MSE</th>\n",
              "    </tr>\n",
              "  </thead>\n",
              "  <tbody>\n",
              "    <tr>\n",
              "      <th>0</th>\n",
              "      <td>31</td>\n",
              "      <td>191.387129</td>\n",
              "      <td>241.664131</td>\n",
              "    </tr>\n",
              "    <tr>\n",
              "      <th>1</th>\n",
              "      <td>32</td>\n",
              "      <td>191.916561</td>\n",
              "      <td>242.337925</td>\n",
              "    </tr>\n",
              "  </tbody>\n",
              "</table>\n",
              "</div>\n",
              "      <button class=\"colab-df-convert\" onclick=\"convertToInteractive('df-e8627f2d-2bd6-42af-b311-fd86cbbb5868')\"\n",
              "              title=\"Convert this dataframe to an interactive table.\"\n",
              "              style=\"display:none;\">\n",
              "        \n",
              "  <svg xmlns=\"http://www.w3.org/2000/svg\" height=\"24px\"viewBox=\"0 0 24 24\"\n",
              "       width=\"24px\">\n",
              "    <path d=\"M0 0h24v24H0V0z\" fill=\"none\"/>\n",
              "    <path d=\"M18.56 5.44l.94 2.06.94-2.06 2.06-.94-2.06-.94-.94-2.06-.94 2.06-2.06.94zm-11 1L8.5 8.5l.94-2.06 2.06-.94-2.06-.94L8.5 2.5l-.94 2.06-2.06.94zm10 10l.94 2.06.94-2.06 2.06-.94-2.06-.94-.94-2.06-.94 2.06-2.06.94z\"/><path d=\"M17.41 7.96l-1.37-1.37c-.4-.4-.92-.59-1.43-.59-.52 0-1.04.2-1.43.59L10.3 9.45l-7.72 7.72c-.78.78-.78 2.05 0 2.83L4 21.41c.39.39.9.59 1.41.59.51 0 1.02-.2 1.41-.59l7.78-7.78 2.81-2.81c.8-.78.8-2.07 0-2.86zM5.41 20L4 18.59l7.72-7.72 1.47 1.35L5.41 20z\"/>\n",
              "  </svg>\n",
              "      </button>\n",
              "      \n",
              "  <style>\n",
              "    .colab-df-container {\n",
              "      display:flex;\n",
              "      flex-wrap:wrap;\n",
              "      gap: 12px;\n",
              "    }\n",
              "\n",
              "    .colab-df-convert {\n",
              "      background-color: #E8F0FE;\n",
              "      border: none;\n",
              "      border-radius: 50%;\n",
              "      cursor: pointer;\n",
              "      display: none;\n",
              "      fill: #1967D2;\n",
              "      height: 32px;\n",
              "      padding: 0 0 0 0;\n",
              "      width: 32px;\n",
              "    }\n",
              "\n",
              "    .colab-df-convert:hover {\n",
              "      background-color: #E2EBFA;\n",
              "      box-shadow: 0px 1px 2px rgba(60, 64, 67, 0.3), 0px 1px 3px 1px rgba(60, 64, 67, 0.15);\n",
              "      fill: #174EA6;\n",
              "    }\n",
              "\n",
              "    [theme=dark] .colab-df-convert {\n",
              "      background-color: #3B4455;\n",
              "      fill: #D2E3FC;\n",
              "    }\n",
              "\n",
              "    [theme=dark] .colab-df-convert:hover {\n",
              "      background-color: #434B5C;\n",
              "      box-shadow: 0px 1px 3px 1px rgba(0, 0, 0, 0.15);\n",
              "      filter: drop-shadow(0px 1px 2px rgba(0, 0, 0, 0.3));\n",
              "      fill: #FFFFFF;\n",
              "    }\n",
              "  </style>\n",
              "\n",
              "      <script>\n",
              "        const buttonEl =\n",
              "          document.querySelector('#df-e8627f2d-2bd6-42af-b311-fd86cbbb5868 button.colab-df-convert');\n",
              "        buttonEl.style.display =\n",
              "          google.colab.kernel.accessAllowed ? 'block' : 'none';\n",
              "\n",
              "        async function convertToInteractive(key) {\n",
              "          const element = document.querySelector('#df-e8627f2d-2bd6-42af-b311-fd86cbbb5868');\n",
              "          const dataTable =\n",
              "            await google.colab.kernel.invokeFunction('convertToInteractive',\n",
              "                                                     [key], {});\n",
              "          if (!dataTable) return;\n",
              "\n",
              "          const docLinkHtml = 'Like what you see? Visit the ' +\n",
              "            '<a target=\"_blank\" href=https://colab.research.google.com/notebooks/data_table.ipynb>data table notebook</a>'\n",
              "            + ' to learn more about interactive tables.';\n",
              "          element.innerHTML = '';\n",
              "          dataTable['output_type'] = 'display_data';\n",
              "          await google.colab.output.renderOutput(dataTable, element);\n",
              "          const docLink = document.createElement('div');\n",
              "          docLink.innerHTML = docLinkHtml;\n",
              "          element.appendChild(docLink);\n",
              "        }\n",
              "      </script>\n",
              "    </div>\n",
              "  </div>\n",
              "  "
            ],
            "text/plain": [
              "   Ventana         MAE         MSE\n",
              "0       31  191.387129  241.664131\n",
              "1       32  191.916561  242.337925"
            ]
          },
          "metadata": {},
          "execution_count": 7
        }
      ],
      "source": [
        "resultados.head()"
      ]
    },
    {
      "cell_type": "code",
      "execution_count": null,
      "metadata": {
        "id": "-FEgQghpyElm"
      },
      "outputs": [],
      "source": [
        "resultados_anteriores=pd.read_csv('./drive/MyDrive/DatosInvestigacion/resultados_prediccion.csv')"
      ]
    },
    {
      "cell_type": "code",
      "execution_count": null,
      "metadata": {
        "colab": {
          "base_uri": "https://localhost:8080/",
          "height": 1000
        },
        "id": "N36DIMFOyJPt",
        "outputId": "73b841d6-e29c-4fae-8489-7d5e8497d6c6"
      },
      "outputs": [
        {
          "output_type": "execute_result",
          "data": {
            "text/html": [
              "\n",
              "  <div id=\"df-fb975dbe-b738-4f67-8247-e7874ae0c3e5\">\n",
              "    <div class=\"colab-df-container\">\n",
              "      <div>\n",
              "<style scoped>\n",
              "    .dataframe tbody tr th:only-of-type {\n",
              "        vertical-align: middle;\n",
              "    }\n",
              "\n",
              "    .dataframe tbody tr th {\n",
              "        vertical-align: top;\n",
              "    }\n",
              "\n",
              "    .dataframe thead th {\n",
              "        text-align: right;\n",
              "    }\n",
              "</style>\n",
              "<table border=\"1\" class=\"dataframe\">\n",
              "  <thead>\n",
              "    <tr style=\"text-align: right;\">\n",
              "      <th></th>\n",
              "      <th>Ventana</th>\n",
              "      <th>MAE</th>\n",
              "      <th>MSE</th>\n",
              "    </tr>\n",
              "  </thead>\n",
              "  <tbody>\n",
              "    <tr>\n",
              "      <th>0</th>\n",
              "      <td>1</td>\n",
              "      <td>128.525358</td>\n",
              "      <td>164.102554</td>\n",
              "    </tr>\n",
              "    <tr>\n",
              "      <th>1</th>\n",
              "      <td>2</td>\n",
              "      <td>144.684489</td>\n",
              "      <td>183.546170</td>\n",
              "    </tr>\n",
              "    <tr>\n",
              "      <th>2</th>\n",
              "      <td>3</td>\n",
              "      <td>153.849718</td>\n",
              "      <td>195.036732</td>\n",
              "    </tr>\n",
              "    <tr>\n",
              "      <th>3</th>\n",
              "      <td>4</td>\n",
              "      <td>159.817385</td>\n",
              "      <td>202.413374</td>\n",
              "    </tr>\n",
              "    <tr>\n",
              "      <th>4</th>\n",
              "      <td>5</td>\n",
              "      <td>163.831378</td>\n",
              "      <td>207.319242</td>\n",
              "    </tr>\n",
              "    <tr>\n",
              "      <th>5</th>\n",
              "      <td>6</td>\n",
              "      <td>166.612613</td>\n",
              "      <td>210.694948</td>\n",
              "    </tr>\n",
              "    <tr>\n",
              "      <th>6</th>\n",
              "      <td>7</td>\n",
              "      <td>168.525955</td>\n",
              "      <td>213.022941</td>\n",
              "    </tr>\n",
              "    <tr>\n",
              "      <th>7</th>\n",
              "      <td>8</td>\n",
              "      <td>169.951643</td>\n",
              "      <td>214.714797</td>\n",
              "    </tr>\n",
              "    <tr>\n",
              "      <th>8</th>\n",
              "      <td>9</td>\n",
              "      <td>171.181020</td>\n",
              "      <td>216.142421</td>\n",
              "    </tr>\n",
              "    <tr>\n",
              "      <th>9</th>\n",
              "      <td>10</td>\n",
              "      <td>172.362544</td>\n",
              "      <td>217.572187</td>\n",
              "    </tr>\n",
              "    <tr>\n",
              "      <th>10</th>\n",
              "      <td>11</td>\n",
              "      <td>173.744954</td>\n",
              "      <td>219.222246</td>\n",
              "    </tr>\n",
              "    <tr>\n",
              "      <th>11</th>\n",
              "      <td>12</td>\n",
              "      <td>175.192204</td>\n",
              "      <td>221.013923</td>\n",
              "    </tr>\n",
              "    <tr>\n",
              "      <th>12</th>\n",
              "      <td>13</td>\n",
              "      <td>176.599226</td>\n",
              "      <td>222.863898</td>\n",
              "    </tr>\n",
              "    <tr>\n",
              "      <th>13</th>\n",
              "      <td>14</td>\n",
              "      <td>177.997329</td>\n",
              "      <td>224.717370</td>\n",
              "    </tr>\n",
              "    <tr>\n",
              "      <th>14</th>\n",
              "      <td>15</td>\n",
              "      <td>179.293416</td>\n",
              "      <td>226.468533</td>\n",
              "    </tr>\n",
              "    <tr>\n",
              "      <th>15</th>\n",
              "      <td>16</td>\n",
              "      <td>180.491478</td>\n",
              "      <td>228.057791</td>\n",
              "    </tr>\n",
              "    <tr>\n",
              "      <th>16</th>\n",
              "      <td>17</td>\n",
              "      <td>181.563629</td>\n",
              "      <td>229.467928</td>\n",
              "    </tr>\n",
              "    <tr>\n",
              "      <th>17</th>\n",
              "      <td>18</td>\n",
              "      <td>182.489810</td>\n",
              "      <td>230.711754</td>\n",
              "    </tr>\n",
              "    <tr>\n",
              "      <th>18</th>\n",
              "      <td>19</td>\n",
              "      <td>183.322997</td>\n",
              "      <td>231.801046</td>\n",
              "    </tr>\n",
              "    <tr>\n",
              "      <th>19</th>\n",
              "      <td>20</td>\n",
              "      <td>184.080317</td>\n",
              "      <td>232.769563</td>\n",
              "    </tr>\n",
              "    <tr>\n",
              "      <th>20</th>\n",
              "      <td>21</td>\n",
              "      <td>184.854657</td>\n",
              "      <td>233.717707</td>\n",
              "    </tr>\n",
              "    <tr>\n",
              "      <th>21</th>\n",
              "      <td>22</td>\n",
              "      <td>185.594805</td>\n",
              "      <td>234.605888</td>\n",
              "    </tr>\n",
              "    <tr>\n",
              "      <th>22</th>\n",
              "      <td>23</td>\n",
              "      <td>186.321887</td>\n",
              "      <td>235.482350</td>\n",
              "    </tr>\n",
              "    <tr>\n",
              "      <th>23</th>\n",
              "      <td>24</td>\n",
              "      <td>187.080703</td>\n",
              "      <td>236.396869</td>\n",
              "    </tr>\n",
              "    <tr>\n",
              "      <th>24</th>\n",
              "      <td>25</td>\n",
              "      <td>187.837881</td>\n",
              "      <td>237.312946</td>\n",
              "    </tr>\n",
              "    <tr>\n",
              "      <th>25</th>\n",
              "      <td>26</td>\n",
              "      <td>188.553600</td>\n",
              "      <td>238.193287</td>\n",
              "    </tr>\n",
              "    <tr>\n",
              "      <th>26</th>\n",
              "      <td>27</td>\n",
              "      <td>189.202181</td>\n",
              "      <td>238.991940</td>\n",
              "    </tr>\n",
              "    <tr>\n",
              "      <th>27</th>\n",
              "      <td>28</td>\n",
              "      <td>189.786815</td>\n",
              "      <td>239.714595</td>\n",
              "    </tr>\n",
              "    <tr>\n",
              "      <th>28</th>\n",
              "      <td>29</td>\n",
              "      <td>190.331141</td>\n",
              "      <td>240.373891</td>\n",
              "    </tr>\n",
              "    <tr>\n",
              "      <th>29</th>\n",
              "      <td>30</td>\n",
              "      <td>190.852643</td>\n",
              "      <td>241.008639</td>\n",
              "    </tr>\n",
              "    <tr>\n",
              "      <th>30</th>\n",
              "      <td>31</td>\n",
              "      <td>191.387129</td>\n",
              "      <td>241.664131</td>\n",
              "    </tr>\n",
              "    <tr>\n",
              "      <th>31</th>\n",
              "      <td>32</td>\n",
              "      <td>191.916561</td>\n",
              "      <td>242.337925</td>\n",
              "    </tr>\n",
              "  </tbody>\n",
              "</table>\n",
              "</div>\n",
              "      <button class=\"colab-df-convert\" onclick=\"convertToInteractive('df-fb975dbe-b738-4f67-8247-e7874ae0c3e5')\"\n",
              "              title=\"Convert this dataframe to an interactive table.\"\n",
              "              style=\"display:none;\">\n",
              "        \n",
              "  <svg xmlns=\"http://www.w3.org/2000/svg\" height=\"24px\"viewBox=\"0 0 24 24\"\n",
              "       width=\"24px\">\n",
              "    <path d=\"M0 0h24v24H0V0z\" fill=\"none\"/>\n",
              "    <path d=\"M18.56 5.44l.94 2.06.94-2.06 2.06-.94-2.06-.94-.94-2.06-.94 2.06-2.06.94zm-11 1L8.5 8.5l.94-2.06 2.06-.94-2.06-.94L8.5 2.5l-.94 2.06-2.06.94zm10 10l.94 2.06.94-2.06 2.06-.94-2.06-.94-.94-2.06-.94 2.06-2.06.94z\"/><path d=\"M17.41 7.96l-1.37-1.37c-.4-.4-.92-.59-1.43-.59-.52 0-1.04.2-1.43.59L10.3 9.45l-7.72 7.72c-.78.78-.78 2.05 0 2.83L4 21.41c.39.39.9.59 1.41.59.51 0 1.02-.2 1.41-.59l7.78-7.78 2.81-2.81c.8-.78.8-2.07 0-2.86zM5.41 20L4 18.59l7.72-7.72 1.47 1.35L5.41 20z\"/>\n",
              "  </svg>\n",
              "      </button>\n",
              "      \n",
              "  <style>\n",
              "    .colab-df-container {\n",
              "      display:flex;\n",
              "      flex-wrap:wrap;\n",
              "      gap: 12px;\n",
              "    }\n",
              "\n",
              "    .colab-df-convert {\n",
              "      background-color: #E8F0FE;\n",
              "      border: none;\n",
              "      border-radius: 50%;\n",
              "      cursor: pointer;\n",
              "      display: none;\n",
              "      fill: #1967D2;\n",
              "      height: 32px;\n",
              "      padding: 0 0 0 0;\n",
              "      width: 32px;\n",
              "    }\n",
              "\n",
              "    .colab-df-convert:hover {\n",
              "      background-color: #E2EBFA;\n",
              "      box-shadow: 0px 1px 2px rgba(60, 64, 67, 0.3), 0px 1px 3px 1px rgba(60, 64, 67, 0.15);\n",
              "      fill: #174EA6;\n",
              "    }\n",
              "\n",
              "    [theme=dark] .colab-df-convert {\n",
              "      background-color: #3B4455;\n",
              "      fill: #D2E3FC;\n",
              "    }\n",
              "\n",
              "    [theme=dark] .colab-df-convert:hover {\n",
              "      background-color: #434B5C;\n",
              "      box-shadow: 0px 1px 3px 1px rgba(0, 0, 0, 0.15);\n",
              "      filter: drop-shadow(0px 1px 2px rgba(0, 0, 0, 0.3));\n",
              "      fill: #FFFFFF;\n",
              "    }\n",
              "  </style>\n",
              "\n",
              "      <script>\n",
              "        const buttonEl =\n",
              "          document.querySelector('#df-fb975dbe-b738-4f67-8247-e7874ae0c3e5 button.colab-df-convert');\n",
              "        buttonEl.style.display =\n",
              "          google.colab.kernel.accessAllowed ? 'block' : 'none';\n",
              "\n",
              "        async function convertToInteractive(key) {\n",
              "          const element = document.querySelector('#df-fb975dbe-b738-4f67-8247-e7874ae0c3e5');\n",
              "          const dataTable =\n",
              "            await google.colab.kernel.invokeFunction('convertToInteractive',\n",
              "                                                     [key], {});\n",
              "          if (!dataTable) return;\n",
              "\n",
              "          const docLinkHtml = 'Like what you see? Visit the ' +\n",
              "            '<a target=\"_blank\" href=https://colab.research.google.com/notebooks/data_table.ipynb>data table notebook</a>'\n",
              "            + ' to learn more about interactive tables.';\n",
              "          element.innerHTML = '';\n",
              "          dataTable['output_type'] = 'display_data';\n",
              "          await google.colab.output.renderOutput(dataTable, element);\n",
              "          const docLink = document.createElement('div');\n",
              "          docLink.innerHTML = docLinkHtml;\n",
              "          element.appendChild(docLink);\n",
              "        }\n",
              "      </script>\n",
              "    </div>\n",
              "  </div>\n",
              "  "
            ],
            "text/plain": [
              "    Ventana         MAE         MSE\n",
              "0         1  128.525358  164.102554\n",
              "1         2  144.684489  183.546170\n",
              "2         3  153.849718  195.036732\n",
              "3         4  159.817385  202.413374\n",
              "4         5  163.831378  207.319242\n",
              "5         6  166.612613  210.694948\n",
              "6         7  168.525955  213.022941\n",
              "7         8  169.951643  214.714797\n",
              "8         9  171.181020  216.142421\n",
              "9        10  172.362544  217.572187\n",
              "10       11  173.744954  219.222246\n",
              "11       12  175.192204  221.013923\n",
              "12       13  176.599226  222.863898\n",
              "13       14  177.997329  224.717370\n",
              "14       15  179.293416  226.468533\n",
              "15       16  180.491478  228.057791\n",
              "16       17  181.563629  229.467928\n",
              "17       18  182.489810  230.711754\n",
              "18       19  183.322997  231.801046\n",
              "19       20  184.080317  232.769563\n",
              "20       21  184.854657  233.717707\n",
              "21       22  185.594805  234.605888\n",
              "22       23  186.321887  235.482350\n",
              "23       24  187.080703  236.396869\n",
              "24       25  187.837881  237.312946\n",
              "25       26  188.553600  238.193287\n",
              "26       27  189.202181  238.991940\n",
              "27       28  189.786815  239.714595\n",
              "28       29  190.331141  240.373891\n",
              "29       30  190.852643  241.008639\n",
              "30       31  191.387129  241.664131\n",
              "31       32  191.916561  242.337925"
            ]
          },
          "metadata": {},
          "execution_count": 11
        }
      ],
      "source": [
        "resultados_anteriores"
      ]
    },
    {
      "cell_type": "code",
      "execution_count": null,
      "metadata": {
        "colab": {
          "base_uri": "https://localhost:8080/",
          "height": 623
        },
        "id": "Oqjt-Ie2Cwme",
        "outputId": "ef4c87ae-b1e3-4c3a-868c-2f32d43f5c93"
      },
      "outputs": [
        {
          "output_type": "execute_result",
          "data": {
            "text/plain": [
              "<matplotlib.axes._subplots.AxesSubplot at 0x7f18f197b790>"
            ]
          },
          "metadata": {},
          "execution_count": 12
        },
        {
          "output_type": "display_data",
          "data": {
            "image/png": "[encoded data removed]",
            "text/plain": [
              "<Figure size 720x720 with 1 Axes>"
            ]
          },
          "metadata": {
            "needs_background": "light"
          }
        }
      ],
      "source": [
        "resultados_anteriores.plot(x='Ventana',figsize=(10,10))"
      ]
    },
    {
      "cell_type": "code",
      "execution_count": null,
      "metadata": {
        "id": "66Ft935tyXyJ"
      },
      "outputs": [],
      "source": [
        "resultados = pd.concat([resultados_anteriores,resultados],ignore_index=True)"
      ]
    },
    {
      "cell_type": "code",
      "execution_count": null,
      "metadata": {
        "id": "fYXTYT1IydPV"
      },
      "outputs": [],
      "source": [
        "resultados"
      ]
    },
    {
      "cell_type": "code",
      "execution_count": null,
      "metadata": {
        "colab": {
          "background_save": true
        },
        "id": "rxiRNe7PCd4u"
      },
      "outputs": [],
      "source": [
        "resultados.to_csv('./drive/MyDrive/DatosInvestigacion/resultados_prediccion.csv',index=False)"
      ]
    },
    {
      "cell_type": "code",
      "execution_count": null,
      "metadata": {
        "id": "MfHrxDaeC1y1"
      },
      "outputs": [],
      "source": [
        ""
      ]
    }
  ],
  "metadata": {
    "colab": {
      "collapsed_sections": [],
      "name": "Udla9_5.ipynb",
      "provenance": []
    },
    "kernelspec": {
      "display_name": "Python 3",
      "name": "python3"
    },
    "language_info": {
      "name": "python"
    }
  },
  "nbformat": 4,
  "nbformat_minor": 0
}