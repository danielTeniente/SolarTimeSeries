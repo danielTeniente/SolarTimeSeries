{
  "nbformat": 4,
  "nbformat_minor": 0,
  "metadata": {
    "colab": {
      "name": "Udla9.ipynb",
      "provenance": [],
      "collapsed_sections": []
    },
    "kernelspec": {
      "name": "python3",
      "display_name": "Python 3"
    },
    "language_info": {
      "name": "python"
    }
  },
  "cells": [
    {
      "cell_type": "markdown",
      "source": [
        "# LSTM con una variable"
      ],
      "metadata": {
        "id": "y0Ph67-3nQO3"
      }
    },
    {
      "cell_type": "code",
      "source": [
        "import pandas as pd\n",
        "import matplotlib.pyplot as plt\n",
        "import numpy as np\n",
        "from sklearn.metrics import mean_squared_error"
      ],
      "metadata": {
        "id": "bEzz6fnMnY2m"
      },
      "execution_count": null,
      "outputs": []
    },
    {
      "cell_type": "code",
      "execution_count": null,
      "metadata": {
        "id": "MprmZfxhmtZo"
      },
      "outputs": [],
      "source": [
        "df = pd.read_csv('./drive/MyDrive/DatosInvestigacion/final_train_2015.csv', index_col=0, parse_dates=True)\n",
        "df = df.asfreq('h')"
      ]
    },
    {
      "cell_type": "code",
      "source": [
        "df = df.between_time('08:00:00','17:00:00')"
      ],
      "metadata": {
        "id": "apP2Y0oco-qI"
      },
      "execution_count": null,
      "outputs": []
    },
    {
      "cell_type": "code",
      "source": [
        "df.head()"
      ],
      "metadata": {
        "colab": {
          "base_uri": "https://localhost:8080/",
          "height": 388
        },
        "id": "1_4OwKBKsLdl",
        "outputId": "73eb06a8-b6ee-4caf-a157-e71c0232fec6"
      },
      "execution_count": null,
      "outputs": [
        {
          "output_type": "execute_result",
          "data": {
            "text/html": [
              "\n",
              "  <div id=\"df-768ee52f-409f-4d32-a354-161c16bd7c00\">\n",
              "    <div class=\"colab-df-container\">\n",
              "      <div>\n",
              "<style scoped>\n",
              "    .dataframe tbody tr th:only-of-type {\n",
              "        vertical-align: middle;\n",
              "    }\n",
              "\n",
              "    .dataframe tbody tr th {\n",
              "        vertical-align: top;\n",
              "    }\n",
              "\n",
              "    .dataframe thead th {\n",
              "        text-align: right;\n",
              "    }\n",
              "</style>\n",
              "<table border=\"1\" class=\"dataframe\">\n",
              "  <thead>\n",
              "    <tr style=\"text-align: right;\">\n",
              "      <th></th>\n",
              "      <th>DC</th>\n",
              "      <th>PAAVG1H</th>\n",
              "      <th>PAMAX1H</th>\n",
              "      <th>PAMIN1H</th>\n",
              "      <th>PRSUM1H</th>\n",
              "      <th>RHAVG1H</th>\n",
              "      <th>RHMAX1H</th>\n",
              "      <th>RHMIN1H</th>\n",
              "      <th>SRDIFAVG1H</th>\n",
              "      <th>SRDIFMAX1H</th>\n",
              "      <th>SRDIFMIN1H</th>\n",
              "      <th>SRDIFSUM1H</th>\n",
              "      <th>SRGLOAVG1H</th>\n",
              "      <th>SRGLOMAX1H</th>\n",
              "      <th>SRGLOMIN1H</th>\n",
              "      <th>SRGLOSUM1H</th>\n",
              "      <th>TAAVG1H</th>\n",
              "      <th>TAMAX1H</th>\n",
              "      <th>TAMIN1H</th>\n",
              "      <th>TS1AVG1H</th>\n",
              "      <th>TS1MAX1H</th>\n",
              "      <th>TS1MIN1H</th>\n",
              "      <th>TS2AVG1H</th>\n",
              "      <th>TS2MAX1H</th>\n",
              "      <th>TS2MIN1H</th>\n",
              "      <th>TS3AVG1H</th>\n",
              "      <th>TS3MAX1H</th>\n",
              "      <th>TS3MIN1H</th>\n",
              "      <th>TS4AVG1H</th>\n",
              "      <th>TS4MAX1H</th>\n",
              "      <th>TS4MIN1H</th>\n",
              "      <th>TS5AVG1H</th>\n",
              "      <th>TS5MAX1H</th>\n",
              "      <th>TS5MIN1H</th>\n",
              "      <th>TS6AVG1H</th>\n",
              "      <th>TS6MAX1H</th>\n",
              "      <th>TS6MIN1H</th>\n",
              "      <th>TS7AVG1H</th>\n",
              "      <th>TS7MAX1H</th>\n",
              "      <th>TS7MIN1H</th>\n",
              "      <th>WD1HA</th>\n",
              "      <th>WD1HX</th>\n",
              "      <th>WDGM</th>\n",
              "      <th>WGD1HX</th>\n",
              "      <th>WGDH</th>\n",
              "      <th>WR1H</th>\n",
              "      <th>WS1HA</th>\n",
              "      <th>WS1HM</th>\n",
              "      <th>WS1HX</th>\n",
              "    </tr>\n",
              "    <tr>\n",
              "      <th>Local_Time</th>\n",
              "      <th></th>\n",
              "      <th></th>\n",
              "      <th></th>\n",
              "      <th></th>\n",
              "      <th></th>\n",
              "      <th></th>\n",
              "      <th></th>\n",
              "      <th></th>\n",
              "      <th></th>\n",
              "      <th></th>\n",
              "      <th></th>\n",
              "      <th></th>\n",
              "      <th></th>\n",
              "      <th></th>\n",
              "      <th></th>\n",
              "      <th></th>\n",
              "      <th></th>\n",
              "      <th></th>\n",
              "      <th></th>\n",
              "      <th></th>\n",
              "      <th></th>\n",
              "      <th></th>\n",
              "      <th></th>\n",
              "      <th></th>\n",
              "      <th></th>\n",
              "      <th></th>\n",
              "      <th></th>\n",
              "      <th></th>\n",
              "      <th></th>\n",
              "      <th></th>\n",
              "      <th></th>\n",
              "      <th></th>\n",
              "      <th></th>\n",
              "      <th></th>\n",
              "      <th></th>\n",
              "      <th></th>\n",
              "      <th></th>\n",
              "      <th></th>\n",
              "      <th></th>\n",
              "      <th></th>\n",
              "      <th></th>\n",
              "      <th></th>\n",
              "      <th></th>\n",
              "      <th></th>\n",
              "      <th></th>\n",
              "      <th></th>\n",
              "      <th></th>\n",
              "      <th></th>\n",
              "      <th></th>\n",
              "    </tr>\n",
              "  </thead>\n",
              "  <tbody>\n",
              "    <tr>\n",
              "      <th>2015-01-01 08:00:00</th>\n",
              "      <td>13.9</td>\n",
              "      <td>743.5</td>\n",
              "      <td>743.7</td>\n",
              "      <td>743.1</td>\n",
              "      <td>0.0</td>\n",
              "      <td>94</td>\n",
              "      <td>96</td>\n",
              "      <td>89</td>\n",
              "      <td>97.0</td>\n",
              "      <td>145.0</td>\n",
              "      <td>37.0</td>\n",
              "      <td>5836.0</td>\n",
              "      <td>107.0</td>\n",
              "      <td>162.0</td>\n",
              "      <td>40.0</td>\n",
              "      <td>6404.0</td>\n",
              "      <td>10.6</td>\n",
              "      <td>12.2</td>\n",
              "      <td>9.5</td>\n",
              "      <td>10.3</td>\n",
              "      <td>11.9</td>\n",
              "      <td>9.3</td>\n",
              "      <td>10.6</td>\n",
              "      <td>12.0</td>\n",
              "      <td>9.7</td>\n",
              "      <td>11.1</td>\n",
              "      <td>12.1</td>\n",
              "      <td>10.5</td>\n",
              "      <td>12.1</td>\n",
              "      <td>12.3</td>\n",
              "      <td>12.0</td>\n",
              "      <td>13.7</td>\n",
              "      <td>13.8</td>\n",
              "      <td>13.7</td>\n",
              "      <td>15.0</td>\n",
              "      <td>15.0</td>\n",
              "      <td>15.0</td>\n",
              "      <td>15.0</td>\n",
              "      <td>15.0</td>\n",
              "      <td>15.0</td>\n",
              "      <td>42</td>\n",
              "      <td>91</td>\n",
              "      <td>54</td>\n",
              "      <td>46.0</td>\n",
              "      <td>7.0</td>\n",
              "      <td>37.0</td>\n",
              "      <td>2.5</td>\n",
              "      <td>0.4</td>\n",
              "      <td>4.6</td>\n",
              "    </tr>\n",
              "    <tr>\n",
              "      <th>2015-01-01 09:00:00</th>\n",
              "      <td>15.0</td>\n",
              "      <td>743.8</td>\n",
              "      <td>743.9</td>\n",
              "      <td>743.7</td>\n",
              "      <td>0.0</td>\n",
              "      <td>84</td>\n",
              "      <td>89</td>\n",
              "      <td>76</td>\n",
              "      <td>224.0</td>\n",
              "      <td>514.0</td>\n",
              "      <td>120.0</td>\n",
              "      <td>13469.0</td>\n",
              "      <td>394.0</td>\n",
              "      <td>781.0</td>\n",
              "      <td>136.0</td>\n",
              "      <td>23646.0</td>\n",
              "      <td>13.5</td>\n",
              "      <td>15.1</td>\n",
              "      <td>12.2</td>\n",
              "      <td>13.2</td>\n",
              "      <td>14.9</td>\n",
              "      <td>11.9</td>\n",
              "      <td>13.1</td>\n",
              "      <td>14.4</td>\n",
              "      <td>12.0</td>\n",
              "      <td>12.8</td>\n",
              "      <td>13.6</td>\n",
              "      <td>12.1</td>\n",
              "      <td>12.6</td>\n",
              "      <td>12.9</td>\n",
              "      <td>12.3</td>\n",
              "      <td>13.7</td>\n",
              "      <td>13.7</td>\n",
              "      <td>13.7</td>\n",
              "      <td>15.0</td>\n",
              "      <td>15.0</td>\n",
              "      <td>15.0</td>\n",
              "      <td>15.0</td>\n",
              "      <td>15.0</td>\n",
              "      <td>15.0</td>\n",
              "      <td>59</td>\n",
              "      <td>111</td>\n",
              "      <td>42</td>\n",
              "      <td>69.0</td>\n",
              "      <td>8.0</td>\n",
              "      <td>49.0</td>\n",
              "      <td>3.3</td>\n",
              "      <td>0.0</td>\n",
              "      <td>5.8</td>\n",
              "    </tr>\n",
              "    <tr>\n",
              "      <th>2015-01-01 10:00:00</th>\n",
              "      <td>15.0</td>\n",
              "      <td>743.7</td>\n",
              "      <td>743.9</td>\n",
              "      <td>743.4</td>\n",
              "      <td>0.0</td>\n",
              "      <td>68</td>\n",
              "      <td>79</td>\n",
              "      <td>57</td>\n",
              "      <td>219.0</td>\n",
              "      <td>329.0</td>\n",
              "      <td>97.0</td>\n",
              "      <td>13163.0</td>\n",
              "      <td>728.0</td>\n",
              "      <td>1197.0</td>\n",
              "      <td>373.0</td>\n",
              "      <td>43654.0</td>\n",
              "      <td>16.3</td>\n",
              "      <td>18.1</td>\n",
              "      <td>15.1</td>\n",
              "      <td>17.2</td>\n",
              "      <td>19.7</td>\n",
              "      <td>14.9</td>\n",
              "      <td>16.4</td>\n",
              "      <td>18.5</td>\n",
              "      <td>14.4</td>\n",
              "      <td>14.8</td>\n",
              "      <td>16.1</td>\n",
              "      <td>13.6</td>\n",
              "      <td>13.3</td>\n",
              "      <td>13.8</td>\n",
              "      <td>12.9</td>\n",
              "      <td>13.7</td>\n",
              "      <td>13.7</td>\n",
              "      <td>13.7</td>\n",
              "      <td>15.0</td>\n",
              "      <td>15.0</td>\n",
              "      <td>15.0</td>\n",
              "      <td>15.0</td>\n",
              "      <td>15.0</td>\n",
              "      <td>15.0</td>\n",
              "      <td>40</td>\n",
              "      <td>175</td>\n",
              "      <td>41</td>\n",
              "      <td>28.0</td>\n",
              "      <td>9.0</td>\n",
              "      <td>66.0</td>\n",
              "      <td>4.4</td>\n",
              "      <td>0.0</td>\n",
              "      <td>8.4</td>\n",
              "    </tr>\n",
              "    <tr>\n",
              "      <th>2015-01-01 11:00:00</th>\n",
              "      <td>14.7</td>\n",
              "      <td>743.2</td>\n",
              "      <td>743.4</td>\n",
              "      <td>742.8</td>\n",
              "      <td>0.0</td>\n",
              "      <td>62</td>\n",
              "      <td>66</td>\n",
              "      <td>58</td>\n",
              "      <td>365.0</td>\n",
              "      <td>471.0</td>\n",
              "      <td>284.0</td>\n",
              "      <td>21929.0</td>\n",
              "      <td>428.0</td>\n",
              "      <td>667.0</td>\n",
              "      <td>303.0</td>\n",
              "      <td>25688.0</td>\n",
              "      <td>17.2</td>\n",
              "      <td>18.4</td>\n",
              "      <td>16.7</td>\n",
              "      <td>18.8</td>\n",
              "      <td>20.0</td>\n",
              "      <td>18.0</td>\n",
              "      <td>18.0</td>\n",
              "      <td>18.7</td>\n",
              "      <td>17.4</td>\n",
              "      <td>16.0</td>\n",
              "      <td>16.2</td>\n",
              "      <td>15.9</td>\n",
              "      <td>14.0</td>\n",
              "      <td>14.2</td>\n",
              "      <td>13.8</td>\n",
              "      <td>13.8</td>\n",
              "      <td>13.8</td>\n",
              "      <td>13.7</td>\n",
              "      <td>15.0</td>\n",
              "      <td>15.0</td>\n",
              "      <td>15.0</td>\n",
              "      <td>15.0</td>\n",
              "      <td>15.0</td>\n",
              "      <td>15.0</td>\n",
              "      <td>35</td>\n",
              "      <td>153</td>\n",
              "      <td>26</td>\n",
              "      <td>29.0</td>\n",
              "      <td>10.0</td>\n",
              "      <td>61.0</td>\n",
              "      <td>4.0</td>\n",
              "      <td>0.0</td>\n",
              "      <td>8.1</td>\n",
              "    </tr>\n",
              "    <tr>\n",
              "      <th>2015-01-01 12:00:00</th>\n",
              "      <td>14.8</td>\n",
              "      <td>742.6</td>\n",
              "      <td>742.9</td>\n",
              "      <td>742.3</td>\n",
              "      <td>0.0</td>\n",
              "      <td>60</td>\n",
              "      <td>65</td>\n",
              "      <td>55</td>\n",
              "      <td>371.0</td>\n",
              "      <td>678.0</td>\n",
              "      <td>166.0</td>\n",
              "      <td>22262.0</td>\n",
              "      <td>403.0</td>\n",
              "      <td>879.0</td>\n",
              "      <td>172.0</td>\n",
              "      <td>24204.0</td>\n",
              "      <td>17.7</td>\n",
              "      <td>18.5</td>\n",
              "      <td>17.2</td>\n",
              "      <td>18.1</td>\n",
              "      <td>18.6</td>\n",
              "      <td>17.4</td>\n",
              "      <td>17.5</td>\n",
              "      <td>17.9</td>\n",
              "      <td>17.1</td>\n",
              "      <td>16.0</td>\n",
              "      <td>16.3</td>\n",
              "      <td>15.9</td>\n",
              "      <td>14.4</td>\n",
              "      <td>14.5</td>\n",
              "      <td>14.2</td>\n",
              "      <td>13.9</td>\n",
              "      <td>13.9</td>\n",
              "      <td>13.8</td>\n",
              "      <td>15.0</td>\n",
              "      <td>15.0</td>\n",
              "      <td>15.0</td>\n",
              "      <td>15.0</td>\n",
              "      <td>15.0</td>\n",
              "      <td>15.0</td>\n",
              "      <td>34</td>\n",
              "      <td>162</td>\n",
              "      <td>40</td>\n",
              "      <td>7.0</td>\n",
              "      <td>11.0</td>\n",
              "      <td>54.0</td>\n",
              "      <td>3.5</td>\n",
              "      <td>0.0</td>\n",
              "      <td>7.6</td>\n",
              "    </tr>\n",
              "  </tbody>\n",
              "</table>\n",
              "</div>\n",
              "      <button class=\"colab-df-convert\" onclick=\"convertToInteractive('df-768ee52f-409f-4d32-a354-161c16bd7c00')\"\n",
              "              title=\"Convert this dataframe to an interactive table.\"\n",
              "              style=\"display:none;\">\n",
              "        \n",
              "  <svg xmlns=\"http://www.w3.org/2000/svg\" height=\"24px\"viewBox=\"0 0 24 24\"\n",
              "       width=\"24px\">\n",
              "    <path d=\"M0 0h24v24H0V0z\" fill=\"none\"/>\n",
              "    <path d=\"M18.56 5.44l.94 2.06.94-2.06 2.06-.94-2.06-.94-.94-2.06-.94 2.06-2.06.94zm-11 1L8.5 8.5l.94-2.06 2.06-.94-2.06-.94L8.5 2.5l-.94 2.06-2.06.94zm10 10l.94 2.06.94-2.06 2.06-.94-2.06-.94-.94-2.06-.94 2.06-2.06.94z\"/><path d=\"M17.41 7.96l-1.37-1.37c-.4-.4-.92-.59-1.43-.59-.52 0-1.04.2-1.43.59L10.3 9.45l-7.72 7.72c-.78.78-.78 2.05 0 2.83L4 21.41c.39.39.9.59 1.41.59.51 0 1.02-.2 1.41-.59l7.78-7.78 2.81-2.81c.8-.78.8-2.07 0-2.86zM5.41 20L4 18.59l7.72-7.72 1.47 1.35L5.41 20z\"/>\n",
              "  </svg>\n",
              "      </button>\n",
              "      \n",
              "  <style>\n",
              "    .colab-df-container {\n",
              "      display:flex;\n",
              "      flex-wrap:wrap;\n",
              "      gap: 12px;\n",
              "    }\n",
              "\n",
              "    .colab-df-convert {\n",
              "      background-color: #E8F0FE;\n",
              "      border: none;\n",
              "      border-radius: 50%;\n",
              "      cursor: pointer;\n",
              "      display: none;\n",
              "      fill: #1967D2;\n",
              "      height: 32px;\n",
              "      padding: 0 0 0 0;\n",
              "      width: 32px;\n",
              "    }\n",
              "\n",
              "    .colab-df-convert:hover {\n",
              "      background-color: #E2EBFA;\n",
              "      box-shadow: 0px 1px 2px rgba(60, 64, 67, 0.3), 0px 1px 3px 1px rgba(60, 64, 67, 0.15);\n",
              "      fill: #174EA6;\n",
              "    }\n",
              "\n",
              "    [theme=dark] .colab-df-convert {\n",
              "      background-color: #3B4455;\n",
              "      fill: #D2E3FC;\n",
              "    }\n",
              "\n",
              "    [theme=dark] .colab-df-convert:hover {\n",
              "      background-color: #434B5C;\n",
              "      box-shadow: 0px 1px 3px 1px rgba(0, 0, 0, 0.15);\n",
              "      filter: drop-shadow(0px 1px 2px rgba(0, 0, 0, 0.3));\n",
              "      fill: #FFFFFF;\n",
              "    }\n",
              "  </style>\n",
              "\n",
              "      <script>\n",
              "        const buttonEl =\n",
              "          document.querySelector('#df-768ee52f-409f-4d32-a354-161c16bd7c00 button.colab-df-convert');\n",
              "        buttonEl.style.display =\n",
              "          google.colab.kernel.accessAllowed ? 'block' : 'none';\n",
              "\n",
              "        async function convertToInteractive(key) {\n",
              "          const element = document.querySelector('#df-768ee52f-409f-4d32-a354-161c16bd7c00');\n",
              "          const dataTable =\n",
              "            await google.colab.kernel.invokeFunction('convertToInteractive',\n",
              "                                                     [key], {});\n",
              "          if (!dataTable) return;\n",
              "\n",
              "          const docLinkHtml = 'Like what you see? Visit the ' +\n",
              "            '<a target=\"_blank\" href=https://colab.research.google.com/notebooks/data_table.ipynb>data table notebook</a>'\n",
              "            + ' to learn more about interactive tables.';\n",
              "          element.innerHTML = '';\n",
              "          dataTable['output_type'] = 'display_data';\n",
              "          await google.colab.output.renderOutput(dataTable, element);\n",
              "          const docLink = document.createElement('div');\n",
              "          docLink.innerHTML = docLinkHtml;\n",
              "          element.appendChild(docLink);\n",
              "        }\n",
              "      </script>\n",
              "    </div>\n",
              "  </div>\n",
              "  "
            ],
            "text/plain": [
              "                       DC  PAAVG1H  PAMAX1H  PAMIN1H  ...  WR1H  WS1HA  WS1HM  WS1HX\n",
              "Local_Time                                            ...                           \n",
              "2015-01-01 08:00:00  13.9    743.5    743.7    743.1  ...  37.0    2.5    0.4    4.6\n",
              "2015-01-01 09:00:00  15.0    743.8    743.9    743.7  ...  49.0    3.3    0.0    5.8\n",
              "2015-01-01 10:00:00  15.0    743.7    743.9    743.4  ...  66.0    4.4    0.0    8.4\n",
              "2015-01-01 11:00:00  14.7    743.2    743.4    742.8  ...  61.0    4.0    0.0    8.1\n",
              "2015-01-01 12:00:00  14.8    742.6    742.9    742.3  ...  54.0    3.5    0.0    7.6\n",
              "\n",
              "[5 rows x 49 columns]"
            ]
          },
          "metadata": {},
          "execution_count": 4
        }
      ]
    },
    {
      "cell_type": "code",
      "source": [
        "df = df[['SRGLOAVG1H','TAMAX1H','TAMIN1H','WS1HX','WS1HA','RHMIN1H','RHMAX1H']]"
      ],
      "metadata": {
        "id": "Rvd5l6YRsNkv"
      },
      "execution_count": null,
      "outputs": []
    },
    {
      "cell_type": "code",
      "source": [
        "df.head()"
      ],
      "metadata": {
        "colab": {
          "base_uri": "https://localhost:8080/",
          "height": 238
        },
        "id": "mkAyfD3o1zA1",
        "outputId": "e9d7b940-e2cf-488c-cdf5-7c1cc9e5212c"
      },
      "execution_count": null,
      "outputs": [
        {
          "output_type": "execute_result",
          "data": {
            "text/html": [
              "\n",
              "  <div id=\"df-527eb352-e960-4f3e-9130-8d4ead463755\">\n",
              "    <div class=\"colab-df-container\">\n",
              "      <div>\n",
              "<style scoped>\n",
              "    .dataframe tbody tr th:only-of-type {\n",
              "        vertical-align: middle;\n",
              "    }\n",
              "\n",
              "    .dataframe tbody tr th {\n",
              "        vertical-align: top;\n",
              "    }\n",
              "\n",
              "    .dataframe thead th {\n",
              "        text-align: right;\n",
              "    }\n",
              "</style>\n",
              "<table border=\"1\" class=\"dataframe\">\n",
              "  <thead>\n",
              "    <tr style=\"text-align: right;\">\n",
              "      <th></th>\n",
              "      <th>SRGLOAVG1H</th>\n",
              "      <th>TAMAX1H</th>\n",
              "      <th>TAMIN1H</th>\n",
              "      <th>WS1HX</th>\n",
              "      <th>WS1HA</th>\n",
              "      <th>RHMIN1H</th>\n",
              "      <th>RHMAX1H</th>\n",
              "    </tr>\n",
              "    <tr>\n",
              "      <th>Local_Time</th>\n",
              "      <th></th>\n",
              "      <th></th>\n",
              "      <th></th>\n",
              "      <th></th>\n",
              "      <th></th>\n",
              "      <th></th>\n",
              "      <th></th>\n",
              "    </tr>\n",
              "  </thead>\n",
              "  <tbody>\n",
              "    <tr>\n",
              "      <th>2015-01-01 08:00:00</th>\n",
              "      <td>107.0</td>\n",
              "      <td>12.2</td>\n",
              "      <td>9.5</td>\n",
              "      <td>4.6</td>\n",
              "      <td>2.5</td>\n",
              "      <td>89</td>\n",
              "      <td>96</td>\n",
              "    </tr>\n",
              "    <tr>\n",
              "      <th>2015-01-01 09:00:00</th>\n",
              "      <td>394.0</td>\n",
              "      <td>15.1</td>\n",
              "      <td>12.2</td>\n",
              "      <td>5.8</td>\n",
              "      <td>3.3</td>\n",
              "      <td>76</td>\n",
              "      <td>89</td>\n",
              "    </tr>\n",
              "    <tr>\n",
              "      <th>2015-01-01 10:00:00</th>\n",
              "      <td>728.0</td>\n",
              "      <td>18.1</td>\n",
              "      <td>15.1</td>\n",
              "      <td>8.4</td>\n",
              "      <td>4.4</td>\n",
              "      <td>57</td>\n",
              "      <td>79</td>\n",
              "    </tr>\n",
              "    <tr>\n",
              "      <th>2015-01-01 11:00:00</th>\n",
              "      <td>428.0</td>\n",
              "      <td>18.4</td>\n",
              "      <td>16.7</td>\n",
              "      <td>8.1</td>\n",
              "      <td>4.0</td>\n",
              "      <td>58</td>\n",
              "      <td>66</td>\n",
              "    </tr>\n",
              "    <tr>\n",
              "      <th>2015-01-01 12:00:00</th>\n",
              "      <td>403.0</td>\n",
              "      <td>18.5</td>\n",
              "      <td>17.2</td>\n",
              "      <td>7.6</td>\n",
              "      <td>3.5</td>\n",
              "      <td>55</td>\n",
              "      <td>65</td>\n",
              "    </tr>\n",
              "  </tbody>\n",
              "</table>\n",
              "</div>\n",
              "      <button class=\"colab-df-convert\" onclick=\"convertToInteractive('df-527eb352-e960-4f3e-9130-8d4ead463755')\"\n",
              "              title=\"Convert this dataframe to an interactive table.\"\n",
              "              style=\"display:none;\">\n",
              "        \n",
              "  <svg xmlns=\"http://www.w3.org/2000/svg\" height=\"24px\"viewBox=\"0 0 24 24\"\n",
              "       width=\"24px\">\n",
              "    <path d=\"M0 0h24v24H0V0z\" fill=\"none\"/>\n",
              "    <path d=\"M18.56 5.44l.94 2.06.94-2.06 2.06-.94-2.06-.94-.94-2.06-.94 2.06-2.06.94zm-11 1L8.5 8.5l.94-2.06 2.06-.94-2.06-.94L8.5 2.5l-.94 2.06-2.06.94zm10 10l.94 2.06.94-2.06 2.06-.94-2.06-.94-.94-2.06-.94 2.06-2.06.94z\"/><path d=\"M17.41 7.96l-1.37-1.37c-.4-.4-.92-.59-1.43-.59-.52 0-1.04.2-1.43.59L10.3 9.45l-7.72 7.72c-.78.78-.78 2.05 0 2.83L4 21.41c.39.39.9.59 1.41.59.51 0 1.02-.2 1.41-.59l7.78-7.78 2.81-2.81c.8-.78.8-2.07 0-2.86zM5.41 20L4 18.59l7.72-7.72 1.47 1.35L5.41 20z\"/>\n",
              "  </svg>\n",
              "      </button>\n",
              "      \n",
              "  <style>\n",
              "    .colab-df-container {\n",
              "      display:flex;\n",
              "      flex-wrap:wrap;\n",
              "      gap: 12px;\n",
              "    }\n",
              "\n",
              "    .colab-df-convert {\n",
              "      background-color: #E8F0FE;\n",
              "      border: none;\n",
              "      border-radius: 50%;\n",
              "      cursor: pointer;\n",
              "      display: none;\n",
              "      fill: #1967D2;\n",
              "      height: 32px;\n",
              "      padding: 0 0 0 0;\n",
              "      width: 32px;\n",
              "    }\n",
              "\n",
              "    .colab-df-convert:hover {\n",
              "      background-color: #E2EBFA;\n",
              "      box-shadow: 0px 1px 2px rgba(60, 64, 67, 0.3), 0px 1px 3px 1px rgba(60, 64, 67, 0.15);\n",
              "      fill: #174EA6;\n",
              "    }\n",
              "\n",
              "    [theme=dark] .colab-df-convert {\n",
              "      background-color: #3B4455;\n",
              "      fill: #D2E3FC;\n",
              "    }\n",
              "\n",
              "    [theme=dark] .colab-df-convert:hover {\n",
              "      background-color: #434B5C;\n",
              "      box-shadow: 0px 1px 3px 1px rgba(0, 0, 0, 0.15);\n",
              "      filter: drop-shadow(0px 1px 2px rgba(0, 0, 0, 0.3));\n",
              "      fill: #FFFFFF;\n",
              "    }\n",
              "  </style>\n",
              "\n",
              "      <script>\n",
              "        const buttonEl =\n",
              "          document.querySelector('#df-527eb352-e960-4f3e-9130-8d4ead463755 button.colab-df-convert');\n",
              "        buttonEl.style.display =\n",
              "          google.colab.kernel.accessAllowed ? 'block' : 'none';\n",
              "\n",
              "        async function convertToInteractive(key) {\n",
              "          const element = document.querySelector('#df-527eb352-e960-4f3e-9130-8d4ead463755');\n",
              "          const dataTable =\n",
              "            await google.colab.kernel.invokeFunction('convertToInteractive',\n",
              "                                                     [key], {});\n",
              "          if (!dataTable) return;\n",
              "\n",
              "          const docLinkHtml = 'Like what you see? Visit the ' +\n",
              "            '<a target=\"_blank\" href=https://colab.research.google.com/notebooks/data_table.ipynb>data table notebook</a>'\n",
              "            + ' to learn more about interactive tables.';\n",
              "          element.innerHTML = '';\n",
              "          dataTable['output_type'] = 'display_data';\n",
              "          await google.colab.output.renderOutput(dataTable, element);\n",
              "          const docLink = document.createElement('div');\n",
              "          docLink.innerHTML = docLinkHtml;\n",
              "          element.appendChild(docLink);\n",
              "        }\n",
              "      </script>\n",
              "    </div>\n",
              "  </div>\n",
              "  "
            ],
            "text/plain": [
              "                     SRGLOAVG1H  TAMAX1H  TAMIN1H  ...  WS1HA  RHMIN1H  RHMAX1H\n",
              "Local_Time                                         ...                         \n",
              "2015-01-01 08:00:00       107.0     12.2      9.5  ...    2.5       89       96\n",
              "2015-01-01 09:00:00       394.0     15.1     12.2  ...    3.3       76       89\n",
              "2015-01-01 10:00:00       728.0     18.1     15.1  ...    4.4       57       79\n",
              "2015-01-01 11:00:00       428.0     18.4     16.7  ...    4.0       58       66\n",
              "2015-01-01 12:00:00       403.0     18.5     17.2  ...    3.5       55       65\n",
              "\n",
              "[5 rows x 7 columns]"
            ]
          },
          "metadata": {},
          "execution_count": 6
        }
      ]
    },
    {
      "cell_type": "code",
      "source": [
        "np.where(df=='/')"
      ],
      "metadata": {
        "colab": {
          "base_uri": "https://localhost:8080/"
        },
        "id": "rEZY3vFlsqnd",
        "outputId": "0c11c2a4-f313-43ff-d614-12f32449b59d"
      },
      "execution_count": null,
      "outputs": [
        {
          "output_type": "execute_result",
          "data": {
            "text/plain": [
              "(array([], dtype=int64), array([], dtype=int64))"
            ]
          },
          "metadata": {},
          "execution_count": 7
        }
      ]
    },
    {
      "cell_type": "code",
      "source": [
        "df_test = pd.read_csv('./drive/MyDrive/DatosInvestigacion/final_test_2015.csv', index_col=0, parse_dates=True)\n",
        "df_test = df_test.asfreq('h')"
      ],
      "metadata": {
        "id": "44_UnrswnUHz"
      },
      "execution_count": null,
      "outputs": []
    },
    {
      "cell_type": "code",
      "source": [
        "df_test = df_test[['SRGLOAVG1H','TAMAX1H','TAMIN1H','WS1HX','WS1HA','RHMIN1H','RHMAX1H']]\n",
        "df_test = df_test.between_time('08:00:00','17:00:00')"
      ],
      "metadata": {
        "id": "kvA1ic0Csx1V"
      },
      "execution_count": null,
      "outputs": []
    },
    {
      "cell_type": "markdown",
      "source": [
        "Se toma la serie de tiempo de la radiación solar global."
      ],
      "metadata": {
        "id": "EChV4_hj13lz"
      }
    },
    {
      "cell_type": "code",
      "source": [
        "RSG = df['SRGLOAVG1H'].values"
      ],
      "metadata": {
        "id": "jgibMqgN1b_1"
      },
      "execution_count": null,
      "outputs": []
    },
    {
      "cell_type": "code",
      "source": [
        "RSG = np.reshape(RSG,(-1,1))"
      ],
      "metadata": {
        "id": "TGo-pRv_1smA"
      },
      "execution_count": null,
      "outputs": []
    },
    {
      "cell_type": "code",
      "source": [
        "RSG[:5]"
      ],
      "metadata": {
        "colab": {
          "base_uri": "https://localhost:8080/"
        },
        "id": "q9ZpQ_qUv_WA",
        "outputId": "307d0d55-aec2-41cf-94f7-a94886779a55"
      },
      "execution_count": null,
      "outputs": [
        {
          "output_type": "execute_result",
          "data": {
            "text/plain": [
              "array([[107.],\n",
              "       [394.],\n",
              "       [728.],\n",
              "       [428.],\n",
              "       [403.]])"
            ]
          },
          "metadata": {},
          "execution_count": 12
        }
      ]
    },
    {
      "cell_type": "code",
      "source": [
        "RSG_test = df_test['SRGLOAVG1H'].values\n",
        "RSG_test = np.reshape(RSG_test,(-1,1))"
      ],
      "metadata": {
        "id": "8l1KjtClvV3w"
      },
      "execution_count": null,
      "outputs": []
    },
    {
      "cell_type": "code",
      "source": [
        "from sklearn.preprocessing import MinMaxScaler"
      ],
      "metadata": {
        "id": "sneX2gj_roTL"
      },
      "execution_count": null,
      "outputs": []
    },
    {
      "cell_type": "code",
      "source": [
        "scaler = MinMaxScaler()"
      ],
      "metadata": {
        "id": "RUfDEFCor27x"
      },
      "execution_count": null,
      "outputs": []
    },
    {
      "cell_type": "code",
      "source": [
        "scaler.fit(RSG)"
      ],
      "metadata": {
        "colab": {
          "base_uri": "https://localhost:8080/"
        },
        "id": "ll-DeCkor4iR",
        "outputId": "49683daf-6911-4799-9960-a4de7ff184a3"
      },
      "execution_count": null,
      "outputs": [
        {
          "output_type": "execute_result",
          "data": {
            "text/plain": [
              "MinMaxScaler()"
            ]
          },
          "metadata": {},
          "execution_count": 16
        }
      ]
    },
    {
      "cell_type": "code",
      "source": [
        "scaled_train = scaler.transform(RSG)\n",
        "scaled_test = scaler.transform(RSG_test)"
      ],
      "metadata": {
        "id": "BFQ9y3_WsALR"
      },
      "execution_count": null,
      "outputs": []
    },
    {
      "cell_type": "code",
      "source": [
        "scaled_train[0]"
      ],
      "metadata": {
        "colab": {
          "base_uri": "https://localhost:8080/"
        },
        "id": "JqIAwA2WsFyN",
        "outputId": "cd16c8d6-5a8c-4536-d2d7-5704f3988fc5"
      },
      "execution_count": null,
      "outputs": [
        {
          "output_type": "execute_result",
          "data": {
            "text/plain": [
              "array([0.07730673])"
            ]
          },
          "metadata": {},
          "execution_count": 18
        }
      ]
    },
    {
      "cell_type": "code",
      "source": [
        "from keras.preprocessing.sequence import TimeseriesGenerator"
      ],
      "metadata": {
        "id": "lb91maEPs5Co"
      },
      "execution_count": null,
      "outputs": []
    },
    {
      "cell_type": "markdown",
      "source": [
        "Se definen los batches para el entrenamiento."
      ],
      "metadata": {
        "id": "9J9naSSG2m1t"
      }
    },
    {
      "cell_type": "code",
      "source": [
        "n_input = 12 # horas hacia atrás\n",
        "n_features = 0 # variables exógenas\n",
        "generator = TimeseriesGenerator(scaled_train, scaled_train, length=n_input, batch_size=1)"
      ],
      "metadata": {
        "id": "8ISPAPxa2dzQ"
      },
      "execution_count": null,
      "outputs": []
    },
    {
      "cell_type": "code",
      "source": [
        "X,y = generator[0]"
      ],
      "metadata": {
        "id": "6TKbRhvupoFc"
      },
      "execution_count": null,
      "outputs": []
    },
    {
      "cell_type": "code",
      "source": [
        "print(f'Datos: \\n{X.flatten()}')\n",
        "print(f'Predicción: \\n {y}')"
      ],
      "metadata": {
        "colab": {
          "base_uri": "https://localhost:8080/"
        },
        "id": "4TJAmlXFpxlE",
        "outputId": "17cf8506-f938-4e81-b93f-c2e1f12642de"
      },
      "execution_count": null,
      "outputs": [
        {
          "output_type": "stream",
          "name": "stdout",
          "text": [
            "Datos: \n",
            "[0.07730673 0.31587697 0.59351621 0.34413965 0.32335827 0.57772236\n",
            " 0.31837074 0.48212801 0.24438903 0.10141313 0.06899418 0.08645054]\n",
            "Predicción: \n",
            " [[0.17705736]]\n"
          ]
        }
      ]
    },
    {
      "cell_type": "markdown",
      "source": [
        "## Creación del modelo"
      ],
      "metadata": {
        "id": "mORpHnYKp4Cp"
      }
    },
    {
      "cell_type": "code",
      "source": [
        "from tensorflow import keras\n",
        "from keras.models import Sequential\n",
        "from keras.layers import Dense\n",
        "from keras.layers import LSTM"
      ],
      "metadata": {
        "id": "RuWf_NwbpzPM"
      },
      "execution_count": null,
      "outputs": []
    },
    {
      "cell_type": "code",
      "source": [
        "# define model\n",
        "model = Sequential()\n",
        "model.add(LSTM(100, activation='relu', input_shape=(n_input, n_features+1)))\n",
        "model.add(Dense(1))\n",
        "model.compile(optimizer='adam', loss='mse')"
      ],
      "metadata": {
        "id": "bNvFyQL-p5u4"
      },
      "execution_count": null,
      "outputs": []
    },
    {
      "cell_type": "code",
      "source": [
        "model.summary()"
      ],
      "metadata": {
        "colab": {
          "base_uri": "https://localhost:8080/"
        },
        "id": "zzx9CoFRp8wY",
        "outputId": "53df5277-12eb-4c10-caa0-70ab47a003b6"
      },
      "execution_count": null,
      "outputs": [
        {
          "output_type": "stream",
          "name": "stdout",
          "text": [
            "Model: \"sequential\"\n",
            "_________________________________________________________________\n",
            " Layer (type)                Output Shape              Param #   \n",
            "=================================================================\n",
            " lstm (LSTM)                 (None, 100)               40800     \n",
            "                                                                 \n",
            " dense (Dense)               (None, 1)                 101       \n",
            "                                                                 \n",
            "=================================================================\n",
            "Total params: 40,901\n",
            "Trainable params: 40,901\n",
            "Non-trainable params: 0\n",
            "_________________________________________________________________\n"
          ]
        }
      ]
    },
    {
      "cell_type": "code",
      "source": [
        "# fit model\n",
        "model.fit(generator,epochs=10)"
      ],
      "metadata": {
        "colab": {
          "base_uri": "https://localhost:8080/"
        },
        "id": "wjuYD0JCp-Z4",
        "outputId": "3c220323-866c-4361-855c-223080978003"
      },
      "execution_count": null,
      "outputs": [
        {
          "output_type": "stream",
          "name": "stdout",
          "text": [
            "Epoch 1/10\n",
            "2908/2908 [==============================] - 25s 8ms/step - loss: 0.0252\n",
            "Epoch 2/10\n",
            "2908/2908 [==============================] - 22s 8ms/step - loss: 0.0182\n",
            "Epoch 3/10\n",
            "2908/2908 [==============================] - 23s 8ms/step - loss: 0.0173\n",
            "Epoch 4/10\n",
            "2908/2908 [==============================] - 23s 8ms/step - loss: 0.0169\n",
            "Epoch 5/10\n",
            "2908/2908 [==============================] - 23s 8ms/step - loss: 0.0163\n",
            "Epoch 6/10\n",
            "2908/2908 [==============================] - 23s 8ms/step - loss: 0.0161\n",
            "Epoch 7/10\n",
            "2908/2908 [==============================] - 22s 8ms/step - loss: 0.0161\n",
            "Epoch 8/10\n",
            "2908/2908 [==============================] - 23s 8ms/step - loss: 0.0160\n",
            "Epoch 9/10\n",
            "2908/2908 [==============================] - 23s 8ms/step - loss: 0.0159\n",
            "Epoch 10/10\n",
            "2908/2908 [==============================] - 23s 8ms/step - loss: 0.0158\n"
          ]
        },
        {
          "output_type": "execute_result",
          "data": {
            "text/plain": [
              "<keras.callbacks.History at 0x7f2b2237d710>"
            ]
          },
          "metadata": {},
          "execution_count": 41
        }
      ]
    },
    {
      "cell_type": "markdown",
      "source": [
        "Se puede observar que con 10 épocas es más que suficiente. Quizá se puede reducir a 8 épocas para la comparación de las siguientes redes."
      ],
      "metadata": {
        "id": "hteEtkvwowe3"
      }
    },
    {
      "cell_type": "code",
      "source": [
        "loss_per_epoch = model.history.history['loss']\n",
        "plt.plot(range(len(loss_per_epoch)),loss_per_epoch)"
      ],
      "metadata": {
        "colab": {
          "base_uri": "https://localhost:8080/",
          "height": 282
        },
        "id": "vOLB7VI8qC5d",
        "outputId": "eb9f807a-abae-41ab-b746-8e8a56b006a8"
      },
      "execution_count": null,
      "outputs": [
        {
          "output_type": "execute_result",
          "data": {
            "text/plain": [
              "[<matplotlib.lines.Line2D at 0x7f2b2237d950>]"
            ]
          },
          "metadata": {},
          "execution_count": 42
        },
        {
          "output_type": "display_data",
          "data": {
            "image/png": "[encoded data removed]",
            "text/plain": [
              "<Figure size 432x288 with 1 Axes>"
            ]
          },
          "metadata": {
            "needs_background": "light"
          }
        }
      ]
    },
    {
      "cell_type": "code",
      "source": [
        "X.shape"
      ],
      "metadata": {
        "colab": {
          "base_uri": "https://localhost:8080/"
        },
        "id": "NXt5N7DuqNhs",
        "outputId": "89b78a86-5b55-4080-8d73-8eb5c675ee6e"
      },
      "execution_count": null,
      "outputs": [
        {
          "output_type": "execute_result",
          "data": {
            "text/plain": [
              "(1, 12, 1)"
            ]
          },
          "metadata": {},
          "execution_count": 43
        }
      ]
    },
    {
      "cell_type": "code",
      "source": [
        "# Necesitaremos las últimas 12 horas del conjunto de entrenamiento para predecir la primera hora en el conjunto de prueba\n",
        "first_eval_batch = scaled_train[-12:]"
      ],
      "metadata": {
        "id": "ClMdrm6Qr2IQ"
      },
      "execution_count": null,
      "outputs": []
    },
    {
      "cell_type": "code",
      "source": [
        "first_eval_batch"
      ],
      "metadata": {
        "colab": {
          "base_uri": "https://localhost:8080/"
        },
        "id": "E9g5zigVsKV8",
        "outputId": "517652de-9be5-498c-ac37-9d70aab403f6"
      },
      "execution_count": null,
      "outputs": [
        {
          "output_type": "execute_result",
          "data": {
            "text/plain": [
              "array([[0.35078969],\n",
              "       [0.10224439],\n",
              "       [0.06650042],\n",
              "       [0.13466334],\n",
              "       [0.14962594],\n",
              "       [0.34413965],\n",
              "       [0.46051538],\n",
              "       [0.53782211],\n",
              "       [0.36242727],\n",
              "       [0.27847049],\n",
              "       [0.14131338],\n",
              "       [0.09143807]])"
            ]
          },
          "metadata": {},
          "execution_count": 45
        }
      ]
    },
    {
      "cell_type": "code",
      "source": [
        "first_eval_batch.shape"
      ],
      "metadata": {
        "colab": {
          "base_uri": "https://localhost:8080/"
        },
        "id": "jvhkRx3QsLlD",
        "outputId": "24cd9124-ae83-4a6f-d759-fefd94b0e9a9"
      },
      "execution_count": null,
      "outputs": [
        {
          "output_type": "execute_result",
          "data": {
            "text/plain": [
              "(12, 1)"
            ]
          },
          "metadata": {},
          "execution_count": 46
        }
      ]
    },
    {
      "cell_type": "code",
      "source": [
        "first_eval_batch = first_eval_batch.reshape((1, n_input, n_features+1))"
      ],
      "metadata": {
        "id": "C-_Vh1FEsWSz"
      },
      "execution_count": null,
      "outputs": []
    },
    {
      "cell_type": "code",
      "source": [
        "first_eval_batch.shape"
      ],
      "metadata": {
        "colab": {
          "base_uri": "https://localhost:8080/"
        },
        "id": "2frqSbVrsayL",
        "outputId": "ab677bfa-ab6e-40a3-f146-ca74f21cc501"
      },
      "execution_count": null,
      "outputs": [
        {
          "output_type": "execute_result",
          "data": {
            "text/plain": [
              "(1, 12, 1)"
            ]
          },
          "metadata": {},
          "execution_count": 48
        }
      ]
    },
    {
      "cell_type": "markdown",
      "source": [
        "Valor predicho y valor real."
      ],
      "metadata": {
        "id": "hfvmoJIesn1Q"
      }
    },
    {
      "cell_type": "code",
      "source": [
        "model.predict(first_eval_batch)[0]"
      ],
      "metadata": {
        "colab": {
          "base_uri": "https://localhost:8080/"
        },
        "id": "HUrFeImvscrv",
        "outputId": "00dac187-4462-467a-ed8b-3a0a92539c52"
      },
      "execution_count": null,
      "outputs": [
        {
          "output_type": "execute_result",
          "data": {
            "text/plain": [
              "array([0.08589282], dtype=float32)"
            ]
          },
          "metadata": {},
          "execution_count": 49
        }
      ]
    },
    {
      "cell_type": "code",
      "source": [
        "scaled_test[0]"
      ],
      "metadata": {
        "colab": {
          "base_uri": "https://localhost:8080/"
        },
        "id": "V-eArjSKsfLf",
        "outputId": "e267e473-c4a7-4465-c3a2-1c6f641dc246"
      },
      "execution_count": null,
      "outputs": [
        {
          "output_type": "execute_result",
          "data": {
            "text/plain": [
              "array([0.17290108])"
            ]
          },
          "metadata": {},
          "execution_count": 50
        }
      ]
    },
    {
      "cell_type": "markdown",
      "source": [
        "Se obtienen predicciones para una semana"
      ],
      "metadata": {
        "id": "qeH1fk3fytkw"
      }
    },
    {
      "cell_type": "code",
      "source": [
        "test_predictions = []\n",
        "\n",
        "first_eval_batch = scaled_train[-n_input:]\n",
        "current_batch = first_eval_batch.reshape((1, n_input, n_features+1))\n",
        "\n",
        "for i in range(12*7):\n",
        "    \n",
        "    # obtener la predicción ([0] es para obtener solo el número en lugar de [matriz])\n",
        "    current_pred = model.predict(current_batch)[0]\n",
        "    \n",
        "    # guardar la predicción\n",
        "    test_predictions.append(current_pred) \n",
        "    \n",
        "    # actualizar el lote para incluir ahora la predicción y soltar primer valor\n",
        "    current_batch = np.append(current_batch[:,1:,:],[[current_pred]],axis=1)"
      ],
      "metadata": {
        "id": "0Ah5rwvIsk3Y"
      },
      "execution_count": null,
      "outputs": []
    },
    {
      "cell_type": "code",
      "source": [
        "true_predictions = scaler.inverse_transform(test_predictions)"
      ],
      "metadata": {
        "id": "vCvlATreuInI"
      },
      "execution_count": null,
      "outputs": []
    },
    {
      "cell_type": "code",
      "source": [
        "df_plot = pd.DataFrame()"
      ],
      "metadata": {
        "id": "aseWp8tezgb4"
      },
      "execution_count": null,
      "outputs": []
    },
    {
      "cell_type": "code",
      "source": [
        "df_plot['RSG'] =  df_test['SRGLOAVG1H'][:12*7]"
      ],
      "metadata": {
        "id": "eWL6uYlQy0sc"
      },
      "execution_count": null,
      "outputs": []
    },
    {
      "cell_type": "code",
      "source": [
        "df_plot['predictions'] = true_predictions"
      ],
      "metadata": {
        "id": "qpMlMFZDy6b0"
      },
      "execution_count": null,
      "outputs": []
    },
    {
      "cell_type": "code",
      "source": [
        "df_plot.plot(figsize=(12,8))"
      ],
      "metadata": {
        "colab": {
          "base_uri": "https://localhost:8080/",
          "height": 500
        },
        "id": "4Xp7DKX3zFSr",
        "outputId": "1437a4a1-d02a-4a81-ef1a-893712a6b7a5"
      },
      "execution_count": null,
      "outputs": [
        {
          "output_type": "execute_result",
          "data": {
            "text/plain": [
              "<matplotlib.axes._subplots.AxesSubplot at 0x7f2b22175310>"
            ]
          },
          "metadata": {},
          "execution_count": 57
        },
        {
          "output_type": "display_data",
          "data": {
            "image/png": "[encoded data removed]",
            "text/plain": [
              "<Figure size 864x576 with 1 Axes>"
            ]
          },
          "metadata": {
            "needs_background": "light"
          }
        }
      ]
    },
    {
      "cell_type": "markdown",
      "source": [
        "Evaluación del modelo"
      ],
      "metadata": {
        "id": "BJM95Y8tl9BJ"
      }
    },
    {
      "cell_type": "code",
      "source": [
        "predictions = []"
      ],
      "metadata": {
        "id": "ZSPcvxJWoion"
      },
      "execution_count": null,
      "outputs": []
    },
    {
      "cell_type": "code",
      "source": [
        "for i in range(12,len(df_test)):\n",
        "  model_input = scaled_test[i-12:i]\n",
        "  model_input = model_input.reshape((1, n_input, n_features+1))\n",
        "  predictions.append(model.predict(model_input)[0])"
      ],
      "metadata": {
        "id": "cydchUDglweN"
      },
      "execution_count": null,
      "outputs": []
    },
    {
      "cell_type": "code",
      "source": [
        "predictions[:5]"
      ],
      "metadata": {
        "colab": {
          "base_uri": "https://localhost:8080/"
        },
        "id": "-X2sPc4bpvPx",
        "outputId": "6f58d116-8ea2-435f-8387-4aa00f3ca7ae"
      },
      "execution_count": null,
      "outputs": [
        {
          "output_type": "execute_result",
          "data": {
            "text/plain": [
              "[array([0.41258353], dtype=float32),\n",
              " array([0.47893292], dtype=float32),\n",
              " array([0.43803492], dtype=float32),\n",
              " array([0.25068438], dtype=float32),\n",
              " array([0.35563767], dtype=float32)]"
            ]
          },
          "metadata": {},
          "execution_count": 61
        }
      ]
    },
    {
      "cell_type": "code",
      "source": [
        "predictions = np.ndarray.flatten(np.array(predictions))"
      ],
      "metadata": {
        "id": "QJGvaV40qr4u"
      },
      "execution_count": null,
      "outputs": []
    },
    {
      "cell_type": "code",
      "source": [
        "len(predictions)"
      ],
      "metadata": {
        "colab": {
          "base_uri": "https://localhost:8080/"
        },
        "id": "oLjzI23SqBt_",
        "outputId": "e037cbb4-7b1a-4d08-c0c7-394cd8e6d8cd"
      },
      "execution_count": null,
      "outputs": [
        {
          "output_type": "execute_result",
          "data": {
            "text/plain": [
              "718"
            ]
          },
          "metadata": {},
          "execution_count": 71
        }
      ]
    },
    {
      "cell_type": "code",
      "source": [
        "len(df_test)"
      ],
      "metadata": {
        "colab": {
          "base_uri": "https://localhost:8080/"
        },
        "id": "V1Fbkn_BqHKn",
        "outputId": "471249e4-1c00-4aee-b62f-48cc0630637e"
      },
      "execution_count": null,
      "outputs": [
        {
          "output_type": "execute_result",
          "data": {
            "text/plain": [
              "730"
            ]
          },
          "metadata": {},
          "execution_count": 63
        }
      ]
    },
    {
      "cell_type": "code",
      "source": [
        "true_predictions = scaler.inverse_transform(predictions)"
      ],
      "metadata": {
        "id": "YBSHxkiLqN1-"
      },
      "execution_count": null,
      "outputs": []
    },
    {
      "cell_type": "code",
      "source": [
        "true_predictions[:5]"
      ],
      "metadata": {
        "colab": {
          "base_uri": "https://localhost:8080/"
        },
        "id": "fcJlZWrVqTXj",
        "outputId": "d03ae650-3cd1-4b56-9538-9fb4bb66d2d3"
      },
      "execution_count": null,
      "outputs": [
        {
          "output_type": "execute_result",
          "data": {
            "text/plain": [
              "array([[510.33798653],\n",
              "       [590.15629929],\n",
              "       [540.95601103],\n",
              "       [315.57330978],\n",
              "       [441.83211648]])"
            ]
          },
          "metadata": {},
          "execution_count": 65
        }
      ]
    },
    {
      "cell_type": "code",
      "source": [
        "true_values = np.ndarray.flatten(df_test.iloc[12:]['SRGLOAVG1H'].values)"
      ],
      "metadata": {
        "id": "NJCaF9sSqVjQ"
      },
      "execution_count": null,
      "outputs": []
    },
    {
      "cell_type": "code",
      "source": [
        "len(true_values)"
      ],
      "metadata": {
        "colab": {
          "base_uri": "https://localhost:8080/"
        },
        "id": "FQi4bQ9eqapf",
        "outputId": "1aea302c-7f9f-4cfe-d5e4-a976ac00192b"
      },
      "execution_count": null,
      "outputs": [
        {
          "output_type": "execute_result",
          "data": {
            "text/plain": [
              "718"
            ]
          },
          "metadata": {},
          "execution_count": 74
        }
      ]
    },
    {
      "cell_type": "code",
      "source": [
        "mean_squared_error(true_values,true_predictions)"
      ],
      "metadata": {
        "colab": {
          "base_uri": "https://localhost:8080/"
        },
        "id": "UHkNm_fsq0Xu",
        "outputId": "569b1ab9-e801-4244-febf-53106cbb574f"
      },
      "execution_count": null,
      "outputs": [
        {
          "output_type": "execute_result",
          "data": {
            "text/plain": [
              "24056.43082594629"
            ]
          },
          "metadata": {},
          "execution_count": 75
        }
      ]
    },
    {
      "cell_type": "markdown",
      "source": [
        "Este modelo es mejor que AR."
      ],
      "metadata": {
        "id": "apIPVpqhrKTv"
      }
    },
    {
      "cell_type": "code",
      "source": [
        "errorAR = 24345.459379778287\n",
        "errorLSTM = 24056.43082594629\n",
        "min(errorAR, errorLSTM)"
      ],
      "metadata": {
        "colab": {
          "base_uri": "https://localhost:8080/"
        },
        "id": "N-JHhZrhq62r",
        "outputId": "8f05058a-4b05-42be-aef2-9257ba44cc37"
      },
      "execution_count": null,
      "outputs": [
        {
          "output_type": "execute_result",
          "data": {
            "text/plain": [
              "24056.43082594629"
            ]
          },
          "metadata": {},
          "execution_count": 76
        }
      ]
    },
    {
      "cell_type": "markdown",
      "source": [
        "## Búsqueda de los mejores parámetros para el modelo"
      ],
      "metadata": {
        "id": "Gk1qJqeXjXag"
      }
    },
    {
      "cell_type": "markdown",
      "source": [
        "**Número de neuronas LSTM**"
      ],
      "metadata": {
        "id": "rurVeHrsPZUP"
      }
    },
    {
      "cell_type": "code",
      "source": [
        "def create_Model(n_input, LSTM_neurons = 100):\n",
        "  # define model\n",
        "  model = Sequential()\n",
        "  model.add(LSTM(LSTM_neurons, activation='relu', input_shape=(n_input, n_features+1)))\n",
        "  model.add(Dense(1))\n",
        "  model.compile(optimizer='adam', loss='mse')\n",
        "  return model"
      ],
      "metadata": {
        "id": "cTxMq9J4YbBt"
      },
      "execution_count": null,
      "outputs": []
    },
    {
      "cell_type": "code",
      "source": [
        "best_model = None\n",
        "lowest_error = 58000"
      ],
      "metadata": {
        "id": "sa5RVJgHRNNv"
      },
      "execution_count": null,
      "outputs": []
    },
    {
      "cell_type": "code",
      "source": [
        "n_input = 10 # horas hacia atrás\n",
        "n_features = 0 # variables exógenas\n",
        "generator = TimeseriesGenerator(scaled_train, scaled_train, length=i, batch_size=1) "
      ],
      "metadata": {
        "id": "msqrgt83bIAE"
      },
      "execution_count": null,
      "outputs": []
    },
    {
      "cell_type": "code",
      "source": [
        "for i in range(50,151,10): \n",
        "  model = create_Model(n_input,LSTM_neurons=i)\n",
        "  print('Neuronas LSTM:',i)\n",
        "  model.fit(generator,epochs=5,verbose=False)\n",
        "  predictions = []\n",
        "  for j in range(n_input,len(df_test)):\n",
        "    model_input = scaled_test[j-n_input:j]\n",
        "    model_input = model_input.reshape((1, n_input, n_features+1))\n",
        "    predictions.append(model.predict(model_input)[0])\n",
        "  predictions = np.ndarray.flatten(np.array(predictions))  \n",
        "  true_predictions = scaler.inverse_transform(np.reshape(predictions,(-1,1)))\n",
        "  true_values = np.ndarray.flatten(df_test.iloc[n_input:]['SRGLOAVG1H'].values)\n",
        "  error = mean_squared_error(true_values,true_predictions)\n",
        "  print('Error:',error)\n",
        "  if(error < lowest_error):\n",
        "    best_model = model\n",
        "    lowest_error = error\n",
        "    print('Best:',i)"
      ],
      "metadata": {
        "colab": {
          "base_uri": "https://localhost:8080/"
        },
        "id": "Y61wtxDiQxKu",
        "outputId": "8ec92bd3-a491-4b0b-a872-795115b6d58f"
      },
      "execution_count": null,
      "outputs": [
        {
          "output_type": "stream",
          "name": "stdout",
          "text": [
            "Neuronas LSTM: 50\n",
            "Error: 27561.938321251204\n",
            "Best: 50\n",
            "Neuronas LSTM: 60\n",
            "Error: 30509.633793668003\n",
            "Neuronas LSTM: 70\n",
            "Error: 28109.80405665486\n",
            "Neuronas LSTM: 80\n",
            "Error: 33585.5855254581\n",
            "Neuronas LSTM: 90\n",
            "Error: 25238.78108281933\n",
            "Best: 90\n",
            "Neuronas LSTM: 100\n",
            "Error: 29094.403485878403\n",
            "Neuronas LSTM: 110\n",
            "Error: 26336.274160004396\n",
            "Neuronas LSTM: 120\n",
            "Error: 26069.20858572483\n",
            "Neuronas LSTM: 130\n",
            "Error: 28747.15769272012\n",
            "Neuronas LSTM: 140\n",
            "Error: 27149.928340286988\n",
            "Neuronas LSTM: 150\n",
            "Error: 29353.78430271814\n"
          ]
        }
      ]
    },
    {
      "cell_type": "markdown",
      "source": [
        "El mejor modelo tiene 90 neuronas en su capa LSTM"
      ],
      "metadata": {
        "id": "yc8GqxbcMJA5"
      }
    },
    {
      "cell_type": "code",
      "source": [
        "best_model.summary()"
      ],
      "metadata": {
        "colab": {
          "base_uri": "https://localhost:8080/"
        },
        "id": "wm7ebhNIXkXW",
        "outputId": "50cdf08f-50e1-4a84-99bf-56d97c4f7c1b"
      },
      "execution_count": null,
      "outputs": [
        {
          "output_type": "stream",
          "name": "stdout",
          "text": [
            "Model: \"sequential_28\"\n",
            "_________________________________________________________________\n",
            " Layer (type)                Output Shape              Param #   \n",
            "=================================================================\n",
            " lstm_28 (LSTM)              (None, 90)                33120     \n",
            "                                                                 \n",
            " dense_28 (Dense)            (None, 1)                 91        \n",
            "                                                                 \n",
            "=================================================================\n",
            "Total params: 33,211\n",
            "Trainable params: 33,211\n",
            "Non-trainable params: 0\n",
            "_________________________________________________________________\n"
          ]
        }
      ]
    },
    {
      "cell_type": "markdown",
      "source": [
        "**Mejor cantidad de horas pasadas**"
      ],
      "metadata": {
        "id": "UFXjHqOajzf4"
      }
    },
    {
      "cell_type": "code",
      "source": [
        "model = create_Model(12,50)\n",
        "model.summary()"
      ],
      "metadata": {
        "colab": {
          "base_uri": "https://localhost:8080/"
        },
        "id": "xmnViu4AZBW_",
        "outputId": "e9a44439-4ea0-469a-d32d-87b07b766e8c"
      },
      "execution_count": null,
      "outputs": [
        {
          "output_type": "stream",
          "name": "stdout",
          "text": [
            "Model: \"sequential_17\"\n",
            "_________________________________________________________________\n",
            " Layer (type)                Output Shape              Param #   \n",
            "=================================================================\n",
            " lstm_17 (LSTM)              (None, 50)                10400     \n",
            "                                                                 \n",
            " dense_17 (Dense)            (None, 1)                 51        \n",
            "                                                                 \n",
            "=================================================================\n",
            "Total params: 10,451\n",
            "Trainable params: 10,451\n",
            "Non-trainable params: 0\n",
            "_________________________________________________________________\n"
          ]
        }
      ]
    },
    {
      "cell_type": "code",
      "source": [
        "for i in range(1,21): #hasta dos días hacia el pasado\n",
        "  n_input = i # horas hacia atrás\n",
        "  n_features = 0 # variables exógenas\n",
        "  generator = TimeseriesGenerator(scaled_train, scaled_train, length=n_input, batch_size=1)  \n",
        "  model = create_Model(n_input,LSTM_neurons=90)\n",
        "  print('Horas de retraso:',i)\n",
        "  model.fit(generator,epochs=5,verbose=False)\n",
        "  predictions = []\n",
        "  for j in range(n_input,len(df_test)):\n",
        "    model_input = scaled_test[j-n_input:j]\n",
        "    model_input = model_input.reshape((1, n_input, n_features+1))\n",
        "    predictions.append(model.predict(model_input)[0])\n",
        "  predictions = np.ndarray.flatten(np.array(predictions))  \n",
        "  true_predictions = scaler.inverse_transform(np.reshape(predictions,(-1,1)))\n",
        "  true_values = np.ndarray.flatten(df_test.iloc[n_input:]['SRGLOAVG1H'].values)\n",
        "  error = mean_squared_error(true_values,true_predictions)\n",
        "  print('Error:',error)\n",
        "  if(error < lowest_error):\n",
        "    best_model = model\n",
        "    lowest_error = error\n",
        "    print('Best:',i)"
      ],
      "metadata": {
        "colab": {
          "base_uri": "https://localhost:8080/"
        },
        "id": "rYYQIWZKZ-gm",
        "outputId": "d86ba1a4-34db-45f7-944b-a1ec54fd0b65"
      },
      "execution_count": null,
      "outputs": [
        {
          "output_type": "stream",
          "name": "stdout",
          "text": [
            "Horas de retraso: 1\n",
            "Error: 33556.977229488606\n",
            "Horas de retraso: 2\n",
            "Error: 29064.598443984654\n",
            "Horas de retraso: 3\n",
            "Error: 29127.38636572857\n",
            "Horas de retraso: 4\n",
            "Error: 29627.39483182084\n",
            "Horas de retraso: 5\n",
            "Error: 28816.109997502186\n",
            "Horas de retraso: 6\n",
            "Error: 31759.922695595462\n",
            "Horas de retraso: 7\n",
            "Error: 29287.92296568974\n",
            "Horas de retraso: 8\n",
            "Error: 28123.83752226165\n",
            "Horas de retraso: 9\n",
            "Error: 26430.65088222642\n",
            "Horas de retraso: 10\n",
            "Error: 27107.258420761063\n",
            "Horas de retraso: 11\n",
            "Error: 28687.932810621027\n",
            "Horas de retraso: 12\n",
            "Error: 27758.863437482272\n",
            "Horas de retraso: 13\n",
            "Error: 24894.82345377392\n",
            "Best: 13\n",
            "Horas de retraso: 14\n",
            "Error: 24571.895407418793\n",
            "Best: 14\n",
            "Horas de retraso: 15\n",
            "Error: 25499.946583982317\n",
            "Horas de retraso: 16\n",
            "Error: 24867.459228035583\n",
            "Horas de retraso: 17\n",
            "Error: 24432.903408282305\n",
            "Best: 17\n",
            "Horas de retraso: 18\n",
            "Error: 24246.164866847717\n",
            "Best: 18\n",
            "Horas de retraso: 19\n",
            "Error: 25138.490165530508\n",
            "Horas de retraso: 20\n",
            "Error: 25490.98958511597\n"
          ]
        }
      ]
    },
    {
      "cell_type": "markdown",
      "source": [
        "Es mejor tener 18 horas de retraso"
      ],
      "metadata": {
        "id": "_go5vi94vDIp"
      }
    },
    {
      "cell_type": "markdown",
      "source": [
        "**Batch size**"
      ],
      "metadata": {
        "id": "PWSJgaQMUQRK"
      }
    },
    {
      "cell_type": "code",
      "source": [
        "best_model = None\n",
        "lowest_error = 58000"
      ],
      "metadata": {
        "id": "4ruPeBYbXXMU"
      },
      "execution_count": null,
      "outputs": []
    },
    {
      "cell_type": "code",
      "source": [
        "n_input = 18 # horas hacia atrás\n",
        "n_features = 0 # variables exógenas\n",
        "generator = TimeseriesGenerator(scaled_train, scaled_train, length=n_input, batch_size=1)  "
      ],
      "metadata": {
        "id": "ApVXj-a2UW8f"
      },
      "execution_count": null,
      "outputs": []
    },
    {
      "cell_type": "code",
      "source": [
        "for i in range(25,150,25): \n",
        "  model = create_Model(n_input,LSTM_neurons=90)\n",
        "  print('Batch Size',i)\n",
        "  model.fit(generator,epochs=5,verbose=False, batch_size=i)\n",
        "  predictions = []\n",
        "  for j in range(n_input,len(df_test)):\n",
        "    model_input = scaled_test[j-n_input:j]\n",
        "    model_input = model_input.reshape((1, n_input, n_features+1))\n",
        "    predictions.append(model.predict(model_input)[0])\n",
        "  predictions = np.ndarray.flatten(np.array(predictions))  \n",
        "  true_predictions = scaler.inverse_transform(np.reshape(predictions,(-1,1)))\n",
        "  true_values = np.ndarray.flatten(df_test.iloc[n_input:]['SRGLOAVG1H'].values)\n",
        "  error = mean_squared_error(true_values,true_predictions)\n",
        "  print('Error:',error)\n",
        "  if(error < lowest_error):\n",
        "    best_model = model\n",
        "    lowest_error = error\n",
        "    print('Best:',i)"
      ],
      "metadata": {
        "colab": {
          "base_uri": "https://localhost:8080/"
        },
        "id": "Jif_jgd0UfKi",
        "outputId": "2fb2d9ec-ce57-4ddc-cd78-44cd346b358d"
      },
      "execution_count": null,
      "outputs": [
        {
          "output_type": "stream",
          "name": "stdout",
          "text": [
            "Batch Size 25\n",
            "Error: 24366.655004987348\n",
            "Best: 25\n",
            "Batch Size 50\n",
            "Error: 23729.19281905481\n",
            "Best: 50\n",
            "Batch Size 75\n",
            "Error: 25112.35928363556\n",
            "Batch Size 100\n",
            "Error: 25680.46145055761\n",
            "Batch Size 125\n",
            "Error: 24853.29043488756\n"
          ]
        }
      ]
    },
    {
      "cell_type": "markdown",
      "source": [
        "El mejor batch size es 50."
      ],
      "metadata": {
        "id": "BXRdCv-kbN0c"
      }
    },
    {
      "cell_type": "markdown",
      "source": [
        "### Salvar el modelo"
      ],
      "metadata": {
        "id": "jbl3WdLtzxWw"
      }
    },
    {
      "cell_type": "code",
      "source": [
        "best_model.save('RSG_model.h5')"
      ],
      "metadata": {
        "id": "-7FKg9IkzY7r"
      },
      "execution_count": null,
      "outputs": []
    },
    {
      "cell_type": "code",
      "source": [
        "model = keras.models.load_model('/content/RSG_model.h5')"
      ],
      "metadata": {
        "id": "TgHRMdJbk_sJ"
      },
      "execution_count": null,
      "outputs": []
    },
    {
      "cell_type": "code",
      "source": [
        "model.summary()"
      ],
      "metadata": {
        "id": "exL8lZePz1ln",
        "colab": {
          "base_uri": "https://localhost:8080/"
        },
        "outputId": "ca2e1a66-926f-442a-9882-c5b8b0c600dd"
      },
      "execution_count": null,
      "outputs": [
        {
          "output_type": "stream",
          "name": "stdout",
          "text": [
            "Model: \"sequential_2\"\n",
            "_________________________________________________________________\n",
            " Layer (type)                Output Shape              Param #   \n",
            "=================================================================\n",
            " lstm_2 (LSTM)               (None, 90)                33120     \n",
            "                                                                 \n",
            " dense_2 (Dense)             (None, 1)                 91        \n",
            "                                                                 \n",
            "=================================================================\n",
            "Total params: 33,211\n",
            "Trainable params: 33,211\n",
            "Non-trainable params: 0\n",
            "_________________________________________________________________\n"
          ]
        }
      ]
    },
    {
      "cell_type": "code",
      "source": [
        "predictions = []\n",
        "for j in range(n_input,len(df_test)):\n",
        "  model_input = scaled_test[j-n_input:j]\n",
        "  model_input = model_input.reshape((1, n_input, n_features+1))\n",
        "  predictions.append(model.predict(model_input)[0])\n",
        "predictions = np.ndarray.flatten(np.array(predictions))"
      ],
      "metadata": {
        "id": "xakpoRZ8dSWy"
      },
      "execution_count": null,
      "outputs": []
    },
    {
      "cell_type": "markdown",
      "source": [
        "Es el error más pequeño que se ha logrado obtener"
      ],
      "metadata": {
        "id": "8_X8DLwye9T6"
      }
    },
    {
      "cell_type": "code",
      "source": [
        "true_predictions = scaler.inverse_transform(np.reshape(predictions,(-1,1)))\n",
        "true_values = np.ndarray.flatten(df_test.iloc[n_input:]['SRGLOAVG1H'].values)\n",
        "error = mean_squared_error(true_values,true_predictions)\n",
        "print('Error:',error)"
      ],
      "metadata": {
        "colab": {
          "base_uri": "https://localhost:8080/"
        },
        "id": "Ck41x8IbdYMi",
        "outputId": "47d94f2e-0aa6-49e0-ce57-8bcf59dd63e6"
      },
      "execution_count": null,
      "outputs": [
        {
          "output_type": "stream",
          "name": "stdout",
          "text": [
            "Error: 23729.19281905481\n"
          ]
        }
      ]
    },
    {
      "cell_type": "code",
      "source": [
        "df_plot = pd.DataFrame()"
      ],
      "metadata": {
        "id": "WN6PBmq0eR1B"
      },
      "execution_count": null,
      "outputs": []
    },
    {
      "cell_type": "code",
      "source": [
        "df_plot['values'] = df_test.iloc[n_input:]['SRGLOAVG1H']"
      ],
      "metadata": {
        "id": "HbkYUsiDda7g"
      },
      "execution_count": null,
      "outputs": []
    },
    {
      "cell_type": "code",
      "source": [
        "df_plot['pred'] = true_predictions"
      ],
      "metadata": {
        "id": "sYNHZa0zeF8d"
      },
      "execution_count": null,
      "outputs": []
    },
    {
      "cell_type": "code",
      "source": [
        "df_plot.head()"
      ],
      "metadata": {
        "colab": {
          "base_uri": "https://localhost:8080/",
          "height": 238
        },
        "id": "zdfJ50RKd6uy",
        "outputId": "d49d1c33-ec14-4a61-fda3-46287cd5bec9"
      },
      "execution_count": null,
      "outputs": [
        {
          "output_type": "execute_result",
          "data": {
            "text/html": [
              "\n",
              "  <div id=\"df-7f7fcd42-9c78-4974-9f04-b9da647beb2f\">\n",
              "    <div class=\"colab-df-container\">\n",
              "      <div>\n",
              "<style scoped>\n",
              "    .dataframe tbody tr th:only-of-type {\n",
              "        vertical-align: middle;\n",
              "    }\n",
              "\n",
              "    .dataframe tbody tr th {\n",
              "        vertical-align: top;\n",
              "    }\n",
              "\n",
              "    .dataframe thead th {\n",
              "        text-align: right;\n",
              "    }\n",
              "</style>\n",
              "<table border=\"1\" class=\"dataframe\">\n",
              "  <thead>\n",
              "    <tr style=\"text-align: right;\">\n",
              "      <th></th>\n",
              "      <th>values</th>\n",
              "      <th>pred</th>\n",
              "    </tr>\n",
              "    <tr>\n",
              "      <th>Local_Time</th>\n",
              "      <th></th>\n",
              "      <th></th>\n",
              "    </tr>\n",
              "  </thead>\n",
              "  <tbody>\n",
              "    <tr>\n",
              "      <th>2015-10-21 16:00:00</th>\n",
              "      <td>557.0</td>\n",
              "      <td>326.761292</td>\n",
              "    </tr>\n",
              "    <tr>\n",
              "      <th>2015-10-21 17:00:00</th>\n",
              "      <td>260.0</td>\n",
              "      <td>421.014862</td>\n",
              "    </tr>\n",
              "    <tr>\n",
              "      <th>2015-10-22 08:00:00</th>\n",
              "      <td>204.0</td>\n",
              "      <td>268.164520</td>\n",
              "    </tr>\n",
              "    <tr>\n",
              "      <th>2015-10-22 09:00:00</th>\n",
              "      <td>300.0</td>\n",
              "      <td>388.294159</td>\n",
              "    </tr>\n",
              "    <tr>\n",
              "      <th>2015-10-22 10:00:00</th>\n",
              "      <td>487.0</td>\n",
              "      <td>490.981598</td>\n",
              "    </tr>\n",
              "  </tbody>\n",
              "</table>\n",
              "</div>\n",
              "      <button class=\"colab-df-convert\" onclick=\"convertToInteractive('df-7f7fcd42-9c78-4974-9f04-b9da647beb2f')\"\n",
              "              title=\"Convert this dataframe to an interactive table.\"\n",
              "              style=\"display:none;\">\n",
              "        \n",
              "  <svg xmlns=\"http://www.w3.org/2000/svg\" height=\"24px\"viewBox=\"0 0 24 24\"\n",
              "       width=\"24px\">\n",
              "    <path d=\"M0 0h24v24H0V0z\" fill=\"none\"/>\n",
              "    <path d=\"M18.56 5.44l.94 2.06.94-2.06 2.06-.94-2.06-.94-.94-2.06-.94 2.06-2.06.94zm-11 1L8.5 8.5l.94-2.06 2.06-.94-2.06-.94L8.5 2.5l-.94 2.06-2.06.94zm10 10l.94 2.06.94-2.06 2.06-.94-2.06-.94-.94-2.06-.94 2.06-2.06.94z\"/><path d=\"M17.41 7.96l-1.37-1.37c-.4-.4-.92-.59-1.43-.59-.52 0-1.04.2-1.43.59L10.3 9.45l-7.72 7.72c-.78.78-.78 2.05 0 2.83L4 21.41c.39.39.9.59 1.41.59.51 0 1.02-.2 1.41-.59l7.78-7.78 2.81-2.81c.8-.78.8-2.07 0-2.86zM5.41 20L4 18.59l7.72-7.72 1.47 1.35L5.41 20z\"/>\n",
              "  </svg>\n",
              "      </button>\n",
              "      \n",
              "  <style>\n",
              "    .colab-df-container {\n",
              "      display:flex;\n",
              "      flex-wrap:wrap;\n",
              "      gap: 12px;\n",
              "    }\n",
              "\n",
              "    .colab-df-convert {\n",
              "      background-color: #E8F0FE;\n",
              "      border: none;\n",
              "      border-radius: 50%;\n",
              "      cursor: pointer;\n",
              "      display: none;\n",
              "      fill: #1967D2;\n",
              "      height: 32px;\n",
              "      padding: 0 0 0 0;\n",
              "      width: 32px;\n",
              "    }\n",
              "\n",
              "    .colab-df-convert:hover {\n",
              "      background-color: #E2EBFA;\n",
              "      box-shadow: 0px 1px 2px rgba(60, 64, 67, 0.3), 0px 1px 3px 1px rgba(60, 64, 67, 0.15);\n",
              "      fill: #174EA6;\n",
              "    }\n",
              "\n",
              "    [theme=dark] .colab-df-convert {\n",
              "      background-color: #3B4455;\n",
              "      fill: #D2E3FC;\n",
              "    }\n",
              "\n",
              "    [theme=dark] .colab-df-convert:hover {\n",
              "      background-color: #434B5C;\n",
              "      box-shadow: 0px 1px 3px 1px rgba(0, 0, 0, 0.15);\n",
              "      filter: drop-shadow(0px 1px 2px rgba(0, 0, 0, 0.3));\n",
              "      fill: #FFFFFF;\n",
              "    }\n",
              "  </style>\n",
              "\n",
              "      <script>\n",
              "        const buttonEl =\n",
              "          document.querySelector('#df-7f7fcd42-9c78-4974-9f04-b9da647beb2f button.colab-df-convert');\n",
              "        buttonEl.style.display =\n",
              "          google.colab.kernel.accessAllowed ? 'block' : 'none';\n",
              "\n",
              "        async function convertToInteractive(key) {\n",
              "          const element = document.querySelector('#df-7f7fcd42-9c78-4974-9f04-b9da647beb2f');\n",
              "          const dataTable =\n",
              "            await google.colab.kernel.invokeFunction('convertToInteractive',\n",
              "                                                     [key], {});\n",
              "          if (!dataTable) return;\n",
              "\n",
              "          const docLinkHtml = 'Like what you see? Visit the ' +\n",
              "            '<a target=\"_blank\" href=https://colab.research.google.com/notebooks/data_table.ipynb>data table notebook</a>'\n",
              "            + ' to learn more about interactive tables.';\n",
              "          element.innerHTML = '';\n",
              "          dataTable['output_type'] = 'display_data';\n",
              "          await google.colab.output.renderOutput(dataTable, element);\n",
              "          const docLink = document.createElement('div');\n",
              "          docLink.innerHTML = docLinkHtml;\n",
              "          element.appendChild(docLink);\n",
              "        }\n",
              "      </script>\n",
              "    </div>\n",
              "  </div>\n",
              "  "
            ],
            "text/plain": [
              "                     values        pred\n",
              "Local_Time                             \n",
              "2015-10-21 16:00:00   557.0  326.761292\n",
              "2015-10-21 17:00:00   260.0  421.014862\n",
              "2015-10-22 08:00:00   204.0  268.164520\n",
              "2015-10-22 09:00:00   300.0  388.294159\n",
              "2015-10-22 10:00:00   487.0  490.981598"
            ]
          },
          "metadata": {},
          "execution_count": 60
        }
      ]
    },
    {
      "cell_type": "code",
      "source": [
        "df_plot['2015-10'].plot(figsize=(12,8))"
      ],
      "metadata": {
        "colab": {
          "base_uri": "https://localhost:8080/",
          "height": 500
        },
        "id": "LjFW1vGCdoSJ",
        "outputId": "53ab550a-27be-41cb-81eb-9129a83d3d64"
      },
      "execution_count": null,
      "outputs": [
        {
          "output_type": "execute_result",
          "data": {
            "text/plain": [
              "<matplotlib.axes._subplots.AxesSubplot at 0x7f7d66006610>"
            ]
          },
          "metadata": {},
          "execution_count": 64
        },
        {
          "output_type": "display_data",
          "data": {
            "image/png": "[encoded data removed]",
            "text/plain": [
              "<Figure size 864x576 with 1 Axes>"
            ]
          },
          "metadata": {
            "needs_background": "light"
          }
        }
      ]
    },
    {
      "cell_type": "code",
      "source": [
        "df_plot['2015-10-30'].plot(figsize=(12,8))"
      ],
      "metadata": {
        "colab": {
          "base_uri": "https://localhost:8080/",
          "height": 516
        },
        "id": "yjaVenJXd4p-",
        "outputId": "afb64e91-a0f3-434e-f76e-8c05ed54d6d7"
      },
      "execution_count": null,
      "outputs": [
        {
          "output_type": "execute_result",
          "data": {
            "text/plain": [
              "<matplotlib.axes._subplots.AxesSubplot at 0x7f7d65548a50>"
            ]
          },
          "metadata": {},
          "execution_count": 71
        },
        {
          "output_type": "display_data",
          "data": {
            "image/png": "[encoded data removed]",
            "text/plain": [
              "<Figure size 864x576 with 1 Axes>"
            ]
          },
          "metadata": {
            "needs_background": "light"
          }
        }
      ]
    },
    {
      "cell_type": "code",
      "source": [
        ""
      ],
      "metadata": {
        "id": "gYfHGo9YgCyZ"
      },
      "execution_count": null,
      "outputs": []
    }
  ]
}