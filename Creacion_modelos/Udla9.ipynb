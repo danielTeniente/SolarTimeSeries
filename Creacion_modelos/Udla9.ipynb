{
  "nbformat": 4,
  "nbformat_minor": 0,
  "metadata": {
    "colab": {
      "name": "Udla10.ipynb",
      "provenance": [],
      "collapsed_sections": []
    },
    "kernelspec": {
      "name": "python3",
      "display_name": "Python 3"
    },
    "language_info": {
      "name": "python"
    }
  },
  "cells": [
    {
      "cell_type": "markdown",
      "source": [
        "# LSTM"
      ],
      "metadata": {
        "id": "y0Ph67-3nQO3"
      }
    },
    {
      "cell_type": "code",
      "source": [
        "import pandas as pd\n",
        "import matplotlib.pyplot as plt\n",
        "\n",
        "import numpy as np"
      ],
      "metadata": {
        "id": "bEzz6fnMnY2m"
      },
      "execution_count": null,
      "outputs": []
    },
    {
      "cell_type": "code",
      "execution_count": null,
      "metadata": {
        "id": "MprmZfxhmtZo"
      },
      "outputs": [],
      "source": [
        "df = pd.read_csv('./drive/MyDrive/DatosInvestigacion/final_train_2015.csv', index_col=0, parse_dates=True)\n",
        "df = df.asfreq('h')"
      ]
    },
    {
      "cell_type": "code",
      "source": [
        "df = df.between_time('07:00:00','18:00:00')"
      ],
      "metadata": {
        "id": "apP2Y0oco-qI"
      },
      "execution_count": null,
      "outputs": []
    },
    {
      "cell_type": "code",
      "source": [
        "df.head()"
      ],
      "metadata": {
        "colab": {
          "base_uri": "https://localhost:8080/",
          "height": 388
        },
        "id": "1_4OwKBKsLdl",
        "outputId": "cec0a098-c95e-4082-913b-97ed495a1259"
      },
      "execution_count": null,
      "outputs": [
        {
          "output_type": "execute_result",
          "data": {
            "text/html": [
              "\n",
              "  <div id=\"df-0373a013-fa28-49eb-9cd5-f434f94ab041\">\n",
              "    <div class=\"colab-df-container\">\n",
              "      <div>\n",
              "<style scoped>\n",
              "    .dataframe tbody tr th:only-of-type {\n",
              "        vertical-align: middle;\n",
              "    }\n",
              "\n",
              "    .dataframe tbody tr th {\n",
              "        vertical-align: top;\n",
              "    }\n",
              "\n",
              "    .dataframe thead th {\n",
              "        text-align: right;\n",
              "    }\n",
              "</style>\n",
              "<table border=\"1\" class=\"dataframe\">\n",
              "  <thead>\n",
              "    <tr style=\"text-align: right;\">\n",
              "      <th></th>\n",
              "      <th>DC</th>\n",
              "      <th>PAAVG1H</th>\n",
              "      <th>PAMAX1H</th>\n",
              "      <th>PAMIN1H</th>\n",
              "      <th>PRSUM1H</th>\n",
              "      <th>RHAVG1H</th>\n",
              "      <th>RHMAX1H</th>\n",
              "      <th>RHMIN1H</th>\n",
              "      <th>SRDIFAVG1H</th>\n",
              "      <th>SRDIFMAX1H</th>\n",
              "      <th>SRDIFMIN1H</th>\n",
              "      <th>SRDIFSUM1H</th>\n",
              "      <th>SRGLOAVG1H</th>\n",
              "      <th>SRGLOMAX1H</th>\n",
              "      <th>SRGLOMIN1H</th>\n",
              "      <th>SRGLOSUM1H</th>\n",
              "      <th>TAAVG1H</th>\n",
              "      <th>TAMAX1H</th>\n",
              "      <th>TAMIN1H</th>\n",
              "      <th>TS1AVG1H</th>\n",
              "      <th>TS1MAX1H</th>\n",
              "      <th>TS1MIN1H</th>\n",
              "      <th>TS2AVG1H</th>\n",
              "      <th>TS2MAX1H</th>\n",
              "      <th>TS2MIN1H</th>\n",
              "      <th>TS3AVG1H</th>\n",
              "      <th>TS3MAX1H</th>\n",
              "      <th>TS3MIN1H</th>\n",
              "      <th>TS4AVG1H</th>\n",
              "      <th>TS4MAX1H</th>\n",
              "      <th>TS4MIN1H</th>\n",
              "      <th>TS5AVG1H</th>\n",
              "      <th>TS5MAX1H</th>\n",
              "      <th>TS5MIN1H</th>\n",
              "      <th>TS6AVG1H</th>\n",
              "      <th>TS6MAX1H</th>\n",
              "      <th>TS6MIN1H</th>\n",
              "      <th>TS7AVG1H</th>\n",
              "      <th>TS7MAX1H</th>\n",
              "      <th>TS7MIN1H</th>\n",
              "      <th>WD1HA</th>\n",
              "      <th>WD1HX</th>\n",
              "      <th>WDGM</th>\n",
              "      <th>WGD1HX</th>\n",
              "      <th>WGDH</th>\n",
              "      <th>WR1H</th>\n",
              "      <th>WS1HA</th>\n",
              "      <th>WS1HM</th>\n",
              "      <th>WS1HX</th>\n",
              "    </tr>\n",
              "    <tr>\n",
              "      <th>Local_Time</th>\n",
              "      <th></th>\n",
              "      <th></th>\n",
              "      <th></th>\n",
              "      <th></th>\n",
              "      <th></th>\n",
              "      <th></th>\n",
              "      <th></th>\n",
              "      <th></th>\n",
              "      <th></th>\n",
              "      <th></th>\n",
              "      <th></th>\n",
              "      <th></th>\n",
              "      <th></th>\n",
              "      <th></th>\n",
              "      <th></th>\n",
              "      <th></th>\n",
              "      <th></th>\n",
              "      <th></th>\n",
              "      <th></th>\n",
              "      <th></th>\n",
              "      <th></th>\n",
              "      <th></th>\n",
              "      <th></th>\n",
              "      <th></th>\n",
              "      <th></th>\n",
              "      <th></th>\n",
              "      <th></th>\n",
              "      <th></th>\n",
              "      <th></th>\n",
              "      <th></th>\n",
              "      <th></th>\n",
              "      <th></th>\n",
              "      <th></th>\n",
              "      <th></th>\n",
              "      <th></th>\n",
              "      <th></th>\n",
              "      <th></th>\n",
              "      <th></th>\n",
              "      <th></th>\n",
              "      <th></th>\n",
              "      <th></th>\n",
              "      <th></th>\n",
              "      <th></th>\n",
              "      <th></th>\n",
              "      <th></th>\n",
              "      <th></th>\n",
              "      <th></th>\n",
              "      <th></th>\n",
              "      <th></th>\n",
              "    </tr>\n",
              "  </thead>\n",
              "  <tbody>\n",
              "    <tr>\n",
              "      <th>2015-01-01 07:00:00</th>\n",
              "      <td>13.0</td>\n",
              "      <td>742.8</td>\n",
              "      <td>743.1</td>\n",
              "      <td>742.6</td>\n",
              "      <td>0.0</td>\n",
              "      <td>95</td>\n",
              "      <td>97</td>\n",
              "      <td>91</td>\n",
              "      <td>14.0</td>\n",
              "      <td>35.0</td>\n",
              "      <td>1.0</td>\n",
              "      <td>852.0</td>\n",
              "      <td>15.0</td>\n",
              "      <td>39.0</td>\n",
              "      <td>0.0</td>\n",
              "      <td>924.0</td>\n",
              "      <td>9.9</td>\n",
              "      <td>10.7</td>\n",
              "      <td>9.1</td>\n",
              "      <td>8.6</td>\n",
              "      <td>9.4</td>\n",
              "      <td>7.5</td>\n",
              "      <td>9.0</td>\n",
              "      <td>9.8</td>\n",
              "      <td>8.0</td>\n",
              "      <td>10.0</td>\n",
              "      <td>10.6</td>\n",
              "      <td>9.3</td>\n",
              "      <td>11.8</td>\n",
              "      <td>12.0</td>\n",
              "      <td>11.7</td>\n",
              "      <td>13.8</td>\n",
              "      <td>13.8</td>\n",
              "      <td>13.8</td>\n",
              "      <td>15.0</td>\n",
              "      <td>15.0</td>\n",
              "      <td>15.0</td>\n",
              "      <td>15.0</td>\n",
              "      <td>15.0</td>\n",
              "      <td>15.0</td>\n",
              "      <td>54</td>\n",
              "      <td>94</td>\n",
              "      <td>14</td>\n",
              "      <td>60.0</td>\n",
              "      <td>6.0</td>\n",
              "      <td>35.0</td>\n",
              "      <td>2.4</td>\n",
              "      <td>0.9</td>\n",
              "      <td>3.9</td>\n",
              "    </tr>\n",
              "    <tr>\n",
              "      <th>2015-01-01 08:00:00</th>\n",
              "      <td>13.9</td>\n",
              "      <td>743.5</td>\n",
              "      <td>743.7</td>\n",
              "      <td>743.1</td>\n",
              "      <td>0.0</td>\n",
              "      <td>94</td>\n",
              "      <td>96</td>\n",
              "      <td>89</td>\n",
              "      <td>97.0</td>\n",
              "      <td>145.0</td>\n",
              "      <td>37.0</td>\n",
              "      <td>5836.0</td>\n",
              "      <td>107.0</td>\n",
              "      <td>162.0</td>\n",
              "      <td>40.0</td>\n",
              "      <td>6404.0</td>\n",
              "      <td>10.6</td>\n",
              "      <td>12.2</td>\n",
              "      <td>9.5</td>\n",
              "      <td>10.3</td>\n",
              "      <td>11.9</td>\n",
              "      <td>9.3</td>\n",
              "      <td>10.6</td>\n",
              "      <td>12.0</td>\n",
              "      <td>9.7</td>\n",
              "      <td>11.1</td>\n",
              "      <td>12.1</td>\n",
              "      <td>10.5</td>\n",
              "      <td>12.1</td>\n",
              "      <td>12.3</td>\n",
              "      <td>12.0</td>\n",
              "      <td>13.7</td>\n",
              "      <td>13.8</td>\n",
              "      <td>13.7</td>\n",
              "      <td>15.0</td>\n",
              "      <td>15.0</td>\n",
              "      <td>15.0</td>\n",
              "      <td>15.0</td>\n",
              "      <td>15.0</td>\n",
              "      <td>15.0</td>\n",
              "      <td>42</td>\n",
              "      <td>91</td>\n",
              "      <td>54</td>\n",
              "      <td>46.0</td>\n",
              "      <td>7.0</td>\n",
              "      <td>37.0</td>\n",
              "      <td>2.5</td>\n",
              "      <td>0.4</td>\n",
              "      <td>4.6</td>\n",
              "    </tr>\n",
              "    <tr>\n",
              "      <th>2015-01-01 09:00:00</th>\n",
              "      <td>15.0</td>\n",
              "      <td>743.8</td>\n",
              "      <td>743.9</td>\n",
              "      <td>743.7</td>\n",
              "      <td>0.0</td>\n",
              "      <td>84</td>\n",
              "      <td>89</td>\n",
              "      <td>76</td>\n",
              "      <td>224.0</td>\n",
              "      <td>514.0</td>\n",
              "      <td>120.0</td>\n",
              "      <td>13469.0</td>\n",
              "      <td>394.0</td>\n",
              "      <td>781.0</td>\n",
              "      <td>136.0</td>\n",
              "      <td>23646.0</td>\n",
              "      <td>13.5</td>\n",
              "      <td>15.1</td>\n",
              "      <td>12.2</td>\n",
              "      <td>13.2</td>\n",
              "      <td>14.9</td>\n",
              "      <td>11.9</td>\n",
              "      <td>13.1</td>\n",
              "      <td>14.4</td>\n",
              "      <td>12.0</td>\n",
              "      <td>12.8</td>\n",
              "      <td>13.6</td>\n",
              "      <td>12.1</td>\n",
              "      <td>12.6</td>\n",
              "      <td>12.9</td>\n",
              "      <td>12.3</td>\n",
              "      <td>13.7</td>\n",
              "      <td>13.7</td>\n",
              "      <td>13.7</td>\n",
              "      <td>15.0</td>\n",
              "      <td>15.0</td>\n",
              "      <td>15.0</td>\n",
              "      <td>15.0</td>\n",
              "      <td>15.0</td>\n",
              "      <td>15.0</td>\n",
              "      <td>59</td>\n",
              "      <td>111</td>\n",
              "      <td>42</td>\n",
              "      <td>69.0</td>\n",
              "      <td>8.0</td>\n",
              "      <td>49.0</td>\n",
              "      <td>3.3</td>\n",
              "      <td>0.0</td>\n",
              "      <td>5.8</td>\n",
              "    </tr>\n",
              "    <tr>\n",
              "      <th>2015-01-01 10:00:00</th>\n",
              "      <td>15.0</td>\n",
              "      <td>743.7</td>\n",
              "      <td>743.9</td>\n",
              "      <td>743.4</td>\n",
              "      <td>0.0</td>\n",
              "      <td>68</td>\n",
              "      <td>79</td>\n",
              "      <td>57</td>\n",
              "      <td>219.0</td>\n",
              "      <td>329.0</td>\n",
              "      <td>97.0</td>\n",
              "      <td>13163.0</td>\n",
              "      <td>728.0</td>\n",
              "      <td>1197.0</td>\n",
              "      <td>373.0</td>\n",
              "      <td>43654.0</td>\n",
              "      <td>16.3</td>\n",
              "      <td>18.1</td>\n",
              "      <td>15.1</td>\n",
              "      <td>17.2</td>\n",
              "      <td>19.7</td>\n",
              "      <td>14.9</td>\n",
              "      <td>16.4</td>\n",
              "      <td>18.5</td>\n",
              "      <td>14.4</td>\n",
              "      <td>14.8</td>\n",
              "      <td>16.1</td>\n",
              "      <td>13.6</td>\n",
              "      <td>13.3</td>\n",
              "      <td>13.8</td>\n",
              "      <td>12.9</td>\n",
              "      <td>13.7</td>\n",
              "      <td>13.7</td>\n",
              "      <td>13.7</td>\n",
              "      <td>15.0</td>\n",
              "      <td>15.0</td>\n",
              "      <td>15.0</td>\n",
              "      <td>15.0</td>\n",
              "      <td>15.0</td>\n",
              "      <td>15.0</td>\n",
              "      <td>40</td>\n",
              "      <td>175</td>\n",
              "      <td>41</td>\n",
              "      <td>28.0</td>\n",
              "      <td>9.0</td>\n",
              "      <td>66.0</td>\n",
              "      <td>4.4</td>\n",
              "      <td>0.0</td>\n",
              "      <td>8.4</td>\n",
              "    </tr>\n",
              "    <tr>\n",
              "      <th>2015-01-01 11:00:00</th>\n",
              "      <td>14.7</td>\n",
              "      <td>743.2</td>\n",
              "      <td>743.4</td>\n",
              "      <td>742.8</td>\n",
              "      <td>0.0</td>\n",
              "      <td>62</td>\n",
              "      <td>66</td>\n",
              "      <td>58</td>\n",
              "      <td>365.0</td>\n",
              "      <td>471.0</td>\n",
              "      <td>284.0</td>\n",
              "      <td>21929.0</td>\n",
              "      <td>428.0</td>\n",
              "      <td>667.0</td>\n",
              "      <td>303.0</td>\n",
              "      <td>25688.0</td>\n",
              "      <td>17.2</td>\n",
              "      <td>18.4</td>\n",
              "      <td>16.7</td>\n",
              "      <td>18.8</td>\n",
              "      <td>20.0</td>\n",
              "      <td>18.0</td>\n",
              "      <td>18.0</td>\n",
              "      <td>18.7</td>\n",
              "      <td>17.4</td>\n",
              "      <td>16.0</td>\n",
              "      <td>16.2</td>\n",
              "      <td>15.9</td>\n",
              "      <td>14.0</td>\n",
              "      <td>14.2</td>\n",
              "      <td>13.8</td>\n",
              "      <td>13.8</td>\n",
              "      <td>13.8</td>\n",
              "      <td>13.7</td>\n",
              "      <td>15.0</td>\n",
              "      <td>15.0</td>\n",
              "      <td>15.0</td>\n",
              "      <td>15.0</td>\n",
              "      <td>15.0</td>\n",
              "      <td>15.0</td>\n",
              "      <td>35</td>\n",
              "      <td>153</td>\n",
              "      <td>26</td>\n",
              "      <td>29.0</td>\n",
              "      <td>10.0</td>\n",
              "      <td>61.0</td>\n",
              "      <td>4.0</td>\n",
              "      <td>0.0</td>\n",
              "      <td>8.1</td>\n",
              "    </tr>\n",
              "  </tbody>\n",
              "</table>\n",
              "</div>\n",
              "      <button class=\"colab-df-convert\" onclick=\"convertToInteractive('df-0373a013-fa28-49eb-9cd5-f434f94ab041')\"\n",
              "              title=\"Convert this dataframe to an interactive table.\"\n",
              "              style=\"display:none;\">\n",
              "        \n",
              "  <svg xmlns=\"http://www.w3.org/2000/svg\" height=\"24px\"viewBox=\"0 0 24 24\"\n",
              "       width=\"24px\">\n",
              "    <path d=\"M0 0h24v24H0V0z\" fill=\"none\"/>\n",
              "    <path d=\"M18.56 5.44l.94 2.06.94-2.06 2.06-.94-2.06-.94-.94-2.06-.94 2.06-2.06.94zm-11 1L8.5 8.5l.94-2.06 2.06-.94-2.06-.94L8.5 2.5l-.94 2.06-2.06.94zm10 10l.94 2.06.94-2.06 2.06-.94-2.06-.94-.94-2.06-.94 2.06-2.06.94z\"/><path d=\"M17.41 7.96l-1.37-1.37c-.4-.4-.92-.59-1.43-.59-.52 0-1.04.2-1.43.59L10.3 9.45l-7.72 7.72c-.78.78-.78 2.05 0 2.83L4 21.41c.39.39.9.59 1.41.59.51 0 1.02-.2 1.41-.59l7.78-7.78 2.81-2.81c.8-.78.8-2.07 0-2.86zM5.41 20L4 18.59l7.72-7.72 1.47 1.35L5.41 20z\"/>\n",
              "  </svg>\n",
              "      </button>\n",
              "      \n",
              "  <style>\n",
              "    .colab-df-container {\n",
              "      display:flex;\n",
              "      flex-wrap:wrap;\n",
              "      gap: 12px;\n",
              "    }\n",
              "\n",
              "    .colab-df-convert {\n",
              "      background-color: #E8F0FE;\n",
              "      border: none;\n",
              "      border-radius: 50%;\n",
              "      cursor: pointer;\n",
              "      display: none;\n",
              "      fill: #1967D2;\n",
              "      height: 32px;\n",
              "      padding: 0 0 0 0;\n",
              "      width: 32px;\n",
              "    }\n",
              "\n",
              "    .colab-df-convert:hover {\n",
              "      background-color: #E2EBFA;\n",
              "      box-shadow: 0px 1px 2px rgba(60, 64, 67, 0.3), 0px 1px 3px 1px rgba(60, 64, 67, 0.15);\n",
              "      fill: #174EA6;\n",
              "    }\n",
              "\n",
              "    [theme=dark] .colab-df-convert {\n",
              "      background-color: #3B4455;\n",
              "      fill: #D2E3FC;\n",
              "    }\n",
              "\n",
              "    [theme=dark] .colab-df-convert:hover {\n",
              "      background-color: #434B5C;\n",
              "      box-shadow: 0px 1px 3px 1px rgba(0, 0, 0, 0.15);\n",
              "      filter: drop-shadow(0px 1px 2px rgba(0, 0, 0, 0.3));\n",
              "      fill: #FFFFFF;\n",
              "    }\n",
              "  </style>\n",
              "\n",
              "      <script>\n",
              "        const buttonEl =\n",
              "          document.querySelector('#df-0373a013-fa28-49eb-9cd5-f434f94ab041 button.colab-df-convert');\n",
              "        buttonEl.style.display =\n",
              "          google.colab.kernel.accessAllowed ? 'block' : 'none';\n",
              "\n",
              "        async function convertToInteractive(key) {\n",
              "          const element = document.querySelector('#df-0373a013-fa28-49eb-9cd5-f434f94ab041');\n",
              "          const dataTable =\n",
              "            await google.colab.kernel.invokeFunction('convertToInteractive',\n",
              "                                                     [key], {});\n",
              "          if (!dataTable) return;\n",
              "\n",
              "          const docLinkHtml = 'Like what you see? Visit the ' +\n",
              "            '<a target=\"_blank\" href=https://colab.research.google.com/notebooks/data_table.ipynb>data table notebook</a>'\n",
              "            + ' to learn more about interactive tables.';\n",
              "          element.innerHTML = '';\n",
              "          dataTable['output_type'] = 'display_data';\n",
              "          await google.colab.output.renderOutput(dataTable, element);\n",
              "          const docLink = document.createElement('div');\n",
              "          docLink.innerHTML = docLinkHtml;\n",
              "          element.appendChild(docLink);\n",
              "        }\n",
              "      </script>\n",
              "    </div>\n",
              "  </div>\n",
              "  "
            ],
            "text/plain": [
              "                       DC  PAAVG1H  PAMAX1H  PAMIN1H  ...  WR1H  WS1HA  WS1HM  WS1HX\n",
              "Local_Time                                            ...                           \n",
              "2015-01-01 07:00:00  13.0    742.8    743.1    742.6  ...  35.0    2.4    0.9    3.9\n",
              "2015-01-01 08:00:00  13.9    743.5    743.7    743.1  ...  37.0    2.5    0.4    4.6\n",
              "2015-01-01 09:00:00  15.0    743.8    743.9    743.7  ...  49.0    3.3    0.0    5.8\n",
              "2015-01-01 10:00:00  15.0    743.7    743.9    743.4  ...  66.0    4.4    0.0    8.4\n",
              "2015-01-01 11:00:00  14.7    743.2    743.4    742.8  ...  61.0    4.0    0.0    8.1\n",
              "\n",
              "[5 rows x 49 columns]"
            ]
          },
          "metadata": {},
          "execution_count": 77
        }
      ]
    },
    {
      "cell_type": "code",
      "source": [
        "df = df[['SRGLOAVG1H','TAMAX1H','TAMIN1H','WS1HX','WS1HA','RHMIN1H','RHMAX1H']]"
      ],
      "metadata": {
        "id": "Rvd5l6YRsNkv"
      },
      "execution_count": null,
      "outputs": []
    },
    {
      "cell_type": "code",
      "source": [
        "df.head()"
      ],
      "metadata": {
        "colab": {
          "base_uri": "https://localhost:8080/",
          "height": 238
        },
        "id": "mkAyfD3o1zA1",
        "outputId": "5447b142-7ee5-4c83-9c77-4383d8c3a8c2"
      },
      "execution_count": null,
      "outputs": [
        {
          "output_type": "execute_result",
          "data": {
            "text/html": [
              "\n",
              "  <div id=\"df-ad89c128-ad83-4faf-bc92-fff1ede5a8c8\">\n",
              "    <div class=\"colab-df-container\">\n",
              "      <div>\n",
              "<style scoped>\n",
              "    .dataframe tbody tr th:only-of-type {\n",
              "        vertical-align: middle;\n",
              "    }\n",
              "\n",
              "    .dataframe tbody tr th {\n",
              "        vertical-align: top;\n",
              "    }\n",
              "\n",
              "    .dataframe thead th {\n",
              "        text-align: right;\n",
              "    }\n",
              "</style>\n",
              "<table border=\"1\" class=\"dataframe\">\n",
              "  <thead>\n",
              "    <tr style=\"text-align: right;\">\n",
              "      <th></th>\n",
              "      <th>SRGLOAVG1H</th>\n",
              "      <th>TAMAX1H</th>\n",
              "      <th>TAMIN1H</th>\n",
              "      <th>WS1HX</th>\n",
              "      <th>WS1HA</th>\n",
              "      <th>RHMIN1H</th>\n",
              "      <th>RHMAX1H</th>\n",
              "    </tr>\n",
              "    <tr>\n",
              "      <th>Local_Time</th>\n",
              "      <th></th>\n",
              "      <th></th>\n",
              "      <th></th>\n",
              "      <th></th>\n",
              "      <th></th>\n",
              "      <th></th>\n",
              "      <th></th>\n",
              "    </tr>\n",
              "  </thead>\n",
              "  <tbody>\n",
              "    <tr>\n",
              "      <th>2015-01-01 07:00:00</th>\n",
              "      <td>15.0</td>\n",
              "      <td>10.7</td>\n",
              "      <td>9.1</td>\n",
              "      <td>3.9</td>\n",
              "      <td>2.4</td>\n",
              "      <td>91</td>\n",
              "      <td>97</td>\n",
              "    </tr>\n",
              "    <tr>\n",
              "      <th>2015-01-01 08:00:00</th>\n",
              "      <td>107.0</td>\n",
              "      <td>12.2</td>\n",
              "      <td>9.5</td>\n",
              "      <td>4.6</td>\n",
              "      <td>2.5</td>\n",
              "      <td>89</td>\n",
              "      <td>96</td>\n",
              "    </tr>\n",
              "    <tr>\n",
              "      <th>2015-01-01 09:00:00</th>\n",
              "      <td>394.0</td>\n",
              "      <td>15.1</td>\n",
              "      <td>12.2</td>\n",
              "      <td>5.8</td>\n",
              "      <td>3.3</td>\n",
              "      <td>76</td>\n",
              "      <td>89</td>\n",
              "    </tr>\n",
              "    <tr>\n",
              "      <th>2015-01-01 10:00:00</th>\n",
              "      <td>728.0</td>\n",
              "      <td>18.1</td>\n",
              "      <td>15.1</td>\n",
              "      <td>8.4</td>\n",
              "      <td>4.4</td>\n",
              "      <td>57</td>\n",
              "      <td>79</td>\n",
              "    </tr>\n",
              "    <tr>\n",
              "      <th>2015-01-01 11:00:00</th>\n",
              "      <td>428.0</td>\n",
              "      <td>18.4</td>\n",
              "      <td>16.7</td>\n",
              "      <td>8.1</td>\n",
              "      <td>4.0</td>\n",
              "      <td>58</td>\n",
              "      <td>66</td>\n",
              "    </tr>\n",
              "  </tbody>\n",
              "</table>\n",
              "</div>\n",
              "      <button class=\"colab-df-convert\" onclick=\"convertToInteractive('df-ad89c128-ad83-4faf-bc92-fff1ede5a8c8')\"\n",
              "              title=\"Convert this dataframe to an interactive table.\"\n",
              "              style=\"display:none;\">\n",
              "        \n",
              "  <svg xmlns=\"http://www.w3.org/2000/svg\" height=\"24px\"viewBox=\"0 0 24 24\"\n",
              "       width=\"24px\">\n",
              "    <path d=\"M0 0h24v24H0V0z\" fill=\"none\"/>\n",
              "    <path d=\"M18.56 5.44l.94 2.06.94-2.06 2.06-.94-2.06-.94-.94-2.06-.94 2.06-2.06.94zm-11 1L8.5 8.5l.94-2.06 2.06-.94-2.06-.94L8.5 2.5l-.94 2.06-2.06.94zm10 10l.94 2.06.94-2.06 2.06-.94-2.06-.94-.94-2.06-.94 2.06-2.06.94z\"/><path d=\"M17.41 7.96l-1.37-1.37c-.4-.4-.92-.59-1.43-.59-.52 0-1.04.2-1.43.59L10.3 9.45l-7.72 7.72c-.78.78-.78 2.05 0 2.83L4 21.41c.39.39.9.59 1.41.59.51 0 1.02-.2 1.41-.59l7.78-7.78 2.81-2.81c.8-.78.8-2.07 0-2.86zM5.41 20L4 18.59l7.72-7.72 1.47 1.35L5.41 20z\"/>\n",
              "  </svg>\n",
              "      </button>\n",
              "      \n",
              "  <style>\n",
              "    .colab-df-container {\n",
              "      display:flex;\n",
              "      flex-wrap:wrap;\n",
              "      gap: 12px;\n",
              "    }\n",
              "\n",
              "    .colab-df-convert {\n",
              "      background-color: #E8F0FE;\n",
              "      border: none;\n",
              "      border-radius: 50%;\n",
              "      cursor: pointer;\n",
              "      display: none;\n",
              "      fill: #1967D2;\n",
              "      height: 32px;\n",
              "      padding: 0 0 0 0;\n",
              "      width: 32px;\n",
              "    }\n",
              "\n",
              "    .colab-df-convert:hover {\n",
              "      background-color: #E2EBFA;\n",
              "      box-shadow: 0px 1px 2px rgba(60, 64, 67, 0.3), 0px 1px 3px 1px rgba(60, 64, 67, 0.15);\n",
              "      fill: #174EA6;\n",
              "    }\n",
              "\n",
              "    [theme=dark] .colab-df-convert {\n",
              "      background-color: #3B4455;\n",
              "      fill: #D2E3FC;\n",
              "    }\n",
              "\n",
              "    [theme=dark] .colab-df-convert:hover {\n",
              "      background-color: #434B5C;\n",
              "      box-shadow: 0px 1px 3px 1px rgba(0, 0, 0, 0.15);\n",
              "      filter: drop-shadow(0px 1px 2px rgba(0, 0, 0, 0.3));\n",
              "      fill: #FFFFFF;\n",
              "    }\n",
              "  </style>\n",
              "\n",
              "      <script>\n",
              "        const buttonEl =\n",
              "          document.querySelector('#df-ad89c128-ad83-4faf-bc92-fff1ede5a8c8 button.colab-df-convert');\n",
              "        buttonEl.style.display =\n",
              "          google.colab.kernel.accessAllowed ? 'block' : 'none';\n",
              "\n",
              "        async function convertToInteractive(key) {\n",
              "          const element = document.querySelector('#df-ad89c128-ad83-4faf-bc92-fff1ede5a8c8');\n",
              "          const dataTable =\n",
              "            await google.colab.kernel.invokeFunction('convertToInteractive',\n",
              "                                                     [key], {});\n",
              "          if (!dataTable) return;\n",
              "\n",
              "          const docLinkHtml = 'Like what you see? Visit the ' +\n",
              "            '<a target=\"_blank\" href=https://colab.research.google.com/notebooks/data_table.ipynb>data table notebook</a>'\n",
              "            + ' to learn more about interactive tables.';\n",
              "          element.innerHTML = '';\n",
              "          dataTable['output_type'] = 'display_data';\n",
              "          await google.colab.output.renderOutput(dataTable, element);\n",
              "          const docLink = document.createElement('div');\n",
              "          docLink.innerHTML = docLinkHtml;\n",
              "          element.appendChild(docLink);\n",
              "        }\n",
              "      </script>\n",
              "    </div>\n",
              "  </div>\n",
              "  "
            ],
            "text/plain": [
              "                     SRGLOAVG1H  TAMAX1H  TAMIN1H  ...  WS1HA  RHMIN1H  RHMAX1H\n",
              "Local_Time                                         ...                         \n",
              "2015-01-01 07:00:00        15.0     10.7      9.1  ...    2.4       91       97\n",
              "2015-01-01 08:00:00       107.0     12.2      9.5  ...    2.5       89       96\n",
              "2015-01-01 09:00:00       394.0     15.1     12.2  ...    3.3       76       89\n",
              "2015-01-01 10:00:00       728.0     18.1     15.1  ...    4.4       57       79\n",
              "2015-01-01 11:00:00       428.0     18.4     16.7  ...    4.0       58       66\n",
              "\n",
              "[5 rows x 7 columns]"
            ]
          },
          "metadata": {},
          "execution_count": 79
        }
      ]
    },
    {
      "cell_type": "code",
      "source": [
        "np.where(df=='/')"
      ],
      "metadata": {
        "colab": {
          "base_uri": "https://localhost:8080/"
        },
        "id": "rEZY3vFlsqnd",
        "outputId": "3b454d00-6560-466a-8c2c-58c6e8da7389"
      },
      "execution_count": null,
      "outputs": [
        {
          "output_type": "execute_result",
          "data": {
            "text/plain": [
              "(array([], dtype=int64), array([], dtype=int64))"
            ]
          },
          "metadata": {},
          "execution_count": 80
        }
      ]
    },
    {
      "cell_type": "code",
      "source": [
        "df_test = pd.read_csv('./drive/MyDrive/DatosInvestigacion/final_test_2015.csv', index_col=0, parse_dates=True)\n",
        "df_test = df_test.asfreq('h')"
      ],
      "metadata": {
        "id": "44_UnrswnUHz"
      },
      "execution_count": null,
      "outputs": []
    },
    {
      "cell_type": "code",
      "source": [
        "df_test = df_test[['SRGLOAVG1H','TAMAX1H','TAMIN1H','WS1HX','WS1HA','RHMIN1H','RHMAX1H']]\n",
        "df_test = df_test.between_time('07:00:00','18:00:00')"
      ],
      "metadata": {
        "id": "kvA1ic0Csx1V"
      },
      "execution_count": null,
      "outputs": []
    },
    {
      "cell_type": "markdown",
      "source": [
        "## Una variable de entrada"
      ],
      "metadata": {
        "id": "BngM6Elk1WwV"
      }
    },
    {
      "cell_type": "markdown",
      "source": [
        "Se toma la serie de tiempo de la radiación solar global."
      ],
      "metadata": {
        "id": "EChV4_hj13lz"
      }
    },
    {
      "cell_type": "code",
      "source": [
        "RSG = df['SRGLOAVG1H'].values"
      ],
      "metadata": {
        "id": "jgibMqgN1b_1"
      },
      "execution_count": null,
      "outputs": []
    },
    {
      "cell_type": "code",
      "source": [
        "RSG = np.reshape(RSG,(-1,1))"
      ],
      "metadata": {
        "id": "TGo-pRv_1smA"
      },
      "execution_count": null,
      "outputs": []
    },
    {
      "cell_type": "code",
      "source": [
        "RSG[:5]"
      ],
      "metadata": {
        "colab": {
          "base_uri": "https://localhost:8080/"
        },
        "id": "q9ZpQ_qUv_WA",
        "outputId": "55af95d8-bdaa-4e83-a8bc-fb53594f5203"
      },
      "execution_count": null,
      "outputs": [
        {
          "output_type": "execute_result",
          "data": {
            "text/plain": [
              "array([[ 15.],\n",
              "       [107.],\n",
              "       [394.],\n",
              "       [728.],\n",
              "       [428.]])"
            ]
          },
          "metadata": {},
          "execution_count": 113
        }
      ]
    },
    {
      "cell_type": "code",
      "source": [
        "RSG_test = df_test['SRGLOAVG1H'].values\n",
        "RSG_test = np.reshape(RSG_test,(-1,1))"
      ],
      "metadata": {
        "id": "8l1KjtClvV3w"
      },
      "execution_count": null,
      "outputs": []
    },
    {
      "cell_type": "code",
      "source": [
        "from sklearn.preprocessing import MinMaxScaler"
      ],
      "metadata": {
        "id": "sneX2gj_roTL"
      },
      "execution_count": null,
      "outputs": []
    },
    {
      "cell_type": "code",
      "source": [
        "scaler = MinMaxScaler()"
      ],
      "metadata": {
        "id": "RUfDEFCor27x"
      },
      "execution_count": null,
      "outputs": []
    },
    {
      "cell_type": "code",
      "source": [
        "scaler.fit(RSG)"
      ],
      "metadata": {
        "colab": {
          "base_uri": "https://localhost:8080/"
        },
        "id": "ll-DeCkor4iR",
        "outputId": "a3bc9b74-ca89-4dab-c15b-def7b5a60d53"
      },
      "execution_count": null,
      "outputs": [
        {
          "output_type": "execute_result",
          "data": {
            "text/plain": [
              "MinMaxScaler()"
            ]
          },
          "metadata": {},
          "execution_count": 117
        }
      ]
    },
    {
      "cell_type": "code",
      "source": [
        "scaled_train = scaler.transform(RSG)\n",
        "scaled_test = scaler.transform(RSG_test)"
      ],
      "metadata": {
        "id": "BFQ9y3_WsALR"
      },
      "execution_count": null,
      "outputs": []
    },
    {
      "cell_type": "code",
      "source": [
        "scaled_train[0]"
      ],
      "metadata": {
        "colab": {
          "base_uri": "https://localhost:8080/"
        },
        "id": "JqIAwA2WsFyN",
        "outputId": "102eb6e6-4fac-41ad-92a1-adebb010364f"
      },
      "execution_count": null,
      "outputs": [
        {
          "output_type": "execute_result",
          "data": {
            "text/plain": [
              "array([0.01069959])"
            ]
          },
          "metadata": {},
          "execution_count": 119
        }
      ]
    },
    {
      "cell_type": "code",
      "source": [
        "from keras.preprocessing.sequence import TimeseriesGenerator"
      ],
      "metadata": {
        "id": "lb91maEPs5Co"
      },
      "execution_count": null,
      "outputs": []
    },
    {
      "cell_type": "markdown",
      "source": [
        "Se definen los batches para el entrenamiento."
      ],
      "metadata": {
        "id": "9J9naSSG2m1t"
      }
    },
    {
      "cell_type": "code",
      "source": [
        "n_input = 12 # horas hacia atrás\n",
        "n_features = 1 # hora predicha\n",
        "generator = TimeseriesGenerator(scaled_train, scaled_train, length=n_input, batch_size=1)"
      ],
      "metadata": {
        "id": "8ISPAPxa2dzQ"
      },
      "execution_count": null,
      "outputs": []
    },
    {
      "cell_type": "code",
      "source": [
        "X,y = generator[0]"
      ],
      "metadata": {
        "id": "6TKbRhvupoFc"
      },
      "execution_count": null,
      "outputs": []
    },
    {
      "cell_type": "code",
      "source": [
        "print(f'Datos: \\n{X.flatten()}')\n",
        "print(f'Predicción: \\n {y}')"
      ],
      "metadata": {
        "colab": {
          "base_uri": "https://localhost:8080/"
        },
        "id": "4TJAmlXFpxlE",
        "outputId": "99399b22-4759-462c-bd1d-c94dd2262471"
      },
      "execution_count": null,
      "outputs": [
        {
          "output_type": "stream",
          "name": "stdout",
          "text": [
            "Datos: \n",
            "[0.01069959 0.08641975 0.32263374 0.59753086 0.35061728 0.33004115\n",
            " 0.581893   0.32510288 0.4872428  0.25185185 0.11028807 0.02716049]\n",
            "Predicción: \n",
            " [[0.01399177]]\n"
          ]
        }
      ]
    },
    {
      "cell_type": "markdown",
      "source": [
        "## Creación del modelo"
      ],
      "metadata": {
        "id": "mORpHnYKp4Cp"
      }
    },
    {
      "cell_type": "code",
      "source": [
        "from keras.models import Sequential\n",
        "from keras.layers import Dense\n",
        "from keras.layers import LSTM"
      ],
      "metadata": {
        "id": "RuWf_NwbpzPM"
      },
      "execution_count": null,
      "outputs": []
    },
    {
      "cell_type": "code",
      "source": [
        "# define model\n",
        "model = Sequential()\n",
        "model.add(LSTM(100, activation='relu', input_shape=(n_input, n_features)))\n",
        "model.add(Dense(1))\n",
        "model.compile(optimizer='adam', loss='mse')"
      ],
      "metadata": {
        "id": "bNvFyQL-p5u4"
      },
      "execution_count": null,
      "outputs": []
    },
    {
      "cell_type": "code",
      "source": [
        "model.summary()"
      ],
      "metadata": {
        "colab": {
          "base_uri": "https://localhost:8080/"
        },
        "id": "zzx9CoFRp8wY",
        "outputId": "70697f95-f473-4b3d-b9e4-44f32eb234e1"
      },
      "execution_count": null,
      "outputs": [
        {
          "output_type": "stream",
          "name": "stdout",
          "text": [
            "Model: \"sequential_1\"\n",
            "_________________________________________________________________\n",
            " Layer (type)                Output Shape              Param #   \n",
            "=================================================================\n",
            " lstm_1 (LSTM)               (None, 100)               40800     \n",
            "                                                                 \n",
            " dense_1 (Dense)             (None, 1)                 101       \n",
            "                                                                 \n",
            "=================================================================\n",
            "Total params: 40,901\n",
            "Trainable params: 40,901\n",
            "Non-trainable params: 0\n",
            "_________________________________________________________________\n"
          ]
        }
      ]
    },
    {
      "cell_type": "code",
      "source": [
        "# fit model\n",
        "model.fit(generator,epochs=5)"
      ],
      "metadata": {
        "colab": {
          "base_uri": "https://localhost:8080/"
        },
        "id": "wjuYD0JCp-Z4",
        "outputId": "34d635b2-bdd8-4066-976b-816c573fff29"
      },
      "execution_count": null,
      "outputs": [
        {
          "output_type": "stream",
          "name": "stdout",
          "text": [
            "Epoch 1/5\n",
            "3492/3492 [==============================] - 35s 10ms/step - loss: 0.0201\n",
            "Epoch 2/5\n",
            "3492/3492 [==============================] - 32s 9ms/step - loss: 0.0141\n",
            "Epoch 3/5\n",
            "3492/3492 [==============================] - 31s 9ms/step - loss: 0.0135\n",
            "Epoch 4/5\n",
            "3492/3492 [==============================] - 30s 9ms/step - loss: 0.0131\n",
            "Epoch 5/5\n",
            "3492/3492 [==============================] - 29s 8ms/step - loss: 0.0127\n"
          ]
        },
        {
          "output_type": "execute_result",
          "data": {
            "text/plain": [
              "<keras.callbacks.History at 0x7f0e7a35aed0>"
            ]
          },
          "metadata": {},
          "execution_count": 127
        }
      ]
    },
    {
      "cell_type": "code",
      "source": [
        "loss_per_epoch = model.history.history['loss']\n",
        "plt.plot(range(len(loss_per_epoch)),loss_per_epoch)"
      ],
      "metadata": {
        "colab": {
          "base_uri": "https://localhost:8080/",
          "height": 282
        },
        "id": "vOLB7VI8qC5d",
        "outputId": "428107dc-29ef-4ebb-bda0-dee3f043bf13"
      },
      "execution_count": null,
      "outputs": [
        {
          "output_type": "execute_result",
          "data": {
            "text/plain": [
              "[<matplotlib.lines.Line2D at 0x7f0e7862f3d0>]"
            ]
          },
          "metadata": {},
          "execution_count": 128
        },
        {
          "output_type": "display_data",
          "data": {
            "image/png": "[encoded data removed]",
            "text/plain": [
              "<Figure size 432x288 with 1 Axes>"
            ]
          },
          "metadata": {
            "needs_background": "light"
          }
        }
      ]
    },
    {
      "cell_type": "code",
      "source": [
        "X.shape"
      ],
      "metadata": {
        "colab": {
          "base_uri": "https://localhost:8080/"
        },
        "id": "NXt5N7DuqNhs",
        "outputId": "923d8c6b-e79a-4db2-9830-973f05ac0ce1"
      },
      "execution_count": null,
      "outputs": [
        {
          "output_type": "execute_result",
          "data": {
            "text/plain": [
              "(1, 12, 1)"
            ]
          },
          "metadata": {},
          "execution_count": 129
        }
      ]
    },
    {
      "cell_type": "code",
      "source": [
        "# Necesitaremos las últimas 12 horas del conjunto de entrenamiento para predecir el 1er mes en el conjunto de prueba\n",
        "first_eval_batch = scaled_train[-12:]"
      ],
      "metadata": {
        "id": "ClMdrm6Qr2IQ"
      },
      "execution_count": null,
      "outputs": []
    },
    {
      "cell_type": "code",
      "source": [
        "first_eval_batch"
      ],
      "metadata": {
        "colab": {
          "base_uri": "https://localhost:8080/"
        },
        "id": "E9g5zigVsKV8",
        "outputId": "4d33b0b6-ddbc-4351-c048-e31e39f6feb2"
      },
      "execution_count": null,
      "outputs": [
        {
          "output_type": "execute_result",
          "data": {
            "text/plain": [
              "array([[0.02057613],\n",
              "       [0.07572016],\n",
              "       [0.14320988],\n",
              "       [0.15802469],\n",
              "       [0.35061728],\n",
              "       [0.46584362],\n",
              "       [0.54238683],\n",
              "       [0.36872428],\n",
              "       [0.28559671],\n",
              "       [0.14979424],\n",
              "       [0.10041152],\n",
              "       [0.02304527]])"
            ]
          },
          "metadata": {},
          "execution_count": 141
        }
      ]
    },
    {
      "cell_type": "code",
      "source": [
        "first_eval_batch.shape"
      ],
      "metadata": {
        "colab": {
          "base_uri": "https://localhost:8080/"
        },
        "id": "jvhkRx3QsLlD",
        "outputId": "eefe5300-d54e-4e93-b50e-da3b0d9a96d5"
      },
      "execution_count": null,
      "outputs": [
        {
          "output_type": "execute_result",
          "data": {
            "text/plain": [
              "(12, 1)"
            ]
          },
          "metadata": {},
          "execution_count": 142
        }
      ]
    },
    {
      "cell_type": "code",
      "source": [
        "first_eval_batch = first_eval_batch.reshape((1, n_input, n_features))"
      ],
      "metadata": {
        "id": "C-_Vh1FEsWSz"
      },
      "execution_count": null,
      "outputs": []
    },
    {
      "cell_type": "code",
      "source": [
        "first_eval_batch.shape"
      ],
      "metadata": {
        "colab": {
          "base_uri": "https://localhost:8080/"
        },
        "id": "2frqSbVrsayL",
        "outputId": "a514c2c1-051d-4ee9-da8d-7f7a82467de9"
      },
      "execution_count": null,
      "outputs": [
        {
          "output_type": "execute_result",
          "data": {
            "text/plain": [
              "(1, 12, 1)"
            ]
          },
          "metadata": {},
          "execution_count": 144
        }
      ]
    },
    {
      "cell_type": "markdown",
      "source": [
        "Valor predicho y valor real."
      ],
      "metadata": {
        "id": "hfvmoJIesn1Q"
      }
    },
    {
      "cell_type": "code",
      "source": [
        "model.predict(first_eval_batch)[0]"
      ],
      "metadata": {
        "colab": {
          "base_uri": "https://localhost:8080/"
        },
        "id": "HUrFeImvscrv",
        "outputId": "31e62b66-3528-43d2-d67c-bf48468afc8d"
      },
      "execution_count": null,
      "outputs": [
        {
          "output_type": "execute_result",
          "data": {
            "text/plain": [
              "array([0.00511046], dtype=float32)"
            ]
          },
          "metadata": {},
          "execution_count": 145
        }
      ]
    },
    {
      "cell_type": "code",
      "source": [
        "scaled_test[0]"
      ],
      "metadata": {
        "colab": {
          "base_uri": "https://localhost:8080/"
        },
        "id": "V-eArjSKsfLf",
        "outputId": "c4a0b135-f884-46f9-d1c9-d02536e40971"
      },
      "execution_count": null,
      "outputs": [
        {
          "output_type": "execute_result",
          "data": {
            "text/plain": [
              "array([0.03045267])"
            ]
          },
          "metadata": {},
          "execution_count": 146
        }
      ]
    },
    {
      "cell_type": "markdown",
      "source": [
        "Se obtienen las precdicciones de una semana"
      ],
      "metadata": {
        "id": "qeH1fk3fytkw"
      }
    },
    {
      "cell_type": "code",
      "source": [
        "test_predictions = []\n",
        "\n",
        "first_eval_batch = scaled_train[-n_input:]\n",
        "current_batch = first_eval_batch.reshape((1, n_input, n_features))\n",
        "\n",
        "for i in range(12*7):\n",
        "    \n",
        "    # obtener la predicción ([0] es para obtener solo el número en lugar de [matriz])\n",
        "    current_pred = model.predict(current_batch)[0]\n",
        "    \n",
        "    # guardar la predicción\n",
        "    test_predictions.append(current_pred) \n",
        "    \n",
        "    # actualizar el lote para incluir ahora la predicción y soltar primer valor\n",
        "    current_batch = np.append(current_batch[:,1:,:],[[current_pred]],axis=1)"
      ],
      "metadata": {
        "id": "0Ah5rwvIsk3Y"
      },
      "execution_count": null,
      "outputs": []
    },
    {
      "cell_type": "code",
      "source": [
        "true_predictions = scaler.inverse_transform(test_predictions)"
      ],
      "metadata": {
        "id": "vCvlATreuInI"
      },
      "execution_count": null,
      "outputs": []
    },
    {
      "cell_type": "code",
      "source": [
        "df_plot = pd.DataFrame()"
      ],
      "metadata": {
        "id": "aseWp8tezgb4"
      },
      "execution_count": null,
      "outputs": []
    },
    {
      "cell_type": "code",
      "source": [
        "df_plot['RSG'] =  df_test['SRGLOAVG1H'][:12*7]"
      ],
      "metadata": {
        "id": "eWL6uYlQy0sc"
      },
      "execution_count": null,
      "outputs": []
    },
    {
      "cell_type": "code",
      "source": [
        "df_plot['predictions'] = true_predictions"
      ],
      "metadata": {
        "id": "qpMlMFZDy6b0"
      },
      "execution_count": null,
      "outputs": []
    },
    {
      "cell_type": "code",
      "source": [
        "df_plot.plot(figsize=(12,8))"
      ],
      "metadata": {
        "colab": {
          "base_uri": "https://localhost:8080/",
          "height": 500
        },
        "id": "4Xp7DKX3zFSr",
        "outputId": "ffcce4b7-7fef-459d-e4b1-e1790760eddd"
      },
      "execution_count": null,
      "outputs": [
        {
          "output_type": "execute_result",
          "data": {
            "text/plain": [
              "<matplotlib.axes._subplots.AxesSubplot at 0x7f0e70ed4850>"
            ]
          },
          "metadata": {},
          "execution_count": 163
        },
        {
          "output_type": "display_data",
          "data": {
            "image/png": "[encoded data removed]",
            "text/plain": [
              "<Figure size 864x576 with 1 Axes>"
            ]
          },
          "metadata": {
            "needs_background": "light"
          }
        }
      ]
    },
    {
      "cell_type": "markdown",
      "source": [
        "Salvar el modelo"
      ],
      "metadata": {
        "id": "jbl3WdLtzxWw"
      }
    },
    {
      "cell_type": "code",
      "source": [
        "model.save('RSG_model.h5')"
      ],
      "metadata": {
        "id": "-7FKg9IkzY7r"
      },
      "execution_count": null,
      "outputs": []
    },
    {
      "cell_type": "code",
      "source": [
        ""
      ],
      "metadata": {
        "id": "exL8lZePz1ln"
      },
      "execution_count": null,
      "outputs": []
    }
  ]
}