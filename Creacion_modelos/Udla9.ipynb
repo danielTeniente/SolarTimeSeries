{
  "cells": [
    {
      "cell_type": "markdown",
      "metadata": {
        "id": "y0Ph67-3nQO3"
      },
      "source": [
        "# LSTM con una variable"
      ]
    },
    {
      "cell_type": "code",
      "execution_count": null,
      "metadata": {
        "id": "bEzz6fnMnY2m"
      },
      "outputs": [],
      "source": [
        "import pandas as pd\n",
        "import matplotlib.pyplot as plt\n",
        "import numpy as np\n",
        "from sklearn.metrics import mean_squared_error\n",
        "from sklearn.metrics import mean_absolute_error"
      ]
    },
    {
      "cell_type": "code",
      "execution_count": null,
      "metadata": {
        "id": "MprmZfxhmtZo"
      },
      "outputs": [],
      "source": [
        "df = pd.read_csv('./drive/MyDrive/DatosInvestigacion/final_train_2015.csv', index_col=0, parse_dates=True)\n",
        "df = df.asfreq('h')"
      ]
    },
    {
      "cell_type": "code",
      "execution_count": null,
      "metadata": {
        "id": "apP2Y0oco-qI"
      },
      "outputs": [],
      "source": [
        "df = df.between_time('08:00:00','17:00:00')"
      ]
    },
    {
      "cell_type": "code",
      "execution_count": null,
      "metadata": {
        "colab": {
          "base_uri": "https://localhost:8080/",
          "height": 455
        },
        "id": "1_4OwKBKsLdl",
        "outputId": "efbd16ac-a780-459b-c5e4-47fcd03adb48"
      },
      "outputs": [
        {
          "output_type": "execute_result",
          "data": {
            "text/html": [
              "\n",
              "  <div id=\"df-730d90d5-3123-4a47-9acc-a205cb134e77\">\n",
              "    <div class=\"colab-df-container\">\n",
              "      <div>\n",
              "<style scoped>\n",
              "    .dataframe tbody tr th:only-of-type {\n",
              "        vertical-align: middle;\n",
              "    }\n",
              "\n",
              "    .dataframe tbody tr th {\n",
              "        vertical-align: top;\n",
              "    }\n",
              "\n",
              "    .dataframe thead th {\n",
              "        text-align: right;\n",
              "    }\n",
              "</style>\n",
              "<table border=\"1\" class=\"dataframe\">\n",
              "  <thead>\n",
              "    <tr style=\"text-align: right;\">\n",
              "      <th></th>\n",
              "      <th>SRGLOAVG1H</th>\n",
              "      <th>TAMAX1H</th>\n",
              "      <th>TAMIN1H</th>\n",
              "      <th>RHMAX1H</th>\n",
              "      <th>RHMIN1H</th>\n",
              "      <th>PRSUM1H</th>\n",
              "      <th>PAAVG1H</th>\n",
              "      <th>PAMAX1H</th>\n",
              "      <th>PAMIN1H</th>\n",
              "      <th>WS1HA</th>\n",
              "      <th>WS1HX</th>\n",
              "      <th>WD1HA</th>\n",
              "    </tr>\n",
              "    <tr>\n",
              "      <th>Local_Time</th>\n",
              "      <th></th>\n",
              "      <th></th>\n",
              "      <th></th>\n",
              "      <th></th>\n",
              "      <th></th>\n",
              "      <th></th>\n",
              "      <th></th>\n",
              "      <th></th>\n",
              "      <th></th>\n",
              "      <th></th>\n",
              "      <th></th>\n",
              "      <th></th>\n",
              "    </tr>\n",
              "  </thead>\n",
              "  <tbody>\n",
              "    <tr>\n",
              "      <th>2015-01-01 08:00:00</th>\n",
              "      <td>107.0</td>\n",
              "      <td>12.2</td>\n",
              "      <td>9.5</td>\n",
              "      <td>96.0</td>\n",
              "      <td>89.0</td>\n",
              "      <td>0.0</td>\n",
              "      <td>743.5</td>\n",
              "      <td>743.7</td>\n",
              "      <td>743.1</td>\n",
              "      <td>2.5</td>\n",
              "      <td>4.6</td>\n",
              "      <td>42</td>\n",
              "    </tr>\n",
              "    <tr>\n",
              "      <th>2015-01-01 09:00:00</th>\n",
              "      <td>394.0</td>\n",
              "      <td>15.1</td>\n",
              "      <td>12.2</td>\n",
              "      <td>89.0</td>\n",
              "      <td>76.0</td>\n",
              "      <td>0.0</td>\n",
              "      <td>743.8</td>\n",
              "      <td>743.9</td>\n",
              "      <td>743.7</td>\n",
              "      <td>3.3</td>\n",
              "      <td>5.8</td>\n",
              "      <td>59</td>\n",
              "    </tr>\n",
              "    <tr>\n",
              "      <th>2015-01-01 10:00:00</th>\n",
              "      <td>728.0</td>\n",
              "      <td>18.1</td>\n",
              "      <td>15.1</td>\n",
              "      <td>79.0</td>\n",
              "      <td>57.0</td>\n",
              "      <td>0.0</td>\n",
              "      <td>743.7</td>\n",
              "      <td>743.9</td>\n",
              "      <td>743.4</td>\n",
              "      <td>4.4</td>\n",
              "      <td>8.4</td>\n",
              "      <td>40</td>\n",
              "    </tr>\n",
              "    <tr>\n",
              "      <th>2015-01-01 11:00:00</th>\n",
              "      <td>428.0</td>\n",
              "      <td>18.4</td>\n",
              "      <td>16.7</td>\n",
              "      <td>66.0</td>\n",
              "      <td>58.0</td>\n",
              "      <td>0.0</td>\n",
              "      <td>743.2</td>\n",
              "      <td>743.4</td>\n",
              "      <td>742.8</td>\n",
              "      <td>4.0</td>\n",
              "      <td>8.1</td>\n",
              "      <td>35</td>\n",
              "    </tr>\n",
              "    <tr>\n",
              "      <th>2015-01-01 12:00:00</th>\n",
              "      <td>403.0</td>\n",
              "      <td>18.5</td>\n",
              "      <td>17.2</td>\n",
              "      <td>65.0</td>\n",
              "      <td>55.0</td>\n",
              "      <td>0.0</td>\n",
              "      <td>742.6</td>\n",
              "      <td>742.9</td>\n",
              "      <td>742.3</td>\n",
              "      <td>3.5</td>\n",
              "      <td>7.6</td>\n",
              "      <td>34</td>\n",
              "    </tr>\n",
              "    <tr>\n",
              "      <th>...</th>\n",
              "      <td>...</td>\n",
              "      <td>...</td>\n",
              "      <td>...</td>\n",
              "      <td>...</td>\n",
              "      <td>...</td>\n",
              "      <td>...</td>\n",
              "      <td>...</td>\n",
              "      <td>...</td>\n",
              "      <td>...</td>\n",
              "      <td>...</td>\n",
              "      <td>...</td>\n",
              "      <td>...</td>\n",
              "    </tr>\n",
              "    <tr>\n",
              "      <th>2016-08-07 13:00:00</th>\n",
              "      <td>370.0</td>\n",
              "      <td>18.0</td>\n",
              "      <td>14.2</td>\n",
              "      <td>84.0</td>\n",
              "      <td>63.0</td>\n",
              "      <td>0.2</td>\n",
              "      <td>744.3</td>\n",
              "      <td>744.8</td>\n",
              "      <td>744.1</td>\n",
              "      <td>4.5</td>\n",
              "      <td>11.1</td>\n",
              "      <td>30</td>\n",
              "    </tr>\n",
              "    <tr>\n",
              "      <th>2016-08-07 14:00:00</th>\n",
              "      <td>364.0</td>\n",
              "      <td>17.5</td>\n",
              "      <td>14.0</td>\n",
              "      <td>87.0</td>\n",
              "      <td>72.0</td>\n",
              "      <td>0.0</td>\n",
              "      <td>743.9</td>\n",
              "      <td>744.2</td>\n",
              "      <td>743.5</td>\n",
              "      <td>4.3</td>\n",
              "      <td>12.1</td>\n",
              "      <td>28</td>\n",
              "    </tr>\n",
              "    <tr>\n",
              "      <th>2016-08-07 15:00:00</th>\n",
              "      <td>331.0</td>\n",
              "      <td>18.0</td>\n",
              "      <td>15.3</td>\n",
              "      <td>81.0</td>\n",
              "      <td>64.0</td>\n",
              "      <td>0.0</td>\n",
              "      <td>743.4</td>\n",
              "      <td>743.6</td>\n",
              "      <td>743.0</td>\n",
              "      <td>3.3</td>\n",
              "      <td>11.0</td>\n",
              "      <td>23</td>\n",
              "    </tr>\n",
              "    <tr>\n",
              "      <th>2016-08-07 16:00:00</th>\n",
              "      <td>334.0</td>\n",
              "      <td>18.2</td>\n",
              "      <td>16.7</td>\n",
              "      <td>69.0</td>\n",
              "      <td>60.0</td>\n",
              "      <td>0.0</td>\n",
              "      <td>742.6</td>\n",
              "      <td>743.0</td>\n",
              "      <td>742.2</td>\n",
              "      <td>4.5</td>\n",
              "      <td>9.5</td>\n",
              "      <td>30</td>\n",
              "    </tr>\n",
              "    <tr>\n",
              "      <th>2016-08-07 17:00:00</th>\n",
              "      <td>132.0</td>\n",
              "      <td>17.3</td>\n",
              "      <td>16.0</td>\n",
              "      <td>68.0</td>\n",
              "      <td>62.0</td>\n",
              "      <td>0.0</td>\n",
              "      <td>742.4</td>\n",
              "      <td>742.7</td>\n",
              "      <td>742.3</td>\n",
              "      <td>5.1</td>\n",
              "      <td>10.4</td>\n",
              "      <td>38</td>\n",
              "    </tr>\n",
              "  </tbody>\n",
              "</table>\n",
              "<p>5850 rows × 12 columns</p>\n",
              "</div>\n",
              "      <button class=\"colab-df-convert\" onclick=\"convertToInteractive('df-730d90d5-3123-4a47-9acc-a205cb134e77')\"\n",
              "              title=\"Convert this dataframe to an interactive table.\"\n",
              "              style=\"display:none;\">\n",
              "        \n",
              "  <svg xmlns=\"http://www.w3.org/2000/svg\" height=\"24px\"viewBox=\"0 0 24 24\"\n",
              "       width=\"24px\">\n",
              "    <path d=\"M0 0h24v24H0V0z\" fill=\"none\"/>\n",
              "    <path d=\"M18.56 5.44l.94 2.06.94-2.06 2.06-.94-2.06-.94-.94-2.06-.94 2.06-2.06.94zm-11 1L8.5 8.5l.94-2.06 2.06-.94-2.06-.94L8.5 2.5l-.94 2.06-2.06.94zm10 10l.94 2.06.94-2.06 2.06-.94-2.06-.94-.94-2.06-.94 2.06-2.06.94z\"/><path d=\"M17.41 7.96l-1.37-1.37c-.4-.4-.92-.59-1.43-.59-.52 0-1.04.2-1.43.59L10.3 9.45l-7.72 7.72c-.78.78-.78 2.05 0 2.83L4 21.41c.39.39.9.59 1.41.59.51 0 1.02-.2 1.41-.59l7.78-7.78 2.81-2.81c.8-.78.8-2.07 0-2.86zM5.41 20L4 18.59l7.72-7.72 1.47 1.35L5.41 20z\"/>\n",
              "  </svg>\n",
              "      </button>\n",
              "      \n",
              "  <style>\n",
              "    .colab-df-container {\n",
              "      display:flex;\n",
              "      flex-wrap:wrap;\n",
              "      gap: 12px;\n",
              "    }\n",
              "\n",
              "    .colab-df-convert {\n",
              "      background-color: #E8F0FE;\n",
              "      border: none;\n",
              "      border-radius: 50%;\n",
              "      cursor: pointer;\n",
              "      display: none;\n",
              "      fill: #1967D2;\n",
              "      height: 32px;\n",
              "      padding: 0 0 0 0;\n",
              "      width: 32px;\n",
              "    }\n",
              "\n",
              "    .colab-df-convert:hover {\n",
              "      background-color: #E2EBFA;\n",
              "      box-shadow: 0px 1px 2px rgba(60, 64, 67, 0.3), 0px 1px 3px 1px rgba(60, 64, 67, 0.15);\n",
              "      fill: #174EA6;\n",
              "    }\n",
              "\n",
              "    [theme=dark] .colab-df-convert {\n",
              "      background-color: #3B4455;\n",
              "      fill: #D2E3FC;\n",
              "    }\n",
              "\n",
              "    [theme=dark] .colab-df-convert:hover {\n",
              "      background-color: #434B5C;\n",
              "      box-shadow: 0px 1px 3px 1px rgba(0, 0, 0, 0.15);\n",
              "      filter: drop-shadow(0px 1px 2px rgba(0, 0, 0, 0.3));\n",
              "      fill: #FFFFFF;\n",
              "    }\n",
              "  </style>\n",
              "\n",
              "      <script>\n",
              "        const buttonEl =\n",
              "          document.querySelector('#df-730d90d5-3123-4a47-9acc-a205cb134e77 button.colab-df-convert');\n",
              "        buttonEl.style.display =\n",
              "          google.colab.kernel.accessAllowed ? 'block' : 'none';\n",
              "\n",
              "        async function convertToInteractive(key) {\n",
              "          const element = document.querySelector('#df-730d90d5-3123-4a47-9acc-a205cb134e77');\n",
              "          const dataTable =\n",
              "            await google.colab.kernel.invokeFunction('convertToInteractive',\n",
              "                                                     [key], {});\n",
              "          if (!dataTable) return;\n",
              "\n",
              "          const docLinkHtml = 'Like what you see? Visit the ' +\n",
              "            '<a target=\"_blank\" href=https://colab.research.google.com/notebooks/data_table.ipynb>data table notebook</a>'\n",
              "            + ' to learn more about interactive tables.';\n",
              "          element.innerHTML = '';\n",
              "          dataTable['output_type'] = 'display_data';\n",
              "          await google.colab.output.renderOutput(dataTable, element);\n",
              "          const docLink = document.createElement('div');\n",
              "          docLink.innerHTML = docLinkHtml;\n",
              "          element.appendChild(docLink);\n",
              "        }\n",
              "      </script>\n",
              "    </div>\n",
              "  </div>\n",
              "  "
            ],
            "text/plain": [
              "                     SRGLOAVG1H  TAMAX1H  TAMIN1H  ...  WS1HA  WS1HX  WD1HA\n",
              "Local_Time                                         ...                     \n",
              "2015-01-01 08:00:00       107.0     12.2      9.5  ...    2.5    4.6     42\n",
              "2015-01-01 09:00:00       394.0     15.1     12.2  ...    3.3    5.8     59\n",
              "2015-01-01 10:00:00       728.0     18.1     15.1  ...    4.4    8.4     40\n",
              "2015-01-01 11:00:00       428.0     18.4     16.7  ...    4.0    8.1     35\n",
              "2015-01-01 12:00:00       403.0     18.5     17.2  ...    3.5    7.6     34\n",
              "...                         ...      ...      ...  ...    ...    ...    ...\n",
              "2016-08-07 13:00:00       370.0     18.0     14.2  ...    4.5   11.1     30\n",
              "2016-08-07 14:00:00       364.0     17.5     14.0  ...    4.3   12.1     28\n",
              "2016-08-07 15:00:00       331.0     18.0     15.3  ...    3.3   11.0     23\n",
              "2016-08-07 16:00:00       334.0     18.2     16.7  ...    4.5    9.5     30\n",
              "2016-08-07 17:00:00       132.0     17.3     16.0  ...    5.1   10.4     38\n",
              "\n",
              "[5850 rows x 12 columns]"
            ]
          },
          "metadata": {},
          "execution_count": 4
        }
      ],
      "source": [
        "df"
      ]
    },
    {
      "cell_type": "code",
      "execution_count": null,
      "metadata": {
        "id": "Rvd5l6YRsNkv"
      },
      "outputs": [],
      "source": [
        "df = df[['SRGLOAVG1H','TAMAX1H','TAMIN1H','WS1HX','WS1HA','RHMIN1H','RHMAX1H']]"
      ]
    },
    {
      "cell_type": "code",
      "execution_count": null,
      "metadata": {
        "colab": {
          "base_uri": "https://localhost:8080/",
          "height": 238
        },
        "id": "mkAyfD3o1zA1",
        "outputId": "8d083be2-6a04-46c4-b138-3b86c6dec3b6"
      },
      "outputs": [
        {
          "output_type": "execute_result",
          "data": {
            "text/html": [
              "\n",
              "  <div id=\"df-a24e70d2-9a15-4235-bf13-e44859fb9f9f\">\n",
              "    <div class=\"colab-df-container\">\n",
              "      <div>\n",
              "<style scoped>\n",
              "    .dataframe tbody tr th:only-of-type {\n",
              "        vertical-align: middle;\n",
              "    }\n",
              "\n",
              "    .dataframe tbody tr th {\n",
              "        vertical-align: top;\n",
              "    }\n",
              "\n",
              "    .dataframe thead th {\n",
              "        text-align: right;\n",
              "    }\n",
              "</style>\n",
              "<table border=\"1\" class=\"dataframe\">\n",
              "  <thead>\n",
              "    <tr style=\"text-align: right;\">\n",
              "      <th></th>\n",
              "      <th>SRGLOAVG1H</th>\n",
              "      <th>TAMAX1H</th>\n",
              "      <th>TAMIN1H</th>\n",
              "      <th>WS1HX</th>\n",
              "      <th>WS1HA</th>\n",
              "      <th>RHMIN1H</th>\n",
              "      <th>RHMAX1H</th>\n",
              "    </tr>\n",
              "    <tr>\n",
              "      <th>Local_Time</th>\n",
              "      <th></th>\n",
              "      <th></th>\n",
              "      <th></th>\n",
              "      <th></th>\n",
              "      <th></th>\n",
              "      <th></th>\n",
              "      <th></th>\n",
              "    </tr>\n",
              "  </thead>\n",
              "  <tbody>\n",
              "    <tr>\n",
              "      <th>2015-01-01 08:00:00</th>\n",
              "      <td>107.0</td>\n",
              "      <td>12.2</td>\n",
              "      <td>9.5</td>\n",
              "      <td>4.6</td>\n",
              "      <td>2.5</td>\n",
              "      <td>89.0</td>\n",
              "      <td>96.0</td>\n",
              "    </tr>\n",
              "    <tr>\n",
              "      <th>2015-01-01 09:00:00</th>\n",
              "      <td>394.0</td>\n",
              "      <td>15.1</td>\n",
              "      <td>12.2</td>\n",
              "      <td>5.8</td>\n",
              "      <td>3.3</td>\n",
              "      <td>76.0</td>\n",
              "      <td>89.0</td>\n",
              "    </tr>\n",
              "    <tr>\n",
              "      <th>2015-01-01 10:00:00</th>\n",
              "      <td>728.0</td>\n",
              "      <td>18.1</td>\n",
              "      <td>15.1</td>\n",
              "      <td>8.4</td>\n",
              "      <td>4.4</td>\n",
              "      <td>57.0</td>\n",
              "      <td>79.0</td>\n",
              "    </tr>\n",
              "    <tr>\n",
              "      <th>2015-01-01 11:00:00</th>\n",
              "      <td>428.0</td>\n",
              "      <td>18.4</td>\n",
              "      <td>16.7</td>\n",
              "      <td>8.1</td>\n",
              "      <td>4.0</td>\n",
              "      <td>58.0</td>\n",
              "      <td>66.0</td>\n",
              "    </tr>\n",
              "    <tr>\n",
              "      <th>2015-01-01 12:00:00</th>\n",
              "      <td>403.0</td>\n",
              "      <td>18.5</td>\n",
              "      <td>17.2</td>\n",
              "      <td>7.6</td>\n",
              "      <td>3.5</td>\n",
              "      <td>55.0</td>\n",
              "      <td>65.0</td>\n",
              "    </tr>\n",
              "  </tbody>\n",
              "</table>\n",
              "</div>\n",
              "      <button class=\"colab-df-convert\" onclick=\"convertToInteractive('df-a24e70d2-9a15-4235-bf13-e44859fb9f9f')\"\n",
              "              title=\"Convert this dataframe to an interactive table.\"\n",
              "              style=\"display:none;\">\n",
              "        \n",
              "  <svg xmlns=\"http://www.w3.org/2000/svg\" height=\"24px\"viewBox=\"0 0 24 24\"\n",
              "       width=\"24px\">\n",
              "    <path d=\"M0 0h24v24H0V0z\" fill=\"none\"/>\n",
              "    <path d=\"M18.56 5.44l.94 2.06.94-2.06 2.06-.94-2.06-.94-.94-2.06-.94 2.06-2.06.94zm-11 1L8.5 8.5l.94-2.06 2.06-.94-2.06-.94L8.5 2.5l-.94 2.06-2.06.94zm10 10l.94 2.06.94-2.06 2.06-.94-2.06-.94-.94-2.06-.94 2.06-2.06.94z\"/><path d=\"M17.41 7.96l-1.37-1.37c-.4-.4-.92-.59-1.43-.59-.52 0-1.04.2-1.43.59L10.3 9.45l-7.72 7.72c-.78.78-.78 2.05 0 2.83L4 21.41c.39.39.9.59 1.41.59.51 0 1.02-.2 1.41-.59l7.78-7.78 2.81-2.81c.8-.78.8-2.07 0-2.86zM5.41 20L4 18.59l7.72-7.72 1.47 1.35L5.41 20z\"/>\n",
              "  </svg>\n",
              "      </button>\n",
              "      \n",
              "  <style>\n",
              "    .colab-df-container {\n",
              "      display:flex;\n",
              "      flex-wrap:wrap;\n",
              "      gap: 12px;\n",
              "    }\n",
              "\n",
              "    .colab-df-convert {\n",
              "      background-color: #E8F0FE;\n",
              "      border: none;\n",
              "      border-radius: 50%;\n",
              "      cursor: pointer;\n",
              "      display: none;\n",
              "      fill: #1967D2;\n",
              "      height: 32px;\n",
              "      padding: 0 0 0 0;\n",
              "      width: 32px;\n",
              "    }\n",
              "\n",
              "    .colab-df-convert:hover {\n",
              "      background-color: #E2EBFA;\n",
              "      box-shadow: 0px 1px 2px rgba(60, 64, 67, 0.3), 0px 1px 3px 1px rgba(60, 64, 67, 0.15);\n",
              "      fill: #174EA6;\n",
              "    }\n",
              "\n",
              "    [theme=dark] .colab-df-convert {\n",
              "      background-color: #3B4455;\n",
              "      fill: #D2E3FC;\n",
              "    }\n",
              "\n",
              "    [theme=dark] .colab-df-convert:hover {\n",
              "      background-color: #434B5C;\n",
              "      box-shadow: 0px 1px 3px 1px rgba(0, 0, 0, 0.15);\n",
              "      filter: drop-shadow(0px 1px 2px rgba(0, 0, 0, 0.3));\n",
              "      fill: #FFFFFF;\n",
              "    }\n",
              "  </style>\n",
              "\n",
              "      <script>\n",
              "        const buttonEl =\n",
              "          document.querySelector('#df-a24e70d2-9a15-4235-bf13-e44859fb9f9f button.colab-df-convert');\n",
              "        buttonEl.style.display =\n",
              "          google.colab.kernel.accessAllowed ? 'block' : 'none';\n",
              "\n",
              "        async function convertToInteractive(key) {\n",
              "          const element = document.querySelector('#df-a24e70d2-9a15-4235-bf13-e44859fb9f9f');\n",
              "          const dataTable =\n",
              "            await google.colab.kernel.invokeFunction('convertToInteractive',\n",
              "                                                     [key], {});\n",
              "          if (!dataTable) return;\n",
              "\n",
              "          const docLinkHtml = 'Like what you see? Visit the ' +\n",
              "            '<a target=\"_blank\" href=https://colab.research.google.com/notebooks/data_table.ipynb>data table notebook</a>'\n",
              "            + ' to learn more about interactive tables.';\n",
              "          element.innerHTML = '';\n",
              "          dataTable['output_type'] = 'display_data';\n",
              "          await google.colab.output.renderOutput(dataTable, element);\n",
              "          const docLink = document.createElement('div');\n",
              "          docLink.innerHTML = docLinkHtml;\n",
              "          element.appendChild(docLink);\n",
              "        }\n",
              "      </script>\n",
              "    </div>\n",
              "  </div>\n",
              "  "
            ],
            "text/plain": [
              "                     SRGLOAVG1H  TAMAX1H  TAMIN1H  ...  WS1HA  RHMIN1H  RHMAX1H\n",
              "Local_Time                                         ...                         \n",
              "2015-01-01 08:00:00       107.0     12.2      9.5  ...    2.5     89.0     96.0\n",
              "2015-01-01 09:00:00       394.0     15.1     12.2  ...    3.3     76.0     89.0\n",
              "2015-01-01 10:00:00       728.0     18.1     15.1  ...    4.4     57.0     79.0\n",
              "2015-01-01 11:00:00       428.0     18.4     16.7  ...    4.0     58.0     66.0\n",
              "2015-01-01 12:00:00       403.0     18.5     17.2  ...    3.5     55.0     65.0\n",
              "\n",
              "[5 rows x 7 columns]"
            ]
          },
          "metadata": {},
          "execution_count": 6
        }
      ],
      "source": [
        "df.head()"
      ]
    },
    {
      "cell_type": "code",
      "execution_count": null,
      "metadata": {
        "id": "44_UnrswnUHz"
      },
      "outputs": [],
      "source": [
        "df_test = pd.read_csv('./drive/MyDrive/DatosInvestigacion/final_test_2015.csv', index_col=0, parse_dates=True)\n",
        "df_test = df_test.asfreq('h')"
      ]
    },
    {
      "cell_type": "code",
      "execution_count": null,
      "metadata": {
        "id": "kvA1ic0Csx1V"
      },
      "outputs": [],
      "source": [
        "df_test = df_test[['SRGLOAVG1H','TAMAX1H','TAMIN1H','WS1HX','WS1HA','RHMIN1H','RHMAX1H']]\n",
        "df_test = df_test.between_time('08:00:00','17:00:00')"
      ]
    },
    {
      "cell_type": "code",
      "execution_count": null,
      "metadata": {
        "colab": {
          "base_uri": "https://localhost:8080/",
          "height": 238
        },
        "id": "b-3mS0N2x_wp",
        "outputId": "4cd16362-5314-4261-8c72-99cc12b7638f"
      },
      "outputs": [
        {
          "output_type": "execute_result",
          "data": {
            "text/html": [
              "\n",
              "  <div id=\"df-fed305bb-3e52-48e9-a474-5798af9fadab\">\n",
              "    <div class=\"colab-df-container\">\n",
              "      <div>\n",
              "<style scoped>\n",
              "    .dataframe tbody tr th:only-of-type {\n",
              "        vertical-align: middle;\n",
              "    }\n",
              "\n",
              "    .dataframe tbody tr th {\n",
              "        vertical-align: top;\n",
              "    }\n",
              "\n",
              "    .dataframe thead th {\n",
              "        text-align: right;\n",
              "    }\n",
              "</style>\n",
              "<table border=\"1\" class=\"dataframe\">\n",
              "  <thead>\n",
              "    <tr style=\"text-align: right;\">\n",
              "      <th></th>\n",
              "      <th>SRGLOAVG1H</th>\n",
              "      <th>TAMAX1H</th>\n",
              "      <th>TAMIN1H</th>\n",
              "      <th>WS1HX</th>\n",
              "      <th>WS1HA</th>\n",
              "      <th>RHMIN1H</th>\n",
              "      <th>RHMAX1H</th>\n",
              "    </tr>\n",
              "    <tr>\n",
              "      <th>Local_Time</th>\n",
              "      <th></th>\n",
              "      <th></th>\n",
              "      <th></th>\n",
              "      <th></th>\n",
              "      <th></th>\n",
              "      <th></th>\n",
              "      <th></th>\n",
              "    </tr>\n",
              "  </thead>\n",
              "  <tbody>\n",
              "    <tr>\n",
              "      <th>2016-08-08 08:00:00</th>\n",
              "      <td>136.0</td>\n",
              "      <td>12.2</td>\n",
              "      <td>10.8</td>\n",
              "      <td>6.2</td>\n",
              "      <td>3.2</td>\n",
              "      <td>89.0</td>\n",
              "      <td>95.0</td>\n",
              "    </tr>\n",
              "    <tr>\n",
              "      <th>2016-08-08 09:00:00</th>\n",
              "      <td>337.0</td>\n",
              "      <td>15.2</td>\n",
              "      <td>12.3</td>\n",
              "      <td>7.8</td>\n",
              "      <td>3.4</td>\n",
              "      <td>73.0</td>\n",
              "      <td>90.0</td>\n",
              "    </tr>\n",
              "    <tr>\n",
              "      <th>2016-08-08 10:00:00</th>\n",
              "      <td>303.0</td>\n",
              "      <td>15.1</td>\n",
              "      <td>13.6</td>\n",
              "      <td>10.1</td>\n",
              "      <td>4.2</td>\n",
              "      <td>70.0</td>\n",
              "      <td>81.0</td>\n",
              "    </tr>\n",
              "    <tr>\n",
              "      <th>2016-08-08 11:00:00</th>\n",
              "      <td>549.0</td>\n",
              "      <td>16.5</td>\n",
              "      <td>13.3</td>\n",
              "      <td>9.6</td>\n",
              "      <td>4.8</td>\n",
              "      <td>71.0</td>\n",
              "      <td>88.0</td>\n",
              "    </tr>\n",
              "    <tr>\n",
              "      <th>2016-08-08 12:00:00</th>\n",
              "      <td>577.0</td>\n",
              "      <td>17.6</td>\n",
              "      <td>15.8</td>\n",
              "      <td>12.8</td>\n",
              "      <td>5.5</td>\n",
              "      <td>65.0</td>\n",
              "      <td>77.0</td>\n",
              "    </tr>\n",
              "  </tbody>\n",
              "</table>\n",
              "</div>\n",
              "      <button class=\"colab-df-convert\" onclick=\"convertToInteractive('df-fed305bb-3e52-48e9-a474-5798af9fadab')\"\n",
              "              title=\"Convert this dataframe to an interactive table.\"\n",
              "              style=\"display:none;\">\n",
              "        \n",
              "  <svg xmlns=\"http://www.w3.org/2000/svg\" height=\"24px\"viewBox=\"0 0 24 24\"\n",
              "       width=\"24px\">\n",
              "    <path d=\"M0 0h24v24H0V0z\" fill=\"none\"/>\n",
              "    <path d=\"M18.56 5.44l.94 2.06.94-2.06 2.06-.94-2.06-.94-.94-2.06-.94 2.06-2.06.94zm-11 1L8.5 8.5l.94-2.06 2.06-.94-2.06-.94L8.5 2.5l-.94 2.06-2.06.94zm10 10l.94 2.06.94-2.06 2.06-.94-2.06-.94-.94-2.06-.94 2.06-2.06.94z\"/><path d=\"M17.41 7.96l-1.37-1.37c-.4-.4-.92-.59-1.43-.59-.52 0-1.04.2-1.43.59L10.3 9.45l-7.72 7.72c-.78.78-.78 2.05 0 2.83L4 21.41c.39.39.9.59 1.41.59.51 0 1.02-.2 1.41-.59l7.78-7.78 2.81-2.81c.8-.78.8-2.07 0-2.86zM5.41 20L4 18.59l7.72-7.72 1.47 1.35L5.41 20z\"/>\n",
              "  </svg>\n",
              "      </button>\n",
              "      \n",
              "  <style>\n",
              "    .colab-df-container {\n",
              "      display:flex;\n",
              "      flex-wrap:wrap;\n",
              "      gap: 12px;\n",
              "    }\n",
              "\n",
              "    .colab-df-convert {\n",
              "      background-color: #E8F0FE;\n",
              "      border: none;\n",
              "      border-radius: 50%;\n",
              "      cursor: pointer;\n",
              "      display: none;\n",
              "      fill: #1967D2;\n",
              "      height: 32px;\n",
              "      padding: 0 0 0 0;\n",
              "      width: 32px;\n",
              "    }\n",
              "\n",
              "    .colab-df-convert:hover {\n",
              "      background-color: #E2EBFA;\n",
              "      box-shadow: 0px 1px 2px rgba(60, 64, 67, 0.3), 0px 1px 3px 1px rgba(60, 64, 67, 0.15);\n",
              "      fill: #174EA6;\n",
              "    }\n",
              "\n",
              "    [theme=dark] .colab-df-convert {\n",
              "      background-color: #3B4455;\n",
              "      fill: #D2E3FC;\n",
              "    }\n",
              "\n",
              "    [theme=dark] .colab-df-convert:hover {\n",
              "      background-color: #434B5C;\n",
              "      box-shadow: 0px 1px 3px 1px rgba(0, 0, 0, 0.15);\n",
              "      filter: drop-shadow(0px 1px 2px rgba(0, 0, 0, 0.3));\n",
              "      fill: #FFFFFF;\n",
              "    }\n",
              "  </style>\n",
              "\n",
              "      <script>\n",
              "        const buttonEl =\n",
              "          document.querySelector('#df-fed305bb-3e52-48e9-a474-5798af9fadab button.colab-df-convert');\n",
              "        buttonEl.style.display =\n",
              "          google.colab.kernel.accessAllowed ? 'block' : 'none';\n",
              "\n",
              "        async function convertToInteractive(key) {\n",
              "          const element = document.querySelector('#df-fed305bb-3e52-48e9-a474-5798af9fadab');\n",
              "          const dataTable =\n",
              "            await google.colab.kernel.invokeFunction('convertToInteractive',\n",
              "                                                     [key], {});\n",
              "          if (!dataTable) return;\n",
              "\n",
              "          const docLinkHtml = 'Like what you see? Visit the ' +\n",
              "            '<a target=\"_blank\" href=https://colab.research.google.com/notebooks/data_table.ipynb>data table notebook</a>'\n",
              "            + ' to learn more about interactive tables.';\n",
              "          element.innerHTML = '';\n",
              "          dataTable['output_type'] = 'display_data';\n",
              "          await google.colab.output.renderOutput(dataTable, element);\n",
              "          const docLink = document.createElement('div');\n",
              "          docLink.innerHTML = docLinkHtml;\n",
              "          element.appendChild(docLink);\n",
              "        }\n",
              "      </script>\n",
              "    </div>\n",
              "  </div>\n",
              "  "
            ],
            "text/plain": [
              "                     SRGLOAVG1H  TAMAX1H  TAMIN1H  ...  WS1HA  RHMIN1H  RHMAX1H\n",
              "Local_Time                                         ...                         \n",
              "2016-08-08 08:00:00       136.0     12.2     10.8  ...    3.2     89.0     95.0\n",
              "2016-08-08 09:00:00       337.0     15.2     12.3  ...    3.4     73.0     90.0\n",
              "2016-08-08 10:00:00       303.0     15.1     13.6  ...    4.2     70.0     81.0\n",
              "2016-08-08 11:00:00       549.0     16.5     13.3  ...    4.8     71.0     88.0\n",
              "2016-08-08 12:00:00       577.0     17.6     15.8  ...    5.5     65.0     77.0\n",
              "\n",
              "[5 rows x 7 columns]"
            ]
          },
          "metadata": {},
          "execution_count": 9
        }
      ],
      "source": [
        "df_test.head()"
      ]
    },
    {
      "cell_type": "markdown",
      "metadata": {
        "id": "EChV4_hj13lz"
      },
      "source": [
        "Se toma la serie de tiempo de la radiación solar global."
      ]
    },
    {
      "cell_type": "code",
      "execution_count": null,
      "metadata": {
        "id": "jgibMqgN1b_1"
      },
      "outputs": [],
      "source": [
        "RSG = df['SRGLOAVG1H'].values"
      ]
    },
    {
      "cell_type": "code",
      "execution_count": null,
      "metadata": {
        "id": "TGo-pRv_1smA"
      },
      "outputs": [],
      "source": [
        "RSG = np.reshape(RSG,(-1,1))"
      ]
    },
    {
      "cell_type": "code",
      "execution_count": null,
      "metadata": {
        "colab": {
          "base_uri": "https://localhost:8080/"
        },
        "id": "q9ZpQ_qUv_WA",
        "outputId": "37a0341d-a916-4df3-ba9e-1005ff07eb61"
      },
      "outputs": [
        {
          "output_type": "execute_result",
          "data": {
            "text/plain": [
              "array([[107.],\n",
              "       [394.],\n",
              "       [728.],\n",
              "       [428.],\n",
              "       [403.]])"
            ]
          },
          "metadata": {},
          "execution_count": 12
        }
      ],
      "source": [
        "RSG[:5]"
      ]
    },
    {
      "cell_type": "code",
      "execution_count": null,
      "metadata": {
        "id": "8l1KjtClvV3w"
      },
      "outputs": [],
      "source": [
        "RSG_test = df_test['SRGLOAVG1H'].values\n",
        "RSG_test = np.reshape(RSG_test,(-1,1))"
      ]
    },
    {
      "cell_type": "code",
      "execution_count": null,
      "metadata": {
        "id": "sneX2gj_roTL"
      },
      "outputs": [],
      "source": [
        "from sklearn.preprocessing import MinMaxScaler"
      ]
    },
    {
      "cell_type": "code",
      "execution_count": null,
      "metadata": {
        "id": "RUfDEFCor27x"
      },
      "outputs": [],
      "source": [
        "scaler = MinMaxScaler()"
      ]
    },
    {
      "cell_type": "code",
      "execution_count": null,
      "metadata": {
        "colab": {
          "base_uri": "https://localhost:8080/"
        },
        "id": "ll-DeCkor4iR",
        "outputId": "d8aab987-50a3-44c5-d598-ca95e51b533f"
      },
      "outputs": [
        {
          "output_type": "execute_result",
          "data": {
            "text/plain": [
              "MinMaxScaler()"
            ]
          },
          "metadata": {},
          "execution_count": 16
        }
      ],
      "source": [
        "scaler.fit(RSG)"
      ]
    },
    {
      "cell_type": "code",
      "execution_count": null,
      "metadata": {
        "id": "BFQ9y3_WsALR"
      },
      "outputs": [],
      "source": [
        "scaled_train = scaler.transform(RSG)\n",
        "scaled_test = scaler.transform(RSG_test)"
      ]
    },
    {
      "cell_type": "code",
      "execution_count": null,
      "metadata": {
        "colab": {
          "base_uri": "https://localhost:8080/"
        },
        "id": "JqIAwA2WsFyN",
        "outputId": "a633b9a1-e9d5-436b-9958-35f251379621"
      },
      "outputs": [
        {
          "output_type": "execute_result",
          "data": {
            "text/plain": [
              "array([0.08036454])"
            ]
          },
          "metadata": {},
          "execution_count": 18
        }
      ],
      "source": [
        "scaled_train[0]"
      ]
    },
    {
      "cell_type": "code",
      "execution_count": null,
      "metadata": {
        "id": "lb91maEPs5Co"
      },
      "outputs": [],
      "source": [
        "from keras.preprocessing.sequence import TimeseriesGenerator"
      ]
    },
    {
      "cell_type": "markdown",
      "metadata": {
        "id": "9J9naSSG2m1t"
      },
      "source": [
        "Se definen los batches para el entrenamiento."
      ]
    },
    {
      "cell_type": "code",
      "execution_count": null,
      "metadata": {
        "id": "8ISPAPxa2dzQ"
      },
      "outputs": [],
      "source": [
        "n_input = 12 # horas hacia atrás\n",
        "n_features = 0 # variables exógenas\n",
        "generator = TimeseriesGenerator(scaled_train, scaled_train, length=n_input, batch_size=1)"
      ]
    },
    {
      "cell_type": "code",
      "execution_count": null,
      "metadata": {
        "id": "6TKbRhvupoFc"
      },
      "outputs": [],
      "source": [
        "X,y = generator[0]"
      ]
    },
    {
      "cell_type": "code",
      "execution_count": null,
      "metadata": {
        "colab": {
          "base_uri": "https://localhost:8080/"
        },
        "id": "4TJAmlXFpxlE",
        "outputId": "41596d4c-b38a-4868-bb86-d5e5923cd5f2"
      },
      "outputs": [
        {
          "name": "stdout",
          "output_type": "stream",
          "text": [
            "Datos: \n",
            "[0.08036454 0.31814416 0.5948633  0.34631317 0.32560066 0.57912179\n",
            " 0.32062966 0.48384424 0.24689312 0.10439105 0.07207954 0.08947804]\n",
            "Predicción: \n",
            " [[0.17978459]]\n"
          ]
        }
      ],
      "source": [
        "print(f'Datos: \\n{X.flatten()}')\n",
        "print(f'Predicción: \\n {y}')"
      ]
    },
    {
      "cell_type": "markdown",
      "metadata": {
        "id": "mORpHnYKp4Cp"
      },
      "source": [
        "## Creación del modelo"
      ]
    },
    {
      "cell_type": "code",
      "execution_count": null,
      "metadata": {
        "id": "RuWf_NwbpzPM"
      },
      "outputs": [],
      "source": [
        "from tensorflow import keras\n",
        "from keras.models import Sequential\n",
        "from keras.layers import Dense\n",
        "from keras.layers import LSTM"
      ]
    },
    {
      "cell_type": "code",
      "execution_count": null,
      "metadata": {
        "id": "bNvFyQL-p5u4"
      },
      "outputs": [],
      "source": [
        "# define model\n",
        "model = Sequential()\n",
        "model.add(LSTM(100, activation='relu', input_shape=(n_input, n_features+1)))\n",
        "model.add(Dense(1))\n",
        "model.compile(optimizer='adam', loss='mse')"
      ]
    },
    {
      "cell_type": "code",
      "execution_count": null,
      "metadata": {
        "colab": {
          "base_uri": "https://localhost:8080/"
        },
        "id": "zzx9CoFRp8wY",
        "outputId": "2addb07a-f6cb-4db8-a330-810857aaf876"
      },
      "outputs": [
        {
          "name": "stdout",
          "output_type": "stream",
          "text": [
            "Model: \"sequential\"\n",
            "_________________________________________________________________\n",
            " Layer (type)                Output Shape              Param #   \n",
            "=================================================================\n",
            " lstm (LSTM)                 (None, 100)               40800     \n",
            "                                                                 \n",
            " dense (Dense)               (None, 1)                 101       \n",
            "                                                                 \n",
            "=================================================================\n",
            "Total params: 40,901\n",
            "Trainable params: 40,901\n",
            "Non-trainable params: 0\n",
            "_________________________________________________________________\n"
          ]
        }
      ],
      "source": [
        "model.summary()"
      ]
    },
    {
      "cell_type": "markdown",
      "metadata": {
        "id": "hteEtkvwowe3"
      },
      "source": [
        "Se puede observar que el error se estabiliza a partir de la séptima época"
      ]
    },
    {
      "cell_type": "code",
      "execution_count": null,
      "metadata": {
        "id": "wjuYD0JCp-Z4"
      },
      "outputs": [],
      "source": [
        "# fit model\n",
        "model.fit(generator,epochs=15)"
      ]
    },
    {
      "cell_type": "code",
      "execution_count": null,
      "metadata": {
        "colab": {
          "base_uri": "https://localhost:8080/",
          "height": 284
        },
        "id": "vOLB7VI8qC5d",
        "outputId": "10fe5561-5067-459e-f625-9eeb4d12827c"
      },
      "outputs": [
        {
          "data": {
            "text/plain": [
              "[<matplotlib.lines.Line2D at 0x7fc16bea92d0>]"
            ]
          },
          "execution_count": 28,
          "metadata": {},
          "output_type": "execute_result"
        },
        {
          "data": {
            "image/png": "[encoded data removed]",
            "text/plain": [
              "<Figure size 432x288 with 1 Axes>"
            ]
          },
          "metadata": {},
          "output_type": "display_data"
        }
      ],
      "source": [
        "loss_per_epoch = model.history.history['loss']\n",
        "plt.plot(range(len(loss_per_epoch)),loss_per_epoch)"
      ]
    },
    {
      "cell_type": "code",
      "execution_count": null,
      "metadata": {
        "colab": {
          "base_uri": "https://localhost:8080/"
        },
        "id": "NXt5N7DuqNhs",
        "outputId": "38d8ba14-f9df-422d-f4b3-2206af2f7935"
      },
      "outputs": [
        {
          "data": {
            "text/plain": [
              "(1, 12, 1)"
            ]
          },
          "execution_count": 29,
          "metadata": {},
          "output_type": "execute_result"
        }
      ],
      "source": [
        "X.shape"
      ]
    },
    {
      "cell_type": "code",
      "execution_count": null,
      "metadata": {
        "id": "ClMdrm6Qr2IQ"
      },
      "outputs": [],
      "source": [
        "# Necesitaremos las últimas 12 horas del conjunto de entrenamiento para predecir la primera hora en el conjunto de prueba\n",
        "first_eval_batch = scaled_train[-12:]"
      ]
    },
    {
      "cell_type": "code",
      "execution_count": null,
      "metadata": {
        "colab": {
          "base_uri": "https://localhost:8080/"
        },
        "id": "E9g5zigVsKV8",
        "outputId": "ea6646bc-93d1-4446-c4a1-002cca88dfd6"
      },
      "outputs": [
        {
          "data": {
            "text/plain": [
              "array([[0.35211268],\n",
              "       [0.14001657],\n",
              "       [0.06130903],\n",
              "       [0.11019056],\n",
              "       [0.21789561],\n",
              "       [0.46478873],\n",
              "       [0.49047225],\n",
              "       [0.29826015],\n",
              "       [0.29328915],\n",
              "       [0.26594863],\n",
              "       [0.26843413],\n",
              "       [0.10107705]])"
            ]
          },
          "execution_count": 31,
          "metadata": {},
          "output_type": "execute_result"
        }
      ],
      "source": [
        "first_eval_batch"
      ]
    },
    {
      "cell_type": "code",
      "execution_count": null,
      "metadata": {
        "colab": {
          "base_uri": "https://localhost:8080/"
        },
        "id": "jvhkRx3QsLlD",
        "outputId": "1993ca3f-6e3f-45b4-b4af-0ffef3d19174"
      },
      "outputs": [
        {
          "data": {
            "text/plain": [
              "(12, 1)"
            ]
          },
          "execution_count": 32,
          "metadata": {},
          "output_type": "execute_result"
        }
      ],
      "source": [
        "first_eval_batch.shape"
      ]
    },
    {
      "cell_type": "code",
      "execution_count": null,
      "metadata": {
        "id": "C-_Vh1FEsWSz"
      },
      "outputs": [],
      "source": [
        "first_eval_batch = first_eval_batch.reshape((1, n_input, n_features+1))"
      ]
    },
    {
      "cell_type": "code",
      "execution_count": null,
      "metadata": {
        "colab": {
          "base_uri": "https://localhost:8080/"
        },
        "id": "2frqSbVrsayL",
        "outputId": "7d297e94-8d2d-4f91-d3b3-bcb87a683b40"
      },
      "outputs": [
        {
          "data": {
            "text/plain": [
              "(1, 12, 1)"
            ]
          },
          "execution_count": 34,
          "metadata": {},
          "output_type": "execute_result"
        }
      ],
      "source": [
        "first_eval_batch.shape"
      ]
    },
    {
      "cell_type": "markdown",
      "metadata": {
        "id": "hfvmoJIesn1Q"
      },
      "source": [
        "Valor predicho y valor real."
      ]
    },
    {
      "cell_type": "code",
      "execution_count": null,
      "metadata": {
        "colab": {
          "base_uri": "https://localhost:8080/"
        },
        "id": "HUrFeImvscrv",
        "outputId": "95af798a-9570-45b4-8c8a-c11fb9f2530d"
      },
      "outputs": [
        {
          "data": {
            "text/plain": [
              "array([0.09088302], dtype=float32)"
            ]
          },
          "execution_count": 35,
          "metadata": {},
          "output_type": "execute_result"
        }
      ],
      "source": [
        "model.predict(first_eval_batch)[0]"
      ]
    },
    {
      "cell_type": "code",
      "execution_count": null,
      "metadata": {
        "colab": {
          "base_uri": "https://localhost:8080/"
        },
        "id": "V-eArjSKsfLf",
        "outputId": "4bd5f198-199c-435f-b60a-c1c12d039178"
      },
      "outputs": [
        {
          "data": {
            "text/plain": [
              "array([0.10439105])"
            ]
          },
          "execution_count": 36,
          "metadata": {},
          "output_type": "execute_result"
        }
      ],
      "source": [
        "scaled_test[0]"
      ]
    },
    {
      "cell_type": "markdown",
      "metadata": {
        "id": "qeH1fk3fytkw"
      },
      "source": [
        "Se obtienen predicciones para una semana"
      ]
    },
    {
      "cell_type": "code",
      "execution_count": null,
      "metadata": {
        "id": "0Ah5rwvIsk3Y"
      },
      "outputs": [],
      "source": [
        "test_predictions = []\n",
        "\n",
        "first_eval_batch = scaled_train[-n_input:]\n",
        "current_batch = first_eval_batch.reshape((1, n_input, n_features+1))\n",
        "\n",
        "for i in range(12*7):\n",
        "    \n",
        "    # obtener la predicción ([0] es para obtener solo el número en lugar de [matriz])\n",
        "    current_pred = model.predict(current_batch)[0]\n",
        "    \n",
        "    # guardar la predicción\n",
        "    test_predictions.append(current_pred) \n",
        "    \n",
        "    # actualizar el lote para incluir ahora la predicción y soltar primer valor\n",
        "    current_batch = np.append(current_batch[:,1:,:],[[current_pred]],axis=1)"
      ]
    },
    {
      "cell_type": "code",
      "execution_count": null,
      "metadata": {
        "id": "vCvlATreuInI"
      },
      "outputs": [],
      "source": [
        "true_predictions = scaler.inverse_transform(test_predictions)"
      ]
    },
    {
      "cell_type": "code",
      "execution_count": null,
      "metadata": {
        "id": "aseWp8tezgb4"
      },
      "outputs": [],
      "source": [
        "df_plot = pd.DataFrame()"
      ]
    },
    {
      "cell_type": "code",
      "execution_count": null,
      "metadata": {
        "id": "eWL6uYlQy0sc"
      },
      "outputs": [],
      "source": [
        "df_plot['RSG'] =  df_test['SRGLOAVG1H'][:12*7]"
      ]
    },
    {
      "cell_type": "code",
      "execution_count": null,
      "metadata": {
        "id": "qpMlMFZDy6b0"
      },
      "outputs": [],
      "source": [
        "df_plot['predictions'] = true_predictions"
      ]
    },
    {
      "cell_type": "code",
      "execution_count": null,
      "metadata": {
        "colab": {
          "base_uri": "https://localhost:8080/",
          "height": 500
        },
        "id": "4Xp7DKX3zFSr",
        "outputId": "f81fc459-57ce-40df-984f-1bd2228830b0"
      },
      "outputs": [
        {
          "data": {
            "text/plain": [
              "<matplotlib.axes._subplots.AxesSubplot at 0x7fc16c0b6690>"
            ]
          },
          "execution_count": 42,
          "metadata": {},
          "output_type": "execute_result"
        },
        {
          "data": {
            "image/png": "[encoded data removed]",
            "text/plain": [
              "<Figure size 864x576 with 1 Axes>"
            ]
          },
          "metadata": {},
          "output_type": "display_data"
        }
      ],
      "source": [
        "df_plot.plot(figsize=(12,8))"
      ]
    },
    {
      "cell_type": "markdown",
      "metadata": {
        "id": "BJM95Y8tl9BJ"
      },
      "source": [
        "Evaluación del modelo"
      ]
    },
    {
      "cell_type": "code",
      "execution_count": null,
      "metadata": {
        "id": "ZSPcvxJWoion"
      },
      "outputs": [],
      "source": [
        "predictions = []"
      ]
    },
    {
      "cell_type": "code",
      "execution_count": null,
      "metadata": {
        "id": "cydchUDglweN"
      },
      "outputs": [],
      "source": [
        "for i in range(12,len(df_test)):\n",
        "  model_input = scaled_test[i-12:i]\n",
        "  model_input = model_input.reshape((1, n_input, n_features+1))\n",
        "  predictions.append(model.predict(model_input)[0])"
      ]
    },
    {
      "cell_type": "code",
      "execution_count": null,
      "metadata": {
        "colab": {
          "base_uri": "https://localhost:8080/"
        },
        "id": "-X2sPc4bpvPx",
        "outputId": "bb6ab965-8574-4c2f-814f-333d084a38fe"
      },
      "outputs": [
        {
          "data": {
            "text/plain": [
              "[array([0.31834394], dtype=float32),\n",
              " array([0.37483808], dtype=float32),\n",
              " array([0.3302368], dtype=float32),\n",
              " array([0.34357017], dtype=float32),\n",
              " array([0.32537445], dtype=float32)]"
            ]
          },
          "execution_count": 45,
          "metadata": {},
          "output_type": "execute_result"
        }
      ],
      "source": [
        "predictions[:5]"
      ]
    },
    {
      "cell_type": "code",
      "execution_count": null,
      "metadata": {
        "id": "QJGvaV40qr4u"
      },
      "outputs": [],
      "source": [
        "predictions = np.ndarray.flatten(np.array(predictions))"
      ]
    },
    {
      "cell_type": "code",
      "execution_count": null,
      "metadata": {
        "colab": {
          "base_uri": "https://localhost:8080/"
        },
        "id": "oLjzI23SqBt_",
        "outputId": "c5f0644f-fb4a-45c8-d2bf-34c2012fcad5"
      },
      "outputs": [
        {
          "data": {
            "text/plain": [
              "1448"
            ]
          },
          "execution_count": 47,
          "metadata": {},
          "output_type": "execute_result"
        }
      ],
      "source": [
        "len(predictions)"
      ]
    },
    {
      "cell_type": "code",
      "execution_count": null,
      "metadata": {
        "colab": {
          "base_uri": "https://localhost:8080/"
        },
        "id": "V1Fbkn_BqHKn",
        "outputId": "715bcb45-ca97-462e-990a-59cb77df084c"
      },
      "outputs": [
        {
          "data": {
            "text/plain": [
              "1460"
            ]
          },
          "execution_count": 48,
          "metadata": {},
          "output_type": "execute_result"
        }
      ],
      "source": [
        "len(df_test)"
      ]
    },
    {
      "cell_type": "code",
      "execution_count": null,
      "metadata": {
        "id": "S_qUn8GTooEk"
      },
      "outputs": [],
      "source": [
        "predictions = predictions.reshape(-1,1)"
      ]
    },
    {
      "cell_type": "code",
      "execution_count": null,
      "metadata": {
        "id": "YBSHxkiLqN1-"
      },
      "outputs": [],
      "source": [
        "true_predictions = scaler.inverse_transform(predictions)"
      ]
    },
    {
      "cell_type": "code",
      "execution_count": null,
      "metadata": {
        "colab": {
          "base_uri": "https://localhost:8080/"
        },
        "id": "fcJlZWrVqTXj",
        "outputId": "b08fbe3f-f4d5-4341-8920-78e9848ee88e"
      },
      "outputs": [
        {
          "data": {
            "text/plain": [
              "array([[394.24115],\n",
              "       [462.4296 ],\n",
              "       [408.59583],\n",
              "       [424.6892 ],\n",
              "       [402.727  ]], dtype=float32)"
            ]
          },
          "execution_count": 52,
          "metadata": {},
          "output_type": "execute_result"
        }
      ],
      "source": [
        "true_predictions[:5]"
      ]
    },
    {
      "cell_type": "code",
      "execution_count": null,
      "metadata": {
        "id": "NJCaF9sSqVjQ"
      },
      "outputs": [],
      "source": [
        "true_values = np.ndarray.flatten(df_test.iloc[12:]['SRGLOAVG1H'].values)"
      ]
    },
    {
      "cell_type": "code",
      "execution_count": null,
      "metadata": {
        "colab": {
          "base_uri": "https://localhost:8080/"
        },
        "id": "FQi4bQ9eqapf",
        "outputId": "1b2867dc-f01f-403e-f569-c750d7d55931"
      },
      "outputs": [
        {
          "data": {
            "text/plain": [
              "1448"
            ]
          },
          "execution_count": 54,
          "metadata": {},
          "output_type": "execute_result"
        }
      ],
      "source": [
        "len(true_values)"
      ]
    },
    {
      "cell_type": "code",
      "execution_count": null,
      "metadata": {
        "colab": {
          "base_uri": "https://localhost:8080/"
        },
        "id": "UHkNm_fsq0Xu",
        "outputId": "c55b4453-5d99-4fa1-916e-b38f966d1f11"
      },
      "outputs": [
        {
          "data": {
            "text/plain": [
              "27025.09416820293"
            ]
          },
          "execution_count": 55,
          "metadata": {},
          "output_type": "execute_result"
        }
      ],
      "source": [
        "mean_squared_error(true_values,true_predictions)"
      ]
    },
    {
      "cell_type": "markdown",
      "metadata": {
        "id": "apIPVpqhrKTv"
      },
      "source": [
        "Este modelo es mejor que AR."
      ]
    },
    {
      "cell_type": "code",
      "execution_count": null,
      "metadata": {
        "colab": {
          "base_uri": "https://localhost:8080/"
        },
        "id": "N-JHhZrhq62r",
        "outputId": "d61cae03-2d80-42d0-cb83-1875b85d6a4e"
      },
      "outputs": [
        {
          "data": {
            "text/plain": [
              "27025.09416820293"
            ]
          },
          "execution_count": 57,
          "metadata": {},
          "output_type": "execute_result"
        }
      ],
      "source": [
        "errorAR = 28497.249708788895\n",
        "errorLSTM = 27025.09416820293\n",
        "min(errorAR, errorLSTM)"
      ]
    },
    {
      "cell_type": "code",
      "execution_count": null,
      "metadata": {
        "colab": {
          "base_uri": "https://localhost:8080/"
        },
        "id": "5MpjyVgZoz9F",
        "outputId": "846ccd60-c507-41d9-c862-0abad35a4863"
      },
      "outputs": [
        {
          "data": {
            "text/plain": [
              "164.39310863963527"
            ]
          },
          "execution_count": 58,
          "metadata": {},
          "output_type": "execute_result"
        }
      ],
      "source": [
        "27025.09416820293**(1/2)"
      ]
    },
    {
      "cell_type": "markdown",
      "metadata": {
        "id": "Gk1qJqeXjXag"
      },
      "source": [
        "## Búsqueda de los mejores parámetros para el modelo"
      ]
    },
    {
      "cell_type": "markdown",
      "metadata": {
        "id": "rurVeHrsPZUP"
      },
      "source": [
        "**Número de neuronas LSTM**"
      ]
    },
    {
      "cell_type": "code",
      "execution_count": null,
      "metadata": {
        "id": "cTxMq9J4YbBt"
      },
      "outputs": [],
      "source": [
        "def create_Model(n_input, LSTM_neurons = 100):\n",
        "  # define model\n",
        "  model = Sequential()\n",
        "  model.add(LSTM(LSTM_neurons, activation='relu', input_shape=(n_input, n_features+1)))\n",
        "  model.add(Dense(1))\n",
        "  model.compile(optimizer='adam', loss='mse')\n",
        "  return model"
      ]
    },
    {
      "cell_type": "code",
      "execution_count": null,
      "metadata": {
        "id": "brwExOGHB5YK"
      },
      "outputs": [],
      "source": [
        "resultados=[]"
      ]
    },
    {
      "cell_type": "code",
      "execution_count": null,
      "metadata": {
        "colab": {
          "base_uri": "https://localhost:8080/"
        },
        "id": "rYYQIWZKZ-gm",
        "outputId": "23ce4a51-6e80-4c8e-b661-88d7452de4a0"
      },
      "outputs": [
        {
          "name": "stdout",
          "output_type": "stream",
          "text": [
            "Retrasos: 20 Neuronas LSTM: 90 Batch size: 100\n",
            "Error MSE: 26877.559049190633\n",
            "Error MAE: 128.69858238365916\n",
            "Retrasos: 20 Neuronas LSTM: 90 Batch size: 150\n",
            "Error MSE: 26609.37996323424\n",
            "Error MAE: 126.01490384207831\n",
            "Retrasos: 20 Neuronas LSTM: 100 Batch size: 50\n",
            "Error MSE: 27251.858716563776\n",
            "Error MAE: 127.47600281503466\n",
            "Retrasos: 20 Neuronas LSTM: 100 Batch size: 100\n",
            "Error MSE: 26786.6210349321\n",
            "Error MAE: 126.57109822962019\n",
            "Retrasos: 20 Neuronas LSTM: 100 Batch size: 150\n",
            "Error MSE: 26168.647785296016\n",
            "Error MAE: 125.87532467312283\n",
            "Retrasos: 20 Neuronas LSTM: 110 Batch size: 50\n",
            "Error MSE: 27952.98730136871\n",
            "Error MAE: 130.61344849533504\n",
            "Retrasos: 20 Neuronas LSTM: 110 Batch size: 100\n",
            "Error MSE: 36496.266288627696\n",
            "Error MAE: 149.49385791102216\n",
            "Retrasos: 20 Neuronas LSTM: 110 Batch size: 150\n",
            "Error MSE: 33885.82507618015\n",
            "Error MAE: 147.01261060502793\n"
          ]
        }
      ],
      "source": [
        "for retrasos in range(20,21,2): #hasta dos días hacia el pasado\n",
        "  for num_neuronas in range(90,111,10): \n",
        "    for batch_size in range(50,151,50): \n",
        "      if(num_neuronas==90 and batch_size==50):\n",
        "        continue\n",
        "      print('Retrasos:',retrasos,'Neuronas LSTM:',num_neuronas,'Batch size:',batch_size)\n",
        "      n_input = retrasos # horas hacia atrás\n",
        "      n_features = 0 # variables exógenas\n",
        "      generator = TimeseriesGenerator(scaled_train, scaled_train, length=n_input, batch_size=1)  \n",
        "      model = create_Model(n_input,LSTM_neurons=num_neuronas)\n",
        "      model.fit(generator,epochs=7,verbose=False,batch_size=batch_size)\n",
        "      predictions = []\n",
        "      for j in range(n_input,len(df_test)):\n",
        "        model_input = scaled_test[j-n_input:j]\n",
        "        model_input = model_input.reshape((1, n_input, n_features+1))\n",
        "        predictions.append(model.predict(model_input)[0])\n",
        "      predictions = np.ndarray.flatten(np.array(predictions))  \n",
        "      true_predictions = scaler.inverse_transform(np.reshape(predictions,(-1,1)))\n",
        "      true_values = np.ndarray.flatten(df_test.iloc[n_input:]['SRGLOAVG1H'].values)\n",
        "      errorMSE = mean_squared_error(true_values,true_predictions)\n",
        "      errorMAE = mean_absolute_error(true_values,true_predictions)\n",
        "      print('Error MSE:',errorMSE)\n",
        "      print('Error MAE:',errorMAE)\n",
        "      resultados.append({\n",
        "          'Retrasos':retrasos,\n",
        "          'Neuronas LSTM':num_neuronas,\n",
        "          'Batch size':batch_size,\n",
        "          'MSE':errorMSE,\n",
        "          'MAE':errorMAE\n",
        "      })"
      ]
    },
    {
      "cell_type": "code",
      "execution_count": null,
      "metadata": {
        "id": "NeRcYz7Hm88S"
      },
      "outputs": [],
      "source": [
        "resultados_anteriores = []"
      ]
    },
    {
      "cell_type": "code",
      "execution_count": null,
      "metadata": {
        "id": "JRtesn9kr2Is"
      },
      "outputs": [],
      "source": [
        "import json"
      ]
    },
    {
      "cell_type": "code",
      "execution_count": null,
      "metadata": {
        "id": "u4eI2vaSmpDt"
      },
      "outputs": [],
      "source": [
        "with open(\"/content/resultadosv3.txt\",'r') as fp:\n",
        "    for line in fp:\n",
        "      resultados_anteriores.append(json.loads(line))"
      ]
    },
    {
      "cell_type": "code",
      "execution_count": null,
      "metadata": {
        "id": "76F_8kV0oduJ"
      },
      "outputs": [],
      "source": [
        "df_resultados_anteriores = pd.DataFrame(resultados_anteriores)"
      ]
    },
    {
      "cell_type": "code",
      "execution_count": null,
      "metadata": {
        "colab": {
          "base_uri": "https://localhost:8080/",
          "height": 206
        },
        "id": "bVwuE2eglEms",
        "outputId": "e97cb8a5-bd29-4238-df65-a18fb8c6f21e"
      },
      "outputs": [
        {
          "output_type": "execute_result",
          "data": {
            "text/html": [
              "\n",
              "  <div id=\"df-916af13d-8aa6-432e-bfe7-c1a51942d160\">\n",
              "    <div class=\"colab-df-container\">\n",
              "      <div>\n",
              "<style scoped>\n",
              "    .dataframe tbody tr th:only-of-type {\n",
              "        vertical-align: middle;\n",
              "    }\n",
              "\n",
              "    .dataframe tbody tr th {\n",
              "        vertical-align: top;\n",
              "    }\n",
              "\n",
              "    .dataframe thead th {\n",
              "        text-align: right;\n",
              "    }\n",
              "</style>\n",
              "<table border=\"1\" class=\"dataframe\">\n",
              "  <thead>\n",
              "    <tr style=\"text-align: right;\">\n",
              "      <th></th>\n",
              "      <th>Retrasos</th>\n",
              "      <th>Neuronas LSTM</th>\n",
              "      <th>LSTM Layers</th>\n",
              "      <th>Batch size</th>\n",
              "      <th>MSE</th>\n",
              "      <th>MAE</th>\n",
              "    </tr>\n",
              "  </thead>\n",
              "  <tbody>\n",
              "    <tr>\n",
              "      <th>0</th>\n",
              "      <td>22</td>\n",
              "      <td>75</td>\n",
              "      <td>3</td>\n",
              "      <td>50</td>\n",
              "      <td>190.050902</td>\n",
              "      <td>146.470509</td>\n",
              "    </tr>\n",
              "    <tr>\n",
              "      <th>1</th>\n",
              "      <td>22</td>\n",
              "      <td>75</td>\n",
              "      <td>1</td>\n",
              "      <td>100</td>\n",
              "      <td>163.295514</td>\n",
              "      <td>124.796200</td>\n",
              "    </tr>\n",
              "    <tr>\n",
              "      <th>2</th>\n",
              "      <td>22</td>\n",
              "      <td>75</td>\n",
              "      <td>2</td>\n",
              "      <td>100</td>\n",
              "      <td>163.555340</td>\n",
              "      <td>127.823501</td>\n",
              "    </tr>\n",
              "    <tr>\n",
              "      <th>3</th>\n",
              "      <td>22</td>\n",
              "      <td>75</td>\n",
              "      <td>3</td>\n",
              "      <td>100</td>\n",
              "      <td>183.151374</td>\n",
              "      <td>144.216852</td>\n",
              "    </tr>\n",
              "    <tr>\n",
              "      <th>4</th>\n",
              "      <td>22</td>\n",
              "      <td>75</td>\n",
              "      <td>1</td>\n",
              "      <td>150</td>\n",
              "      <td>165.208244</td>\n",
              "      <td>130.266097</td>\n",
              "    </tr>\n",
              "  </tbody>\n",
              "</table>\n",
              "</div>\n",
              "      <button class=\"colab-df-convert\" onclick=\"convertToInteractive('df-916af13d-8aa6-432e-bfe7-c1a51942d160')\"\n",
              "              title=\"Convert this dataframe to an interactive table.\"\n",
              "              style=\"display:none;\">\n",
              "        \n",
              "  <svg xmlns=\"http://www.w3.org/2000/svg\" height=\"24px\"viewBox=\"0 0 24 24\"\n",
              "       width=\"24px\">\n",
              "    <path d=\"M0 0h24v24H0V0z\" fill=\"none\"/>\n",
              "    <path d=\"M18.56 5.44l.94 2.06.94-2.06 2.06-.94-2.06-.94-.94-2.06-.94 2.06-2.06.94zm-11 1L8.5 8.5l.94-2.06 2.06-.94-2.06-.94L8.5 2.5l-.94 2.06-2.06.94zm10 10l.94 2.06.94-2.06 2.06-.94-2.06-.94-.94-2.06-.94 2.06-2.06.94z\"/><path d=\"M17.41 7.96l-1.37-1.37c-.4-.4-.92-.59-1.43-.59-.52 0-1.04.2-1.43.59L10.3 9.45l-7.72 7.72c-.78.78-.78 2.05 0 2.83L4 21.41c.39.39.9.59 1.41.59.51 0 1.02-.2 1.41-.59l7.78-7.78 2.81-2.81c.8-.78.8-2.07 0-2.86zM5.41 20L4 18.59l7.72-7.72 1.47 1.35L5.41 20z\"/>\n",
              "  </svg>\n",
              "      </button>\n",
              "      \n",
              "  <style>\n",
              "    .colab-df-container {\n",
              "      display:flex;\n",
              "      flex-wrap:wrap;\n",
              "      gap: 12px;\n",
              "    }\n",
              "\n",
              "    .colab-df-convert {\n",
              "      background-color: #E8F0FE;\n",
              "      border: none;\n",
              "      border-radius: 50%;\n",
              "      cursor: pointer;\n",
              "      display: none;\n",
              "      fill: #1967D2;\n",
              "      height: 32px;\n",
              "      padding: 0 0 0 0;\n",
              "      width: 32px;\n",
              "    }\n",
              "\n",
              "    .colab-df-convert:hover {\n",
              "      background-color: #E2EBFA;\n",
              "      box-shadow: 0px 1px 2px rgba(60, 64, 67, 0.3), 0px 1px 3px 1px rgba(60, 64, 67, 0.15);\n",
              "      fill: #174EA6;\n",
              "    }\n",
              "\n",
              "    [theme=dark] .colab-df-convert {\n",
              "      background-color: #3B4455;\n",
              "      fill: #D2E3FC;\n",
              "    }\n",
              "\n",
              "    [theme=dark] .colab-df-convert:hover {\n",
              "      background-color: #434B5C;\n",
              "      box-shadow: 0px 1px 3px 1px rgba(0, 0, 0, 0.15);\n",
              "      filter: drop-shadow(0px 1px 2px rgba(0, 0, 0, 0.3));\n",
              "      fill: #FFFFFF;\n",
              "    }\n",
              "  </style>\n",
              "\n",
              "      <script>\n",
              "        const buttonEl =\n",
              "          document.querySelector('#df-916af13d-8aa6-432e-bfe7-c1a51942d160 button.colab-df-convert');\n",
              "        buttonEl.style.display =\n",
              "          google.colab.kernel.accessAllowed ? 'block' : 'none';\n",
              "\n",
              "        async function convertToInteractive(key) {\n",
              "          const element = document.querySelector('#df-916af13d-8aa6-432e-bfe7-c1a51942d160');\n",
              "          const dataTable =\n",
              "            await google.colab.kernel.invokeFunction('convertToInteractive',\n",
              "                                                     [key], {});\n",
              "          if (!dataTable) return;\n",
              "\n",
              "          const docLinkHtml = 'Like what you see? Visit the ' +\n",
              "            '<a target=\"_blank\" href=https://colab.research.google.com/notebooks/data_table.ipynb>data table notebook</a>'\n",
              "            + ' to learn more about interactive tables.';\n",
              "          element.innerHTML = '';\n",
              "          dataTable['output_type'] = 'display_data';\n",
              "          await google.colab.output.renderOutput(dataTable, element);\n",
              "          const docLink = document.createElement('div');\n",
              "          docLink.innerHTML = docLinkHtml;\n",
              "          element.appendChild(docLink);\n",
              "        }\n",
              "      </script>\n",
              "    </div>\n",
              "  </div>\n",
              "  "
            ],
            "text/plain": [
              "   Retrasos  Neuronas LSTM  LSTM Layers  Batch size         MSE         MAE\n",
              "0        22             75            3          50  190.050902  146.470509\n",
              "1        22             75            1         100  163.295514  124.796200\n",
              "2        22             75            2         100  163.555340  127.823501\n",
              "3        22             75            3         100  183.151374  144.216852\n",
              "4        22             75            1         150  165.208244  130.266097"
            ]
          },
          "metadata": {},
          "execution_count": 27
        }
      ],
      "source": [
        "df_resultados_anteriores.head()"
      ]
    },
    {
      "cell_type": "code",
      "execution_count": null,
      "metadata": {
        "id": "H38JtSdAmRRK"
      },
      "outputs": [],
      "source": [
        "df_resultados.to_csv('lstm_resultados.csv',index=False)"
      ]
    },
    {
      "cell_type": "code",
      "execution_count": null,
      "metadata": {
        "id": "bqxghMcuqVfX"
      },
      "outputs": [],
      "source": [
        "df_resultados = pd.read_csv('/content/lstm_resultados.csv')"
      ]
    },
    {
      "cell_type": "code",
      "execution_count": null,
      "metadata": {
        "id": "XV2JtwnUrBbq"
      },
      "outputs": [],
      "source": [
        "df_resultados['MSE'] = df_resultados['MSE']**(1/2)"
      ]
    },
    {
      "cell_type": "code",
      "execution_count": null,
      "metadata": {
        "id": "yvNXeVy8rXig"
      },
      "outputs": [],
      "source": [
        "df_resultados = df_resultados.drop_duplicates()"
      ]
    },
    {
      "cell_type": "code",
      "execution_count": null,
      "metadata": {
        "id": "YW-zcdm8r8rZ"
      },
      "outputs": [],
      "source": [
        "df_resultados.to_csv('./drive/MyDrive/DatosInvestigacion/lstm_resultados.csv',index=False)"
      ]
    },
    {
      "cell_type": "code",
      "execution_count": null,
      "metadata": {
        "id": "hLxJnZLu5PZf"
      },
      "outputs": [],
      "source": [
        "df_resultados =pd.read_csv('./drive/MyDrive/DatosInvestigacion/lstm_resultados.csv')"
      ]
    },
    {
      "cell_type": "code",
      "execution_count": null,
      "metadata": {
        "colab": {
          "base_uri": "https://localhost:8080/"
        },
        "id": "xY-fOpaw5tMx",
        "outputId": "a1f99700-a7c7-4631-cb7c-703eb92a0b62"
      },
      "outputs": [
        {
          "data": {
            "text/plain": [
              "(27, 5)"
            ]
          },
          "execution_count": 63,
          "metadata": {},
          "output_type": "execute_result"
        }
      ],
      "source": [
        "df_resultados.shape"
      ]
    },
    {
      "cell_type": "code",
      "execution_count": null,
      "metadata": {
        "colab": {
          "base_uri": "https://localhost:8080/",
          "height": 896
        },
        "id": "Ta5NbYkD5zVu",
        "outputId": "d79a881e-0c12-4555-c1b5-654ad84e60ab"
      },
      "outputs": [
        {
          "data": {
            "text/html": [
              "\n",
              "  <div id=\"df-dea42baf-9559-4c95-99b5-a00dc2aa37c2\">\n",
              "    <div class=\"colab-df-container\">\n",
              "      <div>\n",
              "<style scoped>\n",
              "    .dataframe tbody tr th:only-of-type {\n",
              "        vertical-align: middle;\n",
              "    }\n",
              "\n",
              "    .dataframe tbody tr th {\n",
              "        vertical-align: top;\n",
              "    }\n",
              "\n",
              "    .dataframe thead th {\n",
              "        text-align: right;\n",
              "    }\n",
              "</style>\n",
              "<table border=\"1\" class=\"dataframe\">\n",
              "  <thead>\n",
              "    <tr style=\"text-align: right;\">\n",
              "      <th></th>\n",
              "      <th>Retrasos</th>\n",
              "      <th>Neuronas LSTM</th>\n",
              "      <th>Batch size</th>\n",
              "      <th>MSE</th>\n",
              "      <th>MAE</th>\n",
              "    </tr>\n",
              "  </thead>\n",
              "  <tbody>\n",
              "    <tr>\n",
              "      <th>0</th>\n",
              "      <td>16</td>\n",
              "      <td>90</td>\n",
              "      <td>50</td>\n",
              "      <td>166.741125</td>\n",
              "      <td>130.207594</td>\n",
              "    </tr>\n",
              "    <tr>\n",
              "      <th>1</th>\n",
              "      <td>16</td>\n",
              "      <td>90</td>\n",
              "      <td>100</td>\n",
              "      <td>173.786730</td>\n",
              "      <td>134.334870</td>\n",
              "    </tr>\n",
              "    <tr>\n",
              "      <th>2</th>\n",
              "      <td>16</td>\n",
              "      <td>90</td>\n",
              "      <td>150</td>\n",
              "      <td>165.495836</td>\n",
              "      <td>127.464311</td>\n",
              "    </tr>\n",
              "    <tr>\n",
              "      <th>3</th>\n",
              "      <td>16</td>\n",
              "      <td>100</td>\n",
              "      <td>50</td>\n",
              "      <td>168.657395</td>\n",
              "      <td>133.450223</td>\n",
              "    </tr>\n",
              "    <tr>\n",
              "      <th>4</th>\n",
              "      <td>16</td>\n",
              "      <td>100</td>\n",
              "      <td>100</td>\n",
              "      <td>173.091175</td>\n",
              "      <td>134.888902</td>\n",
              "    </tr>\n",
              "    <tr>\n",
              "      <th>5</th>\n",
              "      <td>16</td>\n",
              "      <td>100</td>\n",
              "      <td>150</td>\n",
              "      <td>175.717733</td>\n",
              "      <td>138.574344</td>\n",
              "    </tr>\n",
              "    <tr>\n",
              "      <th>6</th>\n",
              "      <td>16</td>\n",
              "      <td>110</td>\n",
              "      <td>50</td>\n",
              "      <td>174.902869</td>\n",
              "      <td>137.403671</td>\n",
              "    </tr>\n",
              "    <tr>\n",
              "      <th>7</th>\n",
              "      <td>16</td>\n",
              "      <td>110</td>\n",
              "      <td>100</td>\n",
              "      <td>166.728868</td>\n",
              "      <td>129.427369</td>\n",
              "    </tr>\n",
              "    <tr>\n",
              "      <th>8</th>\n",
              "      <td>16</td>\n",
              "      <td>110</td>\n",
              "      <td>150</td>\n",
              "      <td>169.915982</td>\n",
              "      <td>133.568010</td>\n",
              "    </tr>\n",
              "    <tr>\n",
              "      <th>9</th>\n",
              "      <td>18</td>\n",
              "      <td>90</td>\n",
              "      <td>50</td>\n",
              "      <td>168.000173</td>\n",
              "      <td>130.162282</td>\n",
              "    </tr>\n",
              "    <tr>\n",
              "      <th>10</th>\n",
              "      <td>18</td>\n",
              "      <td>90</td>\n",
              "      <td>100</td>\n",
              "      <td>172.801127</td>\n",
              "      <td>135.283551</td>\n",
              "    </tr>\n",
              "    <tr>\n",
              "      <th>11</th>\n",
              "      <td>18</td>\n",
              "      <td>90</td>\n",
              "      <td>150</td>\n",
              "      <td>170.457335</td>\n",
              "      <td>133.098977</td>\n",
              "    </tr>\n",
              "    <tr>\n",
              "      <th>12</th>\n",
              "      <td>18</td>\n",
              "      <td>100</td>\n",
              "      <td>50</td>\n",
              "      <td>176.102576</td>\n",
              "      <td>137.409090</td>\n",
              "    </tr>\n",
              "    <tr>\n",
              "      <th>13</th>\n",
              "      <td>18</td>\n",
              "      <td>100</td>\n",
              "      <td>100</td>\n",
              "      <td>166.011408</td>\n",
              "      <td>129.706605</td>\n",
              "    </tr>\n",
              "    <tr>\n",
              "      <th>14</th>\n",
              "      <td>18</td>\n",
              "      <td>100</td>\n",
              "      <td>150</td>\n",
              "      <td>165.363122</td>\n",
              "      <td>131.502421</td>\n",
              "    </tr>\n",
              "    <tr>\n",
              "      <th>15</th>\n",
              "      <td>18</td>\n",
              "      <td>110</td>\n",
              "      <td>50</td>\n",
              "      <td>169.451325</td>\n",
              "      <td>130.989161</td>\n",
              "    </tr>\n",
              "    <tr>\n",
              "      <th>16</th>\n",
              "      <td>18</td>\n",
              "      <td>110</td>\n",
              "      <td>100</td>\n",
              "      <td>167.438603</td>\n",
              "      <td>130.083018</td>\n",
              "    </tr>\n",
              "    <tr>\n",
              "      <th>17</th>\n",
              "      <td>18</td>\n",
              "      <td>110</td>\n",
              "      <td>150</td>\n",
              "      <td>169.776896</td>\n",
              "      <td>132.974325</td>\n",
              "    </tr>\n",
              "    <tr>\n",
              "      <th>18</th>\n",
              "      <td>20</td>\n",
              "      <td>90</td>\n",
              "      <td>50</td>\n",
              "      <td>164.358846</td>\n",
              "      <td>129.460848</td>\n",
              "    </tr>\n",
              "    <tr>\n",
              "      <th>19</th>\n",
              "      <td>20</td>\n",
              "      <td>90</td>\n",
              "      <td>100</td>\n",
              "      <td>163.943768</td>\n",
              "      <td>128.698582</td>\n",
              "    </tr>\n",
              "    <tr>\n",
              "      <th>20</th>\n",
              "      <td>20</td>\n",
              "      <td>90</td>\n",
              "      <td>150</td>\n",
              "      <td>163.123818</td>\n",
              "      <td>126.014904</td>\n",
              "    </tr>\n",
              "    <tr>\n",
              "      <th>21</th>\n",
              "      <td>20</td>\n",
              "      <td>100</td>\n",
              "      <td>50</td>\n",
              "      <td>165.081370</td>\n",
              "      <td>127.476003</td>\n",
              "    </tr>\n",
              "    <tr>\n",
              "      <th>22</th>\n",
              "      <td>20</td>\n",
              "      <td>100</td>\n",
              "      <td>100</td>\n",
              "      <td>163.666188</td>\n",
              "      <td>126.571098</td>\n",
              "    </tr>\n",
              "    <tr>\n",
              "      <th>23</th>\n",
              "      <td>20</td>\n",
              "      <td>100</td>\n",
              "      <td>150</td>\n",
              "      <td>161.767264</td>\n",
              "      <td>125.875325</td>\n",
              "    </tr>\n",
              "    <tr>\n",
              "      <th>24</th>\n",
              "      <td>20</td>\n",
              "      <td>110</td>\n",
              "      <td>50</td>\n",
              "      <td>167.191469</td>\n",
              "      <td>130.613448</td>\n",
              "    </tr>\n",
              "    <tr>\n",
              "      <th>25</th>\n",
              "      <td>20</td>\n",
              "      <td>110</td>\n",
              "      <td>100</td>\n",
              "      <td>191.039960</td>\n",
              "      <td>149.493858</td>\n",
              "    </tr>\n",
              "    <tr>\n",
              "      <th>26</th>\n",
              "      <td>20</td>\n",
              "      <td>110</td>\n",
              "      <td>150</td>\n",
              "      <td>184.081029</td>\n",
              "      <td>147.012611</td>\n",
              "    </tr>\n",
              "  </tbody>\n",
              "</table>\n",
              "</div>\n",
              "      <button class=\"colab-df-convert\" onclick=\"convertToInteractive('df-dea42baf-9559-4c95-99b5-a00dc2aa37c2')\"\n",
              "              title=\"Convert this dataframe to an interactive table.\"\n",
              "              style=\"display:none;\">\n",
              "        \n",
              "  <svg xmlns=\"http://www.w3.org/2000/svg\" height=\"24px\"viewBox=\"0 0 24 24\"\n",
              "       width=\"24px\">\n",
              "    <path d=\"M0 0h24v24H0V0z\" fill=\"none\"/>\n",
              "    <path d=\"M18.56 5.44l.94 2.06.94-2.06 2.06-.94-2.06-.94-.94-2.06-.94 2.06-2.06.94zm-11 1L8.5 8.5l.94-2.06 2.06-.94-2.06-.94L8.5 2.5l-.94 2.06-2.06.94zm10 10l.94 2.06.94-2.06 2.06-.94-2.06-.94-.94-2.06-.94 2.06-2.06.94z\"/><path d=\"M17.41 7.96l-1.37-1.37c-.4-.4-.92-.59-1.43-.59-.52 0-1.04.2-1.43.59L10.3 9.45l-7.72 7.72c-.78.78-.78 2.05 0 2.83L4 21.41c.39.39.9.59 1.41.59.51 0 1.02-.2 1.41-.59l7.78-7.78 2.81-2.81c.8-.78.8-2.07 0-2.86zM5.41 20L4 18.59l7.72-7.72 1.47 1.35L5.41 20z\"/>\n",
              "  </svg>\n",
              "      </button>\n",
              "      \n",
              "  <style>\n",
              "    .colab-df-container {\n",
              "      display:flex;\n",
              "      flex-wrap:wrap;\n",
              "      gap: 12px;\n",
              "    }\n",
              "\n",
              "    .colab-df-convert {\n",
              "      background-color: #E8F0FE;\n",
              "      border: none;\n",
              "      border-radius: 50%;\n",
              "      cursor: pointer;\n",
              "      display: none;\n",
              "      fill: #1967D2;\n",
              "      height: 32px;\n",
              "      padding: 0 0 0 0;\n",
              "      width: 32px;\n",
              "    }\n",
              "\n",
              "    .colab-df-convert:hover {\n",
              "      background-color: #E2EBFA;\n",
              "      box-shadow: 0px 1px 2px rgba(60, 64, 67, 0.3), 0px 1px 3px 1px rgba(60, 64, 67, 0.15);\n",
              "      fill: #174EA6;\n",
              "    }\n",
              "\n",
              "    [theme=dark] .colab-df-convert {\n",
              "      background-color: #3B4455;\n",
              "      fill: #D2E3FC;\n",
              "    }\n",
              "\n",
              "    [theme=dark] .colab-df-convert:hover {\n",
              "      background-color: #434B5C;\n",
              "      box-shadow: 0px 1px 3px 1px rgba(0, 0, 0, 0.15);\n",
              "      filter: drop-shadow(0px 1px 2px rgba(0, 0, 0, 0.3));\n",
              "      fill: #FFFFFF;\n",
              "    }\n",
              "  </style>\n",
              "\n",
              "      <script>\n",
              "        const buttonEl =\n",
              "          document.querySelector('#df-dea42baf-9559-4c95-99b5-a00dc2aa37c2 button.colab-df-convert');\n",
              "        buttonEl.style.display =\n",
              "          google.colab.kernel.accessAllowed ? 'block' : 'none';\n",
              "\n",
              "        async function convertToInteractive(key) {\n",
              "          const element = document.querySelector('#df-dea42baf-9559-4c95-99b5-a00dc2aa37c2');\n",
              "          const dataTable =\n",
              "            await google.colab.kernel.invokeFunction('convertToInteractive',\n",
              "                                                     [key], {});\n",
              "          if (!dataTable) return;\n",
              "\n",
              "          const docLinkHtml = 'Like what you see? Visit the ' +\n",
              "            '<a target=\"_blank\" href=https://colab.research.google.com/notebooks/data_table.ipynb>data table notebook</a>'\n",
              "            + ' to learn more about interactive tables.';\n",
              "          element.innerHTML = '';\n",
              "          dataTable['output_type'] = 'display_data';\n",
              "          await google.colab.output.renderOutput(dataTable, element);\n",
              "          const docLink = document.createElement('div');\n",
              "          docLink.innerHTML = docLinkHtml;\n",
              "          element.appendChild(docLink);\n",
              "        }\n",
              "      </script>\n",
              "    </div>\n",
              "  </div>\n",
              "  "
            ],
            "text/plain": [
              "    Retrasos  Neuronas LSTM  Batch size         MSE         MAE\n",
              "0         16             90          50  166.741125  130.207594\n",
              "1         16             90         100  173.786730  134.334870\n",
              "2         16             90         150  165.495836  127.464311\n",
              "3         16            100          50  168.657395  133.450223\n",
              "4         16            100         100  173.091175  134.888902\n",
              "5         16            100         150  175.717733  138.574344\n",
              "6         16            110          50  174.902869  137.403671\n",
              "7         16            110         100  166.728868  129.427369\n",
              "8         16            110         150  169.915982  133.568010\n",
              "9         18             90          50  168.000173  130.162282\n",
              "10        18             90         100  172.801127  135.283551\n",
              "11        18             90         150  170.457335  133.098977\n",
              "12        18            100          50  176.102576  137.409090\n",
              "13        18            100         100  166.011408  129.706605\n",
              "14        18            100         150  165.363122  131.502421\n",
              "15        18            110          50  169.451325  130.989161\n",
              "16        18            110         100  167.438603  130.083018\n",
              "17        18            110         150  169.776896  132.974325\n",
              "18        20             90          50  164.358846  129.460848\n",
              "19        20             90         100  163.943768  128.698582\n",
              "20        20             90         150  163.123818  126.014904\n",
              "21        20            100          50  165.081370  127.476003\n",
              "22        20            100         100  163.666188  126.571098\n",
              "23        20            100         150  161.767264  125.875325\n",
              "24        20            110          50  167.191469  130.613448\n",
              "25        20            110         100  191.039960  149.493858\n",
              "26        20            110         150  184.081029  147.012611"
            ]
          },
          "execution_count": 64,
          "metadata": {},
          "output_type": "execute_result"
        }
      ],
      "source": [
        "df_resultados"
      ]
    },
    {
      "cell_type": "markdown",
      "metadata": {
        "id": "iaEOnEPUDvWy"
      },
      "source": [
        "El mejor modelo es"
      ]
    },
    {
      "cell_type": "code",
      "execution_count": null,
      "metadata": {
        "colab": {
          "base_uri": "https://localhost:8080/",
          "height": 81
        },
        "id": "s_JUlp32sMUf",
        "outputId": "0aa4ace2-4766-4454-9ee9-2591893ba51f"
      },
      "outputs": [
        {
          "data": {
            "text/html": [
              "\n",
              "  <div id=\"df-344b1977-976b-48d2-b390-76d4e9050254\">\n",
              "    <div class=\"colab-df-container\">\n",
              "      <div>\n",
              "<style scoped>\n",
              "    .dataframe tbody tr th:only-of-type {\n",
              "        vertical-align: middle;\n",
              "    }\n",
              "\n",
              "    .dataframe tbody tr th {\n",
              "        vertical-align: top;\n",
              "    }\n",
              "\n",
              "    .dataframe thead th {\n",
              "        text-align: right;\n",
              "    }\n",
              "</style>\n",
              "<table border=\"1\" class=\"dataframe\">\n",
              "  <thead>\n",
              "    <tr style=\"text-align: right;\">\n",
              "      <th></th>\n",
              "      <th>Retrasos</th>\n",
              "      <th>Neuronas LSTM</th>\n",
              "      <th>Batch size</th>\n",
              "      <th>MSE</th>\n",
              "      <th>MAE</th>\n",
              "    </tr>\n",
              "  </thead>\n",
              "  <tbody>\n",
              "    <tr>\n",
              "      <th>24</th>\n",
              "      <td>20</td>\n",
              "      <td>100</td>\n",
              "      <td>150</td>\n",
              "      <td>161.767264</td>\n",
              "      <td>125.875325</td>\n",
              "    </tr>\n",
              "  </tbody>\n",
              "</table>\n",
              "</div>\n",
              "      <button class=\"colab-df-convert\" onclick=\"convertToInteractive('df-344b1977-976b-48d2-b390-76d4e9050254')\"\n",
              "              title=\"Convert this dataframe to an interactive table.\"\n",
              "              style=\"display:none;\">\n",
              "        \n",
              "  <svg xmlns=\"http://www.w3.org/2000/svg\" height=\"24px\"viewBox=\"0 0 24 24\"\n",
              "       width=\"24px\">\n",
              "    <path d=\"M0 0h24v24H0V0z\" fill=\"none\"/>\n",
              "    <path d=\"M18.56 5.44l.94 2.06.94-2.06 2.06-.94-2.06-.94-.94-2.06-.94 2.06-2.06.94zm-11 1L8.5 8.5l.94-2.06 2.06-.94-2.06-.94L8.5 2.5l-.94 2.06-2.06.94zm10 10l.94 2.06.94-2.06 2.06-.94-2.06-.94-.94-2.06-.94 2.06-2.06.94z\"/><path d=\"M17.41 7.96l-1.37-1.37c-.4-.4-.92-.59-1.43-.59-.52 0-1.04.2-1.43.59L10.3 9.45l-7.72 7.72c-.78.78-.78 2.05 0 2.83L4 21.41c.39.39.9.59 1.41.59.51 0 1.02-.2 1.41-.59l7.78-7.78 2.81-2.81c.8-.78.8-2.07 0-2.86zM5.41 20L4 18.59l7.72-7.72 1.47 1.35L5.41 20z\"/>\n",
              "  </svg>\n",
              "      </button>\n",
              "      \n",
              "  <style>\n",
              "    .colab-df-container {\n",
              "      display:flex;\n",
              "      flex-wrap:wrap;\n",
              "      gap: 12px;\n",
              "    }\n",
              "\n",
              "    .colab-df-convert {\n",
              "      background-color: #E8F0FE;\n",
              "      border: none;\n",
              "      border-radius: 50%;\n",
              "      cursor: pointer;\n",
              "      display: none;\n",
              "      fill: #1967D2;\n",
              "      height: 32px;\n",
              "      padding: 0 0 0 0;\n",
              "      width: 32px;\n",
              "    }\n",
              "\n",
              "    .colab-df-convert:hover {\n",
              "      background-color: #E2EBFA;\n",
              "      box-shadow: 0px 1px 2px rgba(60, 64, 67, 0.3), 0px 1px 3px 1px rgba(60, 64, 67, 0.15);\n",
              "      fill: #174EA6;\n",
              "    }\n",
              "\n",
              "    [theme=dark] .colab-df-convert {\n",
              "      background-color: #3B4455;\n",
              "      fill: #D2E3FC;\n",
              "    }\n",
              "\n",
              "    [theme=dark] .colab-df-convert:hover {\n",
              "      background-color: #434B5C;\n",
              "      box-shadow: 0px 1px 3px 1px rgba(0, 0, 0, 0.15);\n",
              "      filter: drop-shadow(0px 1px 2px rgba(0, 0, 0, 0.3));\n",
              "      fill: #FFFFFF;\n",
              "    }\n",
              "  </style>\n",
              "\n",
              "      <script>\n",
              "        const buttonEl =\n",
              "          document.querySelector('#df-344b1977-976b-48d2-b390-76d4e9050254 button.colab-df-convert');\n",
              "        buttonEl.style.display =\n",
              "          google.colab.kernel.accessAllowed ? 'block' : 'none';\n",
              "\n",
              "        async function convertToInteractive(key) {\n",
              "          const element = document.querySelector('#df-344b1977-976b-48d2-b390-76d4e9050254');\n",
              "          const dataTable =\n",
              "            await google.colab.kernel.invokeFunction('convertToInteractive',\n",
              "                                                     [key], {});\n",
              "          if (!dataTable) return;\n",
              "\n",
              "          const docLinkHtml = 'Like what you see? Visit the ' +\n",
              "            '<a target=\"_blank\" href=https://colab.research.google.com/notebooks/data_table.ipynb>data table notebook</a>'\n",
              "            + ' to learn more about interactive tables.';\n",
              "          element.innerHTML = '';\n",
              "          dataTable['output_type'] = 'display_data';\n",
              "          await google.colab.output.renderOutput(dataTable, element);\n",
              "          const docLink = document.createElement('div');\n",
              "          docLink.innerHTML = docLinkHtml;\n",
              "          element.appendChild(docLink);\n",
              "        }\n",
              "      </script>\n",
              "    </div>\n",
              "  </div>\n",
              "  "
            ],
            "text/plain": [
              "    Retrasos  Neuronas LSTM  Batch size         MSE         MAE\n",
              "24        20            100         150  161.767264  125.875325"
            ]
          },
          "execution_count": 80,
          "metadata": {},
          "output_type": "execute_result"
        }
      ],
      "source": [
        "df_resultados[df_resultados['MSE'] == df_resultados['MSE'].min()]"
      ]
    },
    {
      "cell_type": "code",
      "execution_count": null,
      "metadata": {
        "colab": {
          "base_uri": "https://localhost:8080/",
          "height": 81
        },
        "id": "8hWi2PIysZPY",
        "outputId": "1a5e6805-f172-4ab0-c264-5f47cd230776"
      },
      "outputs": [
        {
          "data": {
            "text/html": [
              "\n",
              "  <div id=\"df-e3d64251-5e38-41f1-a537-01582335f8d8\">\n",
              "    <div class=\"colab-df-container\">\n",
              "      <div>\n",
              "<style scoped>\n",
              "    .dataframe tbody tr th:only-of-type {\n",
              "        vertical-align: middle;\n",
              "    }\n",
              "\n",
              "    .dataframe tbody tr th {\n",
              "        vertical-align: top;\n",
              "    }\n",
              "\n",
              "    .dataframe thead th {\n",
              "        text-align: right;\n",
              "    }\n",
              "</style>\n",
              "<table border=\"1\" class=\"dataframe\">\n",
              "  <thead>\n",
              "    <tr style=\"text-align: right;\">\n",
              "      <th></th>\n",
              "      <th>Retrasos</th>\n",
              "      <th>Neuronas LSTM</th>\n",
              "      <th>Batch size</th>\n",
              "      <th>MSE</th>\n",
              "      <th>MAE</th>\n",
              "    </tr>\n",
              "  </thead>\n",
              "  <tbody>\n",
              "    <tr>\n",
              "      <th>24</th>\n",
              "      <td>20</td>\n",
              "      <td>100</td>\n",
              "      <td>150</td>\n",
              "      <td>161.767264</td>\n",
              "      <td>125.875325</td>\n",
              "    </tr>\n",
              "  </tbody>\n",
              "</table>\n",
              "</div>\n",
              "      <button class=\"colab-df-convert\" onclick=\"convertToInteractive('df-e3d64251-5e38-41f1-a537-01582335f8d8')\"\n",
              "              title=\"Convert this dataframe to an interactive table.\"\n",
              "              style=\"display:none;\">\n",
              "        \n",
              "  <svg xmlns=\"http://www.w3.org/2000/svg\" height=\"24px\"viewBox=\"0 0 24 24\"\n",
              "       width=\"24px\">\n",
              "    <path d=\"M0 0h24v24H0V0z\" fill=\"none\"/>\n",
              "    <path d=\"M18.56 5.44l.94 2.06.94-2.06 2.06-.94-2.06-.94-.94-2.06-.94 2.06-2.06.94zm-11 1L8.5 8.5l.94-2.06 2.06-.94-2.06-.94L8.5 2.5l-.94 2.06-2.06.94zm10 10l.94 2.06.94-2.06 2.06-.94-2.06-.94-.94-2.06-.94 2.06-2.06.94z\"/><path d=\"M17.41 7.96l-1.37-1.37c-.4-.4-.92-.59-1.43-.59-.52 0-1.04.2-1.43.59L10.3 9.45l-7.72 7.72c-.78.78-.78 2.05 0 2.83L4 21.41c.39.39.9.59 1.41.59.51 0 1.02-.2 1.41-.59l7.78-7.78 2.81-2.81c.8-.78.8-2.07 0-2.86zM5.41 20L4 18.59l7.72-7.72 1.47 1.35L5.41 20z\"/>\n",
              "  </svg>\n",
              "      </button>\n",
              "      \n",
              "  <style>\n",
              "    .colab-df-container {\n",
              "      display:flex;\n",
              "      flex-wrap:wrap;\n",
              "      gap: 12px;\n",
              "    }\n",
              "\n",
              "    .colab-df-convert {\n",
              "      background-color: #E8F0FE;\n",
              "      border: none;\n",
              "      border-radius: 50%;\n",
              "      cursor: pointer;\n",
              "      display: none;\n",
              "      fill: #1967D2;\n",
              "      height: 32px;\n",
              "      padding: 0 0 0 0;\n",
              "      width: 32px;\n",
              "    }\n",
              "\n",
              "    .colab-df-convert:hover {\n",
              "      background-color: #E2EBFA;\n",
              "      box-shadow: 0px 1px 2px rgba(60, 64, 67, 0.3), 0px 1px 3px 1px rgba(60, 64, 67, 0.15);\n",
              "      fill: #174EA6;\n",
              "    }\n",
              "\n",
              "    [theme=dark] .colab-df-convert {\n",
              "      background-color: #3B4455;\n",
              "      fill: #D2E3FC;\n",
              "    }\n",
              "\n",
              "    [theme=dark] .colab-df-convert:hover {\n",
              "      background-color: #434B5C;\n",
              "      box-shadow: 0px 1px 3px 1px rgba(0, 0, 0, 0.15);\n",
              "      filter: drop-shadow(0px 1px 2px rgba(0, 0, 0, 0.3));\n",
              "      fill: #FFFFFF;\n",
              "    }\n",
              "  </style>\n",
              "\n",
              "      <script>\n",
              "        const buttonEl =\n",
              "          document.querySelector('#df-e3d64251-5e38-41f1-a537-01582335f8d8 button.colab-df-convert');\n",
              "        buttonEl.style.display =\n",
              "          google.colab.kernel.accessAllowed ? 'block' : 'none';\n",
              "\n",
              "        async function convertToInteractive(key) {\n",
              "          const element = document.querySelector('#df-e3d64251-5e38-41f1-a537-01582335f8d8');\n",
              "          const dataTable =\n",
              "            await google.colab.kernel.invokeFunction('convertToInteractive',\n",
              "                                                     [key], {});\n",
              "          if (!dataTable) return;\n",
              "\n",
              "          const docLinkHtml = 'Like what you see? Visit the ' +\n",
              "            '<a target=\"_blank\" href=https://colab.research.google.com/notebooks/data_table.ipynb>data table notebook</a>'\n",
              "            + ' to learn more about interactive tables.';\n",
              "          element.innerHTML = '';\n",
              "          dataTable['output_type'] = 'display_data';\n",
              "          await google.colab.output.renderOutput(dataTable, element);\n",
              "          const docLink = document.createElement('div');\n",
              "          docLink.innerHTML = docLinkHtml;\n",
              "          element.appendChild(docLink);\n",
              "        }\n",
              "      </script>\n",
              "    </div>\n",
              "  </div>\n",
              "  "
            ],
            "text/plain": [
              "    Retrasos  Neuronas LSTM  Batch size         MSE         MAE\n",
              "24        20            100         150  161.767264  125.875325"
            ]
          },
          "execution_count": 81,
          "metadata": {},
          "output_type": "execute_result"
        }
      ],
      "source": [
        "df_resultados[df_resultados['MAE'] == df_resultados['MAE'].min()]"
      ]
    },
    {
      "cell_type": "markdown",
      "metadata": {
        "id": "_L_HJpH9GyHS"
      },
      "source": [
        "## Más capas LSTM"
      ]
    },
    {
      "cell_type": "code",
      "execution_count": null,
      "metadata": {
        "id": "YNb0RNvOTR8T"
      },
      "outputs": [],
      "source": [
        "n_input=20\n",
        "n_features=0"
      ]
    },
    {
      "cell_type": "code",
      "execution_count": null,
      "metadata": {
        "id": "3flVnlQAR6NT"
      },
      "outputs": [],
      "source": [
        "model = Sequential()\n",
        "model.add(LSTM(100, activation='relu', input_shape=(n_input, n_features+1), return_sequences=True))\n",
        "model.add(LSTM(100, activation='relu'))\n",
        "model.add(Dense(1))\n",
        "model.compile(optimizer='adam', loss='mse')"
      ]
    },
    {
      "cell_type": "code",
      "execution_count": null,
      "metadata": {
        "colab": {
          "base_uri": "https://localhost:8080/"
        },
        "id": "4bJLTSE6S626",
        "outputId": "2cc6a8df-ed47-4816-9b12-b315cfbc738f"
      },
      "outputs": [
        {
          "name": "stdout",
          "output_type": "stream",
          "text": [
            "Model: \"sequential_1\"\n",
            "_________________________________________________________________\n",
            " Layer (type)                Output Shape              Param #   \n",
            "=================================================================\n",
            " lstm (LSTM)                 (None, 20, 100)           40800     \n",
            "                                                                 \n",
            " lstm_1 (LSTM)               (None, 100)               80400     \n",
            "                                                                 \n",
            " dense (Dense)               (None, 1)                 101       \n",
            "                                                                 \n",
            "=================================================================\n",
            "Total params: 121,301\n",
            "Trainable params: 121,301\n",
            "Non-trainable params: 0\n",
            "_________________________________________________________________\n"
          ]
        }
      ],
      "source": [
        "model.summary()"
      ]
    },
    {
      "cell_type": "code",
      "execution_count": null,
      "metadata": {
        "id": "OqAIKq-3Tcg5"
      },
      "outputs": [],
      "source": [
        "generator = TimeseriesGenerator(scaled_train, scaled_train, length=n_input, batch_size=1)  "
      ]
    },
    {
      "cell_type": "code",
      "execution_count": null,
      "metadata": {
        "colab": {
          "base_uri": "https://localhost:8080/"
        },
        "id": "R2NsH3A2TBQa",
        "outputId": "d94df263-7087-4deb-84fb-ec8316045a66"
      },
      "outputs": [
        {
          "name": "stdout",
          "output_type": "stream",
          "text": [
            "Epoch 1/7\n",
            "5830/5830 [==============================] - 96s 16ms/step - loss: 0.0237\n",
            "Epoch 2/7\n",
            "5830/5830 [==============================] - 93s 16ms/step - loss: 0.0173\n",
            "Epoch 3/7\n",
            "5830/5830 [==============================] - 93s 16ms/step - loss: 0.0164\n",
            "Epoch 4/7\n",
            "5830/5830 [==============================] - 91s 16ms/step - loss: 0.0162\n",
            "Epoch 5/7\n",
            "5830/5830 [==============================] - 92s 16ms/step - loss: 0.0158\n",
            "Epoch 6/7\n",
            "5830/5830 [==============================] - 92s 16ms/step - loss: 0.0157\n",
            "Epoch 7/7\n",
            "5830/5830 [==============================] - 92s 16ms/step - loss: 0.0155\n"
          ]
        },
        {
          "data": {
            "text/plain": [
              "<keras.callbacks.History at 0x7f2585a54850>"
            ]
          },
          "execution_count": 104,
          "metadata": {},
          "output_type": "execute_result"
        }
      ],
      "source": [
        "model.fit(generator,epochs=7,verbose=True,batch_size=100)"
      ]
    },
    {
      "cell_type": "code",
      "execution_count": null,
      "metadata": {
        "colab": {
          "base_uri": "https://localhost:8080/"
        },
        "id": "UWuqLZa5YmVI",
        "outputId": "e5d41b86-4782-4fcf-914a-844b0e791922"
      },
      "outputs": [
        {
          "name": "stdout",
          "output_type": "stream",
          "text": [
            "5830/5830 [==============================] - 93s 16ms/step - loss: 0.0155\n"
          ]
        },
        {
          "data": {
            "text/plain": [
              "<keras.callbacks.History at 0x7f25855cd310>"
            ]
          },
          "execution_count": 105,
          "metadata": {},
          "output_type": "execute_result"
        }
      ],
      "source": [
        "model.fit(generator,epochs=1,verbose=True,batch_size=100)"
      ]
    },
    {
      "cell_type": "code",
      "execution_count": null,
      "metadata": {
        "id": "GXSVMp1BTN3S"
      },
      "outputs": [],
      "source": [
        "predictions = []\n",
        "for j in range(n_input,len(df_test)):\n",
        "  model_input = scaled_test[j-n_input:j]\n",
        "  model_input = model_input.reshape((1, n_input, n_features+1))\n",
        "  predictions.append(model.predict(model_input)[0])\n",
        "predictions = np.ndarray.flatten(np.array(predictions))  \n",
        "true_predictions = scaler.inverse_transform(np.reshape(predictions,(-1,1)))\n",
        "true_values = np.ndarray.flatten(df_test.iloc[n_input:]['SRGLOAVG1H'].values)\n",
        "errorMSE = mean_squared_error(true_values,true_predictions)\n",
        "errorMAE = mean_absolute_error(true_values,true_predictions)"
      ]
    },
    {
      "cell_type": "code",
      "execution_count": null,
      "metadata": {
        "colab": {
          "base_uri": "https://localhost:8080/"
        },
        "id": "cFM2voV5Yo0w",
        "outputId": "33485b4f-3266-43d0-bf5c-7791cb73d760"
      },
      "outputs": [
        {
          "data": {
            "text/plain": [
              "161.91662115290552"
            ]
          },
          "execution_count": 107,
          "metadata": {},
          "output_type": "execute_result"
        }
      ],
      "source": [
        "errorMSE**(1/2)"
      ]
    },
    {
      "cell_type": "code",
      "execution_count": null,
      "metadata": {
        "colab": {
          "base_uri": "https://localhost:8080/"
        },
        "id": "csKKFCcJZpQ4",
        "outputId": "b8170509-c5b2-4899-87b5-ae2975af1b21"
      },
      "outputs": [
        {
          "data": {
            "text/plain": [
              "127.53170172373454"
            ]
          },
          "execution_count": 108,
          "metadata": {},
          "output_type": "execute_result"
        }
      ],
      "source": [
        "errorMAE"
      ]
    },
    {
      "cell_type": "markdown",
      "metadata": {
        "id": "n9B5wTRbgB3G"
      },
      "source": [
        "## Grid search con varias LSTM layers"
      ]
    },
    {
      "cell_type": "code",
      "execution_count": null,
      "metadata": {
        "id": "EC9pyXfmgMbl"
      },
      "outputs": [],
      "source": [
        "def create_Model(n_input, LSTM_neurons = 100, layers=3,n_features=0):\n",
        "  # define model\n",
        "  model = Sequential()\n",
        "  if(layers>1):\n",
        "    model.add(LSTM(LSTM_neurons, activation='relu', input_shape=(n_input, n_features+1),return_sequences=True))\n",
        "    for i in range(layers-2):\n",
        "        model.add(LSTM(LSTM_neurons, activation='relu',return_sequences=True))\n",
        "    model.add(LSTM(LSTM_neurons, activation='relu'))\n",
        "  else:\n",
        "    model.add(LSTM(LSTM_neurons, activation='relu', input_shape=(n_input, n_features+1)))\n",
        "  model.add(Dense(1))\n",
        "  model.compile(optimizer='adam', loss='mse')\n",
        "  return model"
      ]
    },
    {
      "cell_type": "code",
      "execution_count": null,
      "metadata": {
        "id": "NtVIbPT4GviH"
      },
      "outputs": [],
      "source": [
        "model = create_Model(10,100,4)"
      ]
    },
    {
      "cell_type": "code",
      "execution_count": null,
      "metadata": {
        "colab": {
          "base_uri": "https://localhost:8080/"
        },
        "id": "Eo8vwGcEG0aS",
        "outputId": "d29d35a7-c6aa-4a9a-9035-9eca22f8a84c"
      },
      "outputs": [
        {
          "output_type": "stream",
          "name": "stdout",
          "text": [
            "Model: \"sequential\"\n",
            "_________________________________________________________________\n",
            " Layer (type)                Output Shape              Param #   \n",
            "=================================================================\n",
            " lstm (LSTM)                 (None, 10, 100)           40800     \n",
            "                                                                 \n",
            " lstm_1 (LSTM)               (None, 10, 100)           80400     \n",
            "                                                                 \n",
            " lstm_2 (LSTM)               (None, 10, 100)           80400     \n",
            "                                                                 \n",
            " lstm_3 (LSTM)               (None, 100)               80400     \n",
            "                                                                 \n",
            " dense (Dense)               (None, 1)                 101       \n",
            "                                                                 \n",
            "=================================================================\n",
            "Total params: 282,101\n",
            "Trainable params: 282,101\n",
            "Non-trainable params: 0\n",
            "_________________________________________________________________\n"
          ]
        }
      ],
      "source": [
        "model.summary()"
      ]
    },
    {
      "cell_type": "code",
      "execution_count": null,
      "metadata": {
        "id": "J-BDLBJCiHi_"
      },
      "outputs": [],
      "source": [
        "resultados=[]"
      ]
    },
    {
      "cell_type": "code",
      "execution_count": null,
      "metadata": {
        "id": "MKlwNhUerl48"
      },
      "outputs": [],
      "source": [
        "combinaciones_anteriores = []"
      ]
    },
    {
      "cell_type": "code",
      "execution_count": null,
      "metadata": {
        "id": "QfJaMH16rpQ4"
      },
      "outputs": [],
      "source": [
        "for i in range(len(df_resultados)):\n",
        "  combinaciones_anteriores.append((int(df_resultados.iloc[i]['Retrasos']),\n",
        "                                   int(df_resultados.iloc[i]['Neuronas LSTM']),\n",
        "                                   int(df_resultados.iloc[i]['Batch size']),\n",
        "                                   int(df_resultados.iloc[i]['LSTM Layers'])))"
      ]
    },
    {
      "cell_type": "code",
      "execution_count": null,
      "metadata": {
        "colab": {
          "base_uri": "https://localhost:8080/"
        },
        "id": "5zYbv-AwmT1r",
        "outputId": "4cb5eb2e-62dc-415d-8a72-c15f2514d4eb"
      },
      "outputs": [
        {
          "output_type": "execute_result",
          "data": {
            "text/plain": [
              "118"
            ]
          },
          "metadata": {},
          "execution_count": 40
        }
      ],
      "source": [
        "len(combinaciones_anteriores)"
      ]
    },
    {
      "cell_type": "code",
      "execution_count": null,
      "metadata": {
        "colab": {
          "base_uri": "https://localhost:8080/"
        },
        "id": "Rsw9IAh5t8CT",
        "outputId": "342145f6-f073-45a6-d79d-b923b83d8043"
      },
      "outputs": [
        {
          "output_type": "execute_result",
          "data": {
            "text/plain": [
              "(24, 75, 50, 1)"
            ]
          },
          "metadata": {},
          "execution_count": 42
        }
      ],
      "source": [
        "combinaciones_anteriores[117]"
      ]
    },
    {
      "cell_type": "code",
      "execution_count": null,
      "metadata": {
        "colab": {
          "base_uri": "https://localhost:8080/"
        },
        "id": "2UudqF6HgFKH",
        "outputId": "50a6cb48-76d6-4ddc-ec5a-9e993500b5df"
      },
      "outputs": [
        {
          "output_type": "stream",
          "name": "stdout",
          "text": [
            "{'Retrasos': 24, 'Neuronas LSTM': 75, 'LSTM Layers': 2, 'Batch size': 50, 'MSE': 167.51080332535525, 'MAE': 129.81552468302522}\n",
            "{'Retrasos': 24, 'Neuronas LSTM': 75, 'LSTM Layers': 3, 'Batch size': 50, 'MSE': 165.2425334490626, 'MAE': 129.2586303328405}\n",
            "{'Retrasos': 24, 'Neuronas LSTM': 75, 'LSTM Layers': 1, 'Batch size': 100, 'MSE': 171.50340529031394, 'MAE': 134.18343077927912}\n",
            "{'Retrasos': 24, 'Neuronas LSTM': 75, 'LSTM Layers': 2, 'Batch size': 100, 'MSE': 163.95792157731972, 'MAE': 128.5874683571393}\n",
            "{'Retrasos': 24, 'Neuronas LSTM': 75, 'LSTM Layers': 3, 'Batch size': 100, 'MSE': 173.94728439236732, 'MAE': 137.49070211107684}\n",
            "{'Retrasos': 24, 'Neuronas LSTM': 75, 'LSTM Layers': 1, 'Batch size': 150, 'MSE': 167.87887909684878, 'MAE': 131.17042675390218}\n",
            "{'Retrasos': 24, 'Neuronas LSTM': 75, 'LSTM Layers': 2, 'Batch size': 150, 'MSE': 170.63486907302718, 'MAE': 130.11169611843184}\n",
            "{'Retrasos': 24, 'Neuronas LSTM': 75, 'LSTM Layers': 3, 'Batch size': 150, 'MSE': 165.10533234090425, 'MAE': 130.3737648934707}\n",
            "{'Retrasos': 24, 'Neuronas LSTM': 100, 'LSTM Layers': 1, 'Batch size': 50, 'MSE': 172.405731065256, 'MAE': 134.21406332164753}\n",
            "{'Retrasos': 24, 'Neuronas LSTM': 100, 'LSTM Layers': 2, 'Batch size': 50, 'MSE': 163.37688011145804, 'MAE': 124.8869402627759}\n",
            "{'Retrasos': 24, 'Neuronas LSTM': 100, 'LSTM Layers': 3, 'Batch size': 50, 'MSE': 174.29038254096565, 'MAE': 138.06461987189928}\n",
            "{'Retrasos': 24, 'Neuronas LSTM': 100, 'LSTM Layers': 1, 'Batch size': 100, 'MSE': 165.74213387314876, 'MAE': 129.73797957545204}\n",
            "{'Retrasos': 24, 'Neuronas LSTM': 100, 'LSTM Layers': 2, 'Batch size': 100, 'MSE': 168.34786862935007, 'MAE': 130.6852018892931}\n",
            "{'Retrasos': 24, 'Neuronas LSTM': 100, 'LSTM Layers': 3, 'Batch size': 100, 'MSE': 188.20735054453766, 'MAE': 147.40836088238984}\n",
            "{'Retrasos': 24, 'Neuronas LSTM': 100, 'LSTM Layers': 1, 'Batch size': 150, 'MSE': 170.13186606236417, 'MAE': 132.75127641869122}\n",
            "{'Retrasos': 24, 'Neuronas LSTM': 100, 'LSTM Layers': 2, 'Batch size': 150, 'MSE': 165.8781086876518, 'MAE': 127.87268363400091}\n",
            "{'Retrasos': 24, 'Neuronas LSTM': 100, 'LSTM Layers': 3, 'Batch size': 150, 'MSE': 164.2028227922523, 'MAE': 127.85882963111473}\n"
          ]
        }
      ],
      "source": [
        "for retrasos in range(16,26,2): #hasta dos días y medio hacia el pasado\n",
        "  for num_neuronas in range(50,101,25): \n",
        "    for batch_size in range(50,151,50):\n",
        "      for num_layers in range(1,4): \n",
        "        if((retrasos,num_neuronas,batch_size,num_layers) in combinaciones_anteriores):\n",
        "          continue\n",
        "        n_input = retrasos # horas hacia atrás\n",
        "        n_features = 0 # variables exógenas\n",
        "        generator = TimeseriesGenerator(scaled_train, scaled_train, length=n_input, batch_size=1)  \n",
        "        model = create_Model(n_input,LSTM_neurons=num_neuronas,layers=num_layers)\n",
        "        model.fit(generator,epochs=7,verbose=False,batch_size=batch_size)\n",
        "        predictions = []\n",
        "        for j in range(n_input,len(df_test)):\n",
        "          model_input = scaled_test[j-n_input:j]\n",
        "          model_input = model_input.reshape((1, n_input, n_features+1))\n",
        "          predictions.append(model.predict(model_input)[0])\n",
        "        predictions = np.ndarray.flatten(np.array(predictions))  \n",
        "        true_predictions = scaler.inverse_transform(np.reshape(predictions,(-1,1)))\n",
        "        true_values = np.ndarray.flatten(df_test.iloc[n_input:]['SRGLOAVG1H'].values)\n",
        "        errorMSE = mean_squared_error(true_values,true_predictions)\n",
        "        errorMAE = mean_absolute_error(true_values,true_predictions)\n",
        "        errorMSE = errorMSE**(1/2)\n",
        "        print({\n",
        "            'Retrasos':retrasos,\n",
        "            'Neuronas LSTM':num_neuronas,\n",
        "            'LSTM Layers': num_layers,\n",
        "            'Batch size':batch_size,\n",
        "            'MSE':errorMSE,\n",
        "            'MAE':errorMAE\n",
        "        })\n",
        "        resultados.append({\n",
        "            'Retrasos':retrasos,\n",
        "            'Neuronas LSTM':num_neuronas,\n",
        "            'LSTM Layers': num_layers,\n",
        "            'Batch size':batch_size,\n",
        "            'MSE':errorMSE,\n",
        "            'MAE':errorMAE\n",
        "        })"
      ]
    },
    {
      "cell_type": "code",
      "execution_count": null,
      "metadata": {
        "colab": {
          "base_uri": "https://localhost:8080/"
        },
        "id": "Ee3xoN2i3frW",
        "outputId": "e3ffe33b-3969-40c3-9119-f676947e6d5d"
      },
      "outputs": [
        {
          "output_type": "execute_result",
          "data": {
            "text/plain": [
              "{'Batch size': 50,\n",
              " 'LSTM Layers': 2,\n",
              " 'MAE': 129.81552468302522,\n",
              " 'MSE': 167.51080332535525,\n",
              " 'Neuronas LSTM': 75,\n",
              " 'Retrasos': 24}"
            ]
          },
          "metadata": {},
          "execution_count": 44
        }
      ],
      "source": [
        "resultados[0]"
      ]
    },
    {
      "cell_type": "code",
      "execution_count": null,
      "metadata": {
        "id": "VJjaNWiGdBFx"
      },
      "outputs": [],
      "source": [
        "df_resultados_actuales = pd.DataFrame(resultados)"
      ]
    },
    {
      "cell_type": "code",
      "execution_count": null,
      "metadata": {
        "id": "5Qghlci04BdW"
      },
      "outputs": [],
      "source": [
        "df_resultados_actuales = df_resultados.reset_index()"
      ]
    },
    {
      "cell_type": "code",
      "execution_count": null,
      "metadata": {
        "colab": {
          "base_uri": "https://localhost:8080/",
          "height": 582
        },
        "id": "owFGw7g14ute",
        "outputId": "86288b71-25f3-477c-c924-2dcb2ae80153"
      },
      "outputs": [
        {
          "output_type": "execute_result",
          "data": {
            "text/html": [
              "\n",
              "  <div id=\"df-5f8ef8ab-ca93-4eb1-a87b-5531116dab9b\">\n",
              "    <div class=\"colab-df-container\">\n",
              "      <div>\n",
              "<style scoped>\n",
              "    .dataframe tbody tr th:only-of-type {\n",
              "        vertical-align: middle;\n",
              "    }\n",
              "\n",
              "    .dataframe tbody tr th {\n",
              "        vertical-align: top;\n",
              "    }\n",
              "\n",
              "    .dataframe thead th {\n",
              "        text-align: right;\n",
              "    }\n",
              "</style>\n",
              "<table border=\"1\" class=\"dataframe\">\n",
              "  <thead>\n",
              "    <tr style=\"text-align: right;\">\n",
              "      <th></th>\n",
              "      <th>Retrasos</th>\n",
              "      <th>Neuronas LSTM</th>\n",
              "      <th>LSTM Layers</th>\n",
              "      <th>Batch size</th>\n",
              "      <th>MSE</th>\n",
              "      <th>MAE</th>\n",
              "    </tr>\n",
              "  </thead>\n",
              "  <tbody>\n",
              "    <tr>\n",
              "      <th>0</th>\n",
              "      <td>24</td>\n",
              "      <td>75</td>\n",
              "      <td>2</td>\n",
              "      <td>50</td>\n",
              "      <td>167.510803</td>\n",
              "      <td>129.815525</td>\n",
              "    </tr>\n",
              "    <tr>\n",
              "      <th>1</th>\n",
              "      <td>24</td>\n",
              "      <td>75</td>\n",
              "      <td>3</td>\n",
              "      <td>50</td>\n",
              "      <td>165.242533</td>\n",
              "      <td>129.258630</td>\n",
              "    </tr>\n",
              "    <tr>\n",
              "      <th>2</th>\n",
              "      <td>24</td>\n",
              "      <td>75</td>\n",
              "      <td>1</td>\n",
              "      <td>100</td>\n",
              "      <td>171.503405</td>\n",
              "      <td>134.183431</td>\n",
              "    </tr>\n",
              "    <tr>\n",
              "      <th>3</th>\n",
              "      <td>24</td>\n",
              "      <td>75</td>\n",
              "      <td>2</td>\n",
              "      <td>100</td>\n",
              "      <td>163.957922</td>\n",
              "      <td>128.587468</td>\n",
              "    </tr>\n",
              "    <tr>\n",
              "      <th>4</th>\n",
              "      <td>24</td>\n",
              "      <td>75</td>\n",
              "      <td>3</td>\n",
              "      <td>100</td>\n",
              "      <td>173.947284</td>\n",
              "      <td>137.490702</td>\n",
              "    </tr>\n",
              "    <tr>\n",
              "      <th>5</th>\n",
              "      <td>24</td>\n",
              "      <td>75</td>\n",
              "      <td>1</td>\n",
              "      <td>150</td>\n",
              "      <td>167.878879</td>\n",
              "      <td>131.170427</td>\n",
              "    </tr>\n",
              "    <tr>\n",
              "      <th>6</th>\n",
              "      <td>24</td>\n",
              "      <td>75</td>\n",
              "      <td>2</td>\n",
              "      <td>150</td>\n",
              "      <td>170.634869</td>\n",
              "      <td>130.111696</td>\n",
              "    </tr>\n",
              "    <tr>\n",
              "      <th>7</th>\n",
              "      <td>24</td>\n",
              "      <td>75</td>\n",
              "      <td>3</td>\n",
              "      <td>150</td>\n",
              "      <td>165.105332</td>\n",
              "      <td>130.373765</td>\n",
              "    </tr>\n",
              "    <tr>\n",
              "      <th>8</th>\n",
              "      <td>24</td>\n",
              "      <td>100</td>\n",
              "      <td>1</td>\n",
              "      <td>50</td>\n",
              "      <td>172.405731</td>\n",
              "      <td>134.214063</td>\n",
              "    </tr>\n",
              "    <tr>\n",
              "      <th>9</th>\n",
              "      <td>24</td>\n",
              "      <td>100</td>\n",
              "      <td>2</td>\n",
              "      <td>50</td>\n",
              "      <td>163.376880</td>\n",
              "      <td>124.886940</td>\n",
              "    </tr>\n",
              "    <tr>\n",
              "      <th>10</th>\n",
              "      <td>24</td>\n",
              "      <td>100</td>\n",
              "      <td>3</td>\n",
              "      <td>50</td>\n",
              "      <td>174.290383</td>\n",
              "      <td>138.064620</td>\n",
              "    </tr>\n",
              "    <tr>\n",
              "      <th>11</th>\n",
              "      <td>24</td>\n",
              "      <td>100</td>\n",
              "      <td>1</td>\n",
              "      <td>100</td>\n",
              "      <td>165.742134</td>\n",
              "      <td>129.737980</td>\n",
              "    </tr>\n",
              "    <tr>\n",
              "      <th>12</th>\n",
              "      <td>24</td>\n",
              "      <td>100</td>\n",
              "      <td>2</td>\n",
              "      <td>100</td>\n",
              "      <td>168.347869</td>\n",
              "      <td>130.685202</td>\n",
              "    </tr>\n",
              "    <tr>\n",
              "      <th>13</th>\n",
              "      <td>24</td>\n",
              "      <td>100</td>\n",
              "      <td>3</td>\n",
              "      <td>100</td>\n",
              "      <td>188.207351</td>\n",
              "      <td>147.408361</td>\n",
              "    </tr>\n",
              "    <tr>\n",
              "      <th>14</th>\n",
              "      <td>24</td>\n",
              "      <td>100</td>\n",
              "      <td>1</td>\n",
              "      <td>150</td>\n",
              "      <td>170.131866</td>\n",
              "      <td>132.751276</td>\n",
              "    </tr>\n",
              "    <tr>\n",
              "      <th>15</th>\n",
              "      <td>24</td>\n",
              "      <td>100</td>\n",
              "      <td>2</td>\n",
              "      <td>150</td>\n",
              "      <td>165.878109</td>\n",
              "      <td>127.872684</td>\n",
              "    </tr>\n",
              "    <tr>\n",
              "      <th>16</th>\n",
              "      <td>24</td>\n",
              "      <td>100</td>\n",
              "      <td>3</td>\n",
              "      <td>150</td>\n",
              "      <td>164.202823</td>\n",
              "      <td>127.858830</td>\n",
              "    </tr>\n",
              "  </tbody>\n",
              "</table>\n",
              "</div>\n",
              "      <button class=\"colab-df-convert\" onclick=\"convertToInteractive('df-5f8ef8ab-ca93-4eb1-a87b-5531116dab9b')\"\n",
              "              title=\"Convert this dataframe to an interactive table.\"\n",
              "              style=\"display:none;\">\n",
              "        \n",
              "  <svg xmlns=\"http://www.w3.org/2000/svg\" height=\"24px\"viewBox=\"0 0 24 24\"\n",
              "       width=\"24px\">\n",
              "    <path d=\"M0 0h24v24H0V0z\" fill=\"none\"/>\n",
              "    <path d=\"M18.56 5.44l.94 2.06.94-2.06 2.06-.94-2.06-.94-.94-2.06-.94 2.06-2.06.94zm-11 1L8.5 8.5l.94-2.06 2.06-.94-2.06-.94L8.5 2.5l-.94 2.06-2.06.94zm10 10l.94 2.06.94-2.06 2.06-.94-2.06-.94-.94-2.06-.94 2.06-2.06.94z\"/><path d=\"M17.41 7.96l-1.37-1.37c-.4-.4-.92-.59-1.43-.59-.52 0-1.04.2-1.43.59L10.3 9.45l-7.72 7.72c-.78.78-.78 2.05 0 2.83L4 21.41c.39.39.9.59 1.41.59.51 0 1.02-.2 1.41-.59l7.78-7.78 2.81-2.81c.8-.78.8-2.07 0-2.86zM5.41 20L4 18.59l7.72-7.72 1.47 1.35L5.41 20z\"/>\n",
              "  </svg>\n",
              "      </button>\n",
              "      \n",
              "  <style>\n",
              "    .colab-df-container {\n",
              "      display:flex;\n",
              "      flex-wrap:wrap;\n",
              "      gap: 12px;\n",
              "    }\n",
              "\n",
              "    .colab-df-convert {\n",
              "      background-color: #E8F0FE;\n",
              "      border: none;\n",
              "      border-radius: 50%;\n",
              "      cursor: pointer;\n",
              "      display: none;\n",
              "      fill: #1967D2;\n",
              "      height: 32px;\n",
              "      padding: 0 0 0 0;\n",
              "      width: 32px;\n",
              "    }\n",
              "\n",
              "    .colab-df-convert:hover {\n",
              "      background-color: #E2EBFA;\n",
              "      box-shadow: 0px 1px 2px rgba(60, 64, 67, 0.3), 0px 1px 3px 1px rgba(60, 64, 67, 0.15);\n",
              "      fill: #174EA6;\n",
              "    }\n",
              "\n",
              "    [theme=dark] .colab-df-convert {\n",
              "      background-color: #3B4455;\n",
              "      fill: #D2E3FC;\n",
              "    }\n",
              "\n",
              "    [theme=dark] .colab-df-convert:hover {\n",
              "      background-color: #434B5C;\n",
              "      box-shadow: 0px 1px 3px 1px rgba(0, 0, 0, 0.15);\n",
              "      filter: drop-shadow(0px 1px 2px rgba(0, 0, 0, 0.3));\n",
              "      fill: #FFFFFF;\n",
              "    }\n",
              "  </style>\n",
              "\n",
              "      <script>\n",
              "        const buttonEl =\n",
              "          document.querySelector('#df-5f8ef8ab-ca93-4eb1-a87b-5531116dab9b button.colab-df-convert');\n",
              "        buttonEl.style.display =\n",
              "          google.colab.kernel.accessAllowed ? 'block' : 'none';\n",
              "\n",
              "        async function convertToInteractive(key) {\n",
              "          const element = document.querySelector('#df-5f8ef8ab-ca93-4eb1-a87b-5531116dab9b');\n",
              "          const dataTable =\n",
              "            await google.colab.kernel.invokeFunction('convertToInteractive',\n",
              "                                                     [key], {});\n",
              "          if (!dataTable) return;\n",
              "\n",
              "          const docLinkHtml = 'Like what you see? Visit the ' +\n",
              "            '<a target=\"_blank\" href=https://colab.research.google.com/notebooks/data_table.ipynb>data table notebook</a>'\n",
              "            + ' to learn more about interactive tables.';\n",
              "          element.innerHTML = '';\n",
              "          dataTable['output_type'] = 'display_data';\n",
              "          await google.colab.output.renderOutput(dataTable, element);\n",
              "          const docLink = document.createElement('div');\n",
              "          docLink.innerHTML = docLinkHtml;\n",
              "          element.appendChild(docLink);\n",
              "        }\n",
              "      </script>\n",
              "    </div>\n",
              "  </div>\n",
              "  "
            ],
            "text/plain": [
              "    Retrasos  Neuronas LSTM  LSTM Layers  Batch size         MSE         MAE\n",
              "0         24             75            2          50  167.510803  129.815525\n",
              "1         24             75            3          50  165.242533  129.258630\n",
              "2         24             75            1         100  171.503405  134.183431\n",
              "3         24             75            2         100  163.957922  128.587468\n",
              "4         24             75            3         100  173.947284  137.490702\n",
              "5         24             75            1         150  167.878879  131.170427\n",
              "6         24             75            2         150  170.634869  130.111696\n",
              "7         24             75            3         150  165.105332  130.373765\n",
              "8         24            100            1          50  172.405731  134.214063\n",
              "9         24            100            2          50  163.376880  124.886940\n",
              "10        24            100            3          50  174.290383  138.064620\n",
              "11        24            100            1         100  165.742134  129.737980\n",
              "12        24            100            2         100  168.347869  130.685202\n",
              "13        24            100            3         100  188.207351  147.408361\n",
              "14        24            100            1         150  170.131866  132.751276\n",
              "15        24            100            2         150  165.878109  127.872684\n",
              "16        24            100            3         150  164.202823  127.858830"
            ]
          },
          "metadata": {},
          "execution_count": 46
        }
      ],
      "source": [
        "df_resultados_actuales"
      ]
    },
    {
      "cell_type": "code",
      "execution_count": null,
      "metadata": {
        "id": "dUzhH8V1iYmC"
      },
      "outputs": [],
      "source": [
        "df_resultados.to_csv('./drive/MyDrive/DatosInvestigacion/lstm_layers_resultados.csv',index=False)"
      ]
    },
    {
      "cell_type": "code",
      "execution_count": null,
      "metadata": {
        "id": "-IUPBQLV6Lgt"
      },
      "outputs": [],
      "source": [
        "df_resultados = pd.read_csv('./drive/MyDrive/DatosInvestigacion/lstm_layers_resultados.csv')"
      ]
    },
    {
      "cell_type": "code",
      "execution_count": null,
      "metadata": {
        "colab": {
          "base_uri": "https://localhost:8080/"
        },
        "id": "sEh6_hzXlX1F",
        "outputId": "27e6285c-db3f-4fc2-a3fa-18c61204d3d7"
      },
      "outputs": [
        {
          "output_type": "execute_result",
          "data": {
            "text/plain": [
              "(135, 6)"
            ]
          },
          "metadata": {},
          "execution_count": 3
        }
      ],
      "source": [
        "df_resultados.shape"
      ]
    },
    {
      "cell_type": "code",
      "execution_count": null,
      "metadata": {
        "id": "DH-b33vHlWql"
      },
      "outputs": [],
      "source": [
        "df_resultados = pd.concat([df_resultados,df_resultados_actuales],ignore_index=True)"
      ]
    },
    {
      "cell_type": "code",
      "execution_count": null,
      "metadata": {
        "colab": {
          "base_uri": "https://localhost:8080/",
          "height": 423
        },
        "id": "tH62hbJHXX9U",
        "outputId": "3f239833-b654-4bc6-aeaf-c80080f64827"
      },
      "outputs": [
        {
          "output_type": "execute_result",
          "data": {
            "text/html": [
              "\n",
              "  <div id=\"df-6d0e7167-f1f7-482e-97c7-c1188a3dcc51\">\n",
              "    <div class=\"colab-df-container\">\n",
              "      <div>\n",
              "<style scoped>\n",
              "    .dataframe tbody tr th:only-of-type {\n",
              "        vertical-align: middle;\n",
              "    }\n",
              "\n",
              "    .dataframe tbody tr th {\n",
              "        vertical-align: top;\n",
              "    }\n",
              "\n",
              "    .dataframe thead th {\n",
              "        text-align: right;\n",
              "    }\n",
              "</style>\n",
              "<table border=\"1\" class=\"dataframe\">\n",
              "  <thead>\n",
              "    <tr style=\"text-align: right;\">\n",
              "      <th></th>\n",
              "      <th>Retrasos</th>\n",
              "      <th>Neuronas LSTM</th>\n",
              "      <th>Batch size</th>\n",
              "      <th>LSTM Layers</th>\n",
              "      <th>MSE</th>\n",
              "      <th>MAE</th>\n",
              "    </tr>\n",
              "  </thead>\n",
              "  <tbody>\n",
              "    <tr>\n",
              "      <th>0</th>\n",
              "      <td>18</td>\n",
              "      <td>50</td>\n",
              "      <td>50</td>\n",
              "      <td>1</td>\n",
              "      <td>165.003338</td>\n",
              "      <td>128.963112</td>\n",
              "    </tr>\n",
              "    <tr>\n",
              "      <th>1</th>\n",
              "      <td>18</td>\n",
              "      <td>50</td>\n",
              "      <td>50</td>\n",
              "      <td>2</td>\n",
              "      <td>169.124247</td>\n",
              "      <td>129.228591</td>\n",
              "    </tr>\n",
              "    <tr>\n",
              "      <th>2</th>\n",
              "      <td>18</td>\n",
              "      <td>50</td>\n",
              "      <td>100</td>\n",
              "      <td>1</td>\n",
              "      <td>172.385838</td>\n",
              "      <td>134.206030</td>\n",
              "    </tr>\n",
              "    <tr>\n",
              "      <th>3</th>\n",
              "      <td>18</td>\n",
              "      <td>50</td>\n",
              "      <td>100</td>\n",
              "      <td>2</td>\n",
              "      <td>175.354043</td>\n",
              "      <td>134.069316</td>\n",
              "    </tr>\n",
              "    <tr>\n",
              "      <th>4</th>\n",
              "      <td>18</td>\n",
              "      <td>50</td>\n",
              "      <td>150</td>\n",
              "      <td>1</td>\n",
              "      <td>167.634067</td>\n",
              "      <td>131.444560</td>\n",
              "    </tr>\n",
              "    <tr>\n",
              "      <th>...</th>\n",
              "      <td>...</td>\n",
              "      <td>...</td>\n",
              "      <td>...</td>\n",
              "      <td>...</td>\n",
              "      <td>...</td>\n",
              "      <td>...</td>\n",
              "    </tr>\n",
              "    <tr>\n",
              "      <th>130</th>\n",
              "      <td>24</td>\n",
              "      <td>100</td>\n",
              "      <td>100</td>\n",
              "      <td>2</td>\n",
              "      <td>168.347869</td>\n",
              "      <td>130.685202</td>\n",
              "    </tr>\n",
              "    <tr>\n",
              "      <th>131</th>\n",
              "      <td>24</td>\n",
              "      <td>100</td>\n",
              "      <td>100</td>\n",
              "      <td>3</td>\n",
              "      <td>188.207351</td>\n",
              "      <td>147.408361</td>\n",
              "    </tr>\n",
              "    <tr>\n",
              "      <th>132</th>\n",
              "      <td>24</td>\n",
              "      <td>100</td>\n",
              "      <td>150</td>\n",
              "      <td>1</td>\n",
              "      <td>170.131866</td>\n",
              "      <td>132.751276</td>\n",
              "    </tr>\n",
              "    <tr>\n",
              "      <th>133</th>\n",
              "      <td>24</td>\n",
              "      <td>100</td>\n",
              "      <td>150</td>\n",
              "      <td>2</td>\n",
              "      <td>165.878109</td>\n",
              "      <td>127.872684</td>\n",
              "    </tr>\n",
              "    <tr>\n",
              "      <th>134</th>\n",
              "      <td>24</td>\n",
              "      <td>100</td>\n",
              "      <td>150</td>\n",
              "      <td>3</td>\n",
              "      <td>164.202823</td>\n",
              "      <td>127.858830</td>\n",
              "    </tr>\n",
              "  </tbody>\n",
              "</table>\n",
              "<p>135 rows × 6 columns</p>\n",
              "</div>\n",
              "      <button class=\"colab-df-convert\" onclick=\"convertToInteractive('df-6d0e7167-f1f7-482e-97c7-c1188a3dcc51')\"\n",
              "              title=\"Convert this dataframe to an interactive table.\"\n",
              "              style=\"display:none;\">\n",
              "        \n",
              "  <svg xmlns=\"http://www.w3.org/2000/svg\" height=\"24px\"viewBox=\"0 0 24 24\"\n",
              "       width=\"24px\">\n",
              "    <path d=\"M0 0h24v24H0V0z\" fill=\"none\"/>\n",
              "    <path d=\"M18.56 5.44l.94 2.06.94-2.06 2.06-.94-2.06-.94-.94-2.06-.94 2.06-2.06.94zm-11 1L8.5 8.5l.94-2.06 2.06-.94-2.06-.94L8.5 2.5l-.94 2.06-2.06.94zm10 10l.94 2.06.94-2.06 2.06-.94-2.06-.94-.94-2.06-.94 2.06-2.06.94z\"/><path d=\"M17.41 7.96l-1.37-1.37c-.4-.4-.92-.59-1.43-.59-.52 0-1.04.2-1.43.59L10.3 9.45l-7.72 7.72c-.78.78-.78 2.05 0 2.83L4 21.41c.39.39.9.59 1.41.59.51 0 1.02-.2 1.41-.59l7.78-7.78 2.81-2.81c.8-.78.8-2.07 0-2.86zM5.41 20L4 18.59l7.72-7.72 1.47 1.35L5.41 20z\"/>\n",
              "  </svg>\n",
              "      </button>\n",
              "      \n",
              "  <style>\n",
              "    .colab-df-container {\n",
              "      display:flex;\n",
              "      flex-wrap:wrap;\n",
              "      gap: 12px;\n",
              "    }\n",
              "\n",
              "    .colab-df-convert {\n",
              "      background-color: #E8F0FE;\n",
              "      border: none;\n",
              "      border-radius: 50%;\n",
              "      cursor: pointer;\n",
              "      display: none;\n",
              "      fill: #1967D2;\n",
              "      height: 32px;\n",
              "      padding: 0 0 0 0;\n",
              "      width: 32px;\n",
              "    }\n",
              "\n",
              "    .colab-df-convert:hover {\n",
              "      background-color: #E2EBFA;\n",
              "      box-shadow: 0px 1px 2px rgba(60, 64, 67, 0.3), 0px 1px 3px 1px rgba(60, 64, 67, 0.15);\n",
              "      fill: #174EA6;\n",
              "    }\n",
              "\n",
              "    [theme=dark] .colab-df-convert {\n",
              "      background-color: #3B4455;\n",
              "      fill: #D2E3FC;\n",
              "    }\n",
              "\n",
              "    [theme=dark] .colab-df-convert:hover {\n",
              "      background-color: #434B5C;\n",
              "      box-shadow: 0px 1px 3px 1px rgba(0, 0, 0, 0.15);\n",
              "      filter: drop-shadow(0px 1px 2px rgba(0, 0, 0, 0.3));\n",
              "      fill: #FFFFFF;\n",
              "    }\n",
              "  </style>\n",
              "\n",
              "      <script>\n",
              "        const buttonEl =\n",
              "          document.querySelector('#df-6d0e7167-f1f7-482e-97c7-c1188a3dcc51 button.colab-df-convert');\n",
              "        buttonEl.style.display =\n",
              "          google.colab.kernel.accessAllowed ? 'block' : 'none';\n",
              "\n",
              "        async function convertToInteractive(key) {\n",
              "          const element = document.querySelector('#df-6d0e7167-f1f7-482e-97c7-c1188a3dcc51');\n",
              "          const dataTable =\n",
              "            await google.colab.kernel.invokeFunction('convertToInteractive',\n",
              "                                                     [key], {});\n",
              "          if (!dataTable) return;\n",
              "\n",
              "          const docLinkHtml = 'Like what you see? Visit the ' +\n",
              "            '<a target=\"_blank\" href=https://colab.research.google.com/notebooks/data_table.ipynb>data table notebook</a>'\n",
              "            + ' to learn more about interactive tables.';\n",
              "          element.innerHTML = '';\n",
              "          dataTable['output_type'] = 'display_data';\n",
              "          await google.colab.output.renderOutput(dataTable, element);\n",
              "          const docLink = document.createElement('div');\n",
              "          docLink.innerHTML = docLinkHtml;\n",
              "          element.appendChild(docLink);\n",
              "        }\n",
              "      </script>\n",
              "    </div>\n",
              "  </div>\n",
              "  "
            ],
            "text/plain": [
              "     Retrasos  Neuronas LSTM  Batch size  LSTM Layers         MSE         MAE\n",
              "0          18             50          50            1  165.003338  128.963112\n",
              "1          18             50          50            2  169.124247  129.228591\n",
              "2          18             50         100            1  172.385838  134.206030\n",
              "3          18             50         100            2  175.354043  134.069316\n",
              "4          18             50         150            1  167.634067  131.444560\n",
              "..        ...            ...         ...          ...         ...         ...\n",
              "130        24            100         100            2  168.347869  130.685202\n",
              "131        24            100         100            3  188.207351  147.408361\n",
              "132        24            100         150            1  170.131866  132.751276\n",
              "133        24            100         150            2  165.878109  127.872684\n",
              "134        24            100         150            3  164.202823  127.858830\n",
              "\n",
              "[135 rows x 6 columns]"
            ]
          },
          "metadata": {},
          "execution_count": 4
        }
      ],
      "source": [
        "df_resultados"
      ]
    },
    {
      "cell_type": "code",
      "execution_count": null,
      "metadata": {
        "colab": {
          "base_uri": "https://localhost:8080/",
          "height": 81
        },
        "id": "mb_3Trvu6Pju",
        "outputId": "ef56f3ea-a6f3-4c20-ad51-59ceb10a056b"
      },
      "outputs": [
        {
          "output_type": "execute_result",
          "data": {
            "text/html": [
              "\n",
              "  <div id=\"df-2e5bfed7-9f7d-47f5-b151-55323fc9e94c\">\n",
              "    <div class=\"colab-df-container\">\n",
              "      <div>\n",
              "<style scoped>\n",
              "    .dataframe tbody tr th:only-of-type {\n",
              "        vertical-align: middle;\n",
              "    }\n",
              "\n",
              "    .dataframe tbody tr th {\n",
              "        vertical-align: top;\n",
              "    }\n",
              "\n",
              "    .dataframe thead th {\n",
              "        text-align: right;\n",
              "    }\n",
              "</style>\n",
              "<table border=\"1\" class=\"dataframe\">\n",
              "  <thead>\n",
              "    <tr style=\"text-align: right;\">\n",
              "      <th></th>\n",
              "      <th>Retrasos</th>\n",
              "      <th>Neuronas LSTM</th>\n",
              "      <th>Batch size</th>\n",
              "      <th>LSTM Layers</th>\n",
              "      <th>MSE</th>\n",
              "      <th>MAE</th>\n",
              "    </tr>\n",
              "  </thead>\n",
              "  <tbody>\n",
              "    <tr>\n",
              "      <th>20</th>\n",
              "      <td>20</td>\n",
              "      <td>50</td>\n",
              "      <td>100</td>\n",
              "      <td>1</td>\n",
              "      <td>162.414028</td>\n",
              "      <td>126.5268</td>\n",
              "    </tr>\n",
              "  </tbody>\n",
              "</table>\n",
              "</div>\n",
              "      <button class=\"colab-df-convert\" onclick=\"convertToInteractive('df-2e5bfed7-9f7d-47f5-b151-55323fc9e94c')\"\n",
              "              title=\"Convert this dataframe to an interactive table.\"\n",
              "              style=\"display:none;\">\n",
              "        \n",
              "  <svg xmlns=\"http://www.w3.org/2000/svg\" height=\"24px\"viewBox=\"0 0 24 24\"\n",
              "       width=\"24px\">\n",
              "    <path d=\"M0 0h24v24H0V0z\" fill=\"none\"/>\n",
              "    <path d=\"M18.56 5.44l.94 2.06.94-2.06 2.06-.94-2.06-.94-.94-2.06-.94 2.06-2.06.94zm-11 1L8.5 8.5l.94-2.06 2.06-.94-2.06-.94L8.5 2.5l-.94 2.06-2.06.94zm10 10l.94 2.06.94-2.06 2.06-.94-2.06-.94-.94-2.06-.94 2.06-2.06.94z\"/><path d=\"M17.41 7.96l-1.37-1.37c-.4-.4-.92-.59-1.43-.59-.52 0-1.04.2-1.43.59L10.3 9.45l-7.72 7.72c-.78.78-.78 2.05 0 2.83L4 21.41c.39.39.9.59 1.41.59.51 0 1.02-.2 1.41-.59l7.78-7.78 2.81-2.81c.8-.78.8-2.07 0-2.86zM5.41 20L4 18.59l7.72-7.72 1.47 1.35L5.41 20z\"/>\n",
              "  </svg>\n",
              "      </button>\n",
              "      \n",
              "  <style>\n",
              "    .colab-df-container {\n",
              "      display:flex;\n",
              "      flex-wrap:wrap;\n",
              "      gap: 12px;\n",
              "    }\n",
              "\n",
              "    .colab-df-convert {\n",
              "      background-color: #E8F0FE;\n",
              "      border: none;\n",
              "      border-radius: 50%;\n",
              "      cursor: pointer;\n",
              "      display: none;\n",
              "      fill: #1967D2;\n",
              "      height: 32px;\n",
              "      padding: 0 0 0 0;\n",
              "      width: 32px;\n",
              "    }\n",
              "\n",
              "    .colab-df-convert:hover {\n",
              "      background-color: #E2EBFA;\n",
              "      box-shadow: 0px 1px 2px rgba(60, 64, 67, 0.3), 0px 1px 3px 1px rgba(60, 64, 67, 0.15);\n",
              "      fill: #174EA6;\n",
              "    }\n",
              "\n",
              "    [theme=dark] .colab-df-convert {\n",
              "      background-color: #3B4455;\n",
              "      fill: #D2E3FC;\n",
              "    }\n",
              "\n",
              "    [theme=dark] .colab-df-convert:hover {\n",
              "      background-color: #434B5C;\n",
              "      box-shadow: 0px 1px 3px 1px rgba(0, 0, 0, 0.15);\n",
              "      filter: drop-shadow(0px 1px 2px rgba(0, 0, 0, 0.3));\n",
              "      fill: #FFFFFF;\n",
              "    }\n",
              "  </style>\n",
              "\n",
              "      <script>\n",
              "        const buttonEl =\n",
              "          document.querySelector('#df-2e5bfed7-9f7d-47f5-b151-55323fc9e94c button.colab-df-convert');\n",
              "        buttonEl.style.display =\n",
              "          google.colab.kernel.accessAllowed ? 'block' : 'none';\n",
              "\n",
              "        async function convertToInteractive(key) {\n",
              "          const element = document.querySelector('#df-2e5bfed7-9f7d-47f5-b151-55323fc9e94c');\n",
              "          const dataTable =\n",
              "            await google.colab.kernel.invokeFunction('convertToInteractive',\n",
              "                                                     [key], {});\n",
              "          if (!dataTable) return;\n",
              "\n",
              "          const docLinkHtml = 'Like what you see? Visit the ' +\n",
              "            '<a target=\"_blank\" href=https://colab.research.google.com/notebooks/data_table.ipynb>data table notebook</a>'\n",
              "            + ' to learn more about interactive tables.';\n",
              "          element.innerHTML = '';\n",
              "          dataTable['output_type'] = 'display_data';\n",
              "          await google.colab.output.renderOutput(dataTable, element);\n",
              "          const docLink = document.createElement('div');\n",
              "          docLink.innerHTML = docLinkHtml;\n",
              "          element.appendChild(docLink);\n",
              "        }\n",
              "      </script>\n",
              "    </div>\n",
              "  </div>\n",
              "  "
            ],
            "text/plain": [
              "    Retrasos  Neuronas LSTM  Batch size  LSTM Layers         MSE       MAE\n",
              "20        20             50         100            1  162.414028  126.5268"
            ]
          },
          "metadata": {},
          "execution_count": 5
        }
      ],
      "source": [
        "df_resultados[df_resultados['MSE'] == df_resultados['MSE'].min()]"
      ]
    },
    {
      "cell_type": "code",
      "execution_count": null,
      "metadata": {
        "colab": {
          "base_uri": "https://localhost:8080/",
          "height": 81
        },
        "id": "ohi_D9Gf6UcR",
        "outputId": "0e30189d-d64a-4f77-b8e3-bf78c983a69f"
      },
      "outputs": [
        {
          "output_type": "execute_result",
          "data": {
            "text/html": [
              "\n",
              "  <div id=\"df-82e5d0d7-4eca-49c2-b089-0adb58360572\">\n",
              "    <div class=\"colab-df-container\">\n",
              "      <div>\n",
              "<style scoped>\n",
              "    .dataframe tbody tr th:only-of-type {\n",
              "        vertical-align: middle;\n",
              "    }\n",
              "\n",
              "    .dataframe tbody tr th {\n",
              "        vertical-align: top;\n",
              "    }\n",
              "\n",
              "    .dataframe thead th {\n",
              "        text-align: right;\n",
              "    }\n",
              "</style>\n",
              "<table border=\"1\" class=\"dataframe\">\n",
              "  <thead>\n",
              "    <tr style=\"text-align: right;\">\n",
              "      <th></th>\n",
              "      <th>Retrasos</th>\n",
              "      <th>Neuronas LSTM</th>\n",
              "      <th>Batch size</th>\n",
              "      <th>LSTM Layers</th>\n",
              "      <th>MSE</th>\n",
              "      <th>MAE</th>\n",
              "    </tr>\n",
              "  </thead>\n",
              "  <tbody>\n",
              "    <tr>\n",
              "      <th>93</th>\n",
              "      <td>22</td>\n",
              "      <td>75</td>\n",
              "      <td>100</td>\n",
              "      <td>1</td>\n",
              "      <td>163.295514</td>\n",
              "      <td>124.7962</td>\n",
              "    </tr>\n",
              "  </tbody>\n",
              "</table>\n",
              "</div>\n",
              "      <button class=\"colab-df-convert\" onclick=\"convertToInteractive('df-82e5d0d7-4eca-49c2-b089-0adb58360572')\"\n",
              "              title=\"Convert this dataframe to an interactive table.\"\n",
              "              style=\"display:none;\">\n",
              "        \n",
              "  <svg xmlns=\"http://www.w3.org/2000/svg\" height=\"24px\"viewBox=\"0 0 24 24\"\n",
              "       width=\"24px\">\n",
              "    <path d=\"M0 0h24v24H0V0z\" fill=\"none\"/>\n",
              "    <path d=\"M18.56 5.44l.94 2.06.94-2.06 2.06-.94-2.06-.94-.94-2.06-.94 2.06-2.06.94zm-11 1L8.5 8.5l.94-2.06 2.06-.94-2.06-.94L8.5 2.5l-.94 2.06-2.06.94zm10 10l.94 2.06.94-2.06 2.06-.94-2.06-.94-.94-2.06-.94 2.06-2.06.94z\"/><path d=\"M17.41 7.96l-1.37-1.37c-.4-.4-.92-.59-1.43-.59-.52 0-1.04.2-1.43.59L10.3 9.45l-7.72 7.72c-.78.78-.78 2.05 0 2.83L4 21.41c.39.39.9.59 1.41.59.51 0 1.02-.2 1.41-.59l7.78-7.78 2.81-2.81c.8-.78.8-2.07 0-2.86zM5.41 20L4 18.59l7.72-7.72 1.47 1.35L5.41 20z\"/>\n",
              "  </svg>\n",
              "      </button>\n",
              "      \n",
              "  <style>\n",
              "    .colab-df-container {\n",
              "      display:flex;\n",
              "      flex-wrap:wrap;\n",
              "      gap: 12px;\n",
              "    }\n",
              "\n",
              "    .colab-df-convert {\n",
              "      background-color: #E8F0FE;\n",
              "      border: none;\n",
              "      border-radius: 50%;\n",
              "      cursor: pointer;\n",
              "      display: none;\n",
              "      fill: #1967D2;\n",
              "      height: 32px;\n",
              "      padding: 0 0 0 0;\n",
              "      width: 32px;\n",
              "    }\n",
              "\n",
              "    .colab-df-convert:hover {\n",
              "      background-color: #E2EBFA;\n",
              "      box-shadow: 0px 1px 2px rgba(60, 64, 67, 0.3), 0px 1px 3px 1px rgba(60, 64, 67, 0.15);\n",
              "      fill: #174EA6;\n",
              "    }\n",
              "\n",
              "    [theme=dark] .colab-df-convert {\n",
              "      background-color: #3B4455;\n",
              "      fill: #D2E3FC;\n",
              "    }\n",
              "\n",
              "    [theme=dark] .colab-df-convert:hover {\n",
              "      background-color: #434B5C;\n",
              "      box-shadow: 0px 1px 3px 1px rgba(0, 0, 0, 0.15);\n",
              "      filter: drop-shadow(0px 1px 2px rgba(0, 0, 0, 0.3));\n",
              "      fill: #FFFFFF;\n",
              "    }\n",
              "  </style>\n",
              "\n",
              "      <script>\n",
              "        const buttonEl =\n",
              "          document.querySelector('#df-82e5d0d7-4eca-49c2-b089-0adb58360572 button.colab-df-convert');\n",
              "        buttonEl.style.display =\n",
              "          google.colab.kernel.accessAllowed ? 'block' : 'none';\n",
              "\n",
              "        async function convertToInteractive(key) {\n",
              "          const element = document.querySelector('#df-82e5d0d7-4eca-49c2-b089-0adb58360572');\n",
              "          const dataTable =\n",
              "            await google.colab.kernel.invokeFunction('convertToInteractive',\n",
              "                                                     [key], {});\n",
              "          if (!dataTable) return;\n",
              "\n",
              "          const docLinkHtml = 'Like what you see? Visit the ' +\n",
              "            '<a target=\"_blank\" href=https://colab.research.google.com/notebooks/data_table.ipynb>data table notebook</a>'\n",
              "            + ' to learn more about interactive tables.';\n",
              "          element.innerHTML = '';\n",
              "          dataTable['output_type'] = 'display_data';\n",
              "          await google.colab.output.renderOutput(dataTable, element);\n",
              "          const docLink = document.createElement('div');\n",
              "          docLink.innerHTML = docLinkHtml;\n",
              "          element.appendChild(docLink);\n",
              "        }\n",
              "      </script>\n",
              "    </div>\n",
              "  </div>\n",
              "  "
            ],
            "text/plain": [
              "    Retrasos  Neuronas LSTM  Batch size  LSTM Layers         MSE       MAE\n",
              "93        22             75         100            1  163.295514  124.7962"
            ]
          },
          "metadata": {},
          "execution_count": 6
        }
      ],
      "source": [
        "df_resultados[df_resultados['MAE'] == df_resultados['MAE'].min()]"
      ]
    },
    {
      "cell_type": "markdown",
      "source": [
        "## Gráfico de error"
      ],
      "metadata": {
        "id": "7TS0cRSizyWz"
      }
    },
    {
      "cell_type": "markdown",
      "source": [
        "### Retrasos"
      ],
      "metadata": {
        "id": "yljKhxi8z02z"
      }
    },
    {
      "cell_type": "code",
      "source": [
        "import seaborn as sns"
      ],
      "metadata": {
        "id": "i_6UQVl2zYPT"
      },
      "execution_count": null,
      "outputs": []
    },
    {
      "cell_type": "code",
      "source": [
        "sns.set(rc={\"figure.figsize\":(10, 5)})\n",
        "sns.lineplot(data=df_resultados, x='Retrasos', y='MAE',hue='LSTM Layers',palette='tab10',err_style=\"bars\", ci=68)"
      ],
      "metadata": {
        "colab": {
          "base_uri": "https://localhost:8080/",
          "height": 356
        },
        "id": "KG3CX-7Bzl-I",
        "outputId": "708490b1-84d3-42cd-f428-c110a9737f7d"
      },
      "execution_count": null,
      "outputs": [
        {
          "output_type": "execute_result",
          "data": {
            "text/plain": [
              "<matplotlib.axes._subplots.AxesSubplot at 0x7f3705e824d0>"
            ]
          },
          "metadata": {},
          "execution_count": 36
        },
        {
          "output_type": "display_data",
          "data": {
            "image/png": "[encoded data removed]",
            "text/plain": [
              "<Figure size 720x360 with 1 Axes>"
            ]
          },
          "metadata": {}
        }
      ]
    },
    {
      "cell_type": "code",
      "source": [
        "sns.set(rc={\"figure.figsize\":(10, 5)})\n",
        "sns.lineplot(data=df_resultados, x='Retrasos', y='MSE',hue='LSTM Layers',palette='tab10',err_style=\"bars\", ci=68)"
      ],
      "metadata": {
        "colab": {
          "base_uri": "https://localhost:8080/",
          "height": 356
        },
        "id": "J7PTZXmT8AjU",
        "outputId": "a44fde62-8728-40e6-a46b-de6f842ca497"
      },
      "execution_count": null,
      "outputs": [
        {
          "output_type": "execute_result",
          "data": {
            "text/plain": [
              "<matplotlib.axes._subplots.AxesSubplot at 0x7f3704f8eb10>"
            ]
          },
          "metadata": {},
          "execution_count": 48
        },
        {
          "output_type": "display_data",
          "data": {
            "image/png": "[encoded data removed]",
            "text/plain": [
              "<Figure size 720x360 with 1 Axes>"
            ]
          },
          "metadata": {}
        }
      ]
    },
    {
      "cell_type": "markdown",
      "source": [
        "### Número de neuronas"
      ],
      "metadata": {
        "id": "p-SLx-Bf3eYK"
      }
    },
    {
      "cell_type": "code",
      "source": [
        "sns.set(rc={\"figure.figsize\":(10, 5)})\n",
        "sns.lineplot(data=df_resultados, x='Neuronas LSTM', y='MAE',hue='LSTM Layers',palette='tab10',err_style=\"bars\", ci=68)"
      ],
      "metadata": {
        "colab": {
          "base_uri": "https://localhost:8080/",
          "height": 360
        },
        "id": "SqU_CrT03PFK",
        "outputId": "ed4aedce-03ad-49d8-aab9-776601165d29"
      },
      "execution_count": null,
      "outputs": [
        {
          "output_type": "execute_result",
          "data": {
            "text/plain": [
              "<matplotlib.axes._subplots.AxesSubplot at 0x7f37050e6490>"
            ]
          },
          "metadata": {},
          "execution_count": 46
        },
        {
          "output_type": "display_data",
          "data": {
            "image/png": "[encoded data removed]",
            "text/plain": [
              "<Figure size 720x360 with 1 Axes>"
            ]
          },
          "metadata": {}
        }
      ]
    },
    {
      "cell_type": "code",
      "source": [
        "sns.set(rc={\"figure.figsize\":(10, 5)})\n",
        "sns.lineplot(data=df_resultados, x='Neuronas LSTM', y='MSE',hue='LSTM Layers',palette='tab10',err_style=\"bars\", ci=68)"
      ],
      "metadata": {
        "colab": {
          "base_uri": "https://localhost:8080/",
          "height": 356
        },
        "id": "ui3WxJjB8EW7",
        "outputId": "d584b6ee-98dd-4d12-96b7-c7fe7d3f339e"
      },
      "execution_count": null,
      "outputs": [
        {
          "output_type": "execute_result",
          "data": {
            "text/plain": [
              "<matplotlib.axes._subplots.AxesSubplot at 0x7f3704f31150>"
            ]
          },
          "metadata": {},
          "execution_count": 49
        },
        {
          "output_type": "display_data",
          "data": {
            "image/png": "[encoded data removed]",
            "text/plain": [
              "<Figure size 720x360 with 1 Axes>"
            ]
          },
          "metadata": {}
        }
      ]
    },
    {
      "cell_type": "markdown",
      "source": [
        "### Batch size"
      ],
      "metadata": {
        "id": "nt7XXUo25row"
      }
    },
    {
      "cell_type": "code",
      "source": [
        "sns.set(rc={\"figure.figsize\":(10, 5)})\n",
        "sns.lineplot(data=df_resultados, x='Batch size', y='MAE',hue='LSTM Layers',palette='tab10',err_style=\"bars\", ci=68)"
      ],
      "metadata": {
        "colab": {
          "base_uri": "https://localhost:8080/",
          "height": 356
        },
        "id": "Two4kI6D5pMy",
        "outputId": "26a5a0af-b263-4304-dc42-251872688f5d"
      },
      "execution_count": null,
      "outputs": [
        {
          "output_type": "execute_result",
          "data": {
            "text/plain": [
              "<matplotlib.axes._subplots.AxesSubplot at 0x7f3705342090>"
            ]
          },
          "metadata": {},
          "execution_count": 42
        },
        {
          "output_type": "display_data",
          "data": {
            "image/png": "[encoded data removed]",
            "text/plain": [
              "<Figure size 720x360 with 1 Axes>"
            ]
          },
          "metadata": {}
        }
      ]
    },
    {
      "cell_type": "code",
      "source": [
        "sns.set(rc={\"figure.figsize\":(10, 5)})\n",
        "sns.lineplot(data=df_resultados, x='Batch size', y='MSE',hue='LSTM Layers',palette='tab10',err_style=\"bars\", ci=68)"
      ],
      "metadata": {
        "colab": {
          "base_uri": "https://localhost:8080/",
          "height": 357
        },
        "id": "UwVkJXkg8Ll6",
        "outputId": "af3772e1-5cc4-47ab-9383-64ce08249098"
      },
      "execution_count": null,
      "outputs": [
        {
          "output_type": "execute_result",
          "data": {
            "text/plain": [
              "<matplotlib.axes._subplots.AxesSubplot at 0x7f3704ebcad0>"
            ]
          },
          "metadata": {},
          "execution_count": 50
        },
        {
          "output_type": "display_data",
          "data": {
            "image/png": "[encoded data removed]",
            "text/plain": [
              "<Figure size 720x360 with 1 Axes>"
            ]
          },
          "metadata": {}
        }
      ]
    },
    {
      "cell_type": "markdown",
      "source": [
        "## Conclusiones"
      ],
      "metadata": {
        "id": "eU-jmdV76opA"
      }
    },
    {
      "cell_type": "markdown",
      "source": [
        "* El modelo que tiene 3 capas LSTM funciona peor que los otros dos.\n",
        "* El mejor modelo debe tener 1 capa LSTM, pues los errores MSE y MAE se minimizan con ese valor.\n",
        "* El mejor número de neuronas está entre 50 y 75, se elegirá 75 pues obtuvo el error MAE más pequeño y 50 neuronas puede ser muy simple.\n",
        "* El batch size óptimo se encuentra en 100.\n",
        "* El mejor número de retrasos está entre 20 y 22, se tomarán 22 retrasos para el mejor modelo, ya que el modelo AR también consideró que 22 retrasos era ideal.\n"
      ],
      "metadata": {
        "id": "vGj9tc5T6Hu6"
      }
    },
    {
      "cell_type": "markdown",
      "source": [
        "## Probando el mejor modelo"
      ],
      "metadata": {
        "id": "ch9Q44xqDhki"
      }
    },
    {
      "cell_type": "code",
      "source": [
        "model = create_Model(22,75,1)"
      ],
      "metadata": {
        "id": "VwWE-16vDtSn"
      },
      "execution_count": null,
      "outputs": []
    },
    {
      "cell_type": "code",
      "execution_count": null,
      "metadata": {
        "colab": {
          "base_uri": "https://localhost:8080/"
        },
        "id": "exL8lZePz1ln",
        "outputId": "d4a5818a-3846-4455-f972-50fa71ba8b12"
      },
      "outputs": [
        {
          "output_type": "stream",
          "name": "stdout",
          "text": [
            "Model: \"sequential\"\n",
            "_________________________________________________________________\n",
            " Layer (type)                Output Shape              Param #   \n",
            "=================================================================\n",
            " lstm (LSTM)                 (None, 75)                23100     \n",
            "                                                                 \n",
            " dense (Dense)               (None, 1)                 76        \n",
            "                                                                 \n",
            "=================================================================\n",
            "Total params: 23,176\n",
            "Trainable params: 23,176\n",
            "Non-trainable params: 0\n",
            "_________________________________________________________________\n"
          ]
        }
      ],
      "source": [
        "model.summary()"
      ]
    },
    {
      "cell_type": "code",
      "source": [
        "generator = TimeseriesGenerator(scaled_train, scaled_train, length=22, batch_size=1)  "
      ],
      "metadata": {
        "id": "S8EZNQY1ENPA"
      },
      "execution_count": null,
      "outputs": []
    },
    {
      "cell_type": "code",
      "source": [
        "model.fit(generator,epochs=7,verbose=True,batch_size=100)"
      ],
      "metadata": {
        "colab": {
          "base_uri": "https://localhost:8080/"
        },
        "id": "Jt-IlCxeECvu",
        "outputId": "b56cadfa-751c-42ae-99e9-0bf75f836f79"
      },
      "execution_count": null,
      "outputs": [
        {
          "output_type": "stream",
          "name": "stdout",
          "text": [
            "Epoch 1/7\n",
            "5828/5828 [==============================] - 79s 13ms/step - loss: 0.0228\n",
            "Epoch 2/7\n",
            "5828/5828 [==============================] - 59s 10ms/step - loss: 0.0170\n",
            "Epoch 3/7\n",
            "5828/5828 [==============================] - 60s 10ms/step - loss: 0.0165\n",
            "Epoch 4/7\n",
            "5828/5828 [==============================] - 58s 10ms/step - loss: 0.0161\n",
            "Epoch 5/7\n",
            "5828/5828 [==============================] - 58s 10ms/step - loss: 0.0159\n",
            "Epoch 6/7\n",
            "5828/5828 [==============================] - 57s 10ms/step - loss: 0.0157\n",
            "Epoch 7/7\n",
            "5828/5828 [==============================] - 59s 10ms/step - loss: 0.0155\n"
          ]
        },
        {
          "output_type": "execute_result",
          "data": {
            "text/plain": [
              "<keras.callbacks.History at 0x7f5833b71c90>"
            ]
          },
          "metadata": {},
          "execution_count": 26
        }
      ]
    },
    {
      "cell_type": "code",
      "source": [
        "n_input=22\n",
        "n_features =0"
      ],
      "metadata": {
        "id": "MJLiSuHXpZoN"
      },
      "execution_count": null,
      "outputs": []
    },
    {
      "cell_type": "code",
      "source": [
        "predictions = []\n",
        "for j in range(n_input,len(df_test)):\n",
        "  model_input = scaled_test[j-n_input:j]\n",
        "  model_input = model_input.reshape((1, n_input, n_features+1))\n",
        "  predictions.append(model.predict(model_input)[0])\n",
        "predictions = np.ndarray.flatten(np.array(predictions))  \n",
        "true_predictions = scaler.inverse_transform(np.reshape(predictions,(-1,1)))\n",
        "true_values = np.ndarray.flatten(df_test.iloc[n_input:]['SRGLOAVG1H'].values)\n"
      ],
      "metadata": {
        "id": "Z39g7YW6D9C2"
      },
      "execution_count": null,
      "outputs": []
    },
    {
      "cell_type": "code",
      "source": [
        "errorMSE = mean_squared_error(true_values,true_predictions)\n",
        "errorMAE = mean_absolute_error(true_values,true_predictions)"
      ],
      "metadata": {
        "id": "0l113rggpcoG"
      },
      "execution_count": null,
      "outputs": []
    },
    {
      "cell_type": "code",
      "source": [
        "errorMAE"
      ],
      "metadata": {
        "colab": {
          "base_uri": "https://localhost:8080/"
        },
        "id": "Xp0SUzb_pnRv",
        "outputId": "7d52a114-6960-4b96-b875-722a78d58212"
      },
      "execution_count": null,
      "outputs": [
        {
          "output_type": "execute_result",
          "data": {
            "text/plain": [
              "128.46700768610035"
            ]
          },
          "metadata": {},
          "execution_count": 32
        }
      ]
    },
    {
      "cell_type": "code",
      "source": [
        "errorMSE**(1/2)"
      ],
      "metadata": {
        "id": "boI37x3_0xee",
        "outputId": "ae61565e-317a-41fb-fcb2-a5af5c362e3c",
        "colab": {
          "base_uri": "https://localhost:8080/"
        }
      },
      "execution_count": null,
      "outputs": [
        {
          "output_type": "execute_result",
          "data": {
            "text/plain": [
              "164.04970448822036"
            ]
          },
          "metadata": {},
          "execution_count": 46
        }
      ]
    },
    {
      "cell_type": "code",
      "source": [
        "df_plot = pd.DataFrame({\n",
        "    'True':true_values,\n",
        "    'Prediction':true_predictions.flatten(),\n",
        "})"
      ],
      "metadata": {
        "id": "fPhqqflIGWS-"
      },
      "execution_count": null,
      "outputs": []
    },
    {
      "cell_type": "markdown",
      "metadata": {
        "id": "BkyZvHqvJzZ4"
      },
      "source": [
        "Gráfico de los valores obtenidos"
      ]
    },
    {
      "cell_type": "code",
      "source": [
        "df_plot = df_plot.set_index(df_test.iloc[n_input:].index)"
      ],
      "metadata": {
        "id": "Pb4DADsGGphd"
      },
      "execution_count": null,
      "outputs": []
    },
    {
      "cell_type": "code",
      "execution_count": null,
      "metadata": {
        "colab": {
          "base_uri": "https://localhost:8080/",
          "height": 500
        },
        "id": "LjFW1vGCdoSJ",
        "outputId": "95fb2919-5723-49be-d53a-1aaf61b5760a"
      },
      "outputs": [
        {
          "output_type": "execute_result",
          "data": {
            "text/plain": [
              "<matplotlib.axes._subplots.AxesSubplot at 0x7f5833c0f710>"
            ]
          },
          "metadata": {},
          "execution_count": 35
        },
        {
          "output_type": "display_data",
          "data": {
            "image/png": "[encoded data removed]",
            "text/plain": [
              "<Figure size 864x576 with 1 Axes>"
            ]
          },
          "metadata": {
            "needs_background": "light"
          }
        }
      ],
      "source": [
        "df_plot['2016-11-16':'2016-11-26'].plot(figsize=(12,8))"
      ]
    },
    {
      "cell_type": "markdown",
      "source": [
        "Gráfico de los valores suavizados"
      ],
      "metadata": {
        "id": "JQJabYo9HZ0s"
      }
    },
    {
      "cell_type": "code",
      "source": [
        "ventana = 5"
      ],
      "metadata": {
        "id": "Ps2v1RN1KBqG"
      },
      "execution_count": null,
      "outputs": []
    },
    {
      "cell_type": "code",
      "source": [
        "df_plot_2 = df_plot.copy()"
      ],
      "metadata": {
        "id": "hF8S6xGmHcDI"
      },
      "execution_count": null,
      "outputs": []
    },
    {
      "cell_type": "code",
      "source": [
        "df_plot_2['SMA True'] = df_plot_2['True'].rolling(window=ventana).mean()"
      ],
      "metadata": {
        "id": "0WyILmTZHfS_"
      },
      "execution_count": null,
      "outputs": []
    },
    {
      "cell_type": "code",
      "source": [
        "df_plot_2['SMA Prediction'] = df_plot_2['Prediction'].rolling(window=ventana).mean()"
      ],
      "metadata": {
        "id": "sbSGv47mICU1"
      },
      "execution_count": null,
      "outputs": []
    },
    {
      "cell_type": "code",
      "source": [
        "df_plot_2.head()"
      ],
      "metadata": {
        "colab": {
          "base_uri": "https://localhost:8080/",
          "height": 238
        },
        "id": "JxdWjYPLIAMA",
        "outputId": "352b1600-acb6-4d9c-a934-f504cb8abe5c"
      },
      "execution_count": null,
      "outputs": [
        {
          "output_type": "execute_result",
          "data": {
            "text/html": [
              "\n",
              "  <div id=\"df-59dfa881-bc2a-42c0-8c91-49b17b589f4d\">\n",
              "    <div class=\"colab-df-container\">\n",
              "      <div>\n",
              "<style scoped>\n",
              "    .dataframe tbody tr th:only-of-type {\n",
              "        vertical-align: middle;\n",
              "    }\n",
              "\n",
              "    .dataframe tbody tr th {\n",
              "        vertical-align: top;\n",
              "    }\n",
              "\n",
              "    .dataframe thead th {\n",
              "        text-align: right;\n",
              "    }\n",
              "</style>\n",
              "<table border=\"1\" class=\"dataframe\">\n",
              "  <thead>\n",
              "    <tr style=\"text-align: right;\">\n",
              "      <th></th>\n",
              "      <th>True</th>\n",
              "      <th>Prediction</th>\n",
              "      <th>SMA True</th>\n",
              "      <th>SMA Prediction</th>\n",
              "    </tr>\n",
              "    <tr>\n",
              "      <th>Local_Time</th>\n",
              "      <th></th>\n",
              "      <th></th>\n",
              "      <th></th>\n",
              "      <th></th>\n",
              "    </tr>\n",
              "  </thead>\n",
              "  <tbody>\n",
              "    <tr>\n",
              "      <th>2016-08-10 10:00:00</th>\n",
              "      <td>376.0</td>\n",
              "      <td>583.857544</td>\n",
              "      <td>NaN</td>\n",
              "      <td>NaN</td>\n",
              "    </tr>\n",
              "    <tr>\n",
              "      <th>2016-08-10 11:00:00</th>\n",
              "      <td>700.0</td>\n",
              "      <td>424.486420</td>\n",
              "      <td>NaN</td>\n",
              "      <td>NaN</td>\n",
              "    </tr>\n",
              "    <tr>\n",
              "      <th>2016-08-10 12:00:00</th>\n",
              "      <td>665.0</td>\n",
              "      <td>699.395508</td>\n",
              "      <td>NaN</td>\n",
              "      <td>NaN</td>\n",
              "    </tr>\n",
              "    <tr>\n",
              "      <th>2016-08-10 13:00:00</th>\n",
              "      <td>666.0</td>\n",
              "      <td>601.550171</td>\n",
              "      <td>NaN</td>\n",
              "      <td>NaN</td>\n",
              "    </tr>\n",
              "    <tr>\n",
              "      <th>2016-08-10 14:00:00</th>\n",
              "      <td>687.0</td>\n",
              "      <td>592.212158</td>\n",
              "      <td>618.8</td>\n",
              "      <td>580.30036</td>\n",
              "    </tr>\n",
              "  </tbody>\n",
              "</table>\n",
              "</div>\n",
              "      <button class=\"colab-df-convert\" onclick=\"convertToInteractive('df-59dfa881-bc2a-42c0-8c91-49b17b589f4d')\"\n",
              "              title=\"Convert this dataframe to an interactive table.\"\n",
              "              style=\"display:none;\">\n",
              "        \n",
              "  <svg xmlns=\"http://www.w3.org/2000/svg\" height=\"24px\"viewBox=\"0 0 24 24\"\n",
              "       width=\"24px\">\n",
              "    <path d=\"M0 0h24v24H0V0z\" fill=\"none\"/>\n",
              "    <path d=\"M18.56 5.44l.94 2.06.94-2.06 2.06-.94-2.06-.94-.94-2.06-.94 2.06-2.06.94zm-11 1L8.5 8.5l.94-2.06 2.06-.94-2.06-.94L8.5 2.5l-.94 2.06-2.06.94zm10 10l.94 2.06.94-2.06 2.06-.94-2.06-.94-.94-2.06-.94 2.06-2.06.94z\"/><path d=\"M17.41 7.96l-1.37-1.37c-.4-.4-.92-.59-1.43-.59-.52 0-1.04.2-1.43.59L10.3 9.45l-7.72 7.72c-.78.78-.78 2.05 0 2.83L4 21.41c.39.39.9.59 1.41.59.51 0 1.02-.2 1.41-.59l7.78-7.78 2.81-2.81c.8-.78.8-2.07 0-2.86zM5.41 20L4 18.59l7.72-7.72 1.47 1.35L5.41 20z\"/>\n",
              "  </svg>\n",
              "      </button>\n",
              "      \n",
              "  <style>\n",
              "    .colab-df-container {\n",
              "      display:flex;\n",
              "      flex-wrap:wrap;\n",
              "      gap: 12px;\n",
              "    }\n",
              "\n",
              "    .colab-df-convert {\n",
              "      background-color: #E8F0FE;\n",
              "      border: none;\n",
              "      border-radius: 50%;\n",
              "      cursor: pointer;\n",
              "      display: none;\n",
              "      fill: #1967D2;\n",
              "      height: 32px;\n",
              "      padding: 0 0 0 0;\n",
              "      width: 32px;\n",
              "    }\n",
              "\n",
              "    .colab-df-convert:hover {\n",
              "      background-color: #E2EBFA;\n",
              "      box-shadow: 0px 1px 2px rgba(60, 64, 67, 0.3), 0px 1px 3px 1px rgba(60, 64, 67, 0.15);\n",
              "      fill: #174EA6;\n",
              "    }\n",
              "\n",
              "    [theme=dark] .colab-df-convert {\n",
              "      background-color: #3B4455;\n",
              "      fill: #D2E3FC;\n",
              "    }\n",
              "\n",
              "    [theme=dark] .colab-df-convert:hover {\n",
              "      background-color: #434B5C;\n",
              "      box-shadow: 0px 1px 3px 1px rgba(0, 0, 0, 0.15);\n",
              "      filter: drop-shadow(0px 1px 2px rgba(0, 0, 0, 0.3));\n",
              "      fill: #FFFFFF;\n",
              "    }\n",
              "  </style>\n",
              "\n",
              "      <script>\n",
              "        const buttonEl =\n",
              "          document.querySelector('#df-59dfa881-bc2a-42c0-8c91-49b17b589f4d button.colab-df-convert');\n",
              "        buttonEl.style.display =\n",
              "          google.colab.kernel.accessAllowed ? 'block' : 'none';\n",
              "\n",
              "        async function convertToInteractive(key) {\n",
              "          const element = document.querySelector('#df-59dfa881-bc2a-42c0-8c91-49b17b589f4d');\n",
              "          const dataTable =\n",
              "            await google.colab.kernel.invokeFunction('convertToInteractive',\n",
              "                                                     [key], {});\n",
              "          if (!dataTable) return;\n",
              "\n",
              "          const docLinkHtml = 'Like what you see? Visit the ' +\n",
              "            '<a target=\"_blank\" href=https://colab.research.google.com/notebooks/data_table.ipynb>data table notebook</a>'\n",
              "            + ' to learn more about interactive tables.';\n",
              "          element.innerHTML = '';\n",
              "          dataTable['output_type'] = 'display_data';\n",
              "          await google.colab.output.renderOutput(dataTable, element);\n",
              "          const docLink = document.createElement('div');\n",
              "          docLink.innerHTML = docLinkHtml;\n",
              "          element.appendChild(docLink);\n",
              "        }\n",
              "      </script>\n",
              "    </div>\n",
              "  </div>\n",
              "  "
            ],
            "text/plain": [
              "                      True  Prediction  SMA True  SMA Prediction\n",
              "Local_Time                                                      \n",
              "2016-08-10 10:00:00  376.0  583.857544       NaN             NaN\n",
              "2016-08-10 11:00:00  700.0  424.486420       NaN             NaN\n",
              "2016-08-10 12:00:00  665.0  699.395508       NaN             NaN\n",
              "2016-08-10 13:00:00  666.0  601.550171       NaN             NaN\n",
              "2016-08-10 14:00:00  687.0  592.212158     618.8       580.30036"
            ]
          },
          "metadata": {},
          "execution_count": 40
        }
      ]
    },
    {
      "cell_type": "code",
      "source": [
        "df_plot_2 = df_plot_2[['SMA True','SMA Prediction']]"
      ],
      "metadata": {
        "id": "J-cNan1-IIJp"
      },
      "execution_count": null,
      "outputs": []
    },
    {
      "cell_type": "code",
      "execution_count": null,
      "metadata": {
        "colab": {
          "base_uri": "https://localhost:8080/",
          "height": 500
        },
        "id": "yjaVenJXd4p-",
        "outputId": "a5d42929-127f-4cb1-ea20-cf492ed3f576"
      },
      "outputs": [
        {
          "output_type": "execute_result",
          "data": {
            "text/plain": [
              "<matplotlib.axes._subplots.AxesSubplot at 0x7f5830e08590>"
            ]
          },
          "metadata": {},
          "execution_count": 42
        },
        {
          "output_type": "display_data",
          "data": {
            "image/png": "[encoded data removed]",
            "text/plain": [
              "<Figure size 864x576 with 1 Axes>"
            ]
          },
          "metadata": {
            "needs_background": "light"
          }
        }
      ],
      "source": [
        "df_plot_2['2016-11-16':'2016-11-26'].plot(figsize=(12,8))"
      ]
    },
    {
      "cell_type": "code",
      "source": [
        "mean_absolute_error(df_plot_2.iloc[ventana:]['SMA True'],df_plot_2.iloc[ventana:]['SMA Prediction'])"
      ],
      "metadata": {
        "colab": {
          "base_uri": "https://localhost:8080/"
        },
        "id": "I6f78TSVI4q-",
        "outputId": "bcd87666-952e-4619-df63-c64407717a83"
      },
      "execution_count": null,
      "outputs": [
        {
          "output_type": "execute_result",
          "data": {
            "text/plain": [
              "64.8176856116157"
            ]
          },
          "metadata": {},
          "execution_count": 43
        }
      ]
    },
    {
      "cell_type": "code",
      "source": [
        "MSE = mean_squared_error(df_plot_2.iloc[ventana:]['SMA True'],df_plot_2.iloc[ventana:]['SMA Prediction'])\n",
        "MSE**(1/2)"
      ],
      "metadata": {
        "colab": {
          "base_uri": "https://localhost:8080/"
        },
        "id": "Ska2VxI-JLT3",
        "outputId": "2fb83848-9310-4aa8-b02d-47b95b01fcf2"
      },
      "execution_count": null,
      "outputs": [
        {
          "output_type": "execute_result",
          "data": {
            "text/plain": [
              "80.78973469004433"
            ]
          },
          "metadata": {},
          "execution_count": 44
        }
      ]
    },
    {
      "cell_type": "markdown",
      "metadata": {
        "id": "jbl3WdLtzxWw"
      },
      "source": [
        "## Salvar el modelo"
      ]
    },
    {
      "cell_type": "code",
      "execution_count": null,
      "metadata": {
        "id": "-7FKg9IkzY7r"
      },
      "outputs": [],
      "source": [
        "model.save('./drive/MyDrive/DatosInvestigacion/RSG_model.h5')"
      ]
    },
    {
      "cell_type": "code",
      "source": [
        ""
      ],
      "metadata": {
        "id": "kGV5QoFvsR1x"
      },
      "execution_count": null,
      "outputs": []
    }
  ],
  "metadata": {
    "colab": {
      "collapsed_sections": [],
      "name": "Udla9.ipynb",
      "provenance": []
    },
    "kernelspec": {
      "display_name": "Python 3",
      "name": "python3"
    },
    "language_info": {
      "name": "python"
    }
  },
  "nbformat": 4,
  "nbformat_minor": 0
}