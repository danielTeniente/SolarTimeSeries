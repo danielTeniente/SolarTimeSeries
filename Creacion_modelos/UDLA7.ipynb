{
  "nbformat": 4,
  "nbformat_minor": 0,
  "metadata": {
    "colab": {
      "name": "UDLA7.ipynb",
      "provenance": []
    },
    "kernelspec": {
      "name": "python3",
      "display_name": "Python 3"
    },
    "language_info": {
      "name": "python"
    }
  },
  "cells": [
    {
      "cell_type": "markdown",
      "source": [
        "# Modelo con variables exógenas"
      ],
      "metadata": {
        "id": "pVjpIBJE8r2E"
      }
    },
    {
      "cell_type": "code",
      "execution_count": null,
      "metadata": {
        "id": "a0ScCUh58rTP"
      },
      "outputs": [],
      "source": [
        "import pandas as pd\n",
        "import numpy as np"
      ]
    },
    {
      "cell_type": "code",
      "source": [
        "from statsmodels.tsa.arima_model import ARMA"
      ],
      "metadata": {
        "id": "kjEQND8QBT1D"
      },
      "execution_count": null,
      "outputs": []
    },
    {
      "cell_type": "markdown",
      "source": [
        "## ARMAX"
      ],
      "metadata": {
        "id": "avFzSio789Br"
      }
    },
    {
      "cell_type": "markdown",
      "source": [
        "$x_{t}=c+βY +ϕ_{1} x_{t-1}+θ _{1} ϵ _{t-1}+ϵ_{t}$\n",
        "\n",
        "Donde $Y$ representa los valores de los factores externos o variables exógenas, y $β$ representa los pesos de los factores."
      ],
      "metadata": {
        "id": "S2Vj9kJy-XNc"
      }
    },
    {
      "cell_type": "code",
      "source": [
        "df = pd.read_csv('./drive/MyDrive/DatosInvestigacion/final_train_2015.csv', index_col=0, parse_dates=True)"
      ],
      "metadata": {
        "id": "qXeykzXv9GzT"
      },
      "execution_count": null,
      "outputs": []
    },
    {
      "cell_type": "code",
      "source": [
        "df = df.asfreq('h')"
      ],
      "metadata": {
        "id": "VNqPWASdB8ME"
      },
      "execution_count": null,
      "outputs": []
    },
    {
      "cell_type": "code",
      "source": [
        "model_a1ma1X = ARMA(df.SRGLOAVG1H, exog = df.TAMAX1H, order=(2,3))\n",
        "results_ar1ma1X = model_a1ma1X.fit()\n",
        "results_ar1ma1X.summary()"
      ],
      "metadata": {
        "colab": {
          "base_uri": "https://localhost:8080/",
          "height": 504
        },
        "id": "8JpbfqKY9lC6",
        "outputId": "5f56e91a-9d45-448c-dc36-d8a82fe16ad5"
      },
      "execution_count": null,
      "outputs": [
        {
          "output_type": "execute_result",
          "data": {
            "text/html": [
              "<table class=\"simpletable\">\n",
              "<caption>ARMA Model Results</caption>\n",
              "<tr>\n",
              "  <th>Dep. Variable:</th>    <td>SRGLOAVG1H</td>    <th>  No. Observations:  </th>    <td>7008</td>   \n",
              "</tr>\n",
              "<tr>\n",
              "  <th>Model:</th>            <td>ARMA(2, 3)</td>    <th>  Log Likelihood     </th> <td>-42018.904</td>\n",
              "</tr>\n",
              "<tr>\n",
              "  <th>Method:</th>             <td>css-mle</td>     <th>  S.D. of innovations</th>   <td>97.206</td>  \n",
              "</tr>\n",
              "<tr>\n",
              "  <th>Date:</th>          <td>Mon, 20 Dec 2021</td> <th>  AIC                </th>  <td>84053.808</td>\n",
              "</tr>\n",
              "<tr>\n",
              "  <th>Time:</th>              <td>19:35:46</td>     <th>  BIC                </th>  <td>84108.647</td>\n",
              "</tr>\n",
              "<tr>\n",
              "  <th>Sample:</th>           <td>01-01-2015</td>    <th>  HQIC               </th>  <td>84072.704</td>\n",
              "</tr>\n",
              "<tr>\n",
              "  <th></th>                 <td>- 10-20-2015</td>   <th>                     </th>      <td> </td>    \n",
              "</tr>\n",
              "</table>\n",
              "<table class=\"simpletable\">\n",
              "<tr>\n",
              "          <td></td>            <th>coef</th>     <th>std err</th>      <th>z</th>      <th>P>|z|</th>  <th>[0.025</th>    <th>0.975]</th>  \n",
              "</tr>\n",
              "<tr>\n",
              "  <th>const</th>            <td> -572.1880</td> <td>   13.892</td> <td>  -41.189</td> <td> 0.000</td> <td> -599.415</td> <td> -544.961</td>\n",
              "</tr>\n",
              "<tr>\n",
              "  <th>TAMAX1H</th>          <td>   55.1352</td> <td>    0.990</td> <td>   55.689</td> <td> 0.000</td> <td>   53.195</td> <td>   57.076</td>\n",
              "</tr>\n",
              "<tr>\n",
              "  <th>ar.L1.SRGLOAVG1H</th> <td>    1.6343</td> <td>    0.030</td> <td>   55.333</td> <td> 0.000</td> <td>    1.576</td> <td>    1.692</td>\n",
              "</tr>\n",
              "<tr>\n",
              "  <th>ar.L2.SRGLOAVG1H</th> <td>   -0.7186</td> <td>    0.022</td> <td>  -32.178</td> <td> 0.000</td> <td>   -0.762</td> <td>   -0.675</td>\n",
              "</tr>\n",
              "<tr>\n",
              "  <th>ma.L1.SRGLOAVG1H</th> <td>   -0.8163</td> <td>    0.032</td> <td>  -25.501</td> <td> 0.000</td> <td>   -0.879</td> <td>   -0.754</td>\n",
              "</tr>\n",
              "<tr>\n",
              "  <th>ma.L2.SRGLOAVG1H</th> <td>    0.0435</td> <td>    0.016</td> <td>    2.639</td> <td> 0.008</td> <td>    0.011</td> <td>    0.076</td>\n",
              "</tr>\n",
              "<tr>\n",
              "  <th>ma.L3.SRGLOAVG1H</th> <td>    0.0597</td> <td>    0.015</td> <td>    4.098</td> <td> 0.000</td> <td>    0.031</td> <td>    0.088</td>\n",
              "</tr>\n",
              "</table>\n",
              "<table class=\"simpletable\">\n",
              "<caption>Roots</caption>\n",
              "<tr>\n",
              "    <td></td>   <th>            Real</th>  <th>         Imaginary</th> <th>         Modulus</th>  <th>        Frequency</th>\n",
              "</tr>\n",
              "<tr>\n",
              "  <th>AR.1</th> <td>           1.1371</td> <td>          -0.3140j</td> <td>           1.1796</td> <td>          -0.0429</td>\n",
              "</tr>\n",
              "<tr>\n",
              "  <th>AR.2</th> <td>           1.1371</td> <td>          +0.3140j</td> <td>           1.1796</td> <td>           0.0429</td>\n",
              "</tr>\n",
              "<tr>\n",
              "  <th>MA.1</th> <td>           1.9090</td> <td>          -0.2001j</td> <td>           1.9195</td> <td>          -0.0166</td>\n",
              "</tr>\n",
              "<tr>\n",
              "  <th>MA.2</th> <td>           1.9090</td> <td>          +0.2001j</td> <td>           1.9195</td> <td>           0.0166</td>\n",
              "</tr>\n",
              "<tr>\n",
              "  <th>MA.3</th> <td>          -4.5468</td> <td>          -0.0000j</td> <td>           4.5468</td> <td>          -0.5000</td>\n",
              "</tr>\n",
              "</table>"
            ],
            "text/plain": [
              "<class 'statsmodels.iolib.summary.Summary'>\n",
              "\"\"\"\n",
              "                              ARMA Model Results                              \n",
              "==============================================================================\n",
              "Dep. Variable:             SRGLOAVG1H   No. Observations:                 7008\n",
              "Model:                     ARMA(2, 3)   Log Likelihood              -42018.904\n",
              "Method:                       css-mle   S.D. of innovations             97.206\n",
              "Date:                Mon, 20 Dec 2021   AIC                          84053.808\n",
              "Time:                        19:35:46   BIC                          84108.647\n",
              "Sample:                    01-01-2015   HQIC                         84072.704\n",
              "                         - 10-20-2015                                         \n",
              "====================================================================================\n",
              "                       coef    std err          z      P>|z|      [0.025      0.975]\n",
              "------------------------------------------------------------------------------------\n",
              "const             -572.1880     13.892    -41.189      0.000    -599.415    -544.961\n",
              "TAMAX1H             55.1352      0.990     55.689      0.000      53.195      57.076\n",
              "ar.L1.SRGLOAVG1H     1.6343      0.030     55.333      0.000       1.576       1.692\n",
              "ar.L2.SRGLOAVG1H    -0.7186      0.022    -32.178      0.000      -0.762      -0.675\n",
              "ma.L1.SRGLOAVG1H    -0.8163      0.032    -25.501      0.000      -0.879      -0.754\n",
              "ma.L2.SRGLOAVG1H     0.0435      0.016      2.639      0.008       0.011       0.076\n",
              "ma.L3.SRGLOAVG1H     0.0597      0.015      4.098      0.000       0.031       0.088\n",
              "                                    Roots                                    \n",
              "=============================================================================\n",
              "                  Real          Imaginary           Modulus         Frequency\n",
              "-----------------------------------------------------------------------------\n",
              "AR.1            1.1371           -0.3140j            1.1796           -0.0429\n",
              "AR.2            1.1371           +0.3140j            1.1796            0.0429\n",
              "MA.1            1.9090           -0.2001j            1.9195           -0.0166\n",
              "MA.2            1.9090           +0.2001j            1.9195            0.0166\n",
              "MA.3           -4.5468           -0.0000j            4.5468           -0.5000\n",
              "-----------------------------------------------------------------------------\n",
              "\"\"\""
            ]
          },
          "metadata": {},
          "execution_count": 48
        }
      ]
    },
    {
      "cell_type": "code",
      "source": [
        "start = df.shape[0]"
      ],
      "metadata": {
        "id": "7RdQXnlKMWiT"
      },
      "execution_count": null,
      "outputs": []
    },
    {
      "cell_type": "code",
      "source": [
        "start"
      ],
      "metadata": {
        "colab": {
          "base_uri": "https://localhost:8080/"
        },
        "id": "qHI3_LV8MZqO",
        "outputId": "f2a9186b-d9d4-49fe-fe6a-2612851881b8"
      },
      "execution_count": null,
      "outputs": [
        {
          "output_type": "execute_result",
          "data": {
            "text/plain": [
              "7008"
            ]
          },
          "metadata": {},
          "execution_count": 17
        }
      ]
    },
    {
      "cell_type": "code",
      "source": [
        "df_test = pd.read_csv('./drive/MyDrive/DatosInvestigacion/final_test_2015.csv', index_col=0, parse_dates=True)"
      ],
      "metadata": {
        "id": "_ZuMtBFKTBnz"
      },
      "execution_count": null,
      "outputs": []
    },
    {
      "cell_type": "code",
      "source": [
        "df_test.head()"
      ],
      "metadata": {
        "colab": {
          "base_uri": "https://localhost:8080/",
          "height": 388
        },
        "id": "Rn8uSn4zTFeE",
        "outputId": "1c9cb4f4-4d00-4974-8b12-f9f52b6b1922"
      },
      "execution_count": null,
      "outputs": [
        {
          "output_type": "execute_result",
          "data": {
            "text/html": [
              "\n",
              "  <div id=\"df-22f4d5ca-be1c-4cf7-8826-33119254a2e4\">\n",
              "    <div class=\"colab-df-container\">\n",
              "      <div>\n",
              "<style scoped>\n",
              "    .dataframe tbody tr th:only-of-type {\n",
              "        vertical-align: middle;\n",
              "    }\n",
              "\n",
              "    .dataframe tbody tr th {\n",
              "        vertical-align: top;\n",
              "    }\n",
              "\n",
              "    .dataframe thead th {\n",
              "        text-align: right;\n",
              "    }\n",
              "</style>\n",
              "<table border=\"1\" class=\"dataframe\">\n",
              "  <thead>\n",
              "    <tr style=\"text-align: right;\">\n",
              "      <th></th>\n",
              "      <th>DC</th>\n",
              "      <th>PAAVG1H</th>\n",
              "      <th>PAMAX1H</th>\n",
              "      <th>PAMIN1H</th>\n",
              "      <th>PRSUM1H</th>\n",
              "      <th>RHAVG1H</th>\n",
              "      <th>RHMAX1H</th>\n",
              "      <th>RHMIN1H</th>\n",
              "      <th>SRDIFAVG1H</th>\n",
              "      <th>SRDIFMAX1H</th>\n",
              "      <th>SRDIFMIN1H</th>\n",
              "      <th>SRDIFSUM1H</th>\n",
              "      <th>SRGLOAVG1H</th>\n",
              "      <th>SRGLOMAX1H</th>\n",
              "      <th>SRGLOMIN1H</th>\n",
              "      <th>SRGLOSUM1H</th>\n",
              "      <th>TAAVG1H</th>\n",
              "      <th>TAMAX1H</th>\n",
              "      <th>TAMIN1H</th>\n",
              "      <th>TS1AVG1H</th>\n",
              "      <th>TS1MAX1H</th>\n",
              "      <th>TS1MIN1H</th>\n",
              "      <th>TS2AVG1H</th>\n",
              "      <th>TS2MAX1H</th>\n",
              "      <th>TS2MIN1H</th>\n",
              "      <th>TS3AVG1H</th>\n",
              "      <th>TS3MAX1H</th>\n",
              "      <th>TS3MIN1H</th>\n",
              "      <th>TS4AVG1H</th>\n",
              "      <th>TS4MAX1H</th>\n",
              "      <th>TS4MIN1H</th>\n",
              "      <th>TS5AVG1H</th>\n",
              "      <th>TS5MAX1H</th>\n",
              "      <th>TS5MIN1H</th>\n",
              "      <th>TS6AVG1H</th>\n",
              "      <th>TS6MAX1H</th>\n",
              "      <th>TS6MIN1H</th>\n",
              "      <th>TS7AVG1H</th>\n",
              "      <th>TS7MAX1H</th>\n",
              "      <th>TS7MIN1H</th>\n",
              "      <th>WD1HA</th>\n",
              "      <th>WD1HX</th>\n",
              "      <th>WDGM</th>\n",
              "      <th>WGD1HX</th>\n",
              "      <th>WGDH</th>\n",
              "      <th>WR1H</th>\n",
              "      <th>WS1HA</th>\n",
              "      <th>WS1HM</th>\n",
              "      <th>WS1HX</th>\n",
              "    </tr>\n",
              "    <tr>\n",
              "      <th>Local_Time</th>\n",
              "      <th></th>\n",
              "      <th></th>\n",
              "      <th></th>\n",
              "      <th></th>\n",
              "      <th></th>\n",
              "      <th></th>\n",
              "      <th></th>\n",
              "      <th></th>\n",
              "      <th></th>\n",
              "      <th></th>\n",
              "      <th></th>\n",
              "      <th></th>\n",
              "      <th></th>\n",
              "      <th></th>\n",
              "      <th></th>\n",
              "      <th></th>\n",
              "      <th></th>\n",
              "      <th></th>\n",
              "      <th></th>\n",
              "      <th></th>\n",
              "      <th></th>\n",
              "      <th></th>\n",
              "      <th></th>\n",
              "      <th></th>\n",
              "      <th></th>\n",
              "      <th></th>\n",
              "      <th></th>\n",
              "      <th></th>\n",
              "      <th></th>\n",
              "      <th></th>\n",
              "      <th></th>\n",
              "      <th></th>\n",
              "      <th></th>\n",
              "      <th></th>\n",
              "      <th></th>\n",
              "      <th></th>\n",
              "      <th></th>\n",
              "      <th></th>\n",
              "      <th></th>\n",
              "      <th></th>\n",
              "      <th></th>\n",
              "      <th></th>\n",
              "      <th></th>\n",
              "      <th></th>\n",
              "      <th></th>\n",
              "      <th></th>\n",
              "      <th></th>\n",
              "      <th></th>\n",
              "      <th></th>\n",
              "    </tr>\n",
              "  </thead>\n",
              "  <tbody>\n",
              "    <tr>\n",
              "      <th>2015-10-20 01:00:00</th>\n",
              "      <td>13.1</td>\n",
              "      <td>744.9</td>\n",
              "      <td>745.3</td>\n",
              "      <td>744.5</td>\n",
              "      <td>0.0</td>\n",
              "      <td>94</td>\n",
              "      <td>96</td>\n",
              "      <td>90</td>\n",
              "      <td>0.0</td>\n",
              "      <td>0.0</td>\n",
              "      <td>0.0</td>\n",
              "      <td>0.0</td>\n",
              "      <td>0.0</td>\n",
              "      <td>0.0</td>\n",
              "      <td>0.0</td>\n",
              "      <td>0.0</td>\n",
              "      <td>9.2</td>\n",
              "      <td>10.0</td>\n",
              "      <td>8.3</td>\n",
              "      <td>9.1</td>\n",
              "      <td>9.7</td>\n",
              "      <td>8.7</td>\n",
              "      <td>10.8</td>\n",
              "      <td>11.2</td>\n",
              "      <td>10.4</td>\n",
              "      <td>13.5</td>\n",
              "      <td>13.6</td>\n",
              "      <td>13.4</td>\n",
              "      <td>13.7</td>\n",
              "      <td>13.8</td>\n",
              "      <td>13.7</td>\n",
              "      <td>13.9</td>\n",
              "      <td>14</td>\n",
              "      <td>13.8</td>\n",
              "      <td>13.7</td>\n",
              "      <td>13.7</td>\n",
              "      <td>13.7</td>\n",
              "      <td>13.7</td>\n",
              "      <td>13.7</td>\n",
              "      <td>13.7</td>\n",
              "      <td>50</td>\n",
              "      <td>95</td>\n",
              "      <td>56</td>\n",
              "      <td>73.0</td>\n",
              "      <td>0.0</td>\n",
              "      <td>36.0</td>\n",
              "      <td>2.5</td>\n",
              "      <td>0.9</td>\n",
              "      <td>3.8</td>\n",
              "    </tr>\n",
              "    <tr>\n",
              "      <th>2015-10-20 02:00:00</th>\n",
              "      <td>13.1</td>\n",
              "      <td>744.3</td>\n",
              "      <td>744.5</td>\n",
              "      <td>744.0</td>\n",
              "      <td>0.0</td>\n",
              "      <td>94</td>\n",
              "      <td>95</td>\n",
              "      <td>90</td>\n",
              "      <td>0.0</td>\n",
              "      <td>0.0</td>\n",
              "      <td>0.0</td>\n",
              "      <td>0.0</td>\n",
              "      <td>0.0</td>\n",
              "      <td>0.0</td>\n",
              "      <td>0.0</td>\n",
              "      <td>0.0</td>\n",
              "      <td>9.3</td>\n",
              "      <td>10.0</td>\n",
              "      <td>9.1</td>\n",
              "      <td>10.1</td>\n",
              "      <td>10.5</td>\n",
              "      <td>9.7</td>\n",
              "      <td>11.6</td>\n",
              "      <td>12</td>\n",
              "      <td>11.2</td>\n",
              "      <td>13.4</td>\n",
              "      <td>13.4</td>\n",
              "      <td>13.4</td>\n",
              "      <td>13.6</td>\n",
              "      <td>13.7</td>\n",
              "      <td>13.5</td>\n",
              "      <td>13.7</td>\n",
              "      <td>13.8</td>\n",
              "      <td>13.6</td>\n",
              "      <td>13.7</td>\n",
              "      <td>13.7</td>\n",
              "      <td>13.7</td>\n",
              "      <td>13.7</td>\n",
              "      <td>13.7</td>\n",
              "      <td>13.7</td>\n",
              "      <td>35</td>\n",
              "      <td>164</td>\n",
              "      <td>21</td>\n",
              "      <td>37.0</td>\n",
              "      <td>1.0</td>\n",
              "      <td>42.0</td>\n",
              "      <td>2.8</td>\n",
              "      <td>0.0</td>\n",
              "      <td>4.8</td>\n",
              "    </tr>\n",
              "    <tr>\n",
              "      <th>2015-10-20 03:00:00</th>\n",
              "      <td>13.0</td>\n",
              "      <td>744.2</td>\n",
              "      <td>744.3</td>\n",
              "      <td>744.1</td>\n",
              "      <td>0.0</td>\n",
              "      <td>92</td>\n",
              "      <td>94</td>\n",
              "      <td>91</td>\n",
              "      <td>0.0</td>\n",
              "      <td>0.0</td>\n",
              "      <td>0.0</td>\n",
              "      <td>0.0</td>\n",
              "      <td>0.0</td>\n",
              "      <td>0.0</td>\n",
              "      <td>0.0</td>\n",
              "      <td>0.0</td>\n",
              "      <td>9.9</td>\n",
              "      <td>10.3</td>\n",
              "      <td>9.4</td>\n",
              "      <td>10.8</td>\n",
              "      <td>11.1</td>\n",
              "      <td>10.5</td>\n",
              "      <td>12.2</td>\n",
              "      <td>12.4</td>\n",
              "      <td>12</td>\n",
              "      <td>13.4</td>\n",
              "      <td>13.4</td>\n",
              "      <td>13.3</td>\n",
              "      <td>13.4</td>\n",
              "      <td>13.5</td>\n",
              "      <td>13.3</td>\n",
              "      <td>13.5</td>\n",
              "      <td>13.6</td>\n",
              "      <td>13.5</td>\n",
              "      <td>13.7</td>\n",
              "      <td>13.8</td>\n",
              "      <td>13.7</td>\n",
              "      <td>13.7</td>\n",
              "      <td>13.7</td>\n",
              "      <td>13.7</td>\n",
              "      <td>38</td>\n",
              "      <td>70</td>\n",
              "      <td>20</td>\n",
              "      <td>34.0</td>\n",
              "      <td>2.0</td>\n",
              "      <td>39.0</td>\n",
              "      <td>2.7</td>\n",
              "      <td>1.1</td>\n",
              "      <td>4.0</td>\n",
              "    </tr>\n",
              "    <tr>\n",
              "      <th>2015-10-20 04:00:00</th>\n",
              "      <td>13.0</td>\n",
              "      <td>744.2</td>\n",
              "      <td>744.3</td>\n",
              "      <td>744.1</td>\n",
              "      <td>0.0</td>\n",
              "      <td>91</td>\n",
              "      <td>93</td>\n",
              "      <td>88</td>\n",
              "      <td>0.0</td>\n",
              "      <td>0.0</td>\n",
              "      <td>0.0</td>\n",
              "      <td>0.0</td>\n",
              "      <td>0.0</td>\n",
              "      <td>0.0</td>\n",
              "      <td>0.0</td>\n",
              "      <td>0.0</td>\n",
              "      <td>10.5</td>\n",
              "      <td>10.8</td>\n",
              "      <td>10.2</td>\n",
              "      <td>11.4</td>\n",
              "      <td>11.6</td>\n",
              "      <td>11.1</td>\n",
              "      <td>12.5</td>\n",
              "      <td>12.7</td>\n",
              "      <td>12.4</td>\n",
              "      <td>13.3</td>\n",
              "      <td>13.3</td>\n",
              "      <td>13.3</td>\n",
              "      <td>13.3</td>\n",
              "      <td>13.3</td>\n",
              "      <td>13.2</td>\n",
              "      <td>13.4</td>\n",
              "      <td>13.5</td>\n",
              "      <td>13.3</td>\n",
              "      <td>13.8</td>\n",
              "      <td>13.8</td>\n",
              "      <td>13.8</td>\n",
              "      <td>13.7</td>\n",
              "      <td>13.7</td>\n",
              "      <td>13.7</td>\n",
              "      <td>51</td>\n",
              "      <td>90</td>\n",
              "      <td>26</td>\n",
              "      <td>58.0</td>\n",
              "      <td>3.0</td>\n",
              "      <td>31.0</td>\n",
              "      <td>2.1</td>\n",
              "      <td>0.0</td>\n",
              "      <td>3.7</td>\n",
              "    </tr>\n",
              "    <tr>\n",
              "      <th>2015-10-20 05:00:00</th>\n",
              "      <td>13.0</td>\n",
              "      <td>744.3</td>\n",
              "      <td>744.4</td>\n",
              "      <td>744.1</td>\n",
              "      <td>0.0</td>\n",
              "      <td>90</td>\n",
              "      <td>95</td>\n",
              "      <td>87</td>\n",
              "      <td>0.0</td>\n",
              "      <td>0.0</td>\n",
              "      <td>0.0</td>\n",
              "      <td>0.0</td>\n",
              "      <td>0.0</td>\n",
              "      <td>0.0</td>\n",
              "      <td>0.0</td>\n",
              "      <td>0.0</td>\n",
              "      <td>10.6</td>\n",
              "      <td>11.1</td>\n",
              "      <td>10.1</td>\n",
              "      <td>11.7</td>\n",
              "      <td>11.7</td>\n",
              "      <td>11.6</td>\n",
              "      <td>12.7</td>\n",
              "      <td>12.7</td>\n",
              "      <td>12.7</td>\n",
              "      <td>13.2</td>\n",
              "      <td>13.3</td>\n",
              "      <td>13.2</td>\n",
              "      <td>13.1</td>\n",
              "      <td>13.2</td>\n",
              "      <td>13.1</td>\n",
              "      <td>13.3</td>\n",
              "      <td>13.3</td>\n",
              "      <td>13.2</td>\n",
              "      <td>13.8</td>\n",
              "      <td>13.8</td>\n",
              "      <td>13.8</td>\n",
              "      <td>13.7</td>\n",
              "      <td>13.7</td>\n",
              "      <td>13.7</td>\n",
              "      <td>56</td>\n",
              "      <td>108</td>\n",
              "      <td>39</td>\n",
              "      <td>73.0</td>\n",
              "      <td>4.0</td>\n",
              "      <td>27.0</td>\n",
              "      <td>1.8</td>\n",
              "      <td>0.6</td>\n",
              "      <td>3.1</td>\n",
              "    </tr>\n",
              "  </tbody>\n",
              "</table>\n",
              "</div>\n",
              "      <button class=\"colab-df-convert\" onclick=\"convertToInteractive('df-22f4d5ca-be1c-4cf7-8826-33119254a2e4')\"\n",
              "              title=\"Convert this dataframe to an interactive table.\"\n",
              "              style=\"display:none;\">\n",
              "        \n",
              "  <svg xmlns=\"http://www.w3.org/2000/svg\" height=\"24px\"viewBox=\"0 0 24 24\"\n",
              "       width=\"24px\">\n",
              "    <path d=\"M0 0h24v24H0V0z\" fill=\"none\"/>\n",
              "    <path d=\"M18.56 5.44l.94 2.06.94-2.06 2.06-.94-2.06-.94-.94-2.06-.94 2.06-2.06.94zm-11 1L8.5 8.5l.94-2.06 2.06-.94-2.06-.94L8.5 2.5l-.94 2.06-2.06.94zm10 10l.94 2.06.94-2.06 2.06-.94-2.06-.94-.94-2.06-.94 2.06-2.06.94z\"/><path d=\"M17.41 7.96l-1.37-1.37c-.4-.4-.92-.59-1.43-.59-.52 0-1.04.2-1.43.59L10.3 9.45l-7.72 7.72c-.78.78-.78 2.05 0 2.83L4 21.41c.39.39.9.59 1.41.59.51 0 1.02-.2 1.41-.59l7.78-7.78 2.81-2.81c.8-.78.8-2.07 0-2.86zM5.41 20L4 18.59l7.72-7.72 1.47 1.35L5.41 20z\"/>\n",
              "  </svg>\n",
              "      </button>\n",
              "      \n",
              "  <style>\n",
              "    .colab-df-container {\n",
              "      display:flex;\n",
              "      flex-wrap:wrap;\n",
              "      gap: 12px;\n",
              "    }\n",
              "\n",
              "    .colab-df-convert {\n",
              "      background-color: #E8F0FE;\n",
              "      border: none;\n",
              "      border-radius: 50%;\n",
              "      cursor: pointer;\n",
              "      display: none;\n",
              "      fill: #1967D2;\n",
              "      height: 32px;\n",
              "      padding: 0 0 0 0;\n",
              "      width: 32px;\n",
              "    }\n",
              "\n",
              "    .colab-df-convert:hover {\n",
              "      background-color: #E2EBFA;\n",
              "      box-shadow: 0px 1px 2px rgba(60, 64, 67, 0.3), 0px 1px 3px 1px rgba(60, 64, 67, 0.15);\n",
              "      fill: #174EA6;\n",
              "    }\n",
              "\n",
              "    [theme=dark] .colab-df-convert {\n",
              "      background-color: #3B4455;\n",
              "      fill: #D2E3FC;\n",
              "    }\n",
              "\n",
              "    [theme=dark] .colab-df-convert:hover {\n",
              "      background-color: #434B5C;\n",
              "      box-shadow: 0px 1px 3px 1px rgba(0, 0, 0, 0.15);\n",
              "      filter: drop-shadow(0px 1px 2px rgba(0, 0, 0, 0.3));\n",
              "      fill: #FFFFFF;\n",
              "    }\n",
              "  </style>\n",
              "\n",
              "      <script>\n",
              "        const buttonEl =\n",
              "          document.querySelector('#df-22f4d5ca-be1c-4cf7-8826-33119254a2e4 button.colab-df-convert');\n",
              "        buttonEl.style.display =\n",
              "          google.colab.kernel.accessAllowed ? 'block' : 'none';\n",
              "\n",
              "        async function convertToInteractive(key) {\n",
              "          const element = document.querySelector('#df-22f4d5ca-be1c-4cf7-8826-33119254a2e4');\n",
              "          const dataTable =\n",
              "            await google.colab.kernel.invokeFunction('convertToInteractive',\n",
              "                                                     [key], {});\n",
              "          if (!dataTable) return;\n",
              "\n",
              "          const docLinkHtml = 'Like what you see? Visit the ' +\n",
              "            '<a target=\"_blank\" href=https://colab.research.google.com/notebooks/data_table.ipynb>data table notebook</a>'\n",
              "            + ' to learn more about interactive tables.';\n",
              "          element.innerHTML = '';\n",
              "          dataTable['output_type'] = 'display_data';\n",
              "          await google.colab.output.renderOutput(dataTable, element);\n",
              "          const docLink = document.createElement('div');\n",
              "          docLink.innerHTML = docLinkHtml;\n",
              "          element.appendChild(docLink);\n",
              "        }\n",
              "      </script>\n",
              "    </div>\n",
              "  </div>\n",
              "  "
            ],
            "text/plain": [
              "                       DC  PAAVG1H  PAMAX1H  PAMIN1H  ...  WR1H  WS1HA  WS1HM  WS1HX\n",
              "Local_Time                                            ...                           \n",
              "2015-10-20 01:00:00  13.1    744.9    745.3    744.5  ...  36.0    2.5    0.9    3.8\n",
              "2015-10-20 02:00:00  13.1    744.3    744.5    744.0  ...  42.0    2.8    0.0    4.8\n",
              "2015-10-20 03:00:00  13.0    744.2    744.3    744.1  ...  39.0    2.7    1.1    4.0\n",
              "2015-10-20 04:00:00  13.0    744.2    744.3    744.1  ...  31.0    2.1    0.0    3.7\n",
              "2015-10-20 05:00:00  13.0    744.3    744.4    744.1  ...  27.0    1.8    0.6    3.1\n",
              "\n",
              "[5 rows x 49 columns]"
            ]
          },
          "metadata": {},
          "execution_count": 21
        }
      ]
    },
    {
      "cell_type": "code",
      "source": [
        "results_ar1ma1X.k_ar"
      ],
      "metadata": {
        "colab": {
          "base_uri": "https://localhost:8080/"
        },
        "id": "cLjAREo7Wdvb",
        "outputId": "abf68b03-32fa-4d10-de61-42aa064705b4"
      },
      "execution_count": null,
      "outputs": [
        {
          "output_type": "execute_result",
          "data": {
            "text/plain": [
              "2"
            ]
          },
          "metadata": {},
          "execution_count": 51
        }
      ]
    },
    {
      "cell_type": "markdown",
      "source": [
        " If the model is an ARMAX and out-of-sample forecasting is\n",
        "requested, exog must be given. Note that you'll need to pass\n",
        "k_ar additional lags for any exogenous variables. E.g., if you\n",
        "fit an ARMAX(2, q) model and want to predict 5 steps, you need 7\n",
        "observations to do this."
      ],
      "metadata": {
        "id": "cm5hUt5nW2SL"
      }
    },
    {
      "cell_type": "code",
      "source": [
        "df_pred = results_ar1ma1X.predict(start,start+100,exog=df_test['TAMAX1H'])"
      ],
      "metadata": {
        "id": "DD-hwfSY9sIG"
      },
      "execution_count": null,
      "outputs": []
    },
    {
      "cell_type": "code",
      "source": [
        "df_show_pred = df_pred.between_time('07:00:00','18:00:00')\n",
        "df_show_test = df_test.between_time('07:00:00','18:00:00')"
      ],
      "metadata": {
        "id": "aVU6UH--Uo8b"
      },
      "execution_count": null,
      "outputs": []
    },
    {
      "cell_type": "code",
      "source": [
        "df_show_pred.plot(figsize = (20,5), color = \"red\")\n",
        "df_show_test.iloc[:50]['SRGLOAVG1H'].plot(color = \"blue\")"
      ],
      "metadata": {
        "colab": {
          "base_uri": "https://localhost:8080/",
          "height": 331
        },
        "id": "nPTk6j1IMc09",
        "outputId": "18d9879a-243f-4e37-8d37-6ec1f6bafb4e"
      },
      "execution_count": null,
      "outputs": [
        {
          "output_type": "execute_result",
          "data": {
            "text/plain": [
              "<matplotlib.axes._subplots.AxesSubplot at 0x7fa78ed49190>"
            ]
          },
          "metadata": {},
          "execution_count": 66
        },
        {
          "output_type": "display_data",
          "data": {
            "image/png": "[encoded data removed]",
            "text/plain": [
              "<Figure size 1440x360 with 1 Axes>"
            ]
          },
          "metadata": {
            "needs_background": "light"
          }
        }
      ]
    },
    {
      "cell_type": "code",
      "source": [
        ""
      ],
      "metadata": {
        "id": "ch7fijY2UgJO"
      },
      "execution_count": null,
      "outputs": []
    }
  ]
}