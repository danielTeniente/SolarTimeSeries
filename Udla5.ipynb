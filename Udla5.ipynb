{
  "nbformat": 4,
  "nbformat_minor": 0,
  "metadata": {
    "colab": {
      "name": "Udla5.ipynb",
      "provenance": [],
      "collapsed_sections": []
    },
    "kernelspec": {
      "name": "python3",
      "display_name": "Python 3"
    },
    "language_info": {
      "name": "python"
    }
  },
  "cells": [
    {
      "cell_type": "markdown",
      "metadata": {
        "id": "VgcOe-5iH7Wo"
      },
      "source": [
        "# Modelos predictivos"
      ]
    },
    {
      "cell_type": "code",
      "metadata": {
        "id": "m_iiOBRKF3gX"
      },
      "source": [
        "import pandas as pd\n",
        "import numpy as np\n",
        "import matplotlib.pyplot as plt"
      ],
      "execution_count": null,
      "outputs": []
    },
    {
      "cell_type": "code",
      "metadata": {
        "id": "e1OPgq2jH61x"
      },
      "source": [
        "df2015 = pd.read_csv('./drive/MyDrive/DatosInvestigacion/NoNull2015.csv', index_col=0, parse_dates=True)"
      ],
      "execution_count": null,
      "outputs": []
    },
    {
      "cell_type": "code",
      "metadata": {
        "id": "QcmUhynyK_Uu"
      },
      "source": [
        "df2015 = df2015.asfreq('h')"
      ],
      "execution_count": null,
      "outputs": []
    },
    {
      "cell_type": "markdown",
      "metadata": {
        "id": "DlTBnno7IK13"
      },
      "source": [
        "Se obtiene la variable que se quiere predecir."
      ]
    },
    {
      "cell_type": "code",
      "metadata": {
        "id": "5NzPksR9IFYx"
      },
      "source": [
        "df = pd.DataFrame()\n",
        "df['RSG'] = df2015['SRGLOAVG1H']"
      ],
      "execution_count": null,
      "outputs": []
    },
    {
      "cell_type": "markdown",
      "metadata": {
        "id": "T7Xb2D3xIPmX"
      },
      "source": [
        "## Modelo Aturregresivo AR"
      ]
    },
    {
      "cell_type": "markdown",
      "source": [
        "1 retraso"
      ],
      "metadata": {
        "id": "_ybgLRq9d8TU"
      }
    },
    {
      "cell_type": "markdown",
      "source": [
        "$x_{t}=c+ϕ_{1} x_{t-1}+ϵ_{t}$\n"
      ],
      "metadata": {
        "id": "FmuKVpAFdS6M"
      }
    },
    {
      "cell_type": "markdown",
      "source": [
        "$| ϕ_{1} | < 1$"
      ],
      "metadata": {
        "id": "a2eELwQ7eJf2"
      }
    },
    {
      "cell_type": "code",
      "metadata": {
        "id": "fH7jKQ1AIKG0"
      },
      "source": [
        "from statsmodels.tsa.arima_model import ARMA"
      ],
      "execution_count": null,
      "outputs": []
    },
    {
      "cell_type": "markdown",
      "metadata": {
        "id": "_SzKa9JbIttP"
      },
      "source": [
        "Se utilizará 1 retrasos, sin utilizar valores residuales.\n",
        "(1,0)"
      ]
    },
    {
      "cell_type": "code",
      "metadata": {
        "id": "miun8Y55N6-V"
      },
      "source": [
        "model_ar = ARMA(df['RSG'], order=(1,0))"
      ],
      "execution_count": null,
      "outputs": []
    },
    {
      "cell_type": "code",
      "metadata": {
        "id": "wyGe4H_TN8wJ"
      },
      "source": [
        "results_ar = model_ar.fit()"
      ],
      "execution_count": null,
      "outputs": []
    },
    {
      "cell_type": "code",
      "source": [
        "results_ar.summary()"
      ],
      "metadata": {
        "colab": {
          "base_uri": "https://localhost:8080/",
          "height": 313
        },
        "id": "5e9nQvC_Y4_b",
        "outputId": "5c550abc-08eb-4848-bfe1-abc5d085f4c4"
      },
      "execution_count": null,
      "outputs": [
        {
          "output_type": "execute_result",
          "data": {
            "text/html": [
              "<table class=\"simpletable\">\n",
              "<caption>ARMA Model Results</caption>\n",
              "<tr>\n",
              "  <th>Dep. Variable:</th>        <td>RSG</td>       <th>  No. Observations:  </th>    <td>8760</td>   \n",
              "</tr>\n",
              "<tr>\n",
              "  <th>Model:</th>            <td>ARMA(1, 0)</td>    <th>  Log Likelihood     </th> <td>-54748.730</td>\n",
              "</tr>\n",
              "<tr>\n",
              "  <th>Method:</th>             <td>css-mle</td>     <th>  S.D. of innovations</th>   <td>125.316</td> \n",
              "</tr>\n",
              "<tr>\n",
              "  <th>Date:</th>          <td>Wed, 08 Dec 2021</td> <th>  AIC                </th> <td>109503.461</td>\n",
              "</tr>\n",
              "<tr>\n",
              "  <th>Time:</th>              <td>14:24:01</td>     <th>  BIC                </th> <td>109524.694</td>\n",
              "</tr>\n",
              "<tr>\n",
              "  <th>Sample:</th>           <td>01-01-2015</td>    <th>  HQIC               </th> <td>109510.696</td>\n",
              "</tr>\n",
              "<tr>\n",
              "  <th></th>                 <td>- 01-01-2016</td>   <th>                     </th>      <td> </td>    \n",
              "</tr>\n",
              "</table>\n",
              "<table class=\"simpletable\">\n",
              "<tr>\n",
              "      <td></td>         <th>coef</th>     <th>std err</th>      <th>z</th>      <th>P>|z|</th>  <th>[0.025</th>    <th>0.975]</th>  \n",
              "</tr>\n",
              "<tr>\n",
              "  <th>const</th>     <td>  172.0479</td> <td>    9.952</td> <td>   17.288</td> <td> 0.000</td> <td>  152.543</td> <td>  191.553</td>\n",
              "</tr>\n",
              "<tr>\n",
              "  <th>ar.L1.RSG</th> <td>    0.8656</td> <td>    0.005</td> <td>  161.846</td> <td> 0.000</td> <td>    0.855</td> <td>    0.876</td>\n",
              "</tr>\n",
              "</table>\n",
              "<table class=\"simpletable\">\n",
              "<caption>Roots</caption>\n",
              "<tr>\n",
              "    <td></td>   <th>            Real</th>  <th>         Imaginary</th> <th>         Modulus</th>  <th>        Frequency</th>\n",
              "</tr>\n",
              "<tr>\n",
              "  <th>AR.1</th> <td>           1.1553</td> <td>          +0.0000j</td> <td>           1.1553</td> <td>           0.0000</td>\n",
              "</tr>\n",
              "</table>"
            ],
            "text/plain": [
              "<class 'statsmodels.iolib.summary.Summary'>\n",
              "\"\"\"\n",
              "                              ARMA Model Results                              \n",
              "==============================================================================\n",
              "Dep. Variable:                    RSG   No. Observations:                 8760\n",
              "Model:                     ARMA(1, 0)   Log Likelihood              -54748.730\n",
              "Method:                       css-mle   S.D. of innovations            125.316\n",
              "Date:                Wed, 08 Dec 2021   AIC                         109503.461\n",
              "Time:                        14:24:01   BIC                         109524.694\n",
              "Sample:                    01-01-2015   HQIC                        109510.696\n",
              "                         - 01-01-2016                                         \n",
              "==============================================================================\n",
              "                 coef    std err          z      P>|z|      [0.025      0.975]\n",
              "------------------------------------------------------------------------------\n",
              "const        172.0479      9.952     17.288      0.000     152.543     191.553\n",
              "ar.L1.RSG      0.8656      0.005    161.846      0.000       0.855       0.876\n",
              "                                    Roots                                    \n",
              "=============================================================================\n",
              "                  Real          Imaginary           Modulus         Frequency\n",
              "-----------------------------------------------------------------------------\n",
              "AR.1            1.1553           +0.0000j            1.1553            0.0000\n",
              "-----------------------------------------------------------------------------\n",
              "\"\"\""
            ]
          },
          "metadata": {},
          "execution_count": 24
        }
      ]
    },
    {
      "cell_type": "markdown",
      "source": [
        "Hipótesis nula, el coeficiente es igual a 0."
      ],
      "metadata": {
        "id": "Doi5Pefoepqq"
      }
    },
    {
      "cell_type": "markdown",
      "source": [
        "El p-valor de los coeficientes es muy pequeño, así que el valor de estos es significativo."
      ],
      "metadata": {
        "id": "mmmf9jw7arIS"
      }
    },
    {
      "cell_type": "markdown",
      "source": [
        "### Modelo Autorregresivo para varios retrasos."
      ],
      "metadata": {
        "id": "UEEXQ7mpa7l6"
      }
    },
    {
      "cell_type": "markdown",
      "source": [
        "2 horas antes"
      ],
      "metadata": {
        "id": "Jm4KZJTDbEGq"
      }
    },
    {
      "cell_type": "code",
      "source": [
        "model_ar2 = ARMA(df['RSG'], order=(2,0))\n",
        "results_ar2 = model_ar2.fit()\n",
        "results_ar2.summary()"
      ],
      "metadata": {
        "colab": {
          "base_uri": "https://localhost:8080/",
          "height": 355
        },
        "id": "bt_MMfJaZCej",
        "outputId": "31a7a354-6d0f-475c-84f0-438d9ffe1763"
      },
      "execution_count": null,
      "outputs": [
        {
          "output_type": "execute_result",
          "data": {
            "text/html": [
              "<table class=\"simpletable\">\n",
              "<caption>ARMA Model Results</caption>\n",
              "<tr>\n",
              "  <th>Dep. Variable:</th>        <td>RSG</td>       <th>  No. Observations:  </th>    <td>8760</td>   \n",
              "</tr>\n",
              "<tr>\n",
              "  <th>Model:</th>            <td>ARMA(2, 0)</td>    <th>  Log Likelihood     </th> <td>-54443.865</td>\n",
              "</tr>\n",
              "<tr>\n",
              "  <th>Method:</th>             <td>css-mle</td>     <th>  S.D. of innovations</th>   <td>121.029</td> \n",
              "</tr>\n",
              "<tr>\n",
              "  <th>Date:</th>          <td>Wed, 08 Dec 2021</td> <th>  AIC                </th> <td>108895.730</td>\n",
              "</tr>\n",
              "<tr>\n",
              "  <th>Time:</th>              <td>14:22:57</td>     <th>  BIC                </th> <td>108924.042</td>\n",
              "</tr>\n",
              "<tr>\n",
              "  <th>Sample:</th>           <td>01-01-2015</td>    <th>  HQIC               </th> <td>108905.377</td>\n",
              "</tr>\n",
              "<tr>\n",
              "  <th></th>                 <td>- 01-01-2016</td>   <th>                     </th>      <td> </td>    \n",
              "</tr>\n",
              "</table>\n",
              "<table class=\"simpletable\">\n",
              "<tr>\n",
              "      <td></td>         <th>coef</th>     <th>std err</th>      <th>z</th>      <th>P>|z|</th>  <th>[0.025</th>    <th>0.975]</th>  \n",
              "</tr>\n",
              "<tr>\n",
              "  <th>const</th>     <td>  172.1339</td> <td>    7.636</td> <td>   22.542</td> <td> 0.000</td> <td>  157.168</td> <td>  187.100</td>\n",
              "</tr>\n",
              "<tr>\n",
              "  <th>ar.L1.RSG</th> <td>    1.0900</td> <td>    0.010</td> <td>  105.644</td> <td> 0.000</td> <td>    1.070</td> <td>    1.110</td>\n",
              "</tr>\n",
              "<tr>\n",
              "  <th>ar.L2.RSG</th> <td>   -0.2593</td> <td>    0.010</td> <td>  -25.129</td> <td> 0.000</td> <td>   -0.280</td> <td>   -0.239</td>\n",
              "</tr>\n",
              "</table>\n",
              "<table class=\"simpletable\">\n",
              "<caption>Roots</caption>\n",
              "<tr>\n",
              "    <td></td>   <th>            Real</th>  <th>         Imaginary</th> <th>         Modulus</th>  <th>        Frequency</th>\n",
              "</tr>\n",
              "<tr>\n",
              "  <th>AR.1</th> <td>           1.3527</td> <td>          +0.0000j</td> <td>           1.3527</td> <td>           0.0000</td>\n",
              "</tr>\n",
              "<tr>\n",
              "  <th>AR.2</th> <td>           2.8512</td> <td>          +0.0000j</td> <td>           2.8512</td> <td>           0.0000</td>\n",
              "</tr>\n",
              "</table>"
            ],
            "text/plain": [
              "<class 'statsmodels.iolib.summary.Summary'>\n",
              "\"\"\"\n",
              "                              ARMA Model Results                              \n",
              "==============================================================================\n",
              "Dep. Variable:                    RSG   No. Observations:                 8760\n",
              "Model:                     ARMA(2, 0)   Log Likelihood              -54443.865\n",
              "Method:                       css-mle   S.D. of innovations            121.029\n",
              "Date:                Wed, 08 Dec 2021   AIC                         108895.730\n",
              "Time:                        14:22:57   BIC                         108924.042\n",
              "Sample:                    01-01-2015   HQIC                        108905.377\n",
              "                         - 01-01-2016                                         \n",
              "==============================================================================\n",
              "                 coef    std err          z      P>|z|      [0.025      0.975]\n",
              "------------------------------------------------------------------------------\n",
              "const        172.1339      7.636     22.542      0.000     157.168     187.100\n",
              "ar.L1.RSG      1.0900      0.010    105.644      0.000       1.070       1.110\n",
              "ar.L2.RSG     -0.2593      0.010    -25.129      0.000      -0.280      -0.239\n",
              "                                    Roots                                    \n",
              "=============================================================================\n",
              "                  Real          Imaginary           Modulus         Frequency\n",
              "-----------------------------------------------------------------------------\n",
              "AR.1            1.3527           +0.0000j            1.3527            0.0000\n",
              "AR.2            2.8512           +0.0000j            2.8512            0.0000\n",
              "-----------------------------------------------------------------------------\n",
              "\"\"\""
            ]
          },
          "metadata": {},
          "execution_count": 19
        }
      ]
    },
    {
      "cell_type": "markdown",
      "source": [
        "Los p-valores de los coeficientes son 0, así que se puede tomar en cuenta 2 horas antes."
      ],
      "metadata": {
        "id": "c0w2Nh0nb7KJ"
      }
    },
    {
      "cell_type": "markdown",
      "source": [
        "3 horas de retraso"
      ],
      "metadata": {
        "id": "3Xy_pUTQbSjC"
      }
    },
    {
      "cell_type": "code",
      "source": [
        "model_ar3 = ARMA(df['RSG'], order=(3,0))\n",
        "results_ar3 = model_ar3.fit()\n",
        "results_ar3.summary()"
      ],
      "metadata": {
        "colab": {
          "base_uri": "https://localhost:8080/",
          "height": 398
        },
        "id": "UPacueCmbQd1",
        "outputId": "3f8dc1ca-f4ba-4c39-cce6-9e0edd932c99"
      },
      "execution_count": null,
      "outputs": [
        {
          "output_type": "execute_result",
          "data": {
            "text/html": [
              "<table class=\"simpletable\">\n",
              "<caption>ARMA Model Results</caption>\n",
              "<tr>\n",
              "  <th>Dep. Variable:</th>        <td>RSG</td>       <th>  No. Observations:  </th>    <td>8760</td>   \n",
              "</tr>\n",
              "<tr>\n",
              "  <th>Model:</th>            <td>ARMA(3, 0)</td>    <th>  Log Likelihood     </th> <td>-54336.993</td>\n",
              "</tr>\n",
              "<tr>\n",
              "  <th>Method:</th>             <td>css-mle</td>     <th>  S.D. of innovations</th>   <td>119.561</td> \n",
              "</tr>\n",
              "<tr>\n",
              "  <th>Date:</th>          <td>Wed, 08 Dec 2021</td> <th>  AIC                </th> <td>108683.987</td>\n",
              "</tr>\n",
              "<tr>\n",
              "  <th>Time:</th>              <td>14:23:50</td>     <th>  BIC                </th> <td>108719.377</td>\n",
              "</tr>\n",
              "<tr>\n",
              "  <th>Sample:</th>           <td>01-01-2015</td>    <th>  HQIC               </th> <td>108696.045</td>\n",
              "</tr>\n",
              "<tr>\n",
              "  <th></th>                 <td>- 01-01-2016</td>   <th>                     </th>      <td> </td>    \n",
              "</tr>\n",
              "</table>\n",
              "<table class=\"simpletable\">\n",
              "<tr>\n",
              "      <td></td>         <th>coef</th>     <th>std err</th>      <th>z</th>      <th>P>|z|</th>  <th>[0.025</th>    <th>0.975]</th>  \n",
              "</tr>\n",
              "<tr>\n",
              "  <th>const</th>     <td>  172.2012</td> <td>    6.531</td> <td>   26.367</td> <td> 0.000</td> <td>  159.401</td> <td>  185.002</td>\n",
              "</tr>\n",
              "<tr>\n",
              "  <th>ar.L1.RSG</th> <td>    1.0497</td> <td>    0.011</td> <td>   99.467</td> <td> 0.000</td> <td>    1.029</td> <td>    1.070</td>\n",
              "</tr>\n",
              "<tr>\n",
              "  <th>ar.L2.RSG</th> <td>   -0.0901</td> <td>    0.015</td> <td>   -5.859</td> <td> 0.000</td> <td>   -0.120</td> <td>   -0.060</td>\n",
              "</tr>\n",
              "<tr>\n",
              "  <th>ar.L3.RSG</th> <td>   -0.1552</td> <td>    0.011</td> <td>  -14.710</td> <td> 0.000</td> <td>   -0.176</td> <td>   -0.135</td>\n",
              "</tr>\n",
              "</table>\n",
              "<table class=\"simpletable\">\n",
              "<caption>Roots</caption>\n",
              "<tr>\n",
              "    <td></td>   <th>            Real</th>  <th>         Imaginary</th> <th>         Modulus</th>  <th>        Frequency</th>\n",
              "</tr>\n",
              "<tr>\n",
              "  <th>AR.1</th> <td>           1.3401</td> <td>          -0.4243j</td> <td>           1.4056</td> <td>          -0.0488</td>\n",
              "</tr>\n",
              "<tr>\n",
              "  <th>AR.2</th> <td>           1.3401</td> <td>          +0.4243j</td> <td>           1.4056</td> <td>           0.0488</td>\n",
              "</tr>\n",
              "<tr>\n",
              "  <th>AR.3</th> <td>          -3.2602</td> <td>          -0.0000j</td> <td>           3.2602</td> <td>          -0.5000</td>\n",
              "</tr>\n",
              "</table>"
            ],
            "text/plain": [
              "<class 'statsmodels.iolib.summary.Summary'>\n",
              "\"\"\"\n",
              "                              ARMA Model Results                              \n",
              "==============================================================================\n",
              "Dep. Variable:                    RSG   No. Observations:                 8760\n",
              "Model:                     ARMA(3, 0)   Log Likelihood              -54336.993\n",
              "Method:                       css-mle   S.D. of innovations            119.561\n",
              "Date:                Wed, 08 Dec 2021   AIC                         108683.987\n",
              "Time:                        14:23:50   BIC                         108719.377\n",
              "Sample:                    01-01-2015   HQIC                        108696.045\n",
              "                         - 01-01-2016                                         \n",
              "==============================================================================\n",
              "                 coef    std err          z      P>|z|      [0.025      0.975]\n",
              "------------------------------------------------------------------------------\n",
              "const        172.2012      6.531     26.367      0.000     159.401     185.002\n",
              "ar.L1.RSG      1.0497      0.011     99.467      0.000       1.029       1.070\n",
              "ar.L2.RSG     -0.0901      0.015     -5.859      0.000      -0.120      -0.060\n",
              "ar.L3.RSG     -0.1552      0.011    -14.710      0.000      -0.176      -0.135\n",
              "                                    Roots                                    \n",
              "=============================================================================\n",
              "                  Real          Imaginary           Modulus         Frequency\n",
              "-----------------------------------------------------------------------------\n",
              "AR.1            1.3401           -0.4243j            1.4056           -0.0488\n",
              "AR.2            1.3401           +0.4243j            1.4056            0.0488\n",
              "AR.3           -3.2602           -0.0000j            3.2602           -0.5000\n",
              "-----------------------------------------------------------------------------\n",
              "\"\"\""
            ]
          },
          "metadata": {},
          "execution_count": 20
        }
      ]
    },
    {
      "cell_type": "markdown",
      "source": [
        "4 horas de retraso"
      ],
      "metadata": {
        "id": "1wnf4fL6bVHa"
      }
    },
    {
      "cell_type": "code",
      "source": [
        "model_ar4 = ARMA(df['RSG'], order=(4,0))\n",
        "results_ar4 = model_ar4.fit()\n",
        "results_ar4.summary()"
      ],
      "metadata": {
        "colab": {
          "base_uri": "https://localhost:8080/",
          "height": 440
        },
        "id": "5FY1tT7cbLYm",
        "outputId": "fb0d3687-2f3b-496a-abfa-b00ac1c5ab32"
      },
      "execution_count": null,
      "outputs": [
        {
          "output_type": "execute_result",
          "data": {
            "text/html": [
              "<table class=\"simpletable\">\n",
              "<caption>ARMA Model Results</caption>\n",
              "<tr>\n",
              "  <th>Dep. Variable:</th>        <td>RSG</td>       <th>  No. Observations:  </th>    <td>8760</td>   \n",
              "</tr>\n",
              "<tr>\n",
              "  <th>Model:</th>            <td>ARMA(4, 0)</td>    <th>  Log Likelihood     </th> <td>-54179.874</td>\n",
              "</tr>\n",
              "<tr>\n",
              "  <th>Method:</th>             <td>css-mle</td>     <th>  S.D. of innovations</th>   <td>117.434</td> \n",
              "</tr>\n",
              "<tr>\n",
              "  <th>Date:</th>          <td>Wed, 08 Dec 2021</td> <th>  AIC                </th> <td>108371.749</td>\n",
              "</tr>\n",
              "<tr>\n",
              "  <th>Time:</th>              <td>14:23:53</td>     <th>  BIC                </th> <td>108414.216</td>\n",
              "</tr>\n",
              "<tr>\n",
              "  <th>Sample:</th>           <td>01-01-2015</td>    <th>  HQIC               </th> <td>108386.219</td>\n",
              "</tr>\n",
              "<tr>\n",
              "  <th></th>                 <td>- 01-01-2016</td>   <th>                     </th>      <td> </td>    \n",
              "</tr>\n",
              "</table>\n",
              "<table class=\"simpletable\">\n",
              "<tr>\n",
              "      <td></td>         <th>coef</th>     <th>std err</th>      <th>z</th>      <th>P>|z|</th>  <th>[0.025</th>    <th>0.975]</th>  \n",
              "</tr>\n",
              "<tr>\n",
              "  <th>const</th>     <td>  172.2621</td> <td>    5.402</td> <td>   31.890</td> <td> 0.000</td> <td>  161.675</td> <td>  182.849</td>\n",
              "</tr>\n",
              "<tr>\n",
              "  <th>ar.L1.RSG</th> <td>    1.0206</td> <td>    0.010</td> <td>   97.261</td> <td> 0.000</td> <td>    1.000</td> <td>    1.041</td>\n",
              "</tr>\n",
              "<tr>\n",
              "  <th>ar.L2.RSG</th> <td>   -0.1070</td> <td>    0.015</td> <td>   -7.070</td> <td> 0.000</td> <td>   -0.137</td> <td>   -0.077</td>\n",
              "</tr>\n",
              "<tr>\n",
              "  <th>ar.L3.RSG</th> <td>    0.0418</td> <td>    0.015</td> <td>    2.763</td> <td> 0.006</td> <td>    0.012</td> <td>    0.071</td>\n",
              "</tr>\n",
              "<tr>\n",
              "  <th>ar.L4.RSG</th> <td>   -0.1877</td> <td>    0.010</td> <td>  -17.887</td> <td> 0.000</td> <td>   -0.208</td> <td>   -0.167</td>\n",
              "</tr>\n",
              "</table>\n",
              "<table class=\"simpletable\">\n",
              "<caption>Roots</caption>\n",
              "<tr>\n",
              "    <td></td>   <th>            Real</th>  <th>         Imaginary</th> <th>         Modulus</th>  <th>        Frequency</th>\n",
              "</tr>\n",
              "<tr>\n",
              "  <th>AR.1</th> <td>           1.1266</td> <td>          -0.4094j</td> <td>           1.1987</td> <td>          -0.0555</td>\n",
              "</tr>\n",
              "<tr>\n",
              "  <th>AR.2</th> <td>           1.1266</td> <td>          +0.4094j</td> <td>           1.1987</td> <td>           0.0555</td>\n",
              "</tr>\n",
              "<tr>\n",
              "  <th>AR.3</th> <td>          -1.0153</td> <td>          -1.6363j</td> <td>           1.9257</td> <td>          -0.3384</td>\n",
              "</tr>\n",
              "<tr>\n",
              "  <th>AR.4</th> <td>          -1.0153</td> <td>          +1.6363j</td> <td>           1.9257</td> <td>           0.3384</td>\n",
              "</tr>\n",
              "</table>"
            ],
            "text/plain": [
              "<class 'statsmodels.iolib.summary.Summary'>\n",
              "\"\"\"\n",
              "                              ARMA Model Results                              \n",
              "==============================================================================\n",
              "Dep. Variable:                    RSG   No. Observations:                 8760\n",
              "Model:                     ARMA(4, 0)   Log Likelihood              -54179.874\n",
              "Method:                       css-mle   S.D. of innovations            117.434\n",
              "Date:                Wed, 08 Dec 2021   AIC                         108371.749\n",
              "Time:                        14:23:53   BIC                         108414.216\n",
              "Sample:                    01-01-2015   HQIC                        108386.219\n",
              "                         - 01-01-2016                                         \n",
              "==============================================================================\n",
              "                 coef    std err          z      P>|z|      [0.025      0.975]\n",
              "------------------------------------------------------------------------------\n",
              "const        172.2621      5.402     31.890      0.000     161.675     182.849\n",
              "ar.L1.RSG      1.0206      0.010     97.261      0.000       1.000       1.041\n",
              "ar.L2.RSG     -0.1070      0.015     -7.070      0.000      -0.137      -0.077\n",
              "ar.L3.RSG      0.0418      0.015      2.763      0.006       0.012       0.071\n",
              "ar.L4.RSG     -0.1877      0.010    -17.887      0.000      -0.208      -0.167\n",
              "                                    Roots                                    \n",
              "=============================================================================\n",
              "                  Real          Imaginary           Modulus         Frequency\n",
              "-----------------------------------------------------------------------------\n",
              "AR.1            1.1266           -0.4094j            1.1987           -0.0555\n",
              "AR.2            1.1266           +0.4094j            1.1987            0.0555\n",
              "AR.3           -1.0153           -1.6363j            1.9257           -0.3384\n",
              "AR.4           -1.0153           +1.6363j            1.9257            0.3384\n",
              "-----------------------------------------------------------------------------\n",
              "\"\"\""
            ]
          },
          "metadata": {},
          "execution_count": 21
        }
      ]
    },
    {
      "cell_type": "markdown",
      "source": [
        "**LLR Test**"
      ],
      "metadata": {
        "id": "qPdwZsiYdCs5"
      }
    },
    {
      "cell_type": "code",
      "source": [
        "from scipy.stats.distributions import chi2"
      ],
      "metadata": {
        "id": "azFxLlpkdGf2"
      },
      "execution_count": null,
      "outputs": []
    },
    {
      "cell_type": "markdown",
      "source": [
        "La hipótesis nula es que dos modelos son significativamente iguales."
      ],
      "metadata": {
        "id": "ImbQj8kGdK2h"
      }
    },
    {
      "cell_type": "code",
      "source": [
        "def LLR_test(mod_1, mod_2, DF = 1):\n",
        "    L1 = mod_1.llf\n",
        "    L2 = mod_2.llf\n",
        "    # estadístico\n",
        "    LR = (2*(L2-L1))    \n",
        "    p = chi2.sf(LR, DF).round(3)\n",
        "    return p"
      ],
      "metadata": {
        "id": "PpX-oZeidE8N"
      },
      "execution_count": null,
      "outputs": []
    },
    {
      "cell_type": "code",
      "source": [
        "LLR_test(results_ar,results_ar2)"
      ],
      "metadata": {
        "colab": {
          "base_uri": "https://localhost:8080/"
        },
        "id": "T_9oGgS-dI3V",
        "outputId": "9e2cd373-4d55-437d-c159-e5990e9998c7"
      },
      "execution_count": null,
      "outputs": [
        {
          "output_type": "execute_result",
          "data": {
            "text/plain": [
              "0.0"
            ]
          },
          "metadata": {},
          "execution_count": 28
        }
      ]
    },
    {
      "cell_type": "code",
      "source": [
        "LLR_test(results_ar2,results_ar3)"
      ],
      "metadata": {
        "colab": {
          "base_uri": "https://localhost:8080/"
        },
        "id": "IjtQqyZIdtX5",
        "outputId": "de1979c5-1d2f-49c7-b46c-e5adc7c38aa2"
      },
      "execution_count": null,
      "outputs": [
        {
          "output_type": "execute_result",
          "data": {
            "text/plain": [
              "0.0"
            ]
          },
          "metadata": {},
          "execution_count": 29
        }
      ]
    },
    {
      "cell_type": "code",
      "source": [
        "LLR_test(results_ar3,results_ar4)"
      ],
      "metadata": {
        "colab": {
          "base_uri": "https://localhost:8080/"
        },
        "id": "NCLZwbVZdouV",
        "outputId": "ef1a162b-fe2c-4c74-dfa8-86ea0dec3e28"
      },
      "execution_count": null,
      "outputs": [
        {
          "output_type": "execute_result",
          "data": {
            "text/plain": [
              "0.0"
            ]
          },
          "metadata": {},
          "execution_count": 30
        }
      ]
    },
    {
      "cell_type": "code",
      "source": [
        "LLR_test(results_ar,results_ar4,3)"
      ],
      "metadata": {
        "colab": {
          "base_uri": "https://localhost:8080/"
        },
        "id": "m5t53StedyOZ",
        "outputId": "99fd56bf-340c-4e41-ad73-47c25a5c9100"
      },
      "execution_count": null,
      "outputs": [
        {
          "output_type": "execute_result",
          "data": {
            "text/plain": [
              "0.0"
            ]
          },
          "metadata": {},
          "execution_count": 31
        }
      ]
    },
    {
      "cell_type": "markdown",
      "source": [
        "El p-valor es cero, lo que significa que los modelos no son significativamente iguales. El modelo más complejo obtiene mejores resultados."
      ],
      "metadata": {
        "id": "kZOsoPCAd8Jw"
      }
    },
    {
      "cell_type": "markdown",
      "source": [
        "## Estimación automática"
      ],
      "metadata": {
        "id": "c5hsmgv1ixlX"
      }
    },
    {
      "cell_type": "code",
      "metadata": {
        "id": "Z4gtCuSpN3xq",
        "colab": {
          "base_uri": "https://localhost:8080/"
        },
        "outputId": "7b6c0099-7197-44be-e883-33692df06556"
      },
      "source": [
        "from statsmodels.tsa.ar_model import AR,ARResults"
      ],
      "execution_count": null,
      "outputs": [
        {
          "output_type": "stream",
          "name": "stderr",
          "text": [
            "/usr/local/lib/python3.7/dist-packages/statsmodels/tools/_testing.py:19: FutureWarning: pandas.util.testing is deprecated. Use the functions in the public API at pandas.testing instead.\n",
            "  import pandas.util.testing as tm\n"
          ]
        }
      ]
    },
    {
      "cell_type": "markdown",
      "source": [
        "Se divide en datos de entrenamiento y prueba"
      ],
      "metadata": {
        "id": "sD3eD1VcW7ef"
      }
    },
    {
      "cell_type": "code",
      "source": [
        "train_size = int(len(df)*0.8)\n"
      ],
      "metadata": {
        "id": "qhgTSAwWWx4m"
      },
      "execution_count": null,
      "outputs": []
    },
    {
      "cell_type": "code",
      "source": [
        "df_train = df.iloc[:train_size]\n",
        "df_test = df.iloc[train_size:]\n"
      ],
      "metadata": {
        "id": "EKBvk1Y8XK8i"
      },
      "execution_count": null,
      "outputs": []
    },
    {
      "cell_type": "code",
      "source": [
        "df_test.head()"
      ],
      "metadata": {
        "colab": {
          "base_uri": "https://localhost:8080/",
          "height": 237
        },
        "id": "QzbfH8XhYV3V",
        "outputId": "9cf7d547-58e3-4915-801c-9f3192c78158"
      },
      "execution_count": null,
      "outputs": [
        {
          "output_type": "execute_result",
          "data": {
            "text/html": [
              "<div>\n",
              "<style scoped>\n",
              "    .dataframe tbody tr th:only-of-type {\n",
              "        vertical-align: middle;\n",
              "    }\n",
              "\n",
              "    .dataframe tbody tr th {\n",
              "        vertical-align: top;\n",
              "    }\n",
              "\n",
              "    .dataframe thead th {\n",
              "        text-align: right;\n",
              "    }\n",
              "</style>\n",
              "<table border=\"1\" class=\"dataframe\">\n",
              "  <thead>\n",
              "    <tr style=\"text-align: right;\">\n",
              "      <th></th>\n",
              "      <th>RSG</th>\n",
              "    </tr>\n",
              "    <tr>\n",
              "      <th>DateTime</th>\n",
              "      <th></th>\n",
              "    </tr>\n",
              "  </thead>\n",
              "  <tbody>\n",
              "    <tr>\n",
              "      <th>2015-10-20 06:00:00</th>\n",
              "      <td>0.0</td>\n",
              "    </tr>\n",
              "    <tr>\n",
              "      <th>2015-10-20 07:00:00</th>\n",
              "      <td>0.0</td>\n",
              "    </tr>\n",
              "    <tr>\n",
              "      <th>2015-10-20 08:00:00</th>\n",
              "      <td>0.0</td>\n",
              "    </tr>\n",
              "    <tr>\n",
              "      <th>2015-10-20 09:00:00</th>\n",
              "      <td>0.0</td>\n",
              "    </tr>\n",
              "    <tr>\n",
              "      <th>2015-10-20 10:00:00</th>\n",
              "      <td>0.0</td>\n",
              "    </tr>\n",
              "  </tbody>\n",
              "</table>\n",
              "</div>"
            ],
            "text/plain": [
              "                     RSG\n",
              "DateTime                \n",
              "2015-10-20 06:00:00  0.0\n",
              "2015-10-20 07:00:00  0.0\n",
              "2015-10-20 08:00:00  0.0\n",
              "2015-10-20 09:00:00  0.0\n",
              "2015-10-20 10:00:00  0.0"
            ]
          },
          "metadata": {},
          "execution_count": 9
        }
      ]
    },
    {
      "cell_type": "markdown",
      "source": [
        "Modelo AR que selecciona el mejor número de retrasos a considerar."
      ],
      "metadata": {
        "id": "UDErAYcEXhs2"
      }
    },
    {
      "cell_type": "code",
      "source": [
        "# Ignore harmless warnings\n",
        "import warnings\n",
        "warnings.filterwarnings(\"ignore\")"
      ],
      "metadata": {
        "id": "gSgSiyC9XOQi"
      },
      "execution_count": null,
      "outputs": []
    },
    {
      "cell_type": "code",
      "source": [
        "model = AR(df_train['RSG'])\n",
        "ARfit = model.fit(ic='bic')\n",
        "print(f'Lag: {ARfit.k_ar}')\n",
        "print(f'Coefficients:\\n{ARfit.params}')"
      ],
      "metadata": {
        "colab": {
          "base_uri": "https://localhost:8080/"
        },
        "id": "-8e2A5LgXqKy",
        "outputId": "1b01819a-2ae3-47a0-dbda-cd24cf1df03b"
      },
      "execution_count": null,
      "outputs": [
        {
          "output_type": "stream",
          "name": "stdout",
          "text": [
            "Lag: 24\n",
            "Coefficients:\n",
            "const      33.254600\n",
            "L1.RSG      0.670349\n",
            "L2.RSG     -0.067322\n",
            "L3.RSG      0.016293\n",
            "L4.RSG     -0.041480\n",
            "L5.RSG     -0.008969\n",
            "L6.RSG     -0.012138\n",
            "L7.RSG     -0.035624\n",
            "L8.RSG     -0.023916\n",
            "L9.RSG     -0.003648\n",
            "L10.RSG     0.007028\n",
            "L11.RSG     0.011770\n",
            "L12.RSG     0.006845\n",
            "L13.RSG    -0.004079\n",
            "L14.RSG    -0.019737\n",
            "L15.RSG    -0.030672\n",
            "L16.RSG    -0.024494\n",
            "L17.RSG    -0.007099\n",
            "L18.RSG     0.002096\n",
            "L19.RSG    -0.006193\n",
            "L20.RSG     0.005724\n",
            "L21.RSG     0.067742\n",
            "L22.RSG     0.011533\n",
            "L23.RSG     0.151975\n",
            "L24.RSG     0.137605\n",
            "dtype: float64\n"
          ]
        }
      ]
    },
    {
      "cell_type": "code",
      "source": [
        "start=train_size\n",
        "end=start+48\n",
        "predictions1 = ARfit.predict(start=start, end=end, dynamic=False).rename('AR Predictions')"
      ],
      "metadata": {
        "id": "mIwUZPfSaGpF"
      },
      "execution_count": null,
      "outputs": []
    },
    {
      "cell_type": "code",
      "source": [
        "df_test['RSG'].iloc[0:49].plot(legend=True)\n",
        "predictions1.plot(legend=True,figsize=(12,6));"
      ],
      "metadata": {
        "colab": {
          "base_uri": "https://localhost:8080/",
          "height": 411
        },
        "id": "vN-91qflZyVG",
        "outputId": "e44fa0fa-c2b5-4e9c-9135-04862d03fcca"
      },
      "execution_count": null,
      "outputs": [
        {
          "output_type": "display_data",
          "data": {
            "image/png": "[encoded data removed]",
            "text/plain": [
              "<Figure size 864x432 with 1 Axes>"
            ]
          },
          "metadata": {
            "needs_background": "light"
          }
        }
      ]
    },
    {
      "cell_type": "markdown",
      "source": [
        "## Evaluar el modelo "
      ],
      "metadata": {
        "id": "Mqz_usN2bJeN"
      }
    },
    {
      "cell_type": "markdown",
      "source": [
        "Mean Square Error (MSE)\n"
      ],
      "metadata": {
        "id": "E0ztnwWjbPBN"
      }
    },
    {
      "cell_type": "code",
      "source": [
        "from sklearn.metrics import mean_squared_error"
      ],
      "metadata": {
        "id": "8-M-t2ajbK_8"
      },
      "execution_count": null,
      "outputs": []
    },
    {
      "cell_type": "code",
      "source": [
        "ARfit12 = model.fit(maxlag=12,method='mle')\n",
        "print(f'Lag: {ARfit12.k_ar}')\n",
        "predictions12 = ARfit12.predict(start=start, end=end, dynamic=False).rename('AR(12) Predictions')"
      ],
      "metadata": {
        "colab": {
          "base_uri": "https://localhost:8080/"
        },
        "id": "G-Va4sOjcjV7",
        "outputId": "d72bedcf-37fa-4e7a-d920-ff2f0c2e57cf"
      },
      "execution_count": null,
      "outputs": [
        {
          "output_type": "stream",
          "name": "stdout",
          "text": [
            "Lag: 12\n"
          ]
        }
      ]
    },
    {
      "cell_type": "code",
      "source": [
        "ARfit24 = model.fit(maxlag=24,method='mle')\n",
        "print(f'Lag: {ARfit24.k_ar}')\n",
        "predictions24 = ARfit24.predict(start=start, end=end, dynamic=False).rename('AR(24) Predictions')"
      ],
      "metadata": {
        "colab": {
          "base_uri": "https://localhost:8080/"
        },
        "id": "S7Xs9U2Fcw7I",
        "outputId": "91565f0a-8ebb-4c5d-a296-8a3f0fc7489b"
      },
      "execution_count": null,
      "outputs": [
        {
          "output_type": "stream",
          "name": "stdout",
          "text": [
            "Lag: 24\n"
          ]
        }
      ]
    },
    {
      "cell_type": "code",
      "source": [
        "len(predictions12)"
      ],
      "metadata": {
        "colab": {
          "base_uri": "https://localhost:8080/"
        },
        "id": "DfUk3E03hnsT",
        "outputId": "c7051bbf-fbde-4dbf-c62c-50be7a054e8a"
      },
      "execution_count": null,
      "outputs": [
        {
          "output_type": "execute_result",
          "data": {
            "text/plain": [
              "49"
            ]
          },
          "metadata": {},
          "execution_count": 44
        }
      ]
    },
    {
      "cell_type": "code",
      "source": [
        "len(df_test['RSG'].iloc[0:49])"
      ],
      "metadata": {
        "colab": {
          "base_uri": "https://localhost:8080/"
        },
        "id": "GnbddNvhhq5y",
        "outputId": "b0afac15-84c5-4d1d-b2e1-6ba4582d6b94"
      },
      "execution_count": null,
      "outputs": [
        {
          "output_type": "execute_result",
          "data": {
            "text/plain": [
              "49"
            ]
          },
          "metadata": {},
          "execution_count": 45
        }
      ]
    },
    {
      "cell_type": "code",
      "source": [
        "labels = ['AR(12)','AR(24)']\n",
        "preds = [predictions12, predictions24]  # these are variables, not strings!\n",
        "\n",
        "for i in range(2):\n",
        "    error = mean_squared_error(df_test['RSG'].iloc[0:49], preds[i])\n",
        "    print(f'{labels[i]} Error: {error:11.10}')"
      ],
      "metadata": {
        "colab": {
          "base_uri": "https://localhost:8080/"
        },
        "id": "ErImL1vBcIqV",
        "outputId": "171cbf8a-89ea-4d09-f380-90d5c7d73279"
      },
      "execution_count": null,
      "outputs": [
        {
          "output_type": "stream",
          "name": "stdout",
          "text": [
            "AR(12) Error: 62630.26349\n",
            "AR(24) Error: 32162.15733\n"
          ]
        }
      ]
    },
    {
      "cell_type": "markdown",
      "source": [
        "El error se redujo al considerar 24 horas de retraso."
      ],
      "metadata": {
        "id": "nqmhJOdShzNi"
      }
    },
    {
      "cell_type": "code",
      "source": [
        ""
      ],
      "metadata": {
        "id": "09ZfFcG7aV8Z"
      },
      "execution_count": null,
      "outputs": []
    }
  ]
}