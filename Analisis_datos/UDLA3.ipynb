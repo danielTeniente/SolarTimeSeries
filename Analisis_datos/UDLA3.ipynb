{
  "nbformat": 4,
  "nbformat_minor": 0,
  "metadata": {
    "colab": {
      "name": "UDLA3.ipynb",
      "provenance": [],
      "collapsed_sections": []
    },
    "kernelspec": {
      "name": "python3",
      "display_name": "Python 3"
    },
    "language_info": {
      "name": "python"
    }
  },
  "cells": [
    {
      "cell_type": "markdown",
      "metadata": {
        "id": "FE3gvu_gS9dF"
      },
      "source": [
        "# Análisis de la serie temporal"
      ]
    },
    {
      "cell_type": "code",
      "metadata": {
        "id": "IaPyrjRyTQ6L"
      },
      "source": [
        "import pandas as pd\n",
        "import numpy as np\n",
        "import matplotlib.pyplot as plt"
      ],
      "execution_count": null,
      "outputs": []
    },
    {
      "cell_type": "markdown",
      "metadata": {
        "id": "fsqir_kz-FHk"
      },
      "source": [
        "Se importa el dataset colocando la hora local como índice."
      ]
    },
    {
      "cell_type": "code",
      "metadata": {
        "id": "-dqnyZwnKKvS"
      },
      "source": [
        "df2015 = pd.read_csv('./drive/MyDrive/DatosInvestigacion/LocalTime_2015.csv', index_col=0, parse_dates=True)"
      ],
      "execution_count": null,
      "outputs": []
    },
    {
      "cell_type": "code",
      "metadata": {
        "colab": {
          "base_uri": "https://localhost:8080/",
          "height": 388
        },
        "id": "22A3aI2n-AMC",
        "outputId": "57c33695-096d-4e4d-865f-da957ce3b971"
      },
      "source": [
        "df2015.head()"
      ],
      "execution_count": null,
      "outputs": [
        {
          "output_type": "execute_result",
          "data": {
            "text/html": [
              "\n",
              "  <div id=\"df-4ca9e97b-b88a-492e-921d-df437a3342f0\">\n",
              "    <div class=\"colab-df-container\">\n",
              "      <div>\n",
              "<style scoped>\n",
              "    .dataframe tbody tr th:only-of-type {\n",
              "        vertical-align: middle;\n",
              "    }\n",
              "\n",
              "    .dataframe tbody tr th {\n",
              "        vertical-align: top;\n",
              "    }\n",
              "\n",
              "    .dataframe thead th {\n",
              "        text-align: right;\n",
              "    }\n",
              "</style>\n",
              "<table border=\"1\" class=\"dataframe\">\n",
              "  <thead>\n",
              "    <tr style=\"text-align: right;\">\n",
              "      <th></th>\n",
              "      <th>DC</th>\n",
              "      <th>PAAVG1H</th>\n",
              "      <th>PAMAX1H</th>\n",
              "      <th>PAMIN1H</th>\n",
              "      <th>PRSUM1H</th>\n",
              "      <th>RHAVG1H</th>\n",
              "      <th>RHMAX1H</th>\n",
              "      <th>RHMIN1H</th>\n",
              "      <th>SRDIFAVG1H</th>\n",
              "      <th>SRDIFMAX1H</th>\n",
              "      <th>SRDIFMIN1H</th>\n",
              "      <th>SRDIFSUM1H</th>\n",
              "      <th>SRGLOAVG1H</th>\n",
              "      <th>SRGLOMAX1H</th>\n",
              "      <th>SRGLOMIN1H</th>\n",
              "      <th>SRGLOSUM1H</th>\n",
              "      <th>TAAVG1H</th>\n",
              "      <th>TAMAX1H</th>\n",
              "      <th>TAMIN1H</th>\n",
              "      <th>TS1AVG1H</th>\n",
              "      <th>TS1MAX1H</th>\n",
              "      <th>TS1MIN1H</th>\n",
              "      <th>TS2AVG1H</th>\n",
              "      <th>TS2MAX1H</th>\n",
              "      <th>TS2MIN1H</th>\n",
              "      <th>TS3AVG1H</th>\n",
              "      <th>TS3MAX1H</th>\n",
              "      <th>TS3MIN1H</th>\n",
              "      <th>TS4AVG1H</th>\n",
              "      <th>TS4MAX1H</th>\n",
              "      <th>TS4MIN1H</th>\n",
              "      <th>TS5AVG1H</th>\n",
              "      <th>TS5MAX1H</th>\n",
              "      <th>TS5MIN1H</th>\n",
              "      <th>TS6AVG1H</th>\n",
              "      <th>TS6MAX1H</th>\n",
              "      <th>TS6MIN1H</th>\n",
              "      <th>TS7AVG1H</th>\n",
              "      <th>TS7MAX1H</th>\n",
              "      <th>TS7MIN1H</th>\n",
              "      <th>WD1HA</th>\n",
              "      <th>WD1HX</th>\n",
              "      <th>WDGM</th>\n",
              "      <th>WGD1HX</th>\n",
              "      <th>WGDH</th>\n",
              "      <th>WR1H</th>\n",
              "      <th>WS1HA</th>\n",
              "      <th>WS1HM</th>\n",
              "      <th>WS1HX</th>\n",
              "    </tr>\n",
              "    <tr>\n",
              "      <th>Local_Time</th>\n",
              "      <th></th>\n",
              "      <th></th>\n",
              "      <th></th>\n",
              "      <th></th>\n",
              "      <th></th>\n",
              "      <th></th>\n",
              "      <th></th>\n",
              "      <th></th>\n",
              "      <th></th>\n",
              "      <th></th>\n",
              "      <th></th>\n",
              "      <th></th>\n",
              "      <th></th>\n",
              "      <th></th>\n",
              "      <th></th>\n",
              "      <th></th>\n",
              "      <th></th>\n",
              "      <th></th>\n",
              "      <th></th>\n",
              "      <th></th>\n",
              "      <th></th>\n",
              "      <th></th>\n",
              "      <th></th>\n",
              "      <th></th>\n",
              "      <th></th>\n",
              "      <th></th>\n",
              "      <th></th>\n",
              "      <th></th>\n",
              "      <th></th>\n",
              "      <th></th>\n",
              "      <th></th>\n",
              "      <th></th>\n",
              "      <th></th>\n",
              "      <th></th>\n",
              "      <th></th>\n",
              "      <th></th>\n",
              "      <th></th>\n",
              "      <th></th>\n",
              "      <th></th>\n",
              "      <th></th>\n",
              "      <th></th>\n",
              "      <th></th>\n",
              "      <th></th>\n",
              "      <th></th>\n",
              "      <th></th>\n",
              "      <th></th>\n",
              "      <th></th>\n",
              "      <th></th>\n",
              "      <th></th>\n",
              "    </tr>\n",
              "  </thead>\n",
              "  <tbody>\n",
              "    <tr>\n",
              "      <th>2015-01-01 01:00:00</th>\n",
              "      <td>13.1</td>\n",
              "      <td>743.2</td>\n",
              "      <td>743.6</td>\n",
              "      <td>742.8</td>\n",
              "      <td>0.0</td>\n",
              "      <td>98</td>\n",
              "      <td>99</td>\n",
              "      <td>94</td>\n",
              "      <td>0.0</td>\n",
              "      <td>0.0</td>\n",
              "      <td>0.0</td>\n",
              "      <td>0.0</td>\n",
              "      <td>0.0</td>\n",
              "      <td>0.0</td>\n",
              "      <td>0.0</td>\n",
              "      <td>0.0</td>\n",
              "      <td>8.8</td>\n",
              "      <td>9.7</td>\n",
              "      <td>8.1</td>\n",
              "      <td>7.9</td>\n",
              "      <td>8.3</td>\n",
              "      <td>7.2</td>\n",
              "      <td>8.4</td>\n",
              "      <td>8.7</td>\n",
              "      <td>7.6</td>\n",
              "      <td>9.6</td>\n",
              "      <td>9.9</td>\n",
              "      <td>9</td>\n",
              "      <td>11.9</td>\n",
              "      <td>12</td>\n",
              "      <td>11.8</td>\n",
              "      <td>14.3</td>\n",
              "      <td>14.4</td>\n",
              "      <td>14.2</td>\n",
              "      <td>15</td>\n",
              "      <td>15</td>\n",
              "      <td>15</td>\n",
              "      <td>15</td>\n",
              "      <td>15</td>\n",
              "      <td>15</td>\n",
              "      <td>65</td>\n",
              "      <td>21</td>\n",
              "      <td>53</td>\n",
              "      <td>71.0</td>\n",
              "      <td>0.0</td>\n",
              "      <td>15.0</td>\n",
              "      <td>1.0</td>\n",
              "      <td>0.0</td>\n",
              "      <td>2.9</td>\n",
              "    </tr>\n",
              "    <tr>\n",
              "      <th>2015-01-01 02:00:00</th>\n",
              "      <td>13.1</td>\n",
              "      <td>742.6</td>\n",
              "      <td>742.8</td>\n",
              "      <td>742.4</td>\n",
              "      <td>0.0</td>\n",
              "      <td>96</td>\n",
              "      <td>97</td>\n",
              "      <td>94</td>\n",
              "      <td>0.0</td>\n",
              "      <td>0.0</td>\n",
              "      <td>0.0</td>\n",
              "      <td>0.0</td>\n",
              "      <td>0.0</td>\n",
              "      <td>0.0</td>\n",
              "      <td>0.0</td>\n",
              "      <td>0.0</td>\n",
              "      <td>9.6</td>\n",
              "      <td>9.8</td>\n",
              "      <td>9.1</td>\n",
              "      <td>9.1</td>\n",
              "      <td>9.5</td>\n",
              "      <td>8.3</td>\n",
              "      <td>9.4</td>\n",
              "      <td>9.9</td>\n",
              "      <td>8.7</td>\n",
              "      <td>10.4</td>\n",
              "      <td>10.7</td>\n",
              "      <td>9.9</td>\n",
              "      <td>12.1</td>\n",
              "      <td>12.2</td>\n",
              "      <td>12</td>\n",
              "      <td>14.1</td>\n",
              "      <td>14.2</td>\n",
              "      <td>14.1</td>\n",
              "      <td>15</td>\n",
              "      <td>15</td>\n",
              "      <td>15</td>\n",
              "      <td>15</td>\n",
              "      <td>15</td>\n",
              "      <td>15</td>\n",
              "      <td>43</td>\n",
              "      <td>93</td>\n",
              "      <td>17</td>\n",
              "      <td>49.0</td>\n",
              "      <td>1.0</td>\n",
              "      <td>26.0</td>\n",
              "      <td>1.8</td>\n",
              "      <td>0.0</td>\n",
              "      <td>3.0</td>\n",
              "    </tr>\n",
              "    <tr>\n",
              "      <th>2015-01-01 03:00:00</th>\n",
              "      <td>13.1</td>\n",
              "      <td>742.1</td>\n",
              "      <td>742.4</td>\n",
              "      <td>741.9</td>\n",
              "      <td>0.0</td>\n",
              "      <td>94</td>\n",
              "      <td>95</td>\n",
              "      <td>93</td>\n",
              "      <td>0.0</td>\n",
              "      <td>0.0</td>\n",
              "      <td>0.0</td>\n",
              "      <td>0.0</td>\n",
              "      <td>0.0</td>\n",
              "      <td>0.0</td>\n",
              "      <td>0.0</td>\n",
              "      <td>0.0</td>\n",
              "      <td>9.9</td>\n",
              "      <td>10.1</td>\n",
              "      <td>9.7</td>\n",
              "      <td>9.5</td>\n",
              "      <td>9.6</td>\n",
              "      <td>9.5</td>\n",
              "      <td>9.9</td>\n",
              "      <td>9.9</td>\n",
              "      <td>9.9</td>\n",
              "      <td>10.8</td>\n",
              "      <td>10.8</td>\n",
              "      <td>10.7</td>\n",
              "      <td>12.2</td>\n",
              "      <td>12.3</td>\n",
              "      <td>12.2</td>\n",
              "      <td>14</td>\n",
              "      <td>14.1</td>\n",
              "      <td>14</td>\n",
              "      <td>15</td>\n",
              "      <td>15</td>\n",
              "      <td>15</td>\n",
              "      <td>15</td>\n",
              "      <td>15</td>\n",
              "      <td>15</td>\n",
              "      <td>47</td>\n",
              "      <td>84</td>\n",
              "      <td>12</td>\n",
              "      <td>55.0</td>\n",
              "      <td>2.0</td>\n",
              "      <td>28.0</td>\n",
              "      <td>1.9</td>\n",
              "      <td>0.5</td>\n",
              "      <td>2.9</td>\n",
              "    </tr>\n",
              "    <tr>\n",
              "      <th>2015-01-01 04:00:00</th>\n",
              "      <td>13.0</td>\n",
              "      <td>741.8</td>\n",
              "      <td>741.9</td>\n",
              "      <td>741.7</td>\n",
              "      <td>0.0</td>\n",
              "      <td>95</td>\n",
              "      <td>96</td>\n",
              "      <td>93</td>\n",
              "      <td>0.0</td>\n",
              "      <td>0.0</td>\n",
              "      <td>0.0</td>\n",
              "      <td>0.0</td>\n",
              "      <td>0.0</td>\n",
              "      <td>0.0</td>\n",
              "      <td>0.0</td>\n",
              "      <td>0.0</td>\n",
              "      <td>10.0</td>\n",
              "      <td>10.3</td>\n",
              "      <td>9.7</td>\n",
              "      <td>9.4</td>\n",
              "      <td>9.5</td>\n",
              "      <td>8.9</td>\n",
              "      <td>9.8</td>\n",
              "      <td>9.9</td>\n",
              "      <td>9.3</td>\n",
              "      <td>10.7</td>\n",
              "      <td>10.8</td>\n",
              "      <td>10.3</td>\n",
              "      <td>12.3</td>\n",
              "      <td>12.3</td>\n",
              "      <td>12.2</td>\n",
              "      <td>14</td>\n",
              "      <td>14</td>\n",
              "      <td>14</td>\n",
              "      <td>15</td>\n",
              "      <td>15</td>\n",
              "      <td>15</td>\n",
              "      <td>15</td>\n",
              "      <td>15</td>\n",
              "      <td>15</td>\n",
              "      <td>44</td>\n",
              "      <td>97</td>\n",
              "      <td>31</td>\n",
              "      <td>53.0</td>\n",
              "      <td>3.0</td>\n",
              "      <td>23.0</td>\n",
              "      <td>1.5</td>\n",
              "      <td>0.4</td>\n",
              "      <td>2.7</td>\n",
              "    </tr>\n",
              "    <tr>\n",
              "      <th>2015-01-01 05:00:00</th>\n",
              "      <td>13.0</td>\n",
              "      <td>741.8</td>\n",
              "      <td>741.9</td>\n",
              "      <td>741.7</td>\n",
              "      <td>0.0</td>\n",
              "      <td>96</td>\n",
              "      <td>98</td>\n",
              "      <td>94</td>\n",
              "      <td>0.0</td>\n",
              "      <td>0.0</td>\n",
              "      <td>0.0</td>\n",
              "      <td>0.0</td>\n",
              "      <td>0.0</td>\n",
              "      <td>0.0</td>\n",
              "      <td>0.0</td>\n",
              "      <td>0.0</td>\n",
              "      <td>9.4</td>\n",
              "      <td>10.0</td>\n",
              "      <td>9.0</td>\n",
              "      <td>8.1</td>\n",
              "      <td>8.9</td>\n",
              "      <td>7.8</td>\n",
              "      <td>8.5</td>\n",
              "      <td>9.3</td>\n",
              "      <td>8.2</td>\n",
              "      <td>9.7</td>\n",
              "      <td>10.3</td>\n",
              "      <td>9.5</td>\n",
              "      <td>12</td>\n",
              "      <td>12.2</td>\n",
              "      <td>11.9</td>\n",
              "      <td>13.9</td>\n",
              "      <td>14</td>\n",
              "      <td>13.9</td>\n",
              "      <td>15</td>\n",
              "      <td>15</td>\n",
              "      <td>15</td>\n",
              "      <td>15</td>\n",
              "      <td>15</td>\n",
              "      <td>15</td>\n",
              "      <td>50</td>\n",
              "      <td>92</td>\n",
              "      <td>51</td>\n",
              "      <td>33.0</td>\n",
              "      <td>4.0</td>\n",
              "      <td>21.0</td>\n",
              "      <td>1.4</td>\n",
              "      <td>0.4</td>\n",
              "      <td>2.6</td>\n",
              "    </tr>\n",
              "  </tbody>\n",
              "</table>\n",
              "</div>\n",
              "      <button class=\"colab-df-convert\" onclick=\"convertToInteractive('df-4ca9e97b-b88a-492e-921d-df437a3342f0')\"\n",
              "              title=\"Convert this dataframe to an interactive table.\"\n",
              "              style=\"display:none;\">\n",
              "        \n",
              "  <svg xmlns=\"http://www.w3.org/2000/svg\" height=\"24px\"viewBox=\"0 0 24 24\"\n",
              "       width=\"24px\">\n",
              "    <path d=\"M0 0h24v24H0V0z\" fill=\"none\"/>\n",
              "    <path d=\"M18.56 5.44l.94 2.06.94-2.06 2.06-.94-2.06-.94-.94-2.06-.94 2.06-2.06.94zm-11 1L8.5 8.5l.94-2.06 2.06-.94-2.06-.94L8.5 2.5l-.94 2.06-2.06.94zm10 10l.94 2.06.94-2.06 2.06-.94-2.06-.94-.94-2.06-.94 2.06-2.06.94z\"/><path d=\"M17.41 7.96l-1.37-1.37c-.4-.4-.92-.59-1.43-.59-.52 0-1.04.2-1.43.59L10.3 9.45l-7.72 7.72c-.78.78-.78 2.05 0 2.83L4 21.41c.39.39.9.59 1.41.59.51 0 1.02-.2 1.41-.59l7.78-7.78 2.81-2.81c.8-.78.8-2.07 0-2.86zM5.41 20L4 18.59l7.72-7.72 1.47 1.35L5.41 20z\"/>\n",
              "  </svg>\n",
              "      </button>\n",
              "      \n",
              "  <style>\n",
              "    .colab-df-container {\n",
              "      display:flex;\n",
              "      flex-wrap:wrap;\n",
              "      gap: 12px;\n",
              "    }\n",
              "\n",
              "    .colab-df-convert {\n",
              "      background-color: #E8F0FE;\n",
              "      border: none;\n",
              "      border-radius: 50%;\n",
              "      cursor: pointer;\n",
              "      display: none;\n",
              "      fill: #1967D2;\n",
              "      height: 32px;\n",
              "      padding: 0 0 0 0;\n",
              "      width: 32px;\n",
              "    }\n",
              "\n",
              "    .colab-df-convert:hover {\n",
              "      background-color: #E2EBFA;\n",
              "      box-shadow: 0px 1px 2px rgba(60, 64, 67, 0.3), 0px 1px 3px 1px rgba(60, 64, 67, 0.15);\n",
              "      fill: #174EA6;\n",
              "    }\n",
              "\n",
              "    [theme=dark] .colab-df-convert {\n",
              "      background-color: #3B4455;\n",
              "      fill: #D2E3FC;\n",
              "    }\n",
              "\n",
              "    [theme=dark] .colab-df-convert:hover {\n",
              "      background-color: #434B5C;\n",
              "      box-shadow: 0px 1px 3px 1px rgba(0, 0, 0, 0.15);\n",
              "      filter: drop-shadow(0px 1px 2px rgba(0, 0, 0, 0.3));\n",
              "      fill: #FFFFFF;\n",
              "    }\n",
              "  </style>\n",
              "\n",
              "      <script>\n",
              "        const buttonEl =\n",
              "          document.querySelector('#df-4ca9e97b-b88a-492e-921d-df437a3342f0 button.colab-df-convert');\n",
              "        buttonEl.style.display =\n",
              "          google.colab.kernel.accessAllowed ? 'block' : 'none';\n",
              "\n",
              "        async function convertToInteractive(key) {\n",
              "          const element = document.querySelector('#df-4ca9e97b-b88a-492e-921d-df437a3342f0');\n",
              "          const dataTable =\n",
              "            await google.colab.kernel.invokeFunction('convertToInteractive',\n",
              "                                                     [key], {});\n",
              "          if (!dataTable) return;\n",
              "\n",
              "          const docLinkHtml = 'Like what you see? Visit the ' +\n",
              "            '<a target=\"_blank\" href=https://colab.research.google.com/notebooks/data_table.ipynb>data table notebook</a>'\n",
              "            + ' to learn more about interactive tables.';\n",
              "          element.innerHTML = '';\n",
              "          dataTable['output_type'] = 'display_data';\n",
              "          await google.colab.output.renderOutput(dataTable, element);\n",
              "          const docLink = document.createElement('div');\n",
              "          docLink.innerHTML = docLinkHtml;\n",
              "          element.appendChild(docLink);\n",
              "        }\n",
              "      </script>\n",
              "    </div>\n",
              "  </div>\n",
              "  "
            ],
            "text/plain": [
              "                       DC  PAAVG1H  PAMAX1H  PAMIN1H  ...  WR1H  WS1HA  WS1HM  WS1HX\n",
              "Local_Time                                            ...                           \n",
              "2015-01-01 01:00:00  13.1    743.2    743.6    742.8  ...  15.0    1.0    0.0    2.9\n",
              "2015-01-01 02:00:00  13.1    742.6    742.8    742.4  ...  26.0    1.8    0.0    3.0\n",
              "2015-01-01 03:00:00  13.1    742.1    742.4    741.9  ...  28.0    1.9    0.5    2.9\n",
              "2015-01-01 04:00:00  13.0    741.8    741.9    741.7  ...  23.0    1.5    0.4    2.7\n",
              "2015-01-01 05:00:00  13.0    741.8    741.9    741.7  ...  21.0    1.4    0.4    2.6\n",
              "\n",
              "[5 rows x 49 columns]"
            ]
          },
          "metadata": {},
          "execution_count": 3
        }
      ]
    },
    {
      "cell_type": "markdown",
      "metadata": {
        "id": "Q1RtPafQVBnM"
      },
      "source": [
        "Se consigue la variable que se va a predecir durante este proyecto."
      ]
    },
    {
      "cell_type": "code",
      "metadata": {
        "id": "IzLXQYQWVEmM",
        "colab": {
          "base_uri": "https://localhost:8080/"
        },
        "outputId": "368afa2b-79f8-4f80-98d5-8c6cb6d8848e"
      },
      "source": [
        "df = df2015['SRGLOAVG1H']\n",
        "df"
      ],
      "execution_count": null,
      "outputs": [
        {
          "output_type": "execute_result",
          "data": {
            "text/plain": [
              "Local_Time\n",
              "2015-01-01 01:00:00    0.0\n",
              "2015-01-01 02:00:00    0.0\n",
              "2015-01-01 03:00:00    0.0\n",
              "2015-01-01 04:00:00    0.0\n",
              "2015-01-01 05:00:00    0.0\n",
              "                      ... \n",
              "2015-12-31 20:00:00    0.0\n",
              "2015-12-31 21:00:00    0.0\n",
              "2015-12-31 22:00:00    0.0\n",
              "2015-12-31 23:00:00    0.0\n",
              "2016-01-01 00:00:00    0.0\n",
              "Name: SRGLOAVG1H, Length: 8760, dtype: float64"
            ]
          },
          "metadata": {},
          "execution_count": 4
        }
      ]
    },
    {
      "cell_type": "markdown",
      "metadata": {
        "id": "FDMETZjBaBxN"
      },
      "source": [
        "### Estacionariedad"
      ]
    },
    {
      "cell_type": "markdown",
      "source": [
        "Una serie es estacionaria cuando la media y la varianza son constantes a lo largo del tiempo."
      ],
      "metadata": {
        "id": "WZcG0ca3sTw9"
      }
    },
    {
      "cell_type": "code",
      "metadata": {
        "id": "YHILqgEMWYcD",
        "colab": {
          "base_uri": "https://localhost:8080/"
        },
        "outputId": "b5dcad36-3c3f-41d8-d23d-73115c7b324a"
      },
      "source": [
        "import statsmodels.tsa.stattools as sts "
      ],
      "execution_count": null,
      "outputs": [
        {
          "output_type": "stream",
          "name": "stderr",
          "text": [
            "/usr/local/lib/python3.7/dist-packages/statsmodels/tools/_testing.py:19: FutureWarning: pandas.util.testing is deprecated. Use the functions in the public API at pandas.testing instead.\n",
            "  import pandas.util.testing as tm\n"
          ]
        }
      ]
    },
    {
      "cell_type": "markdown",
      "metadata": {
        "id": "ap4_g0mLcZZt"
      },
      "source": [
        "Se utiliza un método estadístico denominado: Prueba Dickey-Fuller. Consiste en un contraste de hipótesis, la hipótesis nula en este caso es\n",
        "\n",
        "$H_{0}$: La serie no es estacionaria.\n",
        "\n"
      ]
    },
    {
      "cell_type": "markdown",
      "source": [
        "La prueba arroja los siguientes valores.\n",
        "* Valor estadístico de contraste: -11\n",
        "* P-value: 8.15e-21"
      ],
      "metadata": {
        "id": "2kqDmGf2tt0U"
      }
    },
    {
      "cell_type": "code",
      "metadata": {
        "colab": {
          "base_uri": "https://localhost:8080/"
        },
        "id": "afU5rdf9b21x",
        "outputId": "916f4919-659a-41d3-b16b-7e9a9896521d"
      },
      "source": [
        "sts.adfuller(df)"
      ],
      "execution_count": null,
      "outputs": [
        {
          "output_type": "execute_result",
          "data": {
            "text/plain": [
              "(-11.38901565148182,\n",
              " 8.154764893350548e-21,\n",
              " 37,\n",
              " 8722,\n",
              " {'1%': -3.431099968539641,\n",
              "  '10%': -2.5669464184887825,\n",
              "  '5%': -2.86187143613454},\n",
              " 104787.19950317378)"
            ]
          },
          "metadata": {},
          "execution_count": 6
        }
      ]
    },
    {
      "cell_type": "markdown",
      "source": [
        "Si el valor del estadístico: -11.38 es menor que el valor crítico: (1%) -3.43, entonces se puede rechazar la hipótesis nula."
      ],
      "metadata": {
        "id": "MKogE-LxutsF"
      }
    },
    {
      "cell_type": "markdown",
      "source": [
        "Mientras el p-valor sea más cercano a cero, se tiene menos confianza en la hipótesis nula. Por lo tanto, la serie temporal de radiación solar **es estacionaria**."
      ],
      "metadata": {
        "id": "Wpdxf_XKrqv2"
      }
    },
    {
      "cell_type": "markdown",
      "source": [
        "Esto tiene sentido, pues la radiación solar a lo largo del tiempo no presenta tendencia, es decir, no incrementa o disminuye a lo largo del tiempo. Se mantiene oscilando alrededor de un valor."
      ],
      "metadata": {
        "id": "qN0iomATuCsF"
      }
    },
    {
      "cell_type": "markdown",
      "metadata": {
        "id": "WI4gpAPD7jOS"
      },
      "source": [
        "## Estacionalidad"
      ]
    },
    {
      "cell_type": "markdown",
      "source": [
        "La serie es estacional si existen ciertas tendencias que se repiten de forma cíclica."
      ],
      "metadata": {
        "id": "c7-91ZBIvgTV"
      }
    },
    {
      "cell_type": "code",
      "metadata": {
        "id": "VyKG-0NncFbM"
      },
      "source": [
        "from statsmodels.tsa.seasonal import seasonal_decompose"
      ],
      "execution_count": null,
      "outputs": []
    },
    {
      "cell_type": "markdown",
      "metadata": {
        "id": "OXmyG5k3_xpj"
      },
      "source": [
        "Una forma de comprobar si la serie actual es estacional es dividiéndola en factores."
      ]
    },
    {
      "cell_type": "markdown",
      "source": [
        "**Descomposición clásica (enfoque aditivo)**"
      ],
      "metadata": {
        "id": "ibIqvuQUG-b5"
      }
    },
    {
      "cell_type": "markdown",
      "source": [
        "Los valores de la serie de tiempo son el resultado de la suma de la tendencia, el efecto estacional y el residuo."
      ],
      "metadata": {
        "id": "5F1n9gMEHC17"
      }
    },
    {
      "cell_type": "markdown",
      "source": [
        "$X_{t}=u{t}+S_{t}+ϵ_{t}$\n",
        "\n",
        "donde $X_{t}$ es el valor observado, $u_{t}$ es el efecto de la tendencia, $S_{t}$ es el efecto estacional y $ϵ_{t}$ es el valor residual."
      ],
      "metadata": {
        "id": "w03LmM4qHpKY"
      }
    },
    {
      "cell_type": "code",
      "metadata": {
        "colab": {
          "base_uri": "https://localhost:8080/",
          "height": 299
        },
        "id": "zG3kxTYW7kuG",
        "outputId": "df30929c-a2ad-4858-d73b-e9d5f32c9ecd"
      },
      "source": [
        "s_dec_additive = seasonal_decompose(df['2015-01-01':'2015-01-08'], model = \"additive\")\n",
        "s_dec_additive.plot()\n",
        "plt.show()"
      ],
      "execution_count": null,
      "outputs": [
        {
          "output_type": "display_data",
          "data": {
            "image/png": "[encoded data removed]",
            "text/plain": [
              "<Figure size 432x288 with 4 Axes>"
            ]
          },
          "metadata": {
            "needs_background": "light"
          }
        }
      ]
    },
    {
      "cell_type": "markdown",
      "source": [
        "En este caso se puede observar un claro efecto estacional, y es así porque la radiación solar siempre estará presente durante el día y desaparecerá en la noche."
      ],
      "metadata": {
        "id": "8ENEPAMqHLgo"
      }
    },
    {
      "cell_type": "markdown",
      "metadata": {
        "id": "xGdVTC8NFwUr"
      },
      "source": [
        "## Autocorrelación"
      ]
    },
    {
      "cell_type": "markdown",
      "source": [
        "Se busca si los valores pasados de la serie temporal tienen algún efecto sobre los valores actuales."
      ],
      "metadata": {
        "id": "CYtjys96Ie9Y"
      }
    },
    {
      "cell_type": "code",
      "metadata": {
        "id": "FF2qufv7F-wE"
      },
      "source": [
        "import statsmodels.graphics.tsaplots as sgt"
      ],
      "execution_count": null,
      "outputs": []
    },
    {
      "cell_type": "markdown",
      "metadata": {
        "id": "tahnRW1oG3hU"
      },
      "source": [
        "Se observa autocorrelación con los datos de un día antes (24h) y hasta dos días antes (48h)."
      ]
    },
    {
      "cell_type": "code",
      "metadata": {
        "colab": {
          "base_uri": "https://localhost:8080/",
          "height": 286
        },
        "id": "TJaW9dtx_raG",
        "outputId": "ca34f85f-c9be-4ec6-e68b-e4681d3bbfba"
      },
      "source": [
        "sgt.plot_acf(df, lags = 48, zero = False)\n",
        "plt.title(\"ACF Radiación Solar Global Promedio\", size = 20)\n",
        "plt.show()"
      ],
      "execution_count": null,
      "outputs": [
        {
          "output_type": "display_data",
          "data": {
            "image/png": "[encoded data removed]",
            "text/plain": [
              "<Figure size 432x288 with 1 Axes>"
            ]
          },
          "metadata": {
            "needs_background": "light"
          }
        }
      ]
    },
    {
      "cell_type": "markdown",
      "metadata": {
        "id": "UhX-29keZLlh"
      },
      "source": [
        "## Autocorrelación parcial\n",
        "Se utiliza el método de mínimos cuadrados ordinarios para descartar los efectos indirectos. Es decir, se buscan los datos pasados que tengan un peso real sobre el dato actual. "
      ]
    },
    {
      "cell_type": "markdown",
      "metadata": {
        "id": "XZ__ZXVdaBhD"
      },
      "source": [
        "La influencia de datos pasados se mantiene hasta cerca de 24 horas, en el caso anterior la correlación se extendía más hacia el pasado debido a la influencia acumulada de todas las horas pasadas."
      ]
    },
    {
      "cell_type": "code",
      "metadata": {
        "colab": {
          "base_uri": "https://localhost:8080/",
          "height": 283
        },
        "id": "I2VqgY49GUKB",
        "outputId": "7bb024d3-6563-4c00-ff96-38fccb7b636c"
      },
      "source": [
        "sgt.plot_pacf(df, lags = 48, zero = False, method = ('ols'))\n",
        "plt.title(\"PACF Radiación Solar Global Promedio\", size = 15)\n",
        "plt.show()"
      ],
      "execution_count": null,
      "outputs": [
        {
          "output_type": "display_data",
          "data": {
            "image/png": "[encoded data removed]",
            "text/plain": [
              "<Figure size 432x288 with 1 Axes>"
            ]
          },
          "metadata": {
            "needs_background": "light"
          }
        }
      ]
    },
    {
      "cell_type": "markdown",
      "source": [
        "Estos resultados permiten determinar la ventana de datos pasados que pueden alimentar al modelo. Utilizar más de 24 horas pasadas para predecir la hora actual no va a lograr mejores resultados."
      ],
      "metadata": {
        "id": "2VuY6kuCJuSx"
      }
    }
  ]
}