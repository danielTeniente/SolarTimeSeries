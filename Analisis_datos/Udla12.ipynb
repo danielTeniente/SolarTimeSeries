{
  "nbformat": 4,
  "nbformat_minor": 0,
  "metadata": {
    "colab": {
      "name": "Udla12.ipynb",
      "provenance": []
    },
    "kernelspec": {
      "name": "python3",
      "display_name": "Python 3"
    },
    "language_info": {
      "name": "python"
    }
  },
  "cells": [
    {
      "cell_type": "markdown",
      "source": [
        "# Revisando datos de Quito"
      ],
      "metadata": {
        "id": "hcQwkSeCteIt"
      }
    },
    {
      "cell_type": "markdown",
      "source": [
        "Los datos utilizados hasta este momento eran de Cuenca"
      ],
      "metadata": {
        "id": "rYwEzms8uGwt"
      }
    },
    {
      "cell_type": "code",
      "execution_count": 1,
      "metadata": {
        "id": "KMBE2o5wtbYr"
      },
      "outputs": [],
      "source": [
        "import pandas as pd"
      ]
    },
    {
      "cell_type": "code",
      "source": [
        "dfQuito = pd.read_csv('/content/drive/MyDrive/DatosInvestigacion/preclean-data-El Camal.csv')"
      ],
      "metadata": {
        "id": "oe8mYfZtuE4u"
      },
      "execution_count": 13,
      "outputs": []
    },
    {
      "cell_type": "code",
      "source": [
        "dfQuito.head(24)"
      ],
      "metadata": {
        "colab": {
          "base_uri": "https://localhost:8080/",
          "height": 801
        },
        "id": "a1W5rsuyuNHX",
        "outputId": "b4df8fa7-6c81-4f63-ca30-99c4776ede7a"
      },
      "execution_count": 24,
      "outputs": [
        {
          "output_type": "execute_result",
          "data": {
            "text/html": [
              "\n",
              "  <div id=\"df-ad871bcf-f44f-41bc-a3ae-4e2971b8f5e0\">\n",
              "    <div class=\"colab-df-container\">\n",
              "      <div>\n",
              "<style scoped>\n",
              "    .dataframe tbody tr th:only-of-type {\n",
              "        vertical-align: middle;\n",
              "    }\n",
              "\n",
              "    .dataframe tbody tr th {\n",
              "        vertical-align: top;\n",
              "    }\n",
              "\n",
              "    .dataframe thead th {\n",
              "        text-align: right;\n",
              "    }\n",
              "</style>\n",
              "<table border=\"1\" class=\"dataframe\">\n",
              "  <thead>\n",
              "    <tr style=\"text-align: right;\">\n",
              "      <th></th>\n",
              "      <th>Unnamed: 0</th>\n",
              "      <th>Station</th>\n",
              "      <th>Date_time</th>\n",
              "      <th>CO</th>\n",
              "      <th>DIR</th>\n",
              "      <th>HUM</th>\n",
              "      <th>LLU</th>\n",
              "      <th>NO2</th>\n",
              "      <th>O3</th>\n",
              "      <th>PM2.5</th>\n",
              "      <th>PM10</th>\n",
              "      <th>PRE</th>\n",
              "      <th>RS</th>\n",
              "      <th>SO2</th>\n",
              "      <th>TMP</th>\n",
              "      <th>VEL</th>\n",
              "    </tr>\n",
              "  </thead>\n",
              "  <tbody>\n",
              "    <tr>\n",
              "      <th>0</th>\n",
              "      <td>1</td>\n",
              "      <td>EL CAMAL</td>\n",
              "      <td>2004-01-01 00:00:00</td>\n",
              "      <td>3.96</td>\n",
              "      <td>253.95</td>\n",
              "      <td>76.89</td>\n",
              "      <td>0.0</td>\n",
              "      <td>NaN</td>\n",
              "      <td>90.85</td>\n",
              "      <td>NaN</td>\n",
              "      <td>NaN</td>\n",
              "      <td>725.21</td>\n",
              "      <td>23.69</td>\n",
              "      <td>8.17</td>\n",
              "      <td>12.57</td>\n",
              "      <td>1.86</td>\n",
              "    </tr>\n",
              "    <tr>\n",
              "      <th>1</th>\n",
              "      <td>2</td>\n",
              "      <td>EL CAMAL</td>\n",
              "      <td>2004-01-01 01:00:00</td>\n",
              "      <td>3.49</td>\n",
              "      <td>246.12</td>\n",
              "      <td>75.94</td>\n",
              "      <td>0.0</td>\n",
              "      <td>NaN</td>\n",
              "      <td>63.25</td>\n",
              "      <td>NaN</td>\n",
              "      <td>NaN</td>\n",
              "      <td>724.45</td>\n",
              "      <td>23.65</td>\n",
              "      <td>9.14</td>\n",
              "      <td>12.16</td>\n",
              "      <td>1.49</td>\n",
              "    </tr>\n",
              "    <tr>\n",
              "      <th>2</th>\n",
              "      <td>3</td>\n",
              "      <td>EL CAMAL</td>\n",
              "      <td>2004-01-01 02:00:00</td>\n",
              "      <td>1.78</td>\n",
              "      <td>256.44</td>\n",
              "      <td>76.08</td>\n",
              "      <td>0.0</td>\n",
              "      <td>NaN</td>\n",
              "      <td>20.68</td>\n",
              "      <td>NaN</td>\n",
              "      <td>NaN</td>\n",
              "      <td>724.10</td>\n",
              "      <td>23.76</td>\n",
              "      <td>8.61</td>\n",
              "      <td>11.87</td>\n",
              "      <td>1.83</td>\n",
              "    </tr>\n",
              "    <tr>\n",
              "      <th>3</th>\n",
              "      <td>4</td>\n",
              "      <td>EL CAMAL</td>\n",
              "      <td>2004-01-01 03:00:00</td>\n",
              "      <td>1.29</td>\n",
              "      <td>264.63</td>\n",
              "      <td>78.94</td>\n",
              "      <td>0.0</td>\n",
              "      <td>NaN</td>\n",
              "      <td>12.06</td>\n",
              "      <td>NaN</td>\n",
              "      <td>NaN</td>\n",
              "      <td>724.03</td>\n",
              "      <td>23.88</td>\n",
              "      <td>7.24</td>\n",
              "      <td>11.38</td>\n",
              "      <td>1.74</td>\n",
              "    </tr>\n",
              "    <tr>\n",
              "      <th>4</th>\n",
              "      <td>5</td>\n",
              "      <td>EL CAMAL</td>\n",
              "      <td>2004-01-01 04:00:00</td>\n",
              "      <td>0.90</td>\n",
              "      <td>211.47</td>\n",
              "      <td>79.83</td>\n",
              "      <td>0.0</td>\n",
              "      <td>NaN</td>\n",
              "      <td>12.64</td>\n",
              "      <td>NaN</td>\n",
              "      <td>NaN</td>\n",
              "      <td>724.22</td>\n",
              "      <td>23.98</td>\n",
              "      <td>6.30</td>\n",
              "      <td>11.31</td>\n",
              "      <td>3.34</td>\n",
              "    </tr>\n",
              "    <tr>\n",
              "      <th>5</th>\n",
              "      <td>6</td>\n",
              "      <td>EL CAMAL</td>\n",
              "      <td>2004-01-01 05:00:00</td>\n",
              "      <td>0.90</td>\n",
              "      <td>228.79</td>\n",
              "      <td>80.36</td>\n",
              "      <td>0.0</td>\n",
              "      <td>NaN</td>\n",
              "      <td>14.77</td>\n",
              "      <td>NaN</td>\n",
              "      <td>NaN</td>\n",
              "      <td>724.57</td>\n",
              "      <td>23.88</td>\n",
              "      <td>6.43</td>\n",
              "      <td>11.08</td>\n",
              "      <td>2.41</td>\n",
              "    </tr>\n",
              "    <tr>\n",
              "      <th>6</th>\n",
              "      <td>7</td>\n",
              "      <td>EL CAMAL</td>\n",
              "      <td>2004-01-01 06:00:00</td>\n",
              "      <td>0.71</td>\n",
              "      <td>207.43</td>\n",
              "      <td>75.40</td>\n",
              "      <td>0.0</td>\n",
              "      <td>NaN</td>\n",
              "      <td>19.28</td>\n",
              "      <td>NaN</td>\n",
              "      <td>NaN</td>\n",
              "      <td>725.27</td>\n",
              "      <td>25.75</td>\n",
              "      <td>6.18</td>\n",
              "      <td>11.45</td>\n",
              "      <td>3.25</td>\n",
              "    </tr>\n",
              "    <tr>\n",
              "      <th>7</th>\n",
              "      <td>8</td>\n",
              "      <td>EL CAMAL</td>\n",
              "      <td>2004-01-01 07:00:00</td>\n",
              "      <td>0.67</td>\n",
              "      <td>203.40</td>\n",
              "      <td>70.73</td>\n",
              "      <td>0.0</td>\n",
              "      <td>NaN</td>\n",
              "      <td>25.16</td>\n",
              "      <td>NaN</td>\n",
              "      <td>NaN</td>\n",
              "      <td>725.81</td>\n",
              "      <td>217.31</td>\n",
              "      <td>6.06</td>\n",
              "      <td>12.63</td>\n",
              "      <td>4.15</td>\n",
              "    </tr>\n",
              "    <tr>\n",
              "      <th>8</th>\n",
              "      <td>9</td>\n",
              "      <td>EL CAMAL</td>\n",
              "      <td>2004-01-01 08:00:00</td>\n",
              "      <td>0.73</td>\n",
              "      <td>217.99</td>\n",
              "      <td>64.73</td>\n",
              "      <td>0.0</td>\n",
              "      <td>NaN</td>\n",
              "      <td>31.28</td>\n",
              "      <td>NaN</td>\n",
              "      <td>NaN</td>\n",
              "      <td>726.09</td>\n",
              "      <td>437.87</td>\n",
              "      <td>6.45</td>\n",
              "      <td>14.36</td>\n",
              "      <td>3.88</td>\n",
              "    </tr>\n",
              "    <tr>\n",
              "      <th>9</th>\n",
              "      <td>10</td>\n",
              "      <td>EL CAMAL</td>\n",
              "      <td>2004-01-01 09:00:00</td>\n",
              "      <td>0.63</td>\n",
              "      <td>186.31</td>\n",
              "      <td>54.78</td>\n",
              "      <td>0.0</td>\n",
              "      <td>NaN</td>\n",
              "      <td>39.36</td>\n",
              "      <td>NaN</td>\n",
              "      <td>NaN</td>\n",
              "      <td>726.07</td>\n",
              "      <td>619.35</td>\n",
              "      <td>5.84</td>\n",
              "      <td>16.60</td>\n",
              "      <td>3.29</td>\n",
              "    </tr>\n",
              "    <tr>\n",
              "      <th>10</th>\n",
              "      <td>11</td>\n",
              "      <td>EL CAMAL</td>\n",
              "      <td>2004-01-01 10:00:00</td>\n",
              "      <td>0.65</td>\n",
              "      <td>140.74</td>\n",
              "      <td>48.45</td>\n",
              "      <td>0.0</td>\n",
              "      <td>NaN</td>\n",
              "      <td>47.69</td>\n",
              "      <td>NaN</td>\n",
              "      <td>NaN</td>\n",
              "      <td>725.70</td>\n",
              "      <td>770.22</td>\n",
              "      <td>5.67</td>\n",
              "      <td>18.30</td>\n",
              "      <td>2.82</td>\n",
              "    </tr>\n",
              "    <tr>\n",
              "      <th>11</th>\n",
              "      <td>12</td>\n",
              "      <td>EL CAMAL</td>\n",
              "      <td>2004-01-01 11:00:00</td>\n",
              "      <td>0.69</td>\n",
              "      <td>105.61</td>\n",
              "      <td>44.49</td>\n",
              "      <td>0.0</td>\n",
              "      <td>NaN</td>\n",
              "      <td>54.16</td>\n",
              "      <td>NaN</td>\n",
              "      <td>NaN</td>\n",
              "      <td>725.17</td>\n",
              "      <td>796.70</td>\n",
              "      <td>5.80</td>\n",
              "      <td>19.28</td>\n",
              "      <td>2.47</td>\n",
              "    </tr>\n",
              "    <tr>\n",
              "      <th>12</th>\n",
              "      <td>13</td>\n",
              "      <td>EL CAMAL</td>\n",
              "      <td>2004-01-01 12:00:00</td>\n",
              "      <td>0.70</td>\n",
              "      <td>143.59</td>\n",
              "      <td>41.76</td>\n",
              "      <td>0.0</td>\n",
              "      <td>NaN</td>\n",
              "      <td>58.13</td>\n",
              "      <td>NaN</td>\n",
              "      <td>NaN</td>\n",
              "      <td>724.66</td>\n",
              "      <td>826.51</td>\n",
              "      <td>5.79</td>\n",
              "      <td>20.51</td>\n",
              "      <td>2.13</td>\n",
              "    </tr>\n",
              "    <tr>\n",
              "      <th>13</th>\n",
              "      <td>14</td>\n",
              "      <td>EL CAMAL</td>\n",
              "      <td>2004-01-01 13:00:00</td>\n",
              "      <td>0.66</td>\n",
              "      <td>104.43</td>\n",
              "      <td>40.62</td>\n",
              "      <td>0.0</td>\n",
              "      <td>NaN</td>\n",
              "      <td>54.34</td>\n",
              "      <td>NaN</td>\n",
              "      <td>NaN</td>\n",
              "      <td>723.96</td>\n",
              "      <td>762.99</td>\n",
              "      <td>5.80</td>\n",
              "      <td>20.90</td>\n",
              "      <td>2.50</td>\n",
              "    </tr>\n",
              "    <tr>\n",
              "      <th>14</th>\n",
              "      <td>15</td>\n",
              "      <td>EL CAMAL</td>\n",
              "      <td>2004-01-01 14:00:00</td>\n",
              "      <td>0.67</td>\n",
              "      <td>69.54</td>\n",
              "      <td>40.37</td>\n",
              "      <td>0.0</td>\n",
              "      <td>NaN</td>\n",
              "      <td>53.12</td>\n",
              "      <td>NaN</td>\n",
              "      <td>NaN</td>\n",
              "      <td>723.15</td>\n",
              "      <td>671.86</td>\n",
              "      <td>5.87</td>\n",
              "      <td>21.39</td>\n",
              "      <td>2.73</td>\n",
              "    </tr>\n",
              "    <tr>\n",
              "      <th>15</th>\n",
              "      <td>16</td>\n",
              "      <td>EL CAMAL</td>\n",
              "      <td>2004-01-01 15:00:00</td>\n",
              "      <td>0.69</td>\n",
              "      <td>59.81</td>\n",
              "      <td>41.35</td>\n",
              "      <td>0.0</td>\n",
              "      <td>NaN</td>\n",
              "      <td>48.63</td>\n",
              "      <td>NaN</td>\n",
              "      <td>NaN</td>\n",
              "      <td>722.69</td>\n",
              "      <td>378.57</td>\n",
              "      <td>6.10</td>\n",
              "      <td>20.75</td>\n",
              "      <td>3.39</td>\n",
              "    </tr>\n",
              "    <tr>\n",
              "      <th>16</th>\n",
              "      <td>17</td>\n",
              "      <td>EL CAMAL</td>\n",
              "      <td>2004-01-01 16:00:00</td>\n",
              "      <td>0.73</td>\n",
              "      <td>68.12</td>\n",
              "      <td>40.34</td>\n",
              "      <td>0.0</td>\n",
              "      <td>NaN</td>\n",
              "      <td>46.54</td>\n",
              "      <td>NaN</td>\n",
              "      <td>NaN</td>\n",
              "      <td>722.81</td>\n",
              "      <td>310.01</td>\n",
              "      <td>6.11</td>\n",
              "      <td>21.34</td>\n",
              "      <td>2.62</td>\n",
              "    </tr>\n",
              "    <tr>\n",
              "      <th>17</th>\n",
              "      <td>18</td>\n",
              "      <td>EL CAMAL</td>\n",
              "      <td>2004-01-01 17:00:00</td>\n",
              "      <td>0.80</td>\n",
              "      <td>77.13</td>\n",
              "      <td>45.26</td>\n",
              "      <td>0.0</td>\n",
              "      <td>NaN</td>\n",
              "      <td>41.25</td>\n",
              "      <td>NaN</td>\n",
              "      <td>NaN</td>\n",
              "      <td>723.54</td>\n",
              "      <td>49.27</td>\n",
              "      <td>6.07</td>\n",
              "      <td>18.51</td>\n",
              "      <td>3.38</td>\n",
              "    </tr>\n",
              "    <tr>\n",
              "      <th>18</th>\n",
              "      <td>19</td>\n",
              "      <td>EL CAMAL</td>\n",
              "      <td>2004-01-01 18:00:00</td>\n",
              "      <td>1.01</td>\n",
              "      <td>66.57</td>\n",
              "      <td>52.42</td>\n",
              "      <td>0.0</td>\n",
              "      <td>NaN</td>\n",
              "      <td>34.53</td>\n",
              "      <td>NaN</td>\n",
              "      <td>NaN</td>\n",
              "      <td>724.33</td>\n",
              "      <td>23.05</td>\n",
              "      <td>6.16</td>\n",
              "      <td>16.07</td>\n",
              "      <td>2.75</td>\n",
              "    </tr>\n",
              "    <tr>\n",
              "      <th>19</th>\n",
              "      <td>20</td>\n",
              "      <td>EL CAMAL</td>\n",
              "      <td>2004-01-01 19:00:00</td>\n",
              "      <td>0.96</td>\n",
              "      <td>146.32</td>\n",
              "      <td>52.93</td>\n",
              "      <td>0.0</td>\n",
              "      <td>NaN</td>\n",
              "      <td>32.00</td>\n",
              "      <td>NaN</td>\n",
              "      <td>NaN</td>\n",
              "      <td>724.98</td>\n",
              "      <td>23.51</td>\n",
              "      <td>6.12</td>\n",
              "      <td>15.29</td>\n",
              "      <td>2.35</td>\n",
              "    </tr>\n",
              "    <tr>\n",
              "      <th>20</th>\n",
              "      <td>21</td>\n",
              "      <td>EL CAMAL</td>\n",
              "      <td>2004-01-01 20:00:00</td>\n",
              "      <td>0.88</td>\n",
              "      <td>160.44</td>\n",
              "      <td>54.20</td>\n",
              "      <td>0.0</td>\n",
              "      <td>NaN</td>\n",
              "      <td>32.40</td>\n",
              "      <td>NaN</td>\n",
              "      <td>NaN</td>\n",
              "      <td>725.51</td>\n",
              "      <td>23.66</td>\n",
              "      <td>6.11</td>\n",
              "      <td>14.45</td>\n",
              "      <td>2.42</td>\n",
              "    </tr>\n",
              "    <tr>\n",
              "      <th>21</th>\n",
              "      <td>22</td>\n",
              "      <td>EL CAMAL</td>\n",
              "      <td>2004-01-01 21:00:00</td>\n",
              "      <td>1.43</td>\n",
              "      <td>265.34</td>\n",
              "      <td>58.63</td>\n",
              "      <td>0.0</td>\n",
              "      <td>NaN</td>\n",
              "      <td>15.06</td>\n",
              "      <td>NaN</td>\n",
              "      <td>NaN</td>\n",
              "      <td>725.70</td>\n",
              "      <td>23.59</td>\n",
              "      <td>7.16</td>\n",
              "      <td>13.81</td>\n",
              "      <td>1.28</td>\n",
              "    </tr>\n",
              "    <tr>\n",
              "      <th>22</th>\n",
              "      <td>23</td>\n",
              "      <td>EL CAMAL</td>\n",
              "      <td>2004-01-01 22:00:00</td>\n",
              "      <td>1.00</td>\n",
              "      <td>249.80</td>\n",
              "      <td>62.04</td>\n",
              "      <td>0.0</td>\n",
              "      <td>NaN</td>\n",
              "      <td>20.08</td>\n",
              "      <td>NaN</td>\n",
              "      <td>NaN</td>\n",
              "      <td>725.83</td>\n",
              "      <td>23.67</td>\n",
              "      <td>6.63</td>\n",
              "      <td>13.20</td>\n",
              "      <td>1.25</td>\n",
              "    </tr>\n",
              "    <tr>\n",
              "      <th>23</th>\n",
              "      <td>24</td>\n",
              "      <td>EL CAMAL</td>\n",
              "      <td>2004-01-01 23:00:00</td>\n",
              "      <td>0.80</td>\n",
              "      <td>248.73</td>\n",
              "      <td>64.54</td>\n",
              "      <td>0.0</td>\n",
              "      <td>NaN</td>\n",
              "      <td>23.93</td>\n",
              "      <td>NaN</td>\n",
              "      <td>NaN</td>\n",
              "      <td>725.86</td>\n",
              "      <td>23.67</td>\n",
              "      <td>6.60</td>\n",
              "      <td>12.91</td>\n",
              "      <td>1.19</td>\n",
              "    </tr>\n",
              "  </tbody>\n",
              "</table>\n",
              "</div>\n",
              "      <button class=\"colab-df-convert\" onclick=\"convertToInteractive('df-ad871bcf-f44f-41bc-a3ae-4e2971b8f5e0')\"\n",
              "              title=\"Convert this dataframe to an interactive table.\"\n",
              "              style=\"display:none;\">\n",
              "        \n",
              "  <svg xmlns=\"http://www.w3.org/2000/svg\" height=\"24px\"viewBox=\"0 0 24 24\"\n",
              "       width=\"24px\">\n",
              "    <path d=\"M0 0h24v24H0V0z\" fill=\"none\"/>\n",
              "    <path d=\"M18.56 5.44l.94 2.06.94-2.06 2.06-.94-2.06-.94-.94-2.06-.94 2.06-2.06.94zm-11 1L8.5 8.5l.94-2.06 2.06-.94-2.06-.94L8.5 2.5l-.94 2.06-2.06.94zm10 10l.94 2.06.94-2.06 2.06-.94-2.06-.94-.94-2.06-.94 2.06-2.06.94z\"/><path d=\"M17.41 7.96l-1.37-1.37c-.4-.4-.92-.59-1.43-.59-.52 0-1.04.2-1.43.59L10.3 9.45l-7.72 7.72c-.78.78-.78 2.05 0 2.83L4 21.41c.39.39.9.59 1.41.59.51 0 1.02-.2 1.41-.59l7.78-7.78 2.81-2.81c.8-.78.8-2.07 0-2.86zM5.41 20L4 18.59l7.72-7.72 1.47 1.35L5.41 20z\"/>\n",
              "  </svg>\n",
              "      </button>\n",
              "      \n",
              "  <style>\n",
              "    .colab-df-container {\n",
              "      display:flex;\n",
              "      flex-wrap:wrap;\n",
              "      gap: 12px;\n",
              "    }\n",
              "\n",
              "    .colab-df-convert {\n",
              "      background-color: #E8F0FE;\n",
              "      border: none;\n",
              "      border-radius: 50%;\n",
              "      cursor: pointer;\n",
              "      display: none;\n",
              "      fill: #1967D2;\n",
              "      height: 32px;\n",
              "      padding: 0 0 0 0;\n",
              "      width: 32px;\n",
              "    }\n",
              "\n",
              "    .colab-df-convert:hover {\n",
              "      background-color: #E2EBFA;\n",
              "      box-shadow: 0px 1px 2px rgba(60, 64, 67, 0.3), 0px 1px 3px 1px rgba(60, 64, 67, 0.15);\n",
              "      fill: #174EA6;\n",
              "    }\n",
              "\n",
              "    [theme=dark] .colab-df-convert {\n",
              "      background-color: #3B4455;\n",
              "      fill: #D2E3FC;\n",
              "    }\n",
              "\n",
              "    [theme=dark] .colab-df-convert:hover {\n",
              "      background-color: #434B5C;\n",
              "      box-shadow: 0px 1px 3px 1px rgba(0, 0, 0, 0.15);\n",
              "      filter: drop-shadow(0px 1px 2px rgba(0, 0, 0, 0.3));\n",
              "      fill: #FFFFFF;\n",
              "    }\n",
              "  </style>\n",
              "\n",
              "      <script>\n",
              "        const buttonEl =\n",
              "          document.querySelector('#df-ad871bcf-f44f-41bc-a3ae-4e2971b8f5e0 button.colab-df-convert');\n",
              "        buttonEl.style.display =\n",
              "          google.colab.kernel.accessAllowed ? 'block' : 'none';\n",
              "\n",
              "        async function convertToInteractive(key) {\n",
              "          const element = document.querySelector('#df-ad871bcf-f44f-41bc-a3ae-4e2971b8f5e0');\n",
              "          const dataTable =\n",
              "            await google.colab.kernel.invokeFunction('convertToInteractive',\n",
              "                                                     [key], {});\n",
              "          if (!dataTable) return;\n",
              "\n",
              "          const docLinkHtml = 'Like what you see? Visit the ' +\n",
              "            '<a target=\"_blank\" href=https://colab.research.google.com/notebooks/data_table.ipynb>data table notebook</a>'\n",
              "            + ' to learn more about interactive tables.';\n",
              "          element.innerHTML = '';\n",
              "          dataTable['output_type'] = 'display_data';\n",
              "          await google.colab.output.renderOutput(dataTable, element);\n",
              "          const docLink = document.createElement('div');\n",
              "          docLink.innerHTML = docLinkHtml;\n",
              "          element.appendChild(docLink);\n",
              "        }\n",
              "      </script>\n",
              "    </div>\n",
              "  </div>\n",
              "  "
            ],
            "text/plain": [
              "    Unnamed: 0   Station            Date_time    CO  ...      RS   SO2    TMP   VEL\n",
              "0            1  EL CAMAL  2004-01-01 00:00:00  3.96  ...   23.69  8.17  12.57  1.86\n",
              "1            2  EL CAMAL  2004-01-01 01:00:00  3.49  ...   23.65  9.14  12.16  1.49\n",
              "2            3  EL CAMAL  2004-01-01 02:00:00  1.78  ...   23.76  8.61  11.87  1.83\n",
              "3            4  EL CAMAL  2004-01-01 03:00:00  1.29  ...   23.88  7.24  11.38  1.74\n",
              "4            5  EL CAMAL  2004-01-01 04:00:00  0.90  ...   23.98  6.30  11.31  3.34\n",
              "5            6  EL CAMAL  2004-01-01 05:00:00  0.90  ...   23.88  6.43  11.08  2.41\n",
              "6            7  EL CAMAL  2004-01-01 06:00:00  0.71  ...   25.75  6.18  11.45  3.25\n",
              "7            8  EL CAMAL  2004-01-01 07:00:00  0.67  ...  217.31  6.06  12.63  4.15\n",
              "8            9  EL CAMAL  2004-01-01 08:00:00  0.73  ...  437.87  6.45  14.36  3.88\n",
              "9           10  EL CAMAL  2004-01-01 09:00:00  0.63  ...  619.35  5.84  16.60  3.29\n",
              "10          11  EL CAMAL  2004-01-01 10:00:00  0.65  ...  770.22  5.67  18.30  2.82\n",
              "11          12  EL CAMAL  2004-01-01 11:00:00  0.69  ...  796.70  5.80  19.28  2.47\n",
              "12          13  EL CAMAL  2004-01-01 12:00:00  0.70  ...  826.51  5.79  20.51  2.13\n",
              "13          14  EL CAMAL  2004-01-01 13:00:00  0.66  ...  762.99  5.80  20.90  2.50\n",
              "14          15  EL CAMAL  2004-01-01 14:00:00  0.67  ...  671.86  5.87  21.39  2.73\n",
              "15          16  EL CAMAL  2004-01-01 15:00:00  0.69  ...  378.57  6.10  20.75  3.39\n",
              "16          17  EL CAMAL  2004-01-01 16:00:00  0.73  ...  310.01  6.11  21.34  2.62\n",
              "17          18  EL CAMAL  2004-01-01 17:00:00  0.80  ...   49.27  6.07  18.51  3.38\n",
              "18          19  EL CAMAL  2004-01-01 18:00:00  1.01  ...   23.05  6.16  16.07  2.75\n",
              "19          20  EL CAMAL  2004-01-01 19:00:00  0.96  ...   23.51  6.12  15.29  2.35\n",
              "20          21  EL CAMAL  2004-01-01 20:00:00  0.88  ...   23.66  6.11  14.45  2.42\n",
              "21          22  EL CAMAL  2004-01-01 21:00:00  1.43  ...   23.59  7.16  13.81  1.28\n",
              "22          23  EL CAMAL  2004-01-01 22:00:00  1.00  ...   23.67  6.63  13.20  1.25\n",
              "23          24  EL CAMAL  2004-01-01 23:00:00  0.80  ...   23.67  6.60  12.91  1.19\n",
              "\n",
              "[24 rows x 16 columns]"
            ]
          },
          "metadata": {},
          "execution_count": 24
        }
      ]
    },
    {
      "cell_type": "code",
      "source": [
        "dfQuito.isna().sum()"
      ],
      "metadata": {
        "colab": {
          "base_uri": "https://localhost:8080/"
        },
        "id": "tGflZUZQuOhp",
        "outputId": "862a2ba1-3478-4da8-8e80-72f6b7b72ed8"
      },
      "execution_count": 15,
      "outputs": [
        {
          "output_type": "execute_result",
          "data": {
            "text/plain": [
              "Unnamed: 0         0\n",
              "Station            0\n",
              "Date_time          0\n",
              "CO              3631\n",
              "DIR             1033\n",
              "HUM              452\n",
              "LLU              537\n",
              "NO2            36602\n",
              "O3              3409\n",
              "PM2.5           8840\n",
              "PM10          107329\n",
              "PRE              734\n",
              "RS               429\n",
              "SO2             3187\n",
              "TMP              390\n",
              "VEL             1035\n",
              "dtype: int64"
            ]
          },
          "metadata": {},
          "execution_count": 15
        }
      ]
    },
    {
      "cell_type": "code",
      "source": [
        "import missingno as msno"
      ],
      "metadata": {
        "id": "-cIiIuxEu19U"
      },
      "execution_count": 10,
      "outputs": []
    },
    {
      "cell_type": "code",
      "source": [
        "msno.matrix(dfQuito,figsize=(15,10), fontsize=12)"
      ],
      "metadata": {
        "colab": {
          "base_uri": "https://localhost:8080/",
          "height": 669
        },
        "id": "qfCgX3pVuYGh",
        "outputId": "610da65f-16c2-4726-a4ce-78140ecca299"
      },
      "execution_count": 16,
      "outputs": [
        {
          "output_type": "execute_result",
          "data": {
            "text/plain": [
              "<matplotlib.axes._subplots.AxesSubplot at 0x7efc92edd6d0>"
            ]
          },
          "metadata": {},
          "execution_count": 16
        },
        {
          "output_type": "display_data",
          "data": {
            "image/png": "[encoded data removed]",
            "text/plain": [
              "<Figure size 1080x720 with 2 Axes>"
            ]
          },
          "metadata": {
            "needs_background": "light"
          }
        }
      ]
    },
    {
      "cell_type": "code",
      "source": [
        "RS = dfQuito.iloc[:150]['RS']"
      ],
      "metadata": {
        "id": "7TB-I2ykvbbt"
      },
      "execution_count": 25,
      "outputs": []
    },
    {
      "cell_type": "code",
      "source": [
        "RS.plot()"
      ],
      "metadata": {
        "colab": {
          "base_uri": "https://localhost:8080/",
          "height": 282
        },
        "id": "Ms5iRu1cwF5G",
        "outputId": "cc6e8423-daa2-425a-b07b-90e7fd7c6b7e"
      },
      "execution_count": 26,
      "outputs": [
        {
          "output_type": "execute_result",
          "data": {
            "text/plain": [
              "<matplotlib.axes._subplots.AxesSubplot at 0x7efc9114de10>"
            ]
          },
          "metadata": {},
          "execution_count": 26
        },
        {
          "output_type": "display_data",
          "data": {
            "image/png": "[encoded data removed]",
            "text/plain": [
              "<Figure size 432x288 with 1 Axes>"
            ]
          },
          "metadata": {
            "needs_background": "light"
          }
        }
      ]
    },
    {
      "cell_type": "code",
      "source": [
        "VEL = dfQuito.iloc[:150]['VEL']"
      ],
      "metadata": {
        "id": "Jpt3iL4IxSgP"
      },
      "execution_count": 27,
      "outputs": []
    },
    {
      "cell_type": "code",
      "source": [
        "VEL.plot()"
      ],
      "metadata": {
        "colab": {
          "base_uri": "https://localhost:8080/",
          "height": 282
        },
        "id": "2-YW4UNbwGdN",
        "outputId": "771450a9-fe51-4ba6-c34f-0d66b25d6bba"
      },
      "execution_count": 28,
      "outputs": [
        {
          "output_type": "execute_result",
          "data": {
            "text/plain": [
              "<matplotlib.axes._subplots.AxesSubplot at 0x7efc9107b050>"
            ]
          },
          "metadata": {},
          "execution_count": 28
        },
        {
          "output_type": "display_data",
          "data": {
            "image/png": "[encoded data removed]",
            "text/plain": [
              "<Figure size 432x288 with 1 Axes>"
            ]
          },
          "metadata": {
            "needs_background": "light"
          }
        }
      ]
    },
    {
      "cell_type": "markdown",
      "source": [
        "Se consiguen las variables que son comunes en ambos dataset"
      ],
      "metadata": {
        "id": "KXiEMOOQyS31"
      }
    },
    {
      "cell_type": "code",
      "source": [
        "df_simple = dfQuito[['Date_time','RS','VEL','TMP','HUM']]"
      ],
      "metadata": {
        "id": "a2-X2jBLxVpk"
      },
      "execution_count": 35,
      "outputs": []
    },
    {
      "cell_type": "code",
      "source": [
        "df_simple.head()"
      ],
      "metadata": {
        "colab": {
          "base_uri": "https://localhost:8080/",
          "height": 206
        },
        "id": "IC6coTX9ygzA",
        "outputId": "5355802a-f7cf-4601-f9a1-769d25f4e880"
      },
      "execution_count": 36,
      "outputs": [
        {
          "output_type": "execute_result",
          "data": {
            "text/html": [
              "\n",
              "  <div id=\"df-9c26c82a-05ce-47e5-8e60-5891c7868816\">\n",
              "    <div class=\"colab-df-container\">\n",
              "      <div>\n",
              "<style scoped>\n",
              "    .dataframe tbody tr th:only-of-type {\n",
              "        vertical-align: middle;\n",
              "    }\n",
              "\n",
              "    .dataframe tbody tr th {\n",
              "        vertical-align: top;\n",
              "    }\n",
              "\n",
              "    .dataframe thead th {\n",
              "        text-align: right;\n",
              "    }\n",
              "</style>\n",
              "<table border=\"1\" class=\"dataframe\">\n",
              "  <thead>\n",
              "    <tr style=\"text-align: right;\">\n",
              "      <th></th>\n",
              "      <th>Date_time</th>\n",
              "      <th>RS</th>\n",
              "      <th>VEL</th>\n",
              "      <th>TMP</th>\n",
              "      <th>HUM</th>\n",
              "    </tr>\n",
              "  </thead>\n",
              "  <tbody>\n",
              "    <tr>\n",
              "      <th>0</th>\n",
              "      <td>2004-01-01 00:00:00</td>\n",
              "      <td>23.69</td>\n",
              "      <td>1.86</td>\n",
              "      <td>12.57</td>\n",
              "      <td>76.89</td>\n",
              "    </tr>\n",
              "    <tr>\n",
              "      <th>1</th>\n",
              "      <td>2004-01-01 01:00:00</td>\n",
              "      <td>23.65</td>\n",
              "      <td>1.49</td>\n",
              "      <td>12.16</td>\n",
              "      <td>75.94</td>\n",
              "    </tr>\n",
              "    <tr>\n",
              "      <th>2</th>\n",
              "      <td>2004-01-01 02:00:00</td>\n",
              "      <td>23.76</td>\n",
              "      <td>1.83</td>\n",
              "      <td>11.87</td>\n",
              "      <td>76.08</td>\n",
              "    </tr>\n",
              "    <tr>\n",
              "      <th>3</th>\n",
              "      <td>2004-01-01 03:00:00</td>\n",
              "      <td>23.88</td>\n",
              "      <td>1.74</td>\n",
              "      <td>11.38</td>\n",
              "      <td>78.94</td>\n",
              "    </tr>\n",
              "    <tr>\n",
              "      <th>4</th>\n",
              "      <td>2004-01-01 04:00:00</td>\n",
              "      <td>23.98</td>\n",
              "      <td>3.34</td>\n",
              "      <td>11.31</td>\n",
              "      <td>79.83</td>\n",
              "    </tr>\n",
              "  </tbody>\n",
              "</table>\n",
              "</div>\n",
              "      <button class=\"colab-df-convert\" onclick=\"convertToInteractive('df-9c26c82a-05ce-47e5-8e60-5891c7868816')\"\n",
              "              title=\"Convert this dataframe to an interactive table.\"\n",
              "              style=\"display:none;\">\n",
              "        \n",
              "  <svg xmlns=\"http://www.w3.org/2000/svg\" height=\"24px\"viewBox=\"0 0 24 24\"\n",
              "       width=\"24px\">\n",
              "    <path d=\"M0 0h24v24H0V0z\" fill=\"none\"/>\n",
              "    <path d=\"M18.56 5.44l.94 2.06.94-2.06 2.06-.94-2.06-.94-.94-2.06-.94 2.06-2.06.94zm-11 1L8.5 8.5l.94-2.06 2.06-.94-2.06-.94L8.5 2.5l-.94 2.06-2.06.94zm10 10l.94 2.06.94-2.06 2.06-.94-2.06-.94-.94-2.06-.94 2.06-2.06.94z\"/><path d=\"M17.41 7.96l-1.37-1.37c-.4-.4-.92-.59-1.43-.59-.52 0-1.04.2-1.43.59L10.3 9.45l-7.72 7.72c-.78.78-.78 2.05 0 2.83L4 21.41c.39.39.9.59 1.41.59.51 0 1.02-.2 1.41-.59l7.78-7.78 2.81-2.81c.8-.78.8-2.07 0-2.86zM5.41 20L4 18.59l7.72-7.72 1.47 1.35L5.41 20z\"/>\n",
              "  </svg>\n",
              "      </button>\n",
              "      \n",
              "  <style>\n",
              "    .colab-df-container {\n",
              "      display:flex;\n",
              "      flex-wrap:wrap;\n",
              "      gap: 12px;\n",
              "    }\n",
              "\n",
              "    .colab-df-convert {\n",
              "      background-color: #E8F0FE;\n",
              "      border: none;\n",
              "      border-radius: 50%;\n",
              "      cursor: pointer;\n",
              "      display: none;\n",
              "      fill: #1967D2;\n",
              "      height: 32px;\n",
              "      padding: 0 0 0 0;\n",
              "      width: 32px;\n",
              "    }\n",
              "\n",
              "    .colab-df-convert:hover {\n",
              "      background-color: #E2EBFA;\n",
              "      box-shadow: 0px 1px 2px rgba(60, 64, 67, 0.3), 0px 1px 3px 1px rgba(60, 64, 67, 0.15);\n",
              "      fill: #174EA6;\n",
              "    }\n",
              "\n",
              "    [theme=dark] .colab-df-convert {\n",
              "      background-color: #3B4455;\n",
              "      fill: #D2E3FC;\n",
              "    }\n",
              "\n",
              "    [theme=dark] .colab-df-convert:hover {\n",
              "      background-color: #434B5C;\n",
              "      box-shadow: 0px 1px 3px 1px rgba(0, 0, 0, 0.15);\n",
              "      filter: drop-shadow(0px 1px 2px rgba(0, 0, 0, 0.3));\n",
              "      fill: #FFFFFF;\n",
              "    }\n",
              "  </style>\n",
              "\n",
              "      <script>\n",
              "        const buttonEl =\n",
              "          document.querySelector('#df-9c26c82a-05ce-47e5-8e60-5891c7868816 button.colab-df-convert');\n",
              "        buttonEl.style.display =\n",
              "          google.colab.kernel.accessAllowed ? 'block' : 'none';\n",
              "\n",
              "        async function convertToInteractive(key) {\n",
              "          const element = document.querySelector('#df-9c26c82a-05ce-47e5-8e60-5891c7868816');\n",
              "          const dataTable =\n",
              "            await google.colab.kernel.invokeFunction('convertToInteractive',\n",
              "                                                     [key], {});\n",
              "          if (!dataTable) return;\n",
              "\n",
              "          const docLinkHtml = 'Like what you see? Visit the ' +\n",
              "            '<a target=\"_blank\" href=https://colab.research.google.com/notebooks/data_table.ipynb>data table notebook</a>'\n",
              "            + ' to learn more about interactive tables.';\n",
              "          element.innerHTML = '';\n",
              "          dataTable['output_type'] = 'display_data';\n",
              "          await google.colab.output.renderOutput(dataTable, element);\n",
              "          const docLink = document.createElement('div');\n",
              "          docLink.innerHTML = docLinkHtml;\n",
              "          element.appendChild(docLink);\n",
              "        }\n",
              "      </script>\n",
              "    </div>\n",
              "  </div>\n",
              "  "
            ],
            "text/plain": [
              "             Date_time     RS   VEL    TMP    HUM\n",
              "0  2004-01-01 00:00:00  23.69  1.86  12.57  76.89\n",
              "1  2004-01-01 01:00:00  23.65  1.49  12.16  75.94\n",
              "2  2004-01-01 02:00:00  23.76  1.83  11.87  76.08\n",
              "3  2004-01-01 03:00:00  23.88  1.74  11.38  78.94\n",
              "4  2004-01-01 04:00:00  23.98  3.34  11.31  79.83"
            ]
          },
          "metadata": {},
          "execution_count": 36
        }
      ]
    },
    {
      "cell_type": "code",
      "source": [
        "msno.matrix(df_simple,figsize=(15,10), fontsize=12)"
      ],
      "metadata": {
        "colab": {
          "base_uri": "https://localhost:8080/",
          "height": 661
        },
        "id": "qZVuCCLzyh6o",
        "outputId": "fbdd49d6-546d-4400-b84b-bdd51f27bed3"
      },
      "execution_count": 37,
      "outputs": [
        {
          "output_type": "execute_result",
          "data": {
            "text/plain": [
              "<matplotlib.axes._subplots.AxesSubplot at 0x7efc90efa710>"
            ]
          },
          "metadata": {},
          "execution_count": 37
        },
        {
          "output_type": "display_data",
          "data": {
            "image/png": "[encoded data removed]",
            "text/plain": [
              "<Figure size 1080x720 with 2 Axes>"
            ]
          },
          "metadata": {
            "needs_background": "light"
          }
        }
      ]
    },
    {
      "cell_type": "code",
      "source": [
        "df_simple.isna().sum()"
      ],
      "metadata": {
        "colab": {
          "base_uri": "https://localhost:8080/"
        },
        "id": "gF_Y8byhykRV",
        "outputId": "e84ae507-ab88-433f-9e25-7c58ff931a02"
      },
      "execution_count": 38,
      "outputs": [
        {
          "output_type": "execute_result",
          "data": {
            "text/plain": [
              "Date_time       0\n",
              "RS            429\n",
              "VEL          1035\n",
              "TMP           390\n",
              "HUM           452\n",
              "dtype: int64"
            ]
          },
          "metadata": {},
          "execution_count": 38
        }
      ]
    },
    {
      "cell_type": "code",
      "source": [
        "df_simple['Date_time'] = pd.to_datetime(df_simple['Date_time'])"
      ],
      "metadata": {
        "colab": {
          "base_uri": "https://localhost:8080/"
        },
        "id": "PSGocI-ozoVH",
        "outputId": "4db23a6c-9dc4-452f-cd13-07a438f7da9e"
      },
      "execution_count": 51,
      "outputs": [
        {
          "output_type": "stream",
          "name": "stderr",
          "text": [
            "/usr/local/lib/python3.7/dist-packages/ipykernel_launcher.py:1: SettingWithCopyWarning: \n",
            "A value is trying to be set on a copy of a slice from a DataFrame.\n",
            "Try using .loc[row_indexer,col_indexer] = value instead\n",
            "\n",
            "See the caveats in the documentation: https://pandas.pydata.org/pandas-docs/stable/user_guide/indexing.html#returning-a-view-versus-a-copy\n",
            "  \"\"\"Entry point for launching an IPython kernel.\n"
          ]
        }
      ]
    },
    {
      "cell_type": "code",
      "source": [
        "df_simple.dtypes"
      ],
      "metadata": {
        "colab": {
          "base_uri": "https://localhost:8080/"
        },
        "id": "6irgFh2UzNud",
        "outputId": "9cc0fd75-f135-4c76-e511-169c72a66ff4"
      },
      "execution_count": 52,
      "outputs": [
        {
          "output_type": "execute_result",
          "data": {
            "text/plain": [
              "Date_time    datetime64[ns]\n",
              "RS                  float64\n",
              "VEL                 float64\n",
              "TMP                 float64\n",
              "HUM                 float64\n",
              "dtype: object"
            ]
          },
          "metadata": {},
          "execution_count": 52
        }
      ]
    },
    {
      "cell_type": "code",
      "source": [
        "df_simple = df_simple.set_index('Date_time')"
      ],
      "metadata": {
        "id": "ZL3ORwIRyz_h"
      },
      "execution_count": 55,
      "outputs": []
    },
    {
      "cell_type": "code",
      "source": [
        "df2018 = df_simple.loc['2018']"
      ],
      "metadata": {
        "id": "mOwX1B62zYjd"
      },
      "execution_count": 61,
      "outputs": []
    },
    {
      "cell_type": "code",
      "source": [
        "df2018.head()"
      ],
      "metadata": {
        "colab": {
          "base_uri": "https://localhost:8080/",
          "height": 238
        },
        "id": "Cln-9vRt3Uv1",
        "outputId": "ec616437-4546-498b-c893-16d273af875b"
      },
      "execution_count": 76,
      "outputs": [
        {
          "output_type": "execute_result",
          "data": {
            "text/html": [
              "\n",
              "  <div id=\"df-a0e2d861-b095-4b3c-80b0-4fe3bfd2d3fe\">\n",
              "    <div class=\"colab-df-container\">\n",
              "      <div>\n",
              "<style scoped>\n",
              "    .dataframe tbody tr th:only-of-type {\n",
              "        vertical-align: middle;\n",
              "    }\n",
              "\n",
              "    .dataframe tbody tr th {\n",
              "        vertical-align: top;\n",
              "    }\n",
              "\n",
              "    .dataframe thead th {\n",
              "        text-align: right;\n",
              "    }\n",
              "</style>\n",
              "<table border=\"1\" class=\"dataframe\">\n",
              "  <thead>\n",
              "    <tr style=\"text-align: right;\">\n",
              "      <th></th>\n",
              "      <th>RS</th>\n",
              "      <th>VEL</th>\n",
              "      <th>TMP</th>\n",
              "      <th>HUM</th>\n",
              "    </tr>\n",
              "    <tr>\n",
              "      <th>Date_time</th>\n",
              "      <th></th>\n",
              "      <th></th>\n",
              "      <th></th>\n",
              "      <th></th>\n",
              "    </tr>\n",
              "  </thead>\n",
              "  <tbody>\n",
              "    <tr>\n",
              "      <th>2018-01-01 00:00:00</th>\n",
              "      <td>1.10</td>\n",
              "      <td>1.43</td>\n",
              "      <td>10.61</td>\n",
              "      <td>89.96</td>\n",
              "    </tr>\n",
              "    <tr>\n",
              "      <th>2018-01-01 01:00:00</th>\n",
              "      <td>0.62</td>\n",
              "      <td>0.27</td>\n",
              "      <td>10.25</td>\n",
              "      <td>86.96</td>\n",
              "    </tr>\n",
              "    <tr>\n",
              "      <th>2018-01-01 02:00:00</th>\n",
              "      <td>0.49</td>\n",
              "      <td>0.23</td>\n",
              "      <td>9.89</td>\n",
              "      <td>86.76</td>\n",
              "    </tr>\n",
              "    <tr>\n",
              "      <th>2018-01-01 03:00:00</th>\n",
              "      <td>0.89</td>\n",
              "      <td>0.98</td>\n",
              "      <td>9.50</td>\n",
              "      <td>90.40</td>\n",
              "    </tr>\n",
              "    <tr>\n",
              "      <th>2018-01-01 04:00:00</th>\n",
              "      <td>0.96</td>\n",
              "      <td>1.80</td>\n",
              "      <td>9.11</td>\n",
              "      <td>87.78</td>\n",
              "    </tr>\n",
              "  </tbody>\n",
              "</table>\n",
              "</div>\n",
              "      <button class=\"colab-df-convert\" onclick=\"convertToInteractive('df-a0e2d861-b095-4b3c-80b0-4fe3bfd2d3fe')\"\n",
              "              title=\"Convert this dataframe to an interactive table.\"\n",
              "              style=\"display:none;\">\n",
              "        \n",
              "  <svg xmlns=\"http://www.w3.org/2000/svg\" height=\"24px\"viewBox=\"0 0 24 24\"\n",
              "       width=\"24px\">\n",
              "    <path d=\"M0 0h24v24H0V0z\" fill=\"none\"/>\n",
              "    <path d=\"M18.56 5.44l.94 2.06.94-2.06 2.06-.94-2.06-.94-.94-2.06-.94 2.06-2.06.94zm-11 1L8.5 8.5l.94-2.06 2.06-.94-2.06-.94L8.5 2.5l-.94 2.06-2.06.94zm10 10l.94 2.06.94-2.06 2.06-.94-2.06-.94-.94-2.06-.94 2.06-2.06.94z\"/><path d=\"M17.41 7.96l-1.37-1.37c-.4-.4-.92-.59-1.43-.59-.52 0-1.04.2-1.43.59L10.3 9.45l-7.72 7.72c-.78.78-.78 2.05 0 2.83L4 21.41c.39.39.9.59 1.41.59.51 0 1.02-.2 1.41-.59l7.78-7.78 2.81-2.81c.8-.78.8-2.07 0-2.86zM5.41 20L4 18.59l7.72-7.72 1.47 1.35L5.41 20z\"/>\n",
              "  </svg>\n",
              "      </button>\n",
              "      \n",
              "  <style>\n",
              "    .colab-df-container {\n",
              "      display:flex;\n",
              "      flex-wrap:wrap;\n",
              "      gap: 12px;\n",
              "    }\n",
              "\n",
              "    .colab-df-convert {\n",
              "      background-color: #E8F0FE;\n",
              "      border: none;\n",
              "      border-radius: 50%;\n",
              "      cursor: pointer;\n",
              "      display: none;\n",
              "      fill: #1967D2;\n",
              "      height: 32px;\n",
              "      padding: 0 0 0 0;\n",
              "      width: 32px;\n",
              "    }\n",
              "\n",
              "    .colab-df-convert:hover {\n",
              "      background-color: #E2EBFA;\n",
              "      box-shadow: 0px 1px 2px rgba(60, 64, 67, 0.3), 0px 1px 3px 1px rgba(60, 64, 67, 0.15);\n",
              "      fill: #174EA6;\n",
              "    }\n",
              "\n",
              "    [theme=dark] .colab-df-convert {\n",
              "      background-color: #3B4455;\n",
              "      fill: #D2E3FC;\n",
              "    }\n",
              "\n",
              "    [theme=dark] .colab-df-convert:hover {\n",
              "      background-color: #434B5C;\n",
              "      box-shadow: 0px 1px 3px 1px rgba(0, 0, 0, 0.15);\n",
              "      filter: drop-shadow(0px 1px 2px rgba(0, 0, 0, 0.3));\n",
              "      fill: #FFFFFF;\n",
              "    }\n",
              "  </style>\n",
              "\n",
              "      <script>\n",
              "        const buttonEl =\n",
              "          document.querySelector('#df-a0e2d861-b095-4b3c-80b0-4fe3bfd2d3fe button.colab-df-convert');\n",
              "        buttonEl.style.display =\n",
              "          google.colab.kernel.accessAllowed ? 'block' : 'none';\n",
              "\n",
              "        async function convertToInteractive(key) {\n",
              "          const element = document.querySelector('#df-a0e2d861-b095-4b3c-80b0-4fe3bfd2d3fe');\n",
              "          const dataTable =\n",
              "            await google.colab.kernel.invokeFunction('convertToInteractive',\n",
              "                                                     [key], {});\n",
              "          if (!dataTable) return;\n",
              "\n",
              "          const docLinkHtml = 'Like what you see? Visit the ' +\n",
              "            '<a target=\"_blank\" href=https://colab.research.google.com/notebooks/data_table.ipynb>data table notebook</a>'\n",
              "            + ' to learn more about interactive tables.';\n",
              "          element.innerHTML = '';\n",
              "          dataTable['output_type'] = 'display_data';\n",
              "          await google.colab.output.renderOutput(dataTable, element);\n",
              "          const docLink = document.createElement('div');\n",
              "          docLink.innerHTML = docLinkHtml;\n",
              "          element.appendChild(docLink);\n",
              "        }\n",
              "      </script>\n",
              "    </div>\n",
              "  </div>\n",
              "  "
            ],
            "text/plain": [
              "                       RS   VEL    TMP    HUM\n",
              "Date_time                                    \n",
              "2018-01-01 00:00:00  1.10  1.43  10.61  89.96\n",
              "2018-01-01 01:00:00  0.62  0.27  10.25  86.96\n",
              "2018-01-01 02:00:00  0.49  0.23   9.89  86.76\n",
              "2018-01-01 03:00:00  0.89  0.98   9.50  90.40\n",
              "2018-01-01 04:00:00  0.96  1.80   9.11  87.78"
            ]
          },
          "metadata": {},
          "execution_count": 76
        }
      ]
    },
    {
      "cell_type": "code",
      "source": [
        "df2018.isna().sum()"
      ],
      "metadata": {
        "colab": {
          "base_uri": "https://localhost:8080/"
        },
        "id": "yqLMEu2z0z5h",
        "outputId": "9fbc0554-33df-4e8c-eca1-3f1c9a3c24f6"
      },
      "execution_count": 62,
      "outputs": [
        {
          "output_type": "execute_result",
          "data": {
            "text/plain": [
              "RS     1\n",
              "VEL    1\n",
              "TMP    2\n",
              "HUM    2\n",
              "dtype: int64"
            ]
          },
          "metadata": {},
          "execution_count": 62
        }
      ]
    },
    {
      "cell_type": "code",
      "source": [
        "df2018 = df2018.fillna(method='backfill')"
      ],
      "metadata": {
        "id": "-0kTfnz91NeF"
      },
      "execution_count": 65,
      "outputs": []
    },
    {
      "cell_type": "code",
      "source": [
        "corr_matrix = df2018.corr()"
      ],
      "metadata": {
        "id": "i7JevUYP1ak5"
      },
      "execution_count": 67,
      "outputs": []
    },
    {
      "cell_type": "code",
      "source": [
        "import seaborn as sns"
      ],
      "metadata": {
        "id": "sPUF8ZtD1o8B"
      },
      "execution_count": 68,
      "outputs": []
    },
    {
      "cell_type": "code",
      "source": [
        "sns.clustermap(corr_matrix,annot=True,figsize=(13,13))"
      ],
      "metadata": {
        "colab": {
          "base_uri": "https://localhost:8080/",
          "height": 962
        },
        "id": "k3O5JU081mht",
        "outputId": "5e956282-6e24-4a0e-836c-32cc689b0dc6"
      },
      "execution_count": 69,
      "outputs": [
        {
          "output_type": "execute_result",
          "data": {
            "text/plain": [
              "<seaborn.matrix.ClusterGrid at 0x7efc90c9e390>"
            ]
          },
          "metadata": {},
          "execution_count": 69
        },
        {
          "output_type": "display_data",
          "data": {
            "image/png": "[encoded data removed]",
            "text/plain": [
              "<Figure size 936x936 with 4 Axes>"
            ]
          },
          "metadata": {
            "needs_background": "light"
          }
        }
      ]
    },
    {
      "cell_type": "code",
      "source": [
        "corr_matrix['RS'].sort_values(ascending=False)"
      ],
      "metadata": {
        "colab": {
          "base_uri": "https://localhost:8080/"
        },
        "id": "tW_lc9CV1qUl",
        "outputId": "af5727fa-f3ec-4c7a-b084-2d0a682914d8"
      },
      "execution_count": 71,
      "outputs": [
        {
          "output_type": "execute_result",
          "data": {
            "text/plain": [
              "RS     1.000000\n",
              "TMP    0.811943\n",
              "VEL    0.376321\n",
              "HUM   -0.760631\n",
              "Name: RS, dtype: float64"
            ]
          },
          "metadata": {},
          "execution_count": 71
        }
      ]
    },
    {
      "cell_type": "code",
      "source": [
        "dfDay = df2018.between_time('08:00:00','17:00:00')"
      ],
      "metadata": {
        "id": "VJCwYZLa3bLV"
      },
      "execution_count": 81,
      "outputs": []
    },
    {
      "cell_type": "code",
      "source": [
        "dfDay.head()"
      ],
      "metadata": {
        "colab": {
          "base_uri": "https://localhost:8080/",
          "height": 238
        },
        "id": "cuqv7xjW3cR9",
        "outputId": "80c63f17-dcf3-438d-86fd-0cb80665d4b0"
      },
      "execution_count": 82,
      "outputs": [
        {
          "output_type": "execute_result",
          "data": {
            "text/html": [
              "\n",
              "  <div id=\"df-7f965fdb-ca5c-4f48-b2ed-7e8feec61e21\">\n",
              "    <div class=\"colab-df-container\">\n",
              "      <div>\n",
              "<style scoped>\n",
              "    .dataframe tbody tr th:only-of-type {\n",
              "        vertical-align: middle;\n",
              "    }\n",
              "\n",
              "    .dataframe tbody tr th {\n",
              "        vertical-align: top;\n",
              "    }\n",
              "\n",
              "    .dataframe thead th {\n",
              "        text-align: right;\n",
              "    }\n",
              "</style>\n",
              "<table border=\"1\" class=\"dataframe\">\n",
              "  <thead>\n",
              "    <tr style=\"text-align: right;\">\n",
              "      <th></th>\n",
              "      <th>RS</th>\n",
              "      <th>VEL</th>\n",
              "      <th>TMP</th>\n",
              "      <th>HUM</th>\n",
              "    </tr>\n",
              "    <tr>\n",
              "      <th>Date_time</th>\n",
              "      <th></th>\n",
              "      <th></th>\n",
              "      <th></th>\n",
              "      <th></th>\n",
              "    </tr>\n",
              "  </thead>\n",
              "  <tbody>\n",
              "    <tr>\n",
              "      <th>2018-01-01 08:00:00</th>\n",
              "      <td>125.56</td>\n",
              "      <td>0.34</td>\n",
              "      <td>8.89</td>\n",
              "      <td>87.28</td>\n",
              "    </tr>\n",
              "    <tr>\n",
              "      <th>2018-01-01 09:00:00</th>\n",
              "      <td>143.08</td>\n",
              "      <td>0.64</td>\n",
              "      <td>9.90</td>\n",
              "      <td>83.10</td>\n",
              "    </tr>\n",
              "    <tr>\n",
              "      <th>2018-01-01 10:00:00</th>\n",
              "      <td>231.17</td>\n",
              "      <td>0.20</td>\n",
              "      <td>10.56</td>\n",
              "      <td>79.21</td>\n",
              "    </tr>\n",
              "    <tr>\n",
              "      <th>2018-01-01 11:00:00</th>\n",
              "      <td>331.68</td>\n",
              "      <td>0.89</td>\n",
              "      <td>11.65</td>\n",
              "      <td>76.64</td>\n",
              "    </tr>\n",
              "    <tr>\n",
              "      <th>2018-01-01 12:00:00</th>\n",
              "      <td>250.38</td>\n",
              "      <td>1.29</td>\n",
              "      <td>11.61</td>\n",
              "      <td>78.24</td>\n",
              "    </tr>\n",
              "  </tbody>\n",
              "</table>\n",
              "</div>\n",
              "      <button class=\"colab-df-convert\" onclick=\"convertToInteractive('df-7f965fdb-ca5c-4f48-b2ed-7e8feec61e21')\"\n",
              "              title=\"Convert this dataframe to an interactive table.\"\n",
              "              style=\"display:none;\">\n",
              "        \n",
              "  <svg xmlns=\"http://www.w3.org/2000/svg\" height=\"24px\"viewBox=\"0 0 24 24\"\n",
              "       width=\"24px\">\n",
              "    <path d=\"M0 0h24v24H0V0z\" fill=\"none\"/>\n",
              "    <path d=\"M18.56 5.44l.94 2.06.94-2.06 2.06-.94-2.06-.94-.94-2.06-.94 2.06-2.06.94zm-11 1L8.5 8.5l.94-2.06 2.06-.94-2.06-.94L8.5 2.5l-.94 2.06-2.06.94zm10 10l.94 2.06.94-2.06 2.06-.94-2.06-.94-.94-2.06-.94 2.06-2.06.94z\"/><path d=\"M17.41 7.96l-1.37-1.37c-.4-.4-.92-.59-1.43-.59-.52 0-1.04.2-1.43.59L10.3 9.45l-7.72 7.72c-.78.78-.78 2.05 0 2.83L4 21.41c.39.39.9.59 1.41.59.51 0 1.02-.2 1.41-.59l7.78-7.78 2.81-2.81c.8-.78.8-2.07 0-2.86zM5.41 20L4 18.59l7.72-7.72 1.47 1.35L5.41 20z\"/>\n",
              "  </svg>\n",
              "      </button>\n",
              "      \n",
              "  <style>\n",
              "    .colab-df-container {\n",
              "      display:flex;\n",
              "      flex-wrap:wrap;\n",
              "      gap: 12px;\n",
              "    }\n",
              "\n",
              "    .colab-df-convert {\n",
              "      background-color: #E8F0FE;\n",
              "      border: none;\n",
              "      border-radius: 50%;\n",
              "      cursor: pointer;\n",
              "      display: none;\n",
              "      fill: #1967D2;\n",
              "      height: 32px;\n",
              "      padding: 0 0 0 0;\n",
              "      width: 32px;\n",
              "    }\n",
              "\n",
              "    .colab-df-convert:hover {\n",
              "      background-color: #E2EBFA;\n",
              "      box-shadow: 0px 1px 2px rgba(60, 64, 67, 0.3), 0px 1px 3px 1px rgba(60, 64, 67, 0.15);\n",
              "      fill: #174EA6;\n",
              "    }\n",
              "\n",
              "    [theme=dark] .colab-df-convert {\n",
              "      background-color: #3B4455;\n",
              "      fill: #D2E3FC;\n",
              "    }\n",
              "\n",
              "    [theme=dark] .colab-df-convert:hover {\n",
              "      background-color: #434B5C;\n",
              "      box-shadow: 0px 1px 3px 1px rgba(0, 0, 0, 0.15);\n",
              "      filter: drop-shadow(0px 1px 2px rgba(0, 0, 0, 0.3));\n",
              "      fill: #FFFFFF;\n",
              "    }\n",
              "  </style>\n",
              "\n",
              "      <script>\n",
              "        const buttonEl =\n",
              "          document.querySelector('#df-7f965fdb-ca5c-4f48-b2ed-7e8feec61e21 button.colab-df-convert');\n",
              "        buttonEl.style.display =\n",
              "          google.colab.kernel.accessAllowed ? 'block' : 'none';\n",
              "\n",
              "        async function convertToInteractive(key) {\n",
              "          const element = document.querySelector('#df-7f965fdb-ca5c-4f48-b2ed-7e8feec61e21');\n",
              "          const dataTable =\n",
              "            await google.colab.kernel.invokeFunction('convertToInteractive',\n",
              "                                                     [key], {});\n",
              "          if (!dataTable) return;\n",
              "\n",
              "          const docLinkHtml = 'Like what you see? Visit the ' +\n",
              "            '<a target=\"_blank\" href=https://colab.research.google.com/notebooks/data_table.ipynb>data table notebook</a>'\n",
              "            + ' to learn more about interactive tables.';\n",
              "          element.innerHTML = '';\n",
              "          dataTable['output_type'] = 'display_data';\n",
              "          await google.colab.output.renderOutput(dataTable, element);\n",
              "          const docLink = document.createElement('div');\n",
              "          docLink.innerHTML = docLinkHtml;\n",
              "          element.appendChild(docLink);\n",
              "        }\n",
              "      </script>\n",
              "    </div>\n",
              "  </div>\n",
              "  "
            ],
            "text/plain": [
              "                         RS   VEL    TMP    HUM\n",
              "Date_time                                      \n",
              "2018-01-01 08:00:00  125.56  0.34   8.89  87.28\n",
              "2018-01-01 09:00:00  143.08  0.64   9.90  83.10\n",
              "2018-01-01 10:00:00  231.17  0.20  10.56  79.21\n",
              "2018-01-01 11:00:00  331.68  0.89  11.65  76.64\n",
              "2018-01-01 12:00:00  250.38  1.29  11.61  78.24"
            ]
          },
          "metadata": {},
          "execution_count": 82
        }
      ]
    },
    {
      "cell_type": "code",
      "source": [
        "corr_matrix = dfDay.corr()"
      ],
      "metadata": {
        "id": "2E16Awi92Ijl"
      },
      "execution_count": 83,
      "outputs": []
    },
    {
      "cell_type": "markdown",
      "source": [
        "La correlación con temperatura y humedad se mantiene, pero no con la velocidad del viento."
      ],
      "metadata": {
        "id": "lH4Me66w20B8"
      }
    },
    {
      "cell_type": "code",
      "source": [
        "corr_matrix['RS'].sort_values(ascending=False)"
      ],
      "metadata": {
        "colab": {
          "base_uri": "https://localhost:8080/"
        },
        "id": "aeELZz332a59",
        "outputId": "30c081ca-ccbf-4b9a-cbfa-0c1b9d3181cf"
      },
      "execution_count": 84,
      "outputs": [
        {
          "output_type": "execute_result",
          "data": {
            "text/plain": [
              "RS     1.000000\n",
              "TMP    0.664237\n",
              "VEL    0.035195\n",
              "HUM   -0.669815\n",
              "Name: RS, dtype: float64"
            ]
          },
          "metadata": {},
          "execution_count": 84
        }
      ]
    },
    {
      "cell_type": "code",
      "source": [
        ""
      ],
      "metadata": {
        "id": "8bYUGMBm4Ett"
      },
      "execution_count": null,
      "outputs": []
    }
  ]
}